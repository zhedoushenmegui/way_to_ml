{
 "cells": [
  {
   "cell_type": "code",
   "execution_count": 1,
   "metadata": {},
   "outputs": [],
   "source": [
    "import pyspark\n",
    "from pyspark import SparkContext\n",
    "from pyspark.sql import SQLContext"
   ]
  },
  {
   "cell_type": "code",
   "execution_count": 2,
   "metadata": {},
   "outputs": [],
   "source": [
    "master = 'local'\n",
    "sc = SparkContext(master, 'Sum')"
   ]
  },
  {
   "cell_type": "code",
   "execution_count": null,
   "metadata": {},
   "outputs": [],
   "source": []
  },
  {
   "cell_type": "code",
   "execution_count": 3,
   "metadata": {},
   "outputs": [],
   "source": [
    "data_path = '../../data/small_car_price_train.201908.csv'\n",
    "data_path1 = '../../data/small_car_price_test.201908.csv'\n",
    "\n",
    "sqlContext = SQLContext(sc)\n",
    "traindata = sqlContext.read.format('com.databricks.spark.csv').options(header='true', inferschema='true').load(data_path)\n",
    "testdata = sqlContext.read.format('com.databricks.spark.csv').options(header='true', inferschema='true').load(data_path1)"
   ]
  },
  {
   "cell_type": "markdown",
   "metadata": {},
   "source": [
    "# 回归\n",
    "### 线性回归"
   ]
  },
  {
   "cell_type": "code",
   "execution_count": 4,
   "metadata": {},
   "outputs": [],
   "source": [
    "from pyspark.ml.regression import LinearRegression"
   ]
  },
  {
   "cell_type": "code",
   "execution_count": 9,
   "metadata": {
    "scrolled": true
   },
   "outputs": [
    {
     "data": {
      "text/plain": [
       "['bumper_change',\n",
       " 'bumper_chromatic',\n",
       " 'bumper_flaw',\n",
       " 'bumper_metal',\n",
       " 'bumper_spray',\n",
       " 'car_box_type',\n",
       " 'car_height',\n",
       " 'car_length',\n",
       " 'car_width',\n",
       " 'chromatic_num',\n",
       " 'deal_city',\n",
       " 'displacement',\n",
       " 'door_chromatic',\n",
       " 'door_flaw',\n",
       " 'door_metal',\n",
       " 'door_spray',\n",
       " 'driving_seat_abnormal',\n",
       " 'driving_seat_abrasion',\n",
       " 'driving_seat_blister',\n",
       " 'driving_seat_damage',\n",
       " 'driving_seat_disassembly',\n",
       " 'driving_seat_flaw',\n",
       " 'driving_seat_smudginess',\n",
       " 'edition',\n",
       " 'emission',\n",
       " 'engine_intake_form',\n",
       " 'fender_change',\n",
       " 'fender_chromatic',\n",
       " 'fender_flaw',\n",
       " 'fender_metal',\n",
       " 'fender_spray',\n",
       " 'front_light_change',\n",
       " 'front_light_damage',\n",
       " 'front_light_flaw',\n",
       " 'gdp_level',\n",
       " 'gearbox_type',\n",
       " 'manufacturer',\n",
       " 'max_horse_power',\n",
       " 'metal_num',\n",
       " 'model_age',\n",
       " 'model_brand',\n",
       " 'model_series',\n",
       " 'model_year',\n",
       " 'pillar_change',\n",
       " 'pillar_chromatic',\n",
       " 'pillar_flaw',\n",
       " 'pillar_metal',\n",
       " 'pillar_spray',\n",
       " 'power_displacement_cartesian',\n",
       " 'region',\n",
       " 'seat_flaw',\n",
       " 'spray_num',\n",
       " 'steering_wheel_flaw',\n",
       " 'tire_flaw',\n",
       " 'transmission',\n",
       " 'trunk_change',\n",
       " 'trunk_chromatic',\n",
       " 'trunk_flaw',\n",
       " 'trunk_injury',\n",
       " 'trunk_metal',\n",
       " 'trunk_spray',\n",
       " 'used_months',\n",
       " 'transmission_case',\n",
       " 'mileage',\n",
       " 'used_ages',\n",
       " 'transfer_times',\n",
       " 'color',\n",
       " 'dipped_headlight',\n",
       " 'far_beam',\n",
       " 'is_electric_skylight',\n",
       " 'is_panoramic_sunroof']"
      ]
     },
     "execution_count": 9,
     "metadata": {},
     "output_type": "execute_result"
    }
   ],
   "source": [
    "feat_path = '../../running/gbdt/car_price_feat.txt'\n",
    "feats = list(filter(lambda x: x[0] != '#', [line.strip() for line in open(feat_path)]))\n",
    "feats"
   ]
  },
  {
   "cell_type": "code",
   "execution_count": null,
   "metadata": {},
   "outputs": [],
   "source": []
  },
  {
   "cell_type": "code",
   "execution_count": 10,
   "metadata": {},
   "outputs": [],
   "source": [
    "lr = LinearRegression(maxIter=10, regParam=0.3, elasticNetParam=0.8)"
   ]
  },
  {
   "cell_type": "code",
   "execution_count": 12,
   "metadata": {},
   "outputs": [
    {
     "data": {
      "text/plain": [
       "DataFrame[bumper_change: int, bumper_chromatic: int, bumper_flaw: int, bumper_metal: int, bumper_spray: int, car_box_type: string, car_height: double, car_length: double, car_width: double, chromatic_num: int, deal_city: string, displacement: double, door_chromatic: int, door_flaw: int, door_metal: int, door_spray: int, driving_seat_abnormal: int, driving_seat_abrasion: int, driving_seat_blister: int, driving_seat_damage: int, driving_seat_disassembly: int, driving_seat_flaw: int, driving_seat_smudginess: int, edition: string, emission: int, engine_intake_form: string, fender_change: int, fender_chromatic: int, fender_flaw: int, fender_metal: int, fender_spray: int, front_light_change: int, front_light_damage: int, front_light_flaw: int, gdp_level: int, gearbox_type: string, manufacturer: string, max_horse_power: int, metal_num: int, model_age: int, model_brand: string, model_series: string, model_year: int, pillar_change: int, pillar_chromatic: int, pillar_flaw: int, pillar_metal: int, pillar_spray: int, power_displacement_cartesian: string, region: string, seat_flaw: int, spray_num: int, steering_wheel_flaw: int, tire_flaw: int, transmission: string, trunk_change: int, trunk_chromatic: int, trunk_flaw: int, trunk_injury: int, trunk_metal: int, trunk_spray: int, used_months: int, transmission_case: int, mileage: double, used_ages: int, transfer_times: int, color: string, dipped_headlight: string, far_beam: string, is_electric_skylight: int, is_panoramic_sunroof: int]"
      ]
     },
     "execution_count": 12,
     "metadata": {},
     "output_type": "execute_result"
    }
   ],
   "source": [
    "traindata[feats]"
   ]
  },
  {
   "cell_type": "code",
   "execution_count": 27,
   "metadata": {},
   "outputs": [
    {
     "name": "stdout",
     "output_type": "stream",
     "text": [
      "+--------------+--------------+-------------+-------------+\n",
      "|categoryIndex1|categoryIndex2| categoryVec1| categoryVec2|\n",
      "+--------------+--------------+-------------+-------------+\n",
      "|           0.0|           1.0|(5,[0],[1.0])|(4,[1],[1.0])|\n",
      "|           1.0|           0.0|(5,[1],[1.0])|(4,[0],[1.0])|\n",
      "|           2.0|           1.0|(5,[2],[1.0])|(4,[1],[1.0])|\n",
      "|           0.0|           2.0|(5,[0],[1.0])|(4,[2],[1.0])|\n",
      "|           0.0|           1.0|(5,[0],[1.0])|(4,[1],[1.0])|\n",
      "|           4.0|           3.0|(5,[4],[1.0])|(4,[3],[1.0])|\n",
      "|           4.0|           1.0|(5,[4],[1.0])|(4,[1],[1.0])|\n",
      "|           2.0|           0.0|(5,[2],[1.0])|(4,[0],[1.0])|\n",
      "+--------------+--------------+-------------+-------------+\n",
      "\n"
     ]
    }
   ],
   "source": [
    "from pyspark.ml.feature import OneHotEncoderEstimator\n",
    "\n",
    "rdd = sc.parallelize([\n",
    "    (0.0, 1.0),\n",
    "    (1.0, 0.0),\n",
    "    (2.0, 1.0),\n",
    "    (0.0, 2.0),\n",
    "    (0.0, 1.0),\n",
    "    (4.0, 3.0),\n",
    "    (4.0, 1.0),\n",
    "    (2.0, 0.0)\n",
    "], 2)\n",
    "df = rdd.toDF([\"categoryIndex1\", \"categoryIndex2\"])\n",
    "\n",
    "encoder = OneHotEncoderEstimator(inputCols=[\"categoryIndex1\", \"categoryIndex2\"],\n",
    "                                 outputCols=[\"categoryVec1\", \"categoryVec2\"])\n",
    "encoder.setDropLast(False)\n",
    "model = encoder.fit(df)\n",
    "encoded = model.transform(df)\n",
    "encoded.show()"
   ]
  },
  {
   "cell_type": "code",
   "execution_count": 28,
   "metadata": {},
   "outputs": [
    {
     "data": {
      "text/plain": [
       "[Row(categoryIndex1=0.0, categoryIndex2=1.0, categoryVec1=SparseVector(5, {0: 1.0}), categoryVec2=SparseVector(4, {1: 1.0})),\n",
       " Row(categoryIndex1=1.0, categoryIndex2=0.0, categoryVec1=SparseVector(5, {1: 1.0}), categoryVec2=SparseVector(4, {0: 1.0})),\n",
       " Row(categoryIndex1=2.0, categoryIndex2=1.0, categoryVec1=SparseVector(5, {2: 1.0}), categoryVec2=SparseVector(4, {1: 1.0})),\n",
       " Row(categoryIndex1=0.0, categoryIndex2=2.0, categoryVec1=SparseVector(5, {0: 1.0}), categoryVec2=SparseVector(4, {2: 1.0})),\n",
       " Row(categoryIndex1=0.0, categoryIndex2=1.0, categoryVec1=SparseVector(5, {0: 1.0}), categoryVec2=SparseVector(4, {1: 1.0}))]"
      ]
     },
     "execution_count": 28,
     "metadata": {},
     "output_type": "execute_result"
    }
   ],
   "source": [
    "encoded.head(5)"
   ]
  },
  {
   "cell_type": "code",
   "execution_count": null,
   "metadata": {},
   "outputs": [],
   "source": []
  }
 ],
 "metadata": {
  "kernelspec": {
   "display_name": "Python 3",
   "language": "python",
   "name": "python3"
  },
  "language_info": {
   "codemirror_mode": {
    "name": "ipython",
    "version": 3
   },
   "file_extension": ".py",
   "mimetype": "text/x-python",
   "name": "python",
   "nbconvert_exporter": "python",
   "pygments_lexer": "ipython3",
   "version": "3.7.3"
  }
 },
 "nbformat": 4,
 "nbformat_minor": 2
}
