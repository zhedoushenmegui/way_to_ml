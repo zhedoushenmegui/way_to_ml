{
 "cells": [
  {
   "cell_type": "code",
   "execution_count": 1,
   "metadata": {},
   "outputs": [],
   "source": [
    "import copy\n",
    "import plotly\n",
    "from plotly import graph_objs as go\n",
    "import pyecharts\n",
    "import pandas as pd"
   ]
  },
  {
   "cell_type": "code",
   "execution_count": 2,
   "metadata": {},
   "outputs": [
    {
     "name": "stderr",
     "output_type": "stream",
     "text": [
      "/usr/local/lib/python3.7/site-packages/lightgbm/__init__.py:46: UserWarning:\n",
      "\n",
      "Starting from version 2.2.1, the library file in distribution wheels for macOS is built by the Apple Clang (Xcode_8.3.3) compiler.\n",
      "This means that in case of installing LightGBM from PyPI via the ``pip install lightgbm`` command, you don't need to install the gcc compiler anymore.\n",
      "Instead of that, you need to install the OpenMP library, which is required for running LightGBM on the system with the Apple Clang compiler.\n",
      "You can install the OpenMP library by the following command: ``brew install libomp``.\n",
      "\n"
     ]
    }
   ],
   "source": [
    "import lightgbm as lgb"
   ]
  },
  {
   "cell_type": "code",
   "execution_count": 3,
   "metadata": {},
   "outputs": [],
   "source": [
    "import pandas as pd\n",
    "import numpy as np"
   ]
  },
  {
   "cell_type": "code",
   "execution_count": 4,
   "metadata": {},
   "outputs": [],
   "source": [
    "import os\n",
    "project_path = os.path.abspath(os.path.join(os.path.dirname(os.path.abspath('.')), '../'))\n",
    "import sys\n",
    "sys.path.append(project_path)\n",
    "from util.data_process import DataProcess"
   ]
  },
  {
   "cell_type": "code",
   "execution_count": 5,
   "metadata": {},
   "outputs": [],
   "source": [
    "def evaluate(d_test, pred, silent=1):\n",
    "    new_d_test = d_test.copy()\n",
    "    new_d_test['pred'] = pred\n",
    "    new_d_test['err'] = new_d_test.apply(lambda row: row.price - row.pred, axis=1)\n",
    "    new_d_test['abserr'] = new_d_test.err.map(lambda x: abs(x))\n",
    "    new_d_test['ape'] = new_d_test.apply(lambda row: row.abserr / row.price, axis=1)\n",
    "    mape = np.mean(new_d_test.ape)\n",
    "    accuracy5p = len(list(filter(lambda x: x <= 0.05, new_d_test.ape))) / len(new_d_test)\n",
    "    mse = np.mean(new_d_test.err * new_d_test.err)\n",
    "    rmse = np.sqrt(mse)\n",
    "    if silent:\n",
    "        print(f'5%: {round(accuracy5p, 4)*100}%')\n",
    "        print(f'mse: {round(mse, 4)}')\n",
    "        print(f'MAPE: {round(mape * 100, 2)}%')\n",
    "        print(f'rmse: {round(rmse, 4)}')\n",
    "    return rmse\n",
    "def gen_line_plotly(img_path, df, attrs=None, names=None, consult_cols=None, **kwargs):\n",
    "    if isinstance(df, dict):\n",
    "        df = pd.DataFrame(df)\n",
    "    keys = list(df.columns) if names is None else names\n",
    "    if attrs is None:\n",
    "        attrs = [f'att{i}' for i in range(len(df))]\n",
    "    elif len(attrs) != len(df):\n",
    "        raise Exception('attrs length error.')\n",
    "    else:\n",
    "        attrs = [f'_{i}' for i in attrs]\n",
    "    ####\n",
    "    data = [go.Scatter(x=attrs, y=df[keys[i]], name=keys[i]) for i in range(len(keys))]\n",
    "    if consult_cols:\n",
    "        data += [go.Scatter(x=attrs, y=line, name='-', line={'dash': 'dot'}) for line in consult_cols]\n",
    "    plotly.offline.plot({\n",
    "        \"data\": data,\n",
    "        \"layout\": go.Layout(title=kwargs.get('graph_name', '-'))\n",
    "    },\n",
    "        filename=img_path,\n",
    "        auto_open=kwargs.get('auto_open', False)\n",
    "    )\n"
   ]
  },
  {
   "cell_type": "code",
   "execution_count": 6,
   "metadata": {},
   "outputs": [
    {
     "data": {
      "text/plain": [
       "'/Users/lemon/PycharmProjects/way_to_ml'"
      ]
     },
     "execution_count": 6,
     "metadata": {},
     "output_type": "execute_result"
    }
   ],
   "source": [
    "project_path"
   ]
  },
  {
   "cell_type": "code",
   "execution_count": 7,
   "metadata": {},
   "outputs": [],
   "source": [
    "data_train = pd.read_csv(f'{project_path}/data/car_price_train.201908.csv')\n",
    "data_test = pd.read_csv(f'{project_path}/data/car_price_test.201908.csv')\n",
    "###\n",
    "series_name = '宝马5系'\n",
    "d_train = data_train[data_train.model_series == series_name]\n",
    "d_test = data_test[data_test.model_series == series_name]"
   ]
  },
  {
   "cell_type": "code",
   "execution_count": 8,
   "metadata": {},
   "outputs": [],
   "source": [
    "with open('car_price_feat.txt') as f:\n",
    "    feat_list = list(filter(lambda x: x[0] != '#', f.read().split('\\n')))"
   ]
  },
  {
   "cell_type": "code",
   "execution_count": 9,
   "metadata": {},
   "outputs": [],
   "source": [
    "label_encode_map, f_map = DataProcess.gencode(pd.concat([data_train, data_test]), feat_list)\n",
    "en_train, en_test = DataProcess.encode_process(d_train[feat_list], feat_list, label_encode_map), DataProcess.encode_process(d_test[feat_list], feat_list, label_encode_map)"
   ]
  },
  {
   "cell_type": "code",
   "execution_count": 10,
   "metadata": {},
   "outputs": [],
   "source": [
    "train_data = lgb.Dataset(en_train, label=d_train.price)\n",
    "test_data = lgb.Dataset(en_test)"
   ]
  },
  {
   "cell_type": "code",
   "execution_count": null,
   "metadata": {},
   "outputs": [],
   "source": [
    "# objective regression, type = enum, options: regression, regression_l1, huber, fair, poisson, quantile, mape, gamma, tweedie, binary, multiclass, multiclassova, cross_entropy, cross_entropy_lambda, lambdarank\n",
    "# boosting default = gbdt, type = enum, options: gbdt, rf, dart, goss, aliases: boosting_type, boost\n",
    "# num_iterations  aliases: num_iteration, n_iter, num_tree, num_trees, num_round, num_rounds, num_boost_round, n_estimators"
   ]
  },
  {
   "cell_type": "code",
   "execution_count": 11,
   "metadata": {},
   "outputs": [],
   "source": [
    "def run(param, num_round=200):\n",
    "    bst = lgb.train(param, train_data, num_round)\n",
    "    pred = bst.predict(en_test)\n",
    "    r = evaluate(d_test, pred, 0)\n",
    "    return r"
   ]
  },
  {
   "cell_type": "code",
   "execution_count": 12,
   "metadata": {},
   "outputs": [
    {
     "name": "stderr",
     "output_type": "stream",
     "text": [
      "/usr/local/lib/python3.7/site-packages/lightgbm/engine.py:118: UserWarning:\n",
      "\n",
      "Found `num_iterations` in params. Will use it instead of argument\n",
      "\n"
     ]
    },
    {
     "data": {
      "text/plain": [
       "2.2250486964004565"
      ]
     },
     "execution_count": 12,
     "metadata": {},
     "output_type": "execute_result"
    }
   ],
   "source": [
    "core_params = {\n",
    "    #'task': train, predict, convert_model, refit\n",
    "    'objective': 'mape',\n",
    "    'boosting': 'gbdt',  # gbdt, rf, dart, goss\n",
    "    'learning_rate': 0.12, # 0.1\n",
    "    'num_leaves': 6,\n",
    "    'num_iterations': 270, # 100\n",
    "    'tree_learner': 'data', # serial, feature, data, voting\n",
    "}\n",
    "learning_params = {\n",
    "    'max_depth': 3, # -1\n",
    "    'min_data_in_leaf': 21, # 20\n",
    "    'min_sum_hessian_in_leaf': 0.001,  # 0.001\n",
    "    'bagging_fraction': 0.9, # 采样 subsample\n",
    "    'feature_fraction': 0.24, # 1\n",
    "    'max_delta_step': 0, # 0 更保守, max_tree_output max_leaf_output\n",
    "    'lambda_l1': 0.7, \n",
    "    'lambda_l2': 2.5,\n",
    "    'min_gain_to_split': 0.0001,\n",
    "}\n",
    "io_params = {\n",
    "    'verbosity': 2,\n",
    "    'max_bin': 255, # \n",
    "}\n",
    "metric_params = {\n",
    "    'metric': 'rmse',\n",
    "}\n",
    "lgb_params = {\n",
    "    **core_params,\n",
    "    **learning_params,\n",
    "    **metric_params,\n",
    "    **io_params,\n",
    "}\n",
    "run(lgb_params)"
   ]
  },
  {
   "cell_type": "code",
   "execution_count": 25,
   "metadata": {},
   "outputs": [
    {
     "data": {
      "text/plain": [
       "2.2308714577480253"
      ]
     },
     "execution_count": 25,
     "metadata": {},
     "output_type": "execute_result"
    }
   ],
   "source": [
    "train_data1 = lgb.Dataset(en_train, label=d_train.price, categorical_feature=['deal_city', ])\n",
    "bst = lgb.train(lgb_params, train_data1)\n",
    "pred = bst.predict(en_test)\n",
    "r = evaluate(d_test, pred, 0)\n",
    "r"
   ]
  },
  {
   "cell_type": "code",
   "execution_count": 20,
   "metadata": {},
   "outputs": [
    {
     "data": {
      "text/html": [
       "<div>\n",
       "<style scoped>\n",
       "    .dataframe tbody tr th:only-of-type {\n",
       "        vertical-align: middle;\n",
       "    }\n",
       "\n",
       "    .dataframe tbody tr th {\n",
       "        vertical-align: top;\n",
       "    }\n",
       "\n",
       "    .dataframe thead th {\n",
       "        text-align: right;\n",
       "    }\n",
       "</style>\n",
       "<table border=\"1\" class=\"dataframe\">\n",
       "  <thead>\n",
       "    <tr style=\"text-align: right;\">\n",
       "      <th></th>\n",
       "      <th>feat</th>\n",
       "      <th>importance</th>\n",
       "    </tr>\n",
       "  </thead>\n",
       "  <tbody>\n",
       "    <tr>\n",
       "      <th>61</th>\n",
       "      <td>used_months</td>\n",
       "      <td>87</td>\n",
       "    </tr>\n",
       "    <tr>\n",
       "      <th>10</th>\n",
       "      <td>deal_city</td>\n",
       "      <td>86</td>\n",
       "    </tr>\n",
       "    <tr>\n",
       "      <th>63</th>\n",
       "      <td>mileage</td>\n",
       "      <td>86</td>\n",
       "    </tr>\n",
       "    <tr>\n",
       "      <th>23</th>\n",
       "      <td>edition</td>\n",
       "      <td>52</td>\n",
       "    </tr>\n",
       "    <tr>\n",
       "      <th>48</th>\n",
       "      <td>power_displacement_cartesian</td>\n",
       "      <td>46</td>\n",
       "    </tr>\n",
       "    <tr>\n",
       "      <th>28</th>\n",
       "      <td>fender_flaw</td>\n",
       "      <td>45</td>\n",
       "    </tr>\n",
       "    <tr>\n",
       "      <th>39</th>\n",
       "      <td>model_age</td>\n",
       "      <td>44</td>\n",
       "    </tr>\n",
       "    <tr>\n",
       "      <th>49</th>\n",
       "      <td>region</td>\n",
       "      <td>42</td>\n",
       "    </tr>\n",
       "    <tr>\n",
       "      <th>6</th>\n",
       "      <td>car_height</td>\n",
       "      <td>36</td>\n",
       "    </tr>\n",
       "    <tr>\n",
       "      <th>68</th>\n",
       "      <td>far_beam</td>\n",
       "      <td>32</td>\n",
       "    </tr>\n",
       "    <tr>\n",
       "      <th>11</th>\n",
       "      <td>displacement</td>\n",
       "      <td>32</td>\n",
       "    </tr>\n",
       "    <tr>\n",
       "      <th>37</th>\n",
       "      <td>max_horse_power</td>\n",
       "      <td>28</td>\n",
       "    </tr>\n",
       "    <tr>\n",
       "      <th>51</th>\n",
       "      <td>spray_num</td>\n",
       "      <td>27</td>\n",
       "    </tr>\n",
       "    <tr>\n",
       "      <th>64</th>\n",
       "      <td>used_ages</td>\n",
       "      <td>27</td>\n",
       "    </tr>\n",
       "    <tr>\n",
       "      <th>42</th>\n",
       "      <td>model_year</td>\n",
       "      <td>26</td>\n",
       "    </tr>\n",
       "    <tr>\n",
       "      <th>66</th>\n",
       "      <td>color</td>\n",
       "      <td>25</td>\n",
       "    </tr>\n",
       "    <tr>\n",
       "      <th>13</th>\n",
       "      <td>door_flaw</td>\n",
       "      <td>22</td>\n",
       "    </tr>\n",
       "    <tr>\n",
       "      <th>65</th>\n",
       "      <td>transfer_times</td>\n",
       "      <td>21</td>\n",
       "    </tr>\n",
       "    <tr>\n",
       "      <th>0</th>\n",
       "      <td>bumper_change</td>\n",
       "      <td>17</td>\n",
       "    </tr>\n",
       "    <tr>\n",
       "      <th>38</th>\n",
       "      <td>metal_num</td>\n",
       "      <td>16</td>\n",
       "    </tr>\n",
       "    <tr>\n",
       "      <th>14</th>\n",
       "      <td>door_metal</td>\n",
       "      <td>13</td>\n",
       "    </tr>\n",
       "    <tr>\n",
       "      <th>45</th>\n",
       "      <td>pillar_flaw</td>\n",
       "      <td>12</td>\n",
       "    </tr>\n",
       "    <tr>\n",
       "      <th>7</th>\n",
       "      <td>car_length</td>\n",
       "      <td>12</td>\n",
       "    </tr>\n",
       "    <tr>\n",
       "      <th>67</th>\n",
       "      <td>dipped_headlight</td>\n",
       "      <td>11</td>\n",
       "    </tr>\n",
       "    <tr>\n",
       "      <th>30</th>\n",
       "      <td>fender_spray</td>\n",
       "      <td>11</td>\n",
       "    </tr>\n",
       "    <tr>\n",
       "      <th>34</th>\n",
       "      <td>gdp_level</td>\n",
       "      <td>9</td>\n",
       "    </tr>\n",
       "    <tr>\n",
       "      <th>29</th>\n",
       "      <td>fender_metal</td>\n",
       "      <td>8</td>\n",
       "    </tr>\n",
       "    <tr>\n",
       "      <th>24</th>\n",
       "      <td>emission</td>\n",
       "      <td>8</td>\n",
       "    </tr>\n",
       "    <tr>\n",
       "      <th>2</th>\n",
       "      <td>bumper_flaw</td>\n",
       "      <td>7</td>\n",
       "    </tr>\n",
       "    <tr>\n",
       "      <th>8</th>\n",
       "      <td>car_width</td>\n",
       "      <td>5</td>\n",
       "    </tr>\n",
       "    <tr>\n",
       "      <th>...</th>\n",
       "      <td>...</td>\n",
       "      <td>...</td>\n",
       "    </tr>\n",
       "    <tr>\n",
       "      <th>58</th>\n",
       "      <td>trunk_injury</td>\n",
       "      <td>0</td>\n",
       "    </tr>\n",
       "    <tr>\n",
       "      <th>55</th>\n",
       "      <td>trunk_change</td>\n",
       "      <td>0</td>\n",
       "    </tr>\n",
       "    <tr>\n",
       "      <th>54</th>\n",
       "      <td>transmission</td>\n",
       "      <td>0</td>\n",
       "    </tr>\n",
       "    <tr>\n",
       "      <th>56</th>\n",
       "      <td>trunk_chromatic</td>\n",
       "      <td>0</td>\n",
       "    </tr>\n",
       "    <tr>\n",
       "      <th>69</th>\n",
       "      <td>is_electric_skylight</td>\n",
       "      <td>0</td>\n",
       "    </tr>\n",
       "    <tr>\n",
       "      <th>52</th>\n",
       "      <td>steering_wheel_flaw</td>\n",
       "      <td>0</td>\n",
       "    </tr>\n",
       "    <tr>\n",
       "      <th>50</th>\n",
       "      <td>seat_flaw</td>\n",
       "      <td>0</td>\n",
       "    </tr>\n",
       "    <tr>\n",
       "      <th>59</th>\n",
       "      <td>trunk_metal</td>\n",
       "      <td>0</td>\n",
       "    </tr>\n",
       "    <tr>\n",
       "      <th>35</th>\n",
       "      <td>gearbox_type</td>\n",
       "      <td>0</td>\n",
       "    </tr>\n",
       "    <tr>\n",
       "      <th>46</th>\n",
       "      <td>pillar_metal</td>\n",
       "      <td>0</td>\n",
       "    </tr>\n",
       "    <tr>\n",
       "      <th>20</th>\n",
       "      <td>driving_seat_disassembly</td>\n",
       "      <td>0</td>\n",
       "    </tr>\n",
       "    <tr>\n",
       "      <th>3</th>\n",
       "      <td>bumper_metal</td>\n",
       "      <td>0</td>\n",
       "    </tr>\n",
       "    <tr>\n",
       "      <th>5</th>\n",
       "      <td>car_box_type</td>\n",
       "      <td>0</td>\n",
       "    </tr>\n",
       "    <tr>\n",
       "      <th>9</th>\n",
       "      <td>chromatic_num</td>\n",
       "      <td>0</td>\n",
       "    </tr>\n",
       "    <tr>\n",
       "      <th>12</th>\n",
       "      <td>door_chromatic</td>\n",
       "      <td>0</td>\n",
       "    </tr>\n",
       "    <tr>\n",
       "      <th>16</th>\n",
       "      <td>driving_seat_abnormal</td>\n",
       "      <td>0</td>\n",
       "    </tr>\n",
       "    <tr>\n",
       "      <th>17</th>\n",
       "      <td>driving_seat_abrasion</td>\n",
       "      <td>0</td>\n",
       "    </tr>\n",
       "    <tr>\n",
       "      <th>18</th>\n",
       "      <td>driving_seat_blister</td>\n",
       "      <td>0</td>\n",
       "    </tr>\n",
       "    <tr>\n",
       "      <th>19</th>\n",
       "      <td>driving_seat_damage</td>\n",
       "      <td>0</td>\n",
       "    </tr>\n",
       "    <tr>\n",
       "      <th>21</th>\n",
       "      <td>driving_seat_flaw</td>\n",
       "      <td>0</td>\n",
       "    </tr>\n",
       "    <tr>\n",
       "      <th>44</th>\n",
       "      <td>pillar_chromatic</td>\n",
       "      <td>0</td>\n",
       "    </tr>\n",
       "    <tr>\n",
       "      <th>22</th>\n",
       "      <td>driving_seat_smudginess</td>\n",
       "      <td>0</td>\n",
       "    </tr>\n",
       "    <tr>\n",
       "      <th>27</th>\n",
       "      <td>fender_chromatic</td>\n",
       "      <td>0</td>\n",
       "    </tr>\n",
       "    <tr>\n",
       "      <th>32</th>\n",
       "      <td>front_light_damage</td>\n",
       "      <td>0</td>\n",
       "    </tr>\n",
       "    <tr>\n",
       "      <th>1</th>\n",
       "      <td>bumper_chromatic</td>\n",
       "      <td>0</td>\n",
       "    </tr>\n",
       "    <tr>\n",
       "      <th>36</th>\n",
       "      <td>manufacturer</td>\n",
       "      <td>0</td>\n",
       "    </tr>\n",
       "    <tr>\n",
       "      <th>40</th>\n",
       "      <td>model_brand</td>\n",
       "      <td>0</td>\n",
       "    </tr>\n",
       "    <tr>\n",
       "      <th>41</th>\n",
       "      <td>model_series</td>\n",
       "      <td>0</td>\n",
       "    </tr>\n",
       "    <tr>\n",
       "      <th>43</th>\n",
       "      <td>pillar_change</td>\n",
       "      <td>0</td>\n",
       "    </tr>\n",
       "    <tr>\n",
       "      <th>70</th>\n",
       "      <td>is_panoramic_sunroof</td>\n",
       "      <td>0</td>\n",
       "    </tr>\n",
       "  </tbody>\n",
       "</table>\n",
       "<p>71 rows × 2 columns</p>\n",
       "</div>"
      ],
      "text/plain": [
       "                            feat  importance\n",
       "61                   used_months          87\n",
       "10                     deal_city          86\n",
       "63                       mileage          86\n",
       "23                       edition          52\n",
       "48  power_displacement_cartesian          46\n",
       "28                   fender_flaw          45\n",
       "39                     model_age          44\n",
       "49                        region          42\n",
       "6                     car_height          36\n",
       "68                      far_beam          32\n",
       "11                  displacement          32\n",
       "37               max_horse_power          28\n",
       "51                     spray_num          27\n",
       "64                     used_ages          27\n",
       "42                    model_year          26\n",
       "66                         color          25\n",
       "13                     door_flaw          22\n",
       "65                transfer_times          21\n",
       "0                  bumper_change          17\n",
       "38                     metal_num          16\n",
       "14                    door_metal          13\n",
       "45                   pillar_flaw          12\n",
       "7                     car_length          12\n",
       "67              dipped_headlight          11\n",
       "30                  fender_spray          11\n",
       "34                     gdp_level           9\n",
       "29                  fender_metal           8\n",
       "24                      emission           8\n",
       "2                    bumper_flaw           7\n",
       "8                      car_width           5\n",
       "..                           ...         ...\n",
       "58                  trunk_injury           0\n",
       "55                  trunk_change           0\n",
       "54                  transmission           0\n",
       "56               trunk_chromatic           0\n",
       "69          is_electric_skylight           0\n",
       "52           steering_wheel_flaw           0\n",
       "50                     seat_flaw           0\n",
       "59                   trunk_metal           0\n",
       "35                  gearbox_type           0\n",
       "46                  pillar_metal           0\n",
       "20      driving_seat_disassembly           0\n",
       "3                   bumper_metal           0\n",
       "5                   car_box_type           0\n",
       "9                  chromatic_num           0\n",
       "12                door_chromatic           0\n",
       "16         driving_seat_abnormal           0\n",
       "17         driving_seat_abrasion           0\n",
       "18          driving_seat_blister           0\n",
       "19           driving_seat_damage           0\n",
       "21             driving_seat_flaw           0\n",
       "44              pillar_chromatic           0\n",
       "22       driving_seat_smudginess           0\n",
       "27              fender_chromatic           0\n",
       "32            front_light_damage           0\n",
       "1               bumper_chromatic           0\n",
       "36                  manufacturer           0\n",
       "40                   model_brand           0\n",
       "41                  model_series           0\n",
       "43                 pillar_change           0\n",
       "70          is_panoramic_sunroof           0\n",
       "\n",
       "[71 rows x 2 columns]"
      ]
     },
     "execution_count": 20,
     "metadata": {},
     "output_type": "execute_result"
    }
   ],
   "source": [
    "fidf = pd.DataFrame({'feat': en_train.columns, 'importance': bst.feature_importance()})\n",
    "fidf.sort_values(by='importance', ascending=False)"
   ]
  },
  {
   "cell_type": "code",
   "execution_count": 225,
   "metadata": {},
   "outputs": [
    {
     "name": "stdout",
     "output_type": "stream",
     "text": [
      "best_rmse: 2.112436812913914\n"
     ]
    }
   ],
   "source": [
    "### metric\n",
    "### 默认0\n",
    "rmse_arr = {}\n",
    "for v in ['l1', 'l2', 'rmse', 'quantile', 'mape', 'huber', 'fair']:\n",
    "\n",
    "    d = copy.deepcopy(lgb_params)\n",
    "    d['metric'] = v\n",
    "    x = run(param=d)\n",
    "    rmse_arr[v] = x\n",
    "\n",
    "print(f'best_rmse: {min(list(rmse_arr.values()))}')\n",
    "gen_line_plotly(\n",
    "    img_path='./metric.html',\n",
    "    df={'a': list(rmse_arr.values())},\n",
    "    attrs=list(rmse_arr.keys()),\n",
    "    auto_open=1,\n",
    ")"
   ]
  },
  {
   "cell_type": "code",
   "execution_count": 223,
   "metadata": {},
   "outputs": [
    {
     "name": "stdout",
     "output_type": "stream",
     "text": [
      "best_rmse: 2.112436812913914\n"
     ]
    }
   ],
   "source": [
    "### max_bin 没啥效果\n",
    "### 默认0\n",
    "rmse_arr = {}\n",
    "for v in [10, 20, 50, 100, 200, 300, 500]:\n",
    "\n",
    "    d = copy.deepcopy(lgb_params)\n",
    "    d['max_bin'] = v\n",
    "    x = run(param=d)\n",
    "    rmse_arr[v] = x\n",
    "\n",
    "print(f'best_rmse: {min(list(rmse_arr.values()))}')\n",
    "gen_line_plotly(\n",
    "    img_path='./max_bin.html',\n",
    "    df={'a': list(rmse_arr.values())},\n",
    "    attrs=list(rmse_arr.keys()),\n",
    "    auto_open=1,\n",
    ")"
   ]
  },
  {
   "cell_type": "code",
   "execution_count": 210,
   "metadata": {},
   "outputs": [
    {
     "name": "stdout",
     "output_type": "stream",
     "text": [
      "best_rmse: 2.155366020865733\n"
     ]
    }
   ],
   "source": [
    "### min_gain_to_split\n",
    "### 默认0\n",
    "rmse_arr = {}\n",
    "for i in range(1, 10):\n",
    "    v = i / 1000\n",
    "    d = copy.deepcopy(lgb_params)\n",
    "    d['min_gain_to_split'] = v\n",
    "    x = run(param=d)\n",
    "    rmse_arr[v] = x\n",
    "\n",
    "print(f'best_rmse: {min(list(rmse_arr.values()))}')\n",
    "gen_line_plotly(\n",
    "    img_path='./min_gain_to_split.html',\n",
    "    df={'a': list(rmse_arr.values())},\n",
    "    attrs=list(rmse_arr.keys()),\n",
    "    auto_open=1,\n",
    ")"
   ]
  },
  {
   "cell_type": "code",
   "execution_count": 210,
   "metadata": {},
   "outputs": [
    {
     "name": "stdout",
     "output_type": "stream",
     "text": [
      "best_rmse: 2.155366020865733\n"
     ]
    }
   ],
   "source": [
    "### min_gain_to_split\n",
    "### 默认0\n",
    "rmse_arr = {}\n",
    "for i in range(1, 10):\n",
    "    v = i / 1000\n",
    "    d = copy.deepcopy(lgb_params)\n",
    "    d['min_gain_to_split'] = v\n",
    "    x = run(param=d)\n",
    "    rmse_arr[v] = x\n",
    "\n",
    "print(f'best_rmse: {min(list(rmse_arr.values()))}')\n",
    "gen_line_plotly(\n",
    "    img_path='./min_gain_to_split.html',\n",
    "    df={'a': list(rmse_arr.values())},\n",
    "    attrs=list(rmse_arr.keys()),\n",
    "    auto_open=1,\n",
    ")"
   ]
  },
  {
   "cell_type": "code",
   "execution_count": 205,
   "metadata": {},
   "outputs": [
    {
     "name": "stdout",
     "output_type": "stream",
     "text": [
      "best_rmse: 2.09158677773926\n"
     ]
    }
   ],
   "source": [
    "### lambda_l2\n",
    "### 默认0\n",
    "rmse_arr = {}\n",
    "for i in range(2, 30):\n",
    "    v = i / 10\n",
    "    d = copy.deepcopy(lgb_params)\n",
    "    d['lambda_l2'] = v\n",
    "    x = run(param=d)\n",
    "    rmse_arr[v] = x\n",
    "\n",
    "print(f'best_rmse: {min(list(rmse_arr.values()))}')\n",
    "gen_line_plotly(\n",
    "    img_path='./lambda_l2.html',\n",
    "    df={'a': list(rmse_arr.values())},\n",
    "    attrs=list(rmse_arr.keys()),\n",
    "    auto_open=1,\n",
    ")"
   ]
  },
  {
   "cell_type": "code",
   "execution_count": 201,
   "metadata": {},
   "outputs": [
    {
     "name": "stdout",
     "output_type": "stream",
     "text": [
      "best_rmse: 2.021951449582994\n"
     ]
    }
   ],
   "source": [
    "### lambda_l1\n",
    "### 默认0\n",
    "rmse_arr = {}\n",
    "for i in range(1, 30, 2):\n",
    "    v = i / 10\n",
    "    d = copy.deepcopy(lgb_params)\n",
    "    d['lambda_l1'] = v\n",
    "    x = run(param=d)\n",
    "    rmse_arr[v] = x\n",
    "\n",
    "print(f'best_rmse: {min(list(rmse_arr.values()))}')\n",
    "gen_line_plotly(\n",
    "    img_path='./lambda_l1.html',\n",
    "    df={'a': list(rmse_arr.values())},\n",
    "    attrs=list(rmse_arr.keys()),\n",
    "    auto_open=1,\n",
    ")"
   ]
  },
  {
   "cell_type": "code",
   "execution_count": 199,
   "metadata": {},
   "outputs": [
    {
     "name": "stdout",
     "output_type": "stream",
     "text": [
      "best_rmse: 2.0206829090623253\n"
     ]
    }
   ],
   "source": [
    "### max_delta_step\n",
    "### 默认0\n",
    "rmse_arr = {}\n",
    "for i in range(1, 30, 2):\n",
    "    v = i / 10\n",
    "    d = copy.deepcopy(lgb_params)\n",
    "    d['max_delta_step'] = v\n",
    "    x = run(param=d)\n",
    "    rmse_arr[v] = x\n",
    "\n",
    "print(f'best_rmse: {min(list(rmse_arr.values()))}')\n",
    "gen_line_plotly(\n",
    "    img_path='./max_delta_step.html',\n",
    "    df={'a': list(rmse_arr.values())},\n",
    "    attrs=list(rmse_arr.keys()),\n",
    "    auto_open=1,\n",
    ")"
   ]
  },
  {
   "cell_type": "code",
   "execution_count": 195,
   "metadata": {},
   "outputs": [
    {
     "name": "stdout",
     "output_type": "stream",
     "text": [
      "best_rmse: 2.0206829090623253\n"
     ]
    }
   ],
   "source": [
    "### feature_fraction\n",
    "### 默认1\n",
    "rmse_arr = {}\n",
    "#for i in range(10, 50, 2):\n",
    "for i in range(20, 30):\n",
    "    v = i / 100\n",
    "    d = copy.deepcopy(lgb_params)\n",
    "    d['feature_fraction'] = v\n",
    "    x = run(param=d, num_round=270)\n",
    "    rmse_arr[v] = x\n",
    "\n",
    "print(f'best_rmse: {min(list(rmse_arr.values()))}')\n",
    "gen_line_plotly(\n",
    "    img_path='./feature_fraction1.html',\n",
    "    df={'a': list(rmse_arr.values())},\n",
    "    attrs=list(rmse_arr.keys()),\n",
    "    auto_open=1,\n",
    ")"
   ]
  },
  {
   "cell_type": "code",
   "execution_count": 194,
   "metadata": {},
   "outputs": [
    {
     "name": "stdout",
     "output_type": "stream",
     "text": [
      "best_rmse: 2.0312264776264244\n"
     ]
    }
   ],
   "source": [
    "### feature_fraction\n",
    "### 默认1\n",
    "rmse_arr = {}\n",
    "for i in range(5, 100, 5):\n",
    "    v = i / 100\n",
    "    d = copy.deepcopy(lgb_params)\n",
    "    d['feature_fraction'] = v\n",
    "    x = run(param=d, num_round=270)\n",
    "    rmse_arr[v] = x\n",
    "\n",
    "print(f'best_rmse: {min(list(rmse_arr.values()))}')\n",
    "gen_line_plotly(\n",
    "    img_path='./feature_fraction.html',\n",
    "    df={'a': list(rmse_arr.values())},\n",
    "    attrs=list(rmse_arr.keys()),\n",
    "    auto_open=1,\n",
    ")"
   ]
  },
  {
   "cell_type": "code",
   "execution_count": 196,
   "metadata": {},
   "outputs": [
    {
     "name": "stdout",
     "output_type": "stream",
     "text": [
      "best_rmse: 2.091472588979605\n"
     ]
    }
   ],
   "source": [
    "### bagging_fraction\n",
    "### 默认1\n",
    "rmse_arr = {}\n",
    "for i in range(5, 100, 5):\n",
    "    v = i / 100\n",
    "    d = copy.deepcopy(lgb_params)\n",
    "    d['bagging_fraction'] = v\n",
    "    x = run(param=d, num_round=270)\n",
    "    rmse_arr[v] = x\n",
    "\n",
    "print(f'best_rmse: {min(list(rmse_arr.values()))}')\n",
    "gen_line_plotly(\n",
    "    img_path='./bagging_fraction.html',\n",
    "    df={'a': list(rmse_arr.values())},\n",
    "    attrs=list(rmse_arr.keys()),\n",
    "    auto_open=1,\n",
    ")"
   ]
  },
  {
   "cell_type": "code",
   "execution_count": 183,
   "metadata": {},
   "outputs": [
    {
     "name": "stdout",
     "output_type": "stream",
     "text": [
      "best_rmse: 2.0818824202517483\n"
     ]
    }
   ],
   "source": [
    "### min_sum_hessian_in_leaf\n",
    "### 默认0.001\n",
    "rmse_arr = {}\n",
    "#for i in range(10, 50, 2):\n",
    "for i in range(1, 20):\n",
    "    v = i / 10000\n",
    "    d = copy.deepcopy(lgb_params)\n",
    "    d['min_sum_hessian_in_leaf'] = v\n",
    "    x = run(param=d, num_round=270)\n",
    "    rmse_arr[v] = x\n",
    "\n",
    "print(f'best_rmse: {min(list(rmse_arr.values()))}')\n",
    "gen_line_plotly(\n",
    "    img_path='./min_sum_hessian_in_leaf.html',\n",
    "    df={'a': list(rmse_arr.values())},\n",
    "    attrs=list(rmse_arr.keys()),\n",
    "    auto_open=1,\n",
    ")"
   ]
  },
  {
   "cell_type": "code",
   "execution_count": 182,
   "metadata": {},
   "outputs": [
    {
     "name": "stdout",
     "output_type": "stream",
     "text": [
      "best_rmse: 2.0818824202517483\n"
     ]
    }
   ],
   "source": [
    "### min_data_in_leaf\n",
    "rmse_arr = {}\n",
    "for i in range(15, 27):\n",
    "    d = copy.deepcopy(lgb_params)\n",
    "    d['min_data_in_leaf'] = i \n",
    "    x = run(param=d, num_round=270)\n",
    "    rmse_arr[i] = x\n",
    "\n",
    "print(f'best_rmse: {min(list(rmse_arr.values()))}')\n",
    "gen_line_plotly(\n",
    "    img_path='./min_data_in_leaf1.html',\n",
    "    df={'a': list(rmse_arr.values())},\n",
    "    attrs=list(rmse_arr.keys()),\n",
    "    auto_open=1,\n",
    ")"
   ]
  },
  {
   "cell_type": "code",
   "execution_count": 181,
   "metadata": {},
   "outputs": [
    {
     "name": "stdout",
     "output_type": "stream",
     "text": [
      "best_rmse: 2.087939630373224\n"
     ]
    }
   ],
   "source": [
    "### min_data_in_leaf\n",
    "### 20\n",
    "rmse_arr = {}\n",
    "for i in range(10, 50, 2):\n",
    "    d = copy.deepcopy(lgb_params)\n",
    "    d['min_data_in_leaf'] = i \n",
    "    x = run(param=d, num_round=270)\n",
    "    rmse_arr[i] = x\n",
    "\n",
    "print(f'best_rmse: {min(list(rmse_arr.values()))}')\n",
    "gen_line_plotly(\n",
    "    img_path='./min_data_in_leaf.html',\n",
    "    df={'a': list(rmse_arr.values())},\n",
    "    attrs=list(rmse_arr.keys()),\n",
    "    auto_open=1,\n",
    ")"
   ]
  },
  {
   "cell_type": "code",
   "execution_count": 171,
   "metadata": {},
   "outputs": [
    {
     "name": "stdout",
     "output_type": "stream",
     "text": [
      "best_rmse: 2.0836279020979886\n"
     ]
    }
   ],
   "source": [
    "### max_depth\n",
    "### 3 就行, 再大就过拟合了\n",
    "rmse_arr = {}\n",
    "for i in range(1, 10):\n",
    "    d = copy.deepcopy(lgb_params)\n",
    "    d['max_depth'] = i \n",
    "    x = run(param=d, num_round=270)\n",
    "    rmse_arr[i] = x\n",
    "\n",
    "print(f'best_rmse: {min(list(rmse_arr.values()))}')\n",
    "gen_line_plotly(\n",
    "    img_path='./max_depth.html',\n",
    "    df={'a': list(rmse_arr.values())},\n",
    "    attrs=list(rmse_arr.keys()),\n",
    "    auto_open=1,\n",
    ")"
   ]
  },
  {
   "cell_type": "code",
   "execution_count": 167,
   "metadata": {},
   "outputs": [
    {
     "name": "stdout",
     "output_type": "stream",
     "text": [
      "best_rmse: 2.0836279020979886\n"
     ]
    }
   ],
   "source": [
    "### learning_rate\n",
    "rmse_arr = {}\n",
    "for i in range(1, 100):\n",
    "    d = copy.deepcopy(lgb_params)\n",
    "    d['learning_rate'] = i/100 \n",
    "    x = run(param=d, num_round=270)\n",
    "    rmse_arr[i/100] = x\n",
    "\n",
    "print(f'best_rmse: {min(list(rmse_arr.values()))}')\n",
    "gen_line_plotly(\n",
    "    img_path='./learning_rate.html',\n",
    "    df={'a': list(rmse_arr.values())},\n",
    "    attrs=list(rmse_arr.keys()),\n",
    "    auto_open=1,\n",
    ")"
   ]
  },
  {
   "cell_type": "code",
   "execution_count": 166,
   "metadata": {},
   "outputs": [
    {
     "name": "stdout",
     "output_type": "stream",
     "text": [
      "best_rmse: 2.1055735970613205\n"
     ]
    }
   ],
   "source": [
    "### num_round\n",
    "rmse_arr = {}\n",
    "for i in range(50, 350, 5):\n",
    "    d = copy.deepcopy(lgb_params)\n",
    "    x = run(param=d, num_round=i)\n",
    "    rmse_arr[i] = x\n",
    "\n",
    "print(f'best_rmse: {min(list(rmse_arr.values()))}')\n",
    "gen_line_plotly(\n",
    "    img_path='./num_round.html',\n",
    "    df={'a': list(rmse_arr.values())},\n",
    "    attrs=list(rmse_arr.keys()),\n",
    "    auto_open=1,\n",
    ")"
   ]
  },
  {
   "cell_type": "code",
   "execution_count": 159,
   "metadata": {
    "scrolled": false
   },
   "outputs": [
    {
     "name": "stdout",
     "output_type": "stream",
     "text": [
      "best_rmse: 2.113846860364541\n"
     ]
    }
   ],
   "source": [
    "### num_leaves\n",
    "rmse_arr = {}\n",
    "for i in range(2, 30):\n",
    "    d = copy.deepcopy(lgb_params)\n",
    "    d['num_leaves'] = i\n",
    "    x = run(param=d)\n",
    "    rmse_arr[i] = x\n",
    "\n",
    "print(f'best_rmse: {min(list(rmse_arr.values()))}')\n",
    "gen_line_plotly(\n",
    "    img_path='./num_leaves.html',\n",
    "    df={'a': list(rmse_arr.values())},\n",
    "    attrs=list(rmse_arr.keys()),\n",
    "    auto_open=1,\n",
    ")"
   ]
  },
  {
   "cell_type": "code",
   "execution_count": 160,
   "metadata": {},
   "outputs": [
    {
     "data": {
      "text/plain": [
       "2.113846860364541"
      ]
     },
     "execution_count": 160,
     "metadata": {},
     "output_type": "execute_result"
    }
   ],
   "source": []
  },
  {
   "cell_type": "code",
   "execution_count": null,
   "metadata": {},
   "outputs": [],
   "source": []
  },
  {
   "cell_type": "code",
   "execution_count": null,
   "metadata": {},
   "outputs": [],
   "source": []
  },
  {
   "cell_type": "code",
   "execution_count": null,
   "metadata": {},
   "outputs": [],
   "source": []
  },
  {
   "cell_type": "code",
   "execution_count": null,
   "metadata": {},
   "outputs": [],
   "source": []
  },
  {
   "cell_type": "code",
   "execution_count": null,
   "metadata": {},
   "outputs": [],
   "source": []
  },
  {
   "cell_type": "code",
   "execution_count": null,
   "metadata": {},
   "outputs": [],
   "source": []
  },
  {
   "cell_type": "code",
   "execution_count": null,
   "metadata": {},
   "outputs": [],
   "source": []
  },
  {
   "cell_type": "code",
   "execution_count": null,
   "metadata": {},
   "outputs": [],
   "source": []
  },
  {
   "cell_type": "code",
   "execution_count": null,
   "metadata": {},
   "outputs": [],
   "source": []
  },
  {
   "cell_type": "code",
   "execution_count": null,
   "metadata": {},
   "outputs": [],
   "source": []
  }
 ],
 "metadata": {
  "kernelspec": {
   "display_name": "Python 3",
   "language": "python",
   "name": "python3"
  },
  "language_info": {
   "codemirror_mode": {
    "name": "ipython",
    "version": 3
   },
   "file_extension": ".py",
   "mimetype": "text/x-python",
   "name": "python",
   "nbconvert_exporter": "python",
   "pygments_lexer": "ipython3",
   "version": "3.7.3"
  }
 },
 "nbformat": 4,
 "nbformat_minor": 2
}
