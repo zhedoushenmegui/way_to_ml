{
 "cells": [
  {
   "cell_type": "code",
   "execution_count": 92,
   "metadata": {},
   "outputs": [],
   "source": [
    "from sklearn.experimental import enable_hist_gradient_boosting\n",
    "from sklearn.ensemble import HistGradientBoostingRegressor\n"
   ]
  },
  {
   "cell_type": "code",
   "execution_count": 2,
   "metadata": {},
   "outputs": [],
   "source": [
    "import pandas as pd\n",
    "import numpy as np"
   ]
  },
  {
   "cell_type": "code",
   "execution_count": 9,
   "metadata": {},
   "outputs": [],
   "source": [
    "import os\n",
    "project_path = os.path.abspath(os.path.join(os.path.dirname(os.path.abspath('.')), '../'))\n",
    "import sys\n",
    "sys.path.append(project_path)"
   ]
  },
  {
   "cell_type": "code",
   "execution_count": 37,
   "metadata": {},
   "outputs": [],
   "source": [
    "def evaluate(d_test, pred):\n",
    "    new_d_test = d_test.copy()\n",
    "    new_d_test['pred'] = pred\n",
    "    new_d_test['err'] = new_d_test.apply(lambda row: row.price - row.pred, axis=1)\n",
    "    new_d_test['abserr'] = new_d_test.err.map(lambda x: abs(x))\n",
    "    new_d_test['ape'] = new_d_test.apply(lambda row: row.abserr / row.price, axis=1)\n",
    "    mape = np.mean(new_d_test.ape)\n",
    "    print(f'MAPE: {round(mape * 100, 2)}%')\n",
    "    accuracy5p = len(list(filter(lambda x: x <= 0.05, new_d_test.ape))) / len(new_d_test)\n",
    "    print(f'5%: {round(accuracy5p, 4)*100}%')\n",
    "    mse = np.mean(new_d_test.err * new_d_test.err)\n",
    "    print(f'mse: {round(mse, 4)}')\n",
    "    rmse = np.sqrt(mse)\n",
    "    print(f'rmse: {round(rmse, 4)}')"
   ]
  },
  {
   "cell_type": "code",
   "execution_count": 10,
   "metadata": {},
   "outputs": [
    {
     "data": {
      "text/plain": [
       "'/Users/lemon/PycharmProjects/way_to_ml'"
      ]
     },
     "execution_count": 10,
     "metadata": {},
     "output_type": "execute_result"
    }
   ],
   "source": [
    "project_path"
   ]
  },
  {
   "cell_type": "code",
   "execution_count": 11,
   "metadata": {},
   "outputs": [],
   "source": [
    "from util.data_process import DataProcess"
   ]
  },
  {
   "cell_type": "code",
   "execution_count": 12,
   "metadata": {},
   "outputs": [],
   "source": [
    "\n",
    "data_train = pd.read_csv(f'{project_path}/data/car_price_train.201908.csv')\n",
    "data_test = pd.read_csv(f'{project_path}/data/car_price_test.201908.csv')\n",
    "###\n",
    "series_name = '宝马5系'\n",
    "d_train = data_train[data_train.model_series == series_name]\n",
    "d_test = data_test[data_test.model_series == series_name]"
   ]
  },
  {
   "cell_type": "code",
   "execution_count": 13,
   "metadata": {},
   "outputs": [],
   "source": [
    "with open('car_price_feat.txt') as f:\n",
    "    feat_list = list(filter(lambda x: x[0] != '#', f.read().split('\\n')))"
   ]
  },
  {
   "cell_type": "code",
   "execution_count": 14,
   "metadata": {},
   "outputs": [],
   "source": [
    "label_encode_map, f_map = DataProcess.gencode(pd.concat([data_train, data_test]), feat_list)"
   ]
  },
  {
   "cell_type": "code",
   "execution_count": 18,
   "metadata": {},
   "outputs": [],
   "source": [
    "en_train, en_test = DataProcess.encode_process(d_train[feat_list], feat_list, label_encode_map), DataProcess.encode_process(d_test[feat_list], feat_list, label_encode_map)"
   ]
  },
  {
   "cell_type": "code",
   "execution_count": 63,
   "metadata": {},
   "outputs": [
    {
     "data": {
      "text/plain": [
       "HistGradientBoostingRegressor(l2_regularization=0.0, learning_rate=0.3,\n",
       "                              loss='least_squares', max_bins=256, max_depth=6,\n",
       "                              max_iter=200, max_leaf_nodes=40,\n",
       "                              min_samples_leaf=20, n_iter_no_change=None,\n",
       "                              random_state=None, scoring=None, tol=1e-07,\n",
       "                              validation_fraction=0.1, verbose=0)"
      ]
     },
     "execution_count": 63,
     "metadata": {},
     "output_type": "execute_result"
    }
   ],
   "source": [
    "est = HistGradientBoostingRegressor(max_iter=200, learning_rate=0.3, max_depth=6, min_samples_leaf=20, max_leaf_nodes=40)\n",
    "est.fit(en_train, d_train.price)"
   ]
  },
  {
   "cell_type": "code",
   "execution_count": 64,
   "metadata": {},
   "outputs": [
    {
     "name": "stdout",
     "output_type": "stream",
     "text": [
      "MAPE: 6.23%\n",
      "5%: 51.28%\n",
      "mse: 4.6821\n",
      "rmse: 2.1638\n"
     ]
    }
   ],
   "source": [
    "pred = est.predict(en_test)\n",
    "evaluate(d_test, pred)"
   ]
  },
  {
   "cell_type": "code",
   "execution_count": 65,
   "metadata": {},
   "outputs": [
    {
     "data": {
      "text/plain": [
       "(0.9932548245376968, 0.8364660061612945)"
      ]
     },
     "execution_count": 65,
     "metadata": {},
     "output_type": "execute_result"
    }
   ],
   "source": [
    "est.score(en_train, d_train.price), est.score(en_test, d_test.price)"
   ]
  },
  {
   "cell_type": "code",
   "execution_count": 66,
   "metadata": {},
   "outputs": [],
   "source": [
    "from sklearn.ensemble import GradientBoostingRegressor"
   ]
  },
  {
   "cell_type": "code",
   "execution_count": 87,
   "metadata": {},
   "outputs": [
    {
     "data": {
      "text/plain": [
       "GradientBoostingRegressor(alpha=0.9, criterion='friedman_mse', init=None,\n",
       "                          learning_rate=0.1, loss='ls', max_depth=3,\n",
       "                          max_features=None, max_leaf_nodes=30,\n",
       "                          min_impurity_decrease=0.0, min_impurity_split=None,\n",
       "                          min_samples_leaf=5, min_samples_split=11,\n",
       "                          min_weight_fraction_leaf=0.0, n_estimators=250,\n",
       "                          n_iter_no_change=None, presort='auto',\n",
       "                          random_state=None, subsample=0.8, tol=0.0001,\n",
       "                          validation_fraction=0.1, verbose=0, warm_start=False)"
      ]
     },
     "execution_count": 87,
     "metadata": {},
     "output_type": "execute_result"
    }
   ],
   "source": [
    "gbt = GradientBoostingRegressor(min_samples_leaf=5, min_samples_split=11, max_depth=3, max_leaf_nodes=30, subsample=0.8, n_estimators=250)\n",
    "gbt.fit(en_train, d_train.price)"
   ]
  },
  {
   "cell_type": "code",
   "execution_count": 88,
   "metadata": {},
   "outputs": [
    {
     "name": "stdout",
     "output_type": "stream",
     "text": [
      "MAPE: 5.76%\n",
      "5%: 53.38%\n",
      "mse: 4.0399\n",
      "rmse: 2.01\n"
     ]
    }
   ],
   "source": [
    "pred1= gbt.predict(en_test)\n",
    "evaluate(d_test, pred1)"
   ]
  },
  {
   "cell_type": "code",
   "execution_count": 90,
   "metadata": {},
   "outputs": [],
   "source": [
    "### 以下是grid search + CV\n",
    "from sklearn.model_selection import GridSearchCV"
   ]
  },
  {
   "cell_type": "code",
   "execution_count": 106,
   "metadata": {},
   "outputs": [
    {
     "data": {
      "text/plain": [
       "GridSearchCV(cv=5, error_score='raise-deprecating',\n",
       "             estimator=GradientBoostingRegressor(alpha=0.9,\n",
       "                                                 criterion='friedman_mse',\n",
       "                                                 init=None, learning_rate=0.1,\n",
       "                                                 loss='ls', max_depth=3,\n",
       "                                                 max_features=None,\n",
       "                                                 max_leaf_nodes=30,\n",
       "                                                 min_impurity_decrease=0.0,\n",
       "                                                 min_impurity_split=None,\n",
       "                                                 min_samples_leaf=5,\n",
       "                                                 min_samples_split=11,\n",
       "                                                 min_weight_fraction_leaf=0.0,\n",
       "                                                 n_estimators=250,\n",
       "                                                 n_iter_...None,\n",
       "                                                 presort='auto',\n",
       "                                                 random_state=None,\n",
       "                                                 subsample=0.8, tol=0.0001,\n",
       "                                                 validation_fraction=0.1,\n",
       "                                                 verbose=0, warm_start=False),\n",
       "             iid='warn', n_jobs=None,\n",
       "             param_grid={'learning_rate': [0.1, 0.2, 0.05, 0.03, 0.02, 0.01],\n",
       "                         'max_depth': [3, 4], 'max_leaf_nodes': [20, 25, 30],\n",
       "                         'subsample': [0.8, 0.9, 1]},\n",
       "             pre_dispatch='2*n_jobs', refit=True, return_train_score=False,\n",
       "             scoring=None, verbose=0)"
      ]
     },
     "execution_count": 106,
     "metadata": {},
     "output_type": "execute_result"
    }
   ],
   "source": [
    "\n",
    "param_grid = {\n",
    "        \"learning_rate\": [0.1, 0.2, 0.05, 0.03, 0.02, 0.01],\n",
    "        \"max_depth\": [3, 4],\n",
    "        \"subsample\": [0.8, 0.9, 1],\n",
    "        \"max_leaf_nodes\": [20, 25, 30]\n",
    "    }\n",
    "gbt = GradientBoostingRegressor(min_samples_leaf=5, min_samples_split=11, max_depth=3, max_leaf_nodes=30,\n",
    "                                    subsample=0.8, n_estimators=250)\n",
    "gscv = GridSearchCV(gbt, param_grid, cv=5)\n",
    "gscv.fit(en_train, d_train.price)"
   ]
  },
  {
   "cell_type": "code",
   "execution_count": 104,
   "metadata": {},
   "outputs": [
    {
     "name": "stdout",
     "output_type": "stream",
     "text": [
      "Test set score:0.86\n"
     ]
    }
   ],
   "source": [
    "print(\"Test set score:{:.2f}\".format(gscv.score(en_test,d_test.price)))"
   ]
  },
  {
   "cell_type": "code",
   "execution_count": 105,
   "metadata": {},
   "outputs": [
    {
     "name": "stdout",
     "output_type": "stream",
     "text": [
      "Best parameters:{'learning_rate': 0.05, 'max_depth': 3, 'subsample': 0.9}\n",
      "Best score on train set:0.91\n"
     ]
    }
   ],
   "source": [
    "\n",
    "print(\"Best parameters:{}\".format(gscv.best_params_))\n",
    "print(\"Best score on train set:{:.2f}\".format(gscv.best_score_))"
   ]
  },
  {
   "cell_type": "code",
   "execution_count": null,
   "metadata": {},
   "outputs": [],
   "source": []
  }
 ],
 "metadata": {
  "kernelspec": {
   "display_name": "Python 3",
   "language": "python",
   "name": "python3"
  },
  "language_info": {
   "codemirror_mode": {
    "name": "ipython",
    "version": 3
   },
   "file_extension": ".py",
   "mimetype": "text/x-python",
   "name": "python",
   "nbconvert_exporter": "python",
   "pygments_lexer": "ipython3",
   "version": "3.7.3"
  }
 },
 "nbformat": 4,
 "nbformat_minor": 2
}
