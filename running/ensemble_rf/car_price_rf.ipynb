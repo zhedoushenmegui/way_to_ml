{
 "cells": [
  {
   "cell_type": "code",
   "execution_count": 1,
   "metadata": {},
   "outputs": [],
   "source": [
    "import plotly\n",
    "from plotly import graph_objs as go\n",
    "import pyecharts\n",
    "import pandas as pd\n",
    "import numpy as np"
   ]
  },
  {
   "cell_type": "code",
   "execution_count": 4,
   "metadata": {},
   "outputs": [],
   "source": [
    "import os\n",
    "project_path = os.path.abspath(os.path.join(os.path.dirname(os.path.abspath('.')), '../'))\n",
    "import sys\n",
    "sys.path.append(project_path)\n",
    "from util.data_process import DataProcess\n",
    "from util.visualization import draw_lines\n",
    "from util.evaluate_process import car_price_evaluate"
   ]
  },
  {
   "cell_type": "code",
   "execution_count": 5,
   "metadata": {},
   "outputs": [],
   "source": [
    "from sklearn.ensemble import RandomForestRegressor"
   ]
  },
  {
   "cell_type": "code",
   "execution_count": 21,
   "metadata": {},
   "outputs": [],
   "source": [
    "def car_price_evaluate(d_test, pred, silent=0):\n",
    "    new_d_test = d_test.copy()\n",
    "    new_d_test['pred'] = pred\n",
    "    new_d_test['err'] = new_d_test.apply(lambda row: row.price - row.pred, axis=1)\n",
    "    new_d_test['abserr'] = new_d_test.err.map(lambda x: abs(x))\n",
    "    new_d_test['ape'] = new_d_test.apply(lambda row: row.abserr / row.price, axis=1)\n",
    "    mape = np.mean(new_d_test.ape)\n",
    "    accuracy5p = len(list(filter(lambda x: x <= 0.05, new_d_test.ape))) / len(new_d_test)\n",
    "    msev = float(np.mean(new_d_test.err * new_d_test.err))\n",
    "    rmse = np.sqrt(msev)\n",
    "    if not silent:\n",
    "        print(f'rmse: {round(rmse, 4)}')\n",
    "        print(f'mse: {round(msev, 4)}')\n",
    "        print(f'MAPE: {round(mape * 100, 2)}%')\n",
    "        print(f'5%: {round(accuracy5p, 4) * 100}%')\n",
    "    return {\n",
    "        'rmse': round(rmse, 4),\n",
    "        'mse': round(msev, 4),\n",
    "        'mape': round(mape*100, 4),\n",
    "        '5%': round(accuracy5p, 4) * 100\n",
    "    }\n",
    "def draw_lines(xs, ys, names):\n",
    "    fig = go.Figure()\n",
    "    if isinstance(ys, pd.DataFrame):\n",
    "        ys = [ys[k] for k in ys.columns]\n",
    "    # Add traces\n",
    "    for y, name in zip(ys, names):\n",
    "        fig.add_trace(go.Scatter(x=xs, y=y,\n",
    "                    mode='lines+markers',\n",
    "                    name=name))\n",
    "    fig.show()"
   ]
  },
  {
   "cell_type": "code",
   "execution_count": 6,
   "metadata": {},
   "outputs": [],
   "source": [
    "data_train = pd.read_csv(f'{project_path}/data/small_car_price_train.201908.csv')\n",
    "data_test = pd.read_csv(f'{project_path}/data/small_car_price_test.201908.csv')\n",
    "###"
   ]
  },
  {
   "cell_type": "code",
   "execution_count": 7,
   "metadata": {},
   "outputs": [],
   "source": [
    "with open('car_price_feat.txt') as f:\n",
    "    feat_list = list(filter(lambda x: x[0] != '#', f.read().split('\\n')))\n",
    "\n",
    "label_encode_map, f_map = DataProcess.gencode(pd.concat([data_train, data_test]), feat_list)\n",
    "en_train, en_test = DataProcess.encode_process(data_train[feat_list], feat_list, label_encode_map), DataProcess.encode_process(data_test[feat_list], feat_list, label_encode_map)"
   ]
  },
  {
   "cell_type": "code",
   "execution_count": 14,
   "metadata": {},
   "outputs": [
    {
     "name": "stdout",
     "output_type": "stream",
     "text": [
      "{'rmse': 2.3385, 'mse': 5.4688, 'mape': 6.3444, '5%': 48.449999999999996}\n",
      "best_rmse: 2.2676\n"
     ]
    },
    {
     "data": {
      "application/vnd.plotly.v1+json": {
       "config": {
        "plotlyServerURL": "https://plot.ly"
       },
       "data": [
        {
         "mode": "lines+markers",
         "name": "a",
         "type": "scatter",
         "x": [
          2,
          3,
          4,
          5,
          6,
          7,
          8,
          9
         ],
         "y": [
          2.2676,
          2.2887,
          2.2831,
          2.2991,
          2.3073,
          2.3258,
          2.3284,
          2.3385
         ]
        }
       ],
       "layout": {
        "template": {
         "data": {
          "bar": [
           {
            "error_x": {
             "color": "#2a3f5f"
            },
            "error_y": {
             "color": "#2a3f5f"
            },
            "marker": {
             "line": {
              "color": "#E5ECF6",
              "width": 0.5
             }
            },
            "type": "bar"
           }
          ],
          "barpolar": [
           {
            "marker": {
             "line": {
              "color": "#E5ECF6",
              "width": 0.5
             }
            },
            "type": "barpolar"
           }
          ],
          "carpet": [
           {
            "aaxis": {
             "endlinecolor": "#2a3f5f",
             "gridcolor": "white",
             "linecolor": "white",
             "minorgridcolor": "white",
             "startlinecolor": "#2a3f5f"
            },
            "baxis": {
             "endlinecolor": "#2a3f5f",
             "gridcolor": "white",
             "linecolor": "white",
             "minorgridcolor": "white",
             "startlinecolor": "#2a3f5f"
            },
            "type": "carpet"
           }
          ],
          "choropleth": [
           {
            "colorbar": {
             "outlinewidth": 0,
             "ticks": ""
            },
            "type": "choropleth"
           }
          ],
          "contour": [
           {
            "colorbar": {
             "outlinewidth": 0,
             "ticks": ""
            },
            "colorscale": [
             [
              0,
              "#0d0887"
             ],
             [
              0.1111111111111111,
              "#46039f"
             ],
             [
              0.2222222222222222,
              "#7201a8"
             ],
             [
              0.3333333333333333,
              "#9c179e"
             ],
             [
              0.4444444444444444,
              "#bd3786"
             ],
             [
              0.5555555555555556,
              "#d8576b"
             ],
             [
              0.6666666666666666,
              "#ed7953"
             ],
             [
              0.7777777777777778,
              "#fb9f3a"
             ],
             [
              0.8888888888888888,
              "#fdca26"
             ],
             [
              1,
              "#f0f921"
             ]
            ],
            "type": "contour"
           }
          ],
          "contourcarpet": [
           {
            "colorbar": {
             "outlinewidth": 0,
             "ticks": ""
            },
            "type": "contourcarpet"
           }
          ],
          "heatmap": [
           {
            "colorbar": {
             "outlinewidth": 0,
             "ticks": ""
            },
            "colorscale": [
             [
              0,
              "#0d0887"
             ],
             [
              0.1111111111111111,
              "#46039f"
             ],
             [
              0.2222222222222222,
              "#7201a8"
             ],
             [
              0.3333333333333333,
              "#9c179e"
             ],
             [
              0.4444444444444444,
              "#bd3786"
             ],
             [
              0.5555555555555556,
              "#d8576b"
             ],
             [
              0.6666666666666666,
              "#ed7953"
             ],
             [
              0.7777777777777778,
              "#fb9f3a"
             ],
             [
              0.8888888888888888,
              "#fdca26"
             ],
             [
              1,
              "#f0f921"
             ]
            ],
            "type": "heatmap"
           }
          ],
          "heatmapgl": [
           {
            "colorbar": {
             "outlinewidth": 0,
             "ticks": ""
            },
            "colorscale": [
             [
              0,
              "#0d0887"
             ],
             [
              0.1111111111111111,
              "#46039f"
             ],
             [
              0.2222222222222222,
              "#7201a8"
             ],
             [
              0.3333333333333333,
              "#9c179e"
             ],
             [
              0.4444444444444444,
              "#bd3786"
             ],
             [
              0.5555555555555556,
              "#d8576b"
             ],
             [
              0.6666666666666666,
              "#ed7953"
             ],
             [
              0.7777777777777778,
              "#fb9f3a"
             ],
             [
              0.8888888888888888,
              "#fdca26"
             ],
             [
              1,
              "#f0f921"
             ]
            ],
            "type": "heatmapgl"
           }
          ],
          "histogram": [
           {
            "marker": {
             "colorbar": {
              "outlinewidth": 0,
              "ticks": ""
             }
            },
            "type": "histogram"
           }
          ],
          "histogram2d": [
           {
            "colorbar": {
             "outlinewidth": 0,
             "ticks": ""
            },
            "colorscale": [
             [
              0,
              "#0d0887"
             ],
             [
              0.1111111111111111,
              "#46039f"
             ],
             [
              0.2222222222222222,
              "#7201a8"
             ],
             [
              0.3333333333333333,
              "#9c179e"
             ],
             [
              0.4444444444444444,
              "#bd3786"
             ],
             [
              0.5555555555555556,
              "#d8576b"
             ],
             [
              0.6666666666666666,
              "#ed7953"
             ],
             [
              0.7777777777777778,
              "#fb9f3a"
             ],
             [
              0.8888888888888888,
              "#fdca26"
             ],
             [
              1,
              "#f0f921"
             ]
            ],
            "type": "histogram2d"
           }
          ],
          "histogram2dcontour": [
           {
            "colorbar": {
             "outlinewidth": 0,
             "ticks": ""
            },
            "colorscale": [
             [
              0,
              "#0d0887"
             ],
             [
              0.1111111111111111,
              "#46039f"
             ],
             [
              0.2222222222222222,
              "#7201a8"
             ],
             [
              0.3333333333333333,
              "#9c179e"
             ],
             [
              0.4444444444444444,
              "#bd3786"
             ],
             [
              0.5555555555555556,
              "#d8576b"
             ],
             [
              0.6666666666666666,
              "#ed7953"
             ],
             [
              0.7777777777777778,
              "#fb9f3a"
             ],
             [
              0.8888888888888888,
              "#fdca26"
             ],
             [
              1,
              "#f0f921"
             ]
            ],
            "type": "histogram2dcontour"
           }
          ],
          "mesh3d": [
           {
            "colorbar": {
             "outlinewidth": 0,
             "ticks": ""
            },
            "type": "mesh3d"
           }
          ],
          "parcoords": [
           {
            "line": {
             "colorbar": {
              "outlinewidth": 0,
              "ticks": ""
             }
            },
            "type": "parcoords"
           }
          ],
          "scatter": [
           {
            "marker": {
             "colorbar": {
              "outlinewidth": 0,
              "ticks": ""
             }
            },
            "type": "scatter"
           }
          ],
          "scatter3d": [
           {
            "line": {
             "colorbar": {
              "outlinewidth": 0,
              "ticks": ""
             }
            },
            "marker": {
             "colorbar": {
              "outlinewidth": 0,
              "ticks": ""
             }
            },
            "type": "scatter3d"
           }
          ],
          "scattercarpet": [
           {
            "marker": {
             "colorbar": {
              "outlinewidth": 0,
              "ticks": ""
             }
            },
            "type": "scattercarpet"
           }
          ],
          "scattergeo": [
           {
            "marker": {
             "colorbar": {
              "outlinewidth": 0,
              "ticks": ""
             }
            },
            "type": "scattergeo"
           }
          ],
          "scattergl": [
           {
            "marker": {
             "colorbar": {
              "outlinewidth": 0,
              "ticks": ""
             }
            },
            "type": "scattergl"
           }
          ],
          "scattermapbox": [
           {
            "marker": {
             "colorbar": {
              "outlinewidth": 0,
              "ticks": ""
             }
            },
            "type": "scattermapbox"
           }
          ],
          "scatterpolar": [
           {
            "marker": {
             "colorbar": {
              "outlinewidth": 0,
              "ticks": ""
             }
            },
            "type": "scatterpolar"
           }
          ],
          "scatterpolargl": [
           {
            "marker": {
             "colorbar": {
              "outlinewidth": 0,
              "ticks": ""
             }
            },
            "type": "scatterpolargl"
           }
          ],
          "scatterternary": [
           {
            "marker": {
             "colorbar": {
              "outlinewidth": 0,
              "ticks": ""
             }
            },
            "type": "scatterternary"
           }
          ],
          "surface": [
           {
            "colorbar": {
             "outlinewidth": 0,
             "ticks": ""
            },
            "colorscale": [
             [
              0,
              "#0d0887"
             ],
             [
              0.1111111111111111,
              "#46039f"
             ],
             [
              0.2222222222222222,
              "#7201a8"
             ],
             [
              0.3333333333333333,
              "#9c179e"
             ],
             [
              0.4444444444444444,
              "#bd3786"
             ],
             [
              0.5555555555555556,
              "#d8576b"
             ],
             [
              0.6666666666666666,
              "#ed7953"
             ],
             [
              0.7777777777777778,
              "#fb9f3a"
             ],
             [
              0.8888888888888888,
              "#fdca26"
             ],
             [
              1,
              "#f0f921"
             ]
            ],
            "type": "surface"
           }
          ],
          "table": [
           {
            "cells": {
             "fill": {
              "color": "#EBF0F8"
             },
             "line": {
              "color": "white"
             }
            },
            "header": {
             "fill": {
              "color": "#C8D4E3"
             },
             "line": {
              "color": "white"
             }
            },
            "type": "table"
           }
          ]
         },
         "layout": {
          "annotationdefaults": {
           "arrowcolor": "#2a3f5f",
           "arrowhead": 0,
           "arrowwidth": 1
          },
          "colorscale": {
           "diverging": [
            [
             0,
             "#8e0152"
            ],
            [
             0.1,
             "#c51b7d"
            ],
            [
             0.2,
             "#de77ae"
            ],
            [
             0.3,
             "#f1b6da"
            ],
            [
             0.4,
             "#fde0ef"
            ],
            [
             0.5,
             "#f7f7f7"
            ],
            [
             0.6,
             "#e6f5d0"
            ],
            [
             0.7,
             "#b8e186"
            ],
            [
             0.8,
             "#7fbc41"
            ],
            [
             0.9,
             "#4d9221"
            ],
            [
             1,
             "#276419"
            ]
           ],
           "sequential": [
            [
             0,
             "#0d0887"
            ],
            [
             0.1111111111111111,
             "#46039f"
            ],
            [
             0.2222222222222222,
             "#7201a8"
            ],
            [
             0.3333333333333333,
             "#9c179e"
            ],
            [
             0.4444444444444444,
             "#bd3786"
            ],
            [
             0.5555555555555556,
             "#d8576b"
            ],
            [
             0.6666666666666666,
             "#ed7953"
            ],
            [
             0.7777777777777778,
             "#fb9f3a"
            ],
            [
             0.8888888888888888,
             "#fdca26"
            ],
            [
             1,
             "#f0f921"
            ]
           ],
           "sequentialminus": [
            [
             0,
             "#0d0887"
            ],
            [
             0.1111111111111111,
             "#46039f"
            ],
            [
             0.2222222222222222,
             "#7201a8"
            ],
            [
             0.3333333333333333,
             "#9c179e"
            ],
            [
             0.4444444444444444,
             "#bd3786"
            ],
            [
             0.5555555555555556,
             "#d8576b"
            ],
            [
             0.6666666666666666,
             "#ed7953"
            ],
            [
             0.7777777777777778,
             "#fb9f3a"
            ],
            [
             0.8888888888888888,
             "#fdca26"
            ],
            [
             1,
             "#f0f921"
            ]
           ]
          },
          "colorway": [
           "#636efa",
           "#EF553B",
           "#00cc96",
           "#ab63fa",
           "#FFA15A",
           "#19d3f3",
           "#FF6692",
           "#B6E880",
           "#FF97FF",
           "#FECB52"
          ],
          "font": {
           "color": "#2a3f5f"
          },
          "geo": {
           "bgcolor": "white",
           "lakecolor": "white",
           "landcolor": "#E5ECF6",
           "showlakes": true,
           "showland": true,
           "subunitcolor": "white"
          },
          "hoverlabel": {
           "align": "left"
          },
          "hovermode": "closest",
          "mapbox": {
           "style": "light"
          },
          "paper_bgcolor": "white",
          "plot_bgcolor": "#E5ECF6",
          "polar": {
           "angularaxis": {
            "gridcolor": "white",
            "linecolor": "white",
            "ticks": ""
           },
           "bgcolor": "#E5ECF6",
           "radialaxis": {
            "gridcolor": "white",
            "linecolor": "white",
            "ticks": ""
           }
          },
          "scene": {
           "xaxis": {
            "backgroundcolor": "#E5ECF6",
            "gridcolor": "white",
            "gridwidth": 2,
            "linecolor": "white",
            "showbackground": true,
            "ticks": "",
            "zerolinecolor": "white"
           },
           "yaxis": {
            "backgroundcolor": "#E5ECF6",
            "gridcolor": "white",
            "gridwidth": 2,
            "linecolor": "white",
            "showbackground": true,
            "ticks": "",
            "zerolinecolor": "white"
           },
           "zaxis": {
            "backgroundcolor": "#E5ECF6",
            "gridcolor": "white",
            "gridwidth": 2,
            "linecolor": "white",
            "showbackground": true,
            "ticks": "",
            "zerolinecolor": "white"
           }
          },
          "shapedefaults": {
           "line": {
            "color": "#2a3f5f"
           }
          },
          "ternary": {
           "aaxis": {
            "gridcolor": "white",
            "linecolor": "white",
            "ticks": ""
           },
           "baxis": {
            "gridcolor": "white",
            "linecolor": "white",
            "ticks": ""
           },
           "bgcolor": "#E5ECF6",
           "caxis": {
            "gridcolor": "white",
            "linecolor": "white",
            "ticks": ""
           }
          },
          "title": {
           "x": 0.05
          },
          "xaxis": {
           "automargin": true,
           "gridcolor": "white",
           "linecolor": "white",
           "ticks": "",
           "zerolinecolor": "white",
           "zerolinewidth": 2
          },
          "yaxis": {
           "automargin": true,
           "gridcolor": "white",
           "linecolor": "white",
           "ticks": "",
           "zerolinecolor": "white",
           "zerolinewidth": 2
          }
         }
        }
       }
      },
      "text/html": [
       "<div>\n",
       "        \n",
       "        \n",
       "            <div id=\"03ae8d8c-cc9c-4bf6-9983-4ed8f8d055af\" class=\"plotly-graph-div\" style=\"height:525px; width:100%;\"></div>\n",
       "            <script type=\"text/javascript\">\n",
       "                require([\"plotly\"], function(Plotly) {\n",
       "                    window.PLOTLYENV=window.PLOTLYENV || {};\n",
       "                    \n",
       "                if (document.getElementById(\"03ae8d8c-cc9c-4bf6-9983-4ed8f8d055af\")) {\n",
       "                    Plotly.newPlot(\n",
       "                        '03ae8d8c-cc9c-4bf6-9983-4ed8f8d055af',\n",
       "                        [{\"mode\": \"lines+markers\", \"name\": \"a\", \"type\": \"scatter\", \"x\": [2, 3, 4, 5, 6, 7, 8, 9], \"y\": [2.2676, 2.2887, 2.2831, 2.2991, 2.3073, 2.3258, 2.3284, 2.3385]}],\n",
       "                        {\"template\": {\"data\": {\"bar\": [{\"error_x\": {\"color\": \"#2a3f5f\"}, \"error_y\": {\"color\": \"#2a3f5f\"}, \"marker\": {\"line\": {\"color\": \"#E5ECF6\", \"width\": 0.5}}, \"type\": \"bar\"}], \"barpolar\": [{\"marker\": {\"line\": {\"color\": \"#E5ECF6\", \"width\": 0.5}}, \"type\": \"barpolar\"}], \"carpet\": [{\"aaxis\": {\"endlinecolor\": \"#2a3f5f\", \"gridcolor\": \"white\", \"linecolor\": \"white\", \"minorgridcolor\": \"white\", \"startlinecolor\": \"#2a3f5f\"}, \"baxis\": {\"endlinecolor\": \"#2a3f5f\", \"gridcolor\": \"white\", \"linecolor\": \"white\", \"minorgridcolor\": \"white\", \"startlinecolor\": \"#2a3f5f\"}, \"type\": \"carpet\"}], \"choropleth\": [{\"colorbar\": {\"outlinewidth\": 0, \"ticks\": \"\"}, \"type\": \"choropleth\"}], \"contour\": [{\"colorbar\": {\"outlinewidth\": 0, \"ticks\": \"\"}, \"colorscale\": [[0.0, \"#0d0887\"], [0.1111111111111111, \"#46039f\"], [0.2222222222222222, \"#7201a8\"], [0.3333333333333333, \"#9c179e\"], [0.4444444444444444, \"#bd3786\"], [0.5555555555555556, \"#d8576b\"], [0.6666666666666666, \"#ed7953\"], [0.7777777777777778, \"#fb9f3a\"], [0.8888888888888888, \"#fdca26\"], [1.0, \"#f0f921\"]], \"type\": \"contour\"}], \"contourcarpet\": [{\"colorbar\": {\"outlinewidth\": 0, \"ticks\": \"\"}, \"type\": \"contourcarpet\"}], \"heatmap\": [{\"colorbar\": {\"outlinewidth\": 0, \"ticks\": \"\"}, \"colorscale\": [[0.0, \"#0d0887\"], [0.1111111111111111, \"#46039f\"], [0.2222222222222222, \"#7201a8\"], [0.3333333333333333, \"#9c179e\"], [0.4444444444444444, \"#bd3786\"], [0.5555555555555556, \"#d8576b\"], [0.6666666666666666, \"#ed7953\"], [0.7777777777777778, \"#fb9f3a\"], [0.8888888888888888, \"#fdca26\"], [1.0, \"#f0f921\"]], \"type\": \"heatmap\"}], \"heatmapgl\": [{\"colorbar\": {\"outlinewidth\": 0, \"ticks\": \"\"}, \"colorscale\": [[0.0, \"#0d0887\"], [0.1111111111111111, \"#46039f\"], [0.2222222222222222, \"#7201a8\"], [0.3333333333333333, \"#9c179e\"], [0.4444444444444444, \"#bd3786\"], [0.5555555555555556, \"#d8576b\"], [0.6666666666666666, \"#ed7953\"], [0.7777777777777778, \"#fb9f3a\"], [0.8888888888888888, \"#fdca26\"], [1.0, \"#f0f921\"]], \"type\": \"heatmapgl\"}], \"histogram\": [{\"marker\": {\"colorbar\": {\"outlinewidth\": 0, \"ticks\": \"\"}}, \"type\": \"histogram\"}], \"histogram2d\": [{\"colorbar\": {\"outlinewidth\": 0, \"ticks\": \"\"}, \"colorscale\": [[0.0, \"#0d0887\"], [0.1111111111111111, \"#46039f\"], [0.2222222222222222, \"#7201a8\"], [0.3333333333333333, \"#9c179e\"], [0.4444444444444444, \"#bd3786\"], [0.5555555555555556, \"#d8576b\"], [0.6666666666666666, \"#ed7953\"], [0.7777777777777778, \"#fb9f3a\"], [0.8888888888888888, \"#fdca26\"], [1.0, \"#f0f921\"]], \"type\": \"histogram2d\"}], \"histogram2dcontour\": [{\"colorbar\": {\"outlinewidth\": 0, \"ticks\": \"\"}, \"colorscale\": [[0.0, \"#0d0887\"], [0.1111111111111111, \"#46039f\"], [0.2222222222222222, \"#7201a8\"], [0.3333333333333333, \"#9c179e\"], [0.4444444444444444, \"#bd3786\"], [0.5555555555555556, \"#d8576b\"], [0.6666666666666666, \"#ed7953\"], [0.7777777777777778, \"#fb9f3a\"], [0.8888888888888888, \"#fdca26\"], [1.0, \"#f0f921\"]], \"type\": \"histogram2dcontour\"}], \"mesh3d\": [{\"colorbar\": {\"outlinewidth\": 0, \"ticks\": \"\"}, \"type\": \"mesh3d\"}], \"parcoords\": [{\"line\": {\"colorbar\": {\"outlinewidth\": 0, \"ticks\": \"\"}}, \"type\": \"parcoords\"}], \"scatter\": [{\"marker\": {\"colorbar\": {\"outlinewidth\": 0, \"ticks\": \"\"}}, \"type\": \"scatter\"}], \"scatter3d\": [{\"line\": {\"colorbar\": {\"outlinewidth\": 0, \"ticks\": \"\"}}, \"marker\": {\"colorbar\": {\"outlinewidth\": 0, \"ticks\": \"\"}}, \"type\": \"scatter3d\"}], \"scattercarpet\": [{\"marker\": {\"colorbar\": {\"outlinewidth\": 0, \"ticks\": \"\"}}, \"type\": \"scattercarpet\"}], \"scattergeo\": [{\"marker\": {\"colorbar\": {\"outlinewidth\": 0, \"ticks\": \"\"}}, \"type\": \"scattergeo\"}], \"scattergl\": [{\"marker\": {\"colorbar\": {\"outlinewidth\": 0, \"ticks\": \"\"}}, \"type\": \"scattergl\"}], \"scattermapbox\": [{\"marker\": {\"colorbar\": {\"outlinewidth\": 0, \"ticks\": \"\"}}, \"type\": \"scattermapbox\"}], \"scatterpolar\": [{\"marker\": {\"colorbar\": {\"outlinewidth\": 0, \"ticks\": \"\"}}, \"type\": \"scatterpolar\"}], \"scatterpolargl\": [{\"marker\": {\"colorbar\": {\"outlinewidth\": 0, \"ticks\": \"\"}}, \"type\": \"scatterpolargl\"}], \"scatterternary\": [{\"marker\": {\"colorbar\": {\"outlinewidth\": 0, \"ticks\": \"\"}}, \"type\": \"scatterternary\"}], \"surface\": [{\"colorbar\": {\"outlinewidth\": 0, \"ticks\": \"\"}, \"colorscale\": [[0.0, \"#0d0887\"], [0.1111111111111111, \"#46039f\"], [0.2222222222222222, \"#7201a8\"], [0.3333333333333333, \"#9c179e\"], [0.4444444444444444, \"#bd3786\"], [0.5555555555555556, \"#d8576b\"], [0.6666666666666666, \"#ed7953\"], [0.7777777777777778, \"#fb9f3a\"], [0.8888888888888888, \"#fdca26\"], [1.0, \"#f0f921\"]], \"type\": \"surface\"}], \"table\": [{\"cells\": {\"fill\": {\"color\": \"#EBF0F8\"}, \"line\": {\"color\": \"white\"}}, \"header\": {\"fill\": {\"color\": \"#C8D4E3\"}, \"line\": {\"color\": \"white\"}}, \"type\": \"table\"}]}, \"layout\": {\"annotationdefaults\": {\"arrowcolor\": \"#2a3f5f\", \"arrowhead\": 0, \"arrowwidth\": 1}, \"colorscale\": {\"diverging\": [[0, \"#8e0152\"], [0.1, \"#c51b7d\"], [0.2, \"#de77ae\"], [0.3, \"#f1b6da\"], [0.4, \"#fde0ef\"], [0.5, \"#f7f7f7\"], [0.6, \"#e6f5d0\"], [0.7, \"#b8e186\"], [0.8, \"#7fbc41\"], [0.9, \"#4d9221\"], [1, \"#276419\"]], \"sequential\": [[0.0, \"#0d0887\"], [0.1111111111111111, \"#46039f\"], [0.2222222222222222, \"#7201a8\"], [0.3333333333333333, \"#9c179e\"], [0.4444444444444444, \"#bd3786\"], [0.5555555555555556, \"#d8576b\"], [0.6666666666666666, \"#ed7953\"], [0.7777777777777778, \"#fb9f3a\"], [0.8888888888888888, \"#fdca26\"], [1.0, \"#f0f921\"]], \"sequentialminus\": [[0.0, \"#0d0887\"], [0.1111111111111111, \"#46039f\"], [0.2222222222222222, \"#7201a8\"], [0.3333333333333333, \"#9c179e\"], [0.4444444444444444, \"#bd3786\"], [0.5555555555555556, \"#d8576b\"], [0.6666666666666666, \"#ed7953\"], [0.7777777777777778, \"#fb9f3a\"], [0.8888888888888888, \"#fdca26\"], [1.0, \"#f0f921\"]]}, \"colorway\": [\"#636efa\", \"#EF553B\", \"#00cc96\", \"#ab63fa\", \"#FFA15A\", \"#19d3f3\", \"#FF6692\", \"#B6E880\", \"#FF97FF\", \"#FECB52\"], \"font\": {\"color\": \"#2a3f5f\"}, \"geo\": {\"bgcolor\": \"white\", \"lakecolor\": \"white\", \"landcolor\": \"#E5ECF6\", \"showlakes\": true, \"showland\": true, \"subunitcolor\": \"white\"}, \"hoverlabel\": {\"align\": \"left\"}, \"hovermode\": \"closest\", \"mapbox\": {\"style\": \"light\"}, \"paper_bgcolor\": \"white\", \"plot_bgcolor\": \"#E5ECF6\", \"polar\": {\"angularaxis\": {\"gridcolor\": \"white\", \"linecolor\": \"white\", \"ticks\": \"\"}, \"bgcolor\": \"#E5ECF6\", \"radialaxis\": {\"gridcolor\": \"white\", \"linecolor\": \"white\", \"ticks\": \"\"}}, \"scene\": {\"xaxis\": {\"backgroundcolor\": \"#E5ECF6\", \"gridcolor\": \"white\", \"gridwidth\": 2, \"linecolor\": \"white\", \"showbackground\": true, \"ticks\": \"\", \"zerolinecolor\": \"white\"}, \"yaxis\": {\"backgroundcolor\": \"#E5ECF6\", \"gridcolor\": \"white\", \"gridwidth\": 2, \"linecolor\": \"white\", \"showbackground\": true, \"ticks\": \"\", \"zerolinecolor\": \"white\"}, \"zaxis\": {\"backgroundcolor\": \"#E5ECF6\", \"gridcolor\": \"white\", \"gridwidth\": 2, \"linecolor\": \"white\", \"showbackground\": true, \"ticks\": \"\", \"zerolinecolor\": \"white\"}}, \"shapedefaults\": {\"line\": {\"color\": \"#2a3f5f\"}}, \"ternary\": {\"aaxis\": {\"gridcolor\": \"white\", \"linecolor\": \"white\", \"ticks\": \"\"}, \"baxis\": {\"gridcolor\": \"white\", \"linecolor\": \"white\", \"ticks\": \"\"}, \"bgcolor\": \"#E5ECF6\", \"caxis\": {\"gridcolor\": \"white\", \"linecolor\": \"white\", \"ticks\": \"\"}}, \"title\": {\"x\": 0.05}, \"xaxis\": {\"automargin\": true, \"gridcolor\": \"white\", \"linecolor\": \"white\", \"ticks\": \"\", \"zerolinecolor\": \"white\", \"zerolinewidth\": 2}, \"yaxis\": {\"automargin\": true, \"gridcolor\": \"white\", \"linecolor\": \"white\", \"ticks\": \"\", \"zerolinecolor\": \"white\", \"zerolinewidth\": 2}}}},\n",
       "                        {\"responsive\": true}\n",
       "                    ).then(function(){\n",
       "                            \n",
       "var gd = document.getElementById('03ae8d8c-cc9c-4bf6-9983-4ed8f8d055af');\n",
       "var x = new MutationObserver(function (mutations, observer) {{\n",
       "        var display = window.getComputedStyle(gd).display;\n",
       "        if (!display || display === 'none') {{\n",
       "            console.log([gd, 'removed!']);\n",
       "            Plotly.purge(gd);\n",
       "            observer.disconnect();\n",
       "        }}\n",
       "}});\n",
       "\n",
       "// Listen for the removal of the full notebook cells\n",
       "var notebookContainer = gd.closest('#notebook-container');\n",
       "if (notebookContainer) {{\n",
       "    x.observe(notebookContainer, {childList: true});\n",
       "}}\n",
       "\n",
       "// Listen for the clearing of the current output cell\n",
       "var outputEl = gd.closest('.output');\n",
       "if (outputEl) {{\n",
       "    x.observe(outputEl, {childList: true});\n",
       "}}\n",
       "\n",
       "                        })\n",
       "                };\n",
       "                });\n",
       "            </script>\n",
       "        </div>"
      ]
     },
     "metadata": {},
     "output_type": "display_data"
    }
   ],
   "source": [
    "# min_samples_leaf\n",
    "# 5\n",
    "rmse_arr = {}\n",
    "for i in range(2, 10):\n",
    "    v = i\n",
    "    regr = RandomForestRegressor(max_depth=7, \n",
    "                             n_estimators=305,\n",
    "                                min_samples_split=7,\n",
    "                                min_samples_leaf= v)\n",
    "    regr.fit(en_train, data_train.price)  \n",
    "\n",
    "    pred = regr.predict(en_test)\n",
    "    ret = car_price_evaluate(data_test, pred, 1)\n",
    "    rmse_arr[v] = ret['rmse']\n",
    "print(ret)\n",
    "print(f'best_rmse: {min(list(rmse_arr.values()))}')\n",
    "draw_lines(list(rmse_arr.keys()), [list(rmse_arr.values())], ['a'])\n",
    "\n"
   ]
  },
  {
   "cell_type": "code",
   "execution_count": 15,
   "metadata": {},
   "outputs": [
    {
     "name": "stdout",
     "output_type": "stream",
     "text": [
      "{'rmse': 2.2644, 'mse': 5.1275, 'mape': 6.2543, '5%': 49.18}\n",
      "best_rmse: 2.2363\n"
     ]
    },
    {
     "data": {
      "application/vnd.plotly.v1+json": {
       "config": {
        "plotlyServerURL": "https://plot.ly"
       },
       "data": [
        {
         "mode": "lines+markers",
         "name": "a",
         "type": "scatter",
         "x": [
          2,
          3,
          4,
          5,
          6,
          7,
          8,
          9,
          10,
          11,
          12,
          13,
          14,
          15,
          16,
          17,
          18,
          19
         ],
         "y": [
          2.2363,
          2.2399,
          2.2486,
          2.2527,
          2.2497,
          2.2456,
          2.2546,
          2.2537,
          2.2586,
          2.2578,
          2.2668,
          2.257,
          2.2607,
          2.2566,
          2.2653,
          2.2655,
          2.2528,
          2.2644
         ]
        }
       ],
       "layout": {
        "template": {
         "data": {
          "bar": [
           {
            "error_x": {
             "color": "#2a3f5f"
            },
            "error_y": {
             "color": "#2a3f5f"
            },
            "marker": {
             "line": {
              "color": "#E5ECF6",
              "width": 0.5
             }
            },
            "type": "bar"
           }
          ],
          "barpolar": [
           {
            "marker": {
             "line": {
              "color": "#E5ECF6",
              "width": 0.5
             }
            },
            "type": "barpolar"
           }
          ],
          "carpet": [
           {
            "aaxis": {
             "endlinecolor": "#2a3f5f",
             "gridcolor": "white",
             "linecolor": "white",
             "minorgridcolor": "white",
             "startlinecolor": "#2a3f5f"
            },
            "baxis": {
             "endlinecolor": "#2a3f5f",
             "gridcolor": "white",
             "linecolor": "white",
             "minorgridcolor": "white",
             "startlinecolor": "#2a3f5f"
            },
            "type": "carpet"
           }
          ],
          "choropleth": [
           {
            "colorbar": {
             "outlinewidth": 0,
             "ticks": ""
            },
            "type": "choropleth"
           }
          ],
          "contour": [
           {
            "colorbar": {
             "outlinewidth": 0,
             "ticks": ""
            },
            "colorscale": [
             [
              0,
              "#0d0887"
             ],
             [
              0.1111111111111111,
              "#46039f"
             ],
             [
              0.2222222222222222,
              "#7201a8"
             ],
             [
              0.3333333333333333,
              "#9c179e"
             ],
             [
              0.4444444444444444,
              "#bd3786"
             ],
             [
              0.5555555555555556,
              "#d8576b"
             ],
             [
              0.6666666666666666,
              "#ed7953"
             ],
             [
              0.7777777777777778,
              "#fb9f3a"
             ],
             [
              0.8888888888888888,
              "#fdca26"
             ],
             [
              1,
              "#f0f921"
             ]
            ],
            "type": "contour"
           }
          ],
          "contourcarpet": [
           {
            "colorbar": {
             "outlinewidth": 0,
             "ticks": ""
            },
            "type": "contourcarpet"
           }
          ],
          "heatmap": [
           {
            "colorbar": {
             "outlinewidth": 0,
             "ticks": ""
            },
            "colorscale": [
             [
              0,
              "#0d0887"
             ],
             [
              0.1111111111111111,
              "#46039f"
             ],
             [
              0.2222222222222222,
              "#7201a8"
             ],
             [
              0.3333333333333333,
              "#9c179e"
             ],
             [
              0.4444444444444444,
              "#bd3786"
             ],
             [
              0.5555555555555556,
              "#d8576b"
             ],
             [
              0.6666666666666666,
              "#ed7953"
             ],
             [
              0.7777777777777778,
              "#fb9f3a"
             ],
             [
              0.8888888888888888,
              "#fdca26"
             ],
             [
              1,
              "#f0f921"
             ]
            ],
            "type": "heatmap"
           }
          ],
          "heatmapgl": [
           {
            "colorbar": {
             "outlinewidth": 0,
             "ticks": ""
            },
            "colorscale": [
             [
              0,
              "#0d0887"
             ],
             [
              0.1111111111111111,
              "#46039f"
             ],
             [
              0.2222222222222222,
              "#7201a8"
             ],
             [
              0.3333333333333333,
              "#9c179e"
             ],
             [
              0.4444444444444444,
              "#bd3786"
             ],
             [
              0.5555555555555556,
              "#d8576b"
             ],
             [
              0.6666666666666666,
              "#ed7953"
             ],
             [
              0.7777777777777778,
              "#fb9f3a"
             ],
             [
              0.8888888888888888,
              "#fdca26"
             ],
             [
              1,
              "#f0f921"
             ]
            ],
            "type": "heatmapgl"
           }
          ],
          "histogram": [
           {
            "marker": {
             "colorbar": {
              "outlinewidth": 0,
              "ticks": ""
             }
            },
            "type": "histogram"
           }
          ],
          "histogram2d": [
           {
            "colorbar": {
             "outlinewidth": 0,
             "ticks": ""
            },
            "colorscale": [
             [
              0,
              "#0d0887"
             ],
             [
              0.1111111111111111,
              "#46039f"
             ],
             [
              0.2222222222222222,
              "#7201a8"
             ],
             [
              0.3333333333333333,
              "#9c179e"
             ],
             [
              0.4444444444444444,
              "#bd3786"
             ],
             [
              0.5555555555555556,
              "#d8576b"
             ],
             [
              0.6666666666666666,
              "#ed7953"
             ],
             [
              0.7777777777777778,
              "#fb9f3a"
             ],
             [
              0.8888888888888888,
              "#fdca26"
             ],
             [
              1,
              "#f0f921"
             ]
            ],
            "type": "histogram2d"
           }
          ],
          "histogram2dcontour": [
           {
            "colorbar": {
             "outlinewidth": 0,
             "ticks": ""
            },
            "colorscale": [
             [
              0,
              "#0d0887"
             ],
             [
              0.1111111111111111,
              "#46039f"
             ],
             [
              0.2222222222222222,
              "#7201a8"
             ],
             [
              0.3333333333333333,
              "#9c179e"
             ],
             [
              0.4444444444444444,
              "#bd3786"
             ],
             [
              0.5555555555555556,
              "#d8576b"
             ],
             [
              0.6666666666666666,
              "#ed7953"
             ],
             [
              0.7777777777777778,
              "#fb9f3a"
             ],
             [
              0.8888888888888888,
              "#fdca26"
             ],
             [
              1,
              "#f0f921"
             ]
            ],
            "type": "histogram2dcontour"
           }
          ],
          "mesh3d": [
           {
            "colorbar": {
             "outlinewidth": 0,
             "ticks": ""
            },
            "type": "mesh3d"
           }
          ],
          "parcoords": [
           {
            "line": {
             "colorbar": {
              "outlinewidth": 0,
              "ticks": ""
             }
            },
            "type": "parcoords"
           }
          ],
          "scatter": [
           {
            "marker": {
             "colorbar": {
              "outlinewidth": 0,
              "ticks": ""
             }
            },
            "type": "scatter"
           }
          ],
          "scatter3d": [
           {
            "line": {
             "colorbar": {
              "outlinewidth": 0,
              "ticks": ""
             }
            },
            "marker": {
             "colorbar": {
              "outlinewidth": 0,
              "ticks": ""
             }
            },
            "type": "scatter3d"
           }
          ],
          "scattercarpet": [
           {
            "marker": {
             "colorbar": {
              "outlinewidth": 0,
              "ticks": ""
             }
            },
            "type": "scattercarpet"
           }
          ],
          "scattergeo": [
           {
            "marker": {
             "colorbar": {
              "outlinewidth": 0,
              "ticks": ""
             }
            },
            "type": "scattergeo"
           }
          ],
          "scattergl": [
           {
            "marker": {
             "colorbar": {
              "outlinewidth": 0,
              "ticks": ""
             }
            },
            "type": "scattergl"
           }
          ],
          "scattermapbox": [
           {
            "marker": {
             "colorbar": {
              "outlinewidth": 0,
              "ticks": ""
             }
            },
            "type": "scattermapbox"
           }
          ],
          "scatterpolar": [
           {
            "marker": {
             "colorbar": {
              "outlinewidth": 0,
              "ticks": ""
             }
            },
            "type": "scatterpolar"
           }
          ],
          "scatterpolargl": [
           {
            "marker": {
             "colorbar": {
              "outlinewidth": 0,
              "ticks": ""
             }
            },
            "type": "scatterpolargl"
           }
          ],
          "scatterternary": [
           {
            "marker": {
             "colorbar": {
              "outlinewidth": 0,
              "ticks": ""
             }
            },
            "type": "scatterternary"
           }
          ],
          "surface": [
           {
            "colorbar": {
             "outlinewidth": 0,
             "ticks": ""
            },
            "colorscale": [
             [
              0,
              "#0d0887"
             ],
             [
              0.1111111111111111,
              "#46039f"
             ],
             [
              0.2222222222222222,
              "#7201a8"
             ],
             [
              0.3333333333333333,
              "#9c179e"
             ],
             [
              0.4444444444444444,
              "#bd3786"
             ],
             [
              0.5555555555555556,
              "#d8576b"
             ],
             [
              0.6666666666666666,
              "#ed7953"
             ],
             [
              0.7777777777777778,
              "#fb9f3a"
             ],
             [
              0.8888888888888888,
              "#fdca26"
             ],
             [
              1,
              "#f0f921"
             ]
            ],
            "type": "surface"
           }
          ],
          "table": [
           {
            "cells": {
             "fill": {
              "color": "#EBF0F8"
             },
             "line": {
              "color": "white"
             }
            },
            "header": {
             "fill": {
              "color": "#C8D4E3"
             },
             "line": {
              "color": "white"
             }
            },
            "type": "table"
           }
          ]
         },
         "layout": {
          "annotationdefaults": {
           "arrowcolor": "#2a3f5f",
           "arrowhead": 0,
           "arrowwidth": 1
          },
          "colorscale": {
           "diverging": [
            [
             0,
             "#8e0152"
            ],
            [
             0.1,
             "#c51b7d"
            ],
            [
             0.2,
             "#de77ae"
            ],
            [
             0.3,
             "#f1b6da"
            ],
            [
             0.4,
             "#fde0ef"
            ],
            [
             0.5,
             "#f7f7f7"
            ],
            [
             0.6,
             "#e6f5d0"
            ],
            [
             0.7,
             "#b8e186"
            ],
            [
             0.8,
             "#7fbc41"
            ],
            [
             0.9,
             "#4d9221"
            ],
            [
             1,
             "#276419"
            ]
           ],
           "sequential": [
            [
             0,
             "#0d0887"
            ],
            [
             0.1111111111111111,
             "#46039f"
            ],
            [
             0.2222222222222222,
             "#7201a8"
            ],
            [
             0.3333333333333333,
             "#9c179e"
            ],
            [
             0.4444444444444444,
             "#bd3786"
            ],
            [
             0.5555555555555556,
             "#d8576b"
            ],
            [
             0.6666666666666666,
             "#ed7953"
            ],
            [
             0.7777777777777778,
             "#fb9f3a"
            ],
            [
             0.8888888888888888,
             "#fdca26"
            ],
            [
             1,
             "#f0f921"
            ]
           ],
           "sequentialminus": [
            [
             0,
             "#0d0887"
            ],
            [
             0.1111111111111111,
             "#46039f"
            ],
            [
             0.2222222222222222,
             "#7201a8"
            ],
            [
             0.3333333333333333,
             "#9c179e"
            ],
            [
             0.4444444444444444,
             "#bd3786"
            ],
            [
             0.5555555555555556,
             "#d8576b"
            ],
            [
             0.6666666666666666,
             "#ed7953"
            ],
            [
             0.7777777777777778,
             "#fb9f3a"
            ],
            [
             0.8888888888888888,
             "#fdca26"
            ],
            [
             1,
             "#f0f921"
            ]
           ]
          },
          "colorway": [
           "#636efa",
           "#EF553B",
           "#00cc96",
           "#ab63fa",
           "#FFA15A",
           "#19d3f3",
           "#FF6692",
           "#B6E880",
           "#FF97FF",
           "#FECB52"
          ],
          "font": {
           "color": "#2a3f5f"
          },
          "geo": {
           "bgcolor": "white",
           "lakecolor": "white",
           "landcolor": "#E5ECF6",
           "showlakes": true,
           "showland": true,
           "subunitcolor": "white"
          },
          "hoverlabel": {
           "align": "left"
          },
          "hovermode": "closest",
          "mapbox": {
           "style": "light"
          },
          "paper_bgcolor": "white",
          "plot_bgcolor": "#E5ECF6",
          "polar": {
           "angularaxis": {
            "gridcolor": "white",
            "linecolor": "white",
            "ticks": ""
           },
           "bgcolor": "#E5ECF6",
           "radialaxis": {
            "gridcolor": "white",
            "linecolor": "white",
            "ticks": ""
           }
          },
          "scene": {
           "xaxis": {
            "backgroundcolor": "#E5ECF6",
            "gridcolor": "white",
            "gridwidth": 2,
            "linecolor": "white",
            "showbackground": true,
            "ticks": "",
            "zerolinecolor": "white"
           },
           "yaxis": {
            "backgroundcolor": "#E5ECF6",
            "gridcolor": "white",
            "gridwidth": 2,
            "linecolor": "white",
            "showbackground": true,
            "ticks": "",
            "zerolinecolor": "white"
           },
           "zaxis": {
            "backgroundcolor": "#E5ECF6",
            "gridcolor": "white",
            "gridwidth": 2,
            "linecolor": "white",
            "showbackground": true,
            "ticks": "",
            "zerolinecolor": "white"
           }
          },
          "shapedefaults": {
           "line": {
            "color": "#2a3f5f"
           }
          },
          "ternary": {
           "aaxis": {
            "gridcolor": "white",
            "linecolor": "white",
            "ticks": ""
           },
           "baxis": {
            "gridcolor": "white",
            "linecolor": "white",
            "ticks": ""
           },
           "bgcolor": "#E5ECF6",
           "caxis": {
            "gridcolor": "white",
            "linecolor": "white",
            "ticks": ""
           }
          },
          "title": {
           "x": 0.05
          },
          "xaxis": {
           "automargin": true,
           "gridcolor": "white",
           "linecolor": "white",
           "ticks": "",
           "zerolinecolor": "white",
           "zerolinewidth": 2
          },
          "yaxis": {
           "automargin": true,
           "gridcolor": "white",
           "linecolor": "white",
           "ticks": "",
           "zerolinecolor": "white",
           "zerolinewidth": 2
          }
         }
        }
       }
      },
      "text/html": [
       "<div>\n",
       "        \n",
       "        \n",
       "            <div id=\"b56feeb2-c132-4d5b-9666-f2033cfecce7\" class=\"plotly-graph-div\" style=\"height:525px; width:100%;\"></div>\n",
       "            <script type=\"text/javascript\">\n",
       "                require([\"plotly\"], function(Plotly) {\n",
       "                    window.PLOTLYENV=window.PLOTLYENV || {};\n",
       "                    \n",
       "                if (document.getElementById(\"b56feeb2-c132-4d5b-9666-f2033cfecce7\")) {\n",
       "                    Plotly.newPlot(\n",
       "                        'b56feeb2-c132-4d5b-9666-f2033cfecce7',\n",
       "                        [{\"mode\": \"lines+markers\", \"name\": \"a\", \"type\": \"scatter\", \"x\": [2, 3, 4, 5, 6, 7, 8, 9, 10, 11, 12, 13, 14, 15, 16, 17, 18, 19], \"y\": [2.2363, 2.2399, 2.2486, 2.2527, 2.2497, 2.2456, 2.2546, 2.2537, 2.2586, 2.2578, 2.2668, 2.257, 2.2607, 2.2566, 2.2653, 2.2655, 2.2528, 2.2644]}],\n",
       "                        {\"template\": {\"data\": {\"bar\": [{\"error_x\": {\"color\": \"#2a3f5f\"}, \"error_y\": {\"color\": \"#2a3f5f\"}, \"marker\": {\"line\": {\"color\": \"#E5ECF6\", \"width\": 0.5}}, \"type\": \"bar\"}], \"barpolar\": [{\"marker\": {\"line\": {\"color\": \"#E5ECF6\", \"width\": 0.5}}, \"type\": \"barpolar\"}], \"carpet\": [{\"aaxis\": {\"endlinecolor\": \"#2a3f5f\", \"gridcolor\": \"white\", \"linecolor\": \"white\", \"minorgridcolor\": \"white\", \"startlinecolor\": \"#2a3f5f\"}, \"baxis\": {\"endlinecolor\": \"#2a3f5f\", \"gridcolor\": \"white\", \"linecolor\": \"white\", \"minorgridcolor\": \"white\", \"startlinecolor\": \"#2a3f5f\"}, \"type\": \"carpet\"}], \"choropleth\": [{\"colorbar\": {\"outlinewidth\": 0, \"ticks\": \"\"}, \"type\": \"choropleth\"}], \"contour\": [{\"colorbar\": {\"outlinewidth\": 0, \"ticks\": \"\"}, \"colorscale\": [[0.0, \"#0d0887\"], [0.1111111111111111, \"#46039f\"], [0.2222222222222222, \"#7201a8\"], [0.3333333333333333, \"#9c179e\"], [0.4444444444444444, \"#bd3786\"], [0.5555555555555556, \"#d8576b\"], [0.6666666666666666, \"#ed7953\"], [0.7777777777777778, \"#fb9f3a\"], [0.8888888888888888, \"#fdca26\"], [1.0, \"#f0f921\"]], \"type\": \"contour\"}], \"contourcarpet\": [{\"colorbar\": {\"outlinewidth\": 0, \"ticks\": \"\"}, \"type\": \"contourcarpet\"}], \"heatmap\": [{\"colorbar\": {\"outlinewidth\": 0, \"ticks\": \"\"}, \"colorscale\": [[0.0, \"#0d0887\"], [0.1111111111111111, \"#46039f\"], [0.2222222222222222, \"#7201a8\"], [0.3333333333333333, \"#9c179e\"], [0.4444444444444444, \"#bd3786\"], [0.5555555555555556, \"#d8576b\"], [0.6666666666666666, \"#ed7953\"], [0.7777777777777778, \"#fb9f3a\"], [0.8888888888888888, \"#fdca26\"], [1.0, \"#f0f921\"]], \"type\": \"heatmap\"}], \"heatmapgl\": [{\"colorbar\": {\"outlinewidth\": 0, \"ticks\": \"\"}, \"colorscale\": [[0.0, \"#0d0887\"], [0.1111111111111111, \"#46039f\"], [0.2222222222222222, \"#7201a8\"], [0.3333333333333333, \"#9c179e\"], [0.4444444444444444, \"#bd3786\"], [0.5555555555555556, \"#d8576b\"], [0.6666666666666666, \"#ed7953\"], [0.7777777777777778, \"#fb9f3a\"], [0.8888888888888888, \"#fdca26\"], [1.0, \"#f0f921\"]], \"type\": \"heatmapgl\"}], \"histogram\": [{\"marker\": {\"colorbar\": {\"outlinewidth\": 0, \"ticks\": \"\"}}, \"type\": \"histogram\"}], \"histogram2d\": [{\"colorbar\": {\"outlinewidth\": 0, \"ticks\": \"\"}, \"colorscale\": [[0.0, \"#0d0887\"], [0.1111111111111111, \"#46039f\"], [0.2222222222222222, \"#7201a8\"], [0.3333333333333333, \"#9c179e\"], [0.4444444444444444, \"#bd3786\"], [0.5555555555555556, \"#d8576b\"], [0.6666666666666666, \"#ed7953\"], [0.7777777777777778, \"#fb9f3a\"], [0.8888888888888888, \"#fdca26\"], [1.0, \"#f0f921\"]], \"type\": \"histogram2d\"}], \"histogram2dcontour\": [{\"colorbar\": {\"outlinewidth\": 0, \"ticks\": \"\"}, \"colorscale\": [[0.0, \"#0d0887\"], [0.1111111111111111, \"#46039f\"], [0.2222222222222222, \"#7201a8\"], [0.3333333333333333, \"#9c179e\"], [0.4444444444444444, \"#bd3786\"], [0.5555555555555556, \"#d8576b\"], [0.6666666666666666, \"#ed7953\"], [0.7777777777777778, \"#fb9f3a\"], [0.8888888888888888, \"#fdca26\"], [1.0, \"#f0f921\"]], \"type\": \"histogram2dcontour\"}], \"mesh3d\": [{\"colorbar\": {\"outlinewidth\": 0, \"ticks\": \"\"}, \"type\": \"mesh3d\"}], \"parcoords\": [{\"line\": {\"colorbar\": {\"outlinewidth\": 0, \"ticks\": \"\"}}, \"type\": \"parcoords\"}], \"scatter\": [{\"marker\": {\"colorbar\": {\"outlinewidth\": 0, \"ticks\": \"\"}}, \"type\": \"scatter\"}], \"scatter3d\": [{\"line\": {\"colorbar\": {\"outlinewidth\": 0, \"ticks\": \"\"}}, \"marker\": {\"colorbar\": {\"outlinewidth\": 0, \"ticks\": \"\"}}, \"type\": \"scatter3d\"}], \"scattercarpet\": [{\"marker\": {\"colorbar\": {\"outlinewidth\": 0, \"ticks\": \"\"}}, \"type\": \"scattercarpet\"}], \"scattergeo\": [{\"marker\": {\"colorbar\": {\"outlinewidth\": 0, \"ticks\": \"\"}}, \"type\": \"scattergeo\"}], \"scattergl\": [{\"marker\": {\"colorbar\": {\"outlinewidth\": 0, \"ticks\": \"\"}}, \"type\": \"scattergl\"}], \"scattermapbox\": [{\"marker\": {\"colorbar\": {\"outlinewidth\": 0, \"ticks\": \"\"}}, \"type\": \"scattermapbox\"}], \"scatterpolar\": [{\"marker\": {\"colorbar\": {\"outlinewidth\": 0, \"ticks\": \"\"}}, \"type\": \"scatterpolar\"}], \"scatterpolargl\": [{\"marker\": {\"colorbar\": {\"outlinewidth\": 0, \"ticks\": \"\"}}, \"type\": \"scatterpolargl\"}], \"scatterternary\": [{\"marker\": {\"colorbar\": {\"outlinewidth\": 0, \"ticks\": \"\"}}, \"type\": \"scatterternary\"}], \"surface\": [{\"colorbar\": {\"outlinewidth\": 0, \"ticks\": \"\"}, \"colorscale\": [[0.0, \"#0d0887\"], [0.1111111111111111, \"#46039f\"], [0.2222222222222222, \"#7201a8\"], [0.3333333333333333, \"#9c179e\"], [0.4444444444444444, \"#bd3786\"], [0.5555555555555556, \"#d8576b\"], [0.6666666666666666, \"#ed7953\"], [0.7777777777777778, \"#fb9f3a\"], [0.8888888888888888, \"#fdca26\"], [1.0, \"#f0f921\"]], \"type\": \"surface\"}], \"table\": [{\"cells\": {\"fill\": {\"color\": \"#EBF0F8\"}, \"line\": {\"color\": \"white\"}}, \"header\": {\"fill\": {\"color\": \"#C8D4E3\"}, \"line\": {\"color\": \"white\"}}, \"type\": \"table\"}]}, \"layout\": {\"annotationdefaults\": {\"arrowcolor\": \"#2a3f5f\", \"arrowhead\": 0, \"arrowwidth\": 1}, \"colorscale\": {\"diverging\": [[0, \"#8e0152\"], [0.1, \"#c51b7d\"], [0.2, \"#de77ae\"], [0.3, \"#f1b6da\"], [0.4, \"#fde0ef\"], [0.5, \"#f7f7f7\"], [0.6, \"#e6f5d0\"], [0.7, \"#b8e186\"], [0.8, \"#7fbc41\"], [0.9, \"#4d9221\"], [1, \"#276419\"]], \"sequential\": [[0.0, \"#0d0887\"], [0.1111111111111111, \"#46039f\"], [0.2222222222222222, \"#7201a8\"], [0.3333333333333333, \"#9c179e\"], [0.4444444444444444, \"#bd3786\"], [0.5555555555555556, \"#d8576b\"], [0.6666666666666666, \"#ed7953\"], [0.7777777777777778, \"#fb9f3a\"], [0.8888888888888888, \"#fdca26\"], [1.0, \"#f0f921\"]], \"sequentialminus\": [[0.0, \"#0d0887\"], [0.1111111111111111, \"#46039f\"], [0.2222222222222222, \"#7201a8\"], [0.3333333333333333, \"#9c179e\"], [0.4444444444444444, \"#bd3786\"], [0.5555555555555556, \"#d8576b\"], [0.6666666666666666, \"#ed7953\"], [0.7777777777777778, \"#fb9f3a\"], [0.8888888888888888, \"#fdca26\"], [1.0, \"#f0f921\"]]}, \"colorway\": [\"#636efa\", \"#EF553B\", \"#00cc96\", \"#ab63fa\", \"#FFA15A\", \"#19d3f3\", \"#FF6692\", \"#B6E880\", \"#FF97FF\", \"#FECB52\"], \"font\": {\"color\": \"#2a3f5f\"}, \"geo\": {\"bgcolor\": \"white\", \"lakecolor\": \"white\", \"landcolor\": \"#E5ECF6\", \"showlakes\": true, \"showland\": true, \"subunitcolor\": \"white\"}, \"hoverlabel\": {\"align\": \"left\"}, \"hovermode\": \"closest\", \"mapbox\": {\"style\": \"light\"}, \"paper_bgcolor\": \"white\", \"plot_bgcolor\": \"#E5ECF6\", \"polar\": {\"angularaxis\": {\"gridcolor\": \"white\", \"linecolor\": \"white\", \"ticks\": \"\"}, \"bgcolor\": \"#E5ECF6\", \"radialaxis\": {\"gridcolor\": \"white\", \"linecolor\": \"white\", \"ticks\": \"\"}}, \"scene\": {\"xaxis\": {\"backgroundcolor\": \"#E5ECF6\", \"gridcolor\": \"white\", \"gridwidth\": 2, \"linecolor\": \"white\", \"showbackground\": true, \"ticks\": \"\", \"zerolinecolor\": \"white\"}, \"yaxis\": {\"backgroundcolor\": \"#E5ECF6\", \"gridcolor\": \"white\", \"gridwidth\": 2, \"linecolor\": \"white\", \"showbackground\": true, \"ticks\": \"\", \"zerolinecolor\": \"white\"}, \"zaxis\": {\"backgroundcolor\": \"#E5ECF6\", \"gridcolor\": \"white\", \"gridwidth\": 2, \"linecolor\": \"white\", \"showbackground\": true, \"ticks\": \"\", \"zerolinecolor\": \"white\"}}, \"shapedefaults\": {\"line\": {\"color\": \"#2a3f5f\"}}, \"ternary\": {\"aaxis\": {\"gridcolor\": \"white\", \"linecolor\": \"white\", \"ticks\": \"\"}, \"baxis\": {\"gridcolor\": \"white\", \"linecolor\": \"white\", \"ticks\": \"\"}, \"bgcolor\": \"#E5ECF6\", \"caxis\": {\"gridcolor\": \"white\", \"linecolor\": \"white\", \"ticks\": \"\"}}, \"title\": {\"x\": 0.05}, \"xaxis\": {\"automargin\": true, \"gridcolor\": \"white\", \"linecolor\": \"white\", \"ticks\": \"\", \"zerolinecolor\": \"white\", \"zerolinewidth\": 2}, \"yaxis\": {\"automargin\": true, \"gridcolor\": \"white\", \"linecolor\": \"white\", \"ticks\": \"\", \"zerolinecolor\": \"white\", \"zerolinewidth\": 2}}}},\n",
       "                        {\"responsive\": true}\n",
       "                    ).then(function(){\n",
       "                            \n",
       "var gd = document.getElementById('b56feeb2-c132-4d5b-9666-f2033cfecce7');\n",
       "var x = new MutationObserver(function (mutations, observer) {{\n",
       "        var display = window.getComputedStyle(gd).display;\n",
       "        if (!display || display === 'none') {{\n",
       "            console.log([gd, 'removed!']);\n",
       "            Plotly.purge(gd);\n",
       "            observer.disconnect();\n",
       "        }}\n",
       "}});\n",
       "\n",
       "// Listen for the removal of the full notebook cells\n",
       "var notebookContainer = gd.closest('#notebook-container');\n",
       "if (notebookContainer) {{\n",
       "    x.observe(notebookContainer, {childList: true});\n",
       "}}\n",
       "\n",
       "// Listen for the clearing of the current output cell\n",
       "var outputEl = gd.closest('.output');\n",
       "if (outputEl) {{\n",
       "    x.observe(outputEl, {childList: true});\n",
       "}}\n",
       "\n",
       "                        })\n",
       "                };\n",
       "                });\n",
       "            </script>\n",
       "        </div>"
      ]
     },
     "metadata": {},
     "output_type": "display_data"
    }
   ],
   "source": [
    "# min_samples_split\n",
    "# 7\n",
    "rmse_arr = {}\n",
    "for i in range(2, 20):\n",
    "    v = i\n",
    "    regr = RandomForestRegressor(max_depth=7, \n",
    "                             n_estimators=305,\n",
    "                                min_samples_split=v)\n",
    "    regr.fit(en_train, data_train.price)  \n",
    "\n",
    "    pred = regr.predict(en_test)\n",
    "    ret = car_price_evaluate(data_test, pred, 1)\n",
    "    rmse_arr[v] = ret['rmse']\n",
    "print(ret)\n",
    "print(f'best_rmse: {min(list(rmse_arr.values()))}')\n",
    "draw_lines(list(rmse_arr.keys()), [list(rmse_arr.values())], ['a'])\n",
    "\n"
   ]
  },
  {
   "cell_type": "code",
   "execution_count": 16,
   "metadata": {},
   "outputs": [
    {
     "name": "stdout",
     "output_type": "stream",
     "text": [
      "{'rmse': 2.2335, 'mse': 4.9884, 'mape': 6.1582, '5%': 50.82}\n",
      "best_rmse: 2.2315\n"
     ]
    },
    {
     "data": {
      "application/vnd.plotly.v1+json": {
       "config": {
        "plotlyServerURL": "https://plot.ly"
       },
       "data": [
        {
         "mode": "lines+markers",
         "name": "a",
         "type": "scatter",
         "x": [
          300,
          301,
          302,
          303,
          304,
          305,
          306,
          307,
          308,
          309,
          310,
          311,
          312,
          313,
          314,
          315,
          316,
          317,
          318,
          319,
          320,
          321,
          322,
          323,
          324,
          325,
          326,
          327,
          328,
          329
         ],
         "y": [
          2.2448,
          2.2507,
          2.253,
          2.2397,
          2.2391,
          2.2448,
          2.241,
          2.2315,
          2.2395,
          2.2391,
          2.247,
          2.2409,
          2.2441,
          2.2449,
          2.2407,
          2.2502,
          2.244,
          2.2412,
          2.2478,
          2.2441,
          2.2456,
          2.249,
          2.2404,
          2.2466,
          2.2424,
          2.2368,
          2.2385,
          2.2459,
          2.2362,
          2.2335
         ]
        }
       ],
       "layout": {
        "template": {
         "data": {
          "bar": [
           {
            "error_x": {
             "color": "#2a3f5f"
            },
            "error_y": {
             "color": "#2a3f5f"
            },
            "marker": {
             "line": {
              "color": "#E5ECF6",
              "width": 0.5
             }
            },
            "type": "bar"
           }
          ],
          "barpolar": [
           {
            "marker": {
             "line": {
              "color": "#E5ECF6",
              "width": 0.5
             }
            },
            "type": "barpolar"
           }
          ],
          "carpet": [
           {
            "aaxis": {
             "endlinecolor": "#2a3f5f",
             "gridcolor": "white",
             "linecolor": "white",
             "minorgridcolor": "white",
             "startlinecolor": "#2a3f5f"
            },
            "baxis": {
             "endlinecolor": "#2a3f5f",
             "gridcolor": "white",
             "linecolor": "white",
             "minorgridcolor": "white",
             "startlinecolor": "#2a3f5f"
            },
            "type": "carpet"
           }
          ],
          "choropleth": [
           {
            "colorbar": {
             "outlinewidth": 0,
             "ticks": ""
            },
            "type": "choropleth"
           }
          ],
          "contour": [
           {
            "colorbar": {
             "outlinewidth": 0,
             "ticks": ""
            },
            "colorscale": [
             [
              0,
              "#0d0887"
             ],
             [
              0.1111111111111111,
              "#46039f"
             ],
             [
              0.2222222222222222,
              "#7201a8"
             ],
             [
              0.3333333333333333,
              "#9c179e"
             ],
             [
              0.4444444444444444,
              "#bd3786"
             ],
             [
              0.5555555555555556,
              "#d8576b"
             ],
             [
              0.6666666666666666,
              "#ed7953"
             ],
             [
              0.7777777777777778,
              "#fb9f3a"
             ],
             [
              0.8888888888888888,
              "#fdca26"
             ],
             [
              1,
              "#f0f921"
             ]
            ],
            "type": "contour"
           }
          ],
          "contourcarpet": [
           {
            "colorbar": {
             "outlinewidth": 0,
             "ticks": ""
            },
            "type": "contourcarpet"
           }
          ],
          "heatmap": [
           {
            "colorbar": {
             "outlinewidth": 0,
             "ticks": ""
            },
            "colorscale": [
             [
              0,
              "#0d0887"
             ],
             [
              0.1111111111111111,
              "#46039f"
             ],
             [
              0.2222222222222222,
              "#7201a8"
             ],
             [
              0.3333333333333333,
              "#9c179e"
             ],
             [
              0.4444444444444444,
              "#bd3786"
             ],
             [
              0.5555555555555556,
              "#d8576b"
             ],
             [
              0.6666666666666666,
              "#ed7953"
             ],
             [
              0.7777777777777778,
              "#fb9f3a"
             ],
             [
              0.8888888888888888,
              "#fdca26"
             ],
             [
              1,
              "#f0f921"
             ]
            ],
            "type": "heatmap"
           }
          ],
          "heatmapgl": [
           {
            "colorbar": {
             "outlinewidth": 0,
             "ticks": ""
            },
            "colorscale": [
             [
              0,
              "#0d0887"
             ],
             [
              0.1111111111111111,
              "#46039f"
             ],
             [
              0.2222222222222222,
              "#7201a8"
             ],
             [
              0.3333333333333333,
              "#9c179e"
             ],
             [
              0.4444444444444444,
              "#bd3786"
             ],
             [
              0.5555555555555556,
              "#d8576b"
             ],
             [
              0.6666666666666666,
              "#ed7953"
             ],
             [
              0.7777777777777778,
              "#fb9f3a"
             ],
             [
              0.8888888888888888,
              "#fdca26"
             ],
             [
              1,
              "#f0f921"
             ]
            ],
            "type": "heatmapgl"
           }
          ],
          "histogram": [
           {
            "marker": {
             "colorbar": {
              "outlinewidth": 0,
              "ticks": ""
             }
            },
            "type": "histogram"
           }
          ],
          "histogram2d": [
           {
            "colorbar": {
             "outlinewidth": 0,
             "ticks": ""
            },
            "colorscale": [
             [
              0,
              "#0d0887"
             ],
             [
              0.1111111111111111,
              "#46039f"
             ],
             [
              0.2222222222222222,
              "#7201a8"
             ],
             [
              0.3333333333333333,
              "#9c179e"
             ],
             [
              0.4444444444444444,
              "#bd3786"
             ],
             [
              0.5555555555555556,
              "#d8576b"
             ],
             [
              0.6666666666666666,
              "#ed7953"
             ],
             [
              0.7777777777777778,
              "#fb9f3a"
             ],
             [
              0.8888888888888888,
              "#fdca26"
             ],
             [
              1,
              "#f0f921"
             ]
            ],
            "type": "histogram2d"
           }
          ],
          "histogram2dcontour": [
           {
            "colorbar": {
             "outlinewidth": 0,
             "ticks": ""
            },
            "colorscale": [
             [
              0,
              "#0d0887"
             ],
             [
              0.1111111111111111,
              "#46039f"
             ],
             [
              0.2222222222222222,
              "#7201a8"
             ],
             [
              0.3333333333333333,
              "#9c179e"
             ],
             [
              0.4444444444444444,
              "#bd3786"
             ],
             [
              0.5555555555555556,
              "#d8576b"
             ],
             [
              0.6666666666666666,
              "#ed7953"
             ],
             [
              0.7777777777777778,
              "#fb9f3a"
             ],
             [
              0.8888888888888888,
              "#fdca26"
             ],
             [
              1,
              "#f0f921"
             ]
            ],
            "type": "histogram2dcontour"
           }
          ],
          "mesh3d": [
           {
            "colorbar": {
             "outlinewidth": 0,
             "ticks": ""
            },
            "type": "mesh3d"
           }
          ],
          "parcoords": [
           {
            "line": {
             "colorbar": {
              "outlinewidth": 0,
              "ticks": ""
             }
            },
            "type": "parcoords"
           }
          ],
          "scatter": [
           {
            "marker": {
             "colorbar": {
              "outlinewidth": 0,
              "ticks": ""
             }
            },
            "type": "scatter"
           }
          ],
          "scatter3d": [
           {
            "line": {
             "colorbar": {
              "outlinewidth": 0,
              "ticks": ""
             }
            },
            "marker": {
             "colorbar": {
              "outlinewidth": 0,
              "ticks": ""
             }
            },
            "type": "scatter3d"
           }
          ],
          "scattercarpet": [
           {
            "marker": {
             "colorbar": {
              "outlinewidth": 0,
              "ticks": ""
             }
            },
            "type": "scattercarpet"
           }
          ],
          "scattergeo": [
           {
            "marker": {
             "colorbar": {
              "outlinewidth": 0,
              "ticks": ""
             }
            },
            "type": "scattergeo"
           }
          ],
          "scattergl": [
           {
            "marker": {
             "colorbar": {
              "outlinewidth": 0,
              "ticks": ""
             }
            },
            "type": "scattergl"
           }
          ],
          "scattermapbox": [
           {
            "marker": {
             "colorbar": {
              "outlinewidth": 0,
              "ticks": ""
             }
            },
            "type": "scattermapbox"
           }
          ],
          "scatterpolar": [
           {
            "marker": {
             "colorbar": {
              "outlinewidth": 0,
              "ticks": ""
             }
            },
            "type": "scatterpolar"
           }
          ],
          "scatterpolargl": [
           {
            "marker": {
             "colorbar": {
              "outlinewidth": 0,
              "ticks": ""
             }
            },
            "type": "scatterpolargl"
           }
          ],
          "scatterternary": [
           {
            "marker": {
             "colorbar": {
              "outlinewidth": 0,
              "ticks": ""
             }
            },
            "type": "scatterternary"
           }
          ],
          "surface": [
           {
            "colorbar": {
             "outlinewidth": 0,
             "ticks": ""
            },
            "colorscale": [
             [
              0,
              "#0d0887"
             ],
             [
              0.1111111111111111,
              "#46039f"
             ],
             [
              0.2222222222222222,
              "#7201a8"
             ],
             [
              0.3333333333333333,
              "#9c179e"
             ],
             [
              0.4444444444444444,
              "#bd3786"
             ],
             [
              0.5555555555555556,
              "#d8576b"
             ],
             [
              0.6666666666666666,
              "#ed7953"
             ],
             [
              0.7777777777777778,
              "#fb9f3a"
             ],
             [
              0.8888888888888888,
              "#fdca26"
             ],
             [
              1,
              "#f0f921"
             ]
            ],
            "type": "surface"
           }
          ],
          "table": [
           {
            "cells": {
             "fill": {
              "color": "#EBF0F8"
             },
             "line": {
              "color": "white"
             }
            },
            "header": {
             "fill": {
              "color": "#C8D4E3"
             },
             "line": {
              "color": "white"
             }
            },
            "type": "table"
           }
          ]
         },
         "layout": {
          "annotationdefaults": {
           "arrowcolor": "#2a3f5f",
           "arrowhead": 0,
           "arrowwidth": 1
          },
          "colorscale": {
           "diverging": [
            [
             0,
             "#8e0152"
            ],
            [
             0.1,
             "#c51b7d"
            ],
            [
             0.2,
             "#de77ae"
            ],
            [
             0.3,
             "#f1b6da"
            ],
            [
             0.4,
             "#fde0ef"
            ],
            [
             0.5,
             "#f7f7f7"
            ],
            [
             0.6,
             "#e6f5d0"
            ],
            [
             0.7,
             "#b8e186"
            ],
            [
             0.8,
             "#7fbc41"
            ],
            [
             0.9,
             "#4d9221"
            ],
            [
             1,
             "#276419"
            ]
           ],
           "sequential": [
            [
             0,
             "#0d0887"
            ],
            [
             0.1111111111111111,
             "#46039f"
            ],
            [
             0.2222222222222222,
             "#7201a8"
            ],
            [
             0.3333333333333333,
             "#9c179e"
            ],
            [
             0.4444444444444444,
             "#bd3786"
            ],
            [
             0.5555555555555556,
             "#d8576b"
            ],
            [
             0.6666666666666666,
             "#ed7953"
            ],
            [
             0.7777777777777778,
             "#fb9f3a"
            ],
            [
             0.8888888888888888,
             "#fdca26"
            ],
            [
             1,
             "#f0f921"
            ]
           ],
           "sequentialminus": [
            [
             0,
             "#0d0887"
            ],
            [
             0.1111111111111111,
             "#46039f"
            ],
            [
             0.2222222222222222,
             "#7201a8"
            ],
            [
             0.3333333333333333,
             "#9c179e"
            ],
            [
             0.4444444444444444,
             "#bd3786"
            ],
            [
             0.5555555555555556,
             "#d8576b"
            ],
            [
             0.6666666666666666,
             "#ed7953"
            ],
            [
             0.7777777777777778,
             "#fb9f3a"
            ],
            [
             0.8888888888888888,
             "#fdca26"
            ],
            [
             1,
             "#f0f921"
            ]
           ]
          },
          "colorway": [
           "#636efa",
           "#EF553B",
           "#00cc96",
           "#ab63fa",
           "#FFA15A",
           "#19d3f3",
           "#FF6692",
           "#B6E880",
           "#FF97FF",
           "#FECB52"
          ],
          "font": {
           "color": "#2a3f5f"
          },
          "geo": {
           "bgcolor": "white",
           "lakecolor": "white",
           "landcolor": "#E5ECF6",
           "showlakes": true,
           "showland": true,
           "subunitcolor": "white"
          },
          "hoverlabel": {
           "align": "left"
          },
          "hovermode": "closest",
          "mapbox": {
           "style": "light"
          },
          "paper_bgcolor": "white",
          "plot_bgcolor": "#E5ECF6",
          "polar": {
           "angularaxis": {
            "gridcolor": "white",
            "linecolor": "white",
            "ticks": ""
           },
           "bgcolor": "#E5ECF6",
           "radialaxis": {
            "gridcolor": "white",
            "linecolor": "white",
            "ticks": ""
           }
          },
          "scene": {
           "xaxis": {
            "backgroundcolor": "#E5ECF6",
            "gridcolor": "white",
            "gridwidth": 2,
            "linecolor": "white",
            "showbackground": true,
            "ticks": "",
            "zerolinecolor": "white"
           },
           "yaxis": {
            "backgroundcolor": "#E5ECF6",
            "gridcolor": "white",
            "gridwidth": 2,
            "linecolor": "white",
            "showbackground": true,
            "ticks": "",
            "zerolinecolor": "white"
           },
           "zaxis": {
            "backgroundcolor": "#E5ECF6",
            "gridcolor": "white",
            "gridwidth": 2,
            "linecolor": "white",
            "showbackground": true,
            "ticks": "",
            "zerolinecolor": "white"
           }
          },
          "shapedefaults": {
           "line": {
            "color": "#2a3f5f"
           }
          },
          "ternary": {
           "aaxis": {
            "gridcolor": "white",
            "linecolor": "white",
            "ticks": ""
           },
           "baxis": {
            "gridcolor": "white",
            "linecolor": "white",
            "ticks": ""
           },
           "bgcolor": "#E5ECF6",
           "caxis": {
            "gridcolor": "white",
            "linecolor": "white",
            "ticks": ""
           }
          },
          "title": {
           "x": 0.05
          },
          "xaxis": {
           "automargin": true,
           "gridcolor": "white",
           "linecolor": "white",
           "ticks": "",
           "zerolinecolor": "white",
           "zerolinewidth": 2
          },
          "yaxis": {
           "automargin": true,
           "gridcolor": "white",
           "linecolor": "white",
           "ticks": "",
           "zerolinecolor": "white",
           "zerolinewidth": 2
          }
         }
        }
       }
      },
      "text/html": [
       "<div>\n",
       "        \n",
       "        \n",
       "            <div id=\"bd88396e-9ad0-4ddc-b5c7-35e239c3aa67\" class=\"plotly-graph-div\" style=\"height:525px; width:100%;\"></div>\n",
       "            <script type=\"text/javascript\">\n",
       "                require([\"plotly\"], function(Plotly) {\n",
       "                    window.PLOTLYENV=window.PLOTLYENV || {};\n",
       "                    \n",
       "                if (document.getElementById(\"bd88396e-9ad0-4ddc-b5c7-35e239c3aa67\")) {\n",
       "                    Plotly.newPlot(\n",
       "                        'bd88396e-9ad0-4ddc-b5c7-35e239c3aa67',\n",
       "                        [{\"mode\": \"lines+markers\", \"name\": \"a\", \"type\": \"scatter\", \"x\": [300, 301, 302, 303, 304, 305, 306, 307, 308, 309, 310, 311, 312, 313, 314, 315, 316, 317, 318, 319, 320, 321, 322, 323, 324, 325, 326, 327, 328, 329], \"y\": [2.2448, 2.2507, 2.253, 2.2397, 2.2391, 2.2448, 2.241, 2.2315, 2.2395, 2.2391, 2.247, 2.2409, 2.2441, 2.2449, 2.2407, 2.2502, 2.244, 2.2412, 2.2478, 2.2441, 2.2456, 2.249, 2.2404, 2.2466, 2.2424, 2.2368, 2.2385, 2.2459, 2.2362, 2.2335]}],\n",
       "                        {\"template\": {\"data\": {\"bar\": [{\"error_x\": {\"color\": \"#2a3f5f\"}, \"error_y\": {\"color\": \"#2a3f5f\"}, \"marker\": {\"line\": {\"color\": \"#E5ECF6\", \"width\": 0.5}}, \"type\": \"bar\"}], \"barpolar\": [{\"marker\": {\"line\": {\"color\": \"#E5ECF6\", \"width\": 0.5}}, \"type\": \"barpolar\"}], \"carpet\": [{\"aaxis\": {\"endlinecolor\": \"#2a3f5f\", \"gridcolor\": \"white\", \"linecolor\": \"white\", \"minorgridcolor\": \"white\", \"startlinecolor\": \"#2a3f5f\"}, \"baxis\": {\"endlinecolor\": \"#2a3f5f\", \"gridcolor\": \"white\", \"linecolor\": \"white\", \"minorgridcolor\": \"white\", \"startlinecolor\": \"#2a3f5f\"}, \"type\": \"carpet\"}], \"choropleth\": [{\"colorbar\": {\"outlinewidth\": 0, \"ticks\": \"\"}, \"type\": \"choropleth\"}], \"contour\": [{\"colorbar\": {\"outlinewidth\": 0, \"ticks\": \"\"}, \"colorscale\": [[0.0, \"#0d0887\"], [0.1111111111111111, \"#46039f\"], [0.2222222222222222, \"#7201a8\"], [0.3333333333333333, \"#9c179e\"], [0.4444444444444444, \"#bd3786\"], [0.5555555555555556, \"#d8576b\"], [0.6666666666666666, \"#ed7953\"], [0.7777777777777778, \"#fb9f3a\"], [0.8888888888888888, \"#fdca26\"], [1.0, \"#f0f921\"]], \"type\": \"contour\"}], \"contourcarpet\": [{\"colorbar\": {\"outlinewidth\": 0, \"ticks\": \"\"}, \"type\": \"contourcarpet\"}], \"heatmap\": [{\"colorbar\": {\"outlinewidth\": 0, \"ticks\": \"\"}, \"colorscale\": [[0.0, \"#0d0887\"], [0.1111111111111111, \"#46039f\"], [0.2222222222222222, \"#7201a8\"], [0.3333333333333333, \"#9c179e\"], [0.4444444444444444, \"#bd3786\"], [0.5555555555555556, \"#d8576b\"], [0.6666666666666666, \"#ed7953\"], [0.7777777777777778, \"#fb9f3a\"], [0.8888888888888888, \"#fdca26\"], [1.0, \"#f0f921\"]], \"type\": \"heatmap\"}], \"heatmapgl\": [{\"colorbar\": {\"outlinewidth\": 0, \"ticks\": \"\"}, \"colorscale\": [[0.0, \"#0d0887\"], [0.1111111111111111, \"#46039f\"], [0.2222222222222222, \"#7201a8\"], [0.3333333333333333, \"#9c179e\"], [0.4444444444444444, \"#bd3786\"], [0.5555555555555556, \"#d8576b\"], [0.6666666666666666, \"#ed7953\"], [0.7777777777777778, \"#fb9f3a\"], [0.8888888888888888, \"#fdca26\"], [1.0, \"#f0f921\"]], \"type\": \"heatmapgl\"}], \"histogram\": [{\"marker\": {\"colorbar\": {\"outlinewidth\": 0, \"ticks\": \"\"}}, \"type\": \"histogram\"}], \"histogram2d\": [{\"colorbar\": {\"outlinewidth\": 0, \"ticks\": \"\"}, \"colorscale\": [[0.0, \"#0d0887\"], [0.1111111111111111, \"#46039f\"], [0.2222222222222222, \"#7201a8\"], [0.3333333333333333, \"#9c179e\"], [0.4444444444444444, \"#bd3786\"], [0.5555555555555556, \"#d8576b\"], [0.6666666666666666, \"#ed7953\"], [0.7777777777777778, \"#fb9f3a\"], [0.8888888888888888, \"#fdca26\"], [1.0, \"#f0f921\"]], \"type\": \"histogram2d\"}], \"histogram2dcontour\": [{\"colorbar\": {\"outlinewidth\": 0, \"ticks\": \"\"}, \"colorscale\": [[0.0, \"#0d0887\"], [0.1111111111111111, \"#46039f\"], [0.2222222222222222, \"#7201a8\"], [0.3333333333333333, \"#9c179e\"], [0.4444444444444444, \"#bd3786\"], [0.5555555555555556, \"#d8576b\"], [0.6666666666666666, \"#ed7953\"], [0.7777777777777778, \"#fb9f3a\"], [0.8888888888888888, \"#fdca26\"], [1.0, \"#f0f921\"]], \"type\": \"histogram2dcontour\"}], \"mesh3d\": [{\"colorbar\": {\"outlinewidth\": 0, \"ticks\": \"\"}, \"type\": \"mesh3d\"}], \"parcoords\": [{\"line\": {\"colorbar\": {\"outlinewidth\": 0, \"ticks\": \"\"}}, \"type\": \"parcoords\"}], \"scatter\": [{\"marker\": {\"colorbar\": {\"outlinewidth\": 0, \"ticks\": \"\"}}, \"type\": \"scatter\"}], \"scatter3d\": [{\"line\": {\"colorbar\": {\"outlinewidth\": 0, \"ticks\": \"\"}}, \"marker\": {\"colorbar\": {\"outlinewidth\": 0, \"ticks\": \"\"}}, \"type\": \"scatter3d\"}], \"scattercarpet\": [{\"marker\": {\"colorbar\": {\"outlinewidth\": 0, \"ticks\": \"\"}}, \"type\": \"scattercarpet\"}], \"scattergeo\": [{\"marker\": {\"colorbar\": {\"outlinewidth\": 0, \"ticks\": \"\"}}, \"type\": \"scattergeo\"}], \"scattergl\": [{\"marker\": {\"colorbar\": {\"outlinewidth\": 0, \"ticks\": \"\"}}, \"type\": \"scattergl\"}], \"scattermapbox\": [{\"marker\": {\"colorbar\": {\"outlinewidth\": 0, \"ticks\": \"\"}}, \"type\": \"scattermapbox\"}], \"scatterpolar\": [{\"marker\": {\"colorbar\": {\"outlinewidth\": 0, \"ticks\": \"\"}}, \"type\": \"scatterpolar\"}], \"scatterpolargl\": [{\"marker\": {\"colorbar\": {\"outlinewidth\": 0, \"ticks\": \"\"}}, \"type\": \"scatterpolargl\"}], \"scatterternary\": [{\"marker\": {\"colorbar\": {\"outlinewidth\": 0, \"ticks\": \"\"}}, \"type\": \"scatterternary\"}], \"surface\": [{\"colorbar\": {\"outlinewidth\": 0, \"ticks\": \"\"}, \"colorscale\": [[0.0, \"#0d0887\"], [0.1111111111111111, \"#46039f\"], [0.2222222222222222, \"#7201a8\"], [0.3333333333333333, \"#9c179e\"], [0.4444444444444444, \"#bd3786\"], [0.5555555555555556, \"#d8576b\"], [0.6666666666666666, \"#ed7953\"], [0.7777777777777778, \"#fb9f3a\"], [0.8888888888888888, \"#fdca26\"], [1.0, \"#f0f921\"]], \"type\": \"surface\"}], \"table\": [{\"cells\": {\"fill\": {\"color\": \"#EBF0F8\"}, \"line\": {\"color\": \"white\"}}, \"header\": {\"fill\": {\"color\": \"#C8D4E3\"}, \"line\": {\"color\": \"white\"}}, \"type\": \"table\"}]}, \"layout\": {\"annotationdefaults\": {\"arrowcolor\": \"#2a3f5f\", \"arrowhead\": 0, \"arrowwidth\": 1}, \"colorscale\": {\"diverging\": [[0, \"#8e0152\"], [0.1, \"#c51b7d\"], [0.2, \"#de77ae\"], [0.3, \"#f1b6da\"], [0.4, \"#fde0ef\"], [0.5, \"#f7f7f7\"], [0.6, \"#e6f5d0\"], [0.7, \"#b8e186\"], [0.8, \"#7fbc41\"], [0.9, \"#4d9221\"], [1, \"#276419\"]], \"sequential\": [[0.0, \"#0d0887\"], [0.1111111111111111, \"#46039f\"], [0.2222222222222222, \"#7201a8\"], [0.3333333333333333, \"#9c179e\"], [0.4444444444444444, \"#bd3786\"], [0.5555555555555556, \"#d8576b\"], [0.6666666666666666, \"#ed7953\"], [0.7777777777777778, \"#fb9f3a\"], [0.8888888888888888, \"#fdca26\"], [1.0, \"#f0f921\"]], \"sequentialminus\": [[0.0, \"#0d0887\"], [0.1111111111111111, \"#46039f\"], [0.2222222222222222, \"#7201a8\"], [0.3333333333333333, \"#9c179e\"], [0.4444444444444444, \"#bd3786\"], [0.5555555555555556, \"#d8576b\"], [0.6666666666666666, \"#ed7953\"], [0.7777777777777778, \"#fb9f3a\"], [0.8888888888888888, \"#fdca26\"], [1.0, \"#f0f921\"]]}, \"colorway\": [\"#636efa\", \"#EF553B\", \"#00cc96\", \"#ab63fa\", \"#FFA15A\", \"#19d3f3\", \"#FF6692\", \"#B6E880\", \"#FF97FF\", \"#FECB52\"], \"font\": {\"color\": \"#2a3f5f\"}, \"geo\": {\"bgcolor\": \"white\", \"lakecolor\": \"white\", \"landcolor\": \"#E5ECF6\", \"showlakes\": true, \"showland\": true, \"subunitcolor\": \"white\"}, \"hoverlabel\": {\"align\": \"left\"}, \"hovermode\": \"closest\", \"mapbox\": {\"style\": \"light\"}, \"paper_bgcolor\": \"white\", \"plot_bgcolor\": \"#E5ECF6\", \"polar\": {\"angularaxis\": {\"gridcolor\": \"white\", \"linecolor\": \"white\", \"ticks\": \"\"}, \"bgcolor\": \"#E5ECF6\", \"radialaxis\": {\"gridcolor\": \"white\", \"linecolor\": \"white\", \"ticks\": \"\"}}, \"scene\": {\"xaxis\": {\"backgroundcolor\": \"#E5ECF6\", \"gridcolor\": \"white\", \"gridwidth\": 2, \"linecolor\": \"white\", \"showbackground\": true, \"ticks\": \"\", \"zerolinecolor\": \"white\"}, \"yaxis\": {\"backgroundcolor\": \"#E5ECF6\", \"gridcolor\": \"white\", \"gridwidth\": 2, \"linecolor\": \"white\", \"showbackground\": true, \"ticks\": \"\", \"zerolinecolor\": \"white\"}, \"zaxis\": {\"backgroundcolor\": \"#E5ECF6\", \"gridcolor\": \"white\", \"gridwidth\": 2, \"linecolor\": \"white\", \"showbackground\": true, \"ticks\": \"\", \"zerolinecolor\": \"white\"}}, \"shapedefaults\": {\"line\": {\"color\": \"#2a3f5f\"}}, \"ternary\": {\"aaxis\": {\"gridcolor\": \"white\", \"linecolor\": \"white\", \"ticks\": \"\"}, \"baxis\": {\"gridcolor\": \"white\", \"linecolor\": \"white\", \"ticks\": \"\"}, \"bgcolor\": \"#E5ECF6\", \"caxis\": {\"gridcolor\": \"white\", \"linecolor\": \"white\", \"ticks\": \"\"}}, \"title\": {\"x\": 0.05}, \"xaxis\": {\"automargin\": true, \"gridcolor\": \"white\", \"linecolor\": \"white\", \"ticks\": \"\", \"zerolinecolor\": \"white\", \"zerolinewidth\": 2}, \"yaxis\": {\"automargin\": true, \"gridcolor\": \"white\", \"linecolor\": \"white\", \"ticks\": \"\", \"zerolinecolor\": \"white\", \"zerolinewidth\": 2}}}},\n",
       "                        {\"responsive\": true}\n",
       "                    ).then(function(){\n",
       "                            \n",
       "var gd = document.getElementById('bd88396e-9ad0-4ddc-b5c7-35e239c3aa67');\n",
       "var x = new MutationObserver(function (mutations, observer) {{\n",
       "        var display = window.getComputedStyle(gd).display;\n",
       "        if (!display || display === 'none') {{\n",
       "            console.log([gd, 'removed!']);\n",
       "            Plotly.purge(gd);\n",
       "            observer.disconnect();\n",
       "        }}\n",
       "}});\n",
       "\n",
       "// Listen for the removal of the full notebook cells\n",
       "var notebookContainer = gd.closest('#notebook-container');\n",
       "if (notebookContainer) {{\n",
       "    x.observe(notebookContainer, {childList: true});\n",
       "}}\n",
       "\n",
       "// Listen for the clearing of the current output cell\n",
       "var outputEl = gd.closest('.output');\n",
       "if (outputEl) {{\n",
       "    x.observe(outputEl, {childList: true});\n",
       "}}\n",
       "\n",
       "                        })\n",
       "                };\n",
       "                });\n",
       "            </script>\n",
       "        </div>"
      ]
     },
     "metadata": {},
     "output_type": "display_data"
    }
   ],
   "source": [
    "# n_estimators\n",
    "rmse_arr = {}\n",
    "for i in range(300, 330):\n",
    "    v = i\n",
    "    regr = RandomForestRegressor(max_depth=7, \n",
    "                             n_estimators=v)\n",
    "    regr.fit(en_train, data_train.price)  \n",
    "\n",
    "    pred = regr.predict(en_test)\n",
    "    ret = car_price_evaluate(data_test, pred, 1)\n",
    "    rmse_arr[v] = ret['rmse']\n",
    "print(ret)\n",
    "print(f'best_rmse: {min(list(rmse_arr.values()))}')\n",
    "draw_lines(list(rmse_arr.keys()), [list(rmse_arr.values())], ['a'])\n",
    "\n"
   ]
  },
  {
   "cell_type": "code",
   "execution_count": 17,
   "metadata": {},
   "outputs": [
    {
     "name": "stdout",
     "output_type": "stream",
     "text": [
      "{'rmse': 2.2092, 'mse': 4.8806, 'mape': 6.1191, '5%': 51.370000000000005}\n",
      "best_rmse: 2.2017\n"
     ]
    },
    {
     "data": {
      "application/vnd.plotly.v1+json": {
       "config": {
        "plotlyServerURL": "https://plot.ly"
       },
       "data": [
        {
         "mode": "lines+markers",
         "name": "a",
         "type": "scatter",
         "x": [
          6,
          7,
          8,
          9,
          10,
          11,
          12,
          13
         ],
         "y": [
          2.2818,
          2.2396,
          2.2103,
          2.2134,
          2.2046,
          2.2113,
          2.2017,
          2.2092
         ]
        }
       ],
       "layout": {
        "template": {
         "data": {
          "bar": [
           {
            "error_x": {
             "color": "#2a3f5f"
            },
            "error_y": {
             "color": "#2a3f5f"
            },
            "marker": {
             "line": {
              "color": "#E5ECF6",
              "width": 0.5
             }
            },
            "type": "bar"
           }
          ],
          "barpolar": [
           {
            "marker": {
             "line": {
              "color": "#E5ECF6",
              "width": 0.5
             }
            },
            "type": "barpolar"
           }
          ],
          "carpet": [
           {
            "aaxis": {
             "endlinecolor": "#2a3f5f",
             "gridcolor": "white",
             "linecolor": "white",
             "minorgridcolor": "white",
             "startlinecolor": "#2a3f5f"
            },
            "baxis": {
             "endlinecolor": "#2a3f5f",
             "gridcolor": "white",
             "linecolor": "white",
             "minorgridcolor": "white",
             "startlinecolor": "#2a3f5f"
            },
            "type": "carpet"
           }
          ],
          "choropleth": [
           {
            "colorbar": {
             "outlinewidth": 0,
             "ticks": ""
            },
            "type": "choropleth"
           }
          ],
          "contour": [
           {
            "colorbar": {
             "outlinewidth": 0,
             "ticks": ""
            },
            "colorscale": [
             [
              0,
              "#0d0887"
             ],
             [
              0.1111111111111111,
              "#46039f"
             ],
             [
              0.2222222222222222,
              "#7201a8"
             ],
             [
              0.3333333333333333,
              "#9c179e"
             ],
             [
              0.4444444444444444,
              "#bd3786"
             ],
             [
              0.5555555555555556,
              "#d8576b"
             ],
             [
              0.6666666666666666,
              "#ed7953"
             ],
             [
              0.7777777777777778,
              "#fb9f3a"
             ],
             [
              0.8888888888888888,
              "#fdca26"
             ],
             [
              1,
              "#f0f921"
             ]
            ],
            "type": "contour"
           }
          ],
          "contourcarpet": [
           {
            "colorbar": {
             "outlinewidth": 0,
             "ticks": ""
            },
            "type": "contourcarpet"
           }
          ],
          "heatmap": [
           {
            "colorbar": {
             "outlinewidth": 0,
             "ticks": ""
            },
            "colorscale": [
             [
              0,
              "#0d0887"
             ],
             [
              0.1111111111111111,
              "#46039f"
             ],
             [
              0.2222222222222222,
              "#7201a8"
             ],
             [
              0.3333333333333333,
              "#9c179e"
             ],
             [
              0.4444444444444444,
              "#bd3786"
             ],
             [
              0.5555555555555556,
              "#d8576b"
             ],
             [
              0.6666666666666666,
              "#ed7953"
             ],
             [
              0.7777777777777778,
              "#fb9f3a"
             ],
             [
              0.8888888888888888,
              "#fdca26"
             ],
             [
              1,
              "#f0f921"
             ]
            ],
            "type": "heatmap"
           }
          ],
          "heatmapgl": [
           {
            "colorbar": {
             "outlinewidth": 0,
             "ticks": ""
            },
            "colorscale": [
             [
              0,
              "#0d0887"
             ],
             [
              0.1111111111111111,
              "#46039f"
             ],
             [
              0.2222222222222222,
              "#7201a8"
             ],
             [
              0.3333333333333333,
              "#9c179e"
             ],
             [
              0.4444444444444444,
              "#bd3786"
             ],
             [
              0.5555555555555556,
              "#d8576b"
             ],
             [
              0.6666666666666666,
              "#ed7953"
             ],
             [
              0.7777777777777778,
              "#fb9f3a"
             ],
             [
              0.8888888888888888,
              "#fdca26"
             ],
             [
              1,
              "#f0f921"
             ]
            ],
            "type": "heatmapgl"
           }
          ],
          "histogram": [
           {
            "marker": {
             "colorbar": {
              "outlinewidth": 0,
              "ticks": ""
             }
            },
            "type": "histogram"
           }
          ],
          "histogram2d": [
           {
            "colorbar": {
             "outlinewidth": 0,
             "ticks": ""
            },
            "colorscale": [
             [
              0,
              "#0d0887"
             ],
             [
              0.1111111111111111,
              "#46039f"
             ],
             [
              0.2222222222222222,
              "#7201a8"
             ],
             [
              0.3333333333333333,
              "#9c179e"
             ],
             [
              0.4444444444444444,
              "#bd3786"
             ],
             [
              0.5555555555555556,
              "#d8576b"
             ],
             [
              0.6666666666666666,
              "#ed7953"
             ],
             [
              0.7777777777777778,
              "#fb9f3a"
             ],
             [
              0.8888888888888888,
              "#fdca26"
             ],
             [
              1,
              "#f0f921"
             ]
            ],
            "type": "histogram2d"
           }
          ],
          "histogram2dcontour": [
           {
            "colorbar": {
             "outlinewidth": 0,
             "ticks": ""
            },
            "colorscale": [
             [
              0,
              "#0d0887"
             ],
             [
              0.1111111111111111,
              "#46039f"
             ],
             [
              0.2222222222222222,
              "#7201a8"
             ],
             [
              0.3333333333333333,
              "#9c179e"
             ],
             [
              0.4444444444444444,
              "#bd3786"
             ],
             [
              0.5555555555555556,
              "#d8576b"
             ],
             [
              0.6666666666666666,
              "#ed7953"
             ],
             [
              0.7777777777777778,
              "#fb9f3a"
             ],
             [
              0.8888888888888888,
              "#fdca26"
             ],
             [
              1,
              "#f0f921"
             ]
            ],
            "type": "histogram2dcontour"
           }
          ],
          "mesh3d": [
           {
            "colorbar": {
             "outlinewidth": 0,
             "ticks": ""
            },
            "type": "mesh3d"
           }
          ],
          "parcoords": [
           {
            "line": {
             "colorbar": {
              "outlinewidth": 0,
              "ticks": ""
             }
            },
            "type": "parcoords"
           }
          ],
          "scatter": [
           {
            "marker": {
             "colorbar": {
              "outlinewidth": 0,
              "ticks": ""
             }
            },
            "type": "scatter"
           }
          ],
          "scatter3d": [
           {
            "line": {
             "colorbar": {
              "outlinewidth": 0,
              "ticks": ""
             }
            },
            "marker": {
             "colorbar": {
              "outlinewidth": 0,
              "ticks": ""
             }
            },
            "type": "scatter3d"
           }
          ],
          "scattercarpet": [
           {
            "marker": {
             "colorbar": {
              "outlinewidth": 0,
              "ticks": ""
             }
            },
            "type": "scattercarpet"
           }
          ],
          "scattergeo": [
           {
            "marker": {
             "colorbar": {
              "outlinewidth": 0,
              "ticks": ""
             }
            },
            "type": "scattergeo"
           }
          ],
          "scattergl": [
           {
            "marker": {
             "colorbar": {
              "outlinewidth": 0,
              "ticks": ""
             }
            },
            "type": "scattergl"
           }
          ],
          "scattermapbox": [
           {
            "marker": {
             "colorbar": {
              "outlinewidth": 0,
              "ticks": ""
             }
            },
            "type": "scattermapbox"
           }
          ],
          "scatterpolar": [
           {
            "marker": {
             "colorbar": {
              "outlinewidth": 0,
              "ticks": ""
             }
            },
            "type": "scatterpolar"
           }
          ],
          "scatterpolargl": [
           {
            "marker": {
             "colorbar": {
              "outlinewidth": 0,
              "ticks": ""
             }
            },
            "type": "scatterpolargl"
           }
          ],
          "scatterternary": [
           {
            "marker": {
             "colorbar": {
              "outlinewidth": 0,
              "ticks": ""
             }
            },
            "type": "scatterternary"
           }
          ],
          "surface": [
           {
            "colorbar": {
             "outlinewidth": 0,
             "ticks": ""
            },
            "colorscale": [
             [
              0,
              "#0d0887"
             ],
             [
              0.1111111111111111,
              "#46039f"
             ],
             [
              0.2222222222222222,
              "#7201a8"
             ],
             [
              0.3333333333333333,
              "#9c179e"
             ],
             [
              0.4444444444444444,
              "#bd3786"
             ],
             [
              0.5555555555555556,
              "#d8576b"
             ],
             [
              0.6666666666666666,
              "#ed7953"
             ],
             [
              0.7777777777777778,
              "#fb9f3a"
             ],
             [
              0.8888888888888888,
              "#fdca26"
             ],
             [
              1,
              "#f0f921"
             ]
            ],
            "type": "surface"
           }
          ],
          "table": [
           {
            "cells": {
             "fill": {
              "color": "#EBF0F8"
             },
             "line": {
              "color": "white"
             }
            },
            "header": {
             "fill": {
              "color": "#C8D4E3"
             },
             "line": {
              "color": "white"
             }
            },
            "type": "table"
           }
          ]
         },
         "layout": {
          "annotationdefaults": {
           "arrowcolor": "#2a3f5f",
           "arrowhead": 0,
           "arrowwidth": 1
          },
          "colorscale": {
           "diverging": [
            [
             0,
             "#8e0152"
            ],
            [
             0.1,
             "#c51b7d"
            ],
            [
             0.2,
             "#de77ae"
            ],
            [
             0.3,
             "#f1b6da"
            ],
            [
             0.4,
             "#fde0ef"
            ],
            [
             0.5,
             "#f7f7f7"
            ],
            [
             0.6,
             "#e6f5d0"
            ],
            [
             0.7,
             "#b8e186"
            ],
            [
             0.8,
             "#7fbc41"
            ],
            [
             0.9,
             "#4d9221"
            ],
            [
             1,
             "#276419"
            ]
           ],
           "sequential": [
            [
             0,
             "#0d0887"
            ],
            [
             0.1111111111111111,
             "#46039f"
            ],
            [
             0.2222222222222222,
             "#7201a8"
            ],
            [
             0.3333333333333333,
             "#9c179e"
            ],
            [
             0.4444444444444444,
             "#bd3786"
            ],
            [
             0.5555555555555556,
             "#d8576b"
            ],
            [
             0.6666666666666666,
             "#ed7953"
            ],
            [
             0.7777777777777778,
             "#fb9f3a"
            ],
            [
             0.8888888888888888,
             "#fdca26"
            ],
            [
             1,
             "#f0f921"
            ]
           ],
           "sequentialminus": [
            [
             0,
             "#0d0887"
            ],
            [
             0.1111111111111111,
             "#46039f"
            ],
            [
             0.2222222222222222,
             "#7201a8"
            ],
            [
             0.3333333333333333,
             "#9c179e"
            ],
            [
             0.4444444444444444,
             "#bd3786"
            ],
            [
             0.5555555555555556,
             "#d8576b"
            ],
            [
             0.6666666666666666,
             "#ed7953"
            ],
            [
             0.7777777777777778,
             "#fb9f3a"
            ],
            [
             0.8888888888888888,
             "#fdca26"
            ],
            [
             1,
             "#f0f921"
            ]
           ]
          },
          "colorway": [
           "#636efa",
           "#EF553B",
           "#00cc96",
           "#ab63fa",
           "#FFA15A",
           "#19d3f3",
           "#FF6692",
           "#B6E880",
           "#FF97FF",
           "#FECB52"
          ],
          "font": {
           "color": "#2a3f5f"
          },
          "geo": {
           "bgcolor": "white",
           "lakecolor": "white",
           "landcolor": "#E5ECF6",
           "showlakes": true,
           "showland": true,
           "subunitcolor": "white"
          },
          "hoverlabel": {
           "align": "left"
          },
          "hovermode": "closest",
          "mapbox": {
           "style": "light"
          },
          "paper_bgcolor": "white",
          "plot_bgcolor": "#E5ECF6",
          "polar": {
           "angularaxis": {
            "gridcolor": "white",
            "linecolor": "white",
            "ticks": ""
           },
           "bgcolor": "#E5ECF6",
           "radialaxis": {
            "gridcolor": "white",
            "linecolor": "white",
            "ticks": ""
           }
          },
          "scene": {
           "xaxis": {
            "backgroundcolor": "#E5ECF6",
            "gridcolor": "white",
            "gridwidth": 2,
            "linecolor": "white",
            "showbackground": true,
            "ticks": "",
            "zerolinecolor": "white"
           },
           "yaxis": {
            "backgroundcolor": "#E5ECF6",
            "gridcolor": "white",
            "gridwidth": 2,
            "linecolor": "white",
            "showbackground": true,
            "ticks": "",
            "zerolinecolor": "white"
           },
           "zaxis": {
            "backgroundcolor": "#E5ECF6",
            "gridcolor": "white",
            "gridwidth": 2,
            "linecolor": "white",
            "showbackground": true,
            "ticks": "",
            "zerolinecolor": "white"
           }
          },
          "shapedefaults": {
           "line": {
            "color": "#2a3f5f"
           }
          },
          "ternary": {
           "aaxis": {
            "gridcolor": "white",
            "linecolor": "white",
            "ticks": ""
           },
           "baxis": {
            "gridcolor": "white",
            "linecolor": "white",
            "ticks": ""
           },
           "bgcolor": "#E5ECF6",
           "caxis": {
            "gridcolor": "white",
            "linecolor": "white",
            "ticks": ""
           }
          },
          "title": {
           "x": 0.05
          },
          "xaxis": {
           "automargin": true,
           "gridcolor": "white",
           "linecolor": "white",
           "ticks": "",
           "zerolinecolor": "white",
           "zerolinewidth": 2
          },
          "yaxis": {
           "automargin": true,
           "gridcolor": "white",
           "linecolor": "white",
           "ticks": "",
           "zerolinecolor": "white",
           "zerolinewidth": 2
          }
         }
        }
       }
      },
      "text/html": [
       "<div>\n",
       "        \n",
       "        \n",
       "            <div id=\"7fba8d78-2ba6-4a94-b647-fa6a239b56b7\" class=\"plotly-graph-div\" style=\"height:525px; width:100%;\"></div>\n",
       "            <script type=\"text/javascript\">\n",
       "                require([\"plotly\"], function(Plotly) {\n",
       "                    window.PLOTLYENV=window.PLOTLYENV || {};\n",
       "                    \n",
       "                if (document.getElementById(\"7fba8d78-2ba6-4a94-b647-fa6a239b56b7\")) {\n",
       "                    Plotly.newPlot(\n",
       "                        '7fba8d78-2ba6-4a94-b647-fa6a239b56b7',\n",
       "                        [{\"mode\": \"lines+markers\", \"name\": \"a\", \"type\": \"scatter\", \"x\": [6, 7, 8, 9, 10, 11, 12, 13], \"y\": [2.2818, 2.2396, 2.2103, 2.2134, 2.2046, 2.2113, 2.2017, 2.2092]}],\n",
       "                        {\"template\": {\"data\": {\"bar\": [{\"error_x\": {\"color\": \"#2a3f5f\"}, \"error_y\": {\"color\": \"#2a3f5f\"}, \"marker\": {\"line\": {\"color\": \"#E5ECF6\", \"width\": 0.5}}, \"type\": \"bar\"}], \"barpolar\": [{\"marker\": {\"line\": {\"color\": \"#E5ECF6\", \"width\": 0.5}}, \"type\": \"barpolar\"}], \"carpet\": [{\"aaxis\": {\"endlinecolor\": \"#2a3f5f\", \"gridcolor\": \"white\", \"linecolor\": \"white\", \"minorgridcolor\": \"white\", \"startlinecolor\": \"#2a3f5f\"}, \"baxis\": {\"endlinecolor\": \"#2a3f5f\", \"gridcolor\": \"white\", \"linecolor\": \"white\", \"minorgridcolor\": \"white\", \"startlinecolor\": \"#2a3f5f\"}, \"type\": \"carpet\"}], \"choropleth\": [{\"colorbar\": {\"outlinewidth\": 0, \"ticks\": \"\"}, \"type\": \"choropleth\"}], \"contour\": [{\"colorbar\": {\"outlinewidth\": 0, \"ticks\": \"\"}, \"colorscale\": [[0.0, \"#0d0887\"], [0.1111111111111111, \"#46039f\"], [0.2222222222222222, \"#7201a8\"], [0.3333333333333333, \"#9c179e\"], [0.4444444444444444, \"#bd3786\"], [0.5555555555555556, \"#d8576b\"], [0.6666666666666666, \"#ed7953\"], [0.7777777777777778, \"#fb9f3a\"], [0.8888888888888888, \"#fdca26\"], [1.0, \"#f0f921\"]], \"type\": \"contour\"}], \"contourcarpet\": [{\"colorbar\": {\"outlinewidth\": 0, \"ticks\": \"\"}, \"type\": \"contourcarpet\"}], \"heatmap\": [{\"colorbar\": {\"outlinewidth\": 0, \"ticks\": \"\"}, \"colorscale\": [[0.0, \"#0d0887\"], [0.1111111111111111, \"#46039f\"], [0.2222222222222222, \"#7201a8\"], [0.3333333333333333, \"#9c179e\"], [0.4444444444444444, \"#bd3786\"], [0.5555555555555556, \"#d8576b\"], [0.6666666666666666, \"#ed7953\"], [0.7777777777777778, \"#fb9f3a\"], [0.8888888888888888, \"#fdca26\"], [1.0, \"#f0f921\"]], \"type\": \"heatmap\"}], \"heatmapgl\": [{\"colorbar\": {\"outlinewidth\": 0, \"ticks\": \"\"}, \"colorscale\": [[0.0, \"#0d0887\"], [0.1111111111111111, \"#46039f\"], [0.2222222222222222, \"#7201a8\"], [0.3333333333333333, \"#9c179e\"], [0.4444444444444444, \"#bd3786\"], [0.5555555555555556, \"#d8576b\"], [0.6666666666666666, \"#ed7953\"], [0.7777777777777778, \"#fb9f3a\"], [0.8888888888888888, \"#fdca26\"], [1.0, \"#f0f921\"]], \"type\": \"heatmapgl\"}], \"histogram\": [{\"marker\": {\"colorbar\": {\"outlinewidth\": 0, \"ticks\": \"\"}}, \"type\": \"histogram\"}], \"histogram2d\": [{\"colorbar\": {\"outlinewidth\": 0, \"ticks\": \"\"}, \"colorscale\": [[0.0, \"#0d0887\"], [0.1111111111111111, \"#46039f\"], [0.2222222222222222, \"#7201a8\"], [0.3333333333333333, \"#9c179e\"], [0.4444444444444444, \"#bd3786\"], [0.5555555555555556, \"#d8576b\"], [0.6666666666666666, \"#ed7953\"], [0.7777777777777778, \"#fb9f3a\"], [0.8888888888888888, \"#fdca26\"], [1.0, \"#f0f921\"]], \"type\": \"histogram2d\"}], \"histogram2dcontour\": [{\"colorbar\": {\"outlinewidth\": 0, \"ticks\": \"\"}, \"colorscale\": [[0.0, \"#0d0887\"], [0.1111111111111111, \"#46039f\"], [0.2222222222222222, \"#7201a8\"], [0.3333333333333333, \"#9c179e\"], [0.4444444444444444, \"#bd3786\"], [0.5555555555555556, \"#d8576b\"], [0.6666666666666666, \"#ed7953\"], [0.7777777777777778, \"#fb9f3a\"], [0.8888888888888888, \"#fdca26\"], [1.0, \"#f0f921\"]], \"type\": \"histogram2dcontour\"}], \"mesh3d\": [{\"colorbar\": {\"outlinewidth\": 0, \"ticks\": \"\"}, \"type\": \"mesh3d\"}], \"parcoords\": [{\"line\": {\"colorbar\": {\"outlinewidth\": 0, \"ticks\": \"\"}}, \"type\": \"parcoords\"}], \"scatter\": [{\"marker\": {\"colorbar\": {\"outlinewidth\": 0, \"ticks\": \"\"}}, \"type\": \"scatter\"}], \"scatter3d\": [{\"line\": {\"colorbar\": {\"outlinewidth\": 0, \"ticks\": \"\"}}, \"marker\": {\"colorbar\": {\"outlinewidth\": 0, \"ticks\": \"\"}}, \"type\": \"scatter3d\"}], \"scattercarpet\": [{\"marker\": {\"colorbar\": {\"outlinewidth\": 0, \"ticks\": \"\"}}, \"type\": \"scattercarpet\"}], \"scattergeo\": [{\"marker\": {\"colorbar\": {\"outlinewidth\": 0, \"ticks\": \"\"}}, \"type\": \"scattergeo\"}], \"scattergl\": [{\"marker\": {\"colorbar\": {\"outlinewidth\": 0, \"ticks\": \"\"}}, \"type\": \"scattergl\"}], \"scattermapbox\": [{\"marker\": {\"colorbar\": {\"outlinewidth\": 0, \"ticks\": \"\"}}, \"type\": \"scattermapbox\"}], \"scatterpolar\": [{\"marker\": {\"colorbar\": {\"outlinewidth\": 0, \"ticks\": \"\"}}, \"type\": \"scatterpolar\"}], \"scatterpolargl\": [{\"marker\": {\"colorbar\": {\"outlinewidth\": 0, \"ticks\": \"\"}}, \"type\": \"scatterpolargl\"}], \"scatterternary\": [{\"marker\": {\"colorbar\": {\"outlinewidth\": 0, \"ticks\": \"\"}}, \"type\": \"scatterternary\"}], \"surface\": [{\"colorbar\": {\"outlinewidth\": 0, \"ticks\": \"\"}, \"colorscale\": [[0.0, \"#0d0887\"], [0.1111111111111111, \"#46039f\"], [0.2222222222222222, \"#7201a8\"], [0.3333333333333333, \"#9c179e\"], [0.4444444444444444, \"#bd3786\"], [0.5555555555555556, \"#d8576b\"], [0.6666666666666666, \"#ed7953\"], [0.7777777777777778, \"#fb9f3a\"], [0.8888888888888888, \"#fdca26\"], [1.0, \"#f0f921\"]], \"type\": \"surface\"}], \"table\": [{\"cells\": {\"fill\": {\"color\": \"#EBF0F8\"}, \"line\": {\"color\": \"white\"}}, \"header\": {\"fill\": {\"color\": \"#C8D4E3\"}, \"line\": {\"color\": \"white\"}}, \"type\": \"table\"}]}, \"layout\": {\"annotationdefaults\": {\"arrowcolor\": \"#2a3f5f\", \"arrowhead\": 0, \"arrowwidth\": 1}, \"colorscale\": {\"diverging\": [[0, \"#8e0152\"], [0.1, \"#c51b7d\"], [0.2, \"#de77ae\"], [0.3, \"#f1b6da\"], [0.4, \"#fde0ef\"], [0.5, \"#f7f7f7\"], [0.6, \"#e6f5d0\"], [0.7, \"#b8e186\"], [0.8, \"#7fbc41\"], [0.9, \"#4d9221\"], [1, \"#276419\"]], \"sequential\": [[0.0, \"#0d0887\"], [0.1111111111111111, \"#46039f\"], [0.2222222222222222, \"#7201a8\"], [0.3333333333333333, \"#9c179e\"], [0.4444444444444444, \"#bd3786\"], [0.5555555555555556, \"#d8576b\"], [0.6666666666666666, \"#ed7953\"], [0.7777777777777778, \"#fb9f3a\"], [0.8888888888888888, \"#fdca26\"], [1.0, \"#f0f921\"]], \"sequentialminus\": [[0.0, \"#0d0887\"], [0.1111111111111111, \"#46039f\"], [0.2222222222222222, \"#7201a8\"], [0.3333333333333333, \"#9c179e\"], [0.4444444444444444, \"#bd3786\"], [0.5555555555555556, \"#d8576b\"], [0.6666666666666666, \"#ed7953\"], [0.7777777777777778, \"#fb9f3a\"], [0.8888888888888888, \"#fdca26\"], [1.0, \"#f0f921\"]]}, \"colorway\": [\"#636efa\", \"#EF553B\", \"#00cc96\", \"#ab63fa\", \"#FFA15A\", \"#19d3f3\", \"#FF6692\", \"#B6E880\", \"#FF97FF\", \"#FECB52\"], \"font\": {\"color\": \"#2a3f5f\"}, \"geo\": {\"bgcolor\": \"white\", \"lakecolor\": \"white\", \"landcolor\": \"#E5ECF6\", \"showlakes\": true, \"showland\": true, \"subunitcolor\": \"white\"}, \"hoverlabel\": {\"align\": \"left\"}, \"hovermode\": \"closest\", \"mapbox\": {\"style\": \"light\"}, \"paper_bgcolor\": \"white\", \"plot_bgcolor\": \"#E5ECF6\", \"polar\": {\"angularaxis\": {\"gridcolor\": \"white\", \"linecolor\": \"white\", \"ticks\": \"\"}, \"bgcolor\": \"#E5ECF6\", \"radialaxis\": {\"gridcolor\": \"white\", \"linecolor\": \"white\", \"ticks\": \"\"}}, \"scene\": {\"xaxis\": {\"backgroundcolor\": \"#E5ECF6\", \"gridcolor\": \"white\", \"gridwidth\": 2, \"linecolor\": \"white\", \"showbackground\": true, \"ticks\": \"\", \"zerolinecolor\": \"white\"}, \"yaxis\": {\"backgroundcolor\": \"#E5ECF6\", \"gridcolor\": \"white\", \"gridwidth\": 2, \"linecolor\": \"white\", \"showbackground\": true, \"ticks\": \"\", \"zerolinecolor\": \"white\"}, \"zaxis\": {\"backgroundcolor\": \"#E5ECF6\", \"gridcolor\": \"white\", \"gridwidth\": 2, \"linecolor\": \"white\", \"showbackground\": true, \"ticks\": \"\", \"zerolinecolor\": \"white\"}}, \"shapedefaults\": {\"line\": {\"color\": \"#2a3f5f\"}}, \"ternary\": {\"aaxis\": {\"gridcolor\": \"white\", \"linecolor\": \"white\", \"ticks\": \"\"}, \"baxis\": {\"gridcolor\": \"white\", \"linecolor\": \"white\", \"ticks\": \"\"}, \"bgcolor\": \"#E5ECF6\", \"caxis\": {\"gridcolor\": \"white\", \"linecolor\": \"white\", \"ticks\": \"\"}}, \"title\": {\"x\": 0.05}, \"xaxis\": {\"automargin\": true, \"gridcolor\": \"white\", \"linecolor\": \"white\", \"ticks\": \"\", \"zerolinecolor\": \"white\", \"zerolinewidth\": 2}, \"yaxis\": {\"automargin\": true, \"gridcolor\": \"white\", \"linecolor\": \"white\", \"ticks\": \"\", \"zerolinecolor\": \"white\", \"zerolinewidth\": 2}}}},\n",
       "                        {\"responsive\": true}\n",
       "                    ).then(function(){\n",
       "                            \n",
       "var gd = document.getElementById('7fba8d78-2ba6-4a94-b647-fa6a239b56b7');\n",
       "var x = new MutationObserver(function (mutations, observer) {{\n",
       "        var display = window.getComputedStyle(gd).display;\n",
       "        if (!display || display === 'none') {{\n",
       "            console.log([gd, 'removed!']);\n",
       "            Plotly.purge(gd);\n",
       "            observer.disconnect();\n",
       "        }}\n",
       "}});\n",
       "\n",
       "// Listen for the removal of the full notebook cells\n",
       "var notebookContainer = gd.closest('#notebook-container');\n",
       "if (notebookContainer) {{\n",
       "    x.observe(notebookContainer, {childList: true});\n",
       "}}\n",
       "\n",
       "// Listen for the clearing of the current output cell\n",
       "var outputEl = gd.closest('.output');\n",
       "if (outputEl) {{\n",
       "    x.observe(outputEl, {childList: true});\n",
       "}}\n",
       "\n",
       "                        })\n",
       "                };\n",
       "                });\n",
       "            </script>\n",
       "        </div>"
      ]
     },
     "metadata": {},
     "output_type": "display_data"
    }
   ],
   "source": [
    "# max_depth\n",
    "rmse_arr = {}\n",
    "for i in range(6, 14):\n",
    "    v = i\n",
    "    regr = RandomForestRegressor(max_depth=i, \n",
    "                             n_estimators=200)\n",
    "    regr.fit(en_train, data_train.price)  \n",
    "\n",
    "    pred = regr.predict(en_test)\n",
    "    ret = car_price_evaluate(data_test, pred, 1)\n",
    "    rmse_arr[v] = ret['rmse']\n",
    "print(ret)\n",
    "print(f'best_rmse: {min(list(rmse_arr.values()))}')\n",
    "draw_lines(list(rmse_arr.keys()), [list(rmse_arr.values())], ['a'])\n",
    "\n"
   ]
  },
  {
   "cell_type": "code",
   "execution_count": 18,
   "metadata": {},
   "outputs": [],
   "source": [
    "feat_importance = pd.DataFrame({'feat':feat_list, 'imp': list(regr.feature_importances_)})"
   ]
  },
  {
   "cell_type": "code",
   "execution_count": 19,
   "metadata": {},
   "outputs": [
    {
     "data": {
      "text/html": [
       "<div>\n",
       "<style scoped>\n",
       "    .dataframe tbody tr th:only-of-type {\n",
       "        vertical-align: middle;\n",
       "    }\n",
       "\n",
       "    .dataframe tbody tr th {\n",
       "        vertical-align: top;\n",
       "    }\n",
       "\n",
       "    .dataframe thead th {\n",
       "        text-align: right;\n",
       "    }\n",
       "</style>\n",
       "<table border=\"1\" class=\"dataframe\">\n",
       "  <thead>\n",
       "    <tr style=\"text-align: right;\">\n",
       "      <th></th>\n",
       "      <th>feat</th>\n",
       "      <th>imp</th>\n",
       "    </tr>\n",
       "  </thead>\n",
       "  <tbody>\n",
       "    <tr>\n",
       "      <th>61</th>\n",
       "      <td>used_months</td>\n",
       "      <td>5.695652e-01</td>\n",
       "    </tr>\n",
       "    <tr>\n",
       "      <th>64</th>\n",
       "      <td>used_ages</td>\n",
       "      <td>7.493898e-02</td>\n",
       "    </tr>\n",
       "    <tr>\n",
       "      <th>39</th>\n",
       "      <td>model_age</td>\n",
       "      <td>5.139220e-02</td>\n",
       "    </tr>\n",
       "    <tr>\n",
       "      <th>42</th>\n",
       "      <td>model_year</td>\n",
       "      <td>4.853518e-02</td>\n",
       "    </tr>\n",
       "    <tr>\n",
       "      <th>7</th>\n",
       "      <td>car_length</td>\n",
       "      <td>4.043051e-02</td>\n",
       "    </tr>\n",
       "    <tr>\n",
       "      <th>62</th>\n",
       "      <td>transmission_case</td>\n",
       "      <td>3.835661e-02</td>\n",
       "    </tr>\n",
       "    <tr>\n",
       "      <th>8</th>\n",
       "      <td>car_width</td>\n",
       "      <td>3.633432e-02</td>\n",
       "    </tr>\n",
       "    <tr>\n",
       "      <th>63</th>\n",
       "      <td>mileage</td>\n",
       "      <td>3.178266e-02</td>\n",
       "    </tr>\n",
       "    <tr>\n",
       "      <th>37</th>\n",
       "      <td>max_horse_power</td>\n",
       "      <td>1.492801e-02</td>\n",
       "    </tr>\n",
       "    <tr>\n",
       "      <th>23</th>\n",
       "      <td>edition</td>\n",
       "      <td>1.229652e-02</td>\n",
       "    </tr>\n",
       "    <tr>\n",
       "      <th>67</th>\n",
       "      <td>dipped_headlight</td>\n",
       "      <td>1.209681e-02</td>\n",
       "    </tr>\n",
       "    <tr>\n",
       "      <th>10</th>\n",
       "      <td>deal_city</td>\n",
       "      <td>9.739813e-03</td>\n",
       "    </tr>\n",
       "    <tr>\n",
       "      <th>48</th>\n",
       "      <td>power_displacement_cartesian</td>\n",
       "      <td>5.986213e-03</td>\n",
       "    </tr>\n",
       "    <tr>\n",
       "      <th>68</th>\n",
       "      <td>far_beam</td>\n",
       "      <td>5.823366e-03</td>\n",
       "    </tr>\n",
       "    <tr>\n",
       "      <th>66</th>\n",
       "      <td>color</td>\n",
       "      <td>5.589056e-03</td>\n",
       "    </tr>\n",
       "    <tr>\n",
       "      <th>49</th>\n",
       "      <td>region</td>\n",
       "      <td>4.799661e-03</td>\n",
       "    </tr>\n",
       "    <tr>\n",
       "      <th>51</th>\n",
       "      <td>spray_num</td>\n",
       "      <td>3.643336e-03</td>\n",
       "    </tr>\n",
       "    <tr>\n",
       "      <th>34</th>\n",
       "      <td>gdp_level</td>\n",
       "      <td>3.317821e-03</td>\n",
       "    </tr>\n",
       "    <tr>\n",
       "      <th>28</th>\n",
       "      <td>fender_flaw</td>\n",
       "      <td>2.844516e-03</td>\n",
       "    </tr>\n",
       "    <tr>\n",
       "      <th>13</th>\n",
       "      <td>door_flaw</td>\n",
       "      <td>2.614044e-03</td>\n",
       "    </tr>\n",
       "    <tr>\n",
       "      <th>2</th>\n",
       "      <td>bumper_flaw</td>\n",
       "      <td>2.415015e-03</td>\n",
       "    </tr>\n",
       "    <tr>\n",
       "      <th>38</th>\n",
       "      <td>metal_num</td>\n",
       "      <td>2.190404e-03</td>\n",
       "    </tr>\n",
       "    <tr>\n",
       "      <th>11</th>\n",
       "      <td>displacement</td>\n",
       "      <td>2.029401e-03</td>\n",
       "    </tr>\n",
       "    <tr>\n",
       "      <th>30</th>\n",
       "      <td>fender_spray</td>\n",
       "      <td>1.945768e-03</td>\n",
       "    </tr>\n",
       "    <tr>\n",
       "      <th>65</th>\n",
       "      <td>transfer_times</td>\n",
       "      <td>1.938218e-03</td>\n",
       "    </tr>\n",
       "    <tr>\n",
       "      <th>15</th>\n",
       "      <td>door_spray</td>\n",
       "      <td>1.621458e-03</td>\n",
       "    </tr>\n",
       "    <tr>\n",
       "      <th>0</th>\n",
       "      <td>bumper_change</td>\n",
       "      <td>1.366608e-03</td>\n",
       "    </tr>\n",
       "    <tr>\n",
       "      <th>4</th>\n",
       "      <td>bumper_spray</td>\n",
       "      <td>1.329731e-03</td>\n",
       "    </tr>\n",
       "    <tr>\n",
       "      <th>6</th>\n",
       "      <td>car_height</td>\n",
       "      <td>1.283086e-03</td>\n",
       "    </tr>\n",
       "    <tr>\n",
       "      <th>29</th>\n",
       "      <td>fender_metal</td>\n",
       "      <td>1.229075e-03</td>\n",
       "    </tr>\n",
       "    <tr>\n",
       "      <th>...</th>\n",
       "      <td>...</td>\n",
       "      <td>...</td>\n",
       "    </tr>\n",
       "    <tr>\n",
       "      <th>58</th>\n",
       "      <td>trunk_injury</td>\n",
       "      <td>2.721929e-04</td>\n",
       "    </tr>\n",
       "    <tr>\n",
       "      <th>25</th>\n",
       "      <td>engine_intake_form</td>\n",
       "      <td>1.947908e-04</td>\n",
       "    </tr>\n",
       "    <tr>\n",
       "      <th>50</th>\n",
       "      <td>seat_flaw</td>\n",
       "      <td>1.855107e-04</td>\n",
       "    </tr>\n",
       "    <tr>\n",
       "      <th>3</th>\n",
       "      <td>bumper_metal</td>\n",
       "      <td>1.834958e-04</td>\n",
       "    </tr>\n",
       "    <tr>\n",
       "      <th>21</th>\n",
       "      <td>driving_seat_flaw</td>\n",
       "      <td>1.808489e-04</td>\n",
       "    </tr>\n",
       "    <tr>\n",
       "      <th>55</th>\n",
       "      <td>trunk_change</td>\n",
       "      <td>9.700861e-05</td>\n",
       "    </tr>\n",
       "    <tr>\n",
       "      <th>9</th>\n",
       "      <td>chromatic_num</td>\n",
       "      <td>9.111256e-05</td>\n",
       "    </tr>\n",
       "    <tr>\n",
       "      <th>17</th>\n",
       "      <td>driving_seat_abrasion</td>\n",
       "      <td>8.745559e-05</td>\n",
       "    </tr>\n",
       "    <tr>\n",
       "      <th>59</th>\n",
       "      <td>trunk_metal</td>\n",
       "      <td>8.313765e-05</td>\n",
       "    </tr>\n",
       "    <tr>\n",
       "      <th>27</th>\n",
       "      <td>fender_chromatic</td>\n",
       "      <td>4.730466e-05</td>\n",
       "    </tr>\n",
       "    <tr>\n",
       "      <th>12</th>\n",
       "      <td>door_chromatic</td>\n",
       "      <td>3.915547e-05</td>\n",
       "    </tr>\n",
       "    <tr>\n",
       "      <th>22</th>\n",
       "      <td>driving_seat_smudginess</td>\n",
       "      <td>1.851268e-05</td>\n",
       "    </tr>\n",
       "    <tr>\n",
       "      <th>1</th>\n",
       "      <td>bumper_chromatic</td>\n",
       "      <td>1.320517e-05</td>\n",
       "    </tr>\n",
       "    <tr>\n",
       "      <th>19</th>\n",
       "      <td>driving_seat_damage</td>\n",
       "      <td>1.271865e-05</td>\n",
       "    </tr>\n",
       "    <tr>\n",
       "      <th>46</th>\n",
       "      <td>pillar_metal</td>\n",
       "      <td>1.065660e-05</td>\n",
       "    </tr>\n",
       "    <tr>\n",
       "      <th>56</th>\n",
       "      <td>trunk_chromatic</td>\n",
       "      <td>7.339159e-06</td>\n",
       "    </tr>\n",
       "    <tr>\n",
       "      <th>52</th>\n",
       "      <td>steering_wheel_flaw</td>\n",
       "      <td>3.558222e-06</td>\n",
       "    </tr>\n",
       "    <tr>\n",
       "      <th>69</th>\n",
       "      <td>is_electric_skylight</td>\n",
       "      <td>2.471428e-07</td>\n",
       "    </tr>\n",
       "    <tr>\n",
       "      <th>43</th>\n",
       "      <td>pillar_change</td>\n",
       "      <td>1.387226e-07</td>\n",
       "    </tr>\n",
       "    <tr>\n",
       "      <th>5</th>\n",
       "      <td>car_box_type</td>\n",
       "      <td>0.000000e+00</td>\n",
       "    </tr>\n",
       "    <tr>\n",
       "      <th>16</th>\n",
       "      <td>driving_seat_abnormal</td>\n",
       "      <td>0.000000e+00</td>\n",
       "    </tr>\n",
       "    <tr>\n",
       "      <th>41</th>\n",
       "      <td>model_series</td>\n",
       "      <td>0.000000e+00</td>\n",
       "    </tr>\n",
       "    <tr>\n",
       "      <th>18</th>\n",
       "      <td>driving_seat_blister</td>\n",
       "      <td>0.000000e+00</td>\n",
       "    </tr>\n",
       "    <tr>\n",
       "      <th>20</th>\n",
       "      <td>driving_seat_disassembly</td>\n",
       "      <td>0.000000e+00</td>\n",
       "    </tr>\n",
       "    <tr>\n",
       "      <th>40</th>\n",
       "      <td>model_brand</td>\n",
       "      <td>0.000000e+00</td>\n",
       "    </tr>\n",
       "    <tr>\n",
       "      <th>54</th>\n",
       "      <td>transmission</td>\n",
       "      <td>0.000000e+00</td>\n",
       "    </tr>\n",
       "    <tr>\n",
       "      <th>32</th>\n",
       "      <td>front_light_damage</td>\n",
       "      <td>0.000000e+00</td>\n",
       "    </tr>\n",
       "    <tr>\n",
       "      <th>36</th>\n",
       "      <td>manufacturer</td>\n",
       "      <td>0.000000e+00</td>\n",
       "    </tr>\n",
       "    <tr>\n",
       "      <th>44</th>\n",
       "      <td>pillar_chromatic</td>\n",
       "      <td>0.000000e+00</td>\n",
       "    </tr>\n",
       "    <tr>\n",
       "      <th>35</th>\n",
       "      <td>gearbox_type</td>\n",
       "      <td>0.000000e+00</td>\n",
       "    </tr>\n",
       "  </tbody>\n",
       "</table>\n",
       "<p>71 rows × 2 columns</p>\n",
       "</div>"
      ],
      "text/plain": [
       "                            feat           imp\n",
       "61                   used_months  5.695652e-01\n",
       "64                     used_ages  7.493898e-02\n",
       "39                     model_age  5.139220e-02\n",
       "42                    model_year  4.853518e-02\n",
       "7                     car_length  4.043051e-02\n",
       "62             transmission_case  3.835661e-02\n",
       "8                      car_width  3.633432e-02\n",
       "63                       mileage  3.178266e-02\n",
       "37               max_horse_power  1.492801e-02\n",
       "23                       edition  1.229652e-02\n",
       "67              dipped_headlight  1.209681e-02\n",
       "10                     deal_city  9.739813e-03\n",
       "48  power_displacement_cartesian  5.986213e-03\n",
       "68                      far_beam  5.823366e-03\n",
       "66                         color  5.589056e-03\n",
       "49                        region  4.799661e-03\n",
       "51                     spray_num  3.643336e-03\n",
       "34                     gdp_level  3.317821e-03\n",
       "28                   fender_flaw  2.844516e-03\n",
       "13                     door_flaw  2.614044e-03\n",
       "2                    bumper_flaw  2.415015e-03\n",
       "38                     metal_num  2.190404e-03\n",
       "11                  displacement  2.029401e-03\n",
       "30                  fender_spray  1.945768e-03\n",
       "65                transfer_times  1.938218e-03\n",
       "15                    door_spray  1.621458e-03\n",
       "0                  bumper_change  1.366608e-03\n",
       "4                   bumper_spray  1.329731e-03\n",
       "6                     car_height  1.283086e-03\n",
       "29                  fender_metal  1.229075e-03\n",
       "..                           ...           ...\n",
       "58                  trunk_injury  2.721929e-04\n",
       "25            engine_intake_form  1.947908e-04\n",
       "50                     seat_flaw  1.855107e-04\n",
       "3                   bumper_metal  1.834958e-04\n",
       "21             driving_seat_flaw  1.808489e-04\n",
       "55                  trunk_change  9.700861e-05\n",
       "9                  chromatic_num  9.111256e-05\n",
       "17         driving_seat_abrasion  8.745559e-05\n",
       "59                   trunk_metal  8.313765e-05\n",
       "27              fender_chromatic  4.730466e-05\n",
       "12                door_chromatic  3.915547e-05\n",
       "22       driving_seat_smudginess  1.851268e-05\n",
       "1               bumper_chromatic  1.320517e-05\n",
       "19           driving_seat_damage  1.271865e-05\n",
       "46                  pillar_metal  1.065660e-05\n",
       "56               trunk_chromatic  7.339159e-06\n",
       "52           steering_wheel_flaw  3.558222e-06\n",
       "69          is_electric_skylight  2.471428e-07\n",
       "43                 pillar_change  1.387226e-07\n",
       "5                   car_box_type  0.000000e+00\n",
       "16         driving_seat_abnormal  0.000000e+00\n",
       "41                  model_series  0.000000e+00\n",
       "18          driving_seat_blister  0.000000e+00\n",
       "20      driving_seat_disassembly  0.000000e+00\n",
       "40                   model_brand  0.000000e+00\n",
       "54                  transmission  0.000000e+00\n",
       "32            front_light_damage  0.000000e+00\n",
       "36                  manufacturer  0.000000e+00\n",
       "44              pillar_chromatic  0.000000e+00\n",
       "35                  gearbox_type  0.000000e+00\n",
       "\n",
       "[71 rows x 2 columns]"
      ]
     },
     "execution_count": 19,
     "metadata": {},
     "output_type": "execute_result"
    }
   ],
   "source": [
    "feat_importance.sort_values(by='imp', ascending=False)"
   ]
  },
  {
   "cell_type": "code",
   "execution_count": 23,
   "metadata": {},
   "outputs": [
    {
     "data": {
      "application/vnd.plotly.v1+json": {
       "config": {
        "plotlyServerURL": "https://plot.ly"
       },
       "data": [
        {
         "mode": "lines+markers",
         "name": "pred",
         "type": "scatter",
         "x": [
          "_163653",
          "_141626",
          "_141625",
          "_141382",
          "_115570",
          "_169632",
          "_116358",
          "_142417",
          "_146160",
          "_169740",
          "_140442",
          "_139609",
          "_159734",
          "_169146",
          "_151779",
          "_156320",
          "_125422",
          "_162937",
          "_121874",
          "_126004",
          "_161205",
          "_149611",
          "_133512",
          "_167298",
          "_148372",
          "_161315",
          "_126254",
          "_130296",
          "_122559",
          "_122558",
          "_132526",
          "_116761",
          "_152694",
          "_139965",
          "_133698",
          "_133730",
          "_163187",
          "_137970",
          "_134827",
          "_164952",
          "_156377",
          "_129359",
          "_134239",
          "_147195",
          "_126450",
          "_125890",
          "_125774",
          "_121242",
          "_164622",
          "_170388",
          "_161428",
          "_124773",
          "_143148",
          "_138411",
          "_118236",
          "_113149",
          "_148736",
          "_169807",
          "_169085",
          "_159454",
          "_127217",
          "_131786",
          "_112880",
          "_157771",
          "_140183",
          "_121063",
          "_164440",
          "_154431",
          "_154826",
          "_140804",
          "_130891",
          "_157115",
          "_126297",
          "_130563",
          "_157648",
          "_169076",
          "_125281",
          "_150453",
          "_132953",
          "_121653",
          "_130254",
          "_124312",
          "_124313",
          "_135250",
          "_143332",
          "_164905",
          "_148022",
          "_160205",
          "_130671",
          "_149749",
          "_116404",
          "_129033",
          "_169892",
          "_137942",
          "_141002",
          "_145795",
          "_141001",
          "_151675",
          "_117980",
          "_140362",
          "_122862",
          "_133051",
          "_133266",
          "_166269",
          "_112129",
          "_143353",
          "_135486",
          "_131966",
          "_140255",
          "_165157",
          "_140254",
          "_159036",
          "_149411",
          "_142848",
          "_155926",
          "_126024",
          "_122029",
          "_116539",
          "_129500",
          "_129319",
          "_131250",
          "_155192",
          "_117645",
          "_169832",
          "_129937",
          "_128726",
          "_129004",
          "_148708",
          "_113795",
          "_137402",
          "_136660",
          "_115907",
          "_115908",
          "_147304",
          "_125497",
          "_163587",
          "_135592",
          "_143672",
          "_140265",
          "_121532",
          "_168349",
          "_116553",
          "_125365",
          "_137636",
          "_126293",
          "_116691",
          "_161654",
          "_126184",
          "_147362",
          "_129982",
          "_163170",
          "_163168",
          "_164725",
          "_110889",
          "_112923",
          "_126633",
          "_113709",
          "_157795",
          "_129559",
          "_157280",
          "_140263",
          "_111482",
          "_158887",
          "_112304",
          "_167966",
          "_159150",
          "_132898",
          "_153430",
          "_129666",
          "_116349",
          "_115650",
          "_121868",
          "_141162",
          "_158051",
          "_121528",
          "_140073",
          "_144644",
          "_139570",
          "_161865",
          "_165500",
          "_114376",
          "_136960",
          "_136214",
          "_165790",
          "_166213",
          "_134620",
          "_133731",
          "_112299",
          "_168394",
          "_128664",
          "_128840",
          "_130388",
          "_170749",
          "_130042",
          "_138193",
          "_146897",
          "_139571",
          "_151335",
          "_149090",
          "_120442",
          "_152119",
          "_148065",
          "_156897",
          "_154978",
          "_152733",
          "_115211",
          "_115212",
          "_140340",
          "_169564",
          "_161489",
          "_130045",
          "_122699",
          "_162116",
          "_135710",
          "_114758",
          "_151672",
          "_129871",
          "_131238",
          "_117014",
          "_150552",
          "_146523",
          "_168809",
          "_150081",
          "_135425",
          "_155687",
          "_136039",
          "_166966",
          "_136166",
          "_133269",
          "_135946",
          "_127212",
          "_158949",
          "_158948",
          "_132398",
          "_149846",
          "_123332",
          "_170111",
          "_131851",
          "_166714",
          "_152173",
          "_119666",
          "_157943",
          "_146972",
          "_167798",
          "_148985",
          "_155149",
          "_163743",
          "_136967",
          "_162387",
          "_112651",
          "_128641",
          "_161590",
          "_112900",
          "_147827",
          "_170319",
          "_130549",
          "_129192",
          "_169851",
          "_116474",
          "_112517",
          "_117262",
          "_122350",
          "_125978",
          "_127118",
          "_150338",
          "_165230",
          "_141803",
          "_155082",
          "_115636",
          "_141062",
          "_151224",
          "_161566",
          "_111662",
          "_140365",
          "_145150",
          "_168240",
          "_130727",
          "_157302",
          "_113966",
          "_126307",
          "_163315",
          "_134411",
          "_147399",
          "_110945",
          "_134936",
          "_111217",
          "_134405",
          "_148059",
          "_142106",
          "_142051",
          "_159616",
          "_164821",
          "_142009",
          "_142008",
          "_118106",
          "_129479",
          "_133926",
          "_130194",
          "_113377",
          "_151459",
          "_112216",
          "_167295",
          "_158379",
          "_123357",
          "_148533",
          "_140605",
          "_119338",
          "_142064",
          "_134114",
          "_150815",
          "_153984",
          "_118186",
          "_157326",
          "_153972",
          "_144404",
          "_144272",
          "_152452",
          "_143768",
          "_155815",
          "_160953",
          "_123776",
          "_123777",
          "_132814",
          "_139948",
          "_125391",
          "_117771",
          "_114347",
          "_125909",
          "_155055",
          "_167069",
          "_115466",
          "_118245",
          "_134715",
          "_119876",
          "_155240",
          "_130744",
          "_113521",
          "_113816",
          "_169994",
          "_120253",
          "_143851",
          "_118532",
          "_158285",
          "_120751",
          "_122047",
          "_142083",
          "_164119",
          "_142388",
          "_131543",
          "_131544",
          "_125209",
          "_162513",
          "_145805",
          "_153800",
          "_170532",
          "_123427",
          "_160533",
          "_114857",
          "_166973",
          "_125982",
          "_145703",
          "_136058",
          "_154175",
          "_145507",
          "_114365",
          "_160542",
          "_171339",
          "_129297",
          "_148434",
          "_159827",
          "_140037",
          "_121119",
          "_166273",
          "_159549",
          "_117658",
          "_140490",
          "_153833",
          "_122722",
          "_117667",
          "_141254",
          "_154032",
          "_167363",
          "_118159",
          "_135383",
          "_125920",
          "_118057",
          "_111062",
          "_133383",
          "_126624",
          "_170154",
          "_122021",
          "_124646",
          "_114434",
          "_130977",
          "_155444",
          "_124168",
          "_120493",
          "_130311",
          "_161605",
          "_129572",
          "_155391",
          "_143019",
          "_166829",
          "_170051",
          "_131592",
          "_127911",
          "_151761",
          "_162403",
          "_135145",
          "_122402",
          "_163473",
          "_155100",
          "_120004",
          "_168940",
          "_133661",
          "_135345",
          "_142572",
          "_153960",
          "_142796",
          "_125083",
          "_136005",
          "_140010",
          "_144104",
          "_143878",
          "_160391",
          "_127936",
          "_117420",
          "_153838",
          "_151090",
          "_128131",
          "_112715",
          "_131391",
          "_119970",
          "_113848",
          "_138506",
          "_122874",
          "_125530",
          "_132514",
          "_128799",
          "_148721",
          "_119178",
          "_130925",
          "_168676",
          "_150874",
          "_120895",
          "_136438",
          "_112977",
          "_140334",
          "_135687",
          "_123933",
          "_119886",
          "_138029",
          "_111670",
          "_138601",
          "_134872",
          "_156138",
          "_125737",
          "_139506",
          "_163182",
          "_129335",
          "_129026",
          "_114682",
          "_130894",
          "_130946",
          "_115494",
          "_128219",
          "_132110",
          "_159472",
          "_121322",
          "_167821",
          "_170382",
          "_117423",
          "_126823",
          "_125477",
          "_121882",
          "_151367",
          "_157031",
          "_147798",
          "_142728",
          "_115914",
          "_159216",
          "_142355",
          "_150691",
          "_143847",
          "_130562",
          "_158709",
          "_132482",
          "_121156",
          "_168999",
          "_146338",
          "_114054",
          "_122642",
          "_127340",
          "_147961",
          "_150398",
          "_147505",
          "_147504",
          "_151176",
          "_170295",
          "_156306",
          "_117963",
          "_123410",
          "_149156",
          "_158695",
          "_126857",
          "_167780",
          "_157213",
          "_125351",
          "_139248",
          "_163994",
          "_112955",
          "_135206",
          "_154462",
          "_153073",
          "_135057",
          "_126785",
          "_133387",
          "_167094",
          "_157761",
          "_140459",
          "_146189",
          "_140916",
          "_157281",
          "_123199",
          "_161876",
          "_111869",
          "_140262",
          "_164290",
          "_161509",
          "_141543",
          "_153097",
          "_170876",
          "_111384",
          "_136250",
          "_115753",
          "_152703",
          "_152652",
          "_131788",
          "_152357",
          "_152203",
          "_151359",
          "_132106",
          "_164720",
          "_151773",
          "_142413",
          "_170602",
          "_148498",
          "_122531",
          "_114313",
          "_116703",
          "_168603",
          "_116820",
          "_127577",
          "_127453",
          "_117308",
          "_146779",
          "_121030",
          "_117132",
          "_151662",
          "_145527",
          "_148468",
          "_135101",
          "_139060",
          "_141508",
          "_149824",
          "_144567",
          "_123730",
          "_163180",
          "_120925",
          "_161433",
          "_153402",
          "_154120",
          "_150695",
          "_156722",
          "_119207",
          "_170306",
          "_168619",
          "_171213",
          "_120249",
          "_159202",
          "_162809",
          "_161404",
          "_113999",
          "_115948",
          "_115996",
          "_159373",
          "_159212",
          "_115016",
          "_165689",
          "_118779",
          "_154933",
          "_158494",
          "_166868",
          "_116810",
          "_152199",
          "_166813",
          "_157919",
          "_151022",
          "_116876",
          "_151294",
          "_117640",
          "_113323",
          "_112493",
          "_111829",
          "_150524",
          "_146828",
          "_140161",
          "_139276",
          "_138796",
          "_124544",
          "_124546",
          "_169158",
          "_136868",
          "_136560",
          "_135667",
          "_134135",
          "_134024",
          "_133390",
          "_122684",
          "_127051",
          "_123843",
          "_132928",
          "_171070",
          "_128249",
          "_131667",
          "_127874",
          "_132242",
          "_120459",
          "_154896",
          "_111486",
          "_137819",
          "_137820",
          "_120592",
          "_155560",
          "_151039",
          "_119233",
          "_130019",
          "_113841",
          "_152138",
          "_162110",
          "_134381",
          "_133225",
          "_133844",
          "_118048",
          "_117832",
          "_141439",
          "_145064",
          "_161425",
          "_120990",
          "_150069",
          "_134512",
          "_152218",
          "_122171",
          "_141204",
          "_115576",
          "_135239",
          "_134505",
          "_128824",
          "_117175",
          "_158159",
          "_157883",
          "_163665",
          "_126767",
          "_142499",
          "_168604",
          "_167504",
          "_164092",
          "_131807",
          "_149971",
          "_168149",
          "_134481",
          "_110877",
          "_122715",
          "_170551",
          "_148621",
          "_148644",
          "_120388",
          "_164103",
          "_116467",
          "_132264",
          "_124569",
          "_122646",
          "_123757",
          "_119221",
          "_115202",
          "_145851",
          "_169476",
          "_123756",
          "_122209",
          "_117845",
          "_132281",
          "_154420",
          "_161385",
          "_111627",
          "_154453",
          "_160886",
          "_140233",
          "_136075",
          "_155828",
          "_157740",
          "_157741",
          "_122704",
          "_146971",
          "_146582",
          "_167159",
          "_163270",
          "_130793",
          "_153930",
          "_149762",
          "_111552",
          "_120999",
          "_136607",
          "_152443",
          "_130990",
          "_131529",
          "_160250",
          "_123703",
          "_160082",
          "_159745",
          "_137089",
          "_113872",
          "_139520",
          "_151765",
          "_168294",
          "_157775",
          "_170734",
          "_170842",
          "_115481",
          "_132571",
          "_111733",
          "_124042",
          "_119192",
          "_149412",
          "_136460",
          "_115245",
          "_131967",
          "_149785",
          "_154546",
          "_126359",
          "_131996",
          "_155257",
          "_144732",
          "_117248",
          "_132316",
          "_132112",
          "_123604",
          "_115272",
          "_141076",
          "_132351",
          "_118262",
          "_155221",
          "_125896",
          "_150084",
          "_129509",
          "_128204",
          "_111148",
          "_139572",
          "_121075",
          "_138309",
          "_164459",
          "_138308",
          "_126913",
          "_138220",
          "_146401",
          "_156903",
          "_133904",
          "_156574",
          "_121620",
          "_134133",
          "_144362",
          "_165324",
          "_168169",
          "_126740",
          "_155250",
          "_165743",
          "_155170",
          "_154921",
          "_127683",
          "_122649",
          "_158626",
          "_145553",
          "_114498",
          "_114424",
          "_128834",
          "_146978",
          "_122548",
          "_146793",
          "_161536",
          "_140109",
          "_131132",
          "_168399",
          "_149470",
          "_147541",
          "_114081",
          "_139971",
          "_124150",
          "_148260",
          "_148339",
          "_168969",
          "_148748",
          "_143261",
          "_148749",
          "_148757",
          "_147729",
          "_154412",
          "_156881",
          "_118791",
          "_137662",
          "_153978",
          "_121111",
          "_137603",
          "_153444",
          "_152011",
          "_136752",
          "_153005",
          "_165894",
          "_136692",
          "_142199",
          "_115364",
          "_119955",
          "_120653",
          "_166262",
          "_146775",
          "_168462",
          "_163679",
          "_111749",
          "_155990",
          "_164966",
          "_166095",
          "_143720",
          "_153201",
          "_135910",
          "_166744",
          "_120942",
          "_166020",
          "_155283",
          "_137411",
          "_119229",
          "_146128",
          "_148215",
          "_159988",
          "_165625",
          "_112544",
          "_166096",
          "_166019",
          "_158128",
          "_164325",
          "_116774",
          "_118326",
          "_160609",
          "_134012",
          "_162847",
          "_119386",
          "_166768",
          "_137621",
          "_161132",
          "_150538",
          "_124553",
          "_124791",
          "_149391",
          "_116666",
          "_169989",
          "_159118",
          "_116382",
          "_152868",
          "_152838",
          "_166867",
          "_144962",
          "_166121",
          "_171277",
          "_123491",
          "_147656",
          "_167668",
          "_140641",
          "_170826",
          "_160467",
          "_150683",
          "_131312",
          "_120118",
          "_110932",
          "_150975",
          "_150327",
          "_125853",
          "_162281",
          "_137200",
          "_147140",
          "_145610",
          "_129607",
          "_141929",
          "_153122",
          "_134207",
          "_162869",
          "_114526",
          "_114527",
          "_167381",
          "_113530",
          "_154273",
          "_150394",
          "_148718",
          "_131327",
          "_154306",
          "_160586",
          "_117045",
          "_155530",
          "_111360",
          "_113838",
          "_122810",
          "_154303",
          "_122202",
          "_125861",
          "_130739",
          "_129834",
          "_137922",
          "_162494",
          "_134781",
          "_152778",
          "_139039",
          "_139038",
          "_128580",
          "_119658",
          "_122430",
          "_145948",
          "_136947",
          "_116740",
          "_143068",
          "_146210",
          "_154715",
          "_123216",
          "_111214",
          "_135507",
          "_111172",
          "_166963",
          "_156763",
          "_113435",
          "_142916",
          "_118373",
          "_153803",
          "_110944",
          "_140722",
          "_169625",
          "_148465",
          "_121068",
          "_125553",
          "_143626",
          "_136160",
          "_120011",
          "_149793",
          "_138305",
          "_126960",
          "_135824",
          "_113394",
          "_113197",
          "_120086",
          "_150926",
          "_144224",
          "_112788",
          "_129842",
          "_162008",
          "_126901",
          "_155813",
          "_142802",
          "_129005",
          "_111937",
          "_112334",
          "_155269",
          "_144470",
          "_116998",
          "_145572",
          "_112375",
          "_146846",
          "_148115",
          "_155758",
          "_117650",
          "_119778",
          "_119361",
          "_118792",
          "_156878",
          "_150079",
          "_141371",
          "_141197",
          "_132130",
          "_115372",
          "_115713",
          "_168372",
          "_111230",
          "_133911",
          "_136580",
          "_137737",
          "_139529",
          "_168792",
          "_125638",
          "_153815",
          "_163444",
          "_131325",
          "_126589",
          "_160851",
          "_110872",
          "_164195",
          "_126252",
          "_151362",
          "_157500",
          "_121216",
          "_133881",
          "_121217",
          "_121244",
          "_159857",
          "_132923",
          "_111211",
          "_146322",
          "_133808",
          "_136341",
          "_131715",
          "_169406",
          "_124468",
          "_128721",
          "_122063",
          "_164306",
          "_111589",
          "_168523",
          "_164231",
          "_168100",
          "_146165",
          "_146666",
          "_155439",
          "_152267",
          "_123854",
          "_132368",
          "_133826",
          "_170340",
          "_116452",
          "_150304",
          "_156802",
          "_155197",
          "_124166",
          "_153197",
          "_166147",
          "_111473",
          "_125369",
          "_152583",
          "_132700",
          "_121914",
          "_119750",
          "_150435",
          "_117618",
          "_149060",
          "_157362",
          "_120143",
          "_120487",
          "_163097",
          "_161016",
          "_163183",
          "_112893",
          "_170352",
          "_133350",
          "_159275",
          "_124961",
          "_140561",
          "_119795",
          "_113609",
          "_154827",
          "_163393",
          "_121058",
          "_162897",
          "_155674",
          "_137375",
          "_128299",
          "_118227",
          "_121663",
          "_169397",
          "_139143",
          "_168800",
          "_130383",
          "_168692",
          "_136679",
          "_159587",
          "_126779",
          "_132876",
          "_165415",
          "_152104",
          "_163813",
          "_167974",
          "_116282",
          "_116843",
          "_157046",
          "_166929",
          "_150041",
          "_158833",
          "_159603",
          "_160152",
          "_133294",
          "_115235",
          "_123805",
          "_154253",
          "_152946"
         ],
         "y": [
          11.913333333333345,
          11.49930000000001,
          11.49930000000001,
          12.471350360750359,
          12.482447227918286,
          12.324537121212126,
          12.350879581529577,
          11.835810533910538,
          11.440001190476195,
          12.522888311688309,
          11.536416564137623,
          12.31801053391054,
          11.482830555555562,
          11.78975952380953,
          12.399609523809527,
          12.661432142857148,
          12.429255236576289,
          13.204083333333344,
          13.206400000000006,
          15.275900000000025,
          12.214083333333331,
          12.207587776258828,
          12.215691666666672,
          18.281328951057763,
          12.542183333333332,
          18.135144205137152,
          19.488500552594537,
          18.05733610342143,
          17.773187835906786,
          17.773187835906786,
          18.15362447082096,
          19.85724086504704,
          22.570175000000003,
          21.953074907407412,
          20.692645985257435,
          19.64760850105668,
          15.25412619047621,
          19.068053359224745,
          17.9457870106201,
          19.930712935577663,
          19.89345638795862,
          19.74405356431025,
          20.699294953752236,
          19.102361257906804,
          19.226638662472546,
          21.57972947837199,
          19.680992582828445,
          19.871323997872004,
          19.871323997872004,
          18.346145385658044,
          20.012608055525956,
          21.101483476575325,
          21.246359591023477,
          20.532723148316872,
          19.507098754023758,
          20.762558529525368,
          19.878965972425227,
          20.76697739478706,
          22.40544557053685,
          19.6948468267175,
          22.127297222222236,
          19.93359734529678,
          20.822971884174866,
          18.992752979038528,
          19.840825739800277,
          20.124180749138162,
          20.124180749138162,
          19.181486904761904,
          20.033318407754123,
          20.61287702784872,
          20.210937015791227,
          21.060061591434877,
          20.043550640212562,
          22.22279905598967,
          23.822077243528334,
          19.543361039238267,
          21.751945135615028,
          19.060277655531614,
          18.97350492825889,
          21.945153293480086,
          22.166166480531647,
          23.293081036984763,
          23.293081036984763,
          21.094761345406194,
          22.480847712682177,
          20.146056358001474,
          20.713443207328268,
          18.374921268176273,
          23.071777463628695,
          22.448462362700297,
          18.711774817346424,
          22.30508998451976,
          21.26564650809772,
          18.274455030754904,
          22.45643729956898,
          22.4206060830326,
          22.524135973811408,
          21.049476126211164,
          20.952352389181446,
          19.589393687334976,
          19.38850372948447,
          22.312144580561675,
          21.86858055555556,
          22.04040590099611,
          21.766450337062935,
          21.63307531066182,
          21.721055081907533,
          21.68653474833928,
          21.276364120561176,
          20.872437993111884,
          21.276364120561176,
          20.825595589739628,
          21.68653474833928,
          21.754980073839256,
          21.519205952380954,
          23.503131331287378,
          22.883786326182527,
          22.790420439456458,
          22.67578229422781,
          22.754481044720983,
          20.852881026495922,
          20.273046181887196,
          22.797974576767686,
          21.519827488782536,
          22.195244643643854,
          19.985185116574126,
          20.053904197355102,
          20.852881026495922,
          21.41292864839357,
          19.985185116574126,
          20.298059396931222,
          22.77952640503497,
          22.77952640503497,
          22.20981373455295,
          22.041560145981745,
          19.985185116574126,
          21.043100793650794,
          23.317372502109016,
          21.475295241933043,
          20.569500922483144,
          21.75607175396481,
          20.555028502053798,
          24.284035684704204,
          23.784515991183294,
          23.992436107183494,
          22.429231396249126,
          20.991336317936888,
          21.80404727873598,
          19.864686737592006,
          19.864686737592006,
          19.335878205128196,
          22.419343633958643,
          21.20539711364974,
          22.544413030303048,
          20.881818596254803,
          22.753296619675456,
          22.55680860976366,
          20.979161717152266,
          22.51014011802204,
          22.61555471511308,
          20.00819186453819,
          21.99841345152907,
          20.64097704386237,
          21.38089183023468,
          24.54877016277671,
          20.52922208796352,
          20.52922208796352,
          23.64922948579501,
          19.409274513869,
          19.99737078175251,
          24.65627319211455,
          24.131390815668507,
          22.293501282075972,
          21.949038000935666,
          21.771905183528084,
          23.876049512820522,
          23.662390384466676,
          20.602569269048434,
          21.607020402653202,
          22.801066164294806,
          20.953888359395265,
          20.570891594388442,
          22.36493119292844,
          24.331035261904773,
          23.876049512820522,
          24.24389351625714,
          22.333974131565974,
          22.362088455988463,
          20.347263791490825,
          21.18066,
          20.557435900848223,
          23.971453413860818,
          24.89080601647176,
          21.771905183528084,
          23.362571998894385,
          23.22810512889645,
          20.602569269048434,
          22.01057340222714,
          22.634908541140454,
          21.525717966438187,
          21.75881923451484,
          21.384232548611802,
          22.801066164294806,
          22.145078633849238,
          23.113820864908558,
          22.598904557576102,
          22.908139113436917,
          24.928937188725516,
          26.10496264855674,
          20.730148291676265,
          22.815922342794558,
          23.5036573727906,
          22.941115278929786,
          20.83107317781336,
          21.88415915220951,
          22.903441965600578,
          22.64169652101805,
          23.5036573727906,
          24.502589713105426,
          21.87305366300676,
          23.355072118445634,
          22.59532418672736,
          20.619923417400216,
          22.950924459728867,
          24.43585242244515,
          24.14288337848784,
          22.865635594478636,
          24.17378791288016,
          24.62617371750738,
          25.441097252747255,
          21.651994966497288,
          22.53216420845063,
          22.53216420845063,
          23.943465040762568,
          23.943465040762568,
          24.088963214285727,
          22.59529214192266,
          24.03103641232436,
          24.088963214285727,
          19.888561687143092,
          22.310468741318,
          21.292422856524237,
          22.966461363636366,
          22.33856855340501,
          22.319237801687077,
          20.748157397581167,
          20.893702166014272,
          22.838638656339427,
          21.903957501136023,
          21.234019409850134,
          21.657781905198977,
          22.148655920879676,
          24.45718450288892,
          22.71275423208746,
          24.16521958343013,
          22.56899394622923,
          27.43217326877771,
          25.53358510003427,
          21.798461416899986,
          22.966461363636366,
          24.593243574901226,
          22.673310490376938,
          21.998063184201015,
          22.85821662864924,
          21.95092428187067,
          22.71275423208746,
          22.32737777727365,
          24.121226944498048,
          23.650674957465228,
          24.434812678568793,
          22.443851447812484,
          23.59196894879595,
          22.051463318010956,
          25.003269765160542,
          23.07052436521145,
          25.22875039215686,
          22.327560919038028,
          20.5903389890978,
          20.5903389890978,
          24.15403939713347,
          23.777409687534863,
          25.235500503662987,
          26.93798936948568,
          21.837974240513514,
          23.75546956927631,
          22.398351664859558,
          21.25359325531042,
          23.73999447285431,
          27.101369595774887,
          26.326979245812076,
          22.472894821057366,
          22.907314015680427,
          23.811603551171867,
          23.811603551171867,
          27.2369701411863,
          22.608174551725337,
          23.7754541014027,
          26.421342416979968,
          25.558073171233985,
          23.272978001555913,
          24.653728519214702,
          23.52722279407461,
          26.552501329142565,
          22.367608549636092,
          21.086413336353676,
          22.465261886631964,
          22.81443549277135,
          22.882951779660083,
          24.946362655331686,
          23.632636642508274,
          24.50778692607707,
          23.589905191511228,
          26.46468372222221,
          26.29583547222223,
          24.498577644256883,
          23.127077341429608,
          24.94339532566034,
          25.24372334765052,
          24.232283119769118,
          26.01418234552643,
          24.246228092236432,
          24.23346997535332,
          23.095388770640213,
          25.283206901086036,
          22.724364704366124,
          24.20138094660242,
          26.637078479251024,
          21.87579640125155,
          25.69100862679211,
          21.575909453237664,
          26.551918214285717,
          21.166879756111825,
          25.098561754385965,
          23.97957860034653,
          24.784219354395663,
          22.741277518518523,
          24.487626193688655,
          22.997637495784964,
          23.40517620466897,
          25.099850006827964,
          26.680831674433758,
          25.716393142296482,
          24.332826320070094,
          24.05567895902285,
          23.100949080097358,
          24.78515234142032,
          24.05567895902285,
          24.223810263736286,
          25.422566174514074,
          25.422566174514074,
          24.681152142857158,
          22.11478127579343,
          23.897841443599916,
          26.50753236587337,
          27.42324155219779,
          26.506261445547143,
          25.014671907953865,
          26.41541137732795,
          23.78011352287511,
          28.529420226973443,
          23.43882108695655,
          26.0397200751827,
          23.10986142379427,
          23.63013593839246,
          26.564519763494282,
          27.4912060794313,
          25.30449485958486,
          29.50669295996404,
          24.6234313880425,
          25.6848322093149,
          19.170134573389358,
          24.7317173321474,
          24.662564995473023,
          21.52933569486628,
          21.286154449792356,
          25.910547896880917,
          25.248081425366294,
          27.485548659042806,
          26.317573386081644,
          23.873095585254333,
          25.439938511904746,
          25.476965900241506,
          26.71705640235767,
          26.111239186507934,
          25.764725351176583,
          29.198729276026555,
          24.27251666666669,
          25.59970877935661,
          27.271305920191413,
          24.217654529892734,
          25.522424017543198,
          27.42445743864919,
          22.619080535375915,
          24.633589721375834,
          22.823637962774082,
          26.053941478028328,
          23.11392277154265,
          29.730103413608486,
          27.24630673359532,
          24.669545885136003,
          24.657515619235138,
          22.880464471267384,
          25.934493796467432,
          22.71275236336891,
          25.82635687730963,
          24.15642938498171,
          27.18051517908592,
          24.871339536297043,
          27.14218411878489,
          23.82910555555558,
          25.0809201190476,
          23.628610643124,
          24.344571314810747,
          24.99307741491842,
          28.476338673534773,
          26.649248580345958,
          25.43843693242844,
          28.875634160660802,
          25.486747424603188,
          23.581393378032107,
          24.76965655612663,
          25.411217892156866,
          28.30649206113365,
          29.091535232418337,
          28.39114648520339,
          22.73970038114062,
          26.29552404481171,
          27.190048561363596,
          23.635170660638764,
          21.348743836729128,
          26.837945039682577,
          22.99796395692675,
          24.538925608003115,
          26.09620634782436,
          26.84901170634924,
          22.99796395692675,
          26.14084980215594,
          25.06610046430174,
          22.80654948256738,
          25.96314404761904,
          28.398961402606545,
          25.433451325757577,
          26.64418066192945,
          26.35318331062249,
          25.70797212897242,
          23.41846217067655,
          25.22609616174676,
          22.02455834295816,
          26.58313879610333,
          26.886963693005747,
          23.31764170876238,
          24.455441280769314,
          25.549969642362292,
          24.80766771407551,
          27.65784534040068,
          24.80766771407551,
          28.32744955296896,
          20.995859103834714,
          24.0152913315851,
          27.722258814102567,
          27.71275923248314,
          25.876589440789466,
          29.432982568219263,
          25.27811176818279,
          25.5485139300229,
          23.4460068868488,
          27.190101865833103,
          26.064955158730164,
          28.96628535164832,
          25.31669551759351,
          28.266686761904765,
          25.70337140389778,
          27.149647187950936,
          25.414266799945686,
          27.852555411935274,
          28.268493998405603,
          27.339441323676326,
          27.742660894391427,
          27.788029982870533,
          27.50386327380954,
          25.926767480297485,
          26.467189269072314,
          27.0012985588023,
          28.057120888133703,
          29.759074398116535,
          25.549488141192146,
          25.481399679653688,
          24.263299576534596,
          28.722189644937224,
          24.961142367041518,
          29.91773312325229,
          28.80040915679002,
          29.299835363242355,
          23.975691038794242,
          26.17721091108499,
          27.273675400848155,
          27.310751076523832,
          28.758883559611245,
          29.18788564422852,
          24.879421666666687,
          27.216482615079343,
          28.06890332846459,
          23.274808603234682,
          23.12936889255088,
          27.134829595088828,
          25.871626298701305,
          24.74137779031228,
          28.759816355921835,
          28.54981361126261,
          23.549834343894332,
          27.02286092238725,
          25.502631649122808,
          24.66462925253969,
          29.166805979179212,
          26.821513284826615,
          26.667703476583128,
          23.392777943614565,
          24.192144722222224,
          24.484069061788446,
          24.950281968901805,
          26.821774181400478,
          26.925805994577487,
          24.855171419641337,
          24.950281968901805,
          27.45298587051837,
          26.01452323178569,
          28.25824194766665,
          27.575467500000048,
          26.755133799651386,
          29.617962280872597,
          27.72114464285714,
          25.95265307128982,
          21.271172222222226,
          27.765670532106782,
          29.617962280872597,
          28.563099678688285,
          27.572156577682044,
          26.276093657765173,
          29.035683723084407,
          28.498648392859835,
          27.92239821113369,
          28.145601256534693,
          28.266282706876453,
          27.611852746174158,
          27.467567753357763,
          27.508748351473837,
          30.012620831519854,
          30.013620831519855,
          25.519253223556554,
          27.41418630501102,
          25.64586616284911,
          26.926860051767665,
          24.690142714912177,
          29.22276198140677,
          29.13135797538523,
          29.250361626134914,
          28.293818206492617,
          29.563282360141415,
          29.665307252296977,
          27.822662770285255,
          29.08129632867134,
          28.54718618480053,
          26.167690087854158,
          29.186882374696633,
          23.801066186090328,
          25.66194905747761,
          28.24068092084107,
          24.239919821004555,
          26.010094291979954,
          28.841265919329125,
          28.29322277117563,
          22.089274205431465,
          27.956986467319958,
          27.352917989417996,
          29.55905171364387,
          28.36058973199671,
          29.830759332882455,
          29.373656587085183,
          26.22199775188641,
          28.510222855461148,
          27.62626250000003,
          31.362932910946974,
          29.334222268463897,
          24.935313334588137,
          29.789649357069443,
          29.19804387682642,
          26.717278231837597,
          30.905084191898496,
          30.64976346973856,
          30.214951857496192,
          28.80049783306573,
          29.34885930805447,
          30.942454806894478,
          30.808956948010515,
          28.037580407558313,
          27.40490158179781,
          28.374712949461305,
          29.948750107936593,
          27.093740342399983,
          23.044952699606245,
          24.403514996606663,
          27.555737791671113,
          29.445623584326707,
          27.472707514253266,
          27.589449952598113,
          28.786240918747293,
          28.07061053941304,
          27.767604704780293,
          25.416676358398217,
          27.45525226584042,
          29.67564914130081,
          27.754130393079137,
          22.114261069049903,
          24.067929235808307,
          28.971947129363095,
          27.08811887806637,
          26.637804035460082,
          29.762640766718338,
          28.21636938470548,
          26.73173970959596,
          25.59498704212454,
          28.510222855461148,
          26.60403321336996,
          22.114261069049903,
          26.251588401330558,
          23.835101943965228,
          29.131931547874036,
          25.005750187017746,
          28.47459896825402,
          28.396406821981696,
          22.79566704170121,
          22.79566704170121,
          22.79566704170121,
          29.140491731939782,
          29.230938819031838,
          30.525842208665367,
          32.230704421692906,
          26.447665200996813,
          30.43979532836607,
          29.608480905839386,
          27.992307777777782,
          30.892849948768866,
          27.034203561003107,
          28.461626249306256,
          30.938329075628207,
          30.034588977737222,
          29.036437998787584,
          28.624517081807085,
          29.54425108954771,
          26.872875011031233,
          32.306838440407766,
          29.7397651463122,
          28.81920915679002,
          29.298133466200202,
          28.952698441081424,
          29.280259148672975,
          28.606453828447446,
          25.690471999469,
          29.64599916293527,
          30.154443365988364,
          30.45316259156164,
          23.339035549219734,
          29.368186346260668,
          31.738743984318,
          25.824979097985356,
          28.952698441081424,
          28.092265313714034,
          31.467843144989793,
          29.673174439396867,
          26.961738375909107,
          28.819204923734468,
          30.72755776925383,
          30.084889676371777,
          29.326118318150712,
          29.97646345897931,
          28.628830479548242,
          24.95924945246614,
          30.262634145203084,
          24.323042162698435,
          29.334159814611134,
          29.008235695476543,
          28.53412368467644,
          29.382928910586813,
          27.985140409925762,
          29.455060092559744,
          28.413069719280927,
          31.212363863459913,
          29.334159814611134,
          29.558800369160103,
          30.03068127297653,
          29.455060092559744,
          21.772901778886666,
          32.86397796079478,
          26.323264112761606,
          27.276544651483785,
          28.86805504306861,
          29.286368648486746,
          29.64519329875312,
          30.66163219706388,
          30.922400148841515,
          31.11239337742579,
          29.39219965235155,
          30.66163219706388,
          24.078451751324533,
          29.014449354596746,
          27.67578064577236,
          26.749398611111136,
          28.459844296877126,
          28.56356136041502,
          30.445073057523313,
          30.213531779124125,
          24.50951889187228,
          29.927090788827186,
          33.33854400342995,
          26.735797119633084,
          29.389845131377943,
          27.92740412782842,
          31.39989144420107,
          26.82925229320368,
          27.74071005526192,
          33.33854400342995,
          29.254057870028234,
          30.63894167809885,
          32.69170626597441,
          26.735797119633084,
          33.09986794126383,
          31.013308963689575,
          29.498650013428264,
          29.498650013428264,
          31.890940874819833,
          29.547320690784876,
          29.30086292294818,
          32.30194611134923,
          29.822731198506208,
          31.283727715199223,
          32.30194611134923,
          30.404749892876627,
          28.39505541746517,
          29.44406472835292,
          29.354268708754645,
          22.20999297693063,
          30.16264256684604,
          29.556764496731372,
          29.16180279167114,
          31.642319559630554,
          31.642319559630554,
          27.636725255969903,
          27.599155255969908,
          27.599155255969908,
          28.951285586286254,
          27.704162406815406,
          30.091544348940516,
          30.768467725415427,
          26.620178257167545,
          23.328352949019628,
          23.58380588235296,
          34.02513103476486,
          30.29274655364601,
          29.089934859577646,
          32.10312982153504,
          29.09036819291098,
          28.985846622699945,
          29.057340602553296,
          28.915428858060626,
          23.380451581394237,
          29.78449255023122,
          30.78840793501597,
          27.54741378940506,
          30.72165427802928,
          28.004085431550802,
          33.09420500966577,
          26.018706224074457,
          30.196801124967223,
          25.936615528329156,
          29.91095462597054,
          26.452082901768655,
          29.603796126533616,
          29.514194205971616,
          32.709127966860926,
          31.830113665963264,
          26.894721515873016,
          31.451705627705632,
          30.63825140587463,
          30.97224970994247,
          32.10312982153504,
          32.997419707501585,
          29.20978477777778,
          32.10150520934264,
          29.84294589112212,
          26.56005249390302,
          33.76797061564086,
          30.27386558339762,
          27.527513789405063,
          31.910071256334607,
          31.653550705898343,
          27.580077921180553,
          28.40032913675212,
          29.91095462597054,
          31.511338523279395,
          30.763459687616024,
          28.395851933778932,
          30.834141462091544,
          31.653550705898343,
          30.78840793501597,
          27.05728673401599,
          31.172717826071768,
          27.0162649810322,
          25.333171245532252,
          31.059750129353887,
          28.827904921995945,
          26.04546551819575,
          29.838727181429686,
          29.87501570657855,
          29.685025738335764,
          27.873483605796082,
          32.997419707501585,
          26.139728261431568,
          29.880028946427117,
          31.12388712797614,
          27.427817756429434,
          28.523328234126975,
          30.11239751349837,
          27.997948351648375,
          30.924407233773408,
          27.156105183807135,
          27.156105183807135,
          32.04072246977077,
          29.019948304090587,
          29.38407790291144,
          33.39938075606927,
          32.230345833333374,
          31.751532979520498,
          30.0380524713556,
          31.335597680676234,
          29.266107719188835,
          31.801651548915984,
          25.2970564743517,
          28.020773894441184,
          25.2970564743517,
          28.82470111301396,
          31.862162268333027,
          28.86144331189351,
          30.832142069950372,
          29.24045711949076,
          28.948489039590278,
          30.7375879050179,
          31.335597680676234,
          33.70780137089827,
          29.675837317922575,
          30.832442898042522,
          33.71666621262511,
          32.31782915598643,
          30.828776953199508,
          32.44445395189698,
          30.14299029578527,
          31.50998064569301,
          30.139499916458487,
          30.139499916458487,
          30.0314577709623,
          31.775702003571773,
          30.286523534289813,
          29.596150387406613,
          32.28155211695875,
          29.451020981241005,
          30.163958710743856,
          30.762101351492735,
          29.91464950507561,
          30.214664109306636,
          27.267333256805514,
          30.285336781454035,
          30.093821488817,
          31.945987675930986,
          31.221528022738365,
          29.744455253710694,
          30.512557231889662,
          30.997461214054344,
          27.997018376476138,
          27.25209287219013,
          29.921590663578446,
          27.054709233544248,
          30.648876630208118,
          30.78273945658556,
          32.773139281901884,
          33.35973551478905,
          29.491031862990358,
          31.311997909566053,
          27.574360539044314,
          30.118806419135826,
          30.25405346018059,
          30.041998276569363,
          31.310524998890013,
          32.86850207171412,
          31.363087201927843,
          31.475714849114933,
          32.234786712560314,
          30.537325423326514,
          30.37708391173154,
          31.892797265234776,
          32.65397476413346,
          33.496475069075125,
          24.668998864871806,
          25.519522587719294,
          33.261010466521974,
          33.91085604758547,
          27.4927785392003,
          31.6766836175462,
          31.34492715758279,
          27.008857581597987,
          28.325568330238266,
          33.883399297983175,
          28.1321029858397,
          31.674220543124164,
          32.39340000000007,
          33.67278447523933,
          30.6205968519695,
          29.583535222205537,
          33.96995668096519,
          33.96995668096519,
          30.420912752926185,
          27.60636912562709,
          30.323228112526728,
          30.42544549102142,
          27.587924980759986,
          27.27454730712509,
          32.21222676819341,
          32.29062857142862,
          33.65402657528368,
          33.143842551934476,
          29.339407174994466,
          25.330867976190493,
          29.0366031380567,
          30.843290327193152,
          34.175004526247385,
          34.175004526247385,
          29.615502012046164,
          29.174598932518037,
          30.409569301335935,
          27.413750335016836,
          32.12780693202778,
          31.651913184603657,
          30.29977373627601,
          30.925649298942698,
          30.884862217481032,
          30.6155179347859,
          31.11254834249652,
          27.448588441558464,
          30.927499309081803,
          30.904595727514124,
          28.492070789618023,
          33.53562500000005,
          30.79921665596799,
          34.070717868147746,
          29.49122134271602,
          33.660354459335906,
          34.08254512382494,
          32.56631234962492,
          32.56631234962492,
          32.018026215449396,
          31.269891005853456,
          33.0332412039161,
          31.521601891426013,
          29.526846291270815,
          29.526846291270815,
          32.79385951854715,
          30.053933938047827,
          31.06387618225728,
          32.05630093521907,
          29.47447461888216,
          32.944564055738454,
          33.691149999359475,
          30.688482450269245,
          30.52773769847443,
          32.769147286474904,
          30.675633692574056,
          32.5070949796233,
          33.97257628675458,
          30.565082680924323,
          29.850318670650548,
          29.850318670650548,
          31.825411514208273,
          32.36280237499218,
          31.71667262531938,
          33.896664843596575,
          32.97620271409126,
          29.84007492973257,
          33.56994833262205,
          29.190067196166016,
          32.51166239853438,
          33.30783258506656,
          30.41371726216317,
          34.81143623972619,
          31.52118993489582,
          30.25285521324016,
          33.14584468731709,
          34.723954639154634,
          34.10066901890139,
          25.945243809523824,
          34.273124098529244,
          32.97760000000003,
          31.307302849371894,
          33.41984200100768,
          33.60280893738008,
          31.197662192894864,
          32.80790125782541,
          33.08463711162573,
          34.25984461211085,
          36.23941507531767,
          34.11206093073784,
          26.523064011977645,
          34.283809952338494,
          30.12407229430748,
          33.34947294941962,
          31.28406059532123,
          31.081661605015857,
          33.685169548327046,
          32.649666666666704,
          34.89868112783018,
          29.42259527787015,
          36.15619628882636,
          32.09847145336224,
          34.587693625685205,
          32.87667074025822,
          34.58723589833947,
          33.64697298346317,
          34.50256658572159,
          35.15839835220727,
          35.15839835220727,
          37.1052002040816,
          35.00358550690969,
          35.588141724180616,
          33.374788644194766,
          32.34141902029305,
          32.17716310543045,
          30.077974572667863,
          32.266801446842685,
          32.14751556786034,
          31.750496774789656,
          32.57519580690561,
          33.71476666666669,
          30.077974572667863,
          30.377224911667117,
          24.829792441741752,
          31.458501599378888,
          36.838182039090924,
          34.12579156022013,
          33.08140235314713,
          29.654370634920657,
          27.830687010260913,
          24.829792441741752,
          31.358084846956462,
          31.694637508705146,
          34.35038025385417,
          34.245229828853894,
          36.251737310606075,
          30.848770200898585,
          34.838388469560826,
          34.3651151850838,
          31.767412700358115,
          36.23905528455282,
          29.334220861000045,
          29.614112081289086,
          34.58033648403545,
          27.054420531538458,
          35.29687549297102,
          33.96245499775613,
          34.484252579642515,
          34.20876938791559,
          34.39462790020454,
          39.78440000000003,
          33.83492520315254,
          33.69339811249911,
          33.2591,
          36.592263793103456,
          27.4220945016835,
          37.48348366377256,
          39.86586666666667,
          41.643049999999995,
          34.86504816915333,
          37.03707352625093,
          42.97369999999999,
          41.1928,
          42.20745,
          42.7461,
          40.95934999999999,
          40.18424999999999,
          39.44305,
          39.463049999999996,
          41.96235000000001,
          41.03340000000002,
          45.86039999999999,
          41.295150000000014,
          41.295150000000014,
          37.85372615206918,
          39.866719371881615
         ]
        },
        {
         "mode": "lines+markers",
         "name": "price",
         "type": "scatter",
         "x": [
          "_163653",
          "_141626",
          "_141625",
          "_141382",
          "_115570",
          "_169632",
          "_116358",
          "_142417",
          "_146160",
          "_169740",
          "_140442",
          "_139609",
          "_159734",
          "_169146",
          "_151779",
          "_156320",
          "_125422",
          "_162937",
          "_121874",
          "_126004",
          "_161205",
          "_149611",
          "_133512",
          "_167298",
          "_148372",
          "_161315",
          "_126254",
          "_130296",
          "_122559",
          "_122558",
          "_132526",
          "_116761",
          "_152694",
          "_139965",
          "_133698",
          "_133730",
          "_163187",
          "_137970",
          "_134827",
          "_164952",
          "_156377",
          "_129359",
          "_134239",
          "_147195",
          "_126450",
          "_125890",
          "_125774",
          "_121242",
          "_164622",
          "_170388",
          "_161428",
          "_124773",
          "_143148",
          "_138411",
          "_118236",
          "_113149",
          "_148736",
          "_169807",
          "_169085",
          "_159454",
          "_127217",
          "_131786",
          "_112880",
          "_157771",
          "_140183",
          "_121063",
          "_164440",
          "_154431",
          "_154826",
          "_140804",
          "_130891",
          "_157115",
          "_126297",
          "_130563",
          "_157648",
          "_169076",
          "_125281",
          "_150453",
          "_132953",
          "_121653",
          "_130254",
          "_124312",
          "_124313",
          "_135250",
          "_143332",
          "_164905",
          "_148022",
          "_160205",
          "_130671",
          "_149749",
          "_116404",
          "_129033",
          "_169892",
          "_137942",
          "_141002",
          "_145795",
          "_141001",
          "_151675",
          "_117980",
          "_140362",
          "_122862",
          "_133051",
          "_133266",
          "_166269",
          "_112129",
          "_143353",
          "_135486",
          "_131966",
          "_140255",
          "_165157",
          "_140254",
          "_159036",
          "_149411",
          "_142848",
          "_155926",
          "_126024",
          "_122029",
          "_116539",
          "_129500",
          "_129319",
          "_131250",
          "_155192",
          "_117645",
          "_169832",
          "_129937",
          "_128726",
          "_129004",
          "_148708",
          "_113795",
          "_137402",
          "_136660",
          "_115907",
          "_115908",
          "_147304",
          "_125497",
          "_163587",
          "_135592",
          "_143672",
          "_140265",
          "_121532",
          "_168349",
          "_116553",
          "_125365",
          "_137636",
          "_126293",
          "_116691",
          "_161654",
          "_126184",
          "_147362",
          "_129982",
          "_163170",
          "_163168",
          "_164725",
          "_110889",
          "_112923",
          "_126633",
          "_113709",
          "_157795",
          "_129559",
          "_157280",
          "_140263",
          "_111482",
          "_158887",
          "_112304",
          "_167966",
          "_159150",
          "_132898",
          "_153430",
          "_129666",
          "_116349",
          "_115650",
          "_121868",
          "_141162",
          "_158051",
          "_121528",
          "_140073",
          "_144644",
          "_139570",
          "_161865",
          "_165500",
          "_114376",
          "_136960",
          "_136214",
          "_165790",
          "_166213",
          "_134620",
          "_133731",
          "_112299",
          "_168394",
          "_128664",
          "_128840",
          "_130388",
          "_170749",
          "_130042",
          "_138193",
          "_146897",
          "_139571",
          "_151335",
          "_149090",
          "_120442",
          "_152119",
          "_148065",
          "_156897",
          "_154978",
          "_152733",
          "_115211",
          "_115212",
          "_140340",
          "_169564",
          "_161489",
          "_130045",
          "_122699",
          "_162116",
          "_135710",
          "_114758",
          "_151672",
          "_129871",
          "_131238",
          "_117014",
          "_150552",
          "_146523",
          "_168809",
          "_150081",
          "_135425",
          "_155687",
          "_136039",
          "_166966",
          "_136166",
          "_133269",
          "_135946",
          "_127212",
          "_158949",
          "_158948",
          "_132398",
          "_149846",
          "_123332",
          "_170111",
          "_131851",
          "_166714",
          "_152173",
          "_119666",
          "_157943",
          "_146972",
          "_167798",
          "_148985",
          "_155149",
          "_163743",
          "_136967",
          "_162387",
          "_112651",
          "_128641",
          "_161590",
          "_112900",
          "_147827",
          "_170319",
          "_130549",
          "_129192",
          "_169851",
          "_116474",
          "_112517",
          "_117262",
          "_122350",
          "_125978",
          "_127118",
          "_150338",
          "_165230",
          "_141803",
          "_155082",
          "_115636",
          "_141062",
          "_151224",
          "_161566",
          "_111662",
          "_140365",
          "_145150",
          "_168240",
          "_130727",
          "_157302",
          "_113966",
          "_126307",
          "_163315",
          "_134411",
          "_147399",
          "_110945",
          "_134936",
          "_111217",
          "_134405",
          "_148059",
          "_142106",
          "_142051",
          "_159616",
          "_164821",
          "_142009",
          "_142008",
          "_118106",
          "_129479",
          "_133926",
          "_130194",
          "_113377",
          "_151459",
          "_112216",
          "_167295",
          "_158379",
          "_123357",
          "_148533",
          "_140605",
          "_119338",
          "_142064",
          "_134114",
          "_150815",
          "_153984",
          "_118186",
          "_157326",
          "_153972",
          "_144404",
          "_144272",
          "_152452",
          "_143768",
          "_155815",
          "_160953",
          "_123776",
          "_123777",
          "_132814",
          "_139948",
          "_125391",
          "_117771",
          "_114347",
          "_125909",
          "_155055",
          "_167069",
          "_115466",
          "_118245",
          "_134715",
          "_119876",
          "_155240",
          "_130744",
          "_113521",
          "_113816",
          "_169994",
          "_120253",
          "_143851",
          "_118532",
          "_158285",
          "_120751",
          "_122047",
          "_142083",
          "_164119",
          "_142388",
          "_131543",
          "_131544",
          "_125209",
          "_162513",
          "_145805",
          "_153800",
          "_170532",
          "_123427",
          "_160533",
          "_114857",
          "_166973",
          "_125982",
          "_145703",
          "_136058",
          "_154175",
          "_145507",
          "_114365",
          "_160542",
          "_171339",
          "_129297",
          "_148434",
          "_159827",
          "_140037",
          "_121119",
          "_166273",
          "_159549",
          "_117658",
          "_140490",
          "_153833",
          "_122722",
          "_117667",
          "_141254",
          "_154032",
          "_167363",
          "_118159",
          "_135383",
          "_125920",
          "_118057",
          "_111062",
          "_133383",
          "_126624",
          "_170154",
          "_122021",
          "_124646",
          "_114434",
          "_130977",
          "_155444",
          "_124168",
          "_120493",
          "_130311",
          "_161605",
          "_129572",
          "_155391",
          "_143019",
          "_166829",
          "_170051",
          "_131592",
          "_127911",
          "_151761",
          "_162403",
          "_135145",
          "_122402",
          "_163473",
          "_155100",
          "_120004",
          "_168940",
          "_133661",
          "_135345",
          "_142572",
          "_153960",
          "_142796",
          "_125083",
          "_136005",
          "_140010",
          "_144104",
          "_143878",
          "_160391",
          "_127936",
          "_117420",
          "_153838",
          "_151090",
          "_128131",
          "_112715",
          "_131391",
          "_119970",
          "_113848",
          "_138506",
          "_122874",
          "_125530",
          "_132514",
          "_128799",
          "_148721",
          "_119178",
          "_130925",
          "_168676",
          "_150874",
          "_120895",
          "_136438",
          "_112977",
          "_140334",
          "_135687",
          "_123933",
          "_119886",
          "_138029",
          "_111670",
          "_138601",
          "_134872",
          "_156138",
          "_125737",
          "_139506",
          "_163182",
          "_129335",
          "_129026",
          "_114682",
          "_130894",
          "_130946",
          "_115494",
          "_128219",
          "_132110",
          "_159472",
          "_121322",
          "_167821",
          "_170382",
          "_117423",
          "_126823",
          "_125477",
          "_121882",
          "_151367",
          "_157031",
          "_147798",
          "_142728",
          "_115914",
          "_159216",
          "_142355",
          "_150691",
          "_143847",
          "_130562",
          "_158709",
          "_132482",
          "_121156",
          "_168999",
          "_146338",
          "_114054",
          "_122642",
          "_127340",
          "_147961",
          "_150398",
          "_147505",
          "_147504",
          "_151176",
          "_170295",
          "_156306",
          "_117963",
          "_123410",
          "_149156",
          "_158695",
          "_126857",
          "_167780",
          "_157213",
          "_125351",
          "_139248",
          "_163994",
          "_112955",
          "_135206",
          "_154462",
          "_153073",
          "_135057",
          "_126785",
          "_133387",
          "_167094",
          "_157761",
          "_140459",
          "_146189",
          "_140916",
          "_157281",
          "_123199",
          "_161876",
          "_111869",
          "_140262",
          "_164290",
          "_161509",
          "_141543",
          "_153097",
          "_170876",
          "_111384",
          "_136250",
          "_115753",
          "_152703",
          "_152652",
          "_131788",
          "_152357",
          "_152203",
          "_151359",
          "_132106",
          "_164720",
          "_151773",
          "_142413",
          "_170602",
          "_148498",
          "_122531",
          "_114313",
          "_116703",
          "_168603",
          "_116820",
          "_127577",
          "_127453",
          "_117308",
          "_146779",
          "_121030",
          "_117132",
          "_151662",
          "_145527",
          "_148468",
          "_135101",
          "_139060",
          "_141508",
          "_149824",
          "_144567",
          "_123730",
          "_163180",
          "_120925",
          "_161433",
          "_153402",
          "_154120",
          "_150695",
          "_156722",
          "_119207",
          "_170306",
          "_168619",
          "_171213",
          "_120249",
          "_159202",
          "_162809",
          "_161404",
          "_113999",
          "_115948",
          "_115996",
          "_159373",
          "_159212",
          "_115016",
          "_165689",
          "_118779",
          "_154933",
          "_158494",
          "_166868",
          "_116810",
          "_152199",
          "_166813",
          "_157919",
          "_151022",
          "_116876",
          "_151294",
          "_117640",
          "_113323",
          "_112493",
          "_111829",
          "_150524",
          "_146828",
          "_140161",
          "_139276",
          "_138796",
          "_124544",
          "_124546",
          "_169158",
          "_136868",
          "_136560",
          "_135667",
          "_134135",
          "_134024",
          "_133390",
          "_122684",
          "_127051",
          "_123843",
          "_132928",
          "_171070",
          "_128249",
          "_131667",
          "_127874",
          "_132242",
          "_120459",
          "_154896",
          "_111486",
          "_137819",
          "_137820",
          "_120592",
          "_155560",
          "_151039",
          "_119233",
          "_130019",
          "_113841",
          "_152138",
          "_162110",
          "_134381",
          "_133225",
          "_133844",
          "_118048",
          "_117832",
          "_141439",
          "_145064",
          "_161425",
          "_120990",
          "_150069",
          "_134512",
          "_152218",
          "_122171",
          "_141204",
          "_115576",
          "_135239",
          "_134505",
          "_128824",
          "_117175",
          "_158159",
          "_157883",
          "_163665",
          "_126767",
          "_142499",
          "_168604",
          "_167504",
          "_164092",
          "_131807",
          "_149971",
          "_168149",
          "_134481",
          "_110877",
          "_122715",
          "_170551",
          "_148621",
          "_148644",
          "_120388",
          "_164103",
          "_116467",
          "_132264",
          "_124569",
          "_122646",
          "_123757",
          "_119221",
          "_115202",
          "_145851",
          "_169476",
          "_123756",
          "_122209",
          "_117845",
          "_132281",
          "_154420",
          "_161385",
          "_111627",
          "_154453",
          "_160886",
          "_140233",
          "_136075",
          "_155828",
          "_157740",
          "_157741",
          "_122704",
          "_146971",
          "_146582",
          "_167159",
          "_163270",
          "_130793",
          "_153930",
          "_149762",
          "_111552",
          "_120999",
          "_136607",
          "_152443",
          "_130990",
          "_131529",
          "_160250",
          "_123703",
          "_160082",
          "_159745",
          "_137089",
          "_113872",
          "_139520",
          "_151765",
          "_168294",
          "_157775",
          "_170734",
          "_170842",
          "_115481",
          "_132571",
          "_111733",
          "_124042",
          "_119192",
          "_149412",
          "_136460",
          "_115245",
          "_131967",
          "_149785",
          "_154546",
          "_126359",
          "_131996",
          "_155257",
          "_144732",
          "_117248",
          "_132316",
          "_132112",
          "_123604",
          "_115272",
          "_141076",
          "_132351",
          "_118262",
          "_155221",
          "_125896",
          "_150084",
          "_129509",
          "_128204",
          "_111148",
          "_139572",
          "_121075",
          "_138309",
          "_164459",
          "_138308",
          "_126913",
          "_138220",
          "_146401",
          "_156903",
          "_133904",
          "_156574",
          "_121620",
          "_134133",
          "_144362",
          "_165324",
          "_168169",
          "_126740",
          "_155250",
          "_165743",
          "_155170",
          "_154921",
          "_127683",
          "_122649",
          "_158626",
          "_145553",
          "_114498",
          "_114424",
          "_128834",
          "_146978",
          "_122548",
          "_146793",
          "_161536",
          "_140109",
          "_131132",
          "_168399",
          "_149470",
          "_147541",
          "_114081",
          "_139971",
          "_124150",
          "_148260",
          "_148339",
          "_168969",
          "_148748",
          "_143261",
          "_148749",
          "_148757",
          "_147729",
          "_154412",
          "_156881",
          "_118791",
          "_137662",
          "_153978",
          "_121111",
          "_137603",
          "_153444",
          "_152011",
          "_136752",
          "_153005",
          "_165894",
          "_136692",
          "_142199",
          "_115364",
          "_119955",
          "_120653",
          "_166262",
          "_146775",
          "_168462",
          "_163679",
          "_111749",
          "_155990",
          "_164966",
          "_166095",
          "_143720",
          "_153201",
          "_135910",
          "_166744",
          "_120942",
          "_166020",
          "_155283",
          "_137411",
          "_119229",
          "_146128",
          "_148215",
          "_159988",
          "_165625",
          "_112544",
          "_166096",
          "_166019",
          "_158128",
          "_164325",
          "_116774",
          "_118326",
          "_160609",
          "_134012",
          "_162847",
          "_119386",
          "_166768",
          "_137621",
          "_161132",
          "_150538",
          "_124553",
          "_124791",
          "_149391",
          "_116666",
          "_169989",
          "_159118",
          "_116382",
          "_152868",
          "_152838",
          "_166867",
          "_144962",
          "_166121",
          "_171277",
          "_123491",
          "_147656",
          "_167668",
          "_140641",
          "_170826",
          "_160467",
          "_150683",
          "_131312",
          "_120118",
          "_110932",
          "_150975",
          "_150327",
          "_125853",
          "_162281",
          "_137200",
          "_147140",
          "_145610",
          "_129607",
          "_141929",
          "_153122",
          "_134207",
          "_162869",
          "_114526",
          "_114527",
          "_167381",
          "_113530",
          "_154273",
          "_150394",
          "_148718",
          "_131327",
          "_154306",
          "_160586",
          "_117045",
          "_155530",
          "_111360",
          "_113838",
          "_122810",
          "_154303",
          "_122202",
          "_125861",
          "_130739",
          "_129834",
          "_137922",
          "_162494",
          "_134781",
          "_152778",
          "_139039",
          "_139038",
          "_128580",
          "_119658",
          "_122430",
          "_145948",
          "_136947",
          "_116740",
          "_143068",
          "_146210",
          "_154715",
          "_123216",
          "_111214",
          "_135507",
          "_111172",
          "_166963",
          "_156763",
          "_113435",
          "_142916",
          "_118373",
          "_153803",
          "_110944",
          "_140722",
          "_169625",
          "_148465",
          "_121068",
          "_125553",
          "_143626",
          "_136160",
          "_120011",
          "_149793",
          "_138305",
          "_126960",
          "_135824",
          "_113394",
          "_113197",
          "_120086",
          "_150926",
          "_144224",
          "_112788",
          "_129842",
          "_162008",
          "_126901",
          "_155813",
          "_142802",
          "_129005",
          "_111937",
          "_112334",
          "_155269",
          "_144470",
          "_116998",
          "_145572",
          "_112375",
          "_146846",
          "_148115",
          "_155758",
          "_117650",
          "_119778",
          "_119361",
          "_118792",
          "_156878",
          "_150079",
          "_141371",
          "_141197",
          "_132130",
          "_115372",
          "_115713",
          "_168372",
          "_111230",
          "_133911",
          "_136580",
          "_137737",
          "_139529",
          "_168792",
          "_125638",
          "_153815",
          "_163444",
          "_131325",
          "_126589",
          "_160851",
          "_110872",
          "_164195",
          "_126252",
          "_151362",
          "_157500",
          "_121216",
          "_133881",
          "_121217",
          "_121244",
          "_159857",
          "_132923",
          "_111211",
          "_146322",
          "_133808",
          "_136341",
          "_131715",
          "_169406",
          "_124468",
          "_128721",
          "_122063",
          "_164306",
          "_111589",
          "_168523",
          "_164231",
          "_168100",
          "_146165",
          "_146666",
          "_155439",
          "_152267",
          "_123854",
          "_132368",
          "_133826",
          "_170340",
          "_116452",
          "_150304",
          "_156802",
          "_155197",
          "_124166",
          "_153197",
          "_166147",
          "_111473",
          "_125369",
          "_152583",
          "_132700",
          "_121914",
          "_119750",
          "_150435",
          "_117618",
          "_149060",
          "_157362",
          "_120143",
          "_120487",
          "_163097",
          "_161016",
          "_163183",
          "_112893",
          "_170352",
          "_133350",
          "_159275",
          "_124961",
          "_140561",
          "_119795",
          "_113609",
          "_154827",
          "_163393",
          "_121058",
          "_162897",
          "_155674",
          "_137375",
          "_128299",
          "_118227",
          "_121663",
          "_169397",
          "_139143",
          "_168800",
          "_130383",
          "_168692",
          "_136679",
          "_159587",
          "_126779",
          "_132876",
          "_165415",
          "_152104",
          "_163813",
          "_167974",
          "_116282",
          "_116843",
          "_157046",
          "_166929",
          "_150041",
          "_158833",
          "_159603",
          "_160152",
          "_133294",
          "_115235",
          "_123805",
          "_154253",
          "_152946"
         ],
         "y": [
          10.3,
          10.4,
          10.4,
          10.5,
          10.5,
          10.5,
          10.6,
          10.8,
          10.9,
          11,
          11.5,
          11.8,
          12,
          12,
          12.5,
          12.8,
          13,
          13.8,
          14.4,
          15,
          15,
          15,
          15,
          16.18,
          16.28,
          16.5,
          17.5,
          17.6,
          17.8,
          17.8,
          17.9,
          18,
          18,
          18,
          18,
          18.1,
          18.3,
          18.38,
          18.5,
          18.5,
          18.5,
          18.5,
          18.5,
          18.53,
          18.6,
          18.78,
          18.8,
          18.8,
          18.8,
          18.8,
          18.88,
          18.9,
          18.99,
          19,
          19,
          19,
          19,
          19,
          19,
          19,
          19,
          19,
          19,
          19,
          19.19,
          19.2,
          19.2,
          19.5,
          19.5,
          19.5,
          19.6,
          19.6,
          19.8,
          19.8,
          19.8,
          19.8,
          19.8,
          19.88,
          19.88,
          19.9,
          19.98,
          19.99,
          19.99,
          20,
          20,
          20,
          20,
          20,
          20,
          20,
          20,
          20,
          20,
          20,
          20,
          20,
          20,
          20,
          20.18,
          20.18,
          20.48,
          20.4807,
          20.5,
          20.5,
          20.5,
          20.5,
          20.5,
          20.5,
          20.5,
          20.5,
          20.5,
          20.5,
          20.5,
          20.58,
          20.7,
          20.89,
          20.93,
          20.98,
          21,
          21,
          21,
          21,
          21,
          21,
          21,
          21,
          21,
          21,
          21,
          21,
          21,
          21,
          21,
          21,
          21,
          21,
          21,
          21,
          21,
          21,
          21,
          21,
          21.2,
          21.2,
          21.3,
          21.4,
          21.49,
          21.5,
          21.5,
          21.5,
          21.5,
          21.5,
          21.5,
          21.5,
          21.5,
          21.6,
          21.7,
          21.8,
          21.8,
          21.8,
          21.8,
          21.8,
          21.8,
          21.8,
          21.88,
          21.9,
          21.9,
          21.98,
          21.98,
          22,
          22,
          22,
          22,
          22,
          22,
          22,
          22,
          22,
          22,
          22,
          22,
          22,
          22,
          22,
          22,
          22,
          22,
          22,
          22,
          22,
          22,
          22,
          22,
          22,
          22,
          22,
          22,
          22,
          22,
          22,
          22,
          22,
          22,
          22,
          22.08,
          22.28,
          22.28,
          22.3,
          22.37,
          22.5,
          22.5,
          22.5,
          22.5,
          22.5,
          22.5,
          22.5,
          22.5,
          22.5,
          22.5,
          22.5,
          22.5,
          22.5,
          22.6,
          22.6,
          22.66,
          22.8,
          22.8,
          22.8,
          22.8,
          22.8,
          22.8,
          22.8,
          22.8,
          22.9,
          22.9,
          22.9,
          22.9,
          22.9,
          22.9,
          22.98,
          23,
          23,
          23,
          23,
          23,
          23,
          23,
          23,
          23,
          23,
          23,
          23,
          23,
          23,
          23,
          23,
          23,
          23,
          23,
          23,
          23,
          23,
          23,
          23,
          23,
          23,
          23,
          23,
          23,
          23,
          23,
          23,
          23,
          23,
          23.3,
          23.3,
          23.3,
          23.4,
          23.4,
          23.49,
          23.5,
          23.5,
          23.5,
          23.5,
          23.5,
          23.5,
          23.5,
          23.5,
          23.5,
          23.5,
          23.5,
          23.5,
          23.5,
          23.5,
          23.5,
          23.6,
          23.6,
          23.75,
          23.8,
          23.8,
          23.8,
          23.8,
          23.8,
          23.8,
          23.8,
          23.8,
          23.88,
          23.88,
          23.88,
          23.88,
          23.9,
          24,
          24,
          24,
          24,
          24,
          24,
          24,
          24,
          24,
          24,
          24,
          24,
          24,
          24,
          24,
          24,
          24,
          24,
          24,
          24.1,
          24.18,
          24.18,
          24.3,
          24.3,
          24.4,
          24.48,
          24.5,
          24.5,
          24.5,
          24.5,
          24.5,
          24.5,
          24.5,
          24.5,
          24.5,
          24.5,
          24.5,
          24.58,
          24.58,
          24.6,
          24.8,
          24.8,
          24.8,
          24.8,
          24.8,
          24.8,
          24.8,
          24.8,
          24.88,
          24.89,
          24.9,
          24.9,
          24.9,
          24.95,
          24.98,
          24.98,
          24.98,
          25,
          25,
          25,
          25,
          25,
          25,
          25,
          25,
          25,
          25,
          25,
          25,
          25,
          25,
          25,
          25,
          25,
          25,
          25,
          25,
          25,
          25,
          25,
          25,
          25,
          25,
          25,
          25,
          25,
          25,
          25,
          25,
          25,
          25,
          25,
          25,
          25.2,
          25.2,
          25.25,
          25.3,
          25.3,
          25.38,
          25.4,
          25.5,
          25.5,
          25.5,
          25.5,
          25.5,
          25.5,
          25.5,
          25.5,
          25.5,
          25.5,
          25.5,
          25.5,
          25.5,
          25.5,
          25.5,
          25.6,
          25.8,
          25.8,
          25.8,
          25.8,
          25.8,
          25.8,
          25.8,
          25.8,
          25.8,
          25.8,
          25.8,
          25.8,
          25.8,
          25.9,
          25.9,
          25.98,
          25.99,
          25.99,
          26,
          26,
          26,
          26,
          26,
          26,
          26,
          26,
          26,
          26,
          26,
          26,
          26,
          26,
          26,
          26,
          26,
          26,
          26,
          26,
          26,
          26,
          26,
          26,
          26,
          26,
          26,
          26,
          26.1,
          26.2,
          26.2,
          26.2,
          26.2,
          26.2,
          26.25,
          26.25,
          26.26,
          26.3,
          26.3,
          26.5,
          26.5,
          26.5,
          26.5,
          26.5,
          26.5,
          26.5,
          26.54,
          26.6,
          26.6,
          26.8,
          26.8,
          26.8,
          26.8,
          26.8,
          26.8,
          26.8,
          26.8,
          26.8,
          26.8,
          26.8,
          26.8,
          26.8,
          26.88,
          26.9,
          26.9,
          26.9,
          26.9,
          26.98,
          26.98,
          27,
          27,
          27,
          27,
          27,
          27,
          27,
          27,
          27,
          27,
          27,
          27,
          27,
          27,
          27,
          27,
          27,
          27,
          27,
          27,
          27,
          27,
          27,
          27,
          27,
          27,
          27,
          27,
          27,
          27.1,
          27.2,
          27.28,
          27.5,
          27.5,
          27.5,
          27.5,
          27.5,
          27.5,
          27.5,
          27.5,
          27.5,
          27.5,
          27.5,
          27.5,
          27.5,
          27.6,
          27.68,
          27.78,
          27.8,
          27.8,
          27.8,
          27.8,
          27.8,
          27.88,
          27.9,
          27.9,
          27.9,
          27.9,
          27.9,
          27.9,
          27.9,
          27.98,
          27.98,
          27.99,
          28,
          28,
          28,
          28,
          28,
          28,
          28,
          28,
          28,
          28,
          28,
          28,
          28,
          28,
          28,
          28,
          28,
          28,
          28,
          28,
          28,
          28,
          28,
          28,
          28,
          28,
          28,
          28,
          28,
          28,
          28,
          28,
          28,
          28,
          28,
          28,
          28,
          28,
          28,
          28,
          28,
          28,
          28,
          28,
          28,
          28,
          28,
          28,
          28,
          28.28,
          28.3,
          28.4,
          28.4,
          28.4,
          28.4,
          28.5,
          28.5,
          28.5,
          28.5,
          28.5,
          28.5,
          28.5,
          28.5,
          28.5,
          28.5,
          28.5,
          28.5,
          28.5,
          28.5,
          28.5,
          28.5,
          28.5,
          28.5,
          28.58,
          28.6,
          28.7,
          28.8,
          28.8,
          28.8,
          28.8,
          28.8,
          28.8,
          28.8,
          28.8,
          28.8,
          28.8,
          28.8,
          28.8,
          28.9,
          28.98,
          28.98,
          29,
          29,
          29,
          29,
          29,
          29,
          29,
          29,
          29,
          29,
          29,
          29,
          29,
          29,
          29,
          29,
          29,
          29,
          29,
          29,
          29,
          29,
          29,
          29,
          29,
          29,
          29,
          29,
          29.2,
          29.2,
          29.2,
          29.2,
          29.2,
          29.2,
          29.2,
          29.3,
          29.3,
          29.3,
          29.3,
          29.3,
          29.5,
          29.5,
          29.5,
          29.5,
          29.5,
          29.5,
          29.5,
          29.5,
          29.5,
          29.5,
          29.5,
          29.5,
          29.5,
          29.5,
          29.5,
          29.5,
          29.5,
          29.65,
          29.7,
          29.7,
          29.7,
          29.7,
          29.8,
          29.8,
          29.8,
          29.8,
          29.8,
          29.8,
          29.8,
          29.8,
          29.8,
          29.8,
          29.8,
          29.8,
          29.8,
          29.88,
          29.88,
          29.89,
          29.89,
          29.89,
          29.9,
          29.9,
          29.9,
          29.9,
          29.98,
          29.98,
          29.98,
          29.99,
          30,
          30,
          30,
          30,
          30,
          30,
          30,
          30,
          30,
          30,
          30,
          30,
          30,
          30,
          30,
          30,
          30,
          30,
          30,
          30,
          30,
          30,
          30,
          30,
          30,
          30,
          30,
          30,
          30,
          30,
          30,
          30,
          30,
          30,
          30,
          30,
          30,
          30,
          30,
          30,
          30,
          30,
          30,
          30,
          30,
          30,
          30,
          30,
          30,
          30,
          30,
          30,
          30,
          30,
          30,
          30,
          30,
          30,
          30,
          30.1,
          30.18,
          30.2,
          30.2,
          30.2,
          30.28,
          30.3,
          30.3,
          30.3,
          30.3,
          30.5,
          30.5,
          30.5,
          30.5,
          30.5,
          30.5,
          30.5,
          30.5,
          30.5,
          30.5,
          30.5,
          30.5,
          30.5,
          30.5,
          30.5,
          30.5,
          30.5,
          30.5,
          30.5,
          30.5,
          30.5,
          30.8,
          30.8,
          30.8,
          30.8,
          30.8,
          30.88,
          30.88,
          30.9,
          30.99,
          31,
          31,
          31,
          31,
          31,
          31,
          31,
          31,
          31,
          31,
          31,
          31,
          31,
          31,
          31,
          31,
          31,
          31,
          31,
          31,
          31,
          31,
          31,
          31,
          31,
          31,
          31,
          31,
          31,
          31,
          31,
          31,
          31,
          31,
          31,
          31,
          31.1,
          31.1,
          31.2,
          31.2,
          31.3,
          31.3,
          31.5,
          31.5,
          31.5,
          31.5,
          31.5,
          31.5,
          31.5,
          31.5,
          31.6,
          31.8,
          31.8,
          31.8,
          31.8,
          31.8,
          31.8,
          31.8,
          31.8,
          31.9,
          31.99,
          31.99,
          32,
          32,
          32,
          32,
          32,
          32,
          32,
          32,
          32,
          32,
          32,
          32,
          32,
          32,
          32,
          32,
          32,
          32,
          32,
          32,
          32,
          32,
          32,
          32,
          32,
          32,
          32,
          32,
          32,
          32,
          32,
          32.3,
          32.5,
          32.5,
          32.5,
          32.5,
          32.53,
          32.8,
          32.8,
          32.8,
          32.8,
          32.8,
          32.88,
          32.9,
          32.9,
          32.9,
          32.9,
          33,
          33,
          33,
          33,
          33,
          33,
          33,
          33,
          33,
          33,
          33,
          33,
          33,
          33,
          33,
          33,
          33,
          33,
          33,
          33,
          33,
          33,
          33,
          33,
          33,
          33,
          33,
          33.2,
          33.3,
          33.5,
          33.5,
          33.6,
          33.8,
          33.9,
          34,
          34,
          34,
          34,
          34,
          34,
          34,
          34,
          34,
          34,
          34,
          34,
          34,
          34,
          34,
          34,
          34,
          34.2,
          34.2,
          34.5,
          34.5,
          34.5,
          34.5,
          34.5,
          34.5,
          34.5,
          34.7,
          34.7,
          34.8,
          34.8,
          34.8,
          34.98,
          35,
          35,
          35,
          35,
          35,
          35,
          35,
          35,
          35,
          35,
          35,
          35,
          35,
          35,
          35,
          35,
          35,
          35,
          35,
          35,
          35.5,
          35.5,
          35.5,
          35.68,
          36,
          36,
          36,
          36,
          36,
          36.18,
          36.5,
          36.5,
          36.7,
          36.8,
          37,
          37,
          37,
          37,
          37,
          37.9,
          38,
          38,
          38,
          38.5,
          39,
          39,
          39.99,
          40,
          40,
          41.5,
          42,
          42.8,
          43,
          43,
          43,
          43,
          43,
          43.5,
          45,
          46,
          46,
          46.8,
          51
         ]
        }
       ],
       "layout": {
        "template": {
         "data": {
          "bar": [
           {
            "error_x": {
             "color": "#2a3f5f"
            },
            "error_y": {
             "color": "#2a3f5f"
            },
            "marker": {
             "line": {
              "color": "#E5ECF6",
              "width": 0.5
             }
            },
            "type": "bar"
           }
          ],
          "barpolar": [
           {
            "marker": {
             "line": {
              "color": "#E5ECF6",
              "width": 0.5
             }
            },
            "type": "barpolar"
           }
          ],
          "carpet": [
           {
            "aaxis": {
             "endlinecolor": "#2a3f5f",
             "gridcolor": "white",
             "linecolor": "white",
             "minorgridcolor": "white",
             "startlinecolor": "#2a3f5f"
            },
            "baxis": {
             "endlinecolor": "#2a3f5f",
             "gridcolor": "white",
             "linecolor": "white",
             "minorgridcolor": "white",
             "startlinecolor": "#2a3f5f"
            },
            "type": "carpet"
           }
          ],
          "choropleth": [
           {
            "colorbar": {
             "outlinewidth": 0,
             "ticks": ""
            },
            "type": "choropleth"
           }
          ],
          "contour": [
           {
            "colorbar": {
             "outlinewidth": 0,
             "ticks": ""
            },
            "colorscale": [
             [
              0,
              "#0d0887"
             ],
             [
              0.1111111111111111,
              "#46039f"
             ],
             [
              0.2222222222222222,
              "#7201a8"
             ],
             [
              0.3333333333333333,
              "#9c179e"
             ],
             [
              0.4444444444444444,
              "#bd3786"
             ],
             [
              0.5555555555555556,
              "#d8576b"
             ],
             [
              0.6666666666666666,
              "#ed7953"
             ],
             [
              0.7777777777777778,
              "#fb9f3a"
             ],
             [
              0.8888888888888888,
              "#fdca26"
             ],
             [
              1,
              "#f0f921"
             ]
            ],
            "type": "contour"
           }
          ],
          "contourcarpet": [
           {
            "colorbar": {
             "outlinewidth": 0,
             "ticks": ""
            },
            "type": "contourcarpet"
           }
          ],
          "heatmap": [
           {
            "colorbar": {
             "outlinewidth": 0,
             "ticks": ""
            },
            "colorscale": [
             [
              0,
              "#0d0887"
             ],
             [
              0.1111111111111111,
              "#46039f"
             ],
             [
              0.2222222222222222,
              "#7201a8"
             ],
             [
              0.3333333333333333,
              "#9c179e"
             ],
             [
              0.4444444444444444,
              "#bd3786"
             ],
             [
              0.5555555555555556,
              "#d8576b"
             ],
             [
              0.6666666666666666,
              "#ed7953"
             ],
             [
              0.7777777777777778,
              "#fb9f3a"
             ],
             [
              0.8888888888888888,
              "#fdca26"
             ],
             [
              1,
              "#f0f921"
             ]
            ],
            "type": "heatmap"
           }
          ],
          "heatmapgl": [
           {
            "colorbar": {
             "outlinewidth": 0,
             "ticks": ""
            },
            "colorscale": [
             [
              0,
              "#0d0887"
             ],
             [
              0.1111111111111111,
              "#46039f"
             ],
             [
              0.2222222222222222,
              "#7201a8"
             ],
             [
              0.3333333333333333,
              "#9c179e"
             ],
             [
              0.4444444444444444,
              "#bd3786"
             ],
             [
              0.5555555555555556,
              "#d8576b"
             ],
             [
              0.6666666666666666,
              "#ed7953"
             ],
             [
              0.7777777777777778,
              "#fb9f3a"
             ],
             [
              0.8888888888888888,
              "#fdca26"
             ],
             [
              1,
              "#f0f921"
             ]
            ],
            "type": "heatmapgl"
           }
          ],
          "histogram": [
           {
            "marker": {
             "colorbar": {
              "outlinewidth": 0,
              "ticks": ""
             }
            },
            "type": "histogram"
           }
          ],
          "histogram2d": [
           {
            "colorbar": {
             "outlinewidth": 0,
             "ticks": ""
            },
            "colorscale": [
             [
              0,
              "#0d0887"
             ],
             [
              0.1111111111111111,
              "#46039f"
             ],
             [
              0.2222222222222222,
              "#7201a8"
             ],
             [
              0.3333333333333333,
              "#9c179e"
             ],
             [
              0.4444444444444444,
              "#bd3786"
             ],
             [
              0.5555555555555556,
              "#d8576b"
             ],
             [
              0.6666666666666666,
              "#ed7953"
             ],
             [
              0.7777777777777778,
              "#fb9f3a"
             ],
             [
              0.8888888888888888,
              "#fdca26"
             ],
             [
              1,
              "#f0f921"
             ]
            ],
            "type": "histogram2d"
           }
          ],
          "histogram2dcontour": [
           {
            "colorbar": {
             "outlinewidth": 0,
             "ticks": ""
            },
            "colorscale": [
             [
              0,
              "#0d0887"
             ],
             [
              0.1111111111111111,
              "#46039f"
             ],
             [
              0.2222222222222222,
              "#7201a8"
             ],
             [
              0.3333333333333333,
              "#9c179e"
             ],
             [
              0.4444444444444444,
              "#bd3786"
             ],
             [
              0.5555555555555556,
              "#d8576b"
             ],
             [
              0.6666666666666666,
              "#ed7953"
             ],
             [
              0.7777777777777778,
              "#fb9f3a"
             ],
             [
              0.8888888888888888,
              "#fdca26"
             ],
             [
              1,
              "#f0f921"
             ]
            ],
            "type": "histogram2dcontour"
           }
          ],
          "mesh3d": [
           {
            "colorbar": {
             "outlinewidth": 0,
             "ticks": ""
            },
            "type": "mesh3d"
           }
          ],
          "parcoords": [
           {
            "line": {
             "colorbar": {
              "outlinewidth": 0,
              "ticks": ""
             }
            },
            "type": "parcoords"
           }
          ],
          "scatter": [
           {
            "marker": {
             "colorbar": {
              "outlinewidth": 0,
              "ticks": ""
             }
            },
            "type": "scatter"
           }
          ],
          "scatter3d": [
           {
            "line": {
             "colorbar": {
              "outlinewidth": 0,
              "ticks": ""
             }
            },
            "marker": {
             "colorbar": {
              "outlinewidth": 0,
              "ticks": ""
             }
            },
            "type": "scatter3d"
           }
          ],
          "scattercarpet": [
           {
            "marker": {
             "colorbar": {
              "outlinewidth": 0,
              "ticks": ""
             }
            },
            "type": "scattercarpet"
           }
          ],
          "scattergeo": [
           {
            "marker": {
             "colorbar": {
              "outlinewidth": 0,
              "ticks": ""
             }
            },
            "type": "scattergeo"
           }
          ],
          "scattergl": [
           {
            "marker": {
             "colorbar": {
              "outlinewidth": 0,
              "ticks": ""
             }
            },
            "type": "scattergl"
           }
          ],
          "scattermapbox": [
           {
            "marker": {
             "colorbar": {
              "outlinewidth": 0,
              "ticks": ""
             }
            },
            "type": "scattermapbox"
           }
          ],
          "scatterpolar": [
           {
            "marker": {
             "colorbar": {
              "outlinewidth": 0,
              "ticks": ""
             }
            },
            "type": "scatterpolar"
           }
          ],
          "scatterpolargl": [
           {
            "marker": {
             "colorbar": {
              "outlinewidth": 0,
              "ticks": ""
             }
            },
            "type": "scatterpolargl"
           }
          ],
          "scatterternary": [
           {
            "marker": {
             "colorbar": {
              "outlinewidth": 0,
              "ticks": ""
             }
            },
            "type": "scatterternary"
           }
          ],
          "surface": [
           {
            "colorbar": {
             "outlinewidth": 0,
             "ticks": ""
            },
            "colorscale": [
             [
              0,
              "#0d0887"
             ],
             [
              0.1111111111111111,
              "#46039f"
             ],
             [
              0.2222222222222222,
              "#7201a8"
             ],
             [
              0.3333333333333333,
              "#9c179e"
             ],
             [
              0.4444444444444444,
              "#bd3786"
             ],
             [
              0.5555555555555556,
              "#d8576b"
             ],
             [
              0.6666666666666666,
              "#ed7953"
             ],
             [
              0.7777777777777778,
              "#fb9f3a"
             ],
             [
              0.8888888888888888,
              "#fdca26"
             ],
             [
              1,
              "#f0f921"
             ]
            ],
            "type": "surface"
           }
          ],
          "table": [
           {
            "cells": {
             "fill": {
              "color": "#EBF0F8"
             },
             "line": {
              "color": "white"
             }
            },
            "header": {
             "fill": {
              "color": "#C8D4E3"
             },
             "line": {
              "color": "white"
             }
            },
            "type": "table"
           }
          ]
         },
         "layout": {
          "annotationdefaults": {
           "arrowcolor": "#2a3f5f",
           "arrowhead": 0,
           "arrowwidth": 1
          },
          "colorscale": {
           "diverging": [
            [
             0,
             "#8e0152"
            ],
            [
             0.1,
             "#c51b7d"
            ],
            [
             0.2,
             "#de77ae"
            ],
            [
             0.3,
             "#f1b6da"
            ],
            [
             0.4,
             "#fde0ef"
            ],
            [
             0.5,
             "#f7f7f7"
            ],
            [
             0.6,
             "#e6f5d0"
            ],
            [
             0.7,
             "#b8e186"
            ],
            [
             0.8,
             "#7fbc41"
            ],
            [
             0.9,
             "#4d9221"
            ],
            [
             1,
             "#276419"
            ]
           ],
           "sequential": [
            [
             0,
             "#0d0887"
            ],
            [
             0.1111111111111111,
             "#46039f"
            ],
            [
             0.2222222222222222,
             "#7201a8"
            ],
            [
             0.3333333333333333,
             "#9c179e"
            ],
            [
             0.4444444444444444,
             "#bd3786"
            ],
            [
             0.5555555555555556,
             "#d8576b"
            ],
            [
             0.6666666666666666,
             "#ed7953"
            ],
            [
             0.7777777777777778,
             "#fb9f3a"
            ],
            [
             0.8888888888888888,
             "#fdca26"
            ],
            [
             1,
             "#f0f921"
            ]
           ],
           "sequentialminus": [
            [
             0,
             "#0d0887"
            ],
            [
             0.1111111111111111,
             "#46039f"
            ],
            [
             0.2222222222222222,
             "#7201a8"
            ],
            [
             0.3333333333333333,
             "#9c179e"
            ],
            [
             0.4444444444444444,
             "#bd3786"
            ],
            [
             0.5555555555555556,
             "#d8576b"
            ],
            [
             0.6666666666666666,
             "#ed7953"
            ],
            [
             0.7777777777777778,
             "#fb9f3a"
            ],
            [
             0.8888888888888888,
             "#fdca26"
            ],
            [
             1,
             "#f0f921"
            ]
           ]
          },
          "colorway": [
           "#636efa",
           "#EF553B",
           "#00cc96",
           "#ab63fa",
           "#FFA15A",
           "#19d3f3",
           "#FF6692",
           "#B6E880",
           "#FF97FF",
           "#FECB52"
          ],
          "font": {
           "color": "#2a3f5f"
          },
          "geo": {
           "bgcolor": "white",
           "lakecolor": "white",
           "landcolor": "#E5ECF6",
           "showlakes": true,
           "showland": true,
           "subunitcolor": "white"
          },
          "hoverlabel": {
           "align": "left"
          },
          "hovermode": "closest",
          "mapbox": {
           "style": "light"
          },
          "paper_bgcolor": "white",
          "plot_bgcolor": "#E5ECF6",
          "polar": {
           "angularaxis": {
            "gridcolor": "white",
            "linecolor": "white",
            "ticks": ""
           },
           "bgcolor": "#E5ECF6",
           "radialaxis": {
            "gridcolor": "white",
            "linecolor": "white",
            "ticks": ""
           }
          },
          "scene": {
           "xaxis": {
            "backgroundcolor": "#E5ECF6",
            "gridcolor": "white",
            "gridwidth": 2,
            "linecolor": "white",
            "showbackground": true,
            "ticks": "",
            "zerolinecolor": "white"
           },
           "yaxis": {
            "backgroundcolor": "#E5ECF6",
            "gridcolor": "white",
            "gridwidth": 2,
            "linecolor": "white",
            "showbackground": true,
            "ticks": "",
            "zerolinecolor": "white"
           },
           "zaxis": {
            "backgroundcolor": "#E5ECF6",
            "gridcolor": "white",
            "gridwidth": 2,
            "linecolor": "white",
            "showbackground": true,
            "ticks": "",
            "zerolinecolor": "white"
           }
          },
          "shapedefaults": {
           "line": {
            "color": "#2a3f5f"
           }
          },
          "ternary": {
           "aaxis": {
            "gridcolor": "white",
            "linecolor": "white",
            "ticks": ""
           },
           "baxis": {
            "gridcolor": "white",
            "linecolor": "white",
            "ticks": ""
           },
           "bgcolor": "#E5ECF6",
           "caxis": {
            "gridcolor": "white",
            "linecolor": "white",
            "ticks": ""
           }
          },
          "title": {
           "x": 0.05
          },
          "xaxis": {
           "automargin": true,
           "gridcolor": "white",
           "linecolor": "white",
           "ticks": "",
           "zerolinecolor": "white",
           "zerolinewidth": 2
          },
          "yaxis": {
           "automargin": true,
           "gridcolor": "white",
           "linecolor": "white",
           "ticks": "",
           "zerolinecolor": "white",
           "zerolinewidth": 2
          }
         }
        }
       }
      },
      "text/html": [
       "<div>\n",
       "        \n",
       "        \n",
       "            <div id=\"9806d9c6-d98f-44c3-992a-9dbf8fa0ac64\" class=\"plotly-graph-div\" style=\"height:525px; width:100%;\"></div>\n",
       "            <script type=\"text/javascript\">\n",
       "                require([\"plotly\"], function(Plotly) {\n",
       "                    window.PLOTLYENV=window.PLOTLYENV || {};\n",
       "                    \n",
       "                if (document.getElementById(\"9806d9c6-d98f-44c3-992a-9dbf8fa0ac64\")) {\n",
       "                    Plotly.newPlot(\n",
       "                        '9806d9c6-d98f-44c3-992a-9dbf8fa0ac64',\n",
       "                        [{\"mode\": \"lines+markers\", \"name\": \"pred\", \"type\": \"scatter\", \"x\": [\"_163653\", \"_141626\", \"_141625\", \"_141382\", \"_115570\", \"_169632\", \"_116358\", \"_142417\", \"_146160\", \"_169740\", \"_140442\", \"_139609\", \"_159734\", \"_169146\", \"_151779\", \"_156320\", \"_125422\", \"_162937\", \"_121874\", \"_126004\", \"_161205\", \"_149611\", \"_133512\", \"_167298\", \"_148372\", \"_161315\", \"_126254\", \"_130296\", \"_122559\", \"_122558\", \"_132526\", \"_116761\", \"_152694\", \"_139965\", \"_133698\", \"_133730\", \"_163187\", \"_137970\", \"_134827\", \"_164952\", \"_156377\", \"_129359\", \"_134239\", \"_147195\", \"_126450\", \"_125890\", \"_125774\", \"_121242\", \"_164622\", \"_170388\", \"_161428\", \"_124773\", \"_143148\", \"_138411\", \"_118236\", \"_113149\", \"_148736\", \"_169807\", \"_169085\", \"_159454\", \"_127217\", \"_131786\", \"_112880\", \"_157771\", \"_140183\", \"_121063\", \"_164440\", \"_154431\", \"_154826\", \"_140804\", \"_130891\", \"_157115\", \"_126297\", \"_130563\", \"_157648\", \"_169076\", \"_125281\", \"_150453\", \"_132953\", \"_121653\", \"_130254\", \"_124312\", \"_124313\", \"_135250\", \"_143332\", \"_164905\", \"_148022\", \"_160205\", \"_130671\", \"_149749\", \"_116404\", \"_129033\", \"_169892\", \"_137942\", \"_141002\", \"_145795\", \"_141001\", \"_151675\", \"_117980\", \"_140362\", \"_122862\", \"_133051\", \"_133266\", \"_166269\", \"_112129\", \"_143353\", \"_135486\", \"_131966\", \"_140255\", \"_165157\", \"_140254\", \"_159036\", \"_149411\", \"_142848\", \"_155926\", \"_126024\", \"_122029\", \"_116539\", \"_129500\", \"_129319\", \"_131250\", \"_155192\", \"_117645\", \"_169832\", \"_129937\", \"_128726\", \"_129004\", \"_148708\", \"_113795\", \"_137402\", \"_136660\", \"_115907\", \"_115908\", \"_147304\", \"_125497\", \"_163587\", \"_135592\", \"_143672\", \"_140265\", \"_121532\", \"_168349\", \"_116553\", \"_125365\", \"_137636\", \"_126293\", \"_116691\", \"_161654\", \"_126184\", \"_147362\", \"_129982\", \"_163170\", \"_163168\", \"_164725\", \"_110889\", \"_112923\", \"_126633\", \"_113709\", \"_157795\", \"_129559\", \"_157280\", \"_140263\", \"_111482\", \"_158887\", \"_112304\", \"_167966\", \"_159150\", \"_132898\", \"_153430\", \"_129666\", \"_116349\", \"_115650\", \"_121868\", \"_141162\", \"_158051\", \"_121528\", \"_140073\", \"_144644\", \"_139570\", \"_161865\", \"_165500\", \"_114376\", \"_136960\", \"_136214\", \"_165790\", \"_166213\", \"_134620\", \"_133731\", \"_112299\", \"_168394\", \"_128664\", \"_128840\", \"_130388\", \"_170749\", \"_130042\", \"_138193\", \"_146897\", \"_139571\", \"_151335\", \"_149090\", \"_120442\", \"_152119\", \"_148065\", \"_156897\", \"_154978\", \"_152733\", \"_115211\", \"_115212\", \"_140340\", \"_169564\", \"_161489\", \"_130045\", \"_122699\", \"_162116\", \"_135710\", \"_114758\", \"_151672\", \"_129871\", \"_131238\", \"_117014\", \"_150552\", \"_146523\", \"_168809\", \"_150081\", \"_135425\", \"_155687\", \"_136039\", \"_166966\", \"_136166\", \"_133269\", \"_135946\", \"_127212\", \"_158949\", \"_158948\", \"_132398\", \"_149846\", \"_123332\", \"_170111\", \"_131851\", \"_166714\", \"_152173\", \"_119666\", \"_157943\", \"_146972\", \"_167798\", \"_148985\", \"_155149\", \"_163743\", \"_136967\", \"_162387\", \"_112651\", \"_128641\", \"_161590\", \"_112900\", \"_147827\", \"_170319\", \"_130549\", \"_129192\", \"_169851\", \"_116474\", \"_112517\", \"_117262\", \"_122350\", \"_125978\", \"_127118\", \"_150338\", \"_165230\", \"_141803\", \"_155082\", \"_115636\", \"_141062\", \"_151224\", \"_161566\", \"_111662\", \"_140365\", \"_145150\", \"_168240\", \"_130727\", \"_157302\", \"_113966\", \"_126307\", \"_163315\", \"_134411\", \"_147399\", \"_110945\", \"_134936\", \"_111217\", \"_134405\", \"_148059\", \"_142106\", \"_142051\", \"_159616\", \"_164821\", \"_142009\", \"_142008\", \"_118106\", \"_129479\", \"_133926\", \"_130194\", \"_113377\", \"_151459\", \"_112216\", \"_167295\", \"_158379\", \"_123357\", \"_148533\", \"_140605\", \"_119338\", \"_142064\", \"_134114\", \"_150815\", \"_153984\", \"_118186\", \"_157326\", \"_153972\", \"_144404\", \"_144272\", \"_152452\", \"_143768\", \"_155815\", \"_160953\", \"_123776\", \"_123777\", \"_132814\", \"_139948\", \"_125391\", \"_117771\", \"_114347\", \"_125909\", \"_155055\", \"_167069\", \"_115466\", \"_118245\", \"_134715\", \"_119876\", \"_155240\", \"_130744\", \"_113521\", \"_113816\", \"_169994\", \"_120253\", \"_143851\", \"_118532\", \"_158285\", \"_120751\", \"_122047\", \"_142083\", \"_164119\", \"_142388\", \"_131543\", \"_131544\", \"_125209\", \"_162513\", \"_145805\", \"_153800\", \"_170532\", \"_123427\", \"_160533\", \"_114857\", \"_166973\", \"_125982\", \"_145703\", \"_136058\", \"_154175\", \"_145507\", \"_114365\", \"_160542\", \"_171339\", \"_129297\", \"_148434\", \"_159827\", \"_140037\", \"_121119\", \"_166273\", \"_159549\", \"_117658\", \"_140490\", \"_153833\", \"_122722\", \"_117667\", \"_141254\", \"_154032\", \"_167363\", \"_118159\", \"_135383\", \"_125920\", \"_118057\", \"_111062\", \"_133383\", \"_126624\", \"_170154\", \"_122021\", \"_124646\", \"_114434\", \"_130977\", \"_155444\", \"_124168\", \"_120493\", \"_130311\", \"_161605\", \"_129572\", \"_155391\", \"_143019\", \"_166829\", \"_170051\", \"_131592\", \"_127911\", \"_151761\", \"_162403\", \"_135145\", \"_122402\", \"_163473\", \"_155100\", \"_120004\", \"_168940\", \"_133661\", \"_135345\", \"_142572\", \"_153960\", \"_142796\", \"_125083\", \"_136005\", \"_140010\", \"_144104\", \"_143878\", \"_160391\", \"_127936\", \"_117420\", \"_153838\", \"_151090\", \"_128131\", \"_112715\", \"_131391\", \"_119970\", \"_113848\", \"_138506\", \"_122874\", \"_125530\", \"_132514\", \"_128799\", \"_148721\", \"_119178\", \"_130925\", \"_168676\", \"_150874\", \"_120895\", \"_136438\", \"_112977\", \"_140334\", \"_135687\", \"_123933\", \"_119886\", \"_138029\", \"_111670\", \"_138601\", \"_134872\", \"_156138\", \"_125737\", \"_139506\", \"_163182\", \"_129335\", \"_129026\", \"_114682\", \"_130894\", \"_130946\", \"_115494\", \"_128219\", \"_132110\", \"_159472\", \"_121322\", \"_167821\", \"_170382\", \"_117423\", \"_126823\", \"_125477\", \"_121882\", \"_151367\", \"_157031\", \"_147798\", \"_142728\", \"_115914\", \"_159216\", \"_142355\", \"_150691\", \"_143847\", \"_130562\", \"_158709\", \"_132482\", \"_121156\", \"_168999\", \"_146338\", \"_114054\", \"_122642\", \"_127340\", \"_147961\", \"_150398\", \"_147505\", \"_147504\", \"_151176\", \"_170295\", \"_156306\", \"_117963\", \"_123410\", \"_149156\", \"_158695\", \"_126857\", \"_167780\", \"_157213\", \"_125351\", \"_139248\", \"_163994\", \"_112955\", \"_135206\", \"_154462\", \"_153073\", \"_135057\", \"_126785\", \"_133387\", \"_167094\", \"_157761\", \"_140459\", \"_146189\", \"_140916\", \"_157281\", \"_123199\", \"_161876\", \"_111869\", \"_140262\", \"_164290\", \"_161509\", \"_141543\", \"_153097\", \"_170876\", \"_111384\", \"_136250\", \"_115753\", \"_152703\", \"_152652\", \"_131788\", \"_152357\", \"_152203\", \"_151359\", \"_132106\", \"_164720\", \"_151773\", \"_142413\", \"_170602\", \"_148498\", \"_122531\", \"_114313\", \"_116703\", \"_168603\", \"_116820\", \"_127577\", \"_127453\", \"_117308\", \"_146779\", \"_121030\", \"_117132\", \"_151662\", \"_145527\", \"_148468\", \"_135101\", \"_139060\", \"_141508\", \"_149824\", \"_144567\", \"_123730\", \"_163180\", \"_120925\", \"_161433\", \"_153402\", \"_154120\", \"_150695\", \"_156722\", \"_119207\", \"_170306\", \"_168619\", \"_171213\", \"_120249\", \"_159202\", \"_162809\", \"_161404\", \"_113999\", \"_115948\", \"_115996\", \"_159373\", \"_159212\", \"_115016\", \"_165689\", \"_118779\", \"_154933\", \"_158494\", \"_166868\", \"_116810\", \"_152199\", \"_166813\", \"_157919\", \"_151022\", \"_116876\", \"_151294\", \"_117640\", \"_113323\", \"_112493\", \"_111829\", \"_150524\", \"_146828\", \"_140161\", \"_139276\", \"_138796\", \"_124544\", \"_124546\", \"_169158\", \"_136868\", \"_136560\", \"_135667\", \"_134135\", \"_134024\", \"_133390\", \"_122684\", \"_127051\", \"_123843\", \"_132928\", \"_171070\", \"_128249\", \"_131667\", \"_127874\", \"_132242\", \"_120459\", \"_154896\", \"_111486\", \"_137819\", \"_137820\", \"_120592\", \"_155560\", \"_151039\", \"_119233\", \"_130019\", \"_113841\", \"_152138\", \"_162110\", \"_134381\", \"_133225\", \"_133844\", \"_118048\", \"_117832\", \"_141439\", \"_145064\", \"_161425\", \"_120990\", \"_150069\", \"_134512\", \"_152218\", \"_122171\", \"_141204\", \"_115576\", \"_135239\", \"_134505\", \"_128824\", \"_117175\", \"_158159\", \"_157883\", \"_163665\", \"_126767\", \"_142499\", \"_168604\", \"_167504\", \"_164092\", \"_131807\", \"_149971\", \"_168149\", \"_134481\", \"_110877\", \"_122715\", \"_170551\", \"_148621\", \"_148644\", \"_120388\", \"_164103\", \"_116467\", \"_132264\", \"_124569\", \"_122646\", \"_123757\", \"_119221\", \"_115202\", \"_145851\", \"_169476\", \"_123756\", \"_122209\", \"_117845\", \"_132281\", \"_154420\", \"_161385\", \"_111627\", \"_154453\", \"_160886\", \"_140233\", \"_136075\", \"_155828\", \"_157740\", \"_157741\", \"_122704\", \"_146971\", \"_146582\", \"_167159\", \"_163270\", \"_130793\", \"_153930\", \"_149762\", \"_111552\", \"_120999\", \"_136607\", \"_152443\", \"_130990\", \"_131529\", \"_160250\", \"_123703\", \"_160082\", \"_159745\", \"_137089\", \"_113872\", \"_139520\", \"_151765\", \"_168294\", \"_157775\", \"_170734\", \"_170842\", \"_115481\", \"_132571\", \"_111733\", \"_124042\", \"_119192\", \"_149412\", \"_136460\", \"_115245\", \"_131967\", \"_149785\", \"_154546\", \"_126359\", \"_131996\", \"_155257\", \"_144732\", \"_117248\", \"_132316\", \"_132112\", \"_123604\", \"_115272\", \"_141076\", \"_132351\", \"_118262\", \"_155221\", \"_125896\", \"_150084\", \"_129509\", \"_128204\", \"_111148\", \"_139572\", \"_121075\", \"_138309\", \"_164459\", \"_138308\", \"_126913\", \"_138220\", \"_146401\", \"_156903\", \"_133904\", \"_156574\", \"_121620\", \"_134133\", \"_144362\", \"_165324\", \"_168169\", \"_126740\", \"_155250\", \"_165743\", \"_155170\", \"_154921\", \"_127683\", \"_122649\", \"_158626\", \"_145553\", \"_114498\", \"_114424\", \"_128834\", \"_146978\", \"_122548\", \"_146793\", \"_161536\", \"_140109\", \"_131132\", \"_168399\", \"_149470\", \"_147541\", \"_114081\", \"_139971\", \"_124150\", \"_148260\", \"_148339\", \"_168969\", \"_148748\", \"_143261\", \"_148749\", \"_148757\", \"_147729\", \"_154412\", \"_156881\", \"_118791\", \"_137662\", \"_153978\", \"_121111\", \"_137603\", \"_153444\", \"_152011\", \"_136752\", \"_153005\", \"_165894\", \"_136692\", \"_142199\", \"_115364\", \"_119955\", \"_120653\", \"_166262\", \"_146775\", \"_168462\", \"_163679\", \"_111749\", \"_155990\", \"_164966\", \"_166095\", \"_143720\", \"_153201\", \"_135910\", \"_166744\", \"_120942\", \"_166020\", \"_155283\", \"_137411\", \"_119229\", \"_146128\", \"_148215\", \"_159988\", \"_165625\", \"_112544\", \"_166096\", \"_166019\", \"_158128\", \"_164325\", \"_116774\", \"_118326\", \"_160609\", \"_134012\", \"_162847\", \"_119386\", \"_166768\", \"_137621\", \"_161132\", \"_150538\", \"_124553\", \"_124791\", \"_149391\", \"_116666\", \"_169989\", \"_159118\", \"_116382\", \"_152868\", \"_152838\", \"_166867\", \"_144962\", \"_166121\", \"_171277\", \"_123491\", \"_147656\", \"_167668\", \"_140641\", \"_170826\", \"_160467\", \"_150683\", \"_131312\", \"_120118\", \"_110932\", \"_150975\", \"_150327\", \"_125853\", \"_162281\", \"_137200\", \"_147140\", \"_145610\", \"_129607\", \"_141929\", \"_153122\", \"_134207\", \"_162869\", \"_114526\", \"_114527\", \"_167381\", \"_113530\", \"_154273\", \"_150394\", \"_148718\", \"_131327\", \"_154306\", \"_160586\", \"_117045\", \"_155530\", \"_111360\", \"_113838\", \"_122810\", \"_154303\", \"_122202\", \"_125861\", \"_130739\", \"_129834\", \"_137922\", \"_162494\", \"_134781\", \"_152778\", \"_139039\", \"_139038\", \"_128580\", \"_119658\", \"_122430\", \"_145948\", \"_136947\", \"_116740\", \"_143068\", \"_146210\", \"_154715\", \"_123216\", \"_111214\", \"_135507\", \"_111172\", \"_166963\", \"_156763\", \"_113435\", \"_142916\", \"_118373\", \"_153803\", \"_110944\", \"_140722\", \"_169625\", \"_148465\", \"_121068\", \"_125553\", \"_143626\", \"_136160\", \"_120011\", \"_149793\", \"_138305\", \"_126960\", \"_135824\", \"_113394\", \"_113197\", \"_120086\", \"_150926\", \"_144224\", \"_112788\", \"_129842\", \"_162008\", \"_126901\", \"_155813\", \"_142802\", \"_129005\", \"_111937\", \"_112334\", \"_155269\", \"_144470\", \"_116998\", \"_145572\", \"_112375\", \"_146846\", \"_148115\", \"_155758\", \"_117650\", \"_119778\", \"_119361\", \"_118792\", \"_156878\", \"_150079\", \"_141371\", \"_141197\", \"_132130\", \"_115372\", \"_115713\", \"_168372\", \"_111230\", \"_133911\", \"_136580\", \"_137737\", \"_139529\", \"_168792\", \"_125638\", \"_153815\", \"_163444\", \"_131325\", \"_126589\", \"_160851\", \"_110872\", \"_164195\", \"_126252\", \"_151362\", \"_157500\", \"_121216\", \"_133881\", \"_121217\", \"_121244\", \"_159857\", \"_132923\", \"_111211\", \"_146322\", \"_133808\", \"_136341\", \"_131715\", \"_169406\", \"_124468\", \"_128721\", \"_122063\", \"_164306\", \"_111589\", \"_168523\", \"_164231\", \"_168100\", \"_146165\", \"_146666\", \"_155439\", \"_152267\", \"_123854\", \"_132368\", \"_133826\", \"_170340\", \"_116452\", \"_150304\", \"_156802\", \"_155197\", \"_124166\", \"_153197\", \"_166147\", \"_111473\", \"_125369\", \"_152583\", \"_132700\", \"_121914\", \"_119750\", \"_150435\", \"_117618\", \"_149060\", \"_157362\", \"_120143\", \"_120487\", \"_163097\", \"_161016\", \"_163183\", \"_112893\", \"_170352\", \"_133350\", \"_159275\", \"_124961\", \"_140561\", \"_119795\", \"_113609\", \"_154827\", \"_163393\", \"_121058\", \"_162897\", \"_155674\", \"_137375\", \"_128299\", \"_118227\", \"_121663\", \"_169397\", \"_139143\", \"_168800\", \"_130383\", \"_168692\", \"_136679\", \"_159587\", \"_126779\", \"_132876\", \"_165415\", \"_152104\", \"_163813\", \"_167974\", \"_116282\", \"_116843\", \"_157046\", \"_166929\", \"_150041\", \"_158833\", \"_159603\", \"_160152\", \"_133294\", \"_115235\", \"_123805\", \"_154253\", \"_152946\"], \"y\": [11.913333333333345, 11.49930000000001, 11.49930000000001, 12.471350360750359, 12.482447227918286, 12.324537121212126, 12.350879581529577, 11.835810533910538, 11.440001190476195, 12.522888311688309, 11.536416564137623, 12.31801053391054, 11.482830555555562, 11.78975952380953, 12.399609523809527, 12.661432142857148, 12.429255236576289, 13.204083333333344, 13.206400000000006, 15.275900000000025, 12.214083333333331, 12.207587776258828, 12.215691666666672, 18.281328951057763, 12.542183333333332, 18.135144205137152, 19.488500552594537, 18.05733610342143, 17.773187835906786, 17.773187835906786, 18.15362447082096, 19.85724086504704, 22.570175000000003, 21.953074907407412, 20.692645985257435, 19.64760850105668, 15.25412619047621, 19.068053359224745, 17.9457870106201, 19.930712935577663, 19.89345638795862, 19.74405356431025, 20.699294953752236, 19.102361257906804, 19.226638662472546, 21.57972947837199, 19.680992582828445, 19.871323997872004, 19.871323997872004, 18.346145385658044, 20.012608055525956, 21.101483476575325, 21.246359591023477, 20.532723148316872, 19.507098754023758, 20.762558529525368, 19.878965972425227, 20.76697739478706, 22.40544557053685, 19.6948468267175, 22.127297222222236, 19.93359734529678, 20.822971884174866, 18.992752979038528, 19.840825739800277, 20.124180749138162, 20.124180749138162, 19.181486904761904, 20.033318407754123, 20.61287702784872, 20.210937015791227, 21.060061591434877, 20.043550640212562, 22.22279905598967, 23.822077243528334, 19.543361039238267, 21.751945135615028, 19.060277655531614, 18.97350492825889, 21.945153293480086, 22.166166480531647, 23.293081036984763, 23.293081036984763, 21.094761345406194, 22.480847712682177, 20.146056358001474, 20.713443207328268, 18.374921268176273, 23.071777463628695, 22.448462362700297, 18.711774817346424, 22.30508998451976, 21.26564650809772, 18.274455030754904, 22.45643729956898, 22.4206060830326, 22.524135973811408, 21.049476126211164, 20.952352389181446, 19.589393687334976, 19.38850372948447, 22.312144580561675, 21.86858055555556, 22.04040590099611, 21.766450337062935, 21.63307531066182, 21.721055081907533, 21.68653474833928, 21.276364120561176, 20.872437993111884, 21.276364120561176, 20.825595589739628, 21.68653474833928, 21.754980073839256, 21.519205952380954, 23.503131331287378, 22.883786326182527, 22.790420439456458, 22.67578229422781, 22.754481044720983, 20.852881026495922, 20.273046181887196, 22.797974576767686, 21.519827488782536, 22.195244643643854, 19.985185116574126, 20.053904197355102, 20.852881026495922, 21.41292864839357, 19.985185116574126, 20.298059396931222, 22.77952640503497, 22.77952640503497, 22.20981373455295, 22.041560145981745, 19.985185116574126, 21.043100793650794, 23.317372502109016, 21.475295241933043, 20.569500922483144, 21.75607175396481, 20.555028502053798, 24.284035684704204, 23.784515991183294, 23.992436107183494, 22.429231396249126, 20.991336317936888, 21.80404727873598, 19.864686737592006, 19.864686737592006, 19.335878205128196, 22.419343633958643, 21.20539711364974, 22.544413030303048, 20.881818596254803, 22.753296619675456, 22.55680860976366, 20.979161717152266, 22.51014011802204, 22.61555471511308, 20.00819186453819, 21.99841345152907, 20.64097704386237, 21.38089183023468, 24.54877016277671, 20.52922208796352, 20.52922208796352, 23.64922948579501, 19.409274513869, 19.99737078175251, 24.65627319211455, 24.131390815668507, 22.293501282075972, 21.949038000935666, 21.771905183528084, 23.876049512820522, 23.662390384466676, 20.602569269048434, 21.607020402653202, 22.801066164294806, 20.953888359395265, 20.570891594388442, 22.36493119292844, 24.331035261904773, 23.876049512820522, 24.24389351625714, 22.333974131565974, 22.362088455988463, 20.347263791490825, 21.18066, 20.557435900848223, 23.971453413860818, 24.89080601647176, 21.771905183528084, 23.362571998894385, 23.22810512889645, 20.602569269048434, 22.01057340222714, 22.634908541140454, 21.525717966438187, 21.75881923451484, 21.384232548611802, 22.801066164294806, 22.145078633849238, 23.113820864908558, 22.598904557576102, 22.908139113436917, 24.928937188725516, 26.10496264855674, 20.730148291676265, 22.815922342794558, 23.5036573727906, 22.941115278929786, 20.83107317781336, 21.88415915220951, 22.903441965600578, 22.64169652101805, 23.5036573727906, 24.502589713105426, 21.87305366300676, 23.355072118445634, 22.59532418672736, 20.619923417400216, 22.950924459728867, 24.43585242244515, 24.14288337848784, 22.865635594478636, 24.17378791288016, 24.62617371750738, 25.441097252747255, 21.651994966497288, 22.53216420845063, 22.53216420845063, 23.943465040762568, 23.943465040762568, 24.088963214285727, 22.59529214192266, 24.03103641232436, 24.088963214285727, 19.888561687143092, 22.310468741318, 21.292422856524237, 22.966461363636366, 22.33856855340501, 22.319237801687077, 20.748157397581167, 20.893702166014272, 22.838638656339427, 21.903957501136023, 21.234019409850134, 21.657781905198977, 22.148655920879676, 24.45718450288892, 22.71275423208746, 24.16521958343013, 22.56899394622923, 27.43217326877771, 25.53358510003427, 21.798461416899986, 22.966461363636366, 24.593243574901226, 22.673310490376938, 21.998063184201015, 22.85821662864924, 21.95092428187067, 22.71275423208746, 22.32737777727365, 24.121226944498048, 23.650674957465228, 24.434812678568793, 22.443851447812484, 23.59196894879595, 22.051463318010956, 25.003269765160542, 23.07052436521145, 25.22875039215686, 22.327560919038028, 20.5903389890978, 20.5903389890978, 24.15403939713347, 23.777409687534863, 25.235500503662987, 26.93798936948568, 21.837974240513514, 23.75546956927631, 22.398351664859558, 21.25359325531042, 23.73999447285431, 27.101369595774887, 26.326979245812076, 22.472894821057366, 22.907314015680427, 23.811603551171867, 23.811603551171867, 27.2369701411863, 22.608174551725337, 23.7754541014027, 26.421342416979968, 25.558073171233985, 23.272978001555913, 24.653728519214702, 23.52722279407461, 26.552501329142565, 22.367608549636092, 21.086413336353676, 22.465261886631964, 22.81443549277135, 22.882951779660083, 24.946362655331686, 23.632636642508274, 24.50778692607707, 23.589905191511228, 26.46468372222221, 26.29583547222223, 24.498577644256883, 23.127077341429608, 24.94339532566034, 25.24372334765052, 24.232283119769118, 26.01418234552643, 24.246228092236432, 24.23346997535332, 23.095388770640213, 25.283206901086036, 22.724364704366124, 24.20138094660242, 26.637078479251024, 21.87579640125155, 25.69100862679211, 21.575909453237664, 26.551918214285717, 21.166879756111825, 25.098561754385965, 23.97957860034653, 24.784219354395663, 22.741277518518523, 24.487626193688655, 22.997637495784964, 23.40517620466897, 25.099850006827964, 26.680831674433758, 25.716393142296482, 24.332826320070094, 24.05567895902285, 23.100949080097358, 24.78515234142032, 24.05567895902285, 24.223810263736286, 25.422566174514074, 25.422566174514074, 24.681152142857158, 22.11478127579343, 23.897841443599916, 26.50753236587337, 27.42324155219779, 26.506261445547143, 25.014671907953865, 26.41541137732795, 23.78011352287511, 28.529420226973443, 23.43882108695655, 26.0397200751827, 23.10986142379427, 23.63013593839246, 26.564519763494282, 27.4912060794313, 25.30449485958486, 29.50669295996404, 24.6234313880425, 25.6848322093149, 19.170134573389358, 24.7317173321474, 24.662564995473023, 21.52933569486628, 21.286154449792356, 25.910547896880917, 25.248081425366294, 27.485548659042806, 26.317573386081644, 23.873095585254333, 25.439938511904746, 25.476965900241506, 26.71705640235767, 26.111239186507934, 25.764725351176583, 29.198729276026555, 24.27251666666669, 25.59970877935661, 27.271305920191413, 24.217654529892734, 25.522424017543198, 27.42445743864919, 22.619080535375915, 24.633589721375834, 22.823637962774082, 26.053941478028328, 23.11392277154265, 29.730103413608486, 27.24630673359532, 24.669545885136003, 24.657515619235138, 22.880464471267384, 25.934493796467432, 22.71275236336891, 25.82635687730963, 24.15642938498171, 27.18051517908592, 24.871339536297043, 27.14218411878489, 23.82910555555558, 25.0809201190476, 23.628610643124, 24.344571314810747, 24.99307741491842, 28.476338673534773, 26.649248580345958, 25.43843693242844, 28.875634160660802, 25.486747424603188, 23.581393378032107, 24.76965655612663, 25.411217892156866, 28.30649206113365, 29.091535232418337, 28.39114648520339, 22.73970038114062, 26.29552404481171, 27.190048561363596, 23.635170660638764, 21.348743836729128, 26.837945039682577, 22.99796395692675, 24.538925608003115, 26.09620634782436, 26.84901170634924, 22.99796395692675, 26.14084980215594, 25.06610046430174, 22.80654948256738, 25.96314404761904, 28.398961402606545, 25.433451325757577, 26.64418066192945, 26.35318331062249, 25.70797212897242, 23.41846217067655, 25.22609616174676, 22.02455834295816, 26.58313879610333, 26.886963693005747, 23.31764170876238, 24.455441280769314, 25.549969642362292, 24.80766771407551, 27.65784534040068, 24.80766771407551, 28.32744955296896, 20.995859103834714, 24.0152913315851, 27.722258814102567, 27.71275923248314, 25.876589440789466, 29.432982568219263, 25.27811176818279, 25.5485139300229, 23.4460068868488, 27.190101865833103, 26.064955158730164, 28.96628535164832, 25.31669551759351, 28.266686761904765, 25.70337140389778, 27.149647187950936, 25.414266799945686, 27.852555411935274, 28.268493998405603, 27.339441323676326, 27.742660894391427, 27.788029982870533, 27.50386327380954, 25.926767480297485, 26.467189269072314, 27.0012985588023, 28.057120888133703, 29.759074398116535, 25.549488141192146, 25.481399679653688, 24.263299576534596, 28.722189644937224, 24.961142367041518, 29.91773312325229, 28.80040915679002, 29.299835363242355, 23.975691038794242, 26.17721091108499, 27.273675400848155, 27.310751076523832, 28.758883559611245, 29.18788564422852, 24.879421666666687, 27.216482615079343, 28.06890332846459, 23.274808603234682, 23.12936889255088, 27.134829595088828, 25.871626298701305, 24.74137779031228, 28.759816355921835, 28.54981361126261, 23.549834343894332, 27.02286092238725, 25.502631649122808, 24.66462925253969, 29.166805979179212, 26.821513284826615, 26.667703476583128, 23.392777943614565, 24.192144722222224, 24.484069061788446, 24.950281968901805, 26.821774181400478, 26.925805994577487, 24.855171419641337, 24.950281968901805, 27.45298587051837, 26.01452323178569, 28.25824194766665, 27.575467500000048, 26.755133799651386, 29.617962280872597, 27.72114464285714, 25.95265307128982, 21.271172222222226, 27.765670532106782, 29.617962280872597, 28.563099678688285, 27.572156577682044, 26.276093657765173, 29.035683723084407, 28.498648392859835, 27.92239821113369, 28.145601256534693, 28.266282706876453, 27.611852746174158, 27.467567753357763, 27.508748351473837, 30.012620831519854, 30.013620831519855, 25.519253223556554, 27.41418630501102, 25.64586616284911, 26.926860051767665, 24.690142714912177, 29.22276198140677, 29.13135797538523, 29.250361626134914, 28.293818206492617, 29.563282360141415, 29.665307252296977, 27.822662770285255, 29.08129632867134, 28.54718618480053, 26.167690087854158, 29.186882374696633, 23.801066186090328, 25.66194905747761, 28.24068092084107, 24.239919821004555, 26.010094291979954, 28.841265919329125, 28.29322277117563, 22.089274205431465, 27.956986467319958, 27.352917989417996, 29.55905171364387, 28.36058973199671, 29.830759332882455, 29.373656587085183, 26.22199775188641, 28.510222855461148, 27.62626250000003, 31.362932910946974, 29.334222268463897, 24.935313334588137, 29.789649357069443, 29.19804387682642, 26.717278231837597, 30.905084191898496, 30.64976346973856, 30.214951857496192, 28.80049783306573, 29.34885930805447, 30.942454806894478, 30.808956948010515, 28.037580407558313, 27.40490158179781, 28.374712949461305, 29.948750107936593, 27.093740342399983, 23.044952699606245, 24.403514996606663, 27.555737791671113, 29.445623584326707, 27.472707514253266, 27.589449952598113, 28.786240918747293, 28.07061053941304, 27.767604704780293, 25.416676358398217, 27.45525226584042, 29.67564914130081, 27.754130393079137, 22.114261069049903, 24.067929235808307, 28.971947129363095, 27.08811887806637, 26.637804035460082, 29.762640766718338, 28.21636938470548, 26.73173970959596, 25.59498704212454, 28.510222855461148, 26.60403321336996, 22.114261069049903, 26.251588401330558, 23.835101943965228, 29.131931547874036, 25.005750187017746, 28.47459896825402, 28.396406821981696, 22.79566704170121, 22.79566704170121, 22.79566704170121, 29.140491731939782, 29.230938819031838, 30.525842208665367, 32.230704421692906, 26.447665200996813, 30.43979532836607, 29.608480905839386, 27.992307777777782, 30.892849948768866, 27.034203561003107, 28.461626249306256, 30.938329075628207, 30.034588977737222, 29.036437998787584, 28.624517081807085, 29.54425108954771, 26.872875011031233, 32.306838440407766, 29.7397651463122, 28.81920915679002, 29.298133466200202, 28.952698441081424, 29.280259148672975, 28.606453828447446, 25.690471999469, 29.64599916293527, 30.154443365988364, 30.45316259156164, 23.339035549219734, 29.368186346260668, 31.738743984318, 25.824979097985356, 28.952698441081424, 28.092265313714034, 31.467843144989793, 29.673174439396867, 26.961738375909107, 28.819204923734468, 30.72755776925383, 30.084889676371777, 29.326118318150712, 29.97646345897931, 28.628830479548242, 24.95924945246614, 30.262634145203084, 24.323042162698435, 29.334159814611134, 29.008235695476543, 28.53412368467644, 29.382928910586813, 27.985140409925762, 29.455060092559744, 28.413069719280927, 31.212363863459913, 29.334159814611134, 29.558800369160103, 30.03068127297653, 29.455060092559744, 21.772901778886666, 32.86397796079478, 26.323264112761606, 27.276544651483785, 28.86805504306861, 29.286368648486746, 29.64519329875312, 30.66163219706388, 30.922400148841515, 31.11239337742579, 29.39219965235155, 30.66163219706388, 24.078451751324533, 29.014449354596746, 27.67578064577236, 26.749398611111136, 28.459844296877126, 28.56356136041502, 30.445073057523313, 30.213531779124125, 24.50951889187228, 29.927090788827186, 33.33854400342995, 26.735797119633084, 29.389845131377943, 27.92740412782842, 31.39989144420107, 26.82925229320368, 27.74071005526192, 33.33854400342995, 29.254057870028234, 30.63894167809885, 32.69170626597441, 26.735797119633084, 33.09986794126383, 31.013308963689575, 29.498650013428264, 29.498650013428264, 31.890940874819833, 29.547320690784876, 29.30086292294818, 32.30194611134923, 29.822731198506208, 31.283727715199223, 32.30194611134923, 30.404749892876627, 28.39505541746517, 29.44406472835292, 29.354268708754645, 22.20999297693063, 30.16264256684604, 29.556764496731372, 29.16180279167114, 31.642319559630554, 31.642319559630554, 27.636725255969903, 27.599155255969908, 27.599155255969908, 28.951285586286254, 27.704162406815406, 30.091544348940516, 30.768467725415427, 26.620178257167545, 23.328352949019628, 23.58380588235296, 34.02513103476486, 30.29274655364601, 29.089934859577646, 32.10312982153504, 29.09036819291098, 28.985846622699945, 29.057340602553296, 28.915428858060626, 23.380451581394237, 29.78449255023122, 30.78840793501597, 27.54741378940506, 30.72165427802928, 28.004085431550802, 33.09420500966577, 26.018706224074457, 30.196801124967223, 25.936615528329156, 29.91095462597054, 26.452082901768655, 29.603796126533616, 29.514194205971616, 32.709127966860926, 31.830113665963264, 26.894721515873016, 31.451705627705632, 30.63825140587463, 30.97224970994247, 32.10312982153504, 32.997419707501585, 29.20978477777778, 32.10150520934264, 29.84294589112212, 26.56005249390302, 33.76797061564086, 30.27386558339762, 27.527513789405063, 31.910071256334607, 31.653550705898343, 27.580077921180553, 28.40032913675212, 29.91095462597054, 31.511338523279395, 30.763459687616024, 28.395851933778932, 30.834141462091544, 31.653550705898343, 30.78840793501597, 27.05728673401599, 31.172717826071768, 27.0162649810322, 25.333171245532252, 31.059750129353887, 28.827904921995945, 26.04546551819575, 29.838727181429686, 29.87501570657855, 29.685025738335764, 27.873483605796082, 32.997419707501585, 26.139728261431568, 29.880028946427117, 31.12388712797614, 27.427817756429434, 28.523328234126975, 30.11239751349837, 27.997948351648375, 30.924407233773408, 27.156105183807135, 27.156105183807135, 32.04072246977077, 29.019948304090587, 29.38407790291144, 33.39938075606927, 32.230345833333374, 31.751532979520498, 30.0380524713556, 31.335597680676234, 29.266107719188835, 31.801651548915984, 25.2970564743517, 28.020773894441184, 25.2970564743517, 28.82470111301396, 31.862162268333027, 28.86144331189351, 30.832142069950372, 29.24045711949076, 28.948489039590278, 30.7375879050179, 31.335597680676234, 33.70780137089827, 29.675837317922575, 30.832442898042522, 33.71666621262511, 32.31782915598643, 30.828776953199508, 32.44445395189698, 30.14299029578527, 31.50998064569301, 30.139499916458487, 30.139499916458487, 30.0314577709623, 31.775702003571773, 30.286523534289813, 29.596150387406613, 32.28155211695875, 29.451020981241005, 30.163958710743856, 30.762101351492735, 29.91464950507561, 30.214664109306636, 27.267333256805514, 30.285336781454035, 30.093821488817, 31.945987675930986, 31.221528022738365, 29.744455253710694, 30.512557231889662, 30.997461214054344, 27.997018376476138, 27.25209287219013, 29.921590663578446, 27.054709233544248, 30.648876630208118, 30.78273945658556, 32.773139281901884, 33.35973551478905, 29.491031862990358, 31.311997909566053, 27.574360539044314, 30.118806419135826, 30.25405346018059, 30.041998276569363, 31.310524998890013, 32.86850207171412, 31.363087201927843, 31.475714849114933, 32.234786712560314, 30.537325423326514, 30.37708391173154, 31.892797265234776, 32.65397476413346, 33.496475069075125, 24.668998864871806, 25.519522587719294, 33.261010466521974, 33.91085604758547, 27.4927785392003, 31.6766836175462, 31.34492715758279, 27.008857581597987, 28.325568330238266, 33.883399297983175, 28.1321029858397, 31.674220543124164, 32.39340000000007, 33.67278447523933, 30.6205968519695, 29.583535222205537, 33.96995668096519, 33.96995668096519, 30.420912752926185, 27.60636912562709, 30.323228112526728, 30.42544549102142, 27.587924980759986, 27.27454730712509, 32.21222676819341, 32.29062857142862, 33.65402657528368, 33.143842551934476, 29.339407174994466, 25.330867976190493, 29.0366031380567, 30.843290327193152, 34.175004526247385, 34.175004526247385, 29.615502012046164, 29.174598932518037, 30.409569301335935, 27.413750335016836, 32.12780693202778, 31.651913184603657, 30.29977373627601, 30.925649298942698, 30.884862217481032, 30.6155179347859, 31.11254834249652, 27.448588441558464, 30.927499309081803, 30.904595727514124, 28.492070789618023, 33.53562500000005, 30.79921665596799, 34.070717868147746, 29.49122134271602, 33.660354459335906, 34.08254512382494, 32.56631234962492, 32.56631234962492, 32.018026215449396, 31.269891005853456, 33.0332412039161, 31.521601891426013, 29.526846291270815, 29.526846291270815, 32.79385951854715, 30.053933938047827, 31.06387618225728, 32.05630093521907, 29.47447461888216, 32.944564055738454, 33.691149999359475, 30.688482450269245, 30.52773769847443, 32.769147286474904, 30.675633692574056, 32.5070949796233, 33.97257628675458, 30.565082680924323, 29.850318670650548, 29.850318670650548, 31.825411514208273, 32.36280237499218, 31.71667262531938, 33.896664843596575, 32.97620271409126, 29.84007492973257, 33.56994833262205, 29.190067196166016, 32.51166239853438, 33.30783258506656, 30.41371726216317, 34.81143623972619, 31.52118993489582, 30.25285521324016, 33.14584468731709, 34.723954639154634, 34.10066901890139, 25.945243809523824, 34.273124098529244, 32.97760000000003, 31.307302849371894, 33.41984200100768, 33.60280893738008, 31.197662192894864, 32.80790125782541, 33.08463711162573, 34.25984461211085, 36.23941507531767, 34.11206093073784, 26.523064011977645, 34.283809952338494, 30.12407229430748, 33.34947294941962, 31.28406059532123, 31.081661605015857, 33.685169548327046, 32.649666666666704, 34.89868112783018, 29.42259527787015, 36.15619628882636, 32.09847145336224, 34.587693625685205, 32.87667074025822, 34.58723589833947, 33.64697298346317, 34.50256658572159, 35.15839835220727, 35.15839835220727, 37.1052002040816, 35.00358550690969, 35.588141724180616, 33.374788644194766, 32.34141902029305, 32.17716310543045, 30.077974572667863, 32.266801446842685, 32.14751556786034, 31.750496774789656, 32.57519580690561, 33.71476666666669, 30.077974572667863, 30.377224911667117, 24.829792441741752, 31.458501599378888, 36.838182039090924, 34.12579156022013, 33.08140235314713, 29.654370634920657, 27.830687010260913, 24.829792441741752, 31.358084846956462, 31.694637508705146, 34.35038025385417, 34.245229828853894, 36.251737310606075, 30.848770200898585, 34.838388469560826, 34.3651151850838, 31.767412700358115, 36.23905528455282, 29.334220861000045, 29.614112081289086, 34.58033648403545, 27.054420531538458, 35.29687549297102, 33.96245499775613, 34.484252579642515, 34.20876938791559, 34.39462790020454, 39.78440000000003, 33.83492520315254, 33.69339811249911, 33.2591, 36.592263793103456, 27.4220945016835, 37.48348366377256, 39.86586666666667, 41.643049999999995, 34.86504816915333, 37.03707352625093, 42.97369999999999, 41.1928, 42.20745, 42.7461, 40.95934999999999, 40.18424999999999, 39.44305, 39.463049999999996, 41.96235000000001, 41.03340000000002, 45.86039999999999, 41.295150000000014, 41.295150000000014, 37.85372615206918, 39.866719371881615]}, {\"mode\": \"lines+markers\", \"name\": \"price\", \"type\": \"scatter\", \"x\": [\"_163653\", \"_141626\", \"_141625\", \"_141382\", \"_115570\", \"_169632\", \"_116358\", \"_142417\", \"_146160\", \"_169740\", \"_140442\", \"_139609\", \"_159734\", \"_169146\", \"_151779\", \"_156320\", \"_125422\", \"_162937\", \"_121874\", \"_126004\", \"_161205\", \"_149611\", \"_133512\", \"_167298\", \"_148372\", \"_161315\", \"_126254\", \"_130296\", \"_122559\", \"_122558\", \"_132526\", \"_116761\", \"_152694\", \"_139965\", \"_133698\", \"_133730\", \"_163187\", \"_137970\", \"_134827\", \"_164952\", \"_156377\", \"_129359\", \"_134239\", \"_147195\", \"_126450\", \"_125890\", \"_125774\", \"_121242\", \"_164622\", \"_170388\", \"_161428\", \"_124773\", \"_143148\", \"_138411\", \"_118236\", \"_113149\", \"_148736\", \"_169807\", \"_169085\", \"_159454\", \"_127217\", \"_131786\", \"_112880\", \"_157771\", \"_140183\", \"_121063\", \"_164440\", \"_154431\", \"_154826\", \"_140804\", \"_130891\", \"_157115\", \"_126297\", \"_130563\", \"_157648\", \"_169076\", \"_125281\", \"_150453\", \"_132953\", \"_121653\", \"_130254\", \"_124312\", \"_124313\", \"_135250\", \"_143332\", \"_164905\", \"_148022\", \"_160205\", \"_130671\", \"_149749\", \"_116404\", \"_129033\", \"_169892\", \"_137942\", \"_141002\", \"_145795\", \"_141001\", \"_151675\", \"_117980\", \"_140362\", \"_122862\", \"_133051\", \"_133266\", \"_166269\", \"_112129\", \"_143353\", \"_135486\", \"_131966\", \"_140255\", \"_165157\", \"_140254\", \"_159036\", \"_149411\", \"_142848\", \"_155926\", \"_126024\", \"_122029\", \"_116539\", \"_129500\", \"_129319\", \"_131250\", \"_155192\", \"_117645\", \"_169832\", \"_129937\", \"_128726\", \"_129004\", \"_148708\", \"_113795\", \"_137402\", \"_136660\", \"_115907\", \"_115908\", \"_147304\", \"_125497\", \"_163587\", \"_135592\", \"_143672\", \"_140265\", \"_121532\", \"_168349\", \"_116553\", \"_125365\", \"_137636\", \"_126293\", \"_116691\", \"_161654\", \"_126184\", \"_147362\", \"_129982\", \"_163170\", \"_163168\", \"_164725\", \"_110889\", \"_112923\", \"_126633\", \"_113709\", \"_157795\", \"_129559\", \"_157280\", \"_140263\", \"_111482\", \"_158887\", \"_112304\", \"_167966\", \"_159150\", \"_132898\", \"_153430\", \"_129666\", \"_116349\", \"_115650\", \"_121868\", \"_141162\", \"_158051\", \"_121528\", \"_140073\", \"_144644\", \"_139570\", \"_161865\", \"_165500\", \"_114376\", \"_136960\", \"_136214\", \"_165790\", \"_166213\", \"_134620\", \"_133731\", \"_112299\", \"_168394\", \"_128664\", \"_128840\", \"_130388\", \"_170749\", \"_130042\", \"_138193\", \"_146897\", \"_139571\", \"_151335\", \"_149090\", \"_120442\", \"_152119\", \"_148065\", \"_156897\", \"_154978\", \"_152733\", \"_115211\", \"_115212\", \"_140340\", \"_169564\", \"_161489\", \"_130045\", \"_122699\", \"_162116\", \"_135710\", \"_114758\", \"_151672\", \"_129871\", \"_131238\", \"_117014\", \"_150552\", \"_146523\", \"_168809\", \"_150081\", \"_135425\", \"_155687\", \"_136039\", \"_166966\", \"_136166\", \"_133269\", \"_135946\", \"_127212\", \"_158949\", \"_158948\", \"_132398\", \"_149846\", \"_123332\", \"_170111\", \"_131851\", \"_166714\", \"_152173\", \"_119666\", \"_157943\", \"_146972\", \"_167798\", \"_148985\", \"_155149\", \"_163743\", \"_136967\", \"_162387\", \"_112651\", \"_128641\", \"_161590\", \"_112900\", \"_147827\", \"_170319\", \"_130549\", \"_129192\", \"_169851\", \"_116474\", \"_112517\", \"_117262\", \"_122350\", \"_125978\", \"_127118\", \"_150338\", \"_165230\", \"_141803\", \"_155082\", \"_115636\", \"_141062\", \"_151224\", \"_161566\", \"_111662\", \"_140365\", \"_145150\", \"_168240\", \"_130727\", \"_157302\", \"_113966\", \"_126307\", \"_163315\", \"_134411\", \"_147399\", \"_110945\", \"_134936\", \"_111217\", \"_134405\", \"_148059\", \"_142106\", \"_142051\", \"_159616\", \"_164821\", \"_142009\", \"_142008\", \"_118106\", \"_129479\", \"_133926\", \"_130194\", \"_113377\", \"_151459\", \"_112216\", \"_167295\", \"_158379\", \"_123357\", \"_148533\", \"_140605\", \"_119338\", \"_142064\", \"_134114\", \"_150815\", \"_153984\", \"_118186\", \"_157326\", \"_153972\", \"_144404\", \"_144272\", \"_152452\", \"_143768\", \"_155815\", \"_160953\", \"_123776\", \"_123777\", \"_132814\", \"_139948\", \"_125391\", \"_117771\", \"_114347\", \"_125909\", \"_155055\", \"_167069\", \"_115466\", \"_118245\", \"_134715\", \"_119876\", \"_155240\", \"_130744\", \"_113521\", \"_113816\", \"_169994\", \"_120253\", \"_143851\", \"_118532\", \"_158285\", \"_120751\", \"_122047\", \"_142083\", \"_164119\", \"_142388\", \"_131543\", \"_131544\", \"_125209\", \"_162513\", \"_145805\", \"_153800\", \"_170532\", \"_123427\", \"_160533\", \"_114857\", \"_166973\", \"_125982\", \"_145703\", \"_136058\", \"_154175\", \"_145507\", \"_114365\", \"_160542\", \"_171339\", \"_129297\", \"_148434\", \"_159827\", \"_140037\", \"_121119\", \"_166273\", \"_159549\", \"_117658\", \"_140490\", \"_153833\", \"_122722\", \"_117667\", \"_141254\", \"_154032\", \"_167363\", \"_118159\", \"_135383\", \"_125920\", \"_118057\", \"_111062\", \"_133383\", \"_126624\", \"_170154\", \"_122021\", \"_124646\", \"_114434\", \"_130977\", \"_155444\", \"_124168\", \"_120493\", \"_130311\", \"_161605\", \"_129572\", \"_155391\", \"_143019\", \"_166829\", \"_170051\", \"_131592\", \"_127911\", \"_151761\", \"_162403\", \"_135145\", \"_122402\", \"_163473\", \"_155100\", \"_120004\", \"_168940\", \"_133661\", \"_135345\", \"_142572\", \"_153960\", \"_142796\", \"_125083\", \"_136005\", \"_140010\", \"_144104\", \"_143878\", \"_160391\", \"_127936\", \"_117420\", \"_153838\", \"_151090\", \"_128131\", \"_112715\", \"_131391\", \"_119970\", \"_113848\", \"_138506\", \"_122874\", \"_125530\", \"_132514\", \"_128799\", \"_148721\", \"_119178\", \"_130925\", \"_168676\", \"_150874\", \"_120895\", \"_136438\", \"_112977\", \"_140334\", \"_135687\", \"_123933\", \"_119886\", \"_138029\", \"_111670\", \"_138601\", \"_134872\", \"_156138\", \"_125737\", \"_139506\", \"_163182\", \"_129335\", \"_129026\", \"_114682\", \"_130894\", \"_130946\", \"_115494\", \"_128219\", \"_132110\", \"_159472\", \"_121322\", \"_167821\", \"_170382\", \"_117423\", \"_126823\", \"_125477\", \"_121882\", \"_151367\", \"_157031\", \"_147798\", \"_142728\", \"_115914\", \"_159216\", \"_142355\", \"_150691\", \"_143847\", \"_130562\", \"_158709\", \"_132482\", \"_121156\", \"_168999\", \"_146338\", \"_114054\", \"_122642\", \"_127340\", \"_147961\", \"_150398\", \"_147505\", \"_147504\", \"_151176\", \"_170295\", \"_156306\", \"_117963\", \"_123410\", \"_149156\", \"_158695\", \"_126857\", \"_167780\", \"_157213\", \"_125351\", \"_139248\", \"_163994\", \"_112955\", \"_135206\", \"_154462\", \"_153073\", \"_135057\", \"_126785\", \"_133387\", \"_167094\", \"_157761\", \"_140459\", \"_146189\", \"_140916\", \"_157281\", \"_123199\", \"_161876\", \"_111869\", \"_140262\", \"_164290\", \"_161509\", \"_141543\", \"_153097\", \"_170876\", \"_111384\", \"_136250\", \"_115753\", \"_152703\", \"_152652\", \"_131788\", \"_152357\", \"_152203\", \"_151359\", \"_132106\", \"_164720\", \"_151773\", \"_142413\", \"_170602\", \"_148498\", \"_122531\", \"_114313\", \"_116703\", \"_168603\", \"_116820\", \"_127577\", \"_127453\", \"_117308\", \"_146779\", \"_121030\", \"_117132\", \"_151662\", \"_145527\", \"_148468\", \"_135101\", \"_139060\", \"_141508\", \"_149824\", \"_144567\", \"_123730\", \"_163180\", \"_120925\", \"_161433\", \"_153402\", \"_154120\", \"_150695\", \"_156722\", \"_119207\", \"_170306\", \"_168619\", \"_171213\", \"_120249\", \"_159202\", \"_162809\", \"_161404\", \"_113999\", \"_115948\", \"_115996\", \"_159373\", \"_159212\", \"_115016\", \"_165689\", \"_118779\", \"_154933\", \"_158494\", \"_166868\", \"_116810\", \"_152199\", \"_166813\", \"_157919\", \"_151022\", \"_116876\", \"_151294\", \"_117640\", \"_113323\", \"_112493\", \"_111829\", \"_150524\", \"_146828\", \"_140161\", \"_139276\", \"_138796\", \"_124544\", \"_124546\", \"_169158\", \"_136868\", \"_136560\", \"_135667\", \"_134135\", \"_134024\", \"_133390\", \"_122684\", \"_127051\", \"_123843\", \"_132928\", \"_171070\", \"_128249\", \"_131667\", \"_127874\", \"_132242\", \"_120459\", \"_154896\", \"_111486\", \"_137819\", \"_137820\", \"_120592\", \"_155560\", \"_151039\", \"_119233\", \"_130019\", \"_113841\", \"_152138\", \"_162110\", \"_134381\", \"_133225\", \"_133844\", \"_118048\", \"_117832\", \"_141439\", \"_145064\", \"_161425\", \"_120990\", \"_150069\", \"_134512\", \"_152218\", \"_122171\", \"_141204\", \"_115576\", \"_135239\", \"_134505\", \"_128824\", \"_117175\", \"_158159\", \"_157883\", \"_163665\", \"_126767\", \"_142499\", \"_168604\", \"_167504\", \"_164092\", \"_131807\", \"_149971\", \"_168149\", \"_134481\", \"_110877\", \"_122715\", \"_170551\", \"_148621\", \"_148644\", \"_120388\", \"_164103\", \"_116467\", \"_132264\", \"_124569\", \"_122646\", \"_123757\", \"_119221\", \"_115202\", \"_145851\", \"_169476\", \"_123756\", \"_122209\", \"_117845\", \"_132281\", \"_154420\", \"_161385\", \"_111627\", \"_154453\", \"_160886\", \"_140233\", \"_136075\", \"_155828\", \"_157740\", \"_157741\", \"_122704\", \"_146971\", \"_146582\", \"_167159\", \"_163270\", \"_130793\", \"_153930\", \"_149762\", \"_111552\", \"_120999\", \"_136607\", \"_152443\", \"_130990\", \"_131529\", \"_160250\", \"_123703\", \"_160082\", \"_159745\", \"_137089\", \"_113872\", \"_139520\", \"_151765\", \"_168294\", \"_157775\", \"_170734\", \"_170842\", \"_115481\", \"_132571\", \"_111733\", \"_124042\", \"_119192\", \"_149412\", \"_136460\", \"_115245\", \"_131967\", \"_149785\", \"_154546\", \"_126359\", \"_131996\", \"_155257\", \"_144732\", \"_117248\", \"_132316\", \"_132112\", \"_123604\", \"_115272\", \"_141076\", \"_132351\", \"_118262\", \"_155221\", \"_125896\", \"_150084\", \"_129509\", \"_128204\", \"_111148\", \"_139572\", \"_121075\", \"_138309\", \"_164459\", \"_138308\", \"_126913\", \"_138220\", \"_146401\", \"_156903\", \"_133904\", \"_156574\", \"_121620\", \"_134133\", \"_144362\", \"_165324\", \"_168169\", \"_126740\", \"_155250\", \"_165743\", \"_155170\", \"_154921\", \"_127683\", \"_122649\", \"_158626\", \"_145553\", \"_114498\", \"_114424\", \"_128834\", \"_146978\", \"_122548\", \"_146793\", \"_161536\", \"_140109\", \"_131132\", \"_168399\", \"_149470\", \"_147541\", \"_114081\", \"_139971\", \"_124150\", \"_148260\", \"_148339\", \"_168969\", \"_148748\", \"_143261\", \"_148749\", \"_148757\", \"_147729\", \"_154412\", \"_156881\", \"_118791\", \"_137662\", \"_153978\", \"_121111\", \"_137603\", \"_153444\", \"_152011\", \"_136752\", \"_153005\", \"_165894\", \"_136692\", \"_142199\", \"_115364\", \"_119955\", \"_120653\", \"_166262\", \"_146775\", \"_168462\", \"_163679\", \"_111749\", \"_155990\", \"_164966\", \"_166095\", \"_143720\", \"_153201\", \"_135910\", \"_166744\", \"_120942\", \"_166020\", \"_155283\", \"_137411\", \"_119229\", \"_146128\", \"_148215\", \"_159988\", \"_165625\", \"_112544\", \"_166096\", \"_166019\", \"_158128\", \"_164325\", \"_116774\", \"_118326\", \"_160609\", \"_134012\", \"_162847\", \"_119386\", \"_166768\", \"_137621\", \"_161132\", \"_150538\", \"_124553\", \"_124791\", \"_149391\", \"_116666\", \"_169989\", \"_159118\", \"_116382\", \"_152868\", \"_152838\", \"_166867\", \"_144962\", \"_166121\", \"_171277\", \"_123491\", \"_147656\", \"_167668\", \"_140641\", \"_170826\", \"_160467\", \"_150683\", \"_131312\", \"_120118\", \"_110932\", \"_150975\", \"_150327\", \"_125853\", \"_162281\", \"_137200\", \"_147140\", \"_145610\", \"_129607\", \"_141929\", \"_153122\", \"_134207\", \"_162869\", \"_114526\", \"_114527\", \"_167381\", \"_113530\", \"_154273\", \"_150394\", \"_148718\", \"_131327\", \"_154306\", \"_160586\", \"_117045\", \"_155530\", \"_111360\", \"_113838\", \"_122810\", \"_154303\", \"_122202\", \"_125861\", \"_130739\", \"_129834\", \"_137922\", \"_162494\", \"_134781\", \"_152778\", \"_139039\", \"_139038\", \"_128580\", \"_119658\", \"_122430\", \"_145948\", \"_136947\", \"_116740\", \"_143068\", \"_146210\", \"_154715\", \"_123216\", \"_111214\", \"_135507\", \"_111172\", \"_166963\", \"_156763\", \"_113435\", \"_142916\", \"_118373\", \"_153803\", \"_110944\", \"_140722\", \"_169625\", \"_148465\", \"_121068\", \"_125553\", \"_143626\", \"_136160\", \"_120011\", \"_149793\", \"_138305\", \"_126960\", \"_135824\", \"_113394\", \"_113197\", \"_120086\", \"_150926\", \"_144224\", \"_112788\", \"_129842\", \"_162008\", \"_126901\", \"_155813\", \"_142802\", \"_129005\", \"_111937\", \"_112334\", \"_155269\", \"_144470\", \"_116998\", \"_145572\", \"_112375\", \"_146846\", \"_148115\", \"_155758\", \"_117650\", \"_119778\", \"_119361\", \"_118792\", \"_156878\", \"_150079\", \"_141371\", \"_141197\", \"_132130\", \"_115372\", \"_115713\", \"_168372\", \"_111230\", \"_133911\", \"_136580\", \"_137737\", \"_139529\", \"_168792\", \"_125638\", \"_153815\", \"_163444\", \"_131325\", \"_126589\", \"_160851\", \"_110872\", \"_164195\", \"_126252\", \"_151362\", \"_157500\", \"_121216\", \"_133881\", \"_121217\", \"_121244\", \"_159857\", \"_132923\", \"_111211\", \"_146322\", \"_133808\", \"_136341\", \"_131715\", \"_169406\", \"_124468\", \"_128721\", \"_122063\", \"_164306\", \"_111589\", \"_168523\", \"_164231\", \"_168100\", \"_146165\", \"_146666\", \"_155439\", \"_152267\", \"_123854\", \"_132368\", \"_133826\", \"_170340\", \"_116452\", \"_150304\", \"_156802\", \"_155197\", \"_124166\", \"_153197\", \"_166147\", \"_111473\", \"_125369\", \"_152583\", \"_132700\", \"_121914\", \"_119750\", \"_150435\", \"_117618\", \"_149060\", \"_157362\", \"_120143\", \"_120487\", \"_163097\", \"_161016\", \"_163183\", \"_112893\", \"_170352\", \"_133350\", \"_159275\", \"_124961\", \"_140561\", \"_119795\", \"_113609\", \"_154827\", \"_163393\", \"_121058\", \"_162897\", \"_155674\", \"_137375\", \"_128299\", \"_118227\", \"_121663\", \"_169397\", \"_139143\", \"_168800\", \"_130383\", \"_168692\", \"_136679\", \"_159587\", \"_126779\", \"_132876\", \"_165415\", \"_152104\", \"_163813\", \"_167974\", \"_116282\", \"_116843\", \"_157046\", \"_166929\", \"_150041\", \"_158833\", \"_159603\", \"_160152\", \"_133294\", \"_115235\", \"_123805\", \"_154253\", \"_152946\"], \"y\": [10.3, 10.4, 10.4, 10.5, 10.5, 10.5, 10.6, 10.8, 10.9, 11.0, 11.5, 11.8, 12.0, 12.0, 12.5, 12.8, 13.0, 13.8, 14.4, 15.0, 15.0, 15.0, 15.0, 16.18, 16.28, 16.5, 17.5, 17.6, 17.8, 17.8, 17.9, 18.0, 18.0, 18.0, 18.0, 18.1, 18.3, 18.38, 18.5, 18.5, 18.5, 18.5, 18.5, 18.53, 18.6, 18.78, 18.8, 18.8, 18.8, 18.8, 18.88, 18.9, 18.99, 19.0, 19.0, 19.0, 19.0, 19.0, 19.0, 19.0, 19.0, 19.0, 19.0, 19.0, 19.19, 19.2, 19.2, 19.5, 19.5, 19.5, 19.6, 19.6, 19.8, 19.8, 19.8, 19.8, 19.8, 19.88, 19.88, 19.9, 19.98, 19.99, 19.99, 20.0, 20.0, 20.0, 20.0, 20.0, 20.0, 20.0, 20.0, 20.0, 20.0, 20.0, 20.0, 20.0, 20.0, 20.0, 20.18, 20.18, 20.48, 20.4807, 20.5, 20.5, 20.5, 20.5, 20.5, 20.5, 20.5, 20.5, 20.5, 20.5, 20.5, 20.58, 20.7, 20.89, 20.93, 20.98, 21.0, 21.0, 21.0, 21.0, 21.0, 21.0, 21.0, 21.0, 21.0, 21.0, 21.0, 21.0, 21.0, 21.0, 21.0, 21.0, 21.0, 21.0, 21.0, 21.0, 21.0, 21.0, 21.0, 21.0, 21.2, 21.2, 21.3, 21.4, 21.49, 21.5, 21.5, 21.5, 21.5, 21.5, 21.5, 21.5, 21.5, 21.6, 21.7, 21.8, 21.8, 21.8, 21.8, 21.8, 21.8, 21.8, 21.88, 21.9, 21.9, 21.98, 21.98, 22.0, 22.0, 22.0, 22.0, 22.0, 22.0, 22.0, 22.0, 22.0, 22.0, 22.0, 22.0, 22.0, 22.0, 22.0, 22.0, 22.0, 22.0, 22.0, 22.0, 22.0, 22.0, 22.0, 22.0, 22.0, 22.0, 22.0, 22.0, 22.0, 22.0, 22.0, 22.0, 22.0, 22.0, 22.0, 22.08, 22.28, 22.28, 22.3, 22.37, 22.5, 22.5, 22.5, 22.5, 22.5, 22.5, 22.5, 22.5, 22.5, 22.5, 22.5, 22.5, 22.5, 22.6, 22.6, 22.66, 22.8, 22.8, 22.8, 22.8, 22.8, 22.8, 22.8, 22.8, 22.9, 22.9, 22.9, 22.9, 22.9, 22.9, 22.98, 23.0, 23.0, 23.0, 23.0, 23.0, 23.0, 23.0, 23.0, 23.0, 23.0, 23.0, 23.0, 23.0, 23.0, 23.0, 23.0, 23.0, 23.0, 23.0, 23.0, 23.0, 23.0, 23.0, 23.0, 23.0, 23.0, 23.0, 23.0, 23.0, 23.0, 23.0, 23.0, 23.0, 23.0, 23.3, 23.3, 23.3, 23.4, 23.4, 23.49, 23.5, 23.5, 23.5, 23.5, 23.5, 23.5, 23.5, 23.5, 23.5, 23.5, 23.5, 23.5, 23.5, 23.5, 23.5, 23.6, 23.6, 23.75, 23.8, 23.8, 23.8, 23.8, 23.8, 23.8, 23.8, 23.8, 23.88, 23.88, 23.88, 23.88, 23.9, 24.0, 24.0, 24.0, 24.0, 24.0, 24.0, 24.0, 24.0, 24.0, 24.0, 24.0, 24.0, 24.0, 24.0, 24.0, 24.0, 24.0, 24.0, 24.0, 24.1, 24.18, 24.18, 24.3, 24.3, 24.4, 24.48, 24.5, 24.5, 24.5, 24.5, 24.5, 24.5, 24.5, 24.5, 24.5, 24.5, 24.5, 24.58, 24.58, 24.6, 24.8, 24.8, 24.8, 24.8, 24.8, 24.8, 24.8, 24.8, 24.88, 24.89, 24.9, 24.9, 24.9, 24.95, 24.98, 24.98, 24.98, 25.0, 25.0, 25.0, 25.0, 25.0, 25.0, 25.0, 25.0, 25.0, 25.0, 25.0, 25.0, 25.0, 25.0, 25.0, 25.0, 25.0, 25.0, 25.0, 25.0, 25.0, 25.0, 25.0, 25.0, 25.0, 25.0, 25.0, 25.0, 25.0, 25.0, 25.0, 25.0, 25.0, 25.0, 25.0, 25.0, 25.2, 25.2, 25.25, 25.3, 25.3, 25.38, 25.4, 25.5, 25.5, 25.5, 25.5, 25.5, 25.5, 25.5, 25.5, 25.5, 25.5, 25.5, 25.5, 25.5, 25.5, 25.5, 25.6, 25.8, 25.8, 25.8, 25.8, 25.8, 25.8, 25.8, 25.8, 25.8, 25.8, 25.8, 25.8, 25.8, 25.9, 25.9, 25.98, 25.99, 25.99, 26.0, 26.0, 26.0, 26.0, 26.0, 26.0, 26.0, 26.0, 26.0, 26.0, 26.0, 26.0, 26.0, 26.0, 26.0, 26.0, 26.0, 26.0, 26.0, 26.0, 26.0, 26.0, 26.0, 26.0, 26.0, 26.0, 26.0, 26.0, 26.1, 26.2, 26.2, 26.2, 26.2, 26.2, 26.25, 26.25, 26.26, 26.3, 26.3, 26.5, 26.5, 26.5, 26.5, 26.5, 26.5, 26.5, 26.54, 26.6, 26.6, 26.8, 26.8, 26.8, 26.8, 26.8, 26.8, 26.8, 26.8, 26.8, 26.8, 26.8, 26.8, 26.8, 26.88, 26.9, 26.9, 26.9, 26.9, 26.98, 26.98, 27.0, 27.0, 27.0, 27.0, 27.0, 27.0, 27.0, 27.0, 27.0, 27.0, 27.0, 27.0, 27.0, 27.0, 27.0, 27.0, 27.0, 27.0, 27.0, 27.0, 27.0, 27.0, 27.0, 27.0, 27.0, 27.0, 27.0, 27.0, 27.0, 27.1, 27.2, 27.28, 27.5, 27.5, 27.5, 27.5, 27.5, 27.5, 27.5, 27.5, 27.5, 27.5, 27.5, 27.5, 27.5, 27.6, 27.68, 27.78, 27.8, 27.8, 27.8, 27.8, 27.8, 27.88, 27.9, 27.9, 27.9, 27.9, 27.9, 27.9, 27.9, 27.98, 27.98, 27.99, 28.0, 28.0, 28.0, 28.0, 28.0, 28.0, 28.0, 28.0, 28.0, 28.0, 28.0, 28.0, 28.0, 28.0, 28.0, 28.0, 28.0, 28.0, 28.0, 28.0, 28.0, 28.0, 28.0, 28.0, 28.0, 28.0, 28.0, 28.0, 28.0, 28.0, 28.0, 28.0, 28.0, 28.0, 28.0, 28.0, 28.0, 28.0, 28.0, 28.0, 28.0, 28.0, 28.0, 28.0, 28.0, 28.0, 28.0, 28.0, 28.0, 28.28, 28.3, 28.4, 28.4, 28.4, 28.4, 28.5, 28.5, 28.5, 28.5, 28.5, 28.5, 28.5, 28.5, 28.5, 28.5, 28.5, 28.5, 28.5, 28.5, 28.5, 28.5, 28.5, 28.5, 28.58, 28.6, 28.7, 28.8, 28.8, 28.8, 28.8, 28.8, 28.8, 28.8, 28.8, 28.8, 28.8, 28.8, 28.8, 28.9, 28.98, 28.98, 29.0, 29.0, 29.0, 29.0, 29.0, 29.0, 29.0, 29.0, 29.0, 29.0, 29.0, 29.0, 29.0, 29.0, 29.0, 29.0, 29.0, 29.0, 29.0, 29.0, 29.0, 29.0, 29.0, 29.0, 29.0, 29.0, 29.0, 29.0, 29.2, 29.2, 29.2, 29.2, 29.2, 29.2, 29.2, 29.3, 29.3, 29.3, 29.3, 29.3, 29.5, 29.5, 29.5, 29.5, 29.5, 29.5, 29.5, 29.5, 29.5, 29.5, 29.5, 29.5, 29.5, 29.5, 29.5, 29.5, 29.5, 29.65, 29.7, 29.7, 29.7, 29.7, 29.8, 29.8, 29.8, 29.8, 29.8, 29.8, 29.8, 29.8, 29.8, 29.8, 29.8, 29.8, 29.8, 29.88, 29.88, 29.89, 29.89, 29.89, 29.9, 29.9, 29.9, 29.9, 29.98, 29.98, 29.98, 29.99, 30.0, 30.0, 30.0, 30.0, 30.0, 30.0, 30.0, 30.0, 30.0, 30.0, 30.0, 30.0, 30.0, 30.0, 30.0, 30.0, 30.0, 30.0, 30.0, 30.0, 30.0, 30.0, 30.0, 30.0, 30.0, 30.0, 30.0, 30.0, 30.0, 30.0, 30.0, 30.0, 30.0, 30.0, 30.0, 30.0, 30.0, 30.0, 30.0, 30.0, 30.0, 30.0, 30.0, 30.0, 30.0, 30.0, 30.0, 30.0, 30.0, 30.0, 30.0, 30.0, 30.0, 30.0, 30.0, 30.0, 30.0, 30.0, 30.0, 30.1, 30.18, 30.2, 30.2, 30.2, 30.28, 30.3, 30.3, 30.3, 30.3, 30.5, 30.5, 30.5, 30.5, 30.5, 30.5, 30.5, 30.5, 30.5, 30.5, 30.5, 30.5, 30.5, 30.5, 30.5, 30.5, 30.5, 30.5, 30.5, 30.5, 30.5, 30.8, 30.8, 30.8, 30.8, 30.8, 30.88, 30.88, 30.9, 30.99, 31.0, 31.0, 31.0, 31.0, 31.0, 31.0, 31.0, 31.0, 31.0, 31.0, 31.0, 31.0, 31.0, 31.0, 31.0, 31.0, 31.0, 31.0, 31.0, 31.0, 31.0, 31.0, 31.0, 31.0, 31.0, 31.0, 31.0, 31.0, 31.0, 31.0, 31.0, 31.0, 31.0, 31.0, 31.0, 31.0, 31.1, 31.1, 31.2, 31.2, 31.3, 31.3, 31.5, 31.5, 31.5, 31.5, 31.5, 31.5, 31.5, 31.5, 31.6, 31.8, 31.8, 31.8, 31.8, 31.8, 31.8, 31.8, 31.8, 31.9, 31.99, 31.99, 32.0, 32.0, 32.0, 32.0, 32.0, 32.0, 32.0, 32.0, 32.0, 32.0, 32.0, 32.0, 32.0, 32.0, 32.0, 32.0, 32.0, 32.0, 32.0, 32.0, 32.0, 32.0, 32.0, 32.0, 32.0, 32.0, 32.0, 32.0, 32.0, 32.0, 32.0, 32.3, 32.5, 32.5, 32.5, 32.5, 32.53, 32.8, 32.8, 32.8, 32.8, 32.8, 32.88, 32.9, 32.9, 32.9, 32.9, 33.0, 33.0, 33.0, 33.0, 33.0, 33.0, 33.0, 33.0, 33.0, 33.0, 33.0, 33.0, 33.0, 33.0, 33.0, 33.0, 33.0, 33.0, 33.0, 33.0, 33.0, 33.0, 33.0, 33.0, 33.0, 33.0, 33.0, 33.2, 33.3, 33.5, 33.5, 33.6, 33.8, 33.9, 34.0, 34.0, 34.0, 34.0, 34.0, 34.0, 34.0, 34.0, 34.0, 34.0, 34.0, 34.0, 34.0, 34.0, 34.0, 34.0, 34.0, 34.2, 34.2, 34.5, 34.5, 34.5, 34.5, 34.5, 34.5, 34.5, 34.7, 34.7, 34.8, 34.8, 34.8, 34.98, 35.0, 35.0, 35.0, 35.0, 35.0, 35.0, 35.0, 35.0, 35.0, 35.0, 35.0, 35.0, 35.0, 35.0, 35.0, 35.0, 35.0, 35.0, 35.0, 35.0, 35.5, 35.5, 35.5, 35.68, 36.0, 36.0, 36.0, 36.0, 36.0, 36.18, 36.5, 36.5, 36.7, 36.8, 37.0, 37.0, 37.0, 37.0, 37.0, 37.9, 38.0, 38.0, 38.0, 38.5, 39.0, 39.0, 39.99, 40.0, 40.0, 41.5, 42.0, 42.8, 43.0, 43.0, 43.0, 43.0, 43.0, 43.5, 45.0, 46.0, 46.0, 46.8, 51.0]}],\n",
       "                        {\"template\": {\"data\": {\"bar\": [{\"error_x\": {\"color\": \"#2a3f5f\"}, \"error_y\": {\"color\": \"#2a3f5f\"}, \"marker\": {\"line\": {\"color\": \"#E5ECF6\", \"width\": 0.5}}, \"type\": \"bar\"}], \"barpolar\": [{\"marker\": {\"line\": {\"color\": \"#E5ECF6\", \"width\": 0.5}}, \"type\": \"barpolar\"}], \"carpet\": [{\"aaxis\": {\"endlinecolor\": \"#2a3f5f\", \"gridcolor\": \"white\", \"linecolor\": \"white\", \"minorgridcolor\": \"white\", \"startlinecolor\": \"#2a3f5f\"}, \"baxis\": {\"endlinecolor\": \"#2a3f5f\", \"gridcolor\": \"white\", \"linecolor\": \"white\", \"minorgridcolor\": \"white\", \"startlinecolor\": \"#2a3f5f\"}, \"type\": \"carpet\"}], \"choropleth\": [{\"colorbar\": {\"outlinewidth\": 0, \"ticks\": \"\"}, \"type\": \"choropleth\"}], \"contour\": [{\"colorbar\": {\"outlinewidth\": 0, \"ticks\": \"\"}, \"colorscale\": [[0.0, \"#0d0887\"], [0.1111111111111111, \"#46039f\"], [0.2222222222222222, \"#7201a8\"], [0.3333333333333333, \"#9c179e\"], [0.4444444444444444, \"#bd3786\"], [0.5555555555555556, \"#d8576b\"], [0.6666666666666666, \"#ed7953\"], [0.7777777777777778, \"#fb9f3a\"], [0.8888888888888888, \"#fdca26\"], [1.0, \"#f0f921\"]], \"type\": \"contour\"}], \"contourcarpet\": [{\"colorbar\": {\"outlinewidth\": 0, \"ticks\": \"\"}, \"type\": \"contourcarpet\"}], \"heatmap\": [{\"colorbar\": {\"outlinewidth\": 0, \"ticks\": \"\"}, \"colorscale\": [[0.0, \"#0d0887\"], [0.1111111111111111, \"#46039f\"], [0.2222222222222222, \"#7201a8\"], [0.3333333333333333, \"#9c179e\"], [0.4444444444444444, \"#bd3786\"], [0.5555555555555556, \"#d8576b\"], [0.6666666666666666, \"#ed7953\"], [0.7777777777777778, \"#fb9f3a\"], [0.8888888888888888, \"#fdca26\"], [1.0, \"#f0f921\"]], \"type\": \"heatmap\"}], \"heatmapgl\": [{\"colorbar\": {\"outlinewidth\": 0, \"ticks\": \"\"}, \"colorscale\": [[0.0, \"#0d0887\"], [0.1111111111111111, \"#46039f\"], [0.2222222222222222, \"#7201a8\"], [0.3333333333333333, \"#9c179e\"], [0.4444444444444444, \"#bd3786\"], [0.5555555555555556, \"#d8576b\"], [0.6666666666666666, \"#ed7953\"], [0.7777777777777778, \"#fb9f3a\"], [0.8888888888888888, \"#fdca26\"], [1.0, \"#f0f921\"]], \"type\": \"heatmapgl\"}], \"histogram\": [{\"marker\": {\"colorbar\": {\"outlinewidth\": 0, \"ticks\": \"\"}}, \"type\": \"histogram\"}], \"histogram2d\": [{\"colorbar\": {\"outlinewidth\": 0, \"ticks\": \"\"}, \"colorscale\": [[0.0, \"#0d0887\"], [0.1111111111111111, \"#46039f\"], [0.2222222222222222, \"#7201a8\"], [0.3333333333333333, \"#9c179e\"], [0.4444444444444444, \"#bd3786\"], [0.5555555555555556, \"#d8576b\"], [0.6666666666666666, \"#ed7953\"], [0.7777777777777778, \"#fb9f3a\"], [0.8888888888888888, \"#fdca26\"], [1.0, \"#f0f921\"]], \"type\": \"histogram2d\"}], \"histogram2dcontour\": [{\"colorbar\": {\"outlinewidth\": 0, \"ticks\": \"\"}, \"colorscale\": [[0.0, \"#0d0887\"], [0.1111111111111111, \"#46039f\"], [0.2222222222222222, \"#7201a8\"], [0.3333333333333333, \"#9c179e\"], [0.4444444444444444, \"#bd3786\"], [0.5555555555555556, \"#d8576b\"], [0.6666666666666666, \"#ed7953\"], [0.7777777777777778, \"#fb9f3a\"], [0.8888888888888888, \"#fdca26\"], [1.0, \"#f0f921\"]], \"type\": \"histogram2dcontour\"}], \"mesh3d\": [{\"colorbar\": {\"outlinewidth\": 0, \"ticks\": \"\"}, \"type\": \"mesh3d\"}], \"parcoords\": [{\"line\": {\"colorbar\": {\"outlinewidth\": 0, \"ticks\": \"\"}}, \"type\": \"parcoords\"}], \"scatter\": [{\"marker\": {\"colorbar\": {\"outlinewidth\": 0, \"ticks\": \"\"}}, \"type\": \"scatter\"}], \"scatter3d\": [{\"line\": {\"colorbar\": {\"outlinewidth\": 0, \"ticks\": \"\"}}, \"marker\": {\"colorbar\": {\"outlinewidth\": 0, \"ticks\": \"\"}}, \"type\": \"scatter3d\"}], \"scattercarpet\": [{\"marker\": {\"colorbar\": {\"outlinewidth\": 0, \"ticks\": \"\"}}, \"type\": \"scattercarpet\"}], \"scattergeo\": [{\"marker\": {\"colorbar\": {\"outlinewidth\": 0, \"ticks\": \"\"}}, \"type\": \"scattergeo\"}], \"scattergl\": [{\"marker\": {\"colorbar\": {\"outlinewidth\": 0, \"ticks\": \"\"}}, \"type\": \"scattergl\"}], \"scattermapbox\": [{\"marker\": {\"colorbar\": {\"outlinewidth\": 0, \"ticks\": \"\"}}, \"type\": \"scattermapbox\"}], \"scatterpolar\": [{\"marker\": {\"colorbar\": {\"outlinewidth\": 0, \"ticks\": \"\"}}, \"type\": \"scatterpolar\"}], \"scatterpolargl\": [{\"marker\": {\"colorbar\": {\"outlinewidth\": 0, \"ticks\": \"\"}}, \"type\": \"scatterpolargl\"}], \"scatterternary\": [{\"marker\": {\"colorbar\": {\"outlinewidth\": 0, \"ticks\": \"\"}}, \"type\": \"scatterternary\"}], \"surface\": [{\"colorbar\": {\"outlinewidth\": 0, \"ticks\": \"\"}, \"colorscale\": [[0.0, \"#0d0887\"], [0.1111111111111111, \"#46039f\"], [0.2222222222222222, \"#7201a8\"], [0.3333333333333333, \"#9c179e\"], [0.4444444444444444, \"#bd3786\"], [0.5555555555555556, \"#d8576b\"], [0.6666666666666666, \"#ed7953\"], [0.7777777777777778, \"#fb9f3a\"], [0.8888888888888888, \"#fdca26\"], [1.0, \"#f0f921\"]], \"type\": \"surface\"}], \"table\": [{\"cells\": {\"fill\": {\"color\": \"#EBF0F8\"}, \"line\": {\"color\": \"white\"}}, \"header\": {\"fill\": {\"color\": \"#C8D4E3\"}, \"line\": {\"color\": \"white\"}}, \"type\": \"table\"}]}, \"layout\": {\"annotationdefaults\": {\"arrowcolor\": \"#2a3f5f\", \"arrowhead\": 0, \"arrowwidth\": 1}, \"colorscale\": {\"diverging\": [[0, \"#8e0152\"], [0.1, \"#c51b7d\"], [0.2, \"#de77ae\"], [0.3, \"#f1b6da\"], [0.4, \"#fde0ef\"], [0.5, \"#f7f7f7\"], [0.6, \"#e6f5d0\"], [0.7, \"#b8e186\"], [0.8, \"#7fbc41\"], [0.9, \"#4d9221\"], [1, \"#276419\"]], \"sequential\": [[0.0, \"#0d0887\"], [0.1111111111111111, \"#46039f\"], [0.2222222222222222, \"#7201a8\"], [0.3333333333333333, \"#9c179e\"], [0.4444444444444444, \"#bd3786\"], [0.5555555555555556, \"#d8576b\"], [0.6666666666666666, \"#ed7953\"], [0.7777777777777778, \"#fb9f3a\"], [0.8888888888888888, \"#fdca26\"], [1.0, \"#f0f921\"]], \"sequentialminus\": [[0.0, \"#0d0887\"], [0.1111111111111111, \"#46039f\"], [0.2222222222222222, \"#7201a8\"], [0.3333333333333333, \"#9c179e\"], [0.4444444444444444, \"#bd3786\"], [0.5555555555555556, \"#d8576b\"], [0.6666666666666666, \"#ed7953\"], [0.7777777777777778, \"#fb9f3a\"], [0.8888888888888888, \"#fdca26\"], [1.0, \"#f0f921\"]]}, \"colorway\": [\"#636efa\", \"#EF553B\", \"#00cc96\", \"#ab63fa\", \"#FFA15A\", \"#19d3f3\", \"#FF6692\", \"#B6E880\", \"#FF97FF\", \"#FECB52\"], \"font\": {\"color\": \"#2a3f5f\"}, \"geo\": {\"bgcolor\": \"white\", \"lakecolor\": \"white\", \"landcolor\": \"#E5ECF6\", \"showlakes\": true, \"showland\": true, \"subunitcolor\": \"white\"}, \"hoverlabel\": {\"align\": \"left\"}, \"hovermode\": \"closest\", \"mapbox\": {\"style\": \"light\"}, \"paper_bgcolor\": \"white\", \"plot_bgcolor\": \"#E5ECF6\", \"polar\": {\"angularaxis\": {\"gridcolor\": \"white\", \"linecolor\": \"white\", \"ticks\": \"\"}, \"bgcolor\": \"#E5ECF6\", \"radialaxis\": {\"gridcolor\": \"white\", \"linecolor\": \"white\", \"ticks\": \"\"}}, \"scene\": {\"xaxis\": {\"backgroundcolor\": \"#E5ECF6\", \"gridcolor\": \"white\", \"gridwidth\": 2, \"linecolor\": \"white\", \"showbackground\": true, \"ticks\": \"\", \"zerolinecolor\": \"white\"}, \"yaxis\": {\"backgroundcolor\": \"#E5ECF6\", \"gridcolor\": \"white\", \"gridwidth\": 2, \"linecolor\": \"white\", \"showbackground\": true, \"ticks\": \"\", \"zerolinecolor\": \"white\"}, \"zaxis\": {\"backgroundcolor\": \"#E5ECF6\", \"gridcolor\": \"white\", \"gridwidth\": 2, \"linecolor\": \"white\", \"showbackground\": true, \"ticks\": \"\", \"zerolinecolor\": \"white\"}}, \"shapedefaults\": {\"line\": {\"color\": \"#2a3f5f\"}}, \"ternary\": {\"aaxis\": {\"gridcolor\": \"white\", \"linecolor\": \"white\", \"ticks\": \"\"}, \"baxis\": {\"gridcolor\": \"white\", \"linecolor\": \"white\", \"ticks\": \"\"}, \"bgcolor\": \"#E5ECF6\", \"caxis\": {\"gridcolor\": \"white\", \"linecolor\": \"white\", \"ticks\": \"\"}}, \"title\": {\"x\": 0.05}, \"xaxis\": {\"automargin\": true, \"gridcolor\": \"white\", \"linecolor\": \"white\", \"ticks\": \"\", \"zerolinecolor\": \"white\", \"zerolinewidth\": 2}, \"yaxis\": {\"automargin\": true, \"gridcolor\": \"white\", \"linecolor\": \"white\", \"ticks\": \"\", \"zerolinecolor\": \"white\", \"zerolinewidth\": 2}}}},\n",
       "                        {\"responsive\": true}\n",
       "                    ).then(function(){\n",
       "                            \n",
       "var gd = document.getElementById('9806d9c6-d98f-44c3-992a-9dbf8fa0ac64');\n",
       "var x = new MutationObserver(function (mutations, observer) {{\n",
       "        var display = window.getComputedStyle(gd).display;\n",
       "        if (!display || display === 'none') {{\n",
       "            console.log([gd, 'removed!']);\n",
       "            Plotly.purge(gd);\n",
       "            observer.disconnect();\n",
       "        }}\n",
       "}});\n",
       "\n",
       "// Listen for the removal of the full notebook cells\n",
       "var notebookContainer = gd.closest('#notebook-container');\n",
       "if (notebookContainer) {{\n",
       "    x.observe(notebookContainer, {childList: true});\n",
       "}}\n",
       "\n",
       "// Listen for the clearing of the current output cell\n",
       "var outputEl = gd.closest('.output');\n",
       "if (outputEl) {{\n",
       "    x.observe(outputEl, {childList: true});\n",
       "}}\n",
       "\n",
       "                        })\n",
       "                };\n",
       "                });\n",
       "            </script>\n",
       "        </div>"
      ]
     },
     "metadata": {},
     "output_type": "display_data"
    }
   ],
   "source": [
    "vdf = pd.DataFrame({'pred': pred, 'price': data_test.price, 'id':data_test.id})\n",
    "vdf = vdf.sort_values(by='price')\n",
    "\n",
    "draw_lines([f'_{i}' for i in vdf.id], vdf[['pred', 'price']], ['pred', 'price'])"
   ]
  },
  {
   "cell_type": "code",
   "execution_count": null,
   "metadata": {},
   "outputs": [],
   "source": []
  },
  {
   "cell_type": "code",
   "execution_count": null,
   "metadata": {},
   "outputs": [],
   "source": []
  },
  {
   "cell_type": "code",
   "execution_count": null,
   "metadata": {},
   "outputs": [],
   "source": []
  },
  {
   "cell_type": "code",
   "execution_count": null,
   "metadata": {},
   "outputs": [],
   "source": []
  },
  {
   "cell_type": "code",
   "execution_count": null,
   "metadata": {},
   "outputs": [],
   "source": []
  }
 ],
 "metadata": {
  "kernelspec": {
   "display_name": "Python 3",
   "language": "python",
   "name": "python3"
  },
  "language_info": {
   "codemirror_mode": {
    "name": "ipython",
    "version": 3
   },
   "file_extension": ".py",
   "mimetype": "text/x-python",
   "name": "python",
   "nbconvert_exporter": "python",
   "pygments_lexer": "ipython3",
   "version": "3.7.3"
  }
 },
 "nbformat": 4,
 "nbformat_minor": 2
}
