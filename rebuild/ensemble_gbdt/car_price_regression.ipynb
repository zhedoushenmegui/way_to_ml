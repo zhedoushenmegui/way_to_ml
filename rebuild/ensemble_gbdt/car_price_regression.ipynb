{
 "cells": [
  {
   "cell_type": "code",
   "execution_count": 1,
   "metadata": {},
   "outputs": [],
   "source": [
    "import numpy as np\n",
    "import pandas as pd\n",
    "import math\n",
    "from sklearn.model_selection import train_test_split\n",
    "import os\n",
    "project_path = os.path.abspath(os.path.join(os.path.dirname(os.path.abspath('.')), '../'))\n",
    "import sys\n",
    "sys.path.append(project_path)\n",
    "from util.visualization import draw_lines\n",
    "from util.visualization import draw_scatters\n",
    "from util.evaluate_process import classifier_evaluate\n",
    "from collections import Counter"
   ]
  },
  {
   "cell_type": "code",
   "execution_count": 2,
   "metadata": {},
   "outputs": [],
   "source": [
    "data_train = pd.read_csv(f'{project_path}/data/small_car_price_train.201908.csv')\n",
    "data_test = pd.read_csv(f'{project_path}/data/small_car_price_test.201908.csv')"
   ]
  },
  {
   "cell_type": "code",
   "execution_count": 3,
   "metadata": {},
   "outputs": [],
   "source": [
    "from util.evaluate_process import car_price_evaluate\n",
    "from util.visualization import draw_lines\n",
    "from util.data_process import DataProcess"
   ]
  },
  {
   "cell_type": "code",
   "execution_count": 4,
   "metadata": {},
   "outputs": [],
   "source": [
    "with open(f'{project_path}/data/car_price_feat.txt') as f:\n",
    "    feat_list = list(filter(lambda x: x[0] != '#', f.read().split('\\n')))\n",
    "\n",
    "label_encode_map, f_map = DataProcess.gencode(pd.concat([data_train, data_test]), feat_list)\n",
    "X_train, X_test = DataProcess.encode_process(data_train[feat_list], feat_list, label_encode_map), DataProcess.encode_process(data_test[feat_list], feat_list, label_encode_map)\n",
    "y_train = data_train.price\n",
    "y_test = data_test.price"
   ]
  },
  {
   "cell_type": "code",
   "execution_count": 9,
   "metadata": {},
   "outputs": [],
   "source": [
    "\n"
   ]
  },
  {
   "cell_type": "code",
   "execution_count": 7,
   "metadata": {},
   "outputs": [],
   "source": [
    "def gen_gbdt(df, y, y_cur=None, depth=0, \n",
    "                eta=0.3, gamma=0, max_depth=4, min_samples_split=4, reg_lambda=1, reg_alpha=0, max_leaves=0, max_bin=256,):\n",
    "    if y_cur is None:\n",
    "        y_cur = [0 for i in y]\n",
    "    ####\n",
    "    size = len(df)\n",
    "    objv = (cal_g(residual, ))\n",
    "    ret = {\n",
    "            'size': size,\n",
    "            'regval': np.mean(y),\n",
    "            'depth': depth\n",
    "    }\n",
    "    #### \n",
    "    if size < min_samples_split:\n",
    "        # 这个节点数量太少, 不应该分裂\n",
    "        ret['reason'] = 'less than min_samples_split'\n",
    "        return ret\n",
    "    if depth >= max_depth:\n",
    "        # 太深了, 停止分裂\n",
    "        ret['reason'] = 'to deep'\n",
    "        return ret\n",
    "    #### 找分裂点\n",
    "    \n",
    "    ####\n",
    "    return ret\n",
    "    "
   ]
  },
  {
   "cell_type": "code",
   "execution_count": 8,
   "metadata": {},
   "outputs": [
    {
     "data": {
      "text/plain": [
       "{'size': 1509, 'regval': 27.012158714380387, 'depth': 0}"
      ]
     },
     "execution_count": 8,
     "metadata": {},
     "output_type": "execute_result"
    }
   ],
   "source": [
    "gen_xgboost(X_train, y_train)"
   ]
  },
  {
   "cell_type": "code",
   "execution_count": null,
   "metadata": {},
   "outputs": [],
   "source": []
  }
 ],
 "metadata": {
  "kernelspec": {
   "display_name": "Python 3",
   "language": "python",
   "name": "python3"
  },
  "language_info": {
   "codemirror_mode": {
    "name": "ipython",
    "version": 3
   },
   "file_extension": ".py",
   "mimetype": "text/x-python",
   "name": "python",
   "nbconvert_exporter": "python",
   "pygments_lexer": "ipython3",
   "version": "3.7.3"
  }
 },
 "nbformat": 4,
 "nbformat_minor": 2
}
