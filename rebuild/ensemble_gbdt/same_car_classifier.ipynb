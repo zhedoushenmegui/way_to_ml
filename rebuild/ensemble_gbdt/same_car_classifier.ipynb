{
 "cells": [
  {
   "cell_type": "code",
   "execution_count": 1,
   "metadata": {},
   "outputs": [],
   "source": [
    "import numpy as np\n",
    "import pandas as pd\n",
    "import math\n",
    "from sklearn.model_selection import train_test_split\n",
    "import os\n",
    "project_path = os.path.abspath(os.path.join(os.path.dirname(os.path.abspath('.')), '../'))\n",
    "import sys\n",
    "sys.path.append(project_path)\n",
    "from util.visualization import draw_lines\n",
    "from util.visualization import draw_scatters\n",
    "from util.evaluate_process import classifier_evaluate\n",
    "from collections import Counter\n",
    "from sklearn.metrics import auc, roc_curve"
   ]
  },
  {
   "cell_type": "code",
   "execution_count": 2,
   "metadata": {},
   "outputs": [],
   "source": [
    "from util.visualization import draw_tree, tree_to_dot"
   ]
  },
  {
   "cell_type": "code",
   "execution_count": 3,
   "metadata": {},
   "outputs": [],
   "source": [
    "df = pd.read_csv('../../data/preprocessed.samecar.csv')"
   ]
  },
  {
   "cell_type": "code",
   "execution_count": 4,
   "metadata": {},
   "outputs": [],
   "source": [
    "feats = [\n",
    "    'colorp1', 'colorp2', \n",
    "    'fuel_typep1', 'fuel_typep2','displacement_standard1', 'displacement_standard2',\n",
    "    'gearboxp1', 'gearboxp2', 'displacement_diff', 'displacement_diff_sparse',\n",
    "    'mile_diff', 'mile_diff_sparse', 'mile_diff_rate', 'mile_diff_rate_sparse',\n",
    "    'year_diff', 'year_diff_sparse', 'licensed_city_diff_sparse', 'title_diff', \n",
    "    'title_diff_sparse', 'register_time_diff', 'register_time_diff_sparse',\n",
    "    'is_import_diff_sparse', 'transfer_times_diff', 'transfer_times_diff_sparse'\n",
    "]\n",
    "# 只保留离散特征\n",
    "sparse_feats = [\n",
    "    'colorp1', 'colorp2', \n",
    "    'fuel_typep1', 'fuel_typep2','displacement_standard1', 'displacement_standard2',\n",
    "    'gearboxp1', 'gearboxp2', 'displacement_diff_sparse',\n",
    "    'mile_diff_sparse', 'mile_diff_rate_sparse',\n",
    "    'year_diff_sparse', 'licensed_city_diff_sparse', \n",
    "    'title_diff_sparse', 'register_time_diff_sparse',\n",
    "    'is_import_diff_sparse', 'transfer_times_diff_sparse'\n",
    "]"
   ]
  },
  {
   "cell_type": "code",
   "execution_count": 5,
   "metadata": {},
   "outputs": [
    {
     "data": {
      "text/plain": [
       "(8038, 2680)"
      ]
     },
     "execution_count": 5,
     "metadata": {},
     "output_type": "execute_result"
    }
   ],
   "source": [
    "rdf = df[sparse_feats]\n",
    "X_train, X_test, y_train, y_test = train_test_split(rdf, df.is_same, test_size=0.25, random_state=10)\n",
    "len(X_train), len(X_test)"
   ]
  },
  {
   "cell_type": "code",
   "execution_count": 11,
   "metadata": {},
   "outputs": [],
   "source": [
    "from rebuild.decision_tree.decision_tree import DecisionTree as dtt"
   ]
  },
  {
   "cell_type": "markdown",
   "metadata": {},
   "source": [
    "# boosted trees"
   ]
  },
  {
   "cell_type": "code",
   "execution_count": null,
   "metadata": {},
   "outputs": [],
   "source": []
  }
 ],
 "metadata": {
  "kernelspec": {
   "display_name": "Python 3",
   "language": "python",
   "name": "python3"
  },
  "language_info": {
   "codemirror_mode": {
    "name": "ipython",
    "version": 3
   },
   "file_extension": ".py",
   "mimetype": "text/x-python",
   "name": "python",
   "nbconvert_exporter": "python",
   "pygments_lexer": "ipython3",
   "version": "3.7.3"
  }
 },
 "nbformat": 4,
 "nbformat_minor": 2
}
