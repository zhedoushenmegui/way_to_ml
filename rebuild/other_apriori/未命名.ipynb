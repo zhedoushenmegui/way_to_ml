{
 "cells": [
  {
   "cell_type": "code",
   "execution_count": 6,
   "metadata": {},
   "outputs": [
    {
     "data": {
      "text/plain": [
       "[{1, 3, 4, 5},\n",
       " {2, 3, 5},\n",
       " {1, 2, 3, 5},\n",
       " {2, 5},\n",
       " {1, 3, 5},\n",
       " {2, 3, 5, 6},\n",
       " {5, 7},\n",
       " {1, 5, 6},\n",
       " {5, 6, 7},\n",
       " {3, 5, 7}]"
      ]
     },
     "execution_count": 6,
     "metadata": {},
     "output_type": "execute_result"
    }
   ],
   "source": [
    "data = [\n",
    "    [1, 3, 4, 5], \n",
    "    [2, 3, 5], \n",
    "    [1, 2, 3, 5], \n",
    "    [2, 5],\n",
    "    [1, 3, 5], \n",
    "    [6, 2, 3, 5], \n",
    "    [7, 5],\n",
    "    [1, 5, 6], \n",
    "    [6, 7, 5], \n",
    "    [7, 5, 3],\n",
    "]\n",
    "pdata = list(map(set, data))\n",
    "pdata"
   ]
  },
  {
   "cell_type": "code",
   "execution_count": 7,
   "metadata": {},
   "outputs": [],
   "source": [
    "def create_c1(data_set):\n",
    "    c1 = set()\n",
    "    for items in data_set:\n",
    "        c1 = c1.union(set([frozenset([item]) for item in items]))\n",
    "    return c1"
   ]
  },
  {
   "cell_type": "code",
   "execution_count": 9,
   "metadata": {},
   "outputs": [
    {
     "data": {
      "text/plain": [
       "{frozenset({2}),\n",
       " frozenset({7}),\n",
       " frozenset({3}),\n",
       " frozenset({1}),\n",
       " frozenset({6}),\n",
       " frozenset({5}),\n",
       " frozenset({4})}"
      ]
     },
     "execution_count": 9,
     "metadata": {},
     "output_type": "execute_result"
    }
   ],
   "source": [
    "c1 = create_c1(pdata)\n",
    "c1"
   ]
  },
  {
   "cell_type": "code",
   "execution_count": 16,
   "metadata": {},
   "outputs": [],
   "source": [
    "def gen_support_data(data_set, ck, min_support=0.3):\n",
    "    support_count = {item: 0 for item in ck}\n",
    "    for item in ck:\n",
    "        for ds in data_set:\n",
    "            # 判断ck 中元素是不是dataset 中元素的子集\n",
    "            if len(item - ds) == 0:\n",
    "                support_count[item] += 1\n",
    "        # 更python 的写法\n",
    "        # support_count[item] += len(list(filter(lambda x: len(item-x)==0, data_set)))\n",
    "    ###\n",
    "    m = len(data_set)\n",
    "    new_support_data = {item: support_count[item]/m for item in support_count}\n",
    "    ret = list(filter(lambda x: new_support_data[x] >= min_support, new_support_data))\n",
    "    return ret, new_support_data"
   ]
  },
  {
   "cell_type": "code",
   "execution_count": 20,
   "metadata": {},
   "outputs": [
    {
     "data": {
      "text/plain": [
       "([frozenset({2}), frozenset({3}), frozenset({1}), frozenset({5})],\n",
       " {frozenset({2}): 0.4,\n",
       "  frozenset({7}): 0.3,\n",
       "  frozenset({3}): 0.6,\n",
       "  frozenset({1}): 0.4,\n",
       "  frozenset({6}): 0.3,\n",
       "  frozenset({5}): 1.0,\n",
       "  frozenset({4}): 0.1})"
      ]
     },
     "execution_count": 20,
     "metadata": {},
     "output_type": "execute_result"
    }
   ],
   "source": [
    "gen_support_data(pdata, c1, 0.33)"
   ]
  },
  {
   "cell_type": "code",
   "execution_count": null,
   "metadata": {},
   "outputs": [],
   "source": []
  }
 ],
 "metadata": {
  "kernelspec": {
   "display_name": "Python 3",
   "language": "python",
   "name": "python3"
  },
  "language_info": {
   "codemirror_mode": {
    "name": "ipython",
    "version": 3
   },
   "file_extension": ".py",
   "mimetype": "text/x-python",
   "name": "python",
   "nbconvert_exporter": "python",
   "pygments_lexer": "ipython3",
   "version": "3.7.3"
  }
 },
 "nbformat": 4,
 "nbformat_minor": 2
}
