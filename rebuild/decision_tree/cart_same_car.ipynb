{
 "cells": [
  {
   "cell_type": "code",
   "execution_count": 7,
   "metadata": {},
   "outputs": [],
   "source": [
    "import numpy as np\n",
    "import pandas as pd\n",
    "import math\n",
    "from sklearn.model_selection import train_test_split\n",
    "import os\n",
    "project_path = os.path.abspath(os.path.join(os.path.dirname(os.path.abspath('.')), '../'))\n",
    "import sys\n",
    "sys.path.append(project_path)\n",
    "from util.visualization import draw_lines\n",
    "from util.visualization import draw_scatters\n",
    "from util.evaluate_process import classifier_evaluate\n",
    "from collections import Counter\n",
    "from sklearn.metrics import auc, roc_curve"
   ]
  },
  {
   "cell_type": "code",
   "execution_count": 8,
   "metadata": {},
   "outputs": [],
   "source": [
    "df = pd.read_csv('../../data/preprocessed.samecar.csv')"
   ]
  },
  {
   "cell_type": "code",
   "execution_count": 9,
   "metadata": {},
   "outputs": [],
   "source": [
    "feats = [\n",
    "    'colorp1', 'colorp2', \n",
    "    'fuel_typep1', 'fuel_typep2','displacement_standard1', 'displacement_standard2',\n",
    "    'gearboxp1', 'gearboxp2', 'displacement_diff', 'displacement_diff_sparse',\n",
    "    'mile_diff', 'mile_diff_sparse', 'mile_diff_rate', 'mile_diff_rate_sparse',\n",
    "    'year_diff', 'year_diff_sparse', 'licensed_city_diff_sparse', 'title_diff', \n",
    "    'title_diff_sparse', 'register_time_diff', 'register_time_diff_sparse',\n",
    "    'is_import_diff_sparse', 'transfer_times_diff', 'transfer_times_diff_sparse'\n",
    "]\n",
    "# 只保留离散特征\n",
    "sparse_feats = [\n",
    "    'colorp1', 'colorp2', \n",
    "    'fuel_typep1', 'fuel_typep2','displacement_standard1', 'displacement_standard2',\n",
    "    'gearboxp1', 'gearboxp2', 'displacement_diff_sparse',\n",
    "    'mile_diff_sparse', 'mile_diff_rate_sparse',\n",
    "    'year_diff_sparse', 'licensed_city_diff_sparse', \n",
    "    'title_diff_sparse', 'register_time_diff_sparse',\n",
    "    'is_import_diff_sparse', 'transfer_times_diff_sparse'\n",
    "]"
   ]
  },
  {
   "cell_type": "code",
   "execution_count": 10,
   "metadata": {},
   "outputs": [
    {
     "data": {
      "text/plain": [
       "(8038, 2680)"
      ]
     },
     "execution_count": 10,
     "metadata": {},
     "output_type": "execute_result"
    }
   ],
   "source": [
    "rdf = df[sparse_feats]\n",
    "X_train, X_test, y_train, y_test = train_test_split(rdf, df.is_same, test_size=0.25, random_state=10)\n",
    "len(X_train), len(X_test)"
   ]
  },
  {
   "cell_type": "code",
   "execution_count": 51,
   "metadata": {
    "scrolled": true
   },
   "outputs": [],
   "source": [
    "def tree_to_dot(tree_dict):\n",
    "    # node: 0 [label=\"abc\"];\n",
    "    # line: 0 -> 1;\n",
    "    nodes = [];\n",
    "    lines = [];\n",
    "    index = [0];\n",
    "    def _process(struct, parent_id=None, path=''):\n",
    "        cnt = '\\\\n'.join([f'{key}:{struct.get(key, \"-\")}' for key in ['key','val', 'gini', 'size', 'tags', 'reason']])\n",
    "        node = f'{index[0]} [label=\"{cnt}\"];'\n",
    "        nodes.append(node)\n",
    "        if parent_id is not None:\n",
    "            if path:\n",
    "                lines.append(f'{parent_id} -> {index[0]} [headlabel=\"{path}\"];')\n",
    "            else:\n",
    "                lines.append(f'{parent_id} -> {index[0]};')\n",
    "        ###\n",
    "        selfindex = index[0]\n",
    "        index[0] += 1\n",
    "        if 'trees' in struct:\n",
    "            for v in struct['trees']:\n",
    "                _process(struct['trees'][v], selfindex, path=v)\n",
    "    ###\n",
    "    _process(tree_dict)\n",
    "    nodesstr = '\\n'.join(nodes)\n",
    "    linesstr = '\\n'.join(lines)\n",
    "    outputstr = 'digraph Tree {\\nnode [shape=box] ;\\n %s\\n%s\\n}' % (nodesstr, linesstr)\n",
    "    return outputstr\n",
    "\n",
    "## 这里dot 是一个绘图命令\n",
    "## open 是mac 上的打开文件命令\n",
    "def draw_tree(tree, save_path):\n",
    "    s = tree_to_dot(tree)\n",
    "    with open(f'{save_path}.dot', 'w') as f:\n",
    "        f.write(s)\n",
    "    os.system(f'dot -Tpng {save_path}.dot -o {save_path}.png && open {save_path}.png')"
   ]
  },
  {
   "cell_type": "code",
   "execution_count": 85,
   "metadata": {},
   "outputs": [
    {
     "data": {
      "text/plain": [
       "0.0"
      ]
     },
     "execution_count": 85,
     "metadata": {},
     "output_type": "execute_result"
    }
   ],
   "source": [
    "# 计算gini\n",
    "def cal_gini(data):\n",
    "    if len(data) == 0:\n",
    "        return 0\n",
    "    c = Counter(data)\n",
    "    l = len(data)\n",
    "    return sum([c.get(k)/l *  for k in c])"
   ]
  },
  {
   "cell_type": "code",
   "execution_count": 86,
   "metadata": {},
   "outputs": [],
   "source": [
    "### 这个是按照cart 树的思路做的, id3 + 二叉树\n",
    "def gen_tree_cart(df, depth=0, min_samples_split=4, min_samples_leaf=2, max_depth=8):\n",
    "    ori_gini = cal_gini(df.target)\n",
    "    size = len(df)\n",
    "    ret = {\n",
    "            'gini': ori_gini,\n",
    "            'size': size,\n",
    "            'tags': dict(Counter(df.target)),\n",
    "            'depth': depth\n",
    "    }\n",
    "    if size < min_samples_split:\n",
    "        # 这个节点数量太少, 不应该分裂\n",
    "        ret['reason'] = 'less than min_samples_split'\n",
    "        return ret\n",
    "    if depth >= max_depth:\n",
    "        # 太深了, 停止分裂\n",
    "        ret['reason'] = 'to deep'\n",
    "        return ret\n",
    "    ###\n",
    "    best_gini = 1\n",
    "    best_key = None\n",
    "    best_val = None\n",
    "    ###\n",
    "    for k in df.columns:\n",
    "        if k == 'target':\n",
    "            continue\n",
    "        uniq_val = set(df[k])\n",
    "        for v in uniq_val:\n",
    "            if len(df[df[k] == v]) == size or len(df[df[k] == v]) == 0:\n",
    "                continue\n",
    "            gini1 = cal_gini(df[df[k] == v].target)\n",
    "            gini2 = cal_gini(df[df[k] !=v].target)\n",
    "            newgini = len(df[df[k] == v])/size * gini1 + len(df[df[k] != v])/size * gini2\n",
    "            if best_key is None or newgini < best_gini:\n",
    "                best_key = k\n",
    "                best_val = v\n",
    "                best_gini = newgini\n",
    "    ###\n",
    "    ret['gini_gain'] = best_gini\n",
    "    ret['key'] = best_key\n",
    "    ret['val'] = best_val\n",
    "    df1 = df[df[best_key] == best_val]\n",
    "    df2 = df[df[best_key] != best_val]\n",
    "    ret['leaf num'] = [len(df1), len(df2)]\n",
    "    if len(df1) < min_samples_leaf or len(df2) < min_samples_leaf:\n",
    "        # 子节点数量过少, 不应该分裂\n",
    "        ret['reason'] = 'leaf samples less than min_samples_leaf'\n",
    "        return ret\n",
    "    tree1 = gen_tree_cart(df1, depth=depth+1)\n",
    "    tree2 = gen_tree_cart(df2, depth=depth+1)\n",
    "    ret['trees'] = {}\n",
    "    ret['trees']['=='] = tree1\n",
    "    ret['trees']['!='] = tree2\n",
    "    return ret\n",
    "\n",
    "def predict_process_cart(decision_tree, data):\n",
    "    n1 = decision_tree['tags'].get(1,0)\n",
    "    n0 = decision_tree['tags'].get(0,0)\n",
    "    prob = n1/(n1+n0)\n",
    "    ## >= 召回高, > 精准高\n",
    "    label = 1 if n1>=n0 else 0\n",
    "    ####\n",
    "    if 'trees' in decision_tree:\n",
    "        key = decision_tree['key']\n",
    "        val = decision_tree['val']\n",
    "        condition = '==' if data[key] == val else '!='\n",
    "        tree = decision_tree['trees'][condition]\n",
    "        ret = predict_process_cart(tree, data)\n",
    "        label = ret[0]\n",
    "        prob = ret[1]\n",
    "    return label, prob\n",
    "\n",
    "    \n",
    "def predict_cart(decision_tree, df):\n",
    "    d11 = df.to_dict()\n",
    "    size = len(df)\n",
    "    d12 = [{k: d11[k][i] for k in d11} for i in df.index]\n",
    "    preds = []\n",
    "    probs = []\n",
    "    for data in d12:\n",
    "        ret = predict_process_cart(decision_tree, data)\n",
    "        preds.append(ret[0])\n",
    "        probs.append(ret[1])\n",
    "    return preds, probs"
   ]
  },
  {
   "cell_type": "code",
   "execution_count": 87,
   "metadata": {
    "scrolled": true
   },
   "outputs": [
    {
     "data": {
      "text/plain": [
       "{'gini': 0.4445825907432356,\n",
       " 'size': 8038,\n",
       " 'tags': {0: 5357, 1: 2681},\n",
       " 'depth': 0,\n",
       " 'gini_gain': 0.058167920243534066,\n",
       " 'key': 'register_time_diff_sparse',\n",
       " 'val': 2.0,\n",
       " 'leaf num': [2770, 5268],\n",
       " 'trees': {'==': {'gini': 0.11330813642820835,\n",
       "   'size': 2770,\n",
       "   'tags': {1: 2603, 0: 167},\n",
       "   'depth': 1,\n",
       "   'gini_gain': 0.06744574022738059,\n",
       "   'key': 'mile_diff_rate_sparse',\n",
       "   'val': 0.0,\n",
       "   'leaf num': [126, 2644],\n",
       "   'trees': {'==': {'gini': 0.37100025195263286,\n",
       "     'size': 126,\n",
       "     'tags': {1: 31, 0: 95},\n",
       "     'depth': 2,\n",
       "     'gini_gain': 0.28874458874458875,\n",
       "     'key': 'fuel_typep1',\n",
       "     'val': -1,\n",
       "     'leaf num': [60, 66],\n",
       "     'trees': {'==': {'gini': 0.06444444444444444,\n",
       "       'size': 60,\n",
       "       'tags': {0: 58, 1: 2},\n",
       "       'depth': 3,\n",
       "       'gini_gain': 0.057142857142857155,\n",
       "       'key': 'title_diff_sparse',\n",
       "       'val': 2.0,\n",
       "       'leaf num': [14, 46],\n",
       "       'trees': {'==': {'gini': 0.24489795918367352,\n",
       "         'size': 14,\n",
       "         'tags': {0: 12, 1: 2},\n",
       "         'depth': 4,\n",
       "         'gini_gain': 0.14285714285714285,\n",
       "         'key': 'colorp2',\n",
       "         'val': 0,\n",
       "         'leaf num': [4, 10],\n",
       "         'trees': {'==': {'gini': 0.5,\n",
       "           'size': 4,\n",
       "           'tags': {0: 2, 1: 2},\n",
       "           'depth': 5,\n",
       "           'gini_gain': 0.33333333333333337,\n",
       "           'key': 'mile_diff_sparse',\n",
       "           'val': 0.0,\n",
       "           'leaf num': [3, 1],\n",
       "           'reason': 'leaf samples less than min_samples_leaf'},\n",
       "          '!=': {'gini': 0.0,\n",
       "           'size': 10,\n",
       "           'tags': {0: 10},\n",
       "           'depth': 5,\n",
       "           'gini_gain': 0.0,\n",
       "           'key': 'colorp1',\n",
       "           'val': 0,\n",
       "           'leaf num': [5, 5],\n",
       "           'trees': {'==': {'gini': 0.0,\n",
       "             'size': 5,\n",
       "             'tags': {0: 5},\n",
       "             'depth': 6,\n",
       "             'gini_gain': 0.0,\n",
       "             'key': 'colorp2',\n",
       "             'val': 4,\n",
       "             'leaf num': [1, 4],\n",
       "             'reason': 'leaf samples less than min_samples_leaf'},\n",
       "            '!=': {'gini': 0.0,\n",
       "             'size': 5,\n",
       "             'tags': {0: 5},\n",
       "             'depth': 6,\n",
       "             'gini_gain': 0.0,\n",
       "             'key': 'colorp1',\n",
       "             'val': 11,\n",
       "             'leaf num': [1, 4],\n",
       "             'reason': 'leaf samples less than min_samples_leaf'}}}}},\n",
       "        '!=': {'gini': 0.0,\n",
       "         'size': 46,\n",
       "         'tags': {0: 46},\n",
       "         'depth': 4,\n",
       "         'gini_gain': 0.0,\n",
       "         'key': 'colorp1',\n",
       "         'val': 0,\n",
       "         'leaf num': [17, 29],\n",
       "         'trees': {'==': {'gini': 0.0,\n",
       "           'size': 17,\n",
       "           'tags': {0: 17},\n",
       "           'depth': 5,\n",
       "           'gini_gain': 0.0,\n",
       "           'key': 'colorp2',\n",
       "           'val': 0,\n",
       "           'leaf num': [12, 5],\n",
       "           'trees': {'==': {'gini': 0.0,\n",
       "             'size': 12,\n",
       "             'tags': {0: 12},\n",
       "             'depth': 6,\n",
       "             'gini_gain': 0.0,\n",
       "             'key': 'displacement_diff_sparse',\n",
       "             'val': 0.5,\n",
       "             'leaf num': [2, 10],\n",
       "             'trees': {'==': {'gini': 0.0,\n",
       "               'size': 2,\n",
       "               'tags': {0: 2},\n",
       "               'depth': 7,\n",
       "               'reason': 'less than min_samples_split'},\n",
       "              '!=': {'gini': 0.0,\n",
       "               'size': 10,\n",
       "               'tags': {0: 10},\n",
       "               'depth': 7,\n",
       "               'gini_gain': 0.0,\n",
       "               'key': 'mile_diff_sparse',\n",
       "               'val': 0.0,\n",
       "               'leaf num': [6, 4],\n",
       "               'trees': {'==': {'gini': 0.0,\n",
       "                 'size': 6,\n",
       "                 'tags': {0: 6},\n",
       "                 'depth': 8,\n",
       "                 'reason': 'to deep'},\n",
       "                '!=': {'gini': 0.0,\n",
       "                 'size': 4,\n",
       "                 'tags': {0: 4},\n",
       "                 'depth': 8,\n",
       "                 'reason': 'to deep'}}}}},\n",
       "            '!=': {'gini': 0.0,\n",
       "             'size': 5,\n",
       "             'tags': {0: 5},\n",
       "             'depth': 6,\n",
       "             'gini_gain': 0.0,\n",
       "             'key': 'displacement_diff_sparse',\n",
       "             'val': 0.0,\n",
       "             'leaf num': [1, 4],\n",
       "             'reason': 'leaf samples less than min_samples_leaf'}}},\n",
       "          '!=': {'gini': 0.0,\n",
       "           'size': 29,\n",
       "           'tags': {0: 29},\n",
       "           'depth': 5,\n",
       "           'gini_gain': 0.0,\n",
       "           'key': 'colorp1',\n",
       "           'val': 4,\n",
       "           'leaf num': [1, 28],\n",
       "           'reason': 'leaf samples less than min_samples_leaf'}}}}},\n",
       "      '!=': {'gini': 0.492653810835629,\n",
       "       'size': 66,\n",
       "       'tags': {1: 29, 0: 37},\n",
       "       'depth': 3,\n",
       "       'gini_gain': 0.4393939393939394,\n",
       "       'key': 'licensed_city_diff_sparse',\n",
       "       'val': 0.0,\n",
       "       'leaf num': [8, 58],\n",
       "       'trees': {'==': {'gini': 0.0,\n",
       "         'size': 8,\n",
       "         'tags': {0: 8},\n",
       "         'depth': 4,\n",
       "         'gini_gain': 0.0,\n",
       "         'key': 'colorp1',\n",
       "         'val': 0,\n",
       "         'leaf num': [1, 7],\n",
       "         'reason': 'leaf samples less than min_samples_leaf'},\n",
       "        '!=': {'gini': 0.5,\n",
       "         'size': 58,\n",
       "         'tags': {1: 29, 0: 29},\n",
       "         'depth': 4,\n",
       "         'gini_gain': 0.45555555555555555,\n",
       "         'key': 'transfer_times_diff_sparse',\n",
       "         'val': 2,\n",
       "         'leaf num': [40, 18],\n",
       "         'trees': {'==': {'gini': 0.48,\n",
       "           'size': 40,\n",
       "           'tags': {1: 24, 0: 16},\n",
       "           'depth': 5,\n",
       "           'gini_gain': 0.41372549019607846,\n",
       "           'key': 'fuel_typep2',\n",
       "           'val': 2,\n",
       "           'leaf num': [34, 6],\n",
       "           'trees': {'==': {'gini': 0.4377162629757786,\n",
       "             'size': 34,\n",
       "             'tags': {0: 11, 1: 23},\n",
       "             'depth': 6,\n",
       "             'gini_gain': 0.3805147058823529,\n",
       "             'key': 'colorp1',\n",
       "             'val': 9,\n",
       "             'leaf num': [2, 32],\n",
       "             'trees': {'==': {'gini': 0.0,\n",
       "               'size': 2,\n",
       "               'tags': {0: 2},\n",
       "               'depth': 7,\n",
       "               'reason': 'less than min_samples_split'},\n",
       "              '!=': {'gini': 0.404296875,\n",
       "               'size': 32,\n",
       "               'tags': {0: 9, 1: 23},\n",
       "               'depth': 7,\n",
       "               'gini_gain': 0.37450396825396826,\n",
       "               'key': 'displacement_standard1',\n",
       "               'val': 4,\n",
       "               'leaf num': [18, 14],\n",
       "               'trees': {'==': {'gini': 0.47530864197530864,\n",
       "                 'size': 18,\n",
       "                 'tags': {0: 7, 1: 11},\n",
       "                 'depth': 8,\n",
       "                 'reason': 'to deep'},\n",
       "                '!=': {'gini': 0.24489795918367352,\n",
       "                 'size': 14,\n",
       "                 'tags': {1: 12, 0: 2},\n",
       "                 'depth': 8,\n",
       "                 'reason': 'to deep'}}}}},\n",
       "            '!=': {'gini': 0.2777777777777778,\n",
       "             'size': 6,\n",
       "             'tags': {1: 1, 0: 5},\n",
       "             'depth': 6,\n",
       "             'gini_gain': 0.22222222222222224,\n",
       "             'key': 'colorp1',\n",
       "             'val': 0,\n",
       "             'leaf num': [3, 3],\n",
       "             'trees': {'==': {'gini': 0.4444444444444445,\n",
       "               'size': 3,\n",
       "               'tags': {1: 1, 0: 2},\n",
       "               'depth': 7,\n",
       "               'reason': 'less than min_samples_split'},\n",
       "              '!=': {'gini': 0.0,\n",
       "               'size': 3,\n",
       "               'tags': {0: 3},\n",
       "               'depth': 7,\n",
       "               'reason': 'less than min_samples_split'}}}}},\n",
       "          '!=': {'gini': 0.4012345679012346,\n",
       "           'size': 18,\n",
       "           'tags': {0: 13, 1: 5},\n",
       "           'depth': 5,\n",
       "           'gini_gain': 0.25,\n",
       "           'key': 'fuel_typep2',\n",
       "           'val': -1,\n",
       "           'leaf num': [6, 12],\n",
       "           'trees': {'==': {'gini': 0.4444444444444445,\n",
       "             'size': 6,\n",
       "             'tags': {0: 2, 1: 4},\n",
       "             'depth': 6,\n",
       "             'gini_gain': 0.26666666666666666,\n",
       "             'key': 'colorp1',\n",
       "             'val': 5,\n",
       "             'leaf num': [1, 5],\n",
       "             'reason': 'leaf samples less than min_samples_leaf'},\n",
       "            '!=': {'gini': 0.1527777777777778,\n",
       "             'size': 12,\n",
       "             'tags': {0: 11, 1: 1},\n",
       "             'depth': 6,\n",
       "             'gini_gain': 0.0,\n",
       "             'key': 'colorp1',\n",
       "             'val': 7,\n",
       "             'leaf num': [1, 11],\n",
       "             'reason': 'leaf samples less than min_samples_leaf'}}}}}}}}},\n",
       "    '!=': {'gini': 0.052979829305526666,\n",
       "     'size': 2644,\n",
       "     'tags': {1: 2572, 0: 72},\n",
       "     'depth': 2,\n",
       "     'gini_gain': 0.04872456019813408,\n",
       "     'key': 'licensed_city_diff_sparse',\n",
       "     'val': 0.0,\n",
       "     'leaf num': [45, 2599],\n",
       "     'trees': {'==': {'gini': 0.47012345679012346,\n",
       "       'size': 45,\n",
       "       'tags': {1: 28, 0: 17},\n",
       "       'depth': 3,\n",
       "       'gini_gain': 0.3541666666666667,\n",
       "       'key': 'mile_diff_sparse',\n",
       "       'val': 1.0,\n",
       "       'leaf num': [32, 13],\n",
       "       'trees': {'==': {'gini': 0.498046875,\n",
       "         'size': 32,\n",
       "         'tags': {0: 17, 1: 15},\n",
       "         'depth': 4,\n",
       "         'gini_gain': 0.3966346153846153,\n",
       "         'key': 'fuel_typep1',\n",
       "         'val': 2,\n",
       "         'leaf num': [26, 6],\n",
       "         'trees': {'==': {'gini': 0.4881656804733727,\n",
       "           'size': 26,\n",
       "           'tags': {1: 15, 0: 11},\n",
       "           'depth': 5,\n",
       "           'gini_gain': 0.4256795835743204,\n",
       "           'key': 'transfer_times_diff_sparse',\n",
       "           'val': 2,\n",
       "           'leaf num': [19, 7],\n",
       "           'trees': {'==': {'gini': 0.43213296398891965,\n",
       "             'size': 19,\n",
       "             'tags': {1: 13, 0: 6},\n",
       "             'depth': 6,\n",
       "             'gini_gain': 0.4008097165991903,\n",
       "             'key': 'colorp1',\n",
       "             'val': 7,\n",
       "             'leaf num': [6, 13],\n",
       "             'trees': {'==': {'gini': 0.5,\n",
       "               'size': 6,\n",
       "               'tags': {1: 3, 0: 3},\n",
       "               'depth': 7,\n",
       "               'gini_gain': 0.25,\n",
       "               'key': 'displacement_standard1',\n",
       "               'val': 3,\n",
       "               'leaf num': [2, 4],\n",
       "               'trees': {'==': {'gini': 0.0,\n",
       "                 'size': 2,\n",
       "                 'tags': {1: 2},\n",
       "                 'depth': 8,\n",
       "                 'reason': 'less than min_samples_split'},\n",
       "                '!=': {'gini': 0.375,\n",
       "                 'size': 4,\n",
       "                 'tags': {0: 3, 1: 1},\n",
       "                 'depth': 8,\n",
       "                 'reason': 'to deep'}}},\n",
       "              '!=': {'gini': 0.35502958579881655,\n",
       "               'size': 13,\n",
       "               'tags': {1: 10, 0: 3},\n",
       "               'depth': 7,\n",
       "               'gini_gain': 0.2905982905982906,\n",
       "               'key': 'title_diff_sparse',\n",
       "               'val': 1.0,\n",
       "               'leaf num': [4, 9],\n",
       "               'trees': {'==': {'gini': 0.5,\n",
       "                 'size': 4,\n",
       "                 'tags': {0: 2, 1: 2},\n",
       "                 'depth': 8,\n",
       "                 'reason': 'to deep'},\n",
       "                '!=': {'gini': 0.1975308641975309,\n",
       "                 'size': 9,\n",
       "                 'tags': {1: 8, 0: 1},\n",
       "                 'depth': 8,\n",
       "                 'reason': 'to deep'}}}}},\n",
       "            '!=': {'gini': 0.40816326530612246,\n",
       "             'size': 7,\n",
       "             'tags': {0: 5, 1: 2},\n",
       "             'depth': 6,\n",
       "             'gini_gain': 0.23809523809523808,\n",
       "             'key': 'colorp1',\n",
       "             'val': 0,\n",
       "             'leaf num': [1, 6],\n",
       "             'reason': 'leaf samples less than min_samples_leaf'}}},\n",
       "          '!=': {'gini': 0.0,\n",
       "           'size': 6,\n",
       "           'tags': {0: 6},\n",
       "           'depth': 5,\n",
       "           'gini_gain': 0.0,\n",
       "           'key': 'colorp1',\n",
       "           'val': 0,\n",
       "           'leaf num': [2, 4],\n",
       "           'trees': {'==': {'gini': 0.0,\n",
       "             'size': 2,\n",
       "             'tags': {0: 2},\n",
       "             'depth': 6,\n",
       "             'reason': 'less than min_samples_split'},\n",
       "            '!=': {'gini': 0.0,\n",
       "             'size': 4,\n",
       "             'tags': {0: 4},\n",
       "             'depth': 6,\n",
       "             'gini_gain': 0.0,\n",
       "             'key': 'colorp1',\n",
       "             'val': 11,\n",
       "             'leaf num': [1, 3],\n",
       "             'reason': 'leaf samples less than min_samples_leaf'}}}}},\n",
       "        '!=': {'gini': 0.0,\n",
       "         'size': 13,\n",
       "         'tags': {1: 13},\n",
       "         'depth': 4,\n",
       "         'gini_gain': 0.0,\n",
       "         'key': 'colorp1',\n",
       "         'val': 0,\n",
       "         'leaf num': [3, 10],\n",
       "         'trees': {'==': {'gini': 0.0,\n",
       "           'size': 3,\n",
       "           'tags': {1: 3},\n",
       "           'depth': 5,\n",
       "           'reason': 'less than min_samples_split'},\n",
       "          '!=': {'gini': 0.0,\n",
       "           'size': 10,\n",
       "           'tags': {1: 10},\n",
       "           'depth': 5,\n",
       "           'gini_gain': 0.0,\n",
       "           'key': 'colorp1',\n",
       "           'val': 2,\n",
       "           'leaf num': [2, 8],\n",
       "           'trees': {'==': {'gini': 0.0,\n",
       "             'size': 2,\n",
       "             'tags': {1: 2},\n",
       "             'depth': 6,\n",
       "             'reason': 'less than min_samples_split'},\n",
       "            '!=': {'gini': 0.0,\n",
       "             'size': 8,\n",
       "             'tags': {1: 8},\n",
       "             'depth': 6,\n",
       "             'gini_gain': 0.0,\n",
       "             'key': 'colorp1',\n",
       "             'val': 8,\n",
       "             'leaf num': [1, 7],\n",
       "             'reason': 'leaf samples less than min_samples_leaf'}}}}}}},\n",
       "      '!=': {'gini': 0.04142831150762252,\n",
       "       'size': 2599,\n",
       "       'tags': {1: 2544, 0: 55},\n",
       "       'depth': 3,\n",
       "       'gini_gain': 0.04069072578101192,\n",
       "       'key': 'colorp2',\n",
       "       'val': 1,\n",
       "       'leaf num': [1, 2598],\n",
       "       'reason': 'leaf samples less than min_samples_leaf'}}}}},\n",
       "  '!=': {'gini': 0.029174298597454393,\n",
       "   'size': 5268,\n",
       "   'tags': {0: 5190, 1: 78},\n",
       "   'depth': 1,\n",
       "   'gini_gain': 0.025390395141865536,\n",
       "   'key': 'mile_diff_sparse',\n",
       "   'val': 2.0,\n",
       "   'leaf num': [42, 5226],\n",
       "   'trees': {'==': {'gini': 0.5,\n",
       "     'size': 42,\n",
       "     'tags': {1: 21, 0: 21},\n",
       "     'depth': 2,\n",
       "     'gini_gain': 0.36111111111111116,\n",
       "     'key': 'transfer_times_diff_sparse',\n",
       "     'val': 2,\n",
       "     'leaf num': [30, 12],\n",
       "     'trees': {'==': {'gini': 0.4444444444444445,\n",
       "       'size': 30,\n",
       "       'tags': {1: 20, 0: 10},\n",
       "       'depth': 3,\n",
       "       'gini_gain': 0.391025641025641,\n",
       "       'key': 'colorp1',\n",
       "       'val': 9,\n",
       "       'leaf num': [4, 26],\n",
       "       'trees': {'==': {'gini': 0.375,\n",
       "         'size': 4,\n",
       "         'tags': {0: 3, 1: 1},\n",
       "         'depth': 4,\n",
       "         'gini_gain': 0.0,\n",
       "         'key': 'colorp2',\n",
       "         'val': 9,\n",
       "         'leaf num': [1, 3],\n",
       "         'reason': 'leaf samples less than min_samples_leaf'},\n",
       "        '!=': {'gini': 0.39349112426035504,\n",
       "         'size': 26,\n",
       "         'tags': {1: 19, 0: 7},\n",
       "         'depth': 4,\n",
       "         'gini_gain': 0.3413919413919414,\n",
       "         'key': 'colorp2',\n",
       "         'val': 11,\n",
       "         'leaf num': [5, 21],\n",
       "         'trees': {'==': {'gini': 0.48,\n",
       "           'size': 5,\n",
       "           'tags': {0: 3, 1: 2},\n",
       "           'depth': 5,\n",
       "           'gini_gain': 0.4,\n",
       "           'key': 'colorp1',\n",
       "           'val': 0,\n",
       "           'leaf num': [1, 4],\n",
       "           'reason': 'leaf samples less than min_samples_leaf'},\n",
       "          '!=': {'gini': 0.30839002267573695,\n",
       "           'size': 21,\n",
       "           'tags': {1: 17, 0: 4},\n",
       "           'depth': 5,\n",
       "           'gini_gain': 0.28822055137844615,\n",
       "           'key': 'colorp1',\n",
       "           'val': -1,\n",
       "           'leaf num': [2, 19],\n",
       "           'trees': {'==': {'gini': 0.5,\n",
       "             'size': 2,\n",
       "             'tags': {0: 1, 1: 1},\n",
       "             'depth': 6,\n",
       "             'reason': 'less than min_samples_split'},\n",
       "            '!=': {'gini': 0.2659279778393352,\n",
       "             'size': 19,\n",
       "             'tags': {1: 16, 0: 3},\n",
       "             'depth': 6,\n",
       "             'gini_gain': 0.2468671679197995,\n",
       "             'key': 'displacement_diff_sparse',\n",
       "             'val': 0.5,\n",
       "             'leaf num': [7, 12],\n",
       "             'trees': {'==': {'gini': 0.40816326530612246,\n",
       "               'size': 7,\n",
       "               'tags': {0: 2, 1: 5},\n",
       "               'depth': 7,\n",
       "               'gini_gain': 0.23809523809523808,\n",
       "               'key': 'colorp1',\n",
       "               'val': 0,\n",
       "               'leaf num': [6, 1],\n",
       "               'reason': 'leaf samples less than min_samples_leaf'},\n",
       "              '!=': {'gini': 0.1527777777777778,\n",
       "               'size': 12,\n",
       "               'tags': {1: 11, 0: 1},\n",
       "               'depth': 7,\n",
       "               'gini_gain': 0.11111111111111112,\n",
       "               'key': 'displacement_standard1',\n",
       "               'val': 3,\n",
       "               'leaf num': [3, 9],\n",
       "               'trees': {'==': {'gini': 0.4444444444444445,\n",
       "                 'size': 3,\n",
       "                 'tags': {0: 1, 1: 2},\n",
       "                 'depth': 8,\n",
       "                 'reason': 'less than min_samples_split'},\n",
       "                '!=': {'gini': 0.0,\n",
       "                 'size': 9,\n",
       "                 'tags': {1: 9},\n",
       "                 'depth': 8,\n",
       "                 'reason': 'to deep'}}}}}}}}}}},\n",
       "      '!=': {'gini': 0.1527777777777778,\n",
       "       'size': 12,\n",
       "       'tags': {0: 11, 1: 1},\n",
       "       'depth': 3,\n",
       "       'gini_gain': 0.0,\n",
       "       'key': 'fuel_typep2',\n",
       "       'val': 7,\n",
       "       'leaf num': [1, 11],\n",
       "       'reason': 'leaf samples less than min_samples_leaf'}}},\n",
       "    '!=': {'gini': 0.02157608144036503,\n",
       "     'size': 5226,\n",
       "     'tags': {0: 5169, 1: 57},\n",
       "     'depth': 2,\n",
       "     'gini_gain': 0.0203534177014819,\n",
       "     'key': 'displacement_standard1',\n",
       "     'val': -1,\n",
       "     'leaf num': [4758, 468],\n",
       "     'trees': {'==': {'gini': 0.006285292653721301,\n",
       "       'size': 4758,\n",
       "       'tags': {0: 4743, 1: 15},\n",
       "       'depth': 3,\n",
       "       'gini_gain': 0.0050314065104364,\n",
       "       'key': 'mile_diff_sparse',\n",
       "       'val': 0.5,\n",
       "       'leaf num': [3, 4755],\n",
       "       'trees': {'==': {'gini': 0.0,\n",
       "         'size': 3,\n",
       "         'tags': {1: 3},\n",
       "         'depth': 4,\n",
       "         'reason': 'less than min_samples_split'},\n",
       "        '!=': {'gini': 0.005034580899401975,\n",
       "         'size': 4755,\n",
       "         'tags': {0: 4743, 1: 12},\n",
       "         'depth': 4,\n",
       "         'gini_gain': 0.00502113950282275,\n",
       "         'key': 'register_time_diff_sparse',\n",
       "         'val': 1.0,\n",
       "         'leaf num': [335, 4420],\n",
       "         'trees': {'==': {'gini': 0.023595455558030755,\n",
       "           'size': 335,\n",
       "           'tags': {0: 331, 1: 4},\n",
       "           'depth': 5,\n",
       "           'gini_gain': 0.02335574872888307,\n",
       "           'key': 'colorp2',\n",
       "           'val': -1,\n",
       "           'leaf num': [153, 182],\n",
       "           'trees': {'==': {'gini': 0.0,\n",
       "             'size': 153,\n",
       "             'tags': {0: 153},\n",
       "             'depth': 6,\n",
       "             'gini_gain': 0.0,\n",
       "             'key': 'colorp1',\n",
       "             'val': 0,\n",
       "             'leaf num': [49, 104],\n",
       "             'trees': {'==': {'gini': 0.0,\n",
       "               'size': 49,\n",
       "               'tags': {0: 49},\n",
       "               'depth': 7,\n",
       "               'gini_gain': 0.0,\n",
       "               'key': 'displacement_diff_sparse',\n",
       "               'val': 0.0,\n",
       "               'leaf num': [20, 29],\n",
       "               'trees': {'==': {'gini': 0.0,\n",
       "                 'size': 20,\n",
       "                 'tags': {0: 20},\n",
       "                 'depth': 8,\n",
       "                 'reason': 'to deep'},\n",
       "                '!=': {'gini': 0.0,\n",
       "                 'size': 29,\n",
       "                 'tags': {0: 29},\n",
       "                 'depth': 8,\n",
       "                 'reason': 'to deep'}}},\n",
       "              '!=': {'gini': 0.0,\n",
       "               'size': 104,\n",
       "               'tags': {0: 104},\n",
       "               'depth': 7,\n",
       "               'gini_gain': 0.0,\n",
       "               'key': 'colorp1',\n",
       "               'val': 4,\n",
       "               'leaf num': [1, 103],\n",
       "               'reason': 'leaf samples less than min_samples_leaf'}}},\n",
       "            '!=': {'gini': 0.04298997705591115,\n",
       "             'size': 182,\n",
       "             'tags': {0: 178, 1: 4},\n",
       "             'depth': 6,\n",
       "             'gini_gain': 0.04249405565195036,\n",
       "             'key': 'colorp1',\n",
       "             'val': 7,\n",
       "             'leaf num': [38, 144],\n",
       "             'trees': {'==': {'gini': 0.09972299168975074,\n",
       "               'size': 38,\n",
       "               'tags': {0: 36, 1: 2},\n",
       "               'depth': 7,\n",
       "               'gini_gain': 0.09356725146198833,\n",
       "               'key': 'transfer_times_diff_sparse',\n",
       "               'val': 1,\n",
       "               'leaf num': [18, 20],\n",
       "               'trees': {'==': {'gini': 0.1975308641975309,\n",
       "                 'size': 18,\n",
       "                 'tags': {0: 16, 1: 2},\n",
       "                 'depth': 8,\n",
       "                 'reason': 'to deep'},\n",
       "                '!=': {'gini': 0.0,\n",
       "                 'size': 20,\n",
       "                 'tags': {0: 20},\n",
       "                 'depth': 8,\n",
       "                 'reason': 'to deep'}}},\n",
       "              '!=': {'gini': 0.027391975308641927,\n",
       "               'size': 144,\n",
       "               'tags': {0: 142, 1: 2},\n",
       "               'depth': 7,\n",
       "               'gini_gain': 0.027083333333333348,\n",
       "               'key': 'colorp1',\n",
       "               'val': 0,\n",
       "               'leaf num': [80, 64],\n",
       "               'trees': {'==': {'gini': 0.04875000000000002,\n",
       "                 'size': 80,\n",
       "                 'tags': {0: 78, 1: 2},\n",
       "                 'depth': 8,\n",
       "                 'reason': 'to deep'},\n",
       "                '!=': {'gini': 0.0,\n",
       "                 'size': 64,\n",
       "                 'tags': {0: 64},\n",
       "                 'depth': 8,\n",
       "                 'reason': 'to deep'}}}}}}},\n",
       "          '!=': {'gini': 0.003613357629860152,\n",
       "           'size': 4420,\n",
       "           'tags': {0: 4412, 1: 8},\n",
       "           'depth': 5,\n",
       "           'gini_gain': 0.0036083090262668607,\n",
       "           'key': 'title_diff_sparse',\n",
       "           'val': 1.0,\n",
       "           'leaf num': [1483, 2937],\n",
       "           'trees': {'==': {'gini': 0.00805896814834246,\n",
       "             'size': 1483,\n",
       "             'tags': {0: 1477, 1: 6},\n",
       "             'depth': 6,\n",
       "             'gini_gain': 0.008040927222529248,\n",
       "             'key': 'colorp1',\n",
       "             'val': 0,\n",
       "             'leaf num': [475, 1008],\n",
       "             'trees': {'==': {'gini': 0.016700277008310296,\n",
       "               'size': 475,\n",
       "               'tags': {0: 471, 1: 4},\n",
       "               'depth': 7,\n",
       "               'gini_gain': 0.01654135338345867,\n",
       "               'key': 'colorp2',\n",
       "               'val': 0,\n",
       "               'leaf num': [224, 251],\n",
       "               'trees': {'==': {'gini': 0.035076530612244944,\n",
       "                 'size': 224,\n",
       "                 'tags': {0: 220, 1: 4},\n",
       "                 'depth': 8,\n",
       "                 'reason': 'to deep'},\n",
       "                '!=': {'gini': 0.0,\n",
       "                 'size': 251,\n",
       "                 'tags': {0: 251},\n",
       "                 'depth': 8,\n",
       "                 'reason': 'to deep'}}},\n",
       "              '!=': {'gini': 0.00396038044847568,\n",
       "               'size': 1008,\n",
       "               'tags': {0: 1006, 1: 2},\n",
       "               'depth': 7,\n",
       "               'gini_gain': 0.0039509577180810405,\n",
       "               'key': 'transfer_times_diff_sparse',\n",
       "               'val': 0,\n",
       "               'leaf num': [132, 876],\n",
       "               'trees': {'==': {'gini': 0.015036730945821848,\n",
       "                 'size': 132,\n",
       "                 'tags': {0: 131, 1: 1},\n",
       "                 'depth': 8,\n",
       "                 'reason': 'to deep'},\n",
       "                '!=': {'gini': 0.0022804987385584533,\n",
       "                 'size': 876,\n",
       "                 'tags': {0: 875, 1: 1},\n",
       "                 'depth': 8,\n",
       "                 'reason': 'to deep'}}}}},\n",
       "            '!=': {'gini': 0.00136100651416672,\n",
       "             'size': 2937,\n",
       "             'tags': {0: 2935, 1: 2},\n",
       "             'depth': 6,\n",
       "             'gini_gain': 0.0013593471770750325,\n",
       "             'key': 'licensed_city_diff_sparse',\n",
       "             'val': 0.0,\n",
       "             'leaf num': [1053, 1884],\n",
       "             'trees': {'==': {'gini': 0.003791455516685062,\n",
       "               'size': 1053,\n",
       "               'tags': {0: 1051, 1: 2},\n",
       "               'depth': 7,\n",
       "               'gini_gain': 0.003785471933013951,\n",
       "               'key': 'mile_diff_rate_sparse',\n",
       "               'val': 0.0,\n",
       "               'leaf num': [881, 172],\n",
       "               'trees': {'==': {'gini': 0.0022675707746202417,\n",
       "                 'size': 881,\n",
       "                 'tags': {0: 880, 1: 1},\n",
       "                 'depth': 8,\n",
       "                 'reason': 'to deep'},\n",
       "                '!=': {'gini': 0.011560302866414287,\n",
       "                 'size': 172,\n",
       "                 'tags': {0: 171, 1: 1},\n",
       "                 'depth': 8,\n",
       "                 'reason': 'to deep'}}},\n",
       "              '!=': {'gini': 0.0,\n",
       "               'size': 1884,\n",
       "               'tags': {0: 1884},\n",
       "               'depth': 7,\n",
       "               'gini_gain': 0.0,\n",
       "               'key': 'colorp1',\n",
       "               'val': 0,\n",
       "               'leaf num': [659, 1225],\n",
       "               'trees': {'==': {'gini': 0.0,\n",
       "                 'size': 659,\n",
       "                 'tags': {0: 659},\n",
       "                 'depth': 8,\n",
       "                 'reason': 'to deep'},\n",
       "                '!=': {'gini': 0.0,\n",
       "                 'size': 1225,\n",
       "                 'tags': {0: 1225},\n",
       "                 'depth': 8,\n",
       "                 'reason': 'to deep'}}}}}}}}}}},\n",
       "      '!=': {'gini': 0.163379355687048,\n",
       "       'size': 468,\n",
       "       'tags': {0: 426, 1: 42},\n",
       "       'depth': 3,\n",
       "       'gini_gain': 0.15732797636680818,\n",
       "       'key': 'displacement_standard1',\n",
       "       'val': 4,\n",
       "       'leaf num': [304, 164],\n",
       "       'trees': {'==': {'gini': 0.09381492382271464,\n",
       "         'size': 304,\n",
       "         'tags': {0: 289, 1: 15},\n",
       "         'depth': 4,\n",
       "         'gini_gain': 0.08839912280701753,\n",
       "         'key': 'title_diff_sparse',\n",
       "         'val': 0.0,\n",
       "         'leaf num': [4, 300],\n",
       "         'trees': {'==': {'gini': 0.5,\n",
       "           'size': 4,\n",
       "           'tags': {1: 2, 0: 2},\n",
       "           'depth': 5,\n",
       "           'gini_gain': 0.0,\n",
       "           'key': 'fuel_typep1',\n",
       "           'val': 2,\n",
       "           'leaf num': [2, 2],\n",
       "           'trees': {'==': {'gini': 0.0,\n",
       "             'size': 2,\n",
       "             'tags': {0: 2},\n",
       "             'depth': 6,\n",
       "             'reason': 'less than min_samples_split'},\n",
       "            '!=': {'gini': 0.0,\n",
       "             'size': 2,\n",
       "             'tags': {1: 2},\n",
       "             'depth': 6,\n",
       "             'reason': 'less than min_samples_split'}}},\n",
       "          '!=': {'gini': 0.08291111111111112,\n",
       "           'size': 300,\n",
       "           'tags': {0: 287, 1: 13},\n",
       "           'depth': 5,\n",
       "           'gini_gain': 0.07947845804988665,\n",
       "           'key': 'year_diff_sparse',\n",
       "           'val': 0.0,\n",
       "           'leaf num': [6, 294],\n",
       "           'trees': {'==': {'gini': 0.4444444444444445,\n",
       "             'size': 6,\n",
       "             'tags': {0: 4, 1: 2},\n",
       "             'depth': 6,\n",
       "             'gini_gain': 0.22222222222222224,\n",
       "             'key': 'mile_diff_sparse',\n",
       "             'val': 0.0,\n",
       "             'leaf num': [3, 3],\n",
       "             'trees': {'==': {'gini': 0.0,\n",
       "               'size': 3,\n",
       "               'tags': {0: 3},\n",
       "               'depth': 7,\n",
       "               'reason': 'less than min_samples_split'},\n",
       "              '!=': {'gini': 0.4444444444444445,\n",
       "               'size': 3,\n",
       "               'tags': {0: 1, 1: 2},\n",
       "               'depth': 7,\n",
       "               'reason': 'less than min_samples_split'}}},\n",
       "            '!=': {'gini': 0.07203017261326303,\n",
       "             'size': 294,\n",
       "             'tags': {0: 283, 1: 11},\n",
       "             'depth': 6,\n",
       "             'gini_gain': 0.07022465343525724,\n",
       "             'key': 'fuel_typep1',\n",
       "             'val': 7,\n",
       "             'leaf num': [3, 291],\n",
       "             'trees': {'==': {'gini': 0.4444444444444445,\n",
       "               'size': 3,\n",
       "               'tags': {0: 2, 1: 1},\n",
       "               'depth': 7,\n",
       "               'reason': 'less than min_samples_split'},\n",
       "              '!=': {'gini': 0.06636671744547182,\n",
       "               'size': 291,\n",
       "               'tags': {0: 281, 1: 10},\n",
       "               'depth': 7,\n",
       "               'gini_gain': 0.06507058443191203,\n",
       "               'key': 'colorp2',\n",
       "               'val': 9,\n",
       "               'leaf num': [4, 287],\n",
       "               'trees': {'==': {'gini': 0.375,\n",
       "                 'size': 4,\n",
       "                 'tags': {1: 1, 0: 3},\n",
       "                 'depth': 8,\n",
       "                 'reason': 'to deep'},\n",
       "                '!=': {'gini': 0.060751010695771435,\n",
       "                 'size': 287,\n",
       "                 'tags': {0: 278, 1: 9},\n",
       "                 'depth': 8,\n",
       "                 'reason': 'to deep'}}}}}}}}},\n",
       "        '!=': {'gini': 0.275059488399762,\n",
       "         'size': 164,\n",
       "         'tags': {0: 137, 1: 27},\n",
       "         'depth': 4,\n",
       "         'gini_gain': 0.2571793056838586,\n",
       "         'key': 'mile_diff_sparse',\n",
       "         'val': 0.0,\n",
       "         'leaf num': [57, 107],\n",
       "         'trees': {'==': {'gini': 0.06771314250538626,\n",
       "           'size': 57,\n",
       "           'tags': {0: 55, 1: 2},\n",
       "           'depth': 5,\n",
       "           'gini_gain': 0.06278855032317635,\n",
       "           'key': 'colorp2',\n",
       "           'val': 7,\n",
       "           'leaf num': [19, 38],\n",
       "           'trees': {'==': {'gini': 0.18836565096952906,\n",
       "             'size': 19,\n",
       "             'tags': {1: 2, 0: 17},\n",
       "             'depth': 6,\n",
       "             'gini_gain': 0.1722488038277512,\n",
       "             'key': 'register_time_diff_sparse',\n",
       "             'val': 0.0,\n",
       "             'leaf num': [8, 11],\n",
       "             'trees': {'==': {'gini': 0.0,\n",
       "               'size': 8,\n",
       "               'tags': {0: 8},\n",
       "               'depth': 7,\n",
       "               'gini_gain': 0.0,\n",
       "               'key': 'displacement_standard2',\n",
       "               'val': 3,\n",
       "               'leaf num': [7, 1],\n",
       "               'reason': 'leaf samples less than min_samples_leaf'},\n",
       "              '!=': {'gini': 0.2975206611570248,\n",
       "               'size': 11,\n",
       "               'tags': {1: 2, 0: 9},\n",
       "               'depth': 7,\n",
       "               'gini_gain': 0.2597402597402597,\n",
       "               'key': 'displacement_diff_sparse',\n",
       "               'val': 0.5,\n",
       "               'leaf num': [4, 7],\n",
       "               'trees': {'==': {'gini': 0.0,\n",
       "                 'size': 4,\n",
       "                 'tags': {0: 4},\n",
       "                 'depth': 8,\n",
       "                 'reason': 'to deep'},\n",
       "                '!=': {'gini': 0.40816326530612246,\n",
       "                 'size': 7,\n",
       "                 'tags': {1: 2, 0: 5},\n",
       "                 'depth': 8,\n",
       "                 'reason': 'to deep'}}}}},\n",
       "            '!=': {'gini': 0.0,\n",
       "             'size': 38,\n",
       "             'tags': {0: 38},\n",
       "             'depth': 6,\n",
       "             'gini_gain': 0.0,\n",
       "             'key': 'colorp1',\n",
       "             'val': 0,\n",
       "             'leaf num': [4, 34],\n",
       "             'trees': {'==': {'gini': 0.0,\n",
       "               'size': 4,\n",
       "               'tags': {0: 4},\n",
       "               'depth': 7,\n",
       "               'gini_gain': 0.0,\n",
       "               'key': 'colorp2',\n",
       "               'val': 0,\n",
       "               'leaf num': [2, 2],\n",
       "               'trees': {'==': {'gini': 0.0,\n",
       "                 'size': 2,\n",
       "                 'tags': {0: 2},\n",
       "                 'depth': 8,\n",
       "                 'reason': 'less than min_samples_split'},\n",
       "                '!=': {'gini': 0.0,\n",
       "                 'size': 2,\n",
       "                 'tags': {0: 2},\n",
       "                 'depth': 8,\n",
       "                 'reason': 'less than min_samples_split'}}},\n",
       "              '!=': {'gini': 0.0,\n",
       "               'size': 34,\n",
       "               'tags': {0: 34},\n",
       "               'depth': 7,\n",
       "               'gini_gain': 0.0,\n",
       "               'key': 'colorp1',\n",
       "               'val': 2,\n",
       "               'leaf num': [8, 26],\n",
       "               'trees': {'==': {'gini': 0.0,\n",
       "                 'size': 8,\n",
       "                 'tags': {0: 8},\n",
       "                 'depth': 8,\n",
       "                 'reason': 'to deep'},\n",
       "                '!=': {'gini': 0.0,\n",
       "                 'size': 26,\n",
       "                 'tags': {0: 26},\n",
       "                 'depth': 8,\n",
       "                 'reason': 'to deep'}}}}}}},\n",
       "          '!=': {'gini': 0.3581098785920168,\n",
       "           'size': 107,\n",
       "           'tags': {0: 82, 1: 25},\n",
       "           'depth': 5,\n",
       "           'gini_gain': 0.3357365376056965,\n",
       "           'key': 'fuel_typep2',\n",
       "           'val': 7,\n",
       "           'leaf num': [2, 105],\n",
       "           'trees': {'==': {'gini': 0.0,\n",
       "             'size': 2,\n",
       "             'tags': {1: 2},\n",
       "             'depth': 6,\n",
       "             'reason': 'less than min_samples_split'},\n",
       "            '!=': {'gini': 0.3421315192743764,\n",
       "             'size': 105,\n",
       "             'tags': {0: 82, 1: 23},\n",
       "             'depth': 6,\n",
       "             'gini_gain': 0.3286834733893558,\n",
       "             'key': 'transfer_times_diff_sparse',\n",
       "             'val': 0,\n",
       "             'leaf num': [20, 85],\n",
       "             'trees': {'==': {'gini': 0.09500000000000004,\n",
       "               'size': 20,\n",
       "               'tags': {0: 19, 1: 1},\n",
       "               'depth': 7,\n",
       "               'gini_gain': 0.08,\n",
       "               'key': 'colorp2',\n",
       "               'val': 11,\n",
       "               'leaf num': [5, 15],\n",
       "               'trees': {'==': {'gini': 0.32,\n",
       "                 'size': 5,\n",
       "                 'tags': {0: 4, 1: 1},\n",
       "                 'depth': 8,\n",
       "                 'reason': 'to deep'},\n",
       "                '!=': {'gini': 0.0,\n",
       "                 'size': 15,\n",
       "                 'tags': {0: 15},\n",
       "                 'depth': 8,\n",
       "                 'reason': 'to deep'}}},\n",
       "              '!=': {'gini': 0.3836678200692042,\n",
       "               'size': 85,\n",
       "               'tags': {0: 63, 1: 22},\n",
       "               'depth': 7,\n",
       "               'gini_gain': 0.3540796963946869,\n",
       "               'key': 'register_time_diff_sparse',\n",
       "               'val': 1.0,\n",
       "               'leaf num': [31, 54],\n",
       "               'trees': {'==': {'gini': 0.4869927159209157,\n",
       "                 'size': 31,\n",
       "                 'tags': {0: 18, 1: 13},\n",
       "                 'depth': 8,\n",
       "                 'reason': 'to deep'},\n",
       "                '!=': {'gini': 0.2777777777777778,\n",
       "                 'size': 54,\n",
       "                 'tags': {0: 45, 1: 9},\n",
       "                 'depth': 8,\n",
       "                 'reason': 'to deep'}}}}}}}}}}}}}}}}}"
      ]
     },
     "execution_count": 87,
     "metadata": {},
     "output_type": "execute_result"
    }
   ],
   "source": [
    "rdf = X_train.copy()\n",
    "rdf['target'] = y_train\n",
    "adt = gen_tree_cart(rdf)\n",
    "adt"
   ]
  },
  {
   "cell_type": "code",
   "execution_count": 84,
   "metadata": {},
   "outputs": [],
   "source": [
    "draw_tree(adt, 'cart_same_car')"
   ]
  },
  {
   "cell_type": "code",
   "execution_count": 88,
   "metadata": {},
   "outputs": [
    {
     "name": "stdout",
     "output_type": "stream",
     "text": [
      "{'recall': 0.9713302752293578, 'precision': 0.9657924743443558, 'accuracy': 0.9794776119402985, 'tp': 847, 'fp': 30, 'tn': 1778, 'fn': 25}\n",
      "auc0.9844492114557117\n"
     ]
    },
    {
     "data": {
      "application/vnd.plotly.v1+json": {
       "config": {
        "plotlyServerURL": "https://plot.ly"
       },
       "data": [
        {
         "mode": "lines+markers",
         "name": "tp",
         "type": "scatter",
         "x": [
          0,
          0.0038716814159292035,
          0.013827433628318585,
          0.014380530973451327,
          0.014380530973451327,
          0.014933628318584071,
          0.014933628318584071,
          0.015486725663716814,
          0.016592920353982302,
          0.02267699115044248,
          0.02267699115044248,
          0.025442477876106196,
          0.02765486725663717,
          0.0293141592920354,
          0.03705752212389381,
          0.04092920353982301,
          0.043694690265486724,
          0.09845132743362832,
          0.11836283185840708,
          0.15486725663716813,
          0.17920353982300885,
          0.21349557522123894,
          0.3827433628318584,
          0.5470132743362832,
          1
         ],
         "y": [
          0,
          0.008027522935779817,
          0.9587155963302753,
          0.9598623853211009,
          0.9610091743119266,
          0.963302752293578,
          0.9655963302752294,
          0.9690366972477065,
          0.9713302752293578,
          0.9747706422018348,
          0.9759174311926605,
          0.9770642201834863,
          0.9782110091743119,
          0.9782110091743119,
          0.9827981651376146,
          0.9827981651376146,
          0.9850917431192661,
          0.9885321100917431,
          0.9896788990825688,
          0.9908256880733946,
          0.9908256880733946,
          0.9908256880733946,
          0.9931192660550459,
          0.9931192660550459,
          1
         ]
        },
        {
         "mode": "lines+markers",
         "name": "fp",
         "type": "scatter",
         "x": [
          0,
          0.0038716814159292035,
          0.013827433628318585,
          0.014380530973451327,
          0.014380530973451327,
          0.014933628318584071,
          0.014933628318584071,
          0.015486725663716814,
          0.016592920353982302,
          0.02267699115044248,
          0.02267699115044248,
          0.025442477876106196,
          0.02765486725663717,
          0.0293141592920354,
          0.03705752212389381,
          0.04092920353982301,
          0.043694690265486724,
          0.09845132743362832,
          0.11836283185840708,
          0.15486725663716813,
          0.17920353982300885,
          0.21349557522123894,
          0.3827433628318584,
          0.5470132743362832,
          1
         ],
         "y": [
          0,
          0.0038716814159292035,
          0.013827433628318585,
          0.014380530973451327,
          0.014380530973451327,
          0.014933628318584071,
          0.014933628318584071,
          0.015486725663716814,
          0.016592920353982302,
          0.02267699115044248,
          0.02267699115044248,
          0.025442477876106196,
          0.02765486725663717,
          0.0293141592920354,
          0.03705752212389381,
          0.04092920353982301,
          0.043694690265486724,
          0.09845132743362832,
          0.11836283185840708,
          0.15486725663716813,
          0.17920353982300885,
          0.21349557522123894,
          0.3827433628318584,
          0.5470132743362832,
          1
         ]
        }
       ],
       "layout": {
        "template": {
         "data": {
          "bar": [
           {
            "error_x": {
             "color": "#2a3f5f"
            },
            "error_y": {
             "color": "#2a3f5f"
            },
            "marker": {
             "line": {
              "color": "#E5ECF6",
              "width": 0.5
             }
            },
            "type": "bar"
           }
          ],
          "barpolar": [
           {
            "marker": {
             "line": {
              "color": "#E5ECF6",
              "width": 0.5
             }
            },
            "type": "barpolar"
           }
          ],
          "carpet": [
           {
            "aaxis": {
             "endlinecolor": "#2a3f5f",
             "gridcolor": "white",
             "linecolor": "white",
             "minorgridcolor": "white",
             "startlinecolor": "#2a3f5f"
            },
            "baxis": {
             "endlinecolor": "#2a3f5f",
             "gridcolor": "white",
             "linecolor": "white",
             "minorgridcolor": "white",
             "startlinecolor": "#2a3f5f"
            },
            "type": "carpet"
           }
          ],
          "choropleth": [
           {
            "colorbar": {
             "outlinewidth": 0,
             "ticks": ""
            },
            "type": "choropleth"
           }
          ],
          "contour": [
           {
            "colorbar": {
             "outlinewidth": 0,
             "ticks": ""
            },
            "colorscale": [
             [
              0,
              "#0d0887"
             ],
             [
              0.1111111111111111,
              "#46039f"
             ],
             [
              0.2222222222222222,
              "#7201a8"
             ],
             [
              0.3333333333333333,
              "#9c179e"
             ],
             [
              0.4444444444444444,
              "#bd3786"
             ],
             [
              0.5555555555555556,
              "#d8576b"
             ],
             [
              0.6666666666666666,
              "#ed7953"
             ],
             [
              0.7777777777777778,
              "#fb9f3a"
             ],
             [
              0.8888888888888888,
              "#fdca26"
             ],
             [
              1,
              "#f0f921"
             ]
            ],
            "type": "contour"
           }
          ],
          "contourcarpet": [
           {
            "colorbar": {
             "outlinewidth": 0,
             "ticks": ""
            },
            "type": "contourcarpet"
           }
          ],
          "heatmap": [
           {
            "colorbar": {
             "outlinewidth": 0,
             "ticks": ""
            },
            "colorscale": [
             [
              0,
              "#0d0887"
             ],
             [
              0.1111111111111111,
              "#46039f"
             ],
             [
              0.2222222222222222,
              "#7201a8"
             ],
             [
              0.3333333333333333,
              "#9c179e"
             ],
             [
              0.4444444444444444,
              "#bd3786"
             ],
             [
              0.5555555555555556,
              "#d8576b"
             ],
             [
              0.6666666666666666,
              "#ed7953"
             ],
             [
              0.7777777777777778,
              "#fb9f3a"
             ],
             [
              0.8888888888888888,
              "#fdca26"
             ],
             [
              1,
              "#f0f921"
             ]
            ],
            "type": "heatmap"
           }
          ],
          "heatmapgl": [
           {
            "colorbar": {
             "outlinewidth": 0,
             "ticks": ""
            },
            "colorscale": [
             [
              0,
              "#0d0887"
             ],
             [
              0.1111111111111111,
              "#46039f"
             ],
             [
              0.2222222222222222,
              "#7201a8"
             ],
             [
              0.3333333333333333,
              "#9c179e"
             ],
             [
              0.4444444444444444,
              "#bd3786"
             ],
             [
              0.5555555555555556,
              "#d8576b"
             ],
             [
              0.6666666666666666,
              "#ed7953"
             ],
             [
              0.7777777777777778,
              "#fb9f3a"
             ],
             [
              0.8888888888888888,
              "#fdca26"
             ],
             [
              1,
              "#f0f921"
             ]
            ],
            "type": "heatmapgl"
           }
          ],
          "histogram": [
           {
            "marker": {
             "colorbar": {
              "outlinewidth": 0,
              "ticks": ""
             }
            },
            "type": "histogram"
           }
          ],
          "histogram2d": [
           {
            "colorbar": {
             "outlinewidth": 0,
             "ticks": ""
            },
            "colorscale": [
             [
              0,
              "#0d0887"
             ],
             [
              0.1111111111111111,
              "#46039f"
             ],
             [
              0.2222222222222222,
              "#7201a8"
             ],
             [
              0.3333333333333333,
              "#9c179e"
             ],
             [
              0.4444444444444444,
              "#bd3786"
             ],
             [
              0.5555555555555556,
              "#d8576b"
             ],
             [
              0.6666666666666666,
              "#ed7953"
             ],
             [
              0.7777777777777778,
              "#fb9f3a"
             ],
             [
              0.8888888888888888,
              "#fdca26"
             ],
             [
              1,
              "#f0f921"
             ]
            ],
            "type": "histogram2d"
           }
          ],
          "histogram2dcontour": [
           {
            "colorbar": {
             "outlinewidth": 0,
             "ticks": ""
            },
            "colorscale": [
             [
              0,
              "#0d0887"
             ],
             [
              0.1111111111111111,
              "#46039f"
             ],
             [
              0.2222222222222222,
              "#7201a8"
             ],
             [
              0.3333333333333333,
              "#9c179e"
             ],
             [
              0.4444444444444444,
              "#bd3786"
             ],
             [
              0.5555555555555556,
              "#d8576b"
             ],
             [
              0.6666666666666666,
              "#ed7953"
             ],
             [
              0.7777777777777778,
              "#fb9f3a"
             ],
             [
              0.8888888888888888,
              "#fdca26"
             ],
             [
              1,
              "#f0f921"
             ]
            ],
            "type": "histogram2dcontour"
           }
          ],
          "mesh3d": [
           {
            "colorbar": {
             "outlinewidth": 0,
             "ticks": ""
            },
            "type": "mesh3d"
           }
          ],
          "parcoords": [
           {
            "line": {
             "colorbar": {
              "outlinewidth": 0,
              "ticks": ""
             }
            },
            "type": "parcoords"
           }
          ],
          "scatter": [
           {
            "marker": {
             "colorbar": {
              "outlinewidth": 0,
              "ticks": ""
             }
            },
            "type": "scatter"
           }
          ],
          "scatter3d": [
           {
            "line": {
             "colorbar": {
              "outlinewidth": 0,
              "ticks": ""
             }
            },
            "marker": {
             "colorbar": {
              "outlinewidth": 0,
              "ticks": ""
             }
            },
            "type": "scatter3d"
           }
          ],
          "scattercarpet": [
           {
            "marker": {
             "colorbar": {
              "outlinewidth": 0,
              "ticks": ""
             }
            },
            "type": "scattercarpet"
           }
          ],
          "scattergeo": [
           {
            "marker": {
             "colorbar": {
              "outlinewidth": 0,
              "ticks": ""
             }
            },
            "type": "scattergeo"
           }
          ],
          "scattergl": [
           {
            "marker": {
             "colorbar": {
              "outlinewidth": 0,
              "ticks": ""
             }
            },
            "type": "scattergl"
           }
          ],
          "scattermapbox": [
           {
            "marker": {
             "colorbar": {
              "outlinewidth": 0,
              "ticks": ""
             }
            },
            "type": "scattermapbox"
           }
          ],
          "scatterpolar": [
           {
            "marker": {
             "colorbar": {
              "outlinewidth": 0,
              "ticks": ""
             }
            },
            "type": "scatterpolar"
           }
          ],
          "scatterpolargl": [
           {
            "marker": {
             "colorbar": {
              "outlinewidth": 0,
              "ticks": ""
             }
            },
            "type": "scatterpolargl"
           }
          ],
          "scatterternary": [
           {
            "marker": {
             "colorbar": {
              "outlinewidth": 0,
              "ticks": ""
             }
            },
            "type": "scatterternary"
           }
          ],
          "surface": [
           {
            "colorbar": {
             "outlinewidth": 0,
             "ticks": ""
            },
            "colorscale": [
             [
              0,
              "#0d0887"
             ],
             [
              0.1111111111111111,
              "#46039f"
             ],
             [
              0.2222222222222222,
              "#7201a8"
             ],
             [
              0.3333333333333333,
              "#9c179e"
             ],
             [
              0.4444444444444444,
              "#bd3786"
             ],
             [
              0.5555555555555556,
              "#d8576b"
             ],
             [
              0.6666666666666666,
              "#ed7953"
             ],
             [
              0.7777777777777778,
              "#fb9f3a"
             ],
             [
              0.8888888888888888,
              "#fdca26"
             ],
             [
              1,
              "#f0f921"
             ]
            ],
            "type": "surface"
           }
          ],
          "table": [
           {
            "cells": {
             "fill": {
              "color": "#EBF0F8"
             },
             "line": {
              "color": "white"
             }
            },
            "header": {
             "fill": {
              "color": "#C8D4E3"
             },
             "line": {
              "color": "white"
             }
            },
            "type": "table"
           }
          ]
         },
         "layout": {
          "annotationdefaults": {
           "arrowcolor": "#2a3f5f",
           "arrowhead": 0,
           "arrowwidth": 1
          },
          "colorscale": {
           "diverging": [
            [
             0,
             "#8e0152"
            ],
            [
             0.1,
             "#c51b7d"
            ],
            [
             0.2,
             "#de77ae"
            ],
            [
             0.3,
             "#f1b6da"
            ],
            [
             0.4,
             "#fde0ef"
            ],
            [
             0.5,
             "#f7f7f7"
            ],
            [
             0.6,
             "#e6f5d0"
            ],
            [
             0.7,
             "#b8e186"
            ],
            [
             0.8,
             "#7fbc41"
            ],
            [
             0.9,
             "#4d9221"
            ],
            [
             1,
             "#276419"
            ]
           ],
           "sequential": [
            [
             0,
             "#0d0887"
            ],
            [
             0.1111111111111111,
             "#46039f"
            ],
            [
             0.2222222222222222,
             "#7201a8"
            ],
            [
             0.3333333333333333,
             "#9c179e"
            ],
            [
             0.4444444444444444,
             "#bd3786"
            ],
            [
             0.5555555555555556,
             "#d8576b"
            ],
            [
             0.6666666666666666,
             "#ed7953"
            ],
            [
             0.7777777777777778,
             "#fb9f3a"
            ],
            [
             0.8888888888888888,
             "#fdca26"
            ],
            [
             1,
             "#f0f921"
            ]
           ],
           "sequentialminus": [
            [
             0,
             "#0d0887"
            ],
            [
             0.1111111111111111,
             "#46039f"
            ],
            [
             0.2222222222222222,
             "#7201a8"
            ],
            [
             0.3333333333333333,
             "#9c179e"
            ],
            [
             0.4444444444444444,
             "#bd3786"
            ],
            [
             0.5555555555555556,
             "#d8576b"
            ],
            [
             0.6666666666666666,
             "#ed7953"
            ],
            [
             0.7777777777777778,
             "#fb9f3a"
            ],
            [
             0.8888888888888888,
             "#fdca26"
            ],
            [
             1,
             "#f0f921"
            ]
           ]
          },
          "colorway": [
           "#636efa",
           "#EF553B",
           "#00cc96",
           "#ab63fa",
           "#FFA15A",
           "#19d3f3",
           "#FF6692",
           "#B6E880",
           "#FF97FF",
           "#FECB52"
          ],
          "font": {
           "color": "#2a3f5f"
          },
          "geo": {
           "bgcolor": "white",
           "lakecolor": "white",
           "landcolor": "#E5ECF6",
           "showlakes": true,
           "showland": true,
           "subunitcolor": "white"
          },
          "hoverlabel": {
           "align": "left"
          },
          "hovermode": "closest",
          "mapbox": {
           "style": "light"
          },
          "paper_bgcolor": "white",
          "plot_bgcolor": "#E5ECF6",
          "polar": {
           "angularaxis": {
            "gridcolor": "white",
            "linecolor": "white",
            "ticks": ""
           },
           "bgcolor": "#E5ECF6",
           "radialaxis": {
            "gridcolor": "white",
            "linecolor": "white",
            "ticks": ""
           }
          },
          "scene": {
           "xaxis": {
            "backgroundcolor": "#E5ECF6",
            "gridcolor": "white",
            "gridwidth": 2,
            "linecolor": "white",
            "showbackground": true,
            "ticks": "",
            "zerolinecolor": "white"
           },
           "yaxis": {
            "backgroundcolor": "#E5ECF6",
            "gridcolor": "white",
            "gridwidth": 2,
            "linecolor": "white",
            "showbackground": true,
            "ticks": "",
            "zerolinecolor": "white"
           },
           "zaxis": {
            "backgroundcolor": "#E5ECF6",
            "gridcolor": "white",
            "gridwidth": 2,
            "linecolor": "white",
            "showbackground": true,
            "ticks": "",
            "zerolinecolor": "white"
           }
          },
          "shapedefaults": {
           "line": {
            "color": "#2a3f5f"
           }
          },
          "ternary": {
           "aaxis": {
            "gridcolor": "white",
            "linecolor": "white",
            "ticks": ""
           },
           "baxis": {
            "gridcolor": "white",
            "linecolor": "white",
            "ticks": ""
           },
           "bgcolor": "#E5ECF6",
           "caxis": {
            "gridcolor": "white",
            "linecolor": "white",
            "ticks": ""
           }
          },
          "title": {
           "x": 0.05
          },
          "xaxis": {
           "automargin": true,
           "gridcolor": "white",
           "linecolor": "white",
           "ticks": "",
           "zerolinecolor": "white",
           "zerolinewidth": 2
          },
          "yaxis": {
           "automargin": true,
           "gridcolor": "white",
           "linecolor": "white",
           "ticks": "",
           "zerolinecolor": "white",
           "zerolinewidth": 2
          }
         }
        }
       }
      },
      "text/html": [
       "<div>\n",
       "        \n",
       "        \n",
       "            <div id=\"aa17ddff-47c6-41b5-a06f-9d8340ff25d9\" class=\"plotly-graph-div\" style=\"height:525px; width:100%;\"></div>\n",
       "            <script type=\"text/javascript\">\n",
       "                require([\"plotly\"], function(Plotly) {\n",
       "                    window.PLOTLYENV=window.PLOTLYENV || {};\n",
       "                    \n",
       "                if (document.getElementById(\"aa17ddff-47c6-41b5-a06f-9d8340ff25d9\")) {\n",
       "                    Plotly.newPlot(\n",
       "                        'aa17ddff-47c6-41b5-a06f-9d8340ff25d9',\n",
       "                        [{\"mode\": \"lines+markers\", \"name\": \"tp\", \"type\": \"scatter\", \"x\": [0.0, 0.0038716814159292035, 0.013827433628318585, 0.014380530973451327, 0.014380530973451327, 0.014933628318584071, 0.014933628318584071, 0.015486725663716814, 0.016592920353982302, 0.02267699115044248, 0.02267699115044248, 0.025442477876106196, 0.02765486725663717, 0.0293141592920354, 0.03705752212389381, 0.04092920353982301, 0.043694690265486724, 0.09845132743362832, 0.11836283185840708, 0.15486725663716813, 0.17920353982300885, 0.21349557522123894, 0.3827433628318584, 0.5470132743362832, 1.0], \"y\": [0.0, 0.008027522935779817, 0.9587155963302753, 0.9598623853211009, 0.9610091743119266, 0.963302752293578, 0.9655963302752294, 0.9690366972477065, 0.9713302752293578, 0.9747706422018348, 0.9759174311926605, 0.9770642201834863, 0.9782110091743119, 0.9782110091743119, 0.9827981651376146, 0.9827981651376146, 0.9850917431192661, 0.9885321100917431, 0.9896788990825688, 0.9908256880733946, 0.9908256880733946, 0.9908256880733946, 0.9931192660550459, 0.9931192660550459, 1.0]}, {\"mode\": \"lines+markers\", \"name\": \"fp\", \"type\": \"scatter\", \"x\": [0.0, 0.0038716814159292035, 0.013827433628318585, 0.014380530973451327, 0.014380530973451327, 0.014933628318584071, 0.014933628318584071, 0.015486725663716814, 0.016592920353982302, 0.02267699115044248, 0.02267699115044248, 0.025442477876106196, 0.02765486725663717, 0.0293141592920354, 0.03705752212389381, 0.04092920353982301, 0.043694690265486724, 0.09845132743362832, 0.11836283185840708, 0.15486725663716813, 0.17920353982300885, 0.21349557522123894, 0.3827433628318584, 0.5470132743362832, 1.0], \"y\": [0.0, 0.0038716814159292035, 0.013827433628318585, 0.014380530973451327, 0.014380530973451327, 0.014933628318584071, 0.014933628318584071, 0.015486725663716814, 0.016592920353982302, 0.02267699115044248, 0.02267699115044248, 0.025442477876106196, 0.02765486725663717, 0.0293141592920354, 0.03705752212389381, 0.04092920353982301, 0.043694690265486724, 0.09845132743362832, 0.11836283185840708, 0.15486725663716813, 0.17920353982300885, 0.21349557522123894, 0.3827433628318584, 0.5470132743362832, 1.0]}],\n",
       "                        {\"template\": {\"data\": {\"bar\": [{\"error_x\": {\"color\": \"#2a3f5f\"}, \"error_y\": {\"color\": \"#2a3f5f\"}, \"marker\": {\"line\": {\"color\": \"#E5ECF6\", \"width\": 0.5}}, \"type\": \"bar\"}], \"barpolar\": [{\"marker\": {\"line\": {\"color\": \"#E5ECF6\", \"width\": 0.5}}, \"type\": \"barpolar\"}], \"carpet\": [{\"aaxis\": {\"endlinecolor\": \"#2a3f5f\", \"gridcolor\": \"white\", \"linecolor\": \"white\", \"minorgridcolor\": \"white\", \"startlinecolor\": \"#2a3f5f\"}, \"baxis\": {\"endlinecolor\": \"#2a3f5f\", \"gridcolor\": \"white\", \"linecolor\": \"white\", \"minorgridcolor\": \"white\", \"startlinecolor\": \"#2a3f5f\"}, \"type\": \"carpet\"}], \"choropleth\": [{\"colorbar\": {\"outlinewidth\": 0, \"ticks\": \"\"}, \"type\": \"choropleth\"}], \"contour\": [{\"colorbar\": {\"outlinewidth\": 0, \"ticks\": \"\"}, \"colorscale\": [[0.0, \"#0d0887\"], [0.1111111111111111, \"#46039f\"], [0.2222222222222222, \"#7201a8\"], [0.3333333333333333, \"#9c179e\"], [0.4444444444444444, \"#bd3786\"], [0.5555555555555556, \"#d8576b\"], [0.6666666666666666, \"#ed7953\"], [0.7777777777777778, \"#fb9f3a\"], [0.8888888888888888, \"#fdca26\"], [1.0, \"#f0f921\"]], \"type\": \"contour\"}], \"contourcarpet\": [{\"colorbar\": {\"outlinewidth\": 0, \"ticks\": \"\"}, \"type\": \"contourcarpet\"}], \"heatmap\": [{\"colorbar\": {\"outlinewidth\": 0, \"ticks\": \"\"}, \"colorscale\": [[0.0, \"#0d0887\"], [0.1111111111111111, \"#46039f\"], [0.2222222222222222, \"#7201a8\"], [0.3333333333333333, \"#9c179e\"], [0.4444444444444444, \"#bd3786\"], [0.5555555555555556, \"#d8576b\"], [0.6666666666666666, \"#ed7953\"], [0.7777777777777778, \"#fb9f3a\"], [0.8888888888888888, \"#fdca26\"], [1.0, \"#f0f921\"]], \"type\": \"heatmap\"}], \"heatmapgl\": [{\"colorbar\": {\"outlinewidth\": 0, \"ticks\": \"\"}, \"colorscale\": [[0.0, \"#0d0887\"], [0.1111111111111111, \"#46039f\"], [0.2222222222222222, \"#7201a8\"], [0.3333333333333333, \"#9c179e\"], [0.4444444444444444, \"#bd3786\"], [0.5555555555555556, \"#d8576b\"], [0.6666666666666666, \"#ed7953\"], [0.7777777777777778, \"#fb9f3a\"], [0.8888888888888888, \"#fdca26\"], [1.0, \"#f0f921\"]], \"type\": \"heatmapgl\"}], \"histogram\": [{\"marker\": {\"colorbar\": {\"outlinewidth\": 0, \"ticks\": \"\"}}, \"type\": \"histogram\"}], \"histogram2d\": [{\"colorbar\": {\"outlinewidth\": 0, \"ticks\": \"\"}, \"colorscale\": [[0.0, \"#0d0887\"], [0.1111111111111111, \"#46039f\"], [0.2222222222222222, \"#7201a8\"], [0.3333333333333333, \"#9c179e\"], [0.4444444444444444, \"#bd3786\"], [0.5555555555555556, \"#d8576b\"], [0.6666666666666666, \"#ed7953\"], [0.7777777777777778, \"#fb9f3a\"], [0.8888888888888888, \"#fdca26\"], [1.0, \"#f0f921\"]], \"type\": \"histogram2d\"}], \"histogram2dcontour\": [{\"colorbar\": {\"outlinewidth\": 0, \"ticks\": \"\"}, \"colorscale\": [[0.0, \"#0d0887\"], [0.1111111111111111, \"#46039f\"], [0.2222222222222222, \"#7201a8\"], [0.3333333333333333, \"#9c179e\"], [0.4444444444444444, \"#bd3786\"], [0.5555555555555556, \"#d8576b\"], [0.6666666666666666, \"#ed7953\"], [0.7777777777777778, \"#fb9f3a\"], [0.8888888888888888, \"#fdca26\"], [1.0, \"#f0f921\"]], \"type\": \"histogram2dcontour\"}], \"mesh3d\": [{\"colorbar\": {\"outlinewidth\": 0, \"ticks\": \"\"}, \"type\": \"mesh3d\"}], \"parcoords\": [{\"line\": {\"colorbar\": {\"outlinewidth\": 0, \"ticks\": \"\"}}, \"type\": \"parcoords\"}], \"scatter\": [{\"marker\": {\"colorbar\": {\"outlinewidth\": 0, \"ticks\": \"\"}}, \"type\": \"scatter\"}], \"scatter3d\": [{\"line\": {\"colorbar\": {\"outlinewidth\": 0, \"ticks\": \"\"}}, \"marker\": {\"colorbar\": {\"outlinewidth\": 0, \"ticks\": \"\"}}, \"type\": \"scatter3d\"}], \"scattercarpet\": [{\"marker\": {\"colorbar\": {\"outlinewidth\": 0, \"ticks\": \"\"}}, \"type\": \"scattercarpet\"}], \"scattergeo\": [{\"marker\": {\"colorbar\": {\"outlinewidth\": 0, \"ticks\": \"\"}}, \"type\": \"scattergeo\"}], \"scattergl\": [{\"marker\": {\"colorbar\": {\"outlinewidth\": 0, \"ticks\": \"\"}}, \"type\": \"scattergl\"}], \"scattermapbox\": [{\"marker\": {\"colorbar\": {\"outlinewidth\": 0, \"ticks\": \"\"}}, \"type\": \"scattermapbox\"}], \"scatterpolar\": [{\"marker\": {\"colorbar\": {\"outlinewidth\": 0, \"ticks\": \"\"}}, \"type\": \"scatterpolar\"}], \"scatterpolargl\": [{\"marker\": {\"colorbar\": {\"outlinewidth\": 0, \"ticks\": \"\"}}, \"type\": \"scatterpolargl\"}], \"scatterternary\": [{\"marker\": {\"colorbar\": {\"outlinewidth\": 0, \"ticks\": \"\"}}, \"type\": \"scatterternary\"}], \"surface\": [{\"colorbar\": {\"outlinewidth\": 0, \"ticks\": \"\"}, \"colorscale\": [[0.0, \"#0d0887\"], [0.1111111111111111, \"#46039f\"], [0.2222222222222222, \"#7201a8\"], [0.3333333333333333, \"#9c179e\"], [0.4444444444444444, \"#bd3786\"], [0.5555555555555556, \"#d8576b\"], [0.6666666666666666, \"#ed7953\"], [0.7777777777777778, \"#fb9f3a\"], [0.8888888888888888, \"#fdca26\"], [1.0, \"#f0f921\"]], \"type\": \"surface\"}], \"table\": [{\"cells\": {\"fill\": {\"color\": \"#EBF0F8\"}, \"line\": {\"color\": \"white\"}}, \"header\": {\"fill\": {\"color\": \"#C8D4E3\"}, \"line\": {\"color\": \"white\"}}, \"type\": \"table\"}]}, \"layout\": {\"annotationdefaults\": {\"arrowcolor\": \"#2a3f5f\", \"arrowhead\": 0, \"arrowwidth\": 1}, \"colorscale\": {\"diverging\": [[0, \"#8e0152\"], [0.1, \"#c51b7d\"], [0.2, \"#de77ae\"], [0.3, \"#f1b6da\"], [0.4, \"#fde0ef\"], [0.5, \"#f7f7f7\"], [0.6, \"#e6f5d0\"], [0.7, \"#b8e186\"], [0.8, \"#7fbc41\"], [0.9, \"#4d9221\"], [1, \"#276419\"]], \"sequential\": [[0.0, \"#0d0887\"], [0.1111111111111111, \"#46039f\"], [0.2222222222222222, \"#7201a8\"], [0.3333333333333333, \"#9c179e\"], [0.4444444444444444, \"#bd3786\"], [0.5555555555555556, \"#d8576b\"], [0.6666666666666666, \"#ed7953\"], [0.7777777777777778, \"#fb9f3a\"], [0.8888888888888888, \"#fdca26\"], [1.0, \"#f0f921\"]], \"sequentialminus\": [[0.0, \"#0d0887\"], [0.1111111111111111, \"#46039f\"], [0.2222222222222222, \"#7201a8\"], [0.3333333333333333, \"#9c179e\"], [0.4444444444444444, \"#bd3786\"], [0.5555555555555556, \"#d8576b\"], [0.6666666666666666, \"#ed7953\"], [0.7777777777777778, \"#fb9f3a\"], [0.8888888888888888, \"#fdca26\"], [1.0, \"#f0f921\"]]}, \"colorway\": [\"#636efa\", \"#EF553B\", \"#00cc96\", \"#ab63fa\", \"#FFA15A\", \"#19d3f3\", \"#FF6692\", \"#B6E880\", \"#FF97FF\", \"#FECB52\"], \"font\": {\"color\": \"#2a3f5f\"}, \"geo\": {\"bgcolor\": \"white\", \"lakecolor\": \"white\", \"landcolor\": \"#E5ECF6\", \"showlakes\": true, \"showland\": true, \"subunitcolor\": \"white\"}, \"hoverlabel\": {\"align\": \"left\"}, \"hovermode\": \"closest\", \"mapbox\": {\"style\": \"light\"}, \"paper_bgcolor\": \"white\", \"plot_bgcolor\": \"#E5ECF6\", \"polar\": {\"angularaxis\": {\"gridcolor\": \"white\", \"linecolor\": \"white\", \"ticks\": \"\"}, \"bgcolor\": \"#E5ECF6\", \"radialaxis\": {\"gridcolor\": \"white\", \"linecolor\": \"white\", \"ticks\": \"\"}}, \"scene\": {\"xaxis\": {\"backgroundcolor\": \"#E5ECF6\", \"gridcolor\": \"white\", \"gridwidth\": 2, \"linecolor\": \"white\", \"showbackground\": true, \"ticks\": \"\", \"zerolinecolor\": \"white\"}, \"yaxis\": {\"backgroundcolor\": \"#E5ECF6\", \"gridcolor\": \"white\", \"gridwidth\": 2, \"linecolor\": \"white\", \"showbackground\": true, \"ticks\": \"\", \"zerolinecolor\": \"white\"}, \"zaxis\": {\"backgroundcolor\": \"#E5ECF6\", \"gridcolor\": \"white\", \"gridwidth\": 2, \"linecolor\": \"white\", \"showbackground\": true, \"ticks\": \"\", \"zerolinecolor\": \"white\"}}, \"shapedefaults\": {\"line\": {\"color\": \"#2a3f5f\"}}, \"ternary\": {\"aaxis\": {\"gridcolor\": \"white\", \"linecolor\": \"white\", \"ticks\": \"\"}, \"baxis\": {\"gridcolor\": \"white\", \"linecolor\": \"white\", \"ticks\": \"\"}, \"bgcolor\": \"#E5ECF6\", \"caxis\": {\"gridcolor\": \"white\", \"linecolor\": \"white\", \"ticks\": \"\"}}, \"title\": {\"x\": 0.05}, \"xaxis\": {\"automargin\": true, \"gridcolor\": \"white\", \"linecolor\": \"white\", \"ticks\": \"\", \"zerolinecolor\": \"white\", \"zerolinewidth\": 2}, \"yaxis\": {\"automargin\": true, \"gridcolor\": \"white\", \"linecolor\": \"white\", \"ticks\": \"\", \"zerolinecolor\": \"white\", \"zerolinewidth\": 2}}}},\n",
       "                        {\"responsive\": true}\n",
       "                    ).then(function(){\n",
       "                            \n",
       "var gd = document.getElementById('aa17ddff-47c6-41b5-a06f-9d8340ff25d9');\n",
       "var x = new MutationObserver(function (mutations, observer) {{\n",
       "        var display = window.getComputedStyle(gd).display;\n",
       "        if (!display || display === 'none') {{\n",
       "            console.log([gd, 'removed!']);\n",
       "            Plotly.purge(gd);\n",
       "            observer.disconnect();\n",
       "        }}\n",
       "}});\n",
       "\n",
       "// Listen for the removal of the full notebook cells\n",
       "var notebookContainer = gd.closest('#notebook-container');\n",
       "if (notebookContainer) {{\n",
       "    x.observe(notebookContainer, {childList: true});\n",
       "}}\n",
       "\n",
       "// Listen for the clearing of the current output cell\n",
       "var outputEl = gd.closest('.output');\n",
       "if (outputEl) {{\n",
       "    x.observe(outputEl, {childList: true});\n",
       "}}\n",
       "\n",
       "                        })\n",
       "                };\n",
       "                });\n",
       "            </script>\n",
       "        </div>"
      ]
     },
     "metadata": {},
     "output_type": "display_data"
    }
   ],
   "source": [
    "## 测试集表现\n",
    "pred, prob = predict_cart(adt, X_test)\n",
    "eval_ret = classifier_evaluate(y_test, pred)\n",
    "print(eval_ret)\n",
    "\n",
    "fpr, tpr, thresholds = roc_curve(y_test, prob)\n",
    "roc_auc = auc(fpr, tpr)\n",
    "print(f'auc{roc_auc}')\n",
    "draw_lines(fpr, [tpr, fpr], ['tp', 'fp'])"
   ]
  },
  {
   "cell_type": "code",
   "execution_count": 83,
   "metadata": {},
   "outputs": [
    {
     "name": "stdout",
     "output_type": "stream",
     "text": [
      "{'recall': 0.9787392763894069, 'precision': 0.9718518518518519, 'accuracy': 0.9834535954217467, 'tp': 2624, 'fp': 76, 'tn': 5281, 'fn': 57}\n",
      "auc0.9937290233744789\n"
     ]
    },
    {
     "data": {
      "application/vnd.plotly.v1+json": {
       "config": {
        "plotlyServerURL": "https://plot.ly"
       },
       "data": [
        {
         "mode": "lines+markers",
         "name": "tp",
         "type": "scatter",
         "x": [
          0,
          0,
          0.01026694045174538,
          0.010453612096322569,
          0.010826955385476946,
          0.011200298674631324,
          0.011946985252940079,
          0.013253686764980399,
          0.014187044987866344,
          0.01754713459025574,
          0.018107149523987308,
          0.018853836102296063,
          0.02072055254806795,
          0.022400597349262648,
          0.023147283927571403,
          0.0315475079335449,
          0.034534254246779916,
          0.03864103042747807,
          0.09053574761993653,
          0.10509613589695725,
          0.14616389770393878,
          0.1706178831435505,
          0.20253873436624978,
          0.3658764233712899,
          0.530147470599216,
          1
         ],
         "y": [
          0,
          0.011562849682954122,
          0.9604625139873182,
          0.9634464751958225,
          0.9679224170085788,
          0.969787392763894,
          0.9727713539723983,
          0.9768743006340918,
          0.9787392763894069,
          0.9835882133532264,
          0.9843342036553525,
          0.9850801939574786,
          0.9865721745617307,
          0.9876911600149199,
          0.9880641551659829,
          0.9914211115255501,
          0.9921671018276762,
          0.9929130921298023,
          0.9962700484893696,
          0.9970160387914957,
          0.9985080193957478,
          0.9988810145468109,
          0.9992540096978739,
          0.999627004848937,
          1,
          1
         ]
        },
        {
         "mode": "lines+markers",
         "name": "fp",
         "type": "scatter",
         "x": [
          0,
          0,
          0.01026694045174538,
          0.010453612096322569,
          0.010826955385476946,
          0.011200298674631324,
          0.011946985252940079,
          0.013253686764980399,
          0.014187044987866344,
          0.01754713459025574,
          0.018107149523987308,
          0.018853836102296063,
          0.02072055254806795,
          0.022400597349262648,
          0.023147283927571403,
          0.0315475079335449,
          0.034534254246779916,
          0.03864103042747807,
          0.09053574761993653,
          0.10509613589695725,
          0.14616389770393878,
          0.1706178831435505,
          0.20253873436624978,
          0.3658764233712899,
          0.530147470599216,
          1
         ],
         "y": [
          0,
          0,
          0.01026694045174538,
          0.010453612096322569,
          0.010826955385476946,
          0.011200298674631324,
          0.011946985252940079,
          0.013253686764980399,
          0.014187044987866344,
          0.01754713459025574,
          0.018107149523987308,
          0.018853836102296063,
          0.02072055254806795,
          0.022400597349262648,
          0.023147283927571403,
          0.0315475079335449,
          0.034534254246779916,
          0.03864103042747807,
          0.09053574761993653,
          0.10509613589695725,
          0.14616389770393878,
          0.1706178831435505,
          0.20253873436624978,
          0.3658764233712899,
          0.530147470599216,
          1
         ]
        }
       ],
       "layout": {
        "template": {
         "data": {
          "bar": [
           {
            "error_x": {
             "color": "#2a3f5f"
            },
            "error_y": {
             "color": "#2a3f5f"
            },
            "marker": {
             "line": {
              "color": "#E5ECF6",
              "width": 0.5
             }
            },
            "type": "bar"
           }
          ],
          "barpolar": [
           {
            "marker": {
             "line": {
              "color": "#E5ECF6",
              "width": 0.5
             }
            },
            "type": "barpolar"
           }
          ],
          "carpet": [
           {
            "aaxis": {
             "endlinecolor": "#2a3f5f",
             "gridcolor": "white",
             "linecolor": "white",
             "minorgridcolor": "white",
             "startlinecolor": "#2a3f5f"
            },
            "baxis": {
             "endlinecolor": "#2a3f5f",
             "gridcolor": "white",
             "linecolor": "white",
             "minorgridcolor": "white",
             "startlinecolor": "#2a3f5f"
            },
            "type": "carpet"
           }
          ],
          "choropleth": [
           {
            "colorbar": {
             "outlinewidth": 0,
             "ticks": ""
            },
            "type": "choropleth"
           }
          ],
          "contour": [
           {
            "colorbar": {
             "outlinewidth": 0,
             "ticks": ""
            },
            "colorscale": [
             [
              0,
              "#0d0887"
             ],
             [
              0.1111111111111111,
              "#46039f"
             ],
             [
              0.2222222222222222,
              "#7201a8"
             ],
             [
              0.3333333333333333,
              "#9c179e"
             ],
             [
              0.4444444444444444,
              "#bd3786"
             ],
             [
              0.5555555555555556,
              "#d8576b"
             ],
             [
              0.6666666666666666,
              "#ed7953"
             ],
             [
              0.7777777777777778,
              "#fb9f3a"
             ],
             [
              0.8888888888888888,
              "#fdca26"
             ],
             [
              1,
              "#f0f921"
             ]
            ],
            "type": "contour"
           }
          ],
          "contourcarpet": [
           {
            "colorbar": {
             "outlinewidth": 0,
             "ticks": ""
            },
            "type": "contourcarpet"
           }
          ],
          "heatmap": [
           {
            "colorbar": {
             "outlinewidth": 0,
             "ticks": ""
            },
            "colorscale": [
             [
              0,
              "#0d0887"
             ],
             [
              0.1111111111111111,
              "#46039f"
             ],
             [
              0.2222222222222222,
              "#7201a8"
             ],
             [
              0.3333333333333333,
              "#9c179e"
             ],
             [
              0.4444444444444444,
              "#bd3786"
             ],
             [
              0.5555555555555556,
              "#d8576b"
             ],
             [
              0.6666666666666666,
              "#ed7953"
             ],
             [
              0.7777777777777778,
              "#fb9f3a"
             ],
             [
              0.8888888888888888,
              "#fdca26"
             ],
             [
              1,
              "#f0f921"
             ]
            ],
            "type": "heatmap"
           }
          ],
          "heatmapgl": [
           {
            "colorbar": {
             "outlinewidth": 0,
             "ticks": ""
            },
            "colorscale": [
             [
              0,
              "#0d0887"
             ],
             [
              0.1111111111111111,
              "#46039f"
             ],
             [
              0.2222222222222222,
              "#7201a8"
             ],
             [
              0.3333333333333333,
              "#9c179e"
             ],
             [
              0.4444444444444444,
              "#bd3786"
             ],
             [
              0.5555555555555556,
              "#d8576b"
             ],
             [
              0.6666666666666666,
              "#ed7953"
             ],
             [
              0.7777777777777778,
              "#fb9f3a"
             ],
             [
              0.8888888888888888,
              "#fdca26"
             ],
             [
              1,
              "#f0f921"
             ]
            ],
            "type": "heatmapgl"
           }
          ],
          "histogram": [
           {
            "marker": {
             "colorbar": {
              "outlinewidth": 0,
              "ticks": ""
             }
            },
            "type": "histogram"
           }
          ],
          "histogram2d": [
           {
            "colorbar": {
             "outlinewidth": 0,
             "ticks": ""
            },
            "colorscale": [
             [
              0,
              "#0d0887"
             ],
             [
              0.1111111111111111,
              "#46039f"
             ],
             [
              0.2222222222222222,
              "#7201a8"
             ],
             [
              0.3333333333333333,
              "#9c179e"
             ],
             [
              0.4444444444444444,
              "#bd3786"
             ],
             [
              0.5555555555555556,
              "#d8576b"
             ],
             [
              0.6666666666666666,
              "#ed7953"
             ],
             [
              0.7777777777777778,
              "#fb9f3a"
             ],
             [
              0.8888888888888888,
              "#fdca26"
             ],
             [
              1,
              "#f0f921"
             ]
            ],
            "type": "histogram2d"
           }
          ],
          "histogram2dcontour": [
           {
            "colorbar": {
             "outlinewidth": 0,
             "ticks": ""
            },
            "colorscale": [
             [
              0,
              "#0d0887"
             ],
             [
              0.1111111111111111,
              "#46039f"
             ],
             [
              0.2222222222222222,
              "#7201a8"
             ],
             [
              0.3333333333333333,
              "#9c179e"
             ],
             [
              0.4444444444444444,
              "#bd3786"
             ],
             [
              0.5555555555555556,
              "#d8576b"
             ],
             [
              0.6666666666666666,
              "#ed7953"
             ],
             [
              0.7777777777777778,
              "#fb9f3a"
             ],
             [
              0.8888888888888888,
              "#fdca26"
             ],
             [
              1,
              "#f0f921"
             ]
            ],
            "type": "histogram2dcontour"
           }
          ],
          "mesh3d": [
           {
            "colorbar": {
             "outlinewidth": 0,
             "ticks": ""
            },
            "type": "mesh3d"
           }
          ],
          "parcoords": [
           {
            "line": {
             "colorbar": {
              "outlinewidth": 0,
              "ticks": ""
             }
            },
            "type": "parcoords"
           }
          ],
          "scatter": [
           {
            "marker": {
             "colorbar": {
              "outlinewidth": 0,
              "ticks": ""
             }
            },
            "type": "scatter"
           }
          ],
          "scatter3d": [
           {
            "line": {
             "colorbar": {
              "outlinewidth": 0,
              "ticks": ""
             }
            },
            "marker": {
             "colorbar": {
              "outlinewidth": 0,
              "ticks": ""
             }
            },
            "type": "scatter3d"
           }
          ],
          "scattercarpet": [
           {
            "marker": {
             "colorbar": {
              "outlinewidth": 0,
              "ticks": ""
             }
            },
            "type": "scattercarpet"
           }
          ],
          "scattergeo": [
           {
            "marker": {
             "colorbar": {
              "outlinewidth": 0,
              "ticks": ""
             }
            },
            "type": "scattergeo"
           }
          ],
          "scattergl": [
           {
            "marker": {
             "colorbar": {
              "outlinewidth": 0,
              "ticks": ""
             }
            },
            "type": "scattergl"
           }
          ],
          "scattermapbox": [
           {
            "marker": {
             "colorbar": {
              "outlinewidth": 0,
              "ticks": ""
             }
            },
            "type": "scattermapbox"
           }
          ],
          "scatterpolar": [
           {
            "marker": {
             "colorbar": {
              "outlinewidth": 0,
              "ticks": ""
             }
            },
            "type": "scatterpolar"
           }
          ],
          "scatterpolargl": [
           {
            "marker": {
             "colorbar": {
              "outlinewidth": 0,
              "ticks": ""
             }
            },
            "type": "scatterpolargl"
           }
          ],
          "scatterternary": [
           {
            "marker": {
             "colorbar": {
              "outlinewidth": 0,
              "ticks": ""
             }
            },
            "type": "scatterternary"
           }
          ],
          "surface": [
           {
            "colorbar": {
             "outlinewidth": 0,
             "ticks": ""
            },
            "colorscale": [
             [
              0,
              "#0d0887"
             ],
             [
              0.1111111111111111,
              "#46039f"
             ],
             [
              0.2222222222222222,
              "#7201a8"
             ],
             [
              0.3333333333333333,
              "#9c179e"
             ],
             [
              0.4444444444444444,
              "#bd3786"
             ],
             [
              0.5555555555555556,
              "#d8576b"
             ],
             [
              0.6666666666666666,
              "#ed7953"
             ],
             [
              0.7777777777777778,
              "#fb9f3a"
             ],
             [
              0.8888888888888888,
              "#fdca26"
             ],
             [
              1,
              "#f0f921"
             ]
            ],
            "type": "surface"
           }
          ],
          "table": [
           {
            "cells": {
             "fill": {
              "color": "#EBF0F8"
             },
             "line": {
              "color": "white"
             }
            },
            "header": {
             "fill": {
              "color": "#C8D4E3"
             },
             "line": {
              "color": "white"
             }
            },
            "type": "table"
           }
          ]
         },
         "layout": {
          "annotationdefaults": {
           "arrowcolor": "#2a3f5f",
           "arrowhead": 0,
           "arrowwidth": 1
          },
          "colorscale": {
           "diverging": [
            [
             0,
             "#8e0152"
            ],
            [
             0.1,
             "#c51b7d"
            ],
            [
             0.2,
             "#de77ae"
            ],
            [
             0.3,
             "#f1b6da"
            ],
            [
             0.4,
             "#fde0ef"
            ],
            [
             0.5,
             "#f7f7f7"
            ],
            [
             0.6,
             "#e6f5d0"
            ],
            [
             0.7,
             "#b8e186"
            ],
            [
             0.8,
             "#7fbc41"
            ],
            [
             0.9,
             "#4d9221"
            ],
            [
             1,
             "#276419"
            ]
           ],
           "sequential": [
            [
             0,
             "#0d0887"
            ],
            [
             0.1111111111111111,
             "#46039f"
            ],
            [
             0.2222222222222222,
             "#7201a8"
            ],
            [
             0.3333333333333333,
             "#9c179e"
            ],
            [
             0.4444444444444444,
             "#bd3786"
            ],
            [
             0.5555555555555556,
             "#d8576b"
            ],
            [
             0.6666666666666666,
             "#ed7953"
            ],
            [
             0.7777777777777778,
             "#fb9f3a"
            ],
            [
             0.8888888888888888,
             "#fdca26"
            ],
            [
             1,
             "#f0f921"
            ]
           ],
           "sequentialminus": [
            [
             0,
             "#0d0887"
            ],
            [
             0.1111111111111111,
             "#46039f"
            ],
            [
             0.2222222222222222,
             "#7201a8"
            ],
            [
             0.3333333333333333,
             "#9c179e"
            ],
            [
             0.4444444444444444,
             "#bd3786"
            ],
            [
             0.5555555555555556,
             "#d8576b"
            ],
            [
             0.6666666666666666,
             "#ed7953"
            ],
            [
             0.7777777777777778,
             "#fb9f3a"
            ],
            [
             0.8888888888888888,
             "#fdca26"
            ],
            [
             1,
             "#f0f921"
            ]
           ]
          },
          "colorway": [
           "#636efa",
           "#EF553B",
           "#00cc96",
           "#ab63fa",
           "#FFA15A",
           "#19d3f3",
           "#FF6692",
           "#B6E880",
           "#FF97FF",
           "#FECB52"
          ],
          "font": {
           "color": "#2a3f5f"
          },
          "geo": {
           "bgcolor": "white",
           "lakecolor": "white",
           "landcolor": "#E5ECF6",
           "showlakes": true,
           "showland": true,
           "subunitcolor": "white"
          },
          "hoverlabel": {
           "align": "left"
          },
          "hovermode": "closest",
          "mapbox": {
           "style": "light"
          },
          "paper_bgcolor": "white",
          "plot_bgcolor": "#E5ECF6",
          "polar": {
           "angularaxis": {
            "gridcolor": "white",
            "linecolor": "white",
            "ticks": ""
           },
           "bgcolor": "#E5ECF6",
           "radialaxis": {
            "gridcolor": "white",
            "linecolor": "white",
            "ticks": ""
           }
          },
          "scene": {
           "xaxis": {
            "backgroundcolor": "#E5ECF6",
            "gridcolor": "white",
            "gridwidth": 2,
            "linecolor": "white",
            "showbackground": true,
            "ticks": "",
            "zerolinecolor": "white"
           },
           "yaxis": {
            "backgroundcolor": "#E5ECF6",
            "gridcolor": "white",
            "gridwidth": 2,
            "linecolor": "white",
            "showbackground": true,
            "ticks": "",
            "zerolinecolor": "white"
           },
           "zaxis": {
            "backgroundcolor": "#E5ECF6",
            "gridcolor": "white",
            "gridwidth": 2,
            "linecolor": "white",
            "showbackground": true,
            "ticks": "",
            "zerolinecolor": "white"
           }
          },
          "shapedefaults": {
           "line": {
            "color": "#2a3f5f"
           }
          },
          "ternary": {
           "aaxis": {
            "gridcolor": "white",
            "linecolor": "white",
            "ticks": ""
           },
           "baxis": {
            "gridcolor": "white",
            "linecolor": "white",
            "ticks": ""
           },
           "bgcolor": "#E5ECF6",
           "caxis": {
            "gridcolor": "white",
            "linecolor": "white",
            "ticks": ""
           }
          },
          "title": {
           "x": 0.05
          },
          "xaxis": {
           "automargin": true,
           "gridcolor": "white",
           "linecolor": "white",
           "ticks": "",
           "zerolinecolor": "white",
           "zerolinewidth": 2
          },
          "yaxis": {
           "automargin": true,
           "gridcolor": "white",
           "linecolor": "white",
           "ticks": "",
           "zerolinecolor": "white",
           "zerolinewidth": 2
          }
         }
        }
       }
      },
      "text/html": [
       "<div>\n",
       "        \n",
       "        \n",
       "            <div id=\"953ac555-3706-4b87-8db2-8d46e336bf51\" class=\"plotly-graph-div\" style=\"height:525px; width:100%;\"></div>\n",
       "            <script type=\"text/javascript\">\n",
       "                require([\"plotly\"], function(Plotly) {\n",
       "                    window.PLOTLYENV=window.PLOTLYENV || {};\n",
       "                    \n",
       "                if (document.getElementById(\"953ac555-3706-4b87-8db2-8d46e336bf51\")) {\n",
       "                    Plotly.newPlot(\n",
       "                        '953ac555-3706-4b87-8db2-8d46e336bf51',\n",
       "                        [{\"mode\": \"lines+markers\", \"name\": \"tp\", \"type\": \"scatter\", \"x\": [0.0, 0.0, 0.01026694045174538, 0.010453612096322569, 0.010826955385476946, 0.011200298674631324, 0.011946985252940079, 0.013253686764980399, 0.014187044987866344, 0.01754713459025574, 0.018107149523987308, 0.018853836102296063, 0.02072055254806795, 0.022400597349262648, 0.023147283927571403, 0.0315475079335449, 0.034534254246779916, 0.03864103042747807, 0.09053574761993653, 0.10509613589695725, 0.14616389770393878, 0.1706178831435505, 0.20253873436624978, 0.3658764233712899, 0.530147470599216, 1.0], \"y\": [0.0, 0.011562849682954122, 0.9604625139873182, 0.9634464751958225, 0.9679224170085788, 0.969787392763894, 0.9727713539723983, 0.9768743006340918, 0.9787392763894069, 0.9835882133532264, 0.9843342036553525, 0.9850801939574786, 0.9865721745617307, 0.9876911600149199, 0.9880641551659829, 0.9914211115255501, 0.9921671018276762, 0.9929130921298023, 0.9962700484893696, 0.9970160387914957, 0.9985080193957478, 0.9988810145468109, 0.9992540096978739, 0.999627004848937, 1.0, 1.0]}, {\"mode\": \"lines+markers\", \"name\": \"fp\", \"type\": \"scatter\", \"x\": [0.0, 0.0, 0.01026694045174538, 0.010453612096322569, 0.010826955385476946, 0.011200298674631324, 0.011946985252940079, 0.013253686764980399, 0.014187044987866344, 0.01754713459025574, 0.018107149523987308, 0.018853836102296063, 0.02072055254806795, 0.022400597349262648, 0.023147283927571403, 0.0315475079335449, 0.034534254246779916, 0.03864103042747807, 0.09053574761993653, 0.10509613589695725, 0.14616389770393878, 0.1706178831435505, 0.20253873436624978, 0.3658764233712899, 0.530147470599216, 1.0], \"y\": [0.0, 0.0, 0.01026694045174538, 0.010453612096322569, 0.010826955385476946, 0.011200298674631324, 0.011946985252940079, 0.013253686764980399, 0.014187044987866344, 0.01754713459025574, 0.018107149523987308, 0.018853836102296063, 0.02072055254806795, 0.022400597349262648, 0.023147283927571403, 0.0315475079335449, 0.034534254246779916, 0.03864103042747807, 0.09053574761993653, 0.10509613589695725, 0.14616389770393878, 0.1706178831435505, 0.20253873436624978, 0.3658764233712899, 0.530147470599216, 1.0]}],\n",
       "                        {\"template\": {\"data\": {\"bar\": [{\"error_x\": {\"color\": \"#2a3f5f\"}, \"error_y\": {\"color\": \"#2a3f5f\"}, \"marker\": {\"line\": {\"color\": \"#E5ECF6\", \"width\": 0.5}}, \"type\": \"bar\"}], \"barpolar\": [{\"marker\": {\"line\": {\"color\": \"#E5ECF6\", \"width\": 0.5}}, \"type\": \"barpolar\"}], \"carpet\": [{\"aaxis\": {\"endlinecolor\": \"#2a3f5f\", \"gridcolor\": \"white\", \"linecolor\": \"white\", \"minorgridcolor\": \"white\", \"startlinecolor\": \"#2a3f5f\"}, \"baxis\": {\"endlinecolor\": \"#2a3f5f\", \"gridcolor\": \"white\", \"linecolor\": \"white\", \"minorgridcolor\": \"white\", \"startlinecolor\": \"#2a3f5f\"}, \"type\": \"carpet\"}], \"choropleth\": [{\"colorbar\": {\"outlinewidth\": 0, \"ticks\": \"\"}, \"type\": \"choropleth\"}], \"contour\": [{\"colorbar\": {\"outlinewidth\": 0, \"ticks\": \"\"}, \"colorscale\": [[0.0, \"#0d0887\"], [0.1111111111111111, \"#46039f\"], [0.2222222222222222, \"#7201a8\"], [0.3333333333333333, \"#9c179e\"], [0.4444444444444444, \"#bd3786\"], [0.5555555555555556, \"#d8576b\"], [0.6666666666666666, \"#ed7953\"], [0.7777777777777778, \"#fb9f3a\"], [0.8888888888888888, \"#fdca26\"], [1.0, \"#f0f921\"]], \"type\": \"contour\"}], \"contourcarpet\": [{\"colorbar\": {\"outlinewidth\": 0, \"ticks\": \"\"}, \"type\": \"contourcarpet\"}], \"heatmap\": [{\"colorbar\": {\"outlinewidth\": 0, \"ticks\": \"\"}, \"colorscale\": [[0.0, \"#0d0887\"], [0.1111111111111111, \"#46039f\"], [0.2222222222222222, \"#7201a8\"], [0.3333333333333333, \"#9c179e\"], [0.4444444444444444, \"#bd3786\"], [0.5555555555555556, \"#d8576b\"], [0.6666666666666666, \"#ed7953\"], [0.7777777777777778, \"#fb9f3a\"], [0.8888888888888888, \"#fdca26\"], [1.0, \"#f0f921\"]], \"type\": \"heatmap\"}], \"heatmapgl\": [{\"colorbar\": {\"outlinewidth\": 0, \"ticks\": \"\"}, \"colorscale\": [[0.0, \"#0d0887\"], [0.1111111111111111, \"#46039f\"], [0.2222222222222222, \"#7201a8\"], [0.3333333333333333, \"#9c179e\"], [0.4444444444444444, \"#bd3786\"], [0.5555555555555556, \"#d8576b\"], [0.6666666666666666, \"#ed7953\"], [0.7777777777777778, \"#fb9f3a\"], [0.8888888888888888, \"#fdca26\"], [1.0, \"#f0f921\"]], \"type\": \"heatmapgl\"}], \"histogram\": [{\"marker\": {\"colorbar\": {\"outlinewidth\": 0, \"ticks\": \"\"}}, \"type\": \"histogram\"}], \"histogram2d\": [{\"colorbar\": {\"outlinewidth\": 0, \"ticks\": \"\"}, \"colorscale\": [[0.0, \"#0d0887\"], [0.1111111111111111, \"#46039f\"], [0.2222222222222222, \"#7201a8\"], [0.3333333333333333, \"#9c179e\"], [0.4444444444444444, \"#bd3786\"], [0.5555555555555556, \"#d8576b\"], [0.6666666666666666, \"#ed7953\"], [0.7777777777777778, \"#fb9f3a\"], [0.8888888888888888, \"#fdca26\"], [1.0, \"#f0f921\"]], \"type\": \"histogram2d\"}], \"histogram2dcontour\": [{\"colorbar\": {\"outlinewidth\": 0, \"ticks\": \"\"}, \"colorscale\": [[0.0, \"#0d0887\"], [0.1111111111111111, \"#46039f\"], [0.2222222222222222, \"#7201a8\"], [0.3333333333333333, \"#9c179e\"], [0.4444444444444444, \"#bd3786\"], [0.5555555555555556, \"#d8576b\"], [0.6666666666666666, \"#ed7953\"], [0.7777777777777778, \"#fb9f3a\"], [0.8888888888888888, \"#fdca26\"], [1.0, \"#f0f921\"]], \"type\": \"histogram2dcontour\"}], \"mesh3d\": [{\"colorbar\": {\"outlinewidth\": 0, \"ticks\": \"\"}, \"type\": \"mesh3d\"}], \"parcoords\": [{\"line\": {\"colorbar\": {\"outlinewidth\": 0, \"ticks\": \"\"}}, \"type\": \"parcoords\"}], \"scatter\": [{\"marker\": {\"colorbar\": {\"outlinewidth\": 0, \"ticks\": \"\"}}, \"type\": \"scatter\"}], \"scatter3d\": [{\"line\": {\"colorbar\": {\"outlinewidth\": 0, \"ticks\": \"\"}}, \"marker\": {\"colorbar\": {\"outlinewidth\": 0, \"ticks\": \"\"}}, \"type\": \"scatter3d\"}], \"scattercarpet\": [{\"marker\": {\"colorbar\": {\"outlinewidth\": 0, \"ticks\": \"\"}}, \"type\": \"scattercarpet\"}], \"scattergeo\": [{\"marker\": {\"colorbar\": {\"outlinewidth\": 0, \"ticks\": \"\"}}, \"type\": \"scattergeo\"}], \"scattergl\": [{\"marker\": {\"colorbar\": {\"outlinewidth\": 0, \"ticks\": \"\"}}, \"type\": \"scattergl\"}], \"scattermapbox\": [{\"marker\": {\"colorbar\": {\"outlinewidth\": 0, \"ticks\": \"\"}}, \"type\": \"scattermapbox\"}], \"scatterpolar\": [{\"marker\": {\"colorbar\": {\"outlinewidth\": 0, \"ticks\": \"\"}}, \"type\": \"scatterpolar\"}], \"scatterpolargl\": [{\"marker\": {\"colorbar\": {\"outlinewidth\": 0, \"ticks\": \"\"}}, \"type\": \"scatterpolargl\"}], \"scatterternary\": [{\"marker\": {\"colorbar\": {\"outlinewidth\": 0, \"ticks\": \"\"}}, \"type\": \"scatterternary\"}], \"surface\": [{\"colorbar\": {\"outlinewidth\": 0, \"ticks\": \"\"}, \"colorscale\": [[0.0, \"#0d0887\"], [0.1111111111111111, \"#46039f\"], [0.2222222222222222, \"#7201a8\"], [0.3333333333333333, \"#9c179e\"], [0.4444444444444444, \"#bd3786\"], [0.5555555555555556, \"#d8576b\"], [0.6666666666666666, \"#ed7953\"], [0.7777777777777778, \"#fb9f3a\"], [0.8888888888888888, \"#fdca26\"], [1.0, \"#f0f921\"]], \"type\": \"surface\"}], \"table\": [{\"cells\": {\"fill\": {\"color\": \"#EBF0F8\"}, \"line\": {\"color\": \"white\"}}, \"header\": {\"fill\": {\"color\": \"#C8D4E3\"}, \"line\": {\"color\": \"white\"}}, \"type\": \"table\"}]}, \"layout\": {\"annotationdefaults\": {\"arrowcolor\": \"#2a3f5f\", \"arrowhead\": 0, \"arrowwidth\": 1}, \"colorscale\": {\"diverging\": [[0, \"#8e0152\"], [0.1, \"#c51b7d\"], [0.2, \"#de77ae\"], [0.3, \"#f1b6da\"], [0.4, \"#fde0ef\"], [0.5, \"#f7f7f7\"], [0.6, \"#e6f5d0\"], [0.7, \"#b8e186\"], [0.8, \"#7fbc41\"], [0.9, \"#4d9221\"], [1, \"#276419\"]], \"sequential\": [[0.0, \"#0d0887\"], [0.1111111111111111, \"#46039f\"], [0.2222222222222222, \"#7201a8\"], [0.3333333333333333, \"#9c179e\"], [0.4444444444444444, \"#bd3786\"], [0.5555555555555556, \"#d8576b\"], [0.6666666666666666, \"#ed7953\"], [0.7777777777777778, \"#fb9f3a\"], [0.8888888888888888, \"#fdca26\"], [1.0, \"#f0f921\"]], \"sequentialminus\": [[0.0, \"#0d0887\"], [0.1111111111111111, \"#46039f\"], [0.2222222222222222, \"#7201a8\"], [0.3333333333333333, \"#9c179e\"], [0.4444444444444444, \"#bd3786\"], [0.5555555555555556, \"#d8576b\"], [0.6666666666666666, \"#ed7953\"], [0.7777777777777778, \"#fb9f3a\"], [0.8888888888888888, \"#fdca26\"], [1.0, \"#f0f921\"]]}, \"colorway\": [\"#636efa\", \"#EF553B\", \"#00cc96\", \"#ab63fa\", \"#FFA15A\", \"#19d3f3\", \"#FF6692\", \"#B6E880\", \"#FF97FF\", \"#FECB52\"], \"font\": {\"color\": \"#2a3f5f\"}, \"geo\": {\"bgcolor\": \"white\", \"lakecolor\": \"white\", \"landcolor\": \"#E5ECF6\", \"showlakes\": true, \"showland\": true, \"subunitcolor\": \"white\"}, \"hoverlabel\": {\"align\": \"left\"}, \"hovermode\": \"closest\", \"mapbox\": {\"style\": \"light\"}, \"paper_bgcolor\": \"white\", \"plot_bgcolor\": \"#E5ECF6\", \"polar\": {\"angularaxis\": {\"gridcolor\": \"white\", \"linecolor\": \"white\", \"ticks\": \"\"}, \"bgcolor\": \"#E5ECF6\", \"radialaxis\": {\"gridcolor\": \"white\", \"linecolor\": \"white\", \"ticks\": \"\"}}, \"scene\": {\"xaxis\": {\"backgroundcolor\": \"#E5ECF6\", \"gridcolor\": \"white\", \"gridwidth\": 2, \"linecolor\": \"white\", \"showbackground\": true, \"ticks\": \"\", \"zerolinecolor\": \"white\"}, \"yaxis\": {\"backgroundcolor\": \"#E5ECF6\", \"gridcolor\": \"white\", \"gridwidth\": 2, \"linecolor\": \"white\", \"showbackground\": true, \"ticks\": \"\", \"zerolinecolor\": \"white\"}, \"zaxis\": {\"backgroundcolor\": \"#E5ECF6\", \"gridcolor\": \"white\", \"gridwidth\": 2, \"linecolor\": \"white\", \"showbackground\": true, \"ticks\": \"\", \"zerolinecolor\": \"white\"}}, \"shapedefaults\": {\"line\": {\"color\": \"#2a3f5f\"}}, \"ternary\": {\"aaxis\": {\"gridcolor\": \"white\", \"linecolor\": \"white\", \"ticks\": \"\"}, \"baxis\": {\"gridcolor\": \"white\", \"linecolor\": \"white\", \"ticks\": \"\"}, \"bgcolor\": \"#E5ECF6\", \"caxis\": {\"gridcolor\": \"white\", \"linecolor\": \"white\", \"ticks\": \"\"}}, \"title\": {\"x\": 0.05}, \"xaxis\": {\"automargin\": true, \"gridcolor\": \"white\", \"linecolor\": \"white\", \"ticks\": \"\", \"zerolinecolor\": \"white\", \"zerolinewidth\": 2}, \"yaxis\": {\"automargin\": true, \"gridcolor\": \"white\", \"linecolor\": \"white\", \"ticks\": \"\", \"zerolinecolor\": \"white\", \"zerolinewidth\": 2}}}},\n",
       "                        {\"responsive\": true}\n",
       "                    ).then(function(){\n",
       "                            \n",
       "var gd = document.getElementById('953ac555-3706-4b87-8db2-8d46e336bf51');\n",
       "var x = new MutationObserver(function (mutations, observer) {{\n",
       "        var display = window.getComputedStyle(gd).display;\n",
       "        if (!display || display === 'none') {{\n",
       "            console.log([gd, 'removed!']);\n",
       "            Plotly.purge(gd);\n",
       "            observer.disconnect();\n",
       "        }}\n",
       "}});\n",
       "\n",
       "// Listen for the removal of the full notebook cells\n",
       "var notebookContainer = gd.closest('#notebook-container');\n",
       "if (notebookContainer) {{\n",
       "    x.observe(notebookContainer, {childList: true});\n",
       "}}\n",
       "\n",
       "// Listen for the clearing of the current output cell\n",
       "var outputEl = gd.closest('.output');\n",
       "if (outputEl) {{\n",
       "    x.observe(outputEl, {childList: true});\n",
       "}}\n",
       "\n",
       "                        })\n",
       "                };\n",
       "                });\n",
       "            </script>\n",
       "        </div>"
      ]
     },
     "metadata": {},
     "output_type": "display_data"
    }
   ],
   "source": [
    "# 训练集\n",
    "pred, prob = predict_cart(adt, X_train)\n",
    "eval_ret = classifier_evaluate(y_train, pred)\n",
    "print(eval_ret)\n",
    "\n",
    "fpr, tpr, thresholds = roc_curve(y_train, prob)\n",
    "roc_auc = auc(fpr, tpr)\n",
    "print(f'auc{roc_auc}')\n",
    "draw_lines(fpr, [tpr, fpr], ['tp', 'fp'])"
   ]
  },
  {
   "cell_type": "code",
   "execution_count": null,
   "metadata": {},
   "outputs": [],
   "source": []
  }
 ],
 "metadata": {
  "kernelspec": {
   "display_name": "Python 3",
   "language": "python",
   "name": "python3"
  },
  "language_info": {
   "codemirror_mode": {
    "name": "ipython",
    "version": 3
   },
   "file_extension": ".py",
   "mimetype": "text/x-python",
   "name": "python",
   "nbconvert_exporter": "python",
   "pygments_lexer": "ipython3",
   "version": "3.7.3"
  }
 },
 "nbformat": 4,
 "nbformat_minor": 2
}
