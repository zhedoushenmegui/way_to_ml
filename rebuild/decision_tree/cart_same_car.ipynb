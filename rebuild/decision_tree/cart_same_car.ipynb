{
 "cells": [
  {
   "cell_type": "code",
   "execution_count": 128,
   "metadata": {},
   "outputs": [],
   "source": [
    "import numpy as np\n",
    "import pandas as pd\n",
    "import math\n",
    "from sklearn.model_selection import train_test_split\n",
    "import os\n",
    "project_path = os.path.abspath(os.path.join(os.path.dirname(os.path.abspath('.')), '../'))\n",
    "import sys\n",
    "sys.path.append(project_path)\n",
    "from util.visualization import draw_lines\n",
    "from util.visualization import draw_scatters\n",
    "from util.evaluate_process import classifier_evaluate\n",
    "from collections import Counter\n",
    "from sklearn.metrics import auc, roc_curve"
   ]
  },
  {
   "cell_type": "code",
   "execution_count": 2,
   "metadata": {},
   "outputs": [],
   "source": [
    "df = pd.read_csv('../../data/preprocessed.samecar.csv')"
   ]
  },
  {
   "cell_type": "code",
   "execution_count": 3,
   "metadata": {},
   "outputs": [],
   "source": [
    "feats = [\n",
    "    'colorp1', 'colorp2', \n",
    "    'fuel_typep1', 'fuel_typep2','displacement_standard1', 'displacement_standard2',\n",
    "    'gearboxp1', 'gearboxp2', 'displacement_diff', 'displacement_diff_sparse',\n",
    "    'mile_diff', 'mile_diff_sparse', 'mile_diff_rate', 'mile_diff_rate_sparse',\n",
    "    'year_diff', 'year_diff_sparse', 'licensed_city_diff_sparse', 'title_diff', \n",
    "    'title_diff_sparse', 'register_time_diff', 'register_time_diff_sparse',\n",
    "    'is_import_diff_sparse', 'transfer_times_diff', 'transfer_times_diff_sparse'\n",
    "]\n",
    "# 只保留离散特征\n",
    "sparse_feats = [\n",
    "    'colorp1', 'colorp2', \n",
    "    'fuel_typep1', 'fuel_typep2','displacement_standard1', 'displacement_standard2',\n",
    "    'gearboxp1', 'gearboxp2', 'displacement_diff_sparse',\n",
    "    'mile_diff_sparse', 'mile_diff_rate_sparse',\n",
    "    'year_diff_sparse', 'licensed_city_diff_sparse', \n",
    "    'title_diff_sparse', 'register_time_diff_sparse',\n",
    "    'is_import_diff_sparse', 'transfer_times_diff_sparse'\n",
    "]"
   ]
  },
  {
   "cell_type": "code",
   "execution_count": 4,
   "metadata": {},
   "outputs": [
    {
     "data": {
      "text/plain": [
       "(8038, 2680)"
      ]
     },
     "execution_count": 4,
     "metadata": {},
     "output_type": "execute_result"
    }
   ],
   "source": [
    "rdf = df[sparse_feats]\n",
    "X_train, X_test, y_train, y_test = train_test_split(rdf, df.is_same, test_size=0.25, random_state=10)\n",
    "len(X_train), len(X_test)"
   ]
  },
  {
   "cell_type": "code",
   "execution_count": 70,
   "metadata": {},
   "outputs": [],
   "source": [
    "# 计算信息熵\n",
    "def cal_entropy(data):\n",
    "    if len(data) == 0:\n",
    "        return 0\n",
    "    c = Counter(data)\n",
    "    l = len(data)\n",
    "    return -sum([c.get(k)/l * math.log2(c.get(k)/l) for k in c])\n",
    "    "
   ]
  },
  {
   "cell_type": "code",
   "execution_count": 181,
   "metadata": {},
   "outputs": [],
   "source": [
    "def gen_tree(df, depth=0, min_samples_split=6, max_depth=10, condition='-', min_gain_split=0.001):\n",
    "    ori_entropy = cal_entropy(df.target)\n",
    "    size = len(df)\n",
    "    ret = {\n",
    "            'ent': ori_entropy,\n",
    "            'size': size,\n",
    "            'tags': dict(Counter(df.target)),\n",
    "            'depth': depth\n",
    "    }\n",
    "    if size < min_samples_split:\n",
    "        # 这个节点数量太少, 不应该分裂\n",
    "        ret['reason'] = 'less than min_samples_split'\n",
    "        return ret\n",
    "    if depth >= max_depth:\n",
    "        # 太深了, 停止分裂\n",
    "        ret['reason'] = 'to deep'\n",
    "        return ret\n",
    "    ###\n",
    "    best_ent_gain = ori_entropy\n",
    "    best_key = None\n",
    "    ###\n",
    "    for k in df.columns:\n",
    "        if k == 'target':\n",
    "            continue\n",
    "        sum_ent = sum([cal_entropy(df[df[k] == v].target) for v in set(df[k])])\n",
    "        ent_gain = ori_entropy - sum_ent\n",
    "        if best_key is None or ent_gain > best_ent_gain:\n",
    "            best_key = k\n",
    "            best_ent_gain = ent_gain\n",
    "    ###\n",
    "    ret['ent_gain'] = best_ent_gain\n",
    "    ret['key'] = best_key\n",
    "    ###\n",
    "    if best_ent_gain ==0: #< min_gain_split:\n",
    "        # 提升太小, 停止分裂\n",
    "        # 这里应该是小于 min_gain_split, 但是id 这个算法很快就停止了, 效果非常差\n",
    "        # 这里可以牺牲gain, 来换来效果提升\n",
    "        ret['reason'] = 'gain too small'\n",
    "        return ret\n",
    "    key_counter = dict(Counter(df[best_key]))\n",
    "    ret['leaf num'] = key_counter\n",
    "    ret['trees'] = {}\n",
    "    ###\n",
    "    for v in key_counter.keys():\n",
    "        ret['trees'][v] = gen_tree(df[df[best_key] == v].drop(best_key, axis=1), depth=depth+1, condition=f'{best_key}={v}')\n",
    "    return ret"
   ]
  },
  {
   "cell_type": "code",
   "execution_count": 182,
   "metadata": {
    "scrolled": true
   },
   "outputs": [
    {
     "data": {
      "text/plain": [
       "{'ent': 0.9185030429380243,\n",
       " 'size': 8038,\n",
       " 'tags': {0: 5357, 1: 2681},\n",
       " 'depth': 0,\n",
       " 'ent_gain': -0.17425739201674895,\n",
       " 'key': 'gearboxp1',\n",
       " 'leaf num': {-1: 5198, 1: 2840},\n",
       " 'trees': {-1: {'ent': 0.38441612831796285,\n",
       "   'size': 5198,\n",
       "   'tags': {0: 4808, 1: 390},\n",
       "   'depth': 1,\n",
       "   'ent_gain': 0.0019677869967467676,\n",
       "   'key': 'mile_diff_sparse',\n",
       "   'leaf num': {1.0: 1604, 2.0: 320, 0.0: 3271, 0.5: 3},\n",
       "   'trees': {1.0: {'ent': 0.2389664987991978,\n",
       "     'size': 1604,\n",
       "     'tags': {0: 1541, 1: 63},\n",
       "     'depth': 2,\n",
       "     'ent_gain': 0.0,\n",
       "     'key': 'fuel_typep1',\n",
       "     'reason': 'gain too small'},\n",
       "    2.0: {'ent': 0.11611507530476972,\n",
       "     'size': 320,\n",
       "     'tags': {1: 315, 0: 5},\n",
       "     'depth': 2,\n",
       "     'ent_gain': 0.0,\n",
       "     'key': 'fuel_typep1',\n",
       "     'reason': 'gain too small'},\n",
       "    0.0: {'ent': 0.027366767217248577,\n",
       "     'size': 3271,\n",
       "     'tags': {0: 3262, 1: 9},\n",
       "     'depth': 2,\n",
       "     'ent_gain': 0.0,\n",
       "     'key': 'fuel_typep1',\n",
       "     'reason': 'gain too small'},\n",
       "    0.5: {'ent': -0.0,\n",
       "     'size': 3,\n",
       "     'tags': {1: 3},\n",
       "     'depth': 2,\n",
       "     'reason': 'less than min_samples_split'}}},\n",
       "  1: {'ent': 0.7083443066368105,\n",
       "   'size': 2840,\n",
       "   'tags': {1: 2291, 0: 549},\n",
       "   'depth': 1,\n",
       "   'ent_gain': -0.3480375552015391,\n",
       "   'key': 'is_import_diff_sparse',\n",
       "   'leaf num': {2.0: 2809, 0.0: 31},\n",
       "   'trees': {2.0: {'ent': 0.7112645468933965,\n",
       "     'size': 2809,\n",
       "     'tags': {1: 2262, 0: 547},\n",
       "     'depth': 2,\n",
       "     'ent_gain': -0.5882710499978667,\n",
       "     'key': 'gearboxp2',\n",
       "     'leaf num': {1: 2802, -1: 7},\n",
       "     'trees': {1: {'ent': 0.7078628183089358,\n",
       "       'size': 2802,\n",
       "       'tags': {1: 2261, 0: 541},\n",
       "       'depth': 3,\n",
       "       'ent_gain': -0.6944066513909312,\n",
       "       'key': 'mile_diff_rate_sparse',\n",
       "       'leaf num': {1.0: 1556, 2.0: 984, 0.0: 262},\n",
       "       'trees': {1.0: {'ent': 0.696552028219596,\n",
       "         'size': 1556,\n",
       "         'tags': {1: 1264, 0: 292},\n",
       "         'depth': 4,\n",
       "         'ent_gain': -0.7379763395541623,\n",
       "         'key': 'mile_diff_sparse',\n",
       "         'leaf num': {1.0: 1542, 0.0: 14},\n",
       "         'trees': {1.0: {'ent': 0.6849331105142785,\n",
       "           'size': 1542,\n",
       "           'tags': {1: 1261, 0: 281},\n",
       "           'depth': 5,\n",
       "           'ent_gain': -0.6840513727689582,\n",
       "           'key': 'year_diff_sparse',\n",
       "           'leaf num': {2.0: 1520, 0.0: 22},\n",
       "           'trees': {2.0: {'ent': 0.6849460476441952,\n",
       "             'size': 1520,\n",
       "             'tags': {1: 1243, 0: 277},\n",
       "             'depth': 6,\n",
       "             'ent_gain': -1.0679930198075125,\n",
       "             'key': 'register_time_diff_sparse',\n",
       "             'leaf num': {2.0: 1258, 0.5: 48, 0.0: 95, 1.0: 119},\n",
       "             'trees': {2.0: {'ent': 0.2337717617675377,\n",
       "               'size': 1258,\n",
       "               'tags': {1: 1210, 0: 48},\n",
       "               'depth': 7,\n",
       "               'ent_gain': -0.1483989405325726,\n",
       "               'key': 'displacement_diff_sparse',\n",
       "               'leaf num': {2.0: 1092, 0.5: 160, 0.0: 6},\n",
       "               'trees': {2.0: {'ent': 0.2478072641511786,\n",
       "                 'size': 1092,\n",
       "                 'tags': {1: 1047, 0: 45},\n",
       "                 'depth': 8,\n",
       "                 'ent_gain': -0.0036567000877114064,\n",
       "                 'key': 'fuel_typep1',\n",
       "                 'leaf num': {2: 1071, 7: 20, 5: 1},\n",
       "                 'trees': {2: {'ent': 0.25146396423889,\n",
       "                   'size': 1071,\n",
       "                   'tags': {1: 1026, 0: 45},\n",
       "                   'depth': 9,\n",
       "                   'ent_gain': -0.4940793650442041,\n",
       "                   'key': 'displacement_standard1',\n",
       "                   'leaf num': {4: 676, 3: 276, 2: 92, 5: 21, 1: 6},\n",
       "                   'trees': {4: {'ent': 0.24876591603536516,\n",
       "                     'size': 676,\n",
       "                     'tags': {1: 648, 0: 28},\n",
       "                     'depth': 10,\n",
       "                     'reason': 'to deep'},\n",
       "                    3: {'ent': 0.28946722738824715,\n",
       "                     'size': 276,\n",
       "                     'tags': {1: 262, 0: 14},\n",
       "                     'depth': 10,\n",
       "                     'reason': 'to deep'},\n",
       "                    2: {'ent': 0.20731018585948174,\n",
       "                     'size': 92,\n",
       "                     'tags': {1: 89, 0: 3},\n",
       "                     'depth': 10,\n",
       "                     'reason': 'to deep'},\n",
       "                    5: {'ent': -0.0,\n",
       "                     'size': 21,\n",
       "                     'tags': {1: 21},\n",
       "                     'depth': 10,\n",
       "                     'reason': 'to deep'},\n",
       "                    1: {'ent': -0.0,\n",
       "                     'size': 6,\n",
       "                     'tags': {1: 6},\n",
       "                     'depth': 10,\n",
       "                     'reason': 'to deep'}}},\n",
       "                  7: {'ent': -0.0,\n",
       "                   'size': 20,\n",
       "                   'tags': {1: 20},\n",
       "                   'depth': 9,\n",
       "                   'ent_gain': -0.0,\n",
       "                   'key': 'colorp1',\n",
       "                   'reason': 'gain too small'},\n",
       "                  5: {'ent': -0.0,\n",
       "                   'size': 1,\n",
       "                   'tags': {1: 1},\n",
       "                   'depth': 9,\n",
       "                   'reason': 'less than min_samples_split'}}},\n",
       "                0.5: {'ent': 0.13436343814893173,\n",
       "                 'size': 160,\n",
       "                 'tags': {1: 157, 0: 3},\n",
       "                 'depth': 8,\n",
       "                 'ent_gain': -0.002040656161941906,\n",
       "                 'key': 'licensed_city_diff_sparse',\n",
       "                 'leaf num': {2.0: 157, 0.5: 1, 0.0: 2},\n",
       "                 'trees': {2.0: {'ent': 0.13640409431087364,\n",
       "                   'size': 157,\n",
       "                   'tags': {1: 154, 0: 3},\n",
       "                   'depth': 9,\n",
       "                   'ent_gain': -0.009690155809262663,\n",
       "                   'key': 'transfer_times_diff_sparse',\n",
       "                   'leaf num': {2: 144, 0: 4, 1: 9},\n",
       "                   'trees': {2: {'ent': 0.1460942501201363,\n",
       "                     'size': 144,\n",
       "                     'tags': {1: 141, 0: 3},\n",
       "                     'depth': 10,\n",
       "                     'reason': 'to deep'},\n",
       "                    0: {'ent': -0.0,\n",
       "                     'size': 4,\n",
       "                     'tags': {1: 4},\n",
       "                     'depth': 10,\n",
       "                     'reason': 'less than min_samples_split'},\n",
       "                    1: {'ent': -0.0,\n",
       "                     'size': 9,\n",
       "                     'tags': {1: 9},\n",
       "                     'depth': 10,\n",
       "                     'reason': 'to deep'}}},\n",
       "                  0.5: {'ent': -0.0,\n",
       "                   'size': 1,\n",
       "                   'tags': {1: 1},\n",
       "                   'depth': 9,\n",
       "                   'reason': 'less than min_samples_split'},\n",
       "                  0.0: {'ent': -0.0,\n",
       "                   'size': 2,\n",
       "                   'tags': {1: 2},\n",
       "                   'depth': 9,\n",
       "                   'reason': 'less than min_samples_split'}}},\n",
       "                0.0: {'ent': -0.0,\n",
       "                 'size': 6,\n",
       "                 'tags': {1: 6},\n",
       "                 'depth': 8,\n",
       "                 'ent_gain': -0.0,\n",
       "                 'key': 'colorp1',\n",
       "                 'reason': 'gain too small'}}},\n",
       "              0.5: {'ent': 0.41381685030363374,\n",
       "               'size': 48,\n",
       "               'tags': {0: 44, 1: 4},\n",
       "               'depth': 7,\n",
       "               'ent_gain': 0.0,\n",
       "               'key': 'fuel_typep1',\n",
       "               'reason': 'gain too small'},\n",
       "              0.0: {'ent': 0.4520861986745137,\n",
       "               'size': 95,\n",
       "               'tags': {0: 86, 1: 9},\n",
       "               'depth': 7,\n",
       "               'ent_gain': -0.02046102325851551,\n",
       "               'key': 'displacement_diff_sparse',\n",
       "               'leaf num': {2.0: 89, 0.5: 6},\n",
       "               'trees': {2.0: {'ent': 0.4725472219330292,\n",
       "                 'size': 89,\n",
       "                 'tags': {0: 80, 1: 9},\n",
       "                 'depth': 8,\n",
       "                 'ent_gain': 0.029588543394543865,\n",
       "                 'key': 'fuel_typep1',\n",
       "                 'leaf num': {2: 87, 7: 1, 4: 1},\n",
       "                 'trees': {2: {'ent': 0.44295867853848536,\n",
       "                   'size': 87,\n",
       "                   'tags': {0: 79, 1: 8},\n",
       "                   'depth': 9,\n",
       "                   'ent_gain': -0.022111166343160904,\n",
       "                   'key': 'fuel_typep2',\n",
       "                   'leaf num': {2: 81, -1: 4, 7: 1, 3: 1},\n",
       "                   'trees': {2: {'ent': 0.46506984488164627,\n",
       "                     'size': 81,\n",
       "                     'tags': {0: 73, 1: 8},\n",
       "                     'depth': 10,\n",
       "                     'reason': 'to deep'},\n",
       "                    -1: {'ent': -0.0,\n",
       "                     'size': 4,\n",
       "                     'tags': {0: 4},\n",
       "                     'depth': 10,\n",
       "                     'reason': 'less than min_samples_split'},\n",
       "                    7: {'ent': -0.0,\n",
       "                     'size': 1,\n",
       "                     'tags': {0: 1},\n",
       "                     'depth': 10,\n",
       "                     'reason': 'less than min_samples_split'},\n",
       "                    3: {'ent': -0.0,\n",
       "                     'size': 1,\n",
       "                     'tags': {0: 1},\n",
       "                     'depth': 10,\n",
       "                     'reason': 'less than min_samples_split'}}},\n",
       "                  7: {'ent': -0.0,\n",
       "                   'size': 1,\n",
       "                   'tags': {1: 1},\n",
       "                   'depth': 9,\n",
       "                   'reason': 'less than min_samples_split'},\n",
       "                  4: {'ent': -0.0,\n",
       "                   'size': 1,\n",
       "                   'tags': {0: 1},\n",
       "                   'depth': 9,\n",
       "                   'reason': 'less than min_samples_split'}}},\n",
       "                0.5: {'ent': -0.0,\n",
       "                 'size': 6,\n",
       "                 'tags': {0: 6},\n",
       "                 'depth': 8,\n",
       "                 'ent_gain': -0.0,\n",
       "                 'key': 'colorp1',\n",
       "                 'reason': 'gain too small'}}},\n",
       "              1.0: {'ent': 0.6532642567060225,\n",
       "               'size': 119,\n",
       "               'tags': {0: 99, 1: 20},\n",
       "               'depth': 7,\n",
       "               'ent_gain': -0.006586722792778277,\n",
       "               'key': 'fuel_typep1',\n",
       "               'leaf num': {2: 117, 7: 2},\n",
       "               'trees': {2: {'ent': 0.6598509794988008,\n",
       "                 'size': 117,\n",
       "                 'tags': {0: 97, 1: 20},\n",
       "                 'depth': 8,\n",
       "                 'ent_gain': -0.5033962279077948,\n",
       "                 'key': 'title_diff_sparse',\n",
       "                 'leaf num': {1.0: 35, 2.0: 81, 0.0: 1},\n",
       "                 'trees': {1.0: {'ent': 0.4220005168831531,\n",
       "                   'size': 35,\n",
       "                   'tags': {0: 32, 1: 3},\n",
       "                   'depth': 9,\n",
       "                   'ent_gain': -0.03668529931738718,\n",
       "                   'key': 'licensed_city_diff_sparse',\n",
       "                   'leaf num': {2.0: 31, 0.0: 4},\n",
       "                   'trees': {2.0: {'ent': 0.4586858162005403,\n",
       "                     'size': 31,\n",
       "                     'tags': {0: 28, 1: 3},\n",
       "                     'depth': 10,\n",
       "                     'reason': 'to deep'},\n",
       "                    0.0: {'ent': -0.0,\n",
       "                     'size': 4,\n",
       "                     'tags': {0: 4},\n",
       "                     'depth': 10,\n",
       "                     'reason': 'less than min_samples_split'}}},\n",
       "                  2.0: {'ent': 0.7412466905234424,\n",
       "                   'size': 81,\n",
       "                   'tags': {0: 64, 1: 17},\n",
       "                   'depth': 9,\n",
       "                   'ent_gain': -0.3699911070363745,\n",
       "                   'key': 'fuel_typep2',\n",
       "                   'leaf num': {2: 64, -1: 15, 7: 2},\n",
       "                   'trees': {2: {'ent': 0.7578784625383954,\n",
       "                     'size': 64,\n",
       "                     'tags': {0: 50, 1: 14},\n",
       "                     'depth': 10,\n",
       "                     'reason': 'to deep'},\n",
       "                    -1: {'ent': 0.35335933502142136,\n",
       "                     'size': 15,\n",
       "                     'tags': {0: 14, 1: 1},\n",
       "                     'depth': 10,\n",
       "                     'reason': 'to deep'},\n",
       "                    7: {'ent': -0.0,\n",
       "                     'size': 2,\n",
       "                     'tags': {1: 2},\n",
       "                     'depth': 10,\n",
       "                     'reason': 'less than min_samples_split'}}},\n",
       "                  0.0: {'ent': -0.0,\n",
       "                   'size': 1,\n",
       "                   'tags': {0: 1},\n",
       "                   'depth': 9,\n",
       "                   'reason': 'less than min_samples_split'}}},\n",
       "                7: {'ent': -0.0,\n",
       "                 'size': 2,\n",
       "                 'tags': {0: 2},\n",
       "                 'depth': 8,\n",
       "                 'reason': 'less than min_samples_split'}}}}},\n",
       "            0.0: {'ent': 0.6840384356390417,\n",
       "             'size': 22,\n",
       "             'tags': {1: 18, 0: 4},\n",
       "             'depth': 6,\n",
       "             'ent_gain': 0.21504284204976043,\n",
       "             'key': 'displacement_diff_sparse',\n",
       "             'leaf num': {2.0: 20, 0.5: 2},\n",
       "             'trees': {2.0: {'ent': 0.4689955935892812,\n",
       "               'size': 20,\n",
       "               'tags': {1: 18, 0: 2},\n",
       "               'depth': 7,\n",
       "               'ent_gain': 0.0,\n",
       "               'key': 'fuel_typep1',\n",
       "               'reason': 'gain too small'},\n",
       "              0.5: {'ent': -0.0,\n",
       "               'size': 2,\n",
       "               'tags': {0: 2},\n",
       "               'depth': 7,\n",
       "               'reason': 'less than min_samples_split'}}}}},\n",
       "          0.0: {'ent': 0.74959525725948,\n",
       "           'size': 14,\n",
       "           'tags': {1: 3, 0: 11},\n",
       "           'depth': 5,\n",
       "           'ent_gain': 0.0,\n",
       "           'key': 'fuel_typep1',\n",
       "           'reason': 'gain too small'}}},\n",
       "        2.0: {'ent': 0.14890764540874674,\n",
       "         'size': 984,\n",
       "         'tags': {1: 963, 0: 21},\n",
       "         'depth': 4,\n",
       "         'ent_gain': 0.0,\n",
       "         'key': 'mile_diff_sparse',\n",
       "         'reason': 'gain too small'},\n",
       "        0.0: {'ent': 0.5568097960715241,\n",
       "         'size': 262,\n",
       "         'tags': {1: 34, 0: 228},\n",
       "         'depth': 4,\n",
       "         'ent_gain': -0.006890962131149703,\n",
       "         'key': 'year_diff_sparse',\n",
       "         'leaf num': {2.0: 257, 0.0: 5},\n",
       "         'trees': {2.0: {'ent': 0.5637007582026738,\n",
       "           'size': 257,\n",
       "           'tags': {1: 34, 0: 223},\n",
       "           'depth': 5,\n",
       "           'ent_gain': -0.4506840556261218,\n",
       "           'key': 'licensed_city_diff_sparse',\n",
       "           'leaf num': {2.0: 167, 0.0: 54, 0.5: 36},\n",
       "           'trees': {2.0: {'ent': 0.7048413846784705,\n",
       "             'size': 167,\n",
       "             'tags': {1: 32, 0: 135},\n",
       "             'depth': 6,\n",
       "             'ent_gain': -0.6371492380161623,\n",
       "             'key': 'title_diff_sparse',\n",
       "             'leaf num': {2.0: 110, 1.0: 57},\n",
       "             'trees': {2.0: {'ent': 0.7568336324184035,\n",
       "               'size': 110,\n",
       "               'tags': {1: 24, 0: 86},\n",
       "               'depth': 7,\n",
       "               'ent_gain': 0.013426315840483816,\n",
       "               'key': 'fuel_typep1',\n",
       "               'leaf num': {2: 109, 7: 1},\n",
       "               'trees': {2: {'ent': 0.7434073165779197,\n",
       "                 'size': 109,\n",
       "                 'tags': {1: 23, 0: 86},\n",
       "                 'depth': 8,\n",
       "                 'ent_gain': -0.6549083910529233,\n",
       "                 'key': 'displacement_diff_sparse',\n",
       "                 'leaf num': {2.0: 103, 0.5: 6},\n",
       "                 'trees': {2.0: {'ent': 0.7482932859824888,\n",
       "                   'size': 103,\n",
       "                   'tags': {1: 22, 0: 81},\n",
       "                   'depth': 9,\n",
       "                   'ent_gain': -0.7491081296082237,\n",
       "                   'key': 'mile_diff_sparse',\n",
       "                   'leaf num': {1.0: 28, 0.0: 75},\n",
       "                   'trees': {1.0: {'ent': 0.74959525725948,\n",
       "                     'size': 28,\n",
       "                     'tags': {1: 6, 0: 22},\n",
       "                     'depth': 10,\n",
       "                     'reason': 'to deep'},\n",
       "                    0.0: {'ent': 0.7478061583312325,\n",
       "                     'size': 75,\n",
       "                     'tags': {0: 59, 1: 16},\n",
       "                     'depth': 10,\n",
       "                     'reason': 'to deep'}}},\n",
       "                  0.5: {'ent': 0.6500224216483541,\n",
       "                   'size': 6,\n",
       "                   'tags': {0: 5, 1: 1},\n",
       "                   'depth': 9,\n",
       "                   'ent_gain': 0.6500224216483541,\n",
       "                   'key': 'displacement_standard1',\n",
       "                   'leaf num': {3: 4, 4: 1, 2: 1},\n",
       "                   'trees': {3: {'ent': -0.0,\n",
       "                     'size': 4,\n",
       "                     'tags': {0: 4},\n",
       "                     'depth': 10,\n",
       "                     'reason': 'less than min_samples_split'},\n",
       "                    4: {'ent': -0.0,\n",
       "                     'size': 1,\n",
       "                     'tags': {1: 1},\n",
       "                     'depth': 10,\n",
       "                     'reason': 'less than min_samples_split'},\n",
       "                    2: {'ent': -0.0,\n",
       "                     'size': 1,\n",
       "                     'tags': {0: 1},\n",
       "                     'depth': 10,\n",
       "                     'reason': 'less than min_samples_split'}}}}},\n",
       "                7: {'ent': -0.0,\n",
       "                 'size': 1,\n",
       "                 'tags': {1: 1},\n",
       "                 'depth': 8,\n",
       "                 'reason': 'less than min_samples_split'}}},\n",
       "              1.0: {'ent': 0.5851569902762294,\n",
       "               'size': 57,\n",
       "               'tags': {0: 49, 1: 8},\n",
       "               'depth': 7,\n",
       "               'ent_gain': -0.006515788306098114,\n",
       "               'key': 'fuel_typep1',\n",
       "               'leaf num': {2: 56, 7: 1},\n",
       "               'trees': {2: {'ent': 0.5916727785823275,\n",
       "                 'size': 56,\n",
       "                 'tags': {0: 48, 1: 8},\n",
       "                 'depth': 8,\n",
       "                 'ent_gain': -0.6579924886722062,\n",
       "                 'key': 'mile_diff_sparse',\n",
       "                 'leaf num': {1.0: 18, 0.0: 38},\n",
       "                 'trees': {1.0: {'ent': 0.7642045065086203,\n",
       "                   'size': 18,\n",
       "                   'tags': {0: 14, 1: 4},\n",
       "                   'depth': 9,\n",
       "                   'ent_gain': -0.7457641061281968,\n",
       "                   'key': 'displacement_standard1',\n",
       "                   'leaf num': {4: 14, 3: 3, 5: 1},\n",
       "                   'trees': {4: {'ent': 0.5916727785823275,\n",
       "                     'size': 14,\n",
       "                     'tags': {0: 12, 1: 2},\n",
       "                     'depth': 10,\n",
       "                     'reason': 'to deep'},\n",
       "                    3: {'ent': 0.9182958340544896,\n",
       "                     'size': 3,\n",
       "                     'tags': {0: 2, 1: 1},\n",
       "                     'depth': 10,\n",
       "                     'reason': 'less than min_samples_split'},\n",
       "                    5: {'ent': -0.0,\n",
       "                     'size': 1,\n",
       "                     'tags': {1: 1},\n",
       "                     'depth': 10,\n",
       "                     'reason': 'less than min_samples_split'}}},\n",
       "                  0.0: {'ent': 0.4854607607459134,\n",
       "                   'size': 38,\n",
       "                   'tags': {0: 34, 1: 4},\n",
       "                   'depth': 9,\n",
       "                   'ent_gain': -0.03709861379102741,\n",
       "                   'key': 'fuel_typep2',\n",
       "                   'leaf num': {2: 34, 7: 2, -1: 2},\n",
       "                   'trees': {2: {'ent': 0.5225593745369408,\n",
       "                     'size': 34,\n",
       "                     'tags': {0: 30, 1: 4},\n",
       "                     'depth': 10,\n",
       "                     'reason': 'to deep'},\n",
       "                    7: {'ent': -0.0,\n",
       "                     'size': 2,\n",
       "                     'tags': {0: 2},\n",
       "                     'depth': 10,\n",
       "                     'reason': 'less than min_samples_split'},\n",
       "                    -1: {'ent': -0.0,\n",
       "                     'size': 2,\n",
       "                     'tags': {0: 2},\n",
       "                     'depth': 10,\n",
       "                     'reason': 'less than min_samples_split'}}}}},\n",
       "                7: {'ent': -0.0,\n",
       "                 'size': 1,\n",
       "                 'tags': {0: 1},\n",
       "                 'depth': 8,\n",
       "                 'reason': 'less than min_samples_split'}}}}},\n",
       "            0.0: {'ent': -0.0,\n",
       "             'size': 54,\n",
       "             'tags': {0: 54},\n",
       "             'depth': 6,\n",
       "             'ent_gain': -0.0,\n",
       "             'key': 'colorp1',\n",
       "             'reason': 'gain too small'},\n",
       "            0.5: {'ent': 0.3095434291503252,\n",
       "             'size': 36,\n",
       "             'tags': {0: 34, 1: 2},\n",
       "             'depth': 6,\n",
       "             'ent_gain': -0.043815905871096184,\n",
       "             'key': 'transfer_times_diff_sparse',\n",
       "             'leaf num': {2: 30, 1: 6},\n",
       "             'trees': {2: {'ent': 0.35335933502142136,\n",
       "               'size': 30,\n",
       "               'tags': {0: 28, 1: 2},\n",
       "               'depth': 7,\n",
       "               'ent_gain': 0.13696240257015674,\n",
       "               'key': 'fuel_typep1',\n",
       "               'leaf num': {-1: 29, 2: 1},\n",
       "               'trees': {-1: {'ent': 0.21639693245126462,\n",
       "                 'size': 29,\n",
       "                 'tags': {0: 28, 1: 1},\n",
       "                 'depth': 8,\n",
       "                 'ent_gain': 0.21639693245126462,\n",
       "                 'key': 'colorp1',\n",
       "                 'leaf num': {-1: 6, 0: 9, 7: 5, 5: 3, 11: 4, 2: 1, 3: 1},\n",
       "                 'trees': {-1: {'ent': -0.0,\n",
       "                   'size': 6,\n",
       "                   'tags': {0: 6},\n",
       "                   'depth': 9,\n",
       "                   'ent_gain': -0.0,\n",
       "                   'key': 'colorp2',\n",
       "                   'reason': 'gain too small'},\n",
       "                  0: {'ent': -0.0,\n",
       "                   'size': 9,\n",
       "                   'tags': {0: 9},\n",
       "                   'depth': 9,\n",
       "                   'ent_gain': -0.0,\n",
       "                   'key': 'colorp2',\n",
       "                   'reason': 'gain too small'},\n",
       "                  7: {'ent': -0.0,\n",
       "                   'size': 5,\n",
       "                   'tags': {0: 5},\n",
       "                   'depth': 9,\n",
       "                   'reason': 'less than min_samples_split'},\n",
       "                  5: {'ent': -0.0,\n",
       "                   'size': 3,\n",
       "                   'tags': {0: 3},\n",
       "                   'depth': 9,\n",
       "                   'reason': 'less than min_samples_split'},\n",
       "                  11: {'ent': -0.0,\n",
       "                   'size': 4,\n",
       "                   'tags': {0: 4},\n",
       "                   'depth': 9,\n",
       "                   'reason': 'less than min_samples_split'},\n",
       "                  2: {'ent': -0.0,\n",
       "                   'size': 1,\n",
       "                   'tags': {1: 1},\n",
       "                   'depth': 9,\n",
       "                   'reason': 'less than min_samples_split'},\n",
       "                  3: {'ent': -0.0,\n",
       "                   'size': 1,\n",
       "                   'tags': {0: 1},\n",
       "                   'depth': 9,\n",
       "                   'reason': 'less than min_samples_split'}}},\n",
       "                2: {'ent': -0.0,\n",
       "                 'size': 1,\n",
       "                 'tags': {1: 1},\n",
       "                 'depth': 8,\n",
       "                 'reason': 'less than min_samples_split'}}},\n",
       "              1: {'ent': -0.0,\n",
       "               'size': 6,\n",
       "               'tags': {0: 6},\n",
       "               'depth': 7,\n",
       "               'ent_gain': -0.0,\n",
       "               'key': 'colorp1',\n",
       "               'reason': 'gain too small'}}}}},\n",
       "          0.0: {'ent': -0.0,\n",
       "           'size': 5,\n",
       "           'tags': {0: 5},\n",
       "           'depth': 5,\n",
       "           'reason': 'less than min_samples_split'}}}}},\n",
       "      -1: {'ent': 0.5916727785823275,\n",
       "       'size': 7,\n",
       "       'tags': {0: 6, 1: 1},\n",
       "       'depth': 3,\n",
       "       'ent_gain': 0.5916727785823275,\n",
       "       'key': 'colorp1',\n",
       "       'leaf num': {-1: 1, 7: 1, 0: 2, 3: 2, 8: 1},\n",
       "       'trees': {-1: {'ent': -0.0,\n",
       "         'size': 1,\n",
       "         'tags': {0: 1},\n",
       "         'depth': 4,\n",
       "         'reason': 'less than min_samples_split'},\n",
       "        7: {'ent': -0.0,\n",
       "         'size': 1,\n",
       "         'tags': {0: 1},\n",
       "         'depth': 4,\n",
       "         'reason': 'less than min_samples_split'},\n",
       "        0: {'ent': -0.0,\n",
       "         'size': 2,\n",
       "         'tags': {0: 2},\n",
       "         'depth': 4,\n",
       "         'reason': 'less than min_samples_split'},\n",
       "        3: {'ent': -0.0,\n",
       "         'size': 2,\n",
       "         'tags': {0: 2},\n",
       "         'depth': 4,\n",
       "         'reason': 'less than min_samples_split'},\n",
       "        8: {'ent': -0.0,\n",
       "         'size': 1,\n",
       "         'tags': {1: 1},\n",
       "         'depth': 4,\n",
       "         'reason': 'less than min_samples_split'}}}}},\n",
       "    0.0: {'ent': 0.345117314944953,\n",
       "     'size': 31,\n",
       "     'tags': {1: 29, 0: 2},\n",
       "     'depth': 2,\n",
       "     'ent_gain': 0.13427501462642089,\n",
       "     'key': 'register_time_diff_sparse',\n",
       "     'leaf num': {2.0: 30, 0.0: 1},\n",
       "     'trees': {2.0: {'ent': 0.21084230031853213,\n",
       "       'size': 30,\n",
       "       'tags': {1: 29, 0: 1},\n",
       "       'depth': 3,\n",
       "       'ent_gain': 0.0,\n",
       "       'key': 'gearboxp2',\n",
       "       'reason': 'gain too small'},\n",
       "      0.0: {'ent': -0.0,\n",
       "       'size': 1,\n",
       "       'tags': {0: 1},\n",
       "       'depth': 3,\n",
       "       'reason': 'less than min_samples_split'}}}}}}}"
      ]
     },
     "execution_count": 182,
     "metadata": {},
     "output_type": "execute_result"
    }
   ],
   "source": [
    "rdf = X_train.copy()\n",
    "rdf['target'] = y_train\n",
    "adt = gen_tree(rdf)\n",
    "adt"
   ]
  },
  {
   "cell_type": "code",
   "execution_count": 193,
   "metadata": {
    "scrolled": true
   },
   "outputs": [],
   "source": [
    "def tree_to_dot(tree_dict):\n",
    "    # node: 0 [label=\"abc\"];\n",
    "    # line: 0 -> 1;\n",
    "    nodes = [];\n",
    "    lines = [];\n",
    "    index = [0];\n",
    "    def _process(struct, parent_id=None, path=''):\n",
    "        cnt = '\\\\n'.join([f'{key}:{struct.get(key, \"-\")}' for key in ['key', 'ent', 'ent_gain', 'size', 'tags', 'reason']])\n",
    "        node = f'{index[0]} [label=\"{cnt}\"];'\n",
    "        nodes.append(node)\n",
    "        if parent_id is not None:\n",
    "            if path:\n",
    "                lines.append(f'{parent_id} -> {index[0]} [headlabel=\"{path}\"];')\n",
    "            else:\n",
    "                lines.append(f'{parent_id} -> {index[0]};')\n",
    "        ###\n",
    "        selfindex = index[0]\n",
    "        index[0] += 1\n",
    "        if 'trees' in struct:\n",
    "            for v in struct['trees']:\n",
    "                _process(struct['trees'][v], selfindex, path=v)\n",
    "    ###\n",
    "    _process(tree_dict)\n",
    "    nodesstr = '\\n'.join(nodes)\n",
    "    linesstr = '\\n'.join(lines)\n",
    "    outputstr = 'digraph Tree {\\nnode [shape=box] ;\\n %s\\n%s\\n}' % (nodesstr, linesstr)\n",
    "    return outputstr\n",
    "\n",
    "## 这里dot 是一个绘图命令\n",
    "## open 是mac 上的打开文件命令\n",
    "def draw_tree(tree, save_path):\n",
    "    s = tree_to_dot(tree)\n",
    "    with open(f'{save_path}.dot', 'w') as f:\n",
    "        f.write(s)\n",
    "    os.system(f'dot -Tpng {save_path}.dot -o {save_path}.png && open {save_path}.png')"
   ]
  },
  {
   "cell_type": "code",
   "execution_count": 190,
   "metadata": {},
   "outputs": [],
   "source": [
    "draw_tree(adt, 'id3_same_car')"
   ]
  },
  {
   "cell_type": "code",
   "execution_count": 131,
   "metadata": {},
   "outputs": [
    {
     "name": "stdout",
     "output_type": "stream",
     "text": [
      "{'recall': 0.9644495412844036, 'precision': 0.9428251121076233, 'accuracy': 0.9694029850746269, 'tp': 841, 'fp': 51, 'tn': 1757, 'fn': 31}\n",
      "auc0.9689295029227897\n"
     ]
    },
    {
     "data": {
      "application/vnd.plotly.v1+json": {
       "config": {
        "plotlyServerURL": "https://plot.ly"
       },
       "data": [
        {
         "mode": "lines+markers",
         "name": "tp",
         "type": "scatter",
         "x": [
          0,
          0,
          0,
          0.02820796460176991,
          1
         ],
         "y": [
          0,
          0.022935779816513763,
          0.05733944954128441,
          0.9644495412844036,
          1
         ]
        },
        {
         "mode": "lines+markers",
         "name": "fp",
         "type": "scatter",
         "x": [
          0,
          0,
          0,
          0.02820796460176991,
          1
         ],
         "y": [
          0,
          0,
          0,
          0.02820796460176991,
          1
         ]
        }
       ],
       "layout": {
        "template": {
         "data": {
          "bar": [
           {
            "error_x": {
             "color": "#2a3f5f"
            },
            "error_y": {
             "color": "#2a3f5f"
            },
            "marker": {
             "line": {
              "color": "#E5ECF6",
              "width": 0.5
             }
            },
            "type": "bar"
           }
          ],
          "barpolar": [
           {
            "marker": {
             "line": {
              "color": "#E5ECF6",
              "width": 0.5
             }
            },
            "type": "barpolar"
           }
          ],
          "carpet": [
           {
            "aaxis": {
             "endlinecolor": "#2a3f5f",
             "gridcolor": "white",
             "linecolor": "white",
             "minorgridcolor": "white",
             "startlinecolor": "#2a3f5f"
            },
            "baxis": {
             "endlinecolor": "#2a3f5f",
             "gridcolor": "white",
             "linecolor": "white",
             "minorgridcolor": "white",
             "startlinecolor": "#2a3f5f"
            },
            "type": "carpet"
           }
          ],
          "choropleth": [
           {
            "colorbar": {
             "outlinewidth": 0,
             "ticks": ""
            },
            "type": "choropleth"
           }
          ],
          "contour": [
           {
            "colorbar": {
             "outlinewidth": 0,
             "ticks": ""
            },
            "colorscale": [
             [
              0,
              "#0d0887"
             ],
             [
              0.1111111111111111,
              "#46039f"
             ],
             [
              0.2222222222222222,
              "#7201a8"
             ],
             [
              0.3333333333333333,
              "#9c179e"
             ],
             [
              0.4444444444444444,
              "#bd3786"
             ],
             [
              0.5555555555555556,
              "#d8576b"
             ],
             [
              0.6666666666666666,
              "#ed7953"
             ],
             [
              0.7777777777777778,
              "#fb9f3a"
             ],
             [
              0.8888888888888888,
              "#fdca26"
             ],
             [
              1,
              "#f0f921"
             ]
            ],
            "type": "contour"
           }
          ],
          "contourcarpet": [
           {
            "colorbar": {
             "outlinewidth": 0,
             "ticks": ""
            },
            "type": "contourcarpet"
           }
          ],
          "heatmap": [
           {
            "colorbar": {
             "outlinewidth": 0,
             "ticks": ""
            },
            "colorscale": [
             [
              0,
              "#0d0887"
             ],
             [
              0.1111111111111111,
              "#46039f"
             ],
             [
              0.2222222222222222,
              "#7201a8"
             ],
             [
              0.3333333333333333,
              "#9c179e"
             ],
             [
              0.4444444444444444,
              "#bd3786"
             ],
             [
              0.5555555555555556,
              "#d8576b"
             ],
             [
              0.6666666666666666,
              "#ed7953"
             ],
             [
              0.7777777777777778,
              "#fb9f3a"
             ],
             [
              0.8888888888888888,
              "#fdca26"
             ],
             [
              1,
              "#f0f921"
             ]
            ],
            "type": "heatmap"
           }
          ],
          "heatmapgl": [
           {
            "colorbar": {
             "outlinewidth": 0,
             "ticks": ""
            },
            "colorscale": [
             [
              0,
              "#0d0887"
             ],
             [
              0.1111111111111111,
              "#46039f"
             ],
             [
              0.2222222222222222,
              "#7201a8"
             ],
             [
              0.3333333333333333,
              "#9c179e"
             ],
             [
              0.4444444444444444,
              "#bd3786"
             ],
             [
              0.5555555555555556,
              "#d8576b"
             ],
             [
              0.6666666666666666,
              "#ed7953"
             ],
             [
              0.7777777777777778,
              "#fb9f3a"
             ],
             [
              0.8888888888888888,
              "#fdca26"
             ],
             [
              1,
              "#f0f921"
             ]
            ],
            "type": "heatmapgl"
           }
          ],
          "histogram": [
           {
            "marker": {
             "colorbar": {
              "outlinewidth": 0,
              "ticks": ""
             }
            },
            "type": "histogram"
           }
          ],
          "histogram2d": [
           {
            "colorbar": {
             "outlinewidth": 0,
             "ticks": ""
            },
            "colorscale": [
             [
              0,
              "#0d0887"
             ],
             [
              0.1111111111111111,
              "#46039f"
             ],
             [
              0.2222222222222222,
              "#7201a8"
             ],
             [
              0.3333333333333333,
              "#9c179e"
             ],
             [
              0.4444444444444444,
              "#bd3786"
             ],
             [
              0.5555555555555556,
              "#d8576b"
             ],
             [
              0.6666666666666666,
              "#ed7953"
             ],
             [
              0.7777777777777778,
              "#fb9f3a"
             ],
             [
              0.8888888888888888,
              "#fdca26"
             ],
             [
              1,
              "#f0f921"
             ]
            ],
            "type": "histogram2d"
           }
          ],
          "histogram2dcontour": [
           {
            "colorbar": {
             "outlinewidth": 0,
             "ticks": ""
            },
            "colorscale": [
             [
              0,
              "#0d0887"
             ],
             [
              0.1111111111111111,
              "#46039f"
             ],
             [
              0.2222222222222222,
              "#7201a8"
             ],
             [
              0.3333333333333333,
              "#9c179e"
             ],
             [
              0.4444444444444444,
              "#bd3786"
             ],
             [
              0.5555555555555556,
              "#d8576b"
             ],
             [
              0.6666666666666666,
              "#ed7953"
             ],
             [
              0.7777777777777778,
              "#fb9f3a"
             ],
             [
              0.8888888888888888,
              "#fdca26"
             ],
             [
              1,
              "#f0f921"
             ]
            ],
            "type": "histogram2dcontour"
           }
          ],
          "mesh3d": [
           {
            "colorbar": {
             "outlinewidth": 0,
             "ticks": ""
            },
            "type": "mesh3d"
           }
          ],
          "parcoords": [
           {
            "line": {
             "colorbar": {
              "outlinewidth": 0,
              "ticks": ""
             }
            },
            "type": "parcoords"
           }
          ],
          "scatter": [
           {
            "marker": {
             "colorbar": {
              "outlinewidth": 0,
              "ticks": ""
             }
            },
            "type": "scatter"
           }
          ],
          "scatter3d": [
           {
            "line": {
             "colorbar": {
              "outlinewidth": 0,
              "ticks": ""
             }
            },
            "marker": {
             "colorbar": {
              "outlinewidth": 0,
              "ticks": ""
             }
            },
            "type": "scatter3d"
           }
          ],
          "scattercarpet": [
           {
            "marker": {
             "colorbar": {
              "outlinewidth": 0,
              "ticks": ""
             }
            },
            "type": "scattercarpet"
           }
          ],
          "scattergeo": [
           {
            "marker": {
             "colorbar": {
              "outlinewidth": 0,
              "ticks": ""
             }
            },
            "type": "scattergeo"
           }
          ],
          "scattergl": [
           {
            "marker": {
             "colorbar": {
              "outlinewidth": 0,
              "ticks": ""
             }
            },
            "type": "scattergl"
           }
          ],
          "scattermapbox": [
           {
            "marker": {
             "colorbar": {
              "outlinewidth": 0,
              "ticks": ""
             }
            },
            "type": "scattermapbox"
           }
          ],
          "scatterpolar": [
           {
            "marker": {
             "colorbar": {
              "outlinewidth": 0,
              "ticks": ""
             }
            },
            "type": "scatterpolar"
           }
          ],
          "scatterpolargl": [
           {
            "marker": {
             "colorbar": {
              "outlinewidth": 0,
              "ticks": ""
             }
            },
            "type": "scatterpolargl"
           }
          ],
          "scatterternary": [
           {
            "marker": {
             "colorbar": {
              "outlinewidth": 0,
              "ticks": ""
             }
            },
            "type": "scatterternary"
           }
          ],
          "surface": [
           {
            "colorbar": {
             "outlinewidth": 0,
             "ticks": ""
            },
            "colorscale": [
             [
              0,
              "#0d0887"
             ],
             [
              0.1111111111111111,
              "#46039f"
             ],
             [
              0.2222222222222222,
              "#7201a8"
             ],
             [
              0.3333333333333333,
              "#9c179e"
             ],
             [
              0.4444444444444444,
              "#bd3786"
             ],
             [
              0.5555555555555556,
              "#d8576b"
             ],
             [
              0.6666666666666666,
              "#ed7953"
             ],
             [
              0.7777777777777778,
              "#fb9f3a"
             ],
             [
              0.8888888888888888,
              "#fdca26"
             ],
             [
              1,
              "#f0f921"
             ]
            ],
            "type": "surface"
           }
          ],
          "table": [
           {
            "cells": {
             "fill": {
              "color": "#EBF0F8"
             },
             "line": {
              "color": "white"
             }
            },
            "header": {
             "fill": {
              "color": "#C8D4E3"
             },
             "line": {
              "color": "white"
             }
            },
            "type": "table"
           }
          ]
         },
         "layout": {
          "annotationdefaults": {
           "arrowcolor": "#2a3f5f",
           "arrowhead": 0,
           "arrowwidth": 1
          },
          "colorscale": {
           "diverging": [
            [
             0,
             "#8e0152"
            ],
            [
             0.1,
             "#c51b7d"
            ],
            [
             0.2,
             "#de77ae"
            ],
            [
             0.3,
             "#f1b6da"
            ],
            [
             0.4,
             "#fde0ef"
            ],
            [
             0.5,
             "#f7f7f7"
            ],
            [
             0.6,
             "#e6f5d0"
            ],
            [
             0.7,
             "#b8e186"
            ],
            [
             0.8,
             "#7fbc41"
            ],
            [
             0.9,
             "#4d9221"
            ],
            [
             1,
             "#276419"
            ]
           ],
           "sequential": [
            [
             0,
             "#0d0887"
            ],
            [
             0.1111111111111111,
             "#46039f"
            ],
            [
             0.2222222222222222,
             "#7201a8"
            ],
            [
             0.3333333333333333,
             "#9c179e"
            ],
            [
             0.4444444444444444,
             "#bd3786"
            ],
            [
             0.5555555555555556,
             "#d8576b"
            ],
            [
             0.6666666666666666,
             "#ed7953"
            ],
            [
             0.7777777777777778,
             "#fb9f3a"
            ],
            [
             0.8888888888888888,
             "#fdca26"
            ],
            [
             1,
             "#f0f921"
            ]
           ],
           "sequentialminus": [
            [
             0,
             "#0d0887"
            ],
            [
             0.1111111111111111,
             "#46039f"
            ],
            [
             0.2222222222222222,
             "#7201a8"
            ],
            [
             0.3333333333333333,
             "#9c179e"
            ],
            [
             0.4444444444444444,
             "#bd3786"
            ],
            [
             0.5555555555555556,
             "#d8576b"
            ],
            [
             0.6666666666666666,
             "#ed7953"
            ],
            [
             0.7777777777777778,
             "#fb9f3a"
            ],
            [
             0.8888888888888888,
             "#fdca26"
            ],
            [
             1,
             "#f0f921"
            ]
           ]
          },
          "colorway": [
           "#636efa",
           "#EF553B",
           "#00cc96",
           "#ab63fa",
           "#FFA15A",
           "#19d3f3",
           "#FF6692",
           "#B6E880",
           "#FF97FF",
           "#FECB52"
          ],
          "font": {
           "color": "#2a3f5f"
          },
          "geo": {
           "bgcolor": "white",
           "lakecolor": "white",
           "landcolor": "#E5ECF6",
           "showlakes": true,
           "showland": true,
           "subunitcolor": "white"
          },
          "hoverlabel": {
           "align": "left"
          },
          "hovermode": "closest",
          "mapbox": {
           "style": "light"
          },
          "paper_bgcolor": "white",
          "plot_bgcolor": "#E5ECF6",
          "polar": {
           "angularaxis": {
            "gridcolor": "white",
            "linecolor": "white",
            "ticks": ""
           },
           "bgcolor": "#E5ECF6",
           "radialaxis": {
            "gridcolor": "white",
            "linecolor": "white",
            "ticks": ""
           }
          },
          "scene": {
           "xaxis": {
            "backgroundcolor": "#E5ECF6",
            "gridcolor": "white",
            "gridwidth": 2,
            "linecolor": "white",
            "showbackground": true,
            "ticks": "",
            "zerolinecolor": "white"
           },
           "yaxis": {
            "backgroundcolor": "#E5ECF6",
            "gridcolor": "white",
            "gridwidth": 2,
            "linecolor": "white",
            "showbackground": true,
            "ticks": "",
            "zerolinecolor": "white"
           },
           "zaxis": {
            "backgroundcolor": "#E5ECF6",
            "gridcolor": "white",
            "gridwidth": 2,
            "linecolor": "white",
            "showbackground": true,
            "ticks": "",
            "zerolinecolor": "white"
           }
          },
          "shapedefaults": {
           "line": {
            "color": "#2a3f5f"
           }
          },
          "ternary": {
           "aaxis": {
            "gridcolor": "white",
            "linecolor": "white",
            "ticks": ""
           },
           "baxis": {
            "gridcolor": "white",
            "linecolor": "white",
            "ticks": ""
           },
           "bgcolor": "#E5ECF6",
           "caxis": {
            "gridcolor": "white",
            "linecolor": "white",
            "ticks": ""
           }
          },
          "title": {
           "x": 0.05
          },
          "xaxis": {
           "automargin": true,
           "gridcolor": "white",
           "linecolor": "white",
           "ticks": "",
           "zerolinecolor": "white",
           "zerolinewidth": 2
          },
          "yaxis": {
           "automargin": true,
           "gridcolor": "white",
           "linecolor": "white",
           "ticks": "",
           "zerolinecolor": "white",
           "zerolinewidth": 2
          }
         }
        }
       }
      },
      "text/html": [
       "<div>\n",
       "        \n",
       "        \n",
       "            <div id=\"8bdc6e7b-22da-4a50-9e51-e1fa9303650e\" class=\"plotly-graph-div\" style=\"height:525px; width:100%;\"></div>\n",
       "            <script type=\"text/javascript\">\n",
       "                require([\"plotly\"], function(Plotly) {\n",
       "                    window.PLOTLYENV=window.PLOTLYENV || {};\n",
       "                    \n",
       "                if (document.getElementById(\"8bdc6e7b-22da-4a50-9e51-e1fa9303650e\")) {\n",
       "                    Plotly.newPlot(\n",
       "                        '8bdc6e7b-22da-4a50-9e51-e1fa9303650e',\n",
       "                        [{\"mode\": \"lines+markers\", \"name\": \"tp\", \"type\": \"scatter\", \"x\": [0.0, 0.0, 0.0, 0.02820796460176991, 1.0], \"y\": [0.0, 0.022935779816513763, 0.05733944954128441, 0.9644495412844036, 1.0]}, {\"mode\": \"lines+markers\", \"name\": \"fp\", \"type\": \"scatter\", \"x\": [0.0, 0.0, 0.0, 0.02820796460176991, 1.0], \"y\": [0.0, 0.0, 0.0, 0.02820796460176991, 1.0]}],\n",
       "                        {\"template\": {\"data\": {\"bar\": [{\"error_x\": {\"color\": \"#2a3f5f\"}, \"error_y\": {\"color\": \"#2a3f5f\"}, \"marker\": {\"line\": {\"color\": \"#E5ECF6\", \"width\": 0.5}}, \"type\": \"bar\"}], \"barpolar\": [{\"marker\": {\"line\": {\"color\": \"#E5ECF6\", \"width\": 0.5}}, \"type\": \"barpolar\"}], \"carpet\": [{\"aaxis\": {\"endlinecolor\": \"#2a3f5f\", \"gridcolor\": \"white\", \"linecolor\": \"white\", \"minorgridcolor\": \"white\", \"startlinecolor\": \"#2a3f5f\"}, \"baxis\": {\"endlinecolor\": \"#2a3f5f\", \"gridcolor\": \"white\", \"linecolor\": \"white\", \"minorgridcolor\": \"white\", \"startlinecolor\": \"#2a3f5f\"}, \"type\": \"carpet\"}], \"choropleth\": [{\"colorbar\": {\"outlinewidth\": 0, \"ticks\": \"\"}, \"type\": \"choropleth\"}], \"contour\": [{\"colorbar\": {\"outlinewidth\": 0, \"ticks\": \"\"}, \"colorscale\": [[0.0, \"#0d0887\"], [0.1111111111111111, \"#46039f\"], [0.2222222222222222, \"#7201a8\"], [0.3333333333333333, \"#9c179e\"], [0.4444444444444444, \"#bd3786\"], [0.5555555555555556, \"#d8576b\"], [0.6666666666666666, \"#ed7953\"], [0.7777777777777778, \"#fb9f3a\"], [0.8888888888888888, \"#fdca26\"], [1.0, \"#f0f921\"]], \"type\": \"contour\"}], \"contourcarpet\": [{\"colorbar\": {\"outlinewidth\": 0, \"ticks\": \"\"}, \"type\": \"contourcarpet\"}], \"heatmap\": [{\"colorbar\": {\"outlinewidth\": 0, \"ticks\": \"\"}, \"colorscale\": [[0.0, \"#0d0887\"], [0.1111111111111111, \"#46039f\"], [0.2222222222222222, \"#7201a8\"], [0.3333333333333333, \"#9c179e\"], [0.4444444444444444, \"#bd3786\"], [0.5555555555555556, \"#d8576b\"], [0.6666666666666666, \"#ed7953\"], [0.7777777777777778, \"#fb9f3a\"], [0.8888888888888888, \"#fdca26\"], [1.0, \"#f0f921\"]], \"type\": \"heatmap\"}], \"heatmapgl\": [{\"colorbar\": {\"outlinewidth\": 0, \"ticks\": \"\"}, \"colorscale\": [[0.0, \"#0d0887\"], [0.1111111111111111, \"#46039f\"], [0.2222222222222222, \"#7201a8\"], [0.3333333333333333, \"#9c179e\"], [0.4444444444444444, \"#bd3786\"], [0.5555555555555556, \"#d8576b\"], [0.6666666666666666, \"#ed7953\"], [0.7777777777777778, \"#fb9f3a\"], [0.8888888888888888, \"#fdca26\"], [1.0, \"#f0f921\"]], \"type\": \"heatmapgl\"}], \"histogram\": [{\"marker\": {\"colorbar\": {\"outlinewidth\": 0, \"ticks\": \"\"}}, \"type\": \"histogram\"}], \"histogram2d\": [{\"colorbar\": {\"outlinewidth\": 0, \"ticks\": \"\"}, \"colorscale\": [[0.0, \"#0d0887\"], [0.1111111111111111, \"#46039f\"], [0.2222222222222222, \"#7201a8\"], [0.3333333333333333, \"#9c179e\"], [0.4444444444444444, \"#bd3786\"], [0.5555555555555556, \"#d8576b\"], [0.6666666666666666, \"#ed7953\"], [0.7777777777777778, \"#fb9f3a\"], [0.8888888888888888, \"#fdca26\"], [1.0, \"#f0f921\"]], \"type\": \"histogram2d\"}], \"histogram2dcontour\": [{\"colorbar\": {\"outlinewidth\": 0, \"ticks\": \"\"}, \"colorscale\": [[0.0, \"#0d0887\"], [0.1111111111111111, \"#46039f\"], [0.2222222222222222, \"#7201a8\"], [0.3333333333333333, \"#9c179e\"], [0.4444444444444444, \"#bd3786\"], [0.5555555555555556, \"#d8576b\"], [0.6666666666666666, \"#ed7953\"], [0.7777777777777778, \"#fb9f3a\"], [0.8888888888888888, \"#fdca26\"], [1.0, \"#f0f921\"]], \"type\": \"histogram2dcontour\"}], \"mesh3d\": [{\"colorbar\": {\"outlinewidth\": 0, \"ticks\": \"\"}, \"type\": \"mesh3d\"}], \"parcoords\": [{\"line\": {\"colorbar\": {\"outlinewidth\": 0, \"ticks\": \"\"}}, \"type\": \"parcoords\"}], \"scatter\": [{\"marker\": {\"colorbar\": {\"outlinewidth\": 0, \"ticks\": \"\"}}, \"type\": \"scatter\"}], \"scatter3d\": [{\"line\": {\"colorbar\": {\"outlinewidth\": 0, \"ticks\": \"\"}}, \"marker\": {\"colorbar\": {\"outlinewidth\": 0, \"ticks\": \"\"}}, \"type\": \"scatter3d\"}], \"scattercarpet\": [{\"marker\": {\"colorbar\": {\"outlinewidth\": 0, \"ticks\": \"\"}}, \"type\": \"scattercarpet\"}], \"scattergeo\": [{\"marker\": {\"colorbar\": {\"outlinewidth\": 0, \"ticks\": \"\"}}, \"type\": \"scattergeo\"}], \"scattergl\": [{\"marker\": {\"colorbar\": {\"outlinewidth\": 0, \"ticks\": \"\"}}, \"type\": \"scattergl\"}], \"scattermapbox\": [{\"marker\": {\"colorbar\": {\"outlinewidth\": 0, \"ticks\": \"\"}}, \"type\": \"scattermapbox\"}], \"scatterpolar\": [{\"marker\": {\"colorbar\": {\"outlinewidth\": 0, \"ticks\": \"\"}}, \"type\": \"scatterpolar\"}], \"scatterpolargl\": [{\"marker\": {\"colorbar\": {\"outlinewidth\": 0, \"ticks\": \"\"}}, \"type\": \"scatterpolargl\"}], \"scatterternary\": [{\"marker\": {\"colorbar\": {\"outlinewidth\": 0, \"ticks\": \"\"}}, \"type\": \"scatterternary\"}], \"surface\": [{\"colorbar\": {\"outlinewidth\": 0, \"ticks\": \"\"}, \"colorscale\": [[0.0, \"#0d0887\"], [0.1111111111111111, \"#46039f\"], [0.2222222222222222, \"#7201a8\"], [0.3333333333333333, \"#9c179e\"], [0.4444444444444444, \"#bd3786\"], [0.5555555555555556, \"#d8576b\"], [0.6666666666666666, \"#ed7953\"], [0.7777777777777778, \"#fb9f3a\"], [0.8888888888888888, \"#fdca26\"], [1.0, \"#f0f921\"]], \"type\": \"surface\"}], \"table\": [{\"cells\": {\"fill\": {\"color\": \"#EBF0F8\"}, \"line\": {\"color\": \"white\"}}, \"header\": {\"fill\": {\"color\": \"#C8D4E3\"}, \"line\": {\"color\": \"white\"}}, \"type\": \"table\"}]}, \"layout\": {\"annotationdefaults\": {\"arrowcolor\": \"#2a3f5f\", \"arrowhead\": 0, \"arrowwidth\": 1}, \"colorscale\": {\"diverging\": [[0, \"#8e0152\"], [0.1, \"#c51b7d\"], [0.2, \"#de77ae\"], [0.3, \"#f1b6da\"], [0.4, \"#fde0ef\"], [0.5, \"#f7f7f7\"], [0.6, \"#e6f5d0\"], [0.7, \"#b8e186\"], [0.8, \"#7fbc41\"], [0.9, \"#4d9221\"], [1, \"#276419\"]], \"sequential\": [[0.0, \"#0d0887\"], [0.1111111111111111, \"#46039f\"], [0.2222222222222222, \"#7201a8\"], [0.3333333333333333, \"#9c179e\"], [0.4444444444444444, \"#bd3786\"], [0.5555555555555556, \"#d8576b\"], [0.6666666666666666, \"#ed7953\"], [0.7777777777777778, \"#fb9f3a\"], [0.8888888888888888, \"#fdca26\"], [1.0, \"#f0f921\"]], \"sequentialminus\": [[0.0, \"#0d0887\"], [0.1111111111111111, \"#46039f\"], [0.2222222222222222, \"#7201a8\"], [0.3333333333333333, \"#9c179e\"], [0.4444444444444444, \"#bd3786\"], [0.5555555555555556, \"#d8576b\"], [0.6666666666666666, \"#ed7953\"], [0.7777777777777778, \"#fb9f3a\"], [0.8888888888888888, \"#fdca26\"], [1.0, \"#f0f921\"]]}, \"colorway\": [\"#636efa\", \"#EF553B\", \"#00cc96\", \"#ab63fa\", \"#FFA15A\", \"#19d3f3\", \"#FF6692\", \"#B6E880\", \"#FF97FF\", \"#FECB52\"], \"font\": {\"color\": \"#2a3f5f\"}, \"geo\": {\"bgcolor\": \"white\", \"lakecolor\": \"white\", \"landcolor\": \"#E5ECF6\", \"showlakes\": true, \"showland\": true, \"subunitcolor\": \"white\"}, \"hoverlabel\": {\"align\": \"left\"}, \"hovermode\": \"closest\", \"mapbox\": {\"style\": \"light\"}, \"paper_bgcolor\": \"white\", \"plot_bgcolor\": \"#E5ECF6\", \"polar\": {\"angularaxis\": {\"gridcolor\": \"white\", \"linecolor\": \"white\", \"ticks\": \"\"}, \"bgcolor\": \"#E5ECF6\", \"radialaxis\": {\"gridcolor\": \"white\", \"linecolor\": \"white\", \"ticks\": \"\"}}, \"scene\": {\"xaxis\": {\"backgroundcolor\": \"#E5ECF6\", \"gridcolor\": \"white\", \"gridwidth\": 2, \"linecolor\": \"white\", \"showbackground\": true, \"ticks\": \"\", \"zerolinecolor\": \"white\"}, \"yaxis\": {\"backgroundcolor\": \"#E5ECF6\", \"gridcolor\": \"white\", \"gridwidth\": 2, \"linecolor\": \"white\", \"showbackground\": true, \"ticks\": \"\", \"zerolinecolor\": \"white\"}, \"zaxis\": {\"backgroundcolor\": \"#E5ECF6\", \"gridcolor\": \"white\", \"gridwidth\": 2, \"linecolor\": \"white\", \"showbackground\": true, \"ticks\": \"\", \"zerolinecolor\": \"white\"}}, \"shapedefaults\": {\"line\": {\"color\": \"#2a3f5f\"}}, \"ternary\": {\"aaxis\": {\"gridcolor\": \"white\", \"linecolor\": \"white\", \"ticks\": \"\"}, \"baxis\": {\"gridcolor\": \"white\", \"linecolor\": \"white\", \"ticks\": \"\"}, \"bgcolor\": \"#E5ECF6\", \"caxis\": {\"gridcolor\": \"white\", \"linecolor\": \"white\", \"ticks\": \"\"}}, \"title\": {\"x\": 0.05}, \"xaxis\": {\"automargin\": true, \"gridcolor\": \"white\", \"linecolor\": \"white\", \"ticks\": \"\", \"zerolinecolor\": \"white\", \"zerolinewidth\": 2}, \"yaxis\": {\"automargin\": true, \"gridcolor\": \"white\", \"linecolor\": \"white\", \"ticks\": \"\", \"zerolinecolor\": \"white\", \"zerolinewidth\": 2}}}},\n",
       "                        {\"responsive\": true}\n",
       "                    ).then(function(){\n",
       "                            \n",
       "var gd = document.getElementById('8bdc6e7b-22da-4a50-9e51-e1fa9303650e');\n",
       "var x = new MutationObserver(function (mutations, observer) {{\n",
       "        var display = window.getComputedStyle(gd).display;\n",
       "        if (!display || display === 'none') {{\n",
       "            console.log([gd, 'removed!']);\n",
       "            Plotly.purge(gd);\n",
       "            observer.disconnect();\n",
       "        }}\n",
       "}});\n",
       "\n",
       "// Listen for the removal of the full notebook cells\n",
       "var notebookContainer = gd.closest('#notebook-container');\n",
       "if (notebookContainer) {{\n",
       "    x.observe(notebookContainer, {childList: true});\n",
       "}}\n",
       "\n",
       "// Listen for the clearing of the current output cell\n",
       "var outputEl = gd.closest('.output');\n",
       "if (outputEl) {{\n",
       "    x.observe(outputEl, {childList: true});\n",
       "}}\n",
       "\n",
       "                        })\n",
       "                };\n",
       "                });\n",
       "            </script>\n",
       "        </div>"
      ]
     },
     "metadata": {},
     "output_type": "display_data"
    }
   ],
   "source": [
    "## 测试集表现\n",
    "pred, prob = predict(adt, X_test)\n",
    "eval_ret = classifier_evaluate(y_test, pred)\n",
    "print(eval_ret)\n",
    "\n",
    "fpr, tpr, thresholds = roc_curve(y_test, prob)\n",
    "roc_auc = auc(fpr, tpr)\n",
    "print(f'auc{roc_auc}')\n",
    "draw_lines(fpr, [tpr, fpr], ['tp', 'fp'])"
   ]
  },
  {
   "cell_type": "code",
   "execution_count": 135,
   "metadata": {},
   "outputs": [
    {
     "name": "stdout",
     "output_type": "stream",
     "text": [
      "{'recall': 0.9709063782170831, 'precision': 0.9397111913357401, 'accuracy': 0.9695197810400598, 'tp': 2603, 'fp': 167, 'tn': 5190, 'fn': 78}\n",
      "auc0.9702748905331994\n"
     ]
    },
    {
     "data": {
      "application/vnd.plotly.v1+json": {
       "config": {
        "plotlyServerURL": "https://plot.ly"
       },
       "data": [
        {
         "mode": "lines+markers",
         "name": "tp",
         "type": "scatter",
         "x": [
          0,
          0.00018667164457718873,
          0.0005600149337315662,
          0.031174164644390517,
          1
         ],
         "y": [
          0,
          0.016038791495710556,
          0.043640432674375236,
          0.9709063782170831,
          1
         ]
        },
        {
         "mode": "lines+markers",
         "name": "fp",
         "type": "scatter",
         "x": [
          0,
          0.00018667164457718873,
          0.0005600149337315662,
          0.031174164644390517,
          1
         ],
         "y": [
          0,
          0.00018667164457718873,
          0.0005600149337315662,
          0.031174164644390517,
          1
         ]
        }
       ],
       "layout": {
        "template": {
         "data": {
          "bar": [
           {
            "error_x": {
             "color": "#2a3f5f"
            },
            "error_y": {
             "color": "#2a3f5f"
            },
            "marker": {
             "line": {
              "color": "#E5ECF6",
              "width": 0.5
             }
            },
            "type": "bar"
           }
          ],
          "barpolar": [
           {
            "marker": {
             "line": {
              "color": "#E5ECF6",
              "width": 0.5
             }
            },
            "type": "barpolar"
           }
          ],
          "carpet": [
           {
            "aaxis": {
             "endlinecolor": "#2a3f5f",
             "gridcolor": "white",
             "linecolor": "white",
             "minorgridcolor": "white",
             "startlinecolor": "#2a3f5f"
            },
            "baxis": {
             "endlinecolor": "#2a3f5f",
             "gridcolor": "white",
             "linecolor": "white",
             "minorgridcolor": "white",
             "startlinecolor": "#2a3f5f"
            },
            "type": "carpet"
           }
          ],
          "choropleth": [
           {
            "colorbar": {
             "outlinewidth": 0,
             "ticks": ""
            },
            "type": "choropleth"
           }
          ],
          "contour": [
           {
            "colorbar": {
             "outlinewidth": 0,
             "ticks": ""
            },
            "colorscale": [
             [
              0,
              "#0d0887"
             ],
             [
              0.1111111111111111,
              "#46039f"
             ],
             [
              0.2222222222222222,
              "#7201a8"
             ],
             [
              0.3333333333333333,
              "#9c179e"
             ],
             [
              0.4444444444444444,
              "#bd3786"
             ],
             [
              0.5555555555555556,
              "#d8576b"
             ],
             [
              0.6666666666666666,
              "#ed7953"
             ],
             [
              0.7777777777777778,
              "#fb9f3a"
             ],
             [
              0.8888888888888888,
              "#fdca26"
             ],
             [
              1,
              "#f0f921"
             ]
            ],
            "type": "contour"
           }
          ],
          "contourcarpet": [
           {
            "colorbar": {
             "outlinewidth": 0,
             "ticks": ""
            },
            "type": "contourcarpet"
           }
          ],
          "heatmap": [
           {
            "colorbar": {
             "outlinewidth": 0,
             "ticks": ""
            },
            "colorscale": [
             [
              0,
              "#0d0887"
             ],
             [
              0.1111111111111111,
              "#46039f"
             ],
             [
              0.2222222222222222,
              "#7201a8"
             ],
             [
              0.3333333333333333,
              "#9c179e"
             ],
             [
              0.4444444444444444,
              "#bd3786"
             ],
             [
              0.5555555555555556,
              "#d8576b"
             ],
             [
              0.6666666666666666,
              "#ed7953"
             ],
             [
              0.7777777777777778,
              "#fb9f3a"
             ],
             [
              0.8888888888888888,
              "#fdca26"
             ],
             [
              1,
              "#f0f921"
             ]
            ],
            "type": "heatmap"
           }
          ],
          "heatmapgl": [
           {
            "colorbar": {
             "outlinewidth": 0,
             "ticks": ""
            },
            "colorscale": [
             [
              0,
              "#0d0887"
             ],
             [
              0.1111111111111111,
              "#46039f"
             ],
             [
              0.2222222222222222,
              "#7201a8"
             ],
             [
              0.3333333333333333,
              "#9c179e"
             ],
             [
              0.4444444444444444,
              "#bd3786"
             ],
             [
              0.5555555555555556,
              "#d8576b"
             ],
             [
              0.6666666666666666,
              "#ed7953"
             ],
             [
              0.7777777777777778,
              "#fb9f3a"
             ],
             [
              0.8888888888888888,
              "#fdca26"
             ],
             [
              1,
              "#f0f921"
             ]
            ],
            "type": "heatmapgl"
           }
          ],
          "histogram": [
           {
            "marker": {
             "colorbar": {
              "outlinewidth": 0,
              "ticks": ""
             }
            },
            "type": "histogram"
           }
          ],
          "histogram2d": [
           {
            "colorbar": {
             "outlinewidth": 0,
             "ticks": ""
            },
            "colorscale": [
             [
              0,
              "#0d0887"
             ],
             [
              0.1111111111111111,
              "#46039f"
             ],
             [
              0.2222222222222222,
              "#7201a8"
             ],
             [
              0.3333333333333333,
              "#9c179e"
             ],
             [
              0.4444444444444444,
              "#bd3786"
             ],
             [
              0.5555555555555556,
              "#d8576b"
             ],
             [
              0.6666666666666666,
              "#ed7953"
             ],
             [
              0.7777777777777778,
              "#fb9f3a"
             ],
             [
              0.8888888888888888,
              "#fdca26"
             ],
             [
              1,
              "#f0f921"
             ]
            ],
            "type": "histogram2d"
           }
          ],
          "histogram2dcontour": [
           {
            "colorbar": {
             "outlinewidth": 0,
             "ticks": ""
            },
            "colorscale": [
             [
              0,
              "#0d0887"
             ],
             [
              0.1111111111111111,
              "#46039f"
             ],
             [
              0.2222222222222222,
              "#7201a8"
             ],
             [
              0.3333333333333333,
              "#9c179e"
             ],
             [
              0.4444444444444444,
              "#bd3786"
             ],
             [
              0.5555555555555556,
              "#d8576b"
             ],
             [
              0.6666666666666666,
              "#ed7953"
             ],
             [
              0.7777777777777778,
              "#fb9f3a"
             ],
             [
              0.8888888888888888,
              "#fdca26"
             ],
             [
              1,
              "#f0f921"
             ]
            ],
            "type": "histogram2dcontour"
           }
          ],
          "mesh3d": [
           {
            "colorbar": {
             "outlinewidth": 0,
             "ticks": ""
            },
            "type": "mesh3d"
           }
          ],
          "parcoords": [
           {
            "line": {
             "colorbar": {
              "outlinewidth": 0,
              "ticks": ""
             }
            },
            "type": "parcoords"
           }
          ],
          "scatter": [
           {
            "marker": {
             "colorbar": {
              "outlinewidth": 0,
              "ticks": ""
             }
            },
            "type": "scatter"
           }
          ],
          "scatter3d": [
           {
            "line": {
             "colorbar": {
              "outlinewidth": 0,
              "ticks": ""
             }
            },
            "marker": {
             "colorbar": {
              "outlinewidth": 0,
              "ticks": ""
             }
            },
            "type": "scatter3d"
           }
          ],
          "scattercarpet": [
           {
            "marker": {
             "colorbar": {
              "outlinewidth": 0,
              "ticks": ""
             }
            },
            "type": "scattercarpet"
           }
          ],
          "scattergeo": [
           {
            "marker": {
             "colorbar": {
              "outlinewidth": 0,
              "ticks": ""
             }
            },
            "type": "scattergeo"
           }
          ],
          "scattergl": [
           {
            "marker": {
             "colorbar": {
              "outlinewidth": 0,
              "ticks": ""
             }
            },
            "type": "scattergl"
           }
          ],
          "scattermapbox": [
           {
            "marker": {
             "colorbar": {
              "outlinewidth": 0,
              "ticks": ""
             }
            },
            "type": "scattermapbox"
           }
          ],
          "scatterpolar": [
           {
            "marker": {
             "colorbar": {
              "outlinewidth": 0,
              "ticks": ""
             }
            },
            "type": "scatterpolar"
           }
          ],
          "scatterpolargl": [
           {
            "marker": {
             "colorbar": {
              "outlinewidth": 0,
              "ticks": ""
             }
            },
            "type": "scatterpolargl"
           }
          ],
          "scatterternary": [
           {
            "marker": {
             "colorbar": {
              "outlinewidth": 0,
              "ticks": ""
             }
            },
            "type": "scatterternary"
           }
          ],
          "surface": [
           {
            "colorbar": {
             "outlinewidth": 0,
             "ticks": ""
            },
            "colorscale": [
             [
              0,
              "#0d0887"
             ],
             [
              0.1111111111111111,
              "#46039f"
             ],
             [
              0.2222222222222222,
              "#7201a8"
             ],
             [
              0.3333333333333333,
              "#9c179e"
             ],
             [
              0.4444444444444444,
              "#bd3786"
             ],
             [
              0.5555555555555556,
              "#d8576b"
             ],
             [
              0.6666666666666666,
              "#ed7953"
             ],
             [
              0.7777777777777778,
              "#fb9f3a"
             ],
             [
              0.8888888888888888,
              "#fdca26"
             ],
             [
              1,
              "#f0f921"
             ]
            ],
            "type": "surface"
           }
          ],
          "table": [
           {
            "cells": {
             "fill": {
              "color": "#EBF0F8"
             },
             "line": {
              "color": "white"
             }
            },
            "header": {
             "fill": {
              "color": "#C8D4E3"
             },
             "line": {
              "color": "white"
             }
            },
            "type": "table"
           }
          ]
         },
         "layout": {
          "annotationdefaults": {
           "arrowcolor": "#2a3f5f",
           "arrowhead": 0,
           "arrowwidth": 1
          },
          "colorscale": {
           "diverging": [
            [
             0,
             "#8e0152"
            ],
            [
             0.1,
             "#c51b7d"
            ],
            [
             0.2,
             "#de77ae"
            ],
            [
             0.3,
             "#f1b6da"
            ],
            [
             0.4,
             "#fde0ef"
            ],
            [
             0.5,
             "#f7f7f7"
            ],
            [
             0.6,
             "#e6f5d0"
            ],
            [
             0.7,
             "#b8e186"
            ],
            [
             0.8,
             "#7fbc41"
            ],
            [
             0.9,
             "#4d9221"
            ],
            [
             1,
             "#276419"
            ]
           ],
           "sequential": [
            [
             0,
             "#0d0887"
            ],
            [
             0.1111111111111111,
             "#46039f"
            ],
            [
             0.2222222222222222,
             "#7201a8"
            ],
            [
             0.3333333333333333,
             "#9c179e"
            ],
            [
             0.4444444444444444,
             "#bd3786"
            ],
            [
             0.5555555555555556,
             "#d8576b"
            ],
            [
             0.6666666666666666,
             "#ed7953"
            ],
            [
             0.7777777777777778,
             "#fb9f3a"
            ],
            [
             0.8888888888888888,
             "#fdca26"
            ],
            [
             1,
             "#f0f921"
            ]
           ],
           "sequentialminus": [
            [
             0,
             "#0d0887"
            ],
            [
             0.1111111111111111,
             "#46039f"
            ],
            [
             0.2222222222222222,
             "#7201a8"
            ],
            [
             0.3333333333333333,
             "#9c179e"
            ],
            [
             0.4444444444444444,
             "#bd3786"
            ],
            [
             0.5555555555555556,
             "#d8576b"
            ],
            [
             0.6666666666666666,
             "#ed7953"
            ],
            [
             0.7777777777777778,
             "#fb9f3a"
            ],
            [
             0.8888888888888888,
             "#fdca26"
            ],
            [
             1,
             "#f0f921"
            ]
           ]
          },
          "colorway": [
           "#636efa",
           "#EF553B",
           "#00cc96",
           "#ab63fa",
           "#FFA15A",
           "#19d3f3",
           "#FF6692",
           "#B6E880",
           "#FF97FF",
           "#FECB52"
          ],
          "font": {
           "color": "#2a3f5f"
          },
          "geo": {
           "bgcolor": "white",
           "lakecolor": "white",
           "landcolor": "#E5ECF6",
           "showlakes": true,
           "showland": true,
           "subunitcolor": "white"
          },
          "hoverlabel": {
           "align": "left"
          },
          "hovermode": "closest",
          "mapbox": {
           "style": "light"
          },
          "paper_bgcolor": "white",
          "plot_bgcolor": "#E5ECF6",
          "polar": {
           "angularaxis": {
            "gridcolor": "white",
            "linecolor": "white",
            "ticks": ""
           },
           "bgcolor": "#E5ECF6",
           "radialaxis": {
            "gridcolor": "white",
            "linecolor": "white",
            "ticks": ""
           }
          },
          "scene": {
           "xaxis": {
            "backgroundcolor": "#E5ECF6",
            "gridcolor": "white",
            "gridwidth": 2,
            "linecolor": "white",
            "showbackground": true,
            "ticks": "",
            "zerolinecolor": "white"
           },
           "yaxis": {
            "backgroundcolor": "#E5ECF6",
            "gridcolor": "white",
            "gridwidth": 2,
            "linecolor": "white",
            "showbackground": true,
            "ticks": "",
            "zerolinecolor": "white"
           },
           "zaxis": {
            "backgroundcolor": "#E5ECF6",
            "gridcolor": "white",
            "gridwidth": 2,
            "linecolor": "white",
            "showbackground": true,
            "ticks": "",
            "zerolinecolor": "white"
           }
          },
          "shapedefaults": {
           "line": {
            "color": "#2a3f5f"
           }
          },
          "ternary": {
           "aaxis": {
            "gridcolor": "white",
            "linecolor": "white",
            "ticks": ""
           },
           "baxis": {
            "gridcolor": "white",
            "linecolor": "white",
            "ticks": ""
           },
           "bgcolor": "#E5ECF6",
           "caxis": {
            "gridcolor": "white",
            "linecolor": "white",
            "ticks": ""
           }
          },
          "title": {
           "x": 0.05
          },
          "xaxis": {
           "automargin": true,
           "gridcolor": "white",
           "linecolor": "white",
           "ticks": "",
           "zerolinecolor": "white",
           "zerolinewidth": 2
          },
          "yaxis": {
           "automargin": true,
           "gridcolor": "white",
           "linecolor": "white",
           "ticks": "",
           "zerolinecolor": "white",
           "zerolinewidth": 2
          }
         }
        }
       }
      },
      "text/html": [
       "<div>\n",
       "        \n",
       "        \n",
       "            <div id=\"830afb24-d062-4999-8d50-bc5f0aaae0f7\" class=\"plotly-graph-div\" style=\"height:525px; width:100%;\"></div>\n",
       "            <script type=\"text/javascript\">\n",
       "                require([\"plotly\"], function(Plotly) {\n",
       "                    window.PLOTLYENV=window.PLOTLYENV || {};\n",
       "                    \n",
       "                if (document.getElementById(\"830afb24-d062-4999-8d50-bc5f0aaae0f7\")) {\n",
       "                    Plotly.newPlot(\n",
       "                        '830afb24-d062-4999-8d50-bc5f0aaae0f7',\n",
       "                        [{\"mode\": \"lines+markers\", \"name\": \"tp\", \"type\": \"scatter\", \"x\": [0.0, 0.00018667164457718873, 0.0005600149337315662, 0.031174164644390517, 1.0], \"y\": [0.0, 0.016038791495710556, 0.043640432674375236, 0.9709063782170831, 1.0]}, {\"mode\": \"lines+markers\", \"name\": \"fp\", \"type\": \"scatter\", \"x\": [0.0, 0.00018667164457718873, 0.0005600149337315662, 0.031174164644390517, 1.0], \"y\": [0.0, 0.00018667164457718873, 0.0005600149337315662, 0.031174164644390517, 1.0]}],\n",
       "                        {\"template\": {\"data\": {\"bar\": [{\"error_x\": {\"color\": \"#2a3f5f\"}, \"error_y\": {\"color\": \"#2a3f5f\"}, \"marker\": {\"line\": {\"color\": \"#E5ECF6\", \"width\": 0.5}}, \"type\": \"bar\"}], \"barpolar\": [{\"marker\": {\"line\": {\"color\": \"#E5ECF6\", \"width\": 0.5}}, \"type\": \"barpolar\"}], \"carpet\": [{\"aaxis\": {\"endlinecolor\": \"#2a3f5f\", \"gridcolor\": \"white\", \"linecolor\": \"white\", \"minorgridcolor\": \"white\", \"startlinecolor\": \"#2a3f5f\"}, \"baxis\": {\"endlinecolor\": \"#2a3f5f\", \"gridcolor\": \"white\", \"linecolor\": \"white\", \"minorgridcolor\": \"white\", \"startlinecolor\": \"#2a3f5f\"}, \"type\": \"carpet\"}], \"choropleth\": [{\"colorbar\": {\"outlinewidth\": 0, \"ticks\": \"\"}, \"type\": \"choropleth\"}], \"contour\": [{\"colorbar\": {\"outlinewidth\": 0, \"ticks\": \"\"}, \"colorscale\": [[0.0, \"#0d0887\"], [0.1111111111111111, \"#46039f\"], [0.2222222222222222, \"#7201a8\"], [0.3333333333333333, \"#9c179e\"], [0.4444444444444444, \"#bd3786\"], [0.5555555555555556, \"#d8576b\"], [0.6666666666666666, \"#ed7953\"], [0.7777777777777778, \"#fb9f3a\"], [0.8888888888888888, \"#fdca26\"], [1.0, \"#f0f921\"]], \"type\": \"contour\"}], \"contourcarpet\": [{\"colorbar\": {\"outlinewidth\": 0, \"ticks\": \"\"}, \"type\": \"contourcarpet\"}], \"heatmap\": [{\"colorbar\": {\"outlinewidth\": 0, \"ticks\": \"\"}, \"colorscale\": [[0.0, \"#0d0887\"], [0.1111111111111111, \"#46039f\"], [0.2222222222222222, \"#7201a8\"], [0.3333333333333333, \"#9c179e\"], [0.4444444444444444, \"#bd3786\"], [0.5555555555555556, \"#d8576b\"], [0.6666666666666666, \"#ed7953\"], [0.7777777777777778, \"#fb9f3a\"], [0.8888888888888888, \"#fdca26\"], [1.0, \"#f0f921\"]], \"type\": \"heatmap\"}], \"heatmapgl\": [{\"colorbar\": {\"outlinewidth\": 0, \"ticks\": \"\"}, \"colorscale\": [[0.0, \"#0d0887\"], [0.1111111111111111, \"#46039f\"], [0.2222222222222222, \"#7201a8\"], [0.3333333333333333, \"#9c179e\"], [0.4444444444444444, \"#bd3786\"], [0.5555555555555556, \"#d8576b\"], [0.6666666666666666, \"#ed7953\"], [0.7777777777777778, \"#fb9f3a\"], [0.8888888888888888, \"#fdca26\"], [1.0, \"#f0f921\"]], \"type\": \"heatmapgl\"}], \"histogram\": [{\"marker\": {\"colorbar\": {\"outlinewidth\": 0, \"ticks\": \"\"}}, \"type\": \"histogram\"}], \"histogram2d\": [{\"colorbar\": {\"outlinewidth\": 0, \"ticks\": \"\"}, \"colorscale\": [[0.0, \"#0d0887\"], [0.1111111111111111, \"#46039f\"], [0.2222222222222222, \"#7201a8\"], [0.3333333333333333, \"#9c179e\"], [0.4444444444444444, \"#bd3786\"], [0.5555555555555556, \"#d8576b\"], [0.6666666666666666, \"#ed7953\"], [0.7777777777777778, \"#fb9f3a\"], [0.8888888888888888, \"#fdca26\"], [1.0, \"#f0f921\"]], \"type\": \"histogram2d\"}], \"histogram2dcontour\": [{\"colorbar\": {\"outlinewidth\": 0, \"ticks\": \"\"}, \"colorscale\": [[0.0, \"#0d0887\"], [0.1111111111111111, \"#46039f\"], [0.2222222222222222, \"#7201a8\"], [0.3333333333333333, \"#9c179e\"], [0.4444444444444444, \"#bd3786\"], [0.5555555555555556, \"#d8576b\"], [0.6666666666666666, \"#ed7953\"], [0.7777777777777778, \"#fb9f3a\"], [0.8888888888888888, \"#fdca26\"], [1.0, \"#f0f921\"]], \"type\": \"histogram2dcontour\"}], \"mesh3d\": [{\"colorbar\": {\"outlinewidth\": 0, \"ticks\": \"\"}, \"type\": \"mesh3d\"}], \"parcoords\": [{\"line\": {\"colorbar\": {\"outlinewidth\": 0, \"ticks\": \"\"}}, \"type\": \"parcoords\"}], \"scatter\": [{\"marker\": {\"colorbar\": {\"outlinewidth\": 0, \"ticks\": \"\"}}, \"type\": \"scatter\"}], \"scatter3d\": [{\"line\": {\"colorbar\": {\"outlinewidth\": 0, \"ticks\": \"\"}}, \"marker\": {\"colorbar\": {\"outlinewidth\": 0, \"ticks\": \"\"}}, \"type\": \"scatter3d\"}], \"scattercarpet\": [{\"marker\": {\"colorbar\": {\"outlinewidth\": 0, \"ticks\": \"\"}}, \"type\": \"scattercarpet\"}], \"scattergeo\": [{\"marker\": {\"colorbar\": {\"outlinewidth\": 0, \"ticks\": \"\"}}, \"type\": \"scattergeo\"}], \"scattergl\": [{\"marker\": {\"colorbar\": {\"outlinewidth\": 0, \"ticks\": \"\"}}, \"type\": \"scattergl\"}], \"scattermapbox\": [{\"marker\": {\"colorbar\": {\"outlinewidth\": 0, \"ticks\": \"\"}}, \"type\": \"scattermapbox\"}], \"scatterpolar\": [{\"marker\": {\"colorbar\": {\"outlinewidth\": 0, \"ticks\": \"\"}}, \"type\": \"scatterpolar\"}], \"scatterpolargl\": [{\"marker\": {\"colorbar\": {\"outlinewidth\": 0, \"ticks\": \"\"}}, \"type\": \"scatterpolargl\"}], \"scatterternary\": [{\"marker\": {\"colorbar\": {\"outlinewidth\": 0, \"ticks\": \"\"}}, \"type\": \"scatterternary\"}], \"surface\": [{\"colorbar\": {\"outlinewidth\": 0, \"ticks\": \"\"}, \"colorscale\": [[0.0, \"#0d0887\"], [0.1111111111111111, \"#46039f\"], [0.2222222222222222, \"#7201a8\"], [0.3333333333333333, \"#9c179e\"], [0.4444444444444444, \"#bd3786\"], [0.5555555555555556, \"#d8576b\"], [0.6666666666666666, \"#ed7953\"], [0.7777777777777778, \"#fb9f3a\"], [0.8888888888888888, \"#fdca26\"], [1.0, \"#f0f921\"]], \"type\": \"surface\"}], \"table\": [{\"cells\": {\"fill\": {\"color\": \"#EBF0F8\"}, \"line\": {\"color\": \"white\"}}, \"header\": {\"fill\": {\"color\": \"#C8D4E3\"}, \"line\": {\"color\": \"white\"}}, \"type\": \"table\"}]}, \"layout\": {\"annotationdefaults\": {\"arrowcolor\": \"#2a3f5f\", \"arrowhead\": 0, \"arrowwidth\": 1}, \"colorscale\": {\"diverging\": [[0, \"#8e0152\"], [0.1, \"#c51b7d\"], [0.2, \"#de77ae\"], [0.3, \"#f1b6da\"], [0.4, \"#fde0ef\"], [0.5, \"#f7f7f7\"], [0.6, \"#e6f5d0\"], [0.7, \"#b8e186\"], [0.8, \"#7fbc41\"], [0.9, \"#4d9221\"], [1, \"#276419\"]], \"sequential\": [[0.0, \"#0d0887\"], [0.1111111111111111, \"#46039f\"], [0.2222222222222222, \"#7201a8\"], [0.3333333333333333, \"#9c179e\"], [0.4444444444444444, \"#bd3786\"], [0.5555555555555556, \"#d8576b\"], [0.6666666666666666, \"#ed7953\"], [0.7777777777777778, \"#fb9f3a\"], [0.8888888888888888, \"#fdca26\"], [1.0, \"#f0f921\"]], \"sequentialminus\": [[0.0, \"#0d0887\"], [0.1111111111111111, \"#46039f\"], [0.2222222222222222, \"#7201a8\"], [0.3333333333333333, \"#9c179e\"], [0.4444444444444444, \"#bd3786\"], [0.5555555555555556, \"#d8576b\"], [0.6666666666666666, \"#ed7953\"], [0.7777777777777778, \"#fb9f3a\"], [0.8888888888888888, \"#fdca26\"], [1.0, \"#f0f921\"]]}, \"colorway\": [\"#636efa\", \"#EF553B\", \"#00cc96\", \"#ab63fa\", \"#FFA15A\", \"#19d3f3\", \"#FF6692\", \"#B6E880\", \"#FF97FF\", \"#FECB52\"], \"font\": {\"color\": \"#2a3f5f\"}, \"geo\": {\"bgcolor\": \"white\", \"lakecolor\": \"white\", \"landcolor\": \"#E5ECF6\", \"showlakes\": true, \"showland\": true, \"subunitcolor\": \"white\"}, \"hoverlabel\": {\"align\": \"left\"}, \"hovermode\": \"closest\", \"mapbox\": {\"style\": \"light\"}, \"paper_bgcolor\": \"white\", \"plot_bgcolor\": \"#E5ECF6\", \"polar\": {\"angularaxis\": {\"gridcolor\": \"white\", \"linecolor\": \"white\", \"ticks\": \"\"}, \"bgcolor\": \"#E5ECF6\", \"radialaxis\": {\"gridcolor\": \"white\", \"linecolor\": \"white\", \"ticks\": \"\"}}, \"scene\": {\"xaxis\": {\"backgroundcolor\": \"#E5ECF6\", \"gridcolor\": \"white\", \"gridwidth\": 2, \"linecolor\": \"white\", \"showbackground\": true, \"ticks\": \"\", \"zerolinecolor\": \"white\"}, \"yaxis\": {\"backgroundcolor\": \"#E5ECF6\", \"gridcolor\": \"white\", \"gridwidth\": 2, \"linecolor\": \"white\", \"showbackground\": true, \"ticks\": \"\", \"zerolinecolor\": \"white\"}, \"zaxis\": {\"backgroundcolor\": \"#E5ECF6\", \"gridcolor\": \"white\", \"gridwidth\": 2, \"linecolor\": \"white\", \"showbackground\": true, \"ticks\": \"\", \"zerolinecolor\": \"white\"}}, \"shapedefaults\": {\"line\": {\"color\": \"#2a3f5f\"}}, \"ternary\": {\"aaxis\": {\"gridcolor\": \"white\", \"linecolor\": \"white\", \"ticks\": \"\"}, \"baxis\": {\"gridcolor\": \"white\", \"linecolor\": \"white\", \"ticks\": \"\"}, \"bgcolor\": \"#E5ECF6\", \"caxis\": {\"gridcolor\": \"white\", \"linecolor\": \"white\", \"ticks\": \"\"}}, \"title\": {\"x\": 0.05}, \"xaxis\": {\"automargin\": true, \"gridcolor\": \"white\", \"linecolor\": \"white\", \"ticks\": \"\", \"zerolinecolor\": \"white\", \"zerolinewidth\": 2}, \"yaxis\": {\"automargin\": true, \"gridcolor\": \"white\", \"linecolor\": \"white\", \"ticks\": \"\", \"zerolinecolor\": \"white\", \"zerolinewidth\": 2}}}},\n",
       "                        {\"responsive\": true}\n",
       "                    ).then(function(){\n",
       "                            \n",
       "var gd = document.getElementById('830afb24-d062-4999-8d50-bc5f0aaae0f7');\n",
       "var x = new MutationObserver(function (mutations, observer) {{\n",
       "        var display = window.getComputedStyle(gd).display;\n",
       "        if (!display || display === 'none') {{\n",
       "            console.log([gd, 'removed!']);\n",
       "            Plotly.purge(gd);\n",
       "            observer.disconnect();\n",
       "        }}\n",
       "}});\n",
       "\n",
       "// Listen for the removal of the full notebook cells\n",
       "var notebookContainer = gd.closest('#notebook-container');\n",
       "if (notebookContainer) {{\n",
       "    x.observe(notebookContainer, {childList: true});\n",
       "}}\n",
       "\n",
       "// Listen for the clearing of the current output cell\n",
       "var outputEl = gd.closest('.output');\n",
       "if (outputEl) {{\n",
       "    x.observe(outputEl, {childList: true});\n",
       "}}\n",
       "\n",
       "                        })\n",
       "                };\n",
       "                });\n",
       "            </script>\n",
       "        </div>"
      ]
     },
     "metadata": {},
     "output_type": "display_data"
    }
   ],
   "source": [
    "# 训练集\n",
    "pred, prob = predict(adt, X_train)\n",
    "eval_ret = classifier_evaluate(y_train, pred)\n",
    "print(eval_ret)\n",
    "\n",
    "fpr, tpr, thresholds = roc_curve(y_train, prob)\n",
    "roc_auc = auc(fpr, tpr)\n",
    "print(f'auc{roc_auc}')\n",
    "draw_lines(fpr, [tpr, fpr], ['tp', 'fp'])"
   ]
  },
  {
   "cell_type": "code",
   "execution_count": null,
   "metadata": {},
   "outputs": [],
   "source": []
  },
  {
   "cell_type": "code",
   "execution_count": null,
   "metadata": {},
   "outputs": [],
   "source": []
  },
  {
   "cell_type": "code",
   "execution_count": null,
   "metadata": {},
   "outputs": [],
   "source": []
  },
  {
   "cell_type": "code",
   "execution_count": null,
   "metadata": {},
   "outputs": [],
   "source": []
  },
  {
   "cell_type": "code",
   "execution_count": null,
   "metadata": {},
   "outputs": [],
   "source": []
  },
  {
   "cell_type": "code",
   "execution_count": 200,
   "metadata": {},
   "outputs": [],
   "source": [
    "### 这个是按照cart 树的思路做的, id3 + 二叉树\n",
    "def gen_tree_bi(df, depth=0, min_samples_split=6, min_samples_leaf=3, max_depth=10):\n",
    "    ori_entropy = cal_entropy(df.target)\n",
    "    size = len(df)\n",
    "    ret = {\n",
    "            'ent': ori_entropy,\n",
    "            'size': size,\n",
    "            'tags': dict(Counter(df.target)),\n",
    "            'depth': depth\n",
    "    }\n",
    "    if size < min_samples_split:\n",
    "        # 这个节点数量太少, 不应该分裂\n",
    "        ret['reason'] = 'less than min_samples_split'\n",
    "        return ret\n",
    "    if depth >= max_depth:\n",
    "        # 太深了, 停止分裂\n",
    "        ret['reason'] = 'to deep'\n",
    "        return ret\n",
    "    ###\n",
    "    best_ent_gain = ori_entropy + 1\n",
    "    best_key = None\n",
    "    best_val = None\n",
    "    ###\n",
    "    for k in df.columns:\n",
    "        if k == 'target':\n",
    "            continue\n",
    "        uniq_val = set(df[k])\n",
    "        for v in uniq_val:\n",
    "            if len(df[df[k] <= v]) == size or len(df[df[k] <= v]) == 0:\n",
    "                continue\n",
    "            ent1 = cal_entropy(df[df[k] <= v].target)\n",
    "            ent2 = cal_entropy(df[df[k] >  v].target)\n",
    "            ent_gain = ori_entropy - ent1 - ent2\n",
    "            if best_key is None or ent_gain > best_ent_gain:\n",
    "                best_key = k\n",
    "                best_val = v\n",
    "                best_ent_gain = ent_gain\n",
    "    ###\n",
    "    ret['ent_gain'] = best_ent_gain\n",
    "    ret['key'] = best_key\n",
    "    ret['val'] = best_val\n",
    "    df1 = df[df[best_key] <= best_val]\n",
    "    df2 = df[df[best_key] >  best_val]\n",
    "    ret['leaf num'] = [len(df1), len(df2)]\n",
    "    if len(df1) < min_samples_leaf or len(df2) < min_samples_leaf:\n",
    "        # 子节点数量过少, 不应该分裂\n",
    "        ret['reason'] = 'leaf samples less than min_samples_leaf'\n",
    "        return ret\n",
    "    tree1 = gen_tree_bi(df1, depth=depth+1)\n",
    "    tree2 = gen_tree_bi(df2, depth=depth+1)\n",
    "    ret['tree1'] = tree1\n",
    "    ret['tree2'] = tree2\n",
    "    ret['trees'] = {}\n",
    "    ret['trees'][f'{best_key} <= {best_val}'] = tree1\n",
    "    ret['trees'][f'{best_key} > {best_val}'] = tree2\n",
    "    return ret"
   ]
  },
  {
   "cell_type": "code",
   "execution_count": 157,
   "metadata": {},
   "outputs": [],
   "source": [
    "def predict_process_bi(decision_tree, data):\n",
    "    prob = decision_tree['tags'][1]/(decision_tree['tags'][1] + decision_tree['tags'][0])\n",
    "    label = 1 if decision_tree['tags'][1] > decision_tree['tags'][0] else 0\n",
    "    ####\n",
    "    if 'tree1' in decision_tree:\n",
    "        key = decision_tree['key']\n",
    "        val = decision_tree['val']\n",
    "        if data[key] <= val:\n",
    "            tree = decision_tree['tree1']\n",
    "        else:\n",
    "            tree = decision_tree['tree2']\n",
    "        ret = predict_process(tree, data)\n",
    "        label = ret[0]\n",
    "        prob = ret[1]\n",
    "    return label, prob\n",
    "\n",
    "    \n",
    "def predict_bi(decision_tree, df):\n",
    "    d11 = df.to_dict()\n",
    "    size = len(df)\n",
    "    d12 = [{k: d11[k][i] for k in d11} for i in df.index]\n",
    "    preds = []\n",
    "    probs = []\n",
    "    for data in d12:\n",
    "        ret = predict_process_bi(decision_tree, data)\n",
    "        preds.append(ret[0])\n",
    "        probs.append(ret[1])\n",
    "    return preds, probs"
   ]
  },
  {
   "cell_type": "code",
   "execution_count": 201,
   "metadata": {},
   "outputs": [
    {
     "name": "stdout",
     "output_type": "stream",
     "text": [
      "{'recall': 0.9644495412844036, 'precision': 0.9428251121076233, 'accuracy': 0.9694029850746269, 'tp': 841, 'fp': 51, 'tn': 1757, 'fn': 31}\n",
      "auc0.9689295029227897\n"
     ]
    },
    {
     "data": {
      "application/vnd.plotly.v1+json": {
       "config": {
        "plotlyServerURL": "https://plot.ly"
       },
       "data": [
        {
         "mode": "lines+markers",
         "name": "tp",
         "type": "scatter",
         "x": [
          0,
          0,
          0,
          0.02820796460176991,
          1
         ],
         "y": [
          0,
          0.022935779816513763,
          0.05733944954128441,
          0.9644495412844036,
          1
         ]
        },
        {
         "mode": "lines+markers",
         "name": "fp",
         "type": "scatter",
         "x": [
          0,
          0,
          0,
          0.02820796460176991,
          1
         ],
         "y": [
          0,
          0,
          0,
          0.02820796460176991,
          1
         ]
        }
       ],
       "layout": {
        "template": {
         "data": {
          "bar": [
           {
            "error_x": {
             "color": "#2a3f5f"
            },
            "error_y": {
             "color": "#2a3f5f"
            },
            "marker": {
             "line": {
              "color": "#E5ECF6",
              "width": 0.5
             }
            },
            "type": "bar"
           }
          ],
          "barpolar": [
           {
            "marker": {
             "line": {
              "color": "#E5ECF6",
              "width": 0.5
             }
            },
            "type": "barpolar"
           }
          ],
          "carpet": [
           {
            "aaxis": {
             "endlinecolor": "#2a3f5f",
             "gridcolor": "white",
             "linecolor": "white",
             "minorgridcolor": "white",
             "startlinecolor": "#2a3f5f"
            },
            "baxis": {
             "endlinecolor": "#2a3f5f",
             "gridcolor": "white",
             "linecolor": "white",
             "minorgridcolor": "white",
             "startlinecolor": "#2a3f5f"
            },
            "type": "carpet"
           }
          ],
          "choropleth": [
           {
            "colorbar": {
             "outlinewidth": 0,
             "ticks": ""
            },
            "type": "choropleth"
           }
          ],
          "contour": [
           {
            "colorbar": {
             "outlinewidth": 0,
             "ticks": ""
            },
            "colorscale": [
             [
              0,
              "#0d0887"
             ],
             [
              0.1111111111111111,
              "#46039f"
             ],
             [
              0.2222222222222222,
              "#7201a8"
             ],
             [
              0.3333333333333333,
              "#9c179e"
             ],
             [
              0.4444444444444444,
              "#bd3786"
             ],
             [
              0.5555555555555556,
              "#d8576b"
             ],
             [
              0.6666666666666666,
              "#ed7953"
             ],
             [
              0.7777777777777778,
              "#fb9f3a"
             ],
             [
              0.8888888888888888,
              "#fdca26"
             ],
             [
              1,
              "#f0f921"
             ]
            ],
            "type": "contour"
           }
          ],
          "contourcarpet": [
           {
            "colorbar": {
             "outlinewidth": 0,
             "ticks": ""
            },
            "type": "contourcarpet"
           }
          ],
          "heatmap": [
           {
            "colorbar": {
             "outlinewidth": 0,
             "ticks": ""
            },
            "colorscale": [
             [
              0,
              "#0d0887"
             ],
             [
              0.1111111111111111,
              "#46039f"
             ],
             [
              0.2222222222222222,
              "#7201a8"
             ],
             [
              0.3333333333333333,
              "#9c179e"
             ],
             [
              0.4444444444444444,
              "#bd3786"
             ],
             [
              0.5555555555555556,
              "#d8576b"
             ],
             [
              0.6666666666666666,
              "#ed7953"
             ],
             [
              0.7777777777777778,
              "#fb9f3a"
             ],
             [
              0.8888888888888888,
              "#fdca26"
             ],
             [
              1,
              "#f0f921"
             ]
            ],
            "type": "heatmap"
           }
          ],
          "heatmapgl": [
           {
            "colorbar": {
             "outlinewidth": 0,
             "ticks": ""
            },
            "colorscale": [
             [
              0,
              "#0d0887"
             ],
             [
              0.1111111111111111,
              "#46039f"
             ],
             [
              0.2222222222222222,
              "#7201a8"
             ],
             [
              0.3333333333333333,
              "#9c179e"
             ],
             [
              0.4444444444444444,
              "#bd3786"
             ],
             [
              0.5555555555555556,
              "#d8576b"
             ],
             [
              0.6666666666666666,
              "#ed7953"
             ],
             [
              0.7777777777777778,
              "#fb9f3a"
             ],
             [
              0.8888888888888888,
              "#fdca26"
             ],
             [
              1,
              "#f0f921"
             ]
            ],
            "type": "heatmapgl"
           }
          ],
          "histogram": [
           {
            "marker": {
             "colorbar": {
              "outlinewidth": 0,
              "ticks": ""
             }
            },
            "type": "histogram"
           }
          ],
          "histogram2d": [
           {
            "colorbar": {
             "outlinewidth": 0,
             "ticks": ""
            },
            "colorscale": [
             [
              0,
              "#0d0887"
             ],
             [
              0.1111111111111111,
              "#46039f"
             ],
             [
              0.2222222222222222,
              "#7201a8"
             ],
             [
              0.3333333333333333,
              "#9c179e"
             ],
             [
              0.4444444444444444,
              "#bd3786"
             ],
             [
              0.5555555555555556,
              "#d8576b"
             ],
             [
              0.6666666666666666,
              "#ed7953"
             ],
             [
              0.7777777777777778,
              "#fb9f3a"
             ],
             [
              0.8888888888888888,
              "#fdca26"
             ],
             [
              1,
              "#f0f921"
             ]
            ],
            "type": "histogram2d"
           }
          ],
          "histogram2dcontour": [
           {
            "colorbar": {
             "outlinewidth": 0,
             "ticks": ""
            },
            "colorscale": [
             [
              0,
              "#0d0887"
             ],
             [
              0.1111111111111111,
              "#46039f"
             ],
             [
              0.2222222222222222,
              "#7201a8"
             ],
             [
              0.3333333333333333,
              "#9c179e"
             ],
             [
              0.4444444444444444,
              "#bd3786"
             ],
             [
              0.5555555555555556,
              "#d8576b"
             ],
             [
              0.6666666666666666,
              "#ed7953"
             ],
             [
              0.7777777777777778,
              "#fb9f3a"
             ],
             [
              0.8888888888888888,
              "#fdca26"
             ],
             [
              1,
              "#f0f921"
             ]
            ],
            "type": "histogram2dcontour"
           }
          ],
          "mesh3d": [
           {
            "colorbar": {
             "outlinewidth": 0,
             "ticks": ""
            },
            "type": "mesh3d"
           }
          ],
          "parcoords": [
           {
            "line": {
             "colorbar": {
              "outlinewidth": 0,
              "ticks": ""
             }
            },
            "type": "parcoords"
           }
          ],
          "scatter": [
           {
            "marker": {
             "colorbar": {
              "outlinewidth": 0,
              "ticks": ""
             }
            },
            "type": "scatter"
           }
          ],
          "scatter3d": [
           {
            "line": {
             "colorbar": {
              "outlinewidth": 0,
              "ticks": ""
             }
            },
            "marker": {
             "colorbar": {
              "outlinewidth": 0,
              "ticks": ""
             }
            },
            "type": "scatter3d"
           }
          ],
          "scattercarpet": [
           {
            "marker": {
             "colorbar": {
              "outlinewidth": 0,
              "ticks": ""
             }
            },
            "type": "scattercarpet"
           }
          ],
          "scattergeo": [
           {
            "marker": {
             "colorbar": {
              "outlinewidth": 0,
              "ticks": ""
             }
            },
            "type": "scattergeo"
           }
          ],
          "scattergl": [
           {
            "marker": {
             "colorbar": {
              "outlinewidth": 0,
              "ticks": ""
             }
            },
            "type": "scattergl"
           }
          ],
          "scattermapbox": [
           {
            "marker": {
             "colorbar": {
              "outlinewidth": 0,
              "ticks": ""
             }
            },
            "type": "scattermapbox"
           }
          ],
          "scatterpolar": [
           {
            "marker": {
             "colorbar": {
              "outlinewidth": 0,
              "ticks": ""
             }
            },
            "type": "scatterpolar"
           }
          ],
          "scatterpolargl": [
           {
            "marker": {
             "colorbar": {
              "outlinewidth": 0,
              "ticks": ""
             }
            },
            "type": "scatterpolargl"
           }
          ],
          "scatterternary": [
           {
            "marker": {
             "colorbar": {
              "outlinewidth": 0,
              "ticks": ""
             }
            },
            "type": "scatterternary"
           }
          ],
          "surface": [
           {
            "colorbar": {
             "outlinewidth": 0,
             "ticks": ""
            },
            "colorscale": [
             [
              0,
              "#0d0887"
             ],
             [
              0.1111111111111111,
              "#46039f"
             ],
             [
              0.2222222222222222,
              "#7201a8"
             ],
             [
              0.3333333333333333,
              "#9c179e"
             ],
             [
              0.4444444444444444,
              "#bd3786"
             ],
             [
              0.5555555555555556,
              "#d8576b"
             ],
             [
              0.6666666666666666,
              "#ed7953"
             ],
             [
              0.7777777777777778,
              "#fb9f3a"
             ],
             [
              0.8888888888888888,
              "#fdca26"
             ],
             [
              1,
              "#f0f921"
             ]
            ],
            "type": "surface"
           }
          ],
          "table": [
           {
            "cells": {
             "fill": {
              "color": "#EBF0F8"
             },
             "line": {
              "color": "white"
             }
            },
            "header": {
             "fill": {
              "color": "#C8D4E3"
             },
             "line": {
              "color": "white"
             }
            },
            "type": "table"
           }
          ]
         },
         "layout": {
          "annotationdefaults": {
           "arrowcolor": "#2a3f5f",
           "arrowhead": 0,
           "arrowwidth": 1
          },
          "colorscale": {
           "diverging": [
            [
             0,
             "#8e0152"
            ],
            [
             0.1,
             "#c51b7d"
            ],
            [
             0.2,
             "#de77ae"
            ],
            [
             0.3,
             "#f1b6da"
            ],
            [
             0.4,
             "#fde0ef"
            ],
            [
             0.5,
             "#f7f7f7"
            ],
            [
             0.6,
             "#e6f5d0"
            ],
            [
             0.7,
             "#b8e186"
            ],
            [
             0.8,
             "#7fbc41"
            ],
            [
             0.9,
             "#4d9221"
            ],
            [
             1,
             "#276419"
            ]
           ],
           "sequential": [
            [
             0,
             "#0d0887"
            ],
            [
             0.1111111111111111,
             "#46039f"
            ],
            [
             0.2222222222222222,
             "#7201a8"
            ],
            [
             0.3333333333333333,
             "#9c179e"
            ],
            [
             0.4444444444444444,
             "#bd3786"
            ],
            [
             0.5555555555555556,
             "#d8576b"
            ],
            [
             0.6666666666666666,
             "#ed7953"
            ],
            [
             0.7777777777777778,
             "#fb9f3a"
            ],
            [
             0.8888888888888888,
             "#fdca26"
            ],
            [
             1,
             "#f0f921"
            ]
           ],
           "sequentialminus": [
            [
             0,
             "#0d0887"
            ],
            [
             0.1111111111111111,
             "#46039f"
            ],
            [
             0.2222222222222222,
             "#7201a8"
            ],
            [
             0.3333333333333333,
             "#9c179e"
            ],
            [
             0.4444444444444444,
             "#bd3786"
            ],
            [
             0.5555555555555556,
             "#d8576b"
            ],
            [
             0.6666666666666666,
             "#ed7953"
            ],
            [
             0.7777777777777778,
             "#fb9f3a"
            ],
            [
             0.8888888888888888,
             "#fdca26"
            ],
            [
             1,
             "#f0f921"
            ]
           ]
          },
          "colorway": [
           "#636efa",
           "#EF553B",
           "#00cc96",
           "#ab63fa",
           "#FFA15A",
           "#19d3f3",
           "#FF6692",
           "#B6E880",
           "#FF97FF",
           "#FECB52"
          ],
          "font": {
           "color": "#2a3f5f"
          },
          "geo": {
           "bgcolor": "white",
           "lakecolor": "white",
           "landcolor": "#E5ECF6",
           "showlakes": true,
           "showland": true,
           "subunitcolor": "white"
          },
          "hoverlabel": {
           "align": "left"
          },
          "hovermode": "closest",
          "mapbox": {
           "style": "light"
          },
          "paper_bgcolor": "white",
          "plot_bgcolor": "#E5ECF6",
          "polar": {
           "angularaxis": {
            "gridcolor": "white",
            "linecolor": "white",
            "ticks": ""
           },
           "bgcolor": "#E5ECF6",
           "radialaxis": {
            "gridcolor": "white",
            "linecolor": "white",
            "ticks": ""
           }
          },
          "scene": {
           "xaxis": {
            "backgroundcolor": "#E5ECF6",
            "gridcolor": "white",
            "gridwidth": 2,
            "linecolor": "white",
            "showbackground": true,
            "ticks": "",
            "zerolinecolor": "white"
           },
           "yaxis": {
            "backgroundcolor": "#E5ECF6",
            "gridcolor": "white",
            "gridwidth": 2,
            "linecolor": "white",
            "showbackground": true,
            "ticks": "",
            "zerolinecolor": "white"
           },
           "zaxis": {
            "backgroundcolor": "#E5ECF6",
            "gridcolor": "white",
            "gridwidth": 2,
            "linecolor": "white",
            "showbackground": true,
            "ticks": "",
            "zerolinecolor": "white"
           }
          },
          "shapedefaults": {
           "line": {
            "color": "#2a3f5f"
           }
          },
          "ternary": {
           "aaxis": {
            "gridcolor": "white",
            "linecolor": "white",
            "ticks": ""
           },
           "baxis": {
            "gridcolor": "white",
            "linecolor": "white",
            "ticks": ""
           },
           "bgcolor": "#E5ECF6",
           "caxis": {
            "gridcolor": "white",
            "linecolor": "white",
            "ticks": ""
           }
          },
          "title": {
           "x": 0.05
          },
          "xaxis": {
           "automargin": true,
           "gridcolor": "white",
           "linecolor": "white",
           "ticks": "",
           "zerolinecolor": "white",
           "zerolinewidth": 2
          },
          "yaxis": {
           "automargin": true,
           "gridcolor": "white",
           "linecolor": "white",
           "ticks": "",
           "zerolinecolor": "white",
           "zerolinewidth": 2
          }
         }
        }
       }
      },
      "text/html": [
       "<div>\n",
       "        \n",
       "        \n",
       "            <div id=\"d49e2e9a-c625-48c2-98a9-292b24a18a86\" class=\"plotly-graph-div\" style=\"height:525px; width:100%;\"></div>\n",
       "            <script type=\"text/javascript\">\n",
       "                require([\"plotly\"], function(Plotly) {\n",
       "                    window.PLOTLYENV=window.PLOTLYENV || {};\n",
       "                    \n",
       "                if (document.getElementById(\"d49e2e9a-c625-48c2-98a9-292b24a18a86\")) {\n",
       "                    Plotly.newPlot(\n",
       "                        'd49e2e9a-c625-48c2-98a9-292b24a18a86',\n",
       "                        [{\"mode\": \"lines+markers\", \"name\": \"tp\", \"type\": \"scatter\", \"x\": [0.0, 0.0, 0.0, 0.02820796460176991, 1.0], \"y\": [0.0, 0.022935779816513763, 0.05733944954128441, 0.9644495412844036, 1.0]}, {\"mode\": \"lines+markers\", \"name\": \"fp\", \"type\": \"scatter\", \"x\": [0.0, 0.0, 0.0, 0.02820796460176991, 1.0], \"y\": [0.0, 0.0, 0.0, 0.02820796460176991, 1.0]}],\n",
       "                        {\"template\": {\"data\": {\"bar\": [{\"error_x\": {\"color\": \"#2a3f5f\"}, \"error_y\": {\"color\": \"#2a3f5f\"}, \"marker\": {\"line\": {\"color\": \"#E5ECF6\", \"width\": 0.5}}, \"type\": \"bar\"}], \"barpolar\": [{\"marker\": {\"line\": {\"color\": \"#E5ECF6\", \"width\": 0.5}}, \"type\": \"barpolar\"}], \"carpet\": [{\"aaxis\": {\"endlinecolor\": \"#2a3f5f\", \"gridcolor\": \"white\", \"linecolor\": \"white\", \"minorgridcolor\": \"white\", \"startlinecolor\": \"#2a3f5f\"}, \"baxis\": {\"endlinecolor\": \"#2a3f5f\", \"gridcolor\": \"white\", \"linecolor\": \"white\", \"minorgridcolor\": \"white\", \"startlinecolor\": \"#2a3f5f\"}, \"type\": \"carpet\"}], \"choropleth\": [{\"colorbar\": {\"outlinewidth\": 0, \"ticks\": \"\"}, \"type\": \"choropleth\"}], \"contour\": [{\"colorbar\": {\"outlinewidth\": 0, \"ticks\": \"\"}, \"colorscale\": [[0.0, \"#0d0887\"], [0.1111111111111111, \"#46039f\"], [0.2222222222222222, \"#7201a8\"], [0.3333333333333333, \"#9c179e\"], [0.4444444444444444, \"#bd3786\"], [0.5555555555555556, \"#d8576b\"], [0.6666666666666666, \"#ed7953\"], [0.7777777777777778, \"#fb9f3a\"], [0.8888888888888888, \"#fdca26\"], [1.0, \"#f0f921\"]], \"type\": \"contour\"}], \"contourcarpet\": [{\"colorbar\": {\"outlinewidth\": 0, \"ticks\": \"\"}, \"type\": \"contourcarpet\"}], \"heatmap\": [{\"colorbar\": {\"outlinewidth\": 0, \"ticks\": \"\"}, \"colorscale\": [[0.0, \"#0d0887\"], [0.1111111111111111, \"#46039f\"], [0.2222222222222222, \"#7201a8\"], [0.3333333333333333, \"#9c179e\"], [0.4444444444444444, \"#bd3786\"], [0.5555555555555556, \"#d8576b\"], [0.6666666666666666, \"#ed7953\"], [0.7777777777777778, \"#fb9f3a\"], [0.8888888888888888, \"#fdca26\"], [1.0, \"#f0f921\"]], \"type\": \"heatmap\"}], \"heatmapgl\": [{\"colorbar\": {\"outlinewidth\": 0, \"ticks\": \"\"}, \"colorscale\": [[0.0, \"#0d0887\"], [0.1111111111111111, \"#46039f\"], [0.2222222222222222, \"#7201a8\"], [0.3333333333333333, \"#9c179e\"], [0.4444444444444444, \"#bd3786\"], [0.5555555555555556, \"#d8576b\"], [0.6666666666666666, \"#ed7953\"], [0.7777777777777778, \"#fb9f3a\"], [0.8888888888888888, \"#fdca26\"], [1.0, \"#f0f921\"]], \"type\": \"heatmapgl\"}], \"histogram\": [{\"marker\": {\"colorbar\": {\"outlinewidth\": 0, \"ticks\": \"\"}}, \"type\": \"histogram\"}], \"histogram2d\": [{\"colorbar\": {\"outlinewidth\": 0, \"ticks\": \"\"}, \"colorscale\": [[0.0, \"#0d0887\"], [0.1111111111111111, \"#46039f\"], [0.2222222222222222, \"#7201a8\"], [0.3333333333333333, \"#9c179e\"], [0.4444444444444444, \"#bd3786\"], [0.5555555555555556, \"#d8576b\"], [0.6666666666666666, \"#ed7953\"], [0.7777777777777778, \"#fb9f3a\"], [0.8888888888888888, \"#fdca26\"], [1.0, \"#f0f921\"]], \"type\": \"histogram2d\"}], \"histogram2dcontour\": [{\"colorbar\": {\"outlinewidth\": 0, \"ticks\": \"\"}, \"colorscale\": [[0.0, \"#0d0887\"], [0.1111111111111111, \"#46039f\"], [0.2222222222222222, \"#7201a8\"], [0.3333333333333333, \"#9c179e\"], [0.4444444444444444, \"#bd3786\"], [0.5555555555555556, \"#d8576b\"], [0.6666666666666666, \"#ed7953\"], [0.7777777777777778, \"#fb9f3a\"], [0.8888888888888888, \"#fdca26\"], [1.0, \"#f0f921\"]], \"type\": \"histogram2dcontour\"}], \"mesh3d\": [{\"colorbar\": {\"outlinewidth\": 0, \"ticks\": \"\"}, \"type\": \"mesh3d\"}], \"parcoords\": [{\"line\": {\"colorbar\": {\"outlinewidth\": 0, \"ticks\": \"\"}}, \"type\": \"parcoords\"}], \"scatter\": [{\"marker\": {\"colorbar\": {\"outlinewidth\": 0, \"ticks\": \"\"}}, \"type\": \"scatter\"}], \"scatter3d\": [{\"line\": {\"colorbar\": {\"outlinewidth\": 0, \"ticks\": \"\"}}, \"marker\": {\"colorbar\": {\"outlinewidth\": 0, \"ticks\": \"\"}}, \"type\": \"scatter3d\"}], \"scattercarpet\": [{\"marker\": {\"colorbar\": {\"outlinewidth\": 0, \"ticks\": \"\"}}, \"type\": \"scattercarpet\"}], \"scattergeo\": [{\"marker\": {\"colorbar\": {\"outlinewidth\": 0, \"ticks\": \"\"}}, \"type\": \"scattergeo\"}], \"scattergl\": [{\"marker\": {\"colorbar\": {\"outlinewidth\": 0, \"ticks\": \"\"}}, \"type\": \"scattergl\"}], \"scattermapbox\": [{\"marker\": {\"colorbar\": {\"outlinewidth\": 0, \"ticks\": \"\"}}, \"type\": \"scattermapbox\"}], \"scatterpolar\": [{\"marker\": {\"colorbar\": {\"outlinewidth\": 0, \"ticks\": \"\"}}, \"type\": \"scatterpolar\"}], \"scatterpolargl\": [{\"marker\": {\"colorbar\": {\"outlinewidth\": 0, \"ticks\": \"\"}}, \"type\": \"scatterpolargl\"}], \"scatterternary\": [{\"marker\": {\"colorbar\": {\"outlinewidth\": 0, \"ticks\": \"\"}}, \"type\": \"scatterternary\"}], \"surface\": [{\"colorbar\": {\"outlinewidth\": 0, \"ticks\": \"\"}, \"colorscale\": [[0.0, \"#0d0887\"], [0.1111111111111111, \"#46039f\"], [0.2222222222222222, \"#7201a8\"], [0.3333333333333333, \"#9c179e\"], [0.4444444444444444, \"#bd3786\"], [0.5555555555555556, \"#d8576b\"], [0.6666666666666666, \"#ed7953\"], [0.7777777777777778, \"#fb9f3a\"], [0.8888888888888888, \"#fdca26\"], [1.0, \"#f0f921\"]], \"type\": \"surface\"}], \"table\": [{\"cells\": {\"fill\": {\"color\": \"#EBF0F8\"}, \"line\": {\"color\": \"white\"}}, \"header\": {\"fill\": {\"color\": \"#C8D4E3\"}, \"line\": {\"color\": \"white\"}}, \"type\": \"table\"}]}, \"layout\": {\"annotationdefaults\": {\"arrowcolor\": \"#2a3f5f\", \"arrowhead\": 0, \"arrowwidth\": 1}, \"colorscale\": {\"diverging\": [[0, \"#8e0152\"], [0.1, \"#c51b7d\"], [0.2, \"#de77ae\"], [0.3, \"#f1b6da\"], [0.4, \"#fde0ef\"], [0.5, \"#f7f7f7\"], [0.6, \"#e6f5d0\"], [0.7, \"#b8e186\"], [0.8, \"#7fbc41\"], [0.9, \"#4d9221\"], [1, \"#276419\"]], \"sequential\": [[0.0, \"#0d0887\"], [0.1111111111111111, \"#46039f\"], [0.2222222222222222, \"#7201a8\"], [0.3333333333333333, \"#9c179e\"], [0.4444444444444444, \"#bd3786\"], [0.5555555555555556, \"#d8576b\"], [0.6666666666666666, \"#ed7953\"], [0.7777777777777778, \"#fb9f3a\"], [0.8888888888888888, \"#fdca26\"], [1.0, \"#f0f921\"]], \"sequentialminus\": [[0.0, \"#0d0887\"], [0.1111111111111111, \"#46039f\"], [0.2222222222222222, \"#7201a8\"], [0.3333333333333333, \"#9c179e\"], [0.4444444444444444, \"#bd3786\"], [0.5555555555555556, \"#d8576b\"], [0.6666666666666666, \"#ed7953\"], [0.7777777777777778, \"#fb9f3a\"], [0.8888888888888888, \"#fdca26\"], [1.0, \"#f0f921\"]]}, \"colorway\": [\"#636efa\", \"#EF553B\", \"#00cc96\", \"#ab63fa\", \"#FFA15A\", \"#19d3f3\", \"#FF6692\", \"#B6E880\", \"#FF97FF\", \"#FECB52\"], \"font\": {\"color\": \"#2a3f5f\"}, \"geo\": {\"bgcolor\": \"white\", \"lakecolor\": \"white\", \"landcolor\": \"#E5ECF6\", \"showlakes\": true, \"showland\": true, \"subunitcolor\": \"white\"}, \"hoverlabel\": {\"align\": \"left\"}, \"hovermode\": \"closest\", \"mapbox\": {\"style\": \"light\"}, \"paper_bgcolor\": \"white\", \"plot_bgcolor\": \"#E5ECF6\", \"polar\": {\"angularaxis\": {\"gridcolor\": \"white\", \"linecolor\": \"white\", \"ticks\": \"\"}, \"bgcolor\": \"#E5ECF6\", \"radialaxis\": {\"gridcolor\": \"white\", \"linecolor\": \"white\", \"ticks\": \"\"}}, \"scene\": {\"xaxis\": {\"backgroundcolor\": \"#E5ECF6\", \"gridcolor\": \"white\", \"gridwidth\": 2, \"linecolor\": \"white\", \"showbackground\": true, \"ticks\": \"\", \"zerolinecolor\": \"white\"}, \"yaxis\": {\"backgroundcolor\": \"#E5ECF6\", \"gridcolor\": \"white\", \"gridwidth\": 2, \"linecolor\": \"white\", \"showbackground\": true, \"ticks\": \"\", \"zerolinecolor\": \"white\"}, \"zaxis\": {\"backgroundcolor\": \"#E5ECF6\", \"gridcolor\": \"white\", \"gridwidth\": 2, \"linecolor\": \"white\", \"showbackground\": true, \"ticks\": \"\", \"zerolinecolor\": \"white\"}}, \"shapedefaults\": {\"line\": {\"color\": \"#2a3f5f\"}}, \"ternary\": {\"aaxis\": {\"gridcolor\": \"white\", \"linecolor\": \"white\", \"ticks\": \"\"}, \"baxis\": {\"gridcolor\": \"white\", \"linecolor\": \"white\", \"ticks\": \"\"}, \"bgcolor\": \"#E5ECF6\", \"caxis\": {\"gridcolor\": \"white\", \"linecolor\": \"white\", \"ticks\": \"\"}}, \"title\": {\"x\": 0.05}, \"xaxis\": {\"automargin\": true, \"gridcolor\": \"white\", \"linecolor\": \"white\", \"ticks\": \"\", \"zerolinecolor\": \"white\", \"zerolinewidth\": 2}, \"yaxis\": {\"automargin\": true, \"gridcolor\": \"white\", \"linecolor\": \"white\", \"ticks\": \"\", \"zerolinecolor\": \"white\", \"zerolinewidth\": 2}}}},\n",
       "                        {\"responsive\": true}\n",
       "                    ).then(function(){\n",
       "                            \n",
       "var gd = document.getElementById('d49e2e9a-c625-48c2-98a9-292b24a18a86');\n",
       "var x = new MutationObserver(function (mutations, observer) {{\n",
       "        var display = window.getComputedStyle(gd).display;\n",
       "        if (!display || display === 'none') {{\n",
       "            console.log([gd, 'removed!']);\n",
       "            Plotly.purge(gd);\n",
       "            observer.disconnect();\n",
       "        }}\n",
       "}});\n",
       "\n",
       "// Listen for the removal of the full notebook cells\n",
       "var notebookContainer = gd.closest('#notebook-container');\n",
       "if (notebookContainer) {{\n",
       "    x.observe(notebookContainer, {childList: true});\n",
       "}}\n",
       "\n",
       "// Listen for the clearing of the current output cell\n",
       "var outputEl = gd.closest('.output');\n",
       "if (outputEl) {{\n",
       "    x.observe(outputEl, {childList: true});\n",
       "}}\n",
       "\n",
       "                        })\n",
       "                };\n",
       "                });\n",
       "            </script>\n",
       "        </div>"
      ]
     },
     "metadata": {},
     "output_type": "display_data"
    }
   ],
   "source": [
    "rdf = X_train.copy()\n",
    "rdf['target'] = y_train\n",
    "id3_tree = gen_tree_bi(rdf)\n",
    "## 测试集表现\n",
    "pred, prob = predict_bi(id3_tree, X_test)\n",
    "eval_ret = classifier_evaluate(y_test, pred)\n",
    "print(eval_ret)\n",
    "\n",
    "fpr, tpr, thresholds = roc_curve(y_test, prob)\n",
    "roc_auc = auc(fpr, tpr)\n",
    "print(f'auc{roc_auc}')\n",
    "draw_lines(fpr, [tpr, fpr], ['tp', 'fp'])"
   ]
  },
  {
   "cell_type": "code",
   "execution_count": 202,
   "metadata": {},
   "outputs": [],
   "source": [
    "draw_tree(id3_tree, 'id3_same_car_bi')"
   ]
  },
  {
   "cell_type": "code",
   "execution_count": null,
   "metadata": {},
   "outputs": [],
   "source": []
  },
  {
   "cell_type": "code",
   "execution_count": 191,
   "metadata": {},
   "outputs": [
    {
     "data": {
      "text/plain": [
       "{'ent': 0.9185030429380243,\n",
       " 'size': 8038,\n",
       " 'tags': {0: 5357, 1: 2681},\n",
       " 'depth': 0,\n",
       " 'ent_gain': 0.47872276704003036,\n",
       " 'key': 'register_time_diff_sparse',\n",
       " 'val': 1.0,\n",
       " 'leaf num': [5268, 2770],\n",
       " 'tree1': {'ent': 0.11118995946796709,\n",
       "  'size': 5268,\n",
       "  'tags': {0: 5190, 1: 78},\n",
       "  'depth': 1,\n",
       "  'ent_gain': -1.702432016054134e-05,\n",
       "  'key': 'is_import_diff_sparse',\n",
       "  'val': 0.0,\n",
       "  'leaf num': [1, 5267],\n",
       "  'reason': 'leaf samples less than min_samples_leaf'},\n",
       " 'tree2': {'ent': 0.3285903164300269,\n",
       "  'size': 2770,\n",
       "  'tags': {1: 2603, 0: 167},\n",
       "  'depth': 1,\n",
       "  'ent_gain': -0.1588886165694986,\n",
       "  'key': 'fuel_typep1',\n",
       "  'val': 4,\n",
       "  'leaf num': [2726, 44],\n",
       "  'tree1': {'ent': 0.33098787009382397,\n",
       "   'size': 2726,\n",
       "   'tags': {1: 2560, 0: 166},\n",
       "   'depth': 2,\n",
       "   'ent_gain': -0.17946684415675623,\n",
       "   'key': 'displacement_standard1',\n",
       "   'val': 4,\n",
       "   'leaf num': [2650, 76],\n",
       "   'tree1': {'ent': 0.3348896883930774,\n",
       "    'size': 2650,\n",
       "    'tags': {1: 2486, 0: 164},\n",
       "    'depth': 3,\n",
       "    'ent_gain': -9.162161688369697e-05,\n",
       "    'key': 'fuel_typep1',\n",
       "    'val': 2,\n",
       "    'leaf num': [2649, 1],\n",
       "    'reason': 'leaf samples less than min_samples_leaf'},\n",
       "   'tree2': {'ent': 0.17556502585750278,\n",
       "    'size': 76,\n",
       "    'tags': {1: 74, 0: 2},\n",
       "    'depth': 3,\n",
       "    'ent_gain': -0.003691041070818718,\n",
       "    'key': 'displacement_diff_sparse',\n",
       "    'val': 0.0,\n",
       "    'leaf num': [2, 74],\n",
       "    'reason': 'leaf samples less than min_samples_leaf'}},\n",
       "  'tree2': {'ent': 0.15649106290570153,\n",
       "   'size': 44,\n",
       "   'tags': {1: 43, 0: 1},\n",
       "   'depth': 2,\n",
       "   'ent_gain': -0.0028589997799329248,\n",
       "   'key': 'displacement_standard1',\n",
       "   'val': 2,\n",
       "   'leaf num': [1, 43],\n",
       "   'reason': 'leaf samples less than min_samples_leaf'}}}"
      ]
     },
     "execution_count": 191,
     "metadata": {},
     "output_type": "execute_result"
    }
   ],
   "source": [
    "id3_tree"
   ]
  },
  {
   "cell_type": "code",
   "execution_count": null,
   "metadata": {},
   "outputs": [],
   "source": []
  },
  {
   "cell_type": "code",
   "execution_count": null,
   "metadata": {},
   "outputs": [],
   "source": []
  },
  {
   "cell_type": "code",
   "execution_count": null,
   "metadata": {},
   "outputs": [],
   "source": []
  },
  {
   "cell_type": "code",
   "execution_count": null,
   "metadata": {},
   "outputs": [],
   "source": []
  },
  {
   "cell_type": "code",
   "execution_count": null,
   "metadata": {},
   "outputs": [],
   "source": []
  },
  {
   "cell_type": "code",
   "execution_count": null,
   "metadata": {},
   "outputs": [],
   "source": []
  },
  {
   "cell_type": "code",
   "execution_count": null,
   "metadata": {},
   "outputs": [],
   "source": []
  },
  {
   "cell_type": "code",
   "execution_count": null,
   "metadata": {},
   "outputs": [],
   "source": []
  },
  {
   "cell_type": "code",
   "execution_count": null,
   "metadata": {},
   "outputs": [],
   "source": []
  },
  {
   "cell_type": "code",
   "execution_count": null,
   "metadata": {},
   "outputs": [],
   "source": []
  },
  {
   "cell_type": "code",
   "execution_count": null,
   "metadata": {},
   "outputs": [],
   "source": []
  },
  {
   "cell_type": "code",
   "execution_count": null,
   "metadata": {},
   "outputs": [],
   "source": []
  }
 ],
 "metadata": {
  "kernelspec": {
   "display_name": "Python 3",
   "language": "python",
   "name": "python3"
  },
  "language_info": {
   "codemirror_mode": {
    "name": "ipython",
    "version": 3
   },
   "file_extension": ".py",
   "mimetype": "text/x-python",
   "name": "python",
   "nbconvert_exporter": "python",
   "pygments_lexer": "ipython3",
   "version": "3.7.3"
  }
 },
 "nbformat": 4,
 "nbformat_minor": 2
}
