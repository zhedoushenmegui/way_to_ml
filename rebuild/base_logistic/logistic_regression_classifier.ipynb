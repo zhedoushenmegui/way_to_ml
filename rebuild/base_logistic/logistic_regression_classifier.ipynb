{
 "cells": [
  {
   "cell_type": "code",
   "execution_count": 1,
   "metadata": {},
   "outputs": [],
   "source": [
    "import pandas as pd\n",
    "import numpy as np\n",
    "import random\n",
    "import math\n",
    "from sklearn.model_selection import train_test_split\n",
    "from sklearn.naive_bayes import BernoulliNB\n",
    "from sklearn.naive_bayes import MultinomialNB\n",
    "import os\n",
    "project_path = os.path.abspath(os.path.join(os.path.dirname(os.path.abspath('.')), '../'))\n",
    "import sys\n",
    "sys.path.append(project_path)\n",
    "from util.visualization import draw_lines\n",
    "from util.visualization import draw_scatters\n",
    "from util.evaluate_process import mse, rmse, mae, classifier_evaluate\n",
    "from sklearn.model_selection import train_test_split\n",
    "from sklearn.metrics import auc, roc_auc_score, roc_curve"
   ]
  },
  {
   "cell_type": "code",
   "execution_count": 2,
   "metadata": {},
   "outputs": [],
   "source": [
    "df = pd.read_csv('../../data/preprocessed.samecar.csv')"
   ]
  },
  {
   "cell_type": "code",
   "execution_count": 3,
   "metadata": {},
   "outputs": [],
   "source": [
    "feats = [\n",
    "    'colorp1', 'colorp2', \n",
    "    'fuel_typep1', 'fuel_typep2','displacement_standard1', 'displacement_standard2',\n",
    "    'gearboxp1', 'gearboxp2', 'displacement_diff', 'displacement_diff_sparse',\n",
    "    'mile_diff', 'mile_diff_sparse', 'mile_diff_rate', 'mile_diff_rate_sparse',\n",
    "    'year_diff', 'year_diff_sparse', 'licensed_city_diff_sparse', 'title_diff', \n",
    "    'title_diff_sparse', 'register_time_diff', 'register_time_diff_sparse',\n",
    "    'is_import_diff_sparse', 'transfer_times_diff', 'transfer_times_diff_sparse'\n",
    "]\n",
    "# 只保留离散特征\n",
    "sparse_feats = [\n",
    "    'colorp1', 'colorp2', \n",
    "    'fuel_typep1', 'fuel_typep2','displacement_standard1', 'displacement_standard2',\n",
    "    'gearboxp1', 'gearboxp2', 'displacement_diff_sparse',\n",
    "    'mile_diff_sparse', 'mile_diff_rate_sparse',\n",
    "    'year_diff_sparse', 'licensed_city_diff_sparse', \n",
    "    'title_diff_sparse', 'register_time_diff_sparse',\n",
    "    'is_import_diff_sparse', 'transfer_times_diff_sparse'\n",
    "]"
   ]
  },
  {
   "cell_type": "code",
   "execution_count": 4,
   "metadata": {},
   "outputs": [
    {
     "data": {
      "text/html": [
       "<div>\n",
       "<style scoped>\n",
       "    .dataframe tbody tr th:only-of-type {\n",
       "        vertical-align: middle;\n",
       "    }\n",
       "\n",
       "    .dataframe tbody tr th {\n",
       "        vertical-align: top;\n",
       "    }\n",
       "\n",
       "    .dataframe thead th {\n",
       "        text-align: right;\n",
       "    }\n",
       "</style>\n",
       "<table border=\"1\" class=\"dataframe\">\n",
       "  <thead>\n",
       "    <tr style=\"text-align: right;\">\n",
       "      <th></th>\n",
       "      <th>colorp1</th>\n",
       "      <th>colorp2</th>\n",
       "      <th>fuel_typep1</th>\n",
       "      <th>fuel_typep2</th>\n",
       "      <th>displacement_standard1</th>\n",
       "      <th>displacement_standard2</th>\n",
       "      <th>gearboxp1</th>\n",
       "      <th>gearboxp2</th>\n",
       "      <th>displacement_diff</th>\n",
       "      <th>displacement_diff_sparse</th>\n",
       "      <th>...</th>\n",
       "      <th>year_diff</th>\n",
       "      <th>year_diff_sparse</th>\n",
       "      <th>licensed_city_diff_sparse</th>\n",
       "      <th>title_diff</th>\n",
       "      <th>title_diff_sparse</th>\n",
       "      <th>register_time_diff</th>\n",
       "      <th>register_time_diff_sparse</th>\n",
       "      <th>is_import_diff_sparse</th>\n",
       "      <th>transfer_times_diff</th>\n",
       "      <th>transfer_times_diff_sparse</th>\n",
       "    </tr>\n",
       "  </thead>\n",
       "  <tbody>\n",
       "    <tr>\n",
       "      <th>0</th>\n",
       "      <td>0</td>\n",
       "      <td>0</td>\n",
       "      <td>-1</td>\n",
       "      <td>-1</td>\n",
       "      <td>-1</td>\n",
       "      <td>-1</td>\n",
       "      <td>-1</td>\n",
       "      <td>1</td>\n",
       "      <td>-1.0</td>\n",
       "      <td>0.5</td>\n",
       "      <td>...</td>\n",
       "      <td>-1.0</td>\n",
       "      <td>0.5</td>\n",
       "      <td>2.0</td>\n",
       "      <td>8.0</td>\n",
       "      <td>0.0</td>\n",
       "      <td>-24.0</td>\n",
       "      <td>0.0</td>\n",
       "      <td>2.0</td>\n",
       "      <td>-1.0</td>\n",
       "      <td>1</td>\n",
       "    </tr>\n",
       "    <tr>\n",
       "      <th>1</th>\n",
       "      <td>11</td>\n",
       "      <td>7</td>\n",
       "      <td>-1</td>\n",
       "      <td>-1</td>\n",
       "      <td>-1</td>\n",
       "      <td>-1</td>\n",
       "      <td>-1</td>\n",
       "      <td>1</td>\n",
       "      <td>-1.0</td>\n",
       "      <td>0.5</td>\n",
       "      <td>...</td>\n",
       "      <td>-1.0</td>\n",
       "      <td>0.5</td>\n",
       "      <td>0.0</td>\n",
       "      <td>7.0</td>\n",
       "      <td>0.0</td>\n",
       "      <td>34.0</td>\n",
       "      <td>0.0</td>\n",
       "      <td>2.0</td>\n",
       "      <td>0.0</td>\n",
       "      <td>2</td>\n",
       "    </tr>\n",
       "    <tr>\n",
       "      <th>2</th>\n",
       "      <td>11</td>\n",
       "      <td>-1</td>\n",
       "      <td>-1</td>\n",
       "      <td>-1</td>\n",
       "      <td>-1</td>\n",
       "      <td>-1</td>\n",
       "      <td>-1</td>\n",
       "      <td>1</td>\n",
       "      <td>-1.0</td>\n",
       "      <td>0.5</td>\n",
       "      <td>...</td>\n",
       "      <td>-1.0</td>\n",
       "      <td>0.5</td>\n",
       "      <td>2.0</td>\n",
       "      <td>4.0</td>\n",
       "      <td>1.0</td>\n",
       "      <td>65.0</td>\n",
       "      <td>0.0</td>\n",
       "      <td>2.0</td>\n",
       "      <td>-2.0</td>\n",
       "      <td>0</td>\n",
       "    </tr>\n",
       "    <tr>\n",
       "      <th>3</th>\n",
       "      <td>0</td>\n",
       "      <td>-1</td>\n",
       "      <td>-1</td>\n",
       "      <td>-1</td>\n",
       "      <td>-1</td>\n",
       "      <td>-1</td>\n",
       "      <td>-1</td>\n",
       "      <td>1</td>\n",
       "      <td>-1.0</td>\n",
       "      <td>0.5</td>\n",
       "      <td>...</td>\n",
       "      <td>-1.0</td>\n",
       "      <td>0.5</td>\n",
       "      <td>2.0</td>\n",
       "      <td>6.0</td>\n",
       "      <td>0.0</td>\n",
       "      <td>123.0</td>\n",
       "      <td>0.0</td>\n",
       "      <td>2.0</td>\n",
       "      <td>-1.0</td>\n",
       "      <td>1</td>\n",
       "    </tr>\n",
       "    <tr>\n",
       "      <th>4</th>\n",
       "      <td>7</td>\n",
       "      <td>7</td>\n",
       "      <td>-1</td>\n",
       "      <td>-1</td>\n",
       "      <td>-1</td>\n",
       "      <td>-1</td>\n",
       "      <td>-1</td>\n",
       "      <td>1</td>\n",
       "      <td>-1.0</td>\n",
       "      <td>0.5</td>\n",
       "      <td>...</td>\n",
       "      <td>-1.0</td>\n",
       "      <td>0.5</td>\n",
       "      <td>2.0</td>\n",
       "      <td>3.0</td>\n",
       "      <td>1.0</td>\n",
       "      <td>5.0</td>\n",
       "      <td>0.0</td>\n",
       "      <td>2.0</td>\n",
       "      <td>0.0</td>\n",
       "      <td>2</td>\n",
       "    </tr>\n",
       "    <tr>\n",
       "      <th>5</th>\n",
       "      <td>11</td>\n",
       "      <td>7</td>\n",
       "      <td>-1</td>\n",
       "      <td>-1</td>\n",
       "      <td>-1</td>\n",
       "      <td>-1</td>\n",
       "      <td>-1</td>\n",
       "      <td>1</td>\n",
       "      <td>-1.0</td>\n",
       "      <td>0.5</td>\n",
       "      <td>...</td>\n",
       "      <td>-1.0</td>\n",
       "      <td>0.5</td>\n",
       "      <td>2.0</td>\n",
       "      <td>5.0</td>\n",
       "      <td>0.0</td>\n",
       "      <td>46.0</td>\n",
       "      <td>0.0</td>\n",
       "      <td>2.0</td>\n",
       "      <td>-1.0</td>\n",
       "      <td>1</td>\n",
       "    </tr>\n",
       "    <tr>\n",
       "      <th>6</th>\n",
       "      <td>-1</td>\n",
       "      <td>0</td>\n",
       "      <td>-1</td>\n",
       "      <td>-1</td>\n",
       "      <td>-1</td>\n",
       "      <td>-1</td>\n",
       "      <td>-1</td>\n",
       "      <td>1</td>\n",
       "      <td>-1.0</td>\n",
       "      <td>0.5</td>\n",
       "      <td>...</td>\n",
       "      <td>-1.0</td>\n",
       "      <td>0.5</td>\n",
       "      <td>2.0</td>\n",
       "      <td>5.0</td>\n",
       "      <td>0.0</td>\n",
       "      <td>-69.0</td>\n",
       "      <td>0.0</td>\n",
       "      <td>2.0</td>\n",
       "      <td>1.0</td>\n",
       "      <td>1</td>\n",
       "    </tr>\n",
       "    <tr>\n",
       "      <th>7</th>\n",
       "      <td>-1</td>\n",
       "      <td>-1</td>\n",
       "      <td>-1</td>\n",
       "      <td>-1</td>\n",
       "      <td>-1</td>\n",
       "      <td>-1</td>\n",
       "      <td>-1</td>\n",
       "      <td>1</td>\n",
       "      <td>-1.0</td>\n",
       "      <td>0.5</td>\n",
       "      <td>...</td>\n",
       "      <td>-1.0</td>\n",
       "      <td>0.5</td>\n",
       "      <td>2.0</td>\n",
       "      <td>9.0</td>\n",
       "      <td>0.0</td>\n",
       "      <td>104.0</td>\n",
       "      <td>0.0</td>\n",
       "      <td>2.0</td>\n",
       "      <td>-1.0</td>\n",
       "      <td>1</td>\n",
       "    </tr>\n",
       "    <tr>\n",
       "      <th>8</th>\n",
       "      <td>0</td>\n",
       "      <td>0</td>\n",
       "      <td>-1</td>\n",
       "      <td>-1</td>\n",
       "      <td>-1</td>\n",
       "      <td>-1</td>\n",
       "      <td>-1</td>\n",
       "      <td>1</td>\n",
       "      <td>-1.0</td>\n",
       "      <td>0.5</td>\n",
       "      <td>...</td>\n",
       "      <td>-1.0</td>\n",
       "      <td>0.5</td>\n",
       "      <td>0.0</td>\n",
       "      <td>4.0</td>\n",
       "      <td>1.0</td>\n",
       "      <td>14.0</td>\n",
       "      <td>0.0</td>\n",
       "      <td>2.0</td>\n",
       "      <td>0.0</td>\n",
       "      <td>2</td>\n",
       "    </tr>\n",
       "    <tr>\n",
       "      <th>9</th>\n",
       "      <td>11</td>\n",
       "      <td>-1</td>\n",
       "      <td>-1</td>\n",
       "      <td>-1</td>\n",
       "      <td>-1</td>\n",
       "      <td>-1</td>\n",
       "      <td>-1</td>\n",
       "      <td>1</td>\n",
       "      <td>-1.0</td>\n",
       "      <td>0.5</td>\n",
       "      <td>...</td>\n",
       "      <td>-1.0</td>\n",
       "      <td>0.5</td>\n",
       "      <td>0.0</td>\n",
       "      <td>8.0</td>\n",
       "      <td>0.0</td>\n",
       "      <td>43.0</td>\n",
       "      <td>0.0</td>\n",
       "      <td>2.0</td>\n",
       "      <td>0.0</td>\n",
       "      <td>2</td>\n",
       "    </tr>\n",
       "    <tr>\n",
       "      <th>10</th>\n",
       "      <td>-1</td>\n",
       "      <td>-1</td>\n",
       "      <td>-1</td>\n",
       "      <td>-1</td>\n",
       "      <td>-1</td>\n",
       "      <td>-1</td>\n",
       "      <td>-1</td>\n",
       "      <td>1</td>\n",
       "      <td>-1.0</td>\n",
       "      <td>0.5</td>\n",
       "      <td>...</td>\n",
       "      <td>-1.0</td>\n",
       "      <td>0.5</td>\n",
       "      <td>0.0</td>\n",
       "      <td>1.0</td>\n",
       "      <td>1.0</td>\n",
       "      <td>-28.0</td>\n",
       "      <td>0.0</td>\n",
       "      <td>2.0</td>\n",
       "      <td>0.0</td>\n",
       "      <td>2</td>\n",
       "    </tr>\n",
       "    <tr>\n",
       "      <th>11</th>\n",
       "      <td>0</td>\n",
       "      <td>-1</td>\n",
       "      <td>-1</td>\n",
       "      <td>-1</td>\n",
       "      <td>-1</td>\n",
       "      <td>-1</td>\n",
       "      <td>-1</td>\n",
       "      <td>1</td>\n",
       "      <td>-1.0</td>\n",
       "      <td>0.5</td>\n",
       "      <td>...</td>\n",
       "      <td>-1.0</td>\n",
       "      <td>0.5</td>\n",
       "      <td>2.0</td>\n",
       "      <td>5.0</td>\n",
       "      <td>0.0</td>\n",
       "      <td>20.0</td>\n",
       "      <td>0.0</td>\n",
       "      <td>2.0</td>\n",
       "      <td>1.0</td>\n",
       "      <td>1</td>\n",
       "    </tr>\n",
       "    <tr>\n",
       "      <th>12</th>\n",
       "      <td>7</td>\n",
       "      <td>7</td>\n",
       "      <td>-1</td>\n",
       "      <td>-1</td>\n",
       "      <td>-1</td>\n",
       "      <td>-1</td>\n",
       "      <td>-1</td>\n",
       "      <td>1</td>\n",
       "      <td>-1.0</td>\n",
       "      <td>0.5</td>\n",
       "      <td>...</td>\n",
       "      <td>-1.0</td>\n",
       "      <td>0.5</td>\n",
       "      <td>0.0</td>\n",
       "      <td>5.0</td>\n",
       "      <td>0.0</td>\n",
       "      <td>-12.0</td>\n",
       "      <td>0.0</td>\n",
       "      <td>2.0</td>\n",
       "      <td>-1.0</td>\n",
       "      <td>1</td>\n",
       "    </tr>\n",
       "    <tr>\n",
       "      <th>13</th>\n",
       "      <td>4</td>\n",
       "      <td>-1</td>\n",
       "      <td>-1</td>\n",
       "      <td>-1</td>\n",
       "      <td>-1</td>\n",
       "      <td>-1</td>\n",
       "      <td>-1</td>\n",
       "      <td>1</td>\n",
       "      <td>-1.0</td>\n",
       "      <td>0.5</td>\n",
       "      <td>...</td>\n",
       "      <td>-1.0</td>\n",
       "      <td>0.5</td>\n",
       "      <td>2.0</td>\n",
       "      <td>6.0</td>\n",
       "      <td>0.0</td>\n",
       "      <td>2.0</td>\n",
       "      <td>1.0</td>\n",
       "      <td>2.0</td>\n",
       "      <td>-2.0</td>\n",
       "      <td>0</td>\n",
       "    </tr>\n",
       "    <tr>\n",
       "      <th>14</th>\n",
       "      <td>9</td>\n",
       "      <td>-1</td>\n",
       "      <td>-1</td>\n",
       "      <td>-1</td>\n",
       "      <td>-1</td>\n",
       "      <td>-1</td>\n",
       "      <td>-1</td>\n",
       "      <td>1</td>\n",
       "      <td>-1.0</td>\n",
       "      <td>0.5</td>\n",
       "      <td>...</td>\n",
       "      <td>-1.0</td>\n",
       "      <td>0.5</td>\n",
       "      <td>2.0</td>\n",
       "      <td>6.0</td>\n",
       "      <td>0.0</td>\n",
       "      <td>87.0</td>\n",
       "      <td>0.0</td>\n",
       "      <td>2.0</td>\n",
       "      <td>0.0</td>\n",
       "      <td>2</td>\n",
       "    </tr>\n",
       "    <tr>\n",
       "      <th>15</th>\n",
       "      <td>0</td>\n",
       "      <td>0</td>\n",
       "      <td>-1</td>\n",
       "      <td>-1</td>\n",
       "      <td>-1</td>\n",
       "      <td>-1</td>\n",
       "      <td>-1</td>\n",
       "      <td>1</td>\n",
       "      <td>-1.0</td>\n",
       "      <td>0.5</td>\n",
       "      <td>...</td>\n",
       "      <td>-1.0</td>\n",
       "      <td>0.5</td>\n",
       "      <td>2.0</td>\n",
       "      <td>6.0</td>\n",
       "      <td>0.0</td>\n",
       "      <td>2.0</td>\n",
       "      <td>1.0</td>\n",
       "      <td>2.0</td>\n",
       "      <td>-1.0</td>\n",
       "      <td>1</td>\n",
       "    </tr>\n",
       "    <tr>\n",
       "      <th>16</th>\n",
       "      <td>0</td>\n",
       "      <td>0</td>\n",
       "      <td>-1</td>\n",
       "      <td>-1</td>\n",
       "      <td>-1</td>\n",
       "      <td>-1</td>\n",
       "      <td>-1</td>\n",
       "      <td>1</td>\n",
       "      <td>-1.0</td>\n",
       "      <td>0.5</td>\n",
       "      <td>...</td>\n",
       "      <td>-1.0</td>\n",
       "      <td>0.5</td>\n",
       "      <td>0.0</td>\n",
       "      <td>8.0</td>\n",
       "      <td>0.0</td>\n",
       "      <td>51.0</td>\n",
       "      <td>0.0</td>\n",
       "      <td>2.0</td>\n",
       "      <td>0.0</td>\n",
       "      <td>2</td>\n",
       "    </tr>\n",
       "    <tr>\n",
       "      <th>17</th>\n",
       "      <td>-1</td>\n",
       "      <td>-1</td>\n",
       "      <td>-1</td>\n",
       "      <td>-1</td>\n",
       "      <td>-1</td>\n",
       "      <td>-1</td>\n",
       "      <td>-1</td>\n",
       "      <td>1</td>\n",
       "      <td>-1.0</td>\n",
       "      <td>0.5</td>\n",
       "      <td>...</td>\n",
       "      <td>-1.0</td>\n",
       "      <td>0.5</td>\n",
       "      <td>2.0</td>\n",
       "      <td>1.0</td>\n",
       "      <td>1.0</td>\n",
       "      <td>17.0</td>\n",
       "      <td>0.0</td>\n",
       "      <td>2.0</td>\n",
       "      <td>3.0</td>\n",
       "      <td>0</td>\n",
       "    </tr>\n",
       "    <tr>\n",
       "      <th>18</th>\n",
       "      <td>-1</td>\n",
       "      <td>-1</td>\n",
       "      <td>-1</td>\n",
       "      <td>-1</td>\n",
       "      <td>-1</td>\n",
       "      <td>-1</td>\n",
       "      <td>-1</td>\n",
       "      <td>1</td>\n",
       "      <td>-1.0</td>\n",
       "      <td>0.5</td>\n",
       "      <td>...</td>\n",
       "      <td>-1.0</td>\n",
       "      <td>0.5</td>\n",
       "      <td>2.0</td>\n",
       "      <td>6.0</td>\n",
       "      <td>0.0</td>\n",
       "      <td>43.0</td>\n",
       "      <td>0.0</td>\n",
       "      <td>2.0</td>\n",
       "      <td>-1.0</td>\n",
       "      <td>1</td>\n",
       "    </tr>\n",
       "    <tr>\n",
       "      <th>19</th>\n",
       "      <td>11</td>\n",
       "      <td>-1</td>\n",
       "      <td>-1</td>\n",
       "      <td>-1</td>\n",
       "      <td>-1</td>\n",
       "      <td>-1</td>\n",
       "      <td>-1</td>\n",
       "      <td>1</td>\n",
       "      <td>-1.0</td>\n",
       "      <td>0.5</td>\n",
       "      <td>...</td>\n",
       "      <td>-1.0</td>\n",
       "      <td>0.5</td>\n",
       "      <td>2.0</td>\n",
       "      <td>5.0</td>\n",
       "      <td>0.0</td>\n",
       "      <td>-11.0</td>\n",
       "      <td>0.0</td>\n",
       "      <td>2.0</td>\n",
       "      <td>1.0</td>\n",
       "      <td>1</td>\n",
       "    </tr>\n",
       "    <tr>\n",
       "      <th>20</th>\n",
       "      <td>-1</td>\n",
       "      <td>-1</td>\n",
       "      <td>-1</td>\n",
       "      <td>-1</td>\n",
       "      <td>-1</td>\n",
       "      <td>-1</td>\n",
       "      <td>-1</td>\n",
       "      <td>1</td>\n",
       "      <td>-1.0</td>\n",
       "      <td>0.5</td>\n",
       "      <td>...</td>\n",
       "      <td>-1.0</td>\n",
       "      <td>0.5</td>\n",
       "      <td>2.0</td>\n",
       "      <td>1.0</td>\n",
       "      <td>1.0</td>\n",
       "      <td>-26.0</td>\n",
       "      <td>0.0</td>\n",
       "      <td>2.0</td>\n",
       "      <td>-2.0</td>\n",
       "      <td>0</td>\n",
       "    </tr>\n",
       "    <tr>\n",
       "      <th>21</th>\n",
       "      <td>0</td>\n",
       "      <td>-1</td>\n",
       "      <td>-1</td>\n",
       "      <td>-1</td>\n",
       "      <td>-1</td>\n",
       "      <td>-1</td>\n",
       "      <td>-1</td>\n",
       "      <td>1</td>\n",
       "      <td>-1.0</td>\n",
       "      <td>0.5</td>\n",
       "      <td>...</td>\n",
       "      <td>-1.0</td>\n",
       "      <td>0.5</td>\n",
       "      <td>0.0</td>\n",
       "      <td>8.0</td>\n",
       "      <td>0.0</td>\n",
       "      <td>67.0</td>\n",
       "      <td>0.0</td>\n",
       "      <td>2.0</td>\n",
       "      <td>-1.0</td>\n",
       "      <td>1</td>\n",
       "    </tr>\n",
       "    <tr>\n",
       "      <th>22</th>\n",
       "      <td>0</td>\n",
       "      <td>-1</td>\n",
       "      <td>-1</td>\n",
       "      <td>-1</td>\n",
       "      <td>-1</td>\n",
       "      <td>-1</td>\n",
       "      <td>-1</td>\n",
       "      <td>1</td>\n",
       "      <td>-1.0</td>\n",
       "      <td>0.5</td>\n",
       "      <td>...</td>\n",
       "      <td>-1.0</td>\n",
       "      <td>0.5</td>\n",
       "      <td>0.0</td>\n",
       "      <td>0.0</td>\n",
       "      <td>2.0</td>\n",
       "      <td>18.0</td>\n",
       "      <td>0.0</td>\n",
       "      <td>2.0</td>\n",
       "      <td>0.0</td>\n",
       "      <td>2</td>\n",
       "    </tr>\n",
       "    <tr>\n",
       "      <th>23</th>\n",
       "      <td>7</td>\n",
       "      <td>7</td>\n",
       "      <td>-1</td>\n",
       "      <td>-1</td>\n",
       "      <td>-1</td>\n",
       "      <td>-1</td>\n",
       "      <td>-1</td>\n",
       "      <td>1</td>\n",
       "      <td>-1.0</td>\n",
       "      <td>0.5</td>\n",
       "      <td>...</td>\n",
       "      <td>-1.0</td>\n",
       "      <td>0.5</td>\n",
       "      <td>2.0</td>\n",
       "      <td>8.0</td>\n",
       "      <td>0.0</td>\n",
       "      <td>42.0</td>\n",
       "      <td>0.0</td>\n",
       "      <td>2.0</td>\n",
       "      <td>2.0</td>\n",
       "      <td>0</td>\n",
       "    </tr>\n",
       "    <tr>\n",
       "      <th>24</th>\n",
       "      <td>7</td>\n",
       "      <td>7</td>\n",
       "      <td>-1</td>\n",
       "      <td>-1</td>\n",
       "      <td>-1</td>\n",
       "      <td>-1</td>\n",
       "      <td>-1</td>\n",
       "      <td>1</td>\n",
       "      <td>-1.0</td>\n",
       "      <td>0.5</td>\n",
       "      <td>...</td>\n",
       "      <td>-1.0</td>\n",
       "      <td>0.5</td>\n",
       "      <td>2.0</td>\n",
       "      <td>2.0</td>\n",
       "      <td>1.0</td>\n",
       "      <td>-7.0</td>\n",
       "      <td>0.0</td>\n",
       "      <td>2.0</td>\n",
       "      <td>1.0</td>\n",
       "      <td>1</td>\n",
       "    </tr>\n",
       "    <tr>\n",
       "      <th>25</th>\n",
       "      <td>7</td>\n",
       "      <td>0</td>\n",
       "      <td>-1</td>\n",
       "      <td>-1</td>\n",
       "      <td>-1</td>\n",
       "      <td>-1</td>\n",
       "      <td>-1</td>\n",
       "      <td>1</td>\n",
       "      <td>-1.0</td>\n",
       "      <td>0.5</td>\n",
       "      <td>...</td>\n",
       "      <td>-1.0</td>\n",
       "      <td>0.5</td>\n",
       "      <td>2.0</td>\n",
       "      <td>11.0</td>\n",
       "      <td>0.0</td>\n",
       "      <td>20.0</td>\n",
       "      <td>0.0</td>\n",
       "      <td>2.0</td>\n",
       "      <td>0.0</td>\n",
       "      <td>2</td>\n",
       "    </tr>\n",
       "    <tr>\n",
       "      <th>26</th>\n",
       "      <td>7</td>\n",
       "      <td>0</td>\n",
       "      <td>-1</td>\n",
       "      <td>-1</td>\n",
       "      <td>-1</td>\n",
       "      <td>-1</td>\n",
       "      <td>-1</td>\n",
       "      <td>1</td>\n",
       "      <td>-1.0</td>\n",
       "      <td>0.5</td>\n",
       "      <td>...</td>\n",
       "      <td>-1.0</td>\n",
       "      <td>0.5</td>\n",
       "      <td>2.0</td>\n",
       "      <td>2.0</td>\n",
       "      <td>1.0</td>\n",
       "      <td>-44.0</td>\n",
       "      <td>0.0</td>\n",
       "      <td>2.0</td>\n",
       "      <td>0.0</td>\n",
       "      <td>2</td>\n",
       "    </tr>\n",
       "    <tr>\n",
       "      <th>27</th>\n",
       "      <td>-1</td>\n",
       "      <td>-1</td>\n",
       "      <td>-1</td>\n",
       "      <td>-1</td>\n",
       "      <td>-1</td>\n",
       "      <td>-1</td>\n",
       "      <td>-1</td>\n",
       "      <td>1</td>\n",
       "      <td>-1.0</td>\n",
       "      <td>0.5</td>\n",
       "      <td>...</td>\n",
       "      <td>-1.0</td>\n",
       "      <td>0.5</td>\n",
       "      <td>0.0</td>\n",
       "      <td>5.0</td>\n",
       "      <td>0.0</td>\n",
       "      <td>-61.0</td>\n",
       "      <td>0.0</td>\n",
       "      <td>2.0</td>\n",
       "      <td>0.0</td>\n",
       "      <td>2</td>\n",
       "    </tr>\n",
       "    <tr>\n",
       "      <th>28</th>\n",
       "      <td>0</td>\n",
       "      <td>-1</td>\n",
       "      <td>-1</td>\n",
       "      <td>-1</td>\n",
       "      <td>-1</td>\n",
       "      <td>-1</td>\n",
       "      <td>-1</td>\n",
       "      <td>1</td>\n",
       "      <td>-1.0</td>\n",
       "      <td>0.5</td>\n",
       "      <td>...</td>\n",
       "      <td>-1.0</td>\n",
       "      <td>0.5</td>\n",
       "      <td>2.0</td>\n",
       "      <td>15.0</td>\n",
       "      <td>0.0</td>\n",
       "      <td>-35.0</td>\n",
       "      <td>0.0</td>\n",
       "      <td>2.0</td>\n",
       "      <td>0.0</td>\n",
       "      <td>2</td>\n",
       "    </tr>\n",
       "    <tr>\n",
       "      <th>29</th>\n",
       "      <td>0</td>\n",
       "      <td>7</td>\n",
       "      <td>-1</td>\n",
       "      <td>-1</td>\n",
       "      <td>-1</td>\n",
       "      <td>-1</td>\n",
       "      <td>-1</td>\n",
       "      <td>1</td>\n",
       "      <td>-1.0</td>\n",
       "      <td>0.5</td>\n",
       "      <td>...</td>\n",
       "      <td>-1.0</td>\n",
       "      <td>0.5</td>\n",
       "      <td>2.0</td>\n",
       "      <td>5.0</td>\n",
       "      <td>0.0</td>\n",
       "      <td>-40.0</td>\n",
       "      <td>0.0</td>\n",
       "      <td>2.0</td>\n",
       "      <td>2.0</td>\n",
       "      <td>0</td>\n",
       "    </tr>\n",
       "    <tr>\n",
       "      <th>...</th>\n",
       "      <td>...</td>\n",
       "      <td>...</td>\n",
       "      <td>...</td>\n",
       "      <td>...</td>\n",
       "      <td>...</td>\n",
       "      <td>...</td>\n",
       "      <td>...</td>\n",
       "      <td>...</td>\n",
       "      <td>...</td>\n",
       "      <td>...</td>\n",
       "      <td>...</td>\n",
       "      <td>...</td>\n",
       "      <td>...</td>\n",
       "      <td>...</td>\n",
       "      <td>...</td>\n",
       "      <td>...</td>\n",
       "      <td>...</td>\n",
       "      <td>...</td>\n",
       "      <td>...</td>\n",
       "      <td>...</td>\n",
       "      <td>...</td>\n",
       "    </tr>\n",
       "    <tr>\n",
       "      <th>10688</th>\n",
       "      <td>7</td>\n",
       "      <td>7</td>\n",
       "      <td>2</td>\n",
       "      <td>-1</td>\n",
       "      <td>3</td>\n",
       "      <td>-1</td>\n",
       "      <td>1</td>\n",
       "      <td>1</td>\n",
       "      <td>0.0</td>\n",
       "      <td>2.0</td>\n",
       "      <td>...</td>\n",
       "      <td>0.0</td>\n",
       "      <td>2.0</td>\n",
       "      <td>2.0</td>\n",
       "      <td>0.0</td>\n",
       "      <td>2.0</td>\n",
       "      <td>-2.0</td>\n",
       "      <td>1.0</td>\n",
       "      <td>2.0</td>\n",
       "      <td>0.0</td>\n",
       "      <td>2</td>\n",
       "    </tr>\n",
       "    <tr>\n",
       "      <th>10689</th>\n",
       "      <td>7</td>\n",
       "      <td>7</td>\n",
       "      <td>2</td>\n",
       "      <td>-1</td>\n",
       "      <td>4</td>\n",
       "      <td>-1</td>\n",
       "      <td>1</td>\n",
       "      <td>1</td>\n",
       "      <td>0.0</td>\n",
       "      <td>2.0</td>\n",
       "      <td>...</td>\n",
       "      <td>0.0</td>\n",
       "      <td>2.0</td>\n",
       "      <td>2.0</td>\n",
       "      <td>0.0</td>\n",
       "      <td>2.0</td>\n",
       "      <td>2.0</td>\n",
       "      <td>1.0</td>\n",
       "      <td>2.0</td>\n",
       "      <td>2.0</td>\n",
       "      <td>0</td>\n",
       "    </tr>\n",
       "    <tr>\n",
       "      <th>10690</th>\n",
       "      <td>7</td>\n",
       "      <td>7</td>\n",
       "      <td>2</td>\n",
       "      <td>-1</td>\n",
       "      <td>4</td>\n",
       "      <td>-1</td>\n",
       "      <td>1</td>\n",
       "      <td>1</td>\n",
       "      <td>0.0</td>\n",
       "      <td>2.0</td>\n",
       "      <td>...</td>\n",
       "      <td>0.0</td>\n",
       "      <td>2.0</td>\n",
       "      <td>2.0</td>\n",
       "      <td>3.0</td>\n",
       "      <td>1.0</td>\n",
       "      <td>0.0</td>\n",
       "      <td>2.0</td>\n",
       "      <td>2.0</td>\n",
       "      <td>1.0</td>\n",
       "      <td>1</td>\n",
       "    </tr>\n",
       "    <tr>\n",
       "      <th>10691</th>\n",
       "      <td>0</td>\n",
       "      <td>0</td>\n",
       "      <td>2</td>\n",
       "      <td>-1</td>\n",
       "      <td>2</td>\n",
       "      <td>-1</td>\n",
       "      <td>1</td>\n",
       "      <td>1</td>\n",
       "      <td>0.0</td>\n",
       "      <td>2.0</td>\n",
       "      <td>...</td>\n",
       "      <td>0.0</td>\n",
       "      <td>2.0</td>\n",
       "      <td>2.0</td>\n",
       "      <td>0.0</td>\n",
       "      <td>2.0</td>\n",
       "      <td>0.0</td>\n",
       "      <td>2.0</td>\n",
       "      <td>2.0</td>\n",
       "      <td>2.0</td>\n",
       "      <td>0</td>\n",
       "    </tr>\n",
       "    <tr>\n",
       "      <th>10692</th>\n",
       "      <td>7</td>\n",
       "      <td>7</td>\n",
       "      <td>2</td>\n",
       "      <td>-1</td>\n",
       "      <td>4</td>\n",
       "      <td>-1</td>\n",
       "      <td>1</td>\n",
       "      <td>1</td>\n",
       "      <td>0.0</td>\n",
       "      <td>2.0</td>\n",
       "      <td>...</td>\n",
       "      <td>0.0</td>\n",
       "      <td>2.0</td>\n",
       "      <td>2.0</td>\n",
       "      <td>0.0</td>\n",
       "      <td>2.0</td>\n",
       "      <td>0.0</td>\n",
       "      <td>2.0</td>\n",
       "      <td>2.0</td>\n",
       "      <td>0.0</td>\n",
       "      <td>2</td>\n",
       "    </tr>\n",
       "    <tr>\n",
       "      <th>10693</th>\n",
       "      <td>7</td>\n",
       "      <td>7</td>\n",
       "      <td>2</td>\n",
       "      <td>-1</td>\n",
       "      <td>3</td>\n",
       "      <td>-1</td>\n",
       "      <td>1</td>\n",
       "      <td>1</td>\n",
       "      <td>0.0</td>\n",
       "      <td>2.0</td>\n",
       "      <td>...</td>\n",
       "      <td>0.0</td>\n",
       "      <td>2.0</td>\n",
       "      <td>2.0</td>\n",
       "      <td>0.0</td>\n",
       "      <td>2.0</td>\n",
       "      <td>0.0</td>\n",
       "      <td>2.0</td>\n",
       "      <td>2.0</td>\n",
       "      <td>0.0</td>\n",
       "      <td>2</td>\n",
       "    </tr>\n",
       "    <tr>\n",
       "      <th>10694</th>\n",
       "      <td>5</td>\n",
       "      <td>5</td>\n",
       "      <td>2</td>\n",
       "      <td>-1</td>\n",
       "      <td>4</td>\n",
       "      <td>-1</td>\n",
       "      <td>1</td>\n",
       "      <td>1</td>\n",
       "      <td>0.0</td>\n",
       "      <td>2.0</td>\n",
       "      <td>...</td>\n",
       "      <td>0.0</td>\n",
       "      <td>2.0</td>\n",
       "      <td>2.0</td>\n",
       "      <td>0.0</td>\n",
       "      <td>2.0</td>\n",
       "      <td>0.0</td>\n",
       "      <td>2.0</td>\n",
       "      <td>2.0</td>\n",
       "      <td>0.0</td>\n",
       "      <td>2</td>\n",
       "    </tr>\n",
       "    <tr>\n",
       "      <th>10695</th>\n",
       "      <td>5</td>\n",
       "      <td>5</td>\n",
       "      <td>2</td>\n",
       "      <td>-1</td>\n",
       "      <td>4</td>\n",
       "      <td>-1</td>\n",
       "      <td>1</td>\n",
       "      <td>1</td>\n",
       "      <td>0.0</td>\n",
       "      <td>2.0</td>\n",
       "      <td>...</td>\n",
       "      <td>0.0</td>\n",
       "      <td>2.0</td>\n",
       "      <td>2.0</td>\n",
       "      <td>0.0</td>\n",
       "      <td>2.0</td>\n",
       "      <td>0.0</td>\n",
       "      <td>2.0</td>\n",
       "      <td>2.0</td>\n",
       "      <td>1.0</td>\n",
       "      <td>1</td>\n",
       "    </tr>\n",
       "    <tr>\n",
       "      <th>10696</th>\n",
       "      <td>2</td>\n",
       "      <td>2</td>\n",
       "      <td>2</td>\n",
       "      <td>-1</td>\n",
       "      <td>4</td>\n",
       "      <td>-1</td>\n",
       "      <td>1</td>\n",
       "      <td>1</td>\n",
       "      <td>0.0</td>\n",
       "      <td>2.0</td>\n",
       "      <td>...</td>\n",
       "      <td>0.0</td>\n",
       "      <td>2.0</td>\n",
       "      <td>2.0</td>\n",
       "      <td>4.0</td>\n",
       "      <td>1.0</td>\n",
       "      <td>0.0</td>\n",
       "      <td>2.0</td>\n",
       "      <td>2.0</td>\n",
       "      <td>0.0</td>\n",
       "      <td>2</td>\n",
       "    </tr>\n",
       "    <tr>\n",
       "      <th>10697</th>\n",
       "      <td>7</td>\n",
       "      <td>7</td>\n",
       "      <td>2</td>\n",
       "      <td>-1</td>\n",
       "      <td>3</td>\n",
       "      <td>-1</td>\n",
       "      <td>1</td>\n",
       "      <td>1</td>\n",
       "      <td>0.0</td>\n",
       "      <td>2.0</td>\n",
       "      <td>...</td>\n",
       "      <td>0.0</td>\n",
       "      <td>2.0</td>\n",
       "      <td>2.0</td>\n",
       "      <td>0.0</td>\n",
       "      <td>2.0</td>\n",
       "      <td>7.0</td>\n",
       "      <td>0.0</td>\n",
       "      <td>2.0</td>\n",
       "      <td>1.0</td>\n",
       "      <td>1</td>\n",
       "    </tr>\n",
       "    <tr>\n",
       "      <th>10698</th>\n",
       "      <td>5</td>\n",
       "      <td>5</td>\n",
       "      <td>2</td>\n",
       "      <td>-1</td>\n",
       "      <td>4</td>\n",
       "      <td>-1</td>\n",
       "      <td>1</td>\n",
       "      <td>1</td>\n",
       "      <td>0.0</td>\n",
       "      <td>2.0</td>\n",
       "      <td>...</td>\n",
       "      <td>0.0</td>\n",
       "      <td>2.0</td>\n",
       "      <td>2.0</td>\n",
       "      <td>0.0</td>\n",
       "      <td>2.0</td>\n",
       "      <td>1.0</td>\n",
       "      <td>1.0</td>\n",
       "      <td>2.0</td>\n",
       "      <td>0.0</td>\n",
       "      <td>2</td>\n",
       "    </tr>\n",
       "    <tr>\n",
       "      <th>10699</th>\n",
       "      <td>7</td>\n",
       "      <td>7</td>\n",
       "      <td>2</td>\n",
       "      <td>-1</td>\n",
       "      <td>3</td>\n",
       "      <td>-1</td>\n",
       "      <td>1</td>\n",
       "      <td>1</td>\n",
       "      <td>0.0</td>\n",
       "      <td>2.0</td>\n",
       "      <td>...</td>\n",
       "      <td>0.0</td>\n",
       "      <td>2.0</td>\n",
       "      <td>2.0</td>\n",
       "      <td>0.0</td>\n",
       "      <td>2.0</td>\n",
       "      <td>0.0</td>\n",
       "      <td>2.0</td>\n",
       "      <td>2.0</td>\n",
       "      <td>1.0</td>\n",
       "      <td>1</td>\n",
       "    </tr>\n",
       "    <tr>\n",
       "      <th>10700</th>\n",
       "      <td>0</td>\n",
       "      <td>0</td>\n",
       "      <td>2</td>\n",
       "      <td>-1</td>\n",
       "      <td>5</td>\n",
       "      <td>-1</td>\n",
       "      <td>1</td>\n",
       "      <td>1</td>\n",
       "      <td>0.0</td>\n",
       "      <td>2.0</td>\n",
       "      <td>...</td>\n",
       "      <td>0.0</td>\n",
       "      <td>2.0</td>\n",
       "      <td>2.0</td>\n",
       "      <td>0.0</td>\n",
       "      <td>2.0</td>\n",
       "      <td>11.0</td>\n",
       "      <td>0.0</td>\n",
       "      <td>2.0</td>\n",
       "      <td>1.0</td>\n",
       "      <td>1</td>\n",
       "    </tr>\n",
       "    <tr>\n",
       "      <th>10701</th>\n",
       "      <td>5</td>\n",
       "      <td>5</td>\n",
       "      <td>2</td>\n",
       "      <td>-1</td>\n",
       "      <td>4</td>\n",
       "      <td>-1</td>\n",
       "      <td>1</td>\n",
       "      <td>1</td>\n",
       "      <td>0.0</td>\n",
       "      <td>2.0</td>\n",
       "      <td>...</td>\n",
       "      <td>0.0</td>\n",
       "      <td>2.0</td>\n",
       "      <td>2.0</td>\n",
       "      <td>0.0</td>\n",
       "      <td>2.0</td>\n",
       "      <td>0.0</td>\n",
       "      <td>2.0</td>\n",
       "      <td>2.0</td>\n",
       "      <td>1.0</td>\n",
       "      <td>1</td>\n",
       "    </tr>\n",
       "    <tr>\n",
       "      <th>10702</th>\n",
       "      <td>5</td>\n",
       "      <td>5</td>\n",
       "      <td>2</td>\n",
       "      <td>-1</td>\n",
       "      <td>5</td>\n",
       "      <td>-1</td>\n",
       "      <td>1</td>\n",
       "      <td>1</td>\n",
       "      <td>0.0</td>\n",
       "      <td>2.0</td>\n",
       "      <td>...</td>\n",
       "      <td>0.0</td>\n",
       "      <td>2.0</td>\n",
       "      <td>2.0</td>\n",
       "      <td>4.0</td>\n",
       "      <td>1.0</td>\n",
       "      <td>0.0</td>\n",
       "      <td>2.0</td>\n",
       "      <td>0.0</td>\n",
       "      <td>0.0</td>\n",
       "      <td>2</td>\n",
       "    </tr>\n",
       "    <tr>\n",
       "      <th>10703</th>\n",
       "      <td>11</td>\n",
       "      <td>11</td>\n",
       "      <td>2</td>\n",
       "      <td>-1</td>\n",
       "      <td>4</td>\n",
       "      <td>-1</td>\n",
       "      <td>1</td>\n",
       "      <td>1</td>\n",
       "      <td>0.0</td>\n",
       "      <td>2.0</td>\n",
       "      <td>...</td>\n",
       "      <td>0.0</td>\n",
       "      <td>2.0</td>\n",
       "      <td>2.0</td>\n",
       "      <td>0.0</td>\n",
       "      <td>2.0</td>\n",
       "      <td>-1.0</td>\n",
       "      <td>1.0</td>\n",
       "      <td>2.0</td>\n",
       "      <td>1.0</td>\n",
       "      <td>1</td>\n",
       "    </tr>\n",
       "    <tr>\n",
       "      <th>10704</th>\n",
       "      <td>0</td>\n",
       "      <td>0</td>\n",
       "      <td>2</td>\n",
       "      <td>-1</td>\n",
       "      <td>4</td>\n",
       "      <td>-1</td>\n",
       "      <td>1</td>\n",
       "      <td>1</td>\n",
       "      <td>0.0</td>\n",
       "      <td>2.0</td>\n",
       "      <td>...</td>\n",
       "      <td>0.0</td>\n",
       "      <td>2.0</td>\n",
       "      <td>2.0</td>\n",
       "      <td>0.0</td>\n",
       "      <td>2.0</td>\n",
       "      <td>0.0</td>\n",
       "      <td>2.0</td>\n",
       "      <td>2.0</td>\n",
       "      <td>0.0</td>\n",
       "      <td>2</td>\n",
       "    </tr>\n",
       "    <tr>\n",
       "      <th>10705</th>\n",
       "      <td>7</td>\n",
       "      <td>7</td>\n",
       "      <td>2</td>\n",
       "      <td>-1</td>\n",
       "      <td>3</td>\n",
       "      <td>-1</td>\n",
       "      <td>1</td>\n",
       "      <td>1</td>\n",
       "      <td>0.0</td>\n",
       "      <td>2.0</td>\n",
       "      <td>...</td>\n",
       "      <td>0.0</td>\n",
       "      <td>2.0</td>\n",
       "      <td>2.0</td>\n",
       "      <td>0.0</td>\n",
       "      <td>2.0</td>\n",
       "      <td>0.0</td>\n",
       "      <td>2.0</td>\n",
       "      <td>2.0</td>\n",
       "      <td>1.0</td>\n",
       "      <td>1</td>\n",
       "    </tr>\n",
       "    <tr>\n",
       "      <th>10706</th>\n",
       "      <td>11</td>\n",
       "      <td>11</td>\n",
       "      <td>2</td>\n",
       "      <td>-1</td>\n",
       "      <td>4</td>\n",
       "      <td>-1</td>\n",
       "      <td>1</td>\n",
       "      <td>1</td>\n",
       "      <td>0.0</td>\n",
       "      <td>2.0</td>\n",
       "      <td>...</td>\n",
       "      <td>0.0</td>\n",
       "      <td>2.0</td>\n",
       "      <td>2.0</td>\n",
       "      <td>0.0</td>\n",
       "      <td>2.0</td>\n",
       "      <td>0.0</td>\n",
       "      <td>2.0</td>\n",
       "      <td>2.0</td>\n",
       "      <td>1.0</td>\n",
       "      <td>1</td>\n",
       "    </tr>\n",
       "    <tr>\n",
       "      <th>10707</th>\n",
       "      <td>7</td>\n",
       "      <td>7</td>\n",
       "      <td>2</td>\n",
       "      <td>-1</td>\n",
       "      <td>3</td>\n",
       "      <td>-1</td>\n",
       "      <td>1</td>\n",
       "      <td>1</td>\n",
       "      <td>0.0</td>\n",
       "      <td>2.0</td>\n",
       "      <td>...</td>\n",
       "      <td>0.0</td>\n",
       "      <td>2.0</td>\n",
       "      <td>2.0</td>\n",
       "      <td>4.0</td>\n",
       "      <td>1.0</td>\n",
       "      <td>0.0</td>\n",
       "      <td>2.0</td>\n",
       "      <td>0.0</td>\n",
       "      <td>3.0</td>\n",
       "      <td>0</td>\n",
       "    </tr>\n",
       "    <tr>\n",
       "      <th>10708</th>\n",
       "      <td>11</td>\n",
       "      <td>0</td>\n",
       "      <td>2</td>\n",
       "      <td>-1</td>\n",
       "      <td>4</td>\n",
       "      <td>-1</td>\n",
       "      <td>1</td>\n",
       "      <td>1</td>\n",
       "      <td>0.0</td>\n",
       "      <td>2.0</td>\n",
       "      <td>...</td>\n",
       "      <td>0.0</td>\n",
       "      <td>2.0</td>\n",
       "      <td>2.0</td>\n",
       "      <td>1.0</td>\n",
       "      <td>1.0</td>\n",
       "      <td>0.0</td>\n",
       "      <td>2.0</td>\n",
       "      <td>2.0</td>\n",
       "      <td>0.0</td>\n",
       "      <td>2</td>\n",
       "    </tr>\n",
       "    <tr>\n",
       "      <th>10709</th>\n",
       "      <td>0</td>\n",
       "      <td>-1</td>\n",
       "      <td>7</td>\n",
       "      <td>-1</td>\n",
       "      <td>4</td>\n",
       "      <td>-1</td>\n",
       "      <td>1</td>\n",
       "      <td>1</td>\n",
       "      <td>0.0</td>\n",
       "      <td>2.0</td>\n",
       "      <td>...</td>\n",
       "      <td>0.0</td>\n",
       "      <td>2.0</td>\n",
       "      <td>2.0</td>\n",
       "      <td>0.0</td>\n",
       "      <td>2.0</td>\n",
       "      <td>0.0</td>\n",
       "      <td>2.0</td>\n",
       "      <td>2.0</td>\n",
       "      <td>0.0</td>\n",
       "      <td>2</td>\n",
       "    </tr>\n",
       "    <tr>\n",
       "      <th>10710</th>\n",
       "      <td>5</td>\n",
       "      <td>5</td>\n",
       "      <td>2</td>\n",
       "      <td>-1</td>\n",
       "      <td>4</td>\n",
       "      <td>-1</td>\n",
       "      <td>1</td>\n",
       "      <td>1</td>\n",
       "      <td>0.0</td>\n",
       "      <td>2.0</td>\n",
       "      <td>...</td>\n",
       "      <td>0.0</td>\n",
       "      <td>2.0</td>\n",
       "      <td>2.0</td>\n",
       "      <td>0.0</td>\n",
       "      <td>2.0</td>\n",
       "      <td>0.0</td>\n",
       "      <td>2.0</td>\n",
       "      <td>2.0</td>\n",
       "      <td>0.0</td>\n",
       "      <td>2</td>\n",
       "    </tr>\n",
       "    <tr>\n",
       "      <th>10711</th>\n",
       "      <td>11</td>\n",
       "      <td>11</td>\n",
       "      <td>2</td>\n",
       "      <td>-1</td>\n",
       "      <td>4</td>\n",
       "      <td>-1</td>\n",
       "      <td>1</td>\n",
       "      <td>1</td>\n",
       "      <td>0.0</td>\n",
       "      <td>2.0</td>\n",
       "      <td>...</td>\n",
       "      <td>0.0</td>\n",
       "      <td>2.0</td>\n",
       "      <td>2.0</td>\n",
       "      <td>0.0</td>\n",
       "      <td>2.0</td>\n",
       "      <td>0.0</td>\n",
       "      <td>2.0</td>\n",
       "      <td>2.0</td>\n",
       "      <td>0.0</td>\n",
       "      <td>2</td>\n",
       "    </tr>\n",
       "    <tr>\n",
       "      <th>10712</th>\n",
       "      <td>9</td>\n",
       "      <td>9</td>\n",
       "      <td>2</td>\n",
       "      <td>-1</td>\n",
       "      <td>4</td>\n",
       "      <td>-1</td>\n",
       "      <td>1</td>\n",
       "      <td>1</td>\n",
       "      <td>0.0</td>\n",
       "      <td>2.0</td>\n",
       "      <td>...</td>\n",
       "      <td>0.0</td>\n",
       "      <td>2.0</td>\n",
       "      <td>2.0</td>\n",
       "      <td>0.0</td>\n",
       "      <td>2.0</td>\n",
       "      <td>0.0</td>\n",
       "      <td>2.0</td>\n",
       "      <td>2.0</td>\n",
       "      <td>0.0</td>\n",
       "      <td>2</td>\n",
       "    </tr>\n",
       "    <tr>\n",
       "      <th>10713</th>\n",
       "      <td>0</td>\n",
       "      <td>0</td>\n",
       "      <td>2</td>\n",
       "      <td>-1</td>\n",
       "      <td>4</td>\n",
       "      <td>-1</td>\n",
       "      <td>1</td>\n",
       "      <td>1</td>\n",
       "      <td>0.0</td>\n",
       "      <td>2.0</td>\n",
       "      <td>...</td>\n",
       "      <td>0.0</td>\n",
       "      <td>2.0</td>\n",
       "      <td>2.0</td>\n",
       "      <td>0.0</td>\n",
       "      <td>2.0</td>\n",
       "      <td>0.0</td>\n",
       "      <td>2.0</td>\n",
       "      <td>2.0</td>\n",
       "      <td>0.0</td>\n",
       "      <td>2</td>\n",
       "    </tr>\n",
       "    <tr>\n",
       "      <th>10714</th>\n",
       "      <td>7</td>\n",
       "      <td>7</td>\n",
       "      <td>2</td>\n",
       "      <td>-1</td>\n",
       "      <td>3</td>\n",
       "      <td>-1</td>\n",
       "      <td>1</td>\n",
       "      <td>1</td>\n",
       "      <td>0.0</td>\n",
       "      <td>2.0</td>\n",
       "      <td>...</td>\n",
       "      <td>0.0</td>\n",
       "      <td>2.0</td>\n",
       "      <td>2.0</td>\n",
       "      <td>0.0</td>\n",
       "      <td>2.0</td>\n",
       "      <td>3.0</td>\n",
       "      <td>1.0</td>\n",
       "      <td>2.0</td>\n",
       "      <td>2.0</td>\n",
       "      <td>0</td>\n",
       "    </tr>\n",
       "    <tr>\n",
       "      <th>10715</th>\n",
       "      <td>5</td>\n",
       "      <td>5</td>\n",
       "      <td>2</td>\n",
       "      <td>-1</td>\n",
       "      <td>4</td>\n",
       "      <td>-1</td>\n",
       "      <td>1</td>\n",
       "      <td>1</td>\n",
       "      <td>0.0</td>\n",
       "      <td>2.0</td>\n",
       "      <td>...</td>\n",
       "      <td>0.0</td>\n",
       "      <td>2.0</td>\n",
       "      <td>2.0</td>\n",
       "      <td>3.0</td>\n",
       "      <td>1.0</td>\n",
       "      <td>0.0</td>\n",
       "      <td>2.0</td>\n",
       "      <td>2.0</td>\n",
       "      <td>1.0</td>\n",
       "      <td>1</td>\n",
       "    </tr>\n",
       "    <tr>\n",
       "      <th>10716</th>\n",
       "      <td>5</td>\n",
       "      <td>5</td>\n",
       "      <td>2</td>\n",
       "      <td>-1</td>\n",
       "      <td>3</td>\n",
       "      <td>-1</td>\n",
       "      <td>1</td>\n",
       "      <td>1</td>\n",
       "      <td>0.0</td>\n",
       "      <td>2.0</td>\n",
       "      <td>...</td>\n",
       "      <td>0.0</td>\n",
       "      <td>2.0</td>\n",
       "      <td>2.0</td>\n",
       "      <td>0.0</td>\n",
       "      <td>2.0</td>\n",
       "      <td>0.0</td>\n",
       "      <td>2.0</td>\n",
       "      <td>2.0</td>\n",
       "      <td>2.0</td>\n",
       "      <td>0</td>\n",
       "    </tr>\n",
       "    <tr>\n",
       "      <th>10717</th>\n",
       "      <td>5</td>\n",
       "      <td>5</td>\n",
       "      <td>2</td>\n",
       "      <td>-1</td>\n",
       "      <td>3</td>\n",
       "      <td>-1</td>\n",
       "      <td>1</td>\n",
       "      <td>1</td>\n",
       "      <td>0.0</td>\n",
       "      <td>2.0</td>\n",
       "      <td>...</td>\n",
       "      <td>0.0</td>\n",
       "      <td>2.0</td>\n",
       "      <td>2.0</td>\n",
       "      <td>0.0</td>\n",
       "      <td>2.0</td>\n",
       "      <td>0.0</td>\n",
       "      <td>2.0</td>\n",
       "      <td>2.0</td>\n",
       "      <td>0.0</td>\n",
       "      <td>2</td>\n",
       "    </tr>\n",
       "  </tbody>\n",
       "</table>\n",
       "<p>10718 rows × 24 columns</p>\n",
       "</div>"
      ],
      "text/plain": [
       "       colorp1  colorp2  fuel_typep1  fuel_typep2  displacement_standard1  \\\n",
       "0            0        0           -1           -1                      -1   \n",
       "1           11        7           -1           -1                      -1   \n",
       "2           11       -1           -1           -1                      -1   \n",
       "3            0       -1           -1           -1                      -1   \n",
       "4            7        7           -1           -1                      -1   \n",
       "5           11        7           -1           -1                      -1   \n",
       "6           -1        0           -1           -1                      -1   \n",
       "7           -1       -1           -1           -1                      -1   \n",
       "8            0        0           -1           -1                      -1   \n",
       "9           11       -1           -1           -1                      -1   \n",
       "10          -1       -1           -1           -1                      -1   \n",
       "11           0       -1           -1           -1                      -1   \n",
       "12           7        7           -1           -1                      -1   \n",
       "13           4       -1           -1           -1                      -1   \n",
       "14           9       -1           -1           -1                      -1   \n",
       "15           0        0           -1           -1                      -1   \n",
       "16           0        0           -1           -1                      -1   \n",
       "17          -1       -1           -1           -1                      -1   \n",
       "18          -1       -1           -1           -1                      -1   \n",
       "19          11       -1           -1           -1                      -1   \n",
       "20          -1       -1           -1           -1                      -1   \n",
       "21           0       -1           -1           -1                      -1   \n",
       "22           0       -1           -1           -1                      -1   \n",
       "23           7        7           -1           -1                      -1   \n",
       "24           7        7           -1           -1                      -1   \n",
       "25           7        0           -1           -1                      -1   \n",
       "26           7        0           -1           -1                      -1   \n",
       "27          -1       -1           -1           -1                      -1   \n",
       "28           0       -1           -1           -1                      -1   \n",
       "29           0        7           -1           -1                      -1   \n",
       "...        ...      ...          ...          ...                     ...   \n",
       "10688        7        7            2           -1                       3   \n",
       "10689        7        7            2           -1                       4   \n",
       "10690        7        7            2           -1                       4   \n",
       "10691        0        0            2           -1                       2   \n",
       "10692        7        7            2           -1                       4   \n",
       "10693        7        7            2           -1                       3   \n",
       "10694        5        5            2           -1                       4   \n",
       "10695        5        5            2           -1                       4   \n",
       "10696        2        2            2           -1                       4   \n",
       "10697        7        7            2           -1                       3   \n",
       "10698        5        5            2           -1                       4   \n",
       "10699        7        7            2           -1                       3   \n",
       "10700        0        0            2           -1                       5   \n",
       "10701        5        5            2           -1                       4   \n",
       "10702        5        5            2           -1                       5   \n",
       "10703       11       11            2           -1                       4   \n",
       "10704        0        0            2           -1                       4   \n",
       "10705        7        7            2           -1                       3   \n",
       "10706       11       11            2           -1                       4   \n",
       "10707        7        7            2           -1                       3   \n",
       "10708       11        0            2           -1                       4   \n",
       "10709        0       -1            7           -1                       4   \n",
       "10710        5        5            2           -1                       4   \n",
       "10711       11       11            2           -1                       4   \n",
       "10712        9        9            2           -1                       4   \n",
       "10713        0        0            2           -1                       4   \n",
       "10714        7        7            2           -1                       3   \n",
       "10715        5        5            2           -1                       4   \n",
       "10716        5        5            2           -1                       3   \n",
       "10717        5        5            2           -1                       3   \n",
       "\n",
       "       displacement_standard2  gearboxp1  gearboxp2  displacement_diff  \\\n",
       "0                          -1         -1          1               -1.0   \n",
       "1                          -1         -1          1               -1.0   \n",
       "2                          -1         -1          1               -1.0   \n",
       "3                          -1         -1          1               -1.0   \n",
       "4                          -1         -1          1               -1.0   \n",
       "5                          -1         -1          1               -1.0   \n",
       "6                          -1         -1          1               -1.0   \n",
       "7                          -1         -1          1               -1.0   \n",
       "8                          -1         -1          1               -1.0   \n",
       "9                          -1         -1          1               -1.0   \n",
       "10                         -1         -1          1               -1.0   \n",
       "11                         -1         -1          1               -1.0   \n",
       "12                         -1         -1          1               -1.0   \n",
       "13                         -1         -1          1               -1.0   \n",
       "14                         -1         -1          1               -1.0   \n",
       "15                         -1         -1          1               -1.0   \n",
       "16                         -1         -1          1               -1.0   \n",
       "17                         -1         -1          1               -1.0   \n",
       "18                         -1         -1          1               -1.0   \n",
       "19                         -1         -1          1               -1.0   \n",
       "20                         -1         -1          1               -1.0   \n",
       "21                         -1         -1          1               -1.0   \n",
       "22                         -1         -1          1               -1.0   \n",
       "23                         -1         -1          1               -1.0   \n",
       "24                         -1         -1          1               -1.0   \n",
       "25                         -1         -1          1               -1.0   \n",
       "26                         -1         -1          1               -1.0   \n",
       "27                         -1         -1          1               -1.0   \n",
       "28                         -1         -1          1               -1.0   \n",
       "29                         -1         -1          1               -1.0   \n",
       "...                       ...        ...        ...                ...   \n",
       "10688                      -1          1          1                0.0   \n",
       "10689                      -1          1          1                0.0   \n",
       "10690                      -1          1          1                0.0   \n",
       "10691                      -1          1          1                0.0   \n",
       "10692                      -1          1          1                0.0   \n",
       "10693                      -1          1          1                0.0   \n",
       "10694                      -1          1          1                0.0   \n",
       "10695                      -1          1          1                0.0   \n",
       "10696                      -1          1          1                0.0   \n",
       "10697                      -1          1          1                0.0   \n",
       "10698                      -1          1          1                0.0   \n",
       "10699                      -1          1          1                0.0   \n",
       "10700                      -1          1          1                0.0   \n",
       "10701                      -1          1          1                0.0   \n",
       "10702                      -1          1          1                0.0   \n",
       "10703                      -1          1          1                0.0   \n",
       "10704                      -1          1          1                0.0   \n",
       "10705                      -1          1          1                0.0   \n",
       "10706                      -1          1          1                0.0   \n",
       "10707                      -1          1          1                0.0   \n",
       "10708                      -1          1          1                0.0   \n",
       "10709                      -1          1          1                0.0   \n",
       "10710                      -1          1          1                0.0   \n",
       "10711                      -1          1          1                0.0   \n",
       "10712                      -1          1          1                0.0   \n",
       "10713                      -1          1          1                0.0   \n",
       "10714                      -1          1          1                0.0   \n",
       "10715                      -1          1          1                0.0   \n",
       "10716                      -1          1          1                0.0   \n",
       "10717                      -1          1          1                0.0   \n",
       "\n",
       "       displacement_diff_sparse             ...              year_diff  \\\n",
       "0                           0.5             ...                   -1.0   \n",
       "1                           0.5             ...                   -1.0   \n",
       "2                           0.5             ...                   -1.0   \n",
       "3                           0.5             ...                   -1.0   \n",
       "4                           0.5             ...                   -1.0   \n",
       "5                           0.5             ...                   -1.0   \n",
       "6                           0.5             ...                   -1.0   \n",
       "7                           0.5             ...                   -1.0   \n",
       "8                           0.5             ...                   -1.0   \n",
       "9                           0.5             ...                   -1.0   \n",
       "10                          0.5             ...                   -1.0   \n",
       "11                          0.5             ...                   -1.0   \n",
       "12                          0.5             ...                   -1.0   \n",
       "13                          0.5             ...                   -1.0   \n",
       "14                          0.5             ...                   -1.0   \n",
       "15                          0.5             ...                   -1.0   \n",
       "16                          0.5             ...                   -1.0   \n",
       "17                          0.5             ...                   -1.0   \n",
       "18                          0.5             ...                   -1.0   \n",
       "19                          0.5             ...                   -1.0   \n",
       "20                          0.5             ...                   -1.0   \n",
       "21                          0.5             ...                   -1.0   \n",
       "22                          0.5             ...                   -1.0   \n",
       "23                          0.5             ...                   -1.0   \n",
       "24                          0.5             ...                   -1.0   \n",
       "25                          0.5             ...                   -1.0   \n",
       "26                          0.5             ...                   -1.0   \n",
       "27                          0.5             ...                   -1.0   \n",
       "28                          0.5             ...                   -1.0   \n",
       "29                          0.5             ...                   -1.0   \n",
       "...                         ...             ...                    ...   \n",
       "10688                       2.0             ...                    0.0   \n",
       "10689                       2.0             ...                    0.0   \n",
       "10690                       2.0             ...                    0.0   \n",
       "10691                       2.0             ...                    0.0   \n",
       "10692                       2.0             ...                    0.0   \n",
       "10693                       2.0             ...                    0.0   \n",
       "10694                       2.0             ...                    0.0   \n",
       "10695                       2.0             ...                    0.0   \n",
       "10696                       2.0             ...                    0.0   \n",
       "10697                       2.0             ...                    0.0   \n",
       "10698                       2.0             ...                    0.0   \n",
       "10699                       2.0             ...                    0.0   \n",
       "10700                       2.0             ...                    0.0   \n",
       "10701                       2.0             ...                    0.0   \n",
       "10702                       2.0             ...                    0.0   \n",
       "10703                       2.0             ...                    0.0   \n",
       "10704                       2.0             ...                    0.0   \n",
       "10705                       2.0             ...                    0.0   \n",
       "10706                       2.0             ...                    0.0   \n",
       "10707                       2.0             ...                    0.0   \n",
       "10708                       2.0             ...                    0.0   \n",
       "10709                       2.0             ...                    0.0   \n",
       "10710                       2.0             ...                    0.0   \n",
       "10711                       2.0             ...                    0.0   \n",
       "10712                       2.0             ...                    0.0   \n",
       "10713                       2.0             ...                    0.0   \n",
       "10714                       2.0             ...                    0.0   \n",
       "10715                       2.0             ...                    0.0   \n",
       "10716                       2.0             ...                    0.0   \n",
       "10717                       2.0             ...                    0.0   \n",
       "\n",
       "       year_diff_sparse  licensed_city_diff_sparse  title_diff  \\\n",
       "0                   0.5                        2.0         8.0   \n",
       "1                   0.5                        0.0         7.0   \n",
       "2                   0.5                        2.0         4.0   \n",
       "3                   0.5                        2.0         6.0   \n",
       "4                   0.5                        2.0         3.0   \n",
       "5                   0.5                        2.0         5.0   \n",
       "6                   0.5                        2.0         5.0   \n",
       "7                   0.5                        2.0         9.0   \n",
       "8                   0.5                        0.0         4.0   \n",
       "9                   0.5                        0.0         8.0   \n",
       "10                  0.5                        0.0         1.0   \n",
       "11                  0.5                        2.0         5.0   \n",
       "12                  0.5                        0.0         5.0   \n",
       "13                  0.5                        2.0         6.0   \n",
       "14                  0.5                        2.0         6.0   \n",
       "15                  0.5                        2.0         6.0   \n",
       "16                  0.5                        0.0         8.0   \n",
       "17                  0.5                        2.0         1.0   \n",
       "18                  0.5                        2.0         6.0   \n",
       "19                  0.5                        2.0         5.0   \n",
       "20                  0.5                        2.0         1.0   \n",
       "21                  0.5                        0.0         8.0   \n",
       "22                  0.5                        0.0         0.0   \n",
       "23                  0.5                        2.0         8.0   \n",
       "24                  0.5                        2.0         2.0   \n",
       "25                  0.5                        2.0        11.0   \n",
       "26                  0.5                        2.0         2.0   \n",
       "27                  0.5                        0.0         5.0   \n",
       "28                  0.5                        2.0        15.0   \n",
       "29                  0.5                        2.0         5.0   \n",
       "...                 ...                        ...         ...   \n",
       "10688               2.0                        2.0         0.0   \n",
       "10689               2.0                        2.0         0.0   \n",
       "10690               2.0                        2.0         3.0   \n",
       "10691               2.0                        2.0         0.0   \n",
       "10692               2.0                        2.0         0.0   \n",
       "10693               2.0                        2.0         0.0   \n",
       "10694               2.0                        2.0         0.0   \n",
       "10695               2.0                        2.0         0.0   \n",
       "10696               2.0                        2.0         4.0   \n",
       "10697               2.0                        2.0         0.0   \n",
       "10698               2.0                        2.0         0.0   \n",
       "10699               2.0                        2.0         0.0   \n",
       "10700               2.0                        2.0         0.0   \n",
       "10701               2.0                        2.0         0.0   \n",
       "10702               2.0                        2.0         4.0   \n",
       "10703               2.0                        2.0         0.0   \n",
       "10704               2.0                        2.0         0.0   \n",
       "10705               2.0                        2.0         0.0   \n",
       "10706               2.0                        2.0         0.0   \n",
       "10707               2.0                        2.0         4.0   \n",
       "10708               2.0                        2.0         1.0   \n",
       "10709               2.0                        2.0         0.0   \n",
       "10710               2.0                        2.0         0.0   \n",
       "10711               2.0                        2.0         0.0   \n",
       "10712               2.0                        2.0         0.0   \n",
       "10713               2.0                        2.0         0.0   \n",
       "10714               2.0                        2.0         0.0   \n",
       "10715               2.0                        2.0         3.0   \n",
       "10716               2.0                        2.0         0.0   \n",
       "10717               2.0                        2.0         0.0   \n",
       "\n",
       "       title_diff_sparse  register_time_diff  register_time_diff_sparse  \\\n",
       "0                    0.0               -24.0                        0.0   \n",
       "1                    0.0                34.0                        0.0   \n",
       "2                    1.0                65.0                        0.0   \n",
       "3                    0.0               123.0                        0.0   \n",
       "4                    1.0                 5.0                        0.0   \n",
       "5                    0.0                46.0                        0.0   \n",
       "6                    0.0               -69.0                        0.0   \n",
       "7                    0.0               104.0                        0.0   \n",
       "8                    1.0                14.0                        0.0   \n",
       "9                    0.0                43.0                        0.0   \n",
       "10                   1.0               -28.0                        0.0   \n",
       "11                   0.0                20.0                        0.0   \n",
       "12                   0.0               -12.0                        0.0   \n",
       "13                   0.0                 2.0                        1.0   \n",
       "14                   0.0                87.0                        0.0   \n",
       "15                   0.0                 2.0                        1.0   \n",
       "16                   0.0                51.0                        0.0   \n",
       "17                   1.0                17.0                        0.0   \n",
       "18                   0.0                43.0                        0.0   \n",
       "19                   0.0               -11.0                        0.0   \n",
       "20                   1.0               -26.0                        0.0   \n",
       "21                   0.0                67.0                        0.0   \n",
       "22                   2.0                18.0                        0.0   \n",
       "23                   0.0                42.0                        0.0   \n",
       "24                   1.0                -7.0                        0.0   \n",
       "25                   0.0                20.0                        0.0   \n",
       "26                   1.0               -44.0                        0.0   \n",
       "27                   0.0               -61.0                        0.0   \n",
       "28                   0.0               -35.0                        0.0   \n",
       "29                   0.0               -40.0                        0.0   \n",
       "...                  ...                 ...                        ...   \n",
       "10688                2.0                -2.0                        1.0   \n",
       "10689                2.0                 2.0                        1.0   \n",
       "10690                1.0                 0.0                        2.0   \n",
       "10691                2.0                 0.0                        2.0   \n",
       "10692                2.0                 0.0                        2.0   \n",
       "10693                2.0                 0.0                        2.0   \n",
       "10694                2.0                 0.0                        2.0   \n",
       "10695                2.0                 0.0                        2.0   \n",
       "10696                1.0                 0.0                        2.0   \n",
       "10697                2.0                 7.0                        0.0   \n",
       "10698                2.0                 1.0                        1.0   \n",
       "10699                2.0                 0.0                        2.0   \n",
       "10700                2.0                11.0                        0.0   \n",
       "10701                2.0                 0.0                        2.0   \n",
       "10702                1.0                 0.0                        2.0   \n",
       "10703                2.0                -1.0                        1.0   \n",
       "10704                2.0                 0.0                        2.0   \n",
       "10705                2.0                 0.0                        2.0   \n",
       "10706                2.0                 0.0                        2.0   \n",
       "10707                1.0                 0.0                        2.0   \n",
       "10708                1.0                 0.0                        2.0   \n",
       "10709                2.0                 0.0                        2.0   \n",
       "10710                2.0                 0.0                        2.0   \n",
       "10711                2.0                 0.0                        2.0   \n",
       "10712                2.0                 0.0                        2.0   \n",
       "10713                2.0                 0.0                        2.0   \n",
       "10714                2.0                 3.0                        1.0   \n",
       "10715                1.0                 0.0                        2.0   \n",
       "10716                2.0                 0.0                        2.0   \n",
       "10717                2.0                 0.0                        2.0   \n",
       "\n",
       "       is_import_diff_sparse  transfer_times_diff  transfer_times_diff_sparse  \n",
       "0                        2.0                 -1.0                           1  \n",
       "1                        2.0                  0.0                           2  \n",
       "2                        2.0                 -2.0                           0  \n",
       "3                        2.0                 -1.0                           1  \n",
       "4                        2.0                  0.0                           2  \n",
       "5                        2.0                 -1.0                           1  \n",
       "6                        2.0                  1.0                           1  \n",
       "7                        2.0                 -1.0                           1  \n",
       "8                        2.0                  0.0                           2  \n",
       "9                        2.0                  0.0                           2  \n",
       "10                       2.0                  0.0                           2  \n",
       "11                       2.0                  1.0                           1  \n",
       "12                       2.0                 -1.0                           1  \n",
       "13                       2.0                 -2.0                           0  \n",
       "14                       2.0                  0.0                           2  \n",
       "15                       2.0                 -1.0                           1  \n",
       "16                       2.0                  0.0                           2  \n",
       "17                       2.0                  3.0                           0  \n",
       "18                       2.0                 -1.0                           1  \n",
       "19                       2.0                  1.0                           1  \n",
       "20                       2.0                 -2.0                           0  \n",
       "21                       2.0                 -1.0                           1  \n",
       "22                       2.0                  0.0                           2  \n",
       "23                       2.0                  2.0                           0  \n",
       "24                       2.0                  1.0                           1  \n",
       "25                       2.0                  0.0                           2  \n",
       "26                       2.0                  0.0                           2  \n",
       "27                       2.0                  0.0                           2  \n",
       "28                       2.0                  0.0                           2  \n",
       "29                       2.0                  2.0                           0  \n",
       "...                      ...                  ...                         ...  \n",
       "10688                    2.0                  0.0                           2  \n",
       "10689                    2.0                  2.0                           0  \n",
       "10690                    2.0                  1.0                           1  \n",
       "10691                    2.0                  2.0                           0  \n",
       "10692                    2.0                  0.0                           2  \n",
       "10693                    2.0                  0.0                           2  \n",
       "10694                    2.0                  0.0                           2  \n",
       "10695                    2.0                  1.0                           1  \n",
       "10696                    2.0                  0.0                           2  \n",
       "10697                    2.0                  1.0                           1  \n",
       "10698                    2.0                  0.0                           2  \n",
       "10699                    2.0                  1.0                           1  \n",
       "10700                    2.0                  1.0                           1  \n",
       "10701                    2.0                  1.0                           1  \n",
       "10702                    0.0                  0.0                           2  \n",
       "10703                    2.0                  1.0                           1  \n",
       "10704                    2.0                  0.0                           2  \n",
       "10705                    2.0                  1.0                           1  \n",
       "10706                    2.0                  1.0                           1  \n",
       "10707                    0.0                  3.0                           0  \n",
       "10708                    2.0                  0.0                           2  \n",
       "10709                    2.0                  0.0                           2  \n",
       "10710                    2.0                  0.0                           2  \n",
       "10711                    2.0                  0.0                           2  \n",
       "10712                    2.0                  0.0                           2  \n",
       "10713                    2.0                  0.0                           2  \n",
       "10714                    2.0                  2.0                           0  \n",
       "10715                    2.0                  1.0                           1  \n",
       "10716                    2.0                  2.0                           0  \n",
       "10717                    2.0                  0.0                           2  \n",
       "\n",
       "[10718 rows x 24 columns]"
      ]
     },
     "execution_count": 4,
     "metadata": {},
     "output_type": "execute_result"
    }
   ],
   "source": [
    "df[feats]"
   ]
  },
  {
   "cell_type": "code",
   "execution_count": 5,
   "metadata": {},
   "outputs": [
    {
     "data": {
      "text/plain": [
       "(8038, 2680)"
      ]
     },
     "execution_count": 5,
     "metadata": {},
     "output_type": "execute_result"
    }
   ],
   "source": [
    "rdf = df[feats].copy()\n",
    "rdf['c'] = 1\n",
    "X_train, X_test, y_train, y_test = train_test_split(rdf, df.is_same, test_size=0.25, random_state=10)\n",
    "len(X_train), len(X_test)"
   ]
  },
  {
   "cell_type": "code",
   "execution_count": 6,
   "metadata": {},
   "outputs": [],
   "source": [
    "def sigmoid(v):\n",
    "    return 1.0/(1+math.exp(-v))\n",
    "\n",
    "def sigmoid_arr(iy):\n",
    "    ret = []\n",
    "    for v in iy:\n",
    "        try:\n",
    "            ret.append(sigmoid(v))\n",
    "        except:\n",
    "            print(v)\n",
    "            ret.append(0.5)\n",
    "    return ret"
   ]
  },
  {
   "cell_type": "code",
   "execution_count": 9,
   "metadata": {},
   "outputs": [],
   "source": [
    "# \n",
    "weight = [1 for i in range(len(feats)+1)]\n",
    "run_times = []\n",
    "ret_arr = {'recall':[], 'precision':[], 'accuracy': [], 'tp':[], 'tn':[], 'fp': [], 'fn':[]}\n",
    "weight_arr = []\n",
    "run_index = 0"
   ]
  },
  {
   "cell_type": "code",
   "execution_count": 14,
   "metadata": {},
   "outputs": [
    {
     "name": "stdout",
     "output_type": "stream",
     "text": [
      "{'recall': 0.9779932860872809, 'precision': 0.9472543352601156, 'accuracy': 0.9744961433192336, 'tp': 2622, 'fp': 146, 'tn': 5211, 'fn': 59}\n"
     ]
    },
    {
     "data": {
      "application/vnd.plotly.v1+json": {
       "config": {
        "plotlyServerURL": "https://plot.ly"
       },
       "data": [
        {
         "mode": "lines+markers",
         "name": "acc",
         "type": "scatter",
         "x": [
          0,
          50,
          51,
          100,
          120,
          140,
          160,
          180,
          181,
          200,
          220,
          240,
          260,
          280,
          281,
          300,
          320,
          340,
          360,
          380,
          400,
          420,
          440,
          460,
          480,
          500,
          520,
          540,
          560,
          580,
          600,
          620,
          640,
          660,
          680,
          700,
          720,
          740,
          760,
          780,
          781,
          800,
          820,
          840,
          860,
          880,
          900,
          920,
          940,
          960,
          980,
          1000,
          1020,
          1040,
          1060,
          1080,
          1100,
          1120,
          1140,
          1160,
          1180,
          1200,
          1220,
          1240,
          1260,
          1280,
          1281
         ],
         "y": [
          0.5358298084100522,
          0.9022144812142324,
          0.9086837521771585,
          0.9086837521771585,
          0.9175167952226922,
          0.9309529733764618,
          0.9399104254789749,
          0.9460064692709629,
          0.9503607862652401,
          0.9503607862652401,
          0.9559591938293108,
          0.9590694202537945,
          0.9609355561084847,
          0.9629261010201543,
          0.9640457825329684,
          0.9640457825329684,
          0.9649166459318238,
          0.9656631002737,
          0.9651654640457825,
          0.966036327444638,
          0.9662851455585967,
          0.9665339636725554,
          0.9669071908434934,
          0.9677780542423489,
          0.9684000995272456,
          0.9685245085842249,
          0.9691465538691216,
          0.9695197810400598,
          0.9695197810400598,
          0.9695197810400598,
          0.9702662353819358,
          0.9701418263249565,
          0.9703906444389152,
          0.9708882806668325,
          0.9707638716098532,
          0.9712615078377705,
          0.9711370987807912,
          0.9712615078377705,
          0.97138591689475,
          0.971759144065688,
          0.971759144065688,
          0.971759144065688,
          0.972132371236626,
          0.9722567802936054,
          0.9726300074645434,
          0.9728788255785021,
          0.9727544165215227,
          0.9727544165215227,
          0.9731276436924609,
          0.9730032346354814,
          0.9730032346354814,
          0.9731276436924609,
          0.9732520527494402,
          0.9735008708633989,
          0.9736252799203782,
          0.9737496889773576,
          0.9739985070913163,
          0.9737496889773576,
          0.9739985070913163,
          0.9742473252052749,
          0.9743717342622543,
          0.9742473252052749,
          0.9742473252052749,
          0.9742473252052749,
          0.9743717342622543,
          0.9744961433192336,
          0.9744961433192336
         ]
        },
        {
         "mode": "lines+markers",
         "name": "recall",
         "type": "scatter",
         "x": [
          0,
          50,
          51,
          100,
          120,
          140,
          160,
          180,
          181,
          200,
          220,
          240,
          260,
          280,
          281,
          300,
          320,
          340,
          360,
          380,
          400,
          420,
          440,
          460,
          480,
          500,
          520,
          540,
          560,
          580,
          600,
          620,
          640,
          660,
          680,
          700,
          720,
          740,
          760,
          780,
          781,
          800,
          820,
          840,
          860,
          880,
          900,
          920,
          940,
          960,
          980,
          1000,
          1020,
          1040,
          1060,
          1080,
          1100,
          1120,
          1140,
          1160,
          1180,
          1200,
          1220,
          1240,
          1260,
          1280,
          1281
         ],
         "y": [
          0.9966430436404327,
          0.8877284595300261,
          0.8925773964938456,
          0.8925773964938456,
          0.907497202536367,
          0.9343528534129056,
          0.9462886982469227,
          0.9522566206639314,
          0.9567325624766878,
          0.9567325624766878,
          0.9634464751958225,
          0.9664304364043268,
          0.9679224170085788,
          0.9701603879149571,
          0.9709063782170831,
          0.9709063782170831,
          0.9716523685192092,
          0.9716523685192092,
          0.9709063782170831,
          0.9716523685192092,
          0.9720253636702723,
          0.9723983588213353,
          0.9720253636702723,
          0.9742633345766505,
          0.9746363297277135,
          0.9742633345766505,
          0.9746363297277135,
          0.9746363297277135,
          0.9746363297277135,
          0.9746363297277135,
          0.9761283103319657,
          0.9757553151809026,
          0.9761283103319657,
          0.9761283103319657,
          0.9757553151809026,
          0.9761283103319657,
          0.9761283103319657,
          0.9761283103319657,
          0.9761283103319657,
          0.9768743006340918,
          0.9768743006340918,
          0.9768743006340918,
          0.9776202909362178,
          0.9779932860872809,
          0.9779932860872809,
          0.9783662812383439,
          0.9783662812383439,
          0.9783662812383439,
          0.9783662812383439,
          0.9779932860872809,
          0.9779932860872809,
          0.9779932860872809,
          0.9779932860872809,
          0.9779932860872809,
          0.9779932860872809,
          0.9779932860872809,
          0.9779932860872809,
          0.9776202909362178,
          0.9776202909362178,
          0.9776202909362178,
          0.9779932860872809,
          0.9776202909362178,
          0.9776202909362178,
          0.9776202909362178,
          0.9779932860872809,
          0.9779932860872809,
          0.9779932860872809
         ]
        },
        {
         "mode": "lines+markers",
         "name": "precision",
         "type": "scatter",
         "x": [
          0,
          50,
          51,
          100,
          120,
          140,
          160,
          180,
          181,
          200,
          220,
          240,
          260,
          280,
          281,
          300,
          320,
          340,
          360,
          380,
          400,
          420,
          440,
          460,
          480,
          500,
          520,
          540,
          560,
          580,
          600,
          620,
          640,
          660,
          680,
          700,
          720,
          740,
          760,
          780,
          781,
          800,
          820,
          840,
          860,
          880,
          900,
          920,
          940,
          960,
          980,
          1000,
          1020,
          1040,
          1060,
          1080,
          1100,
          1120,
          1140,
          1160,
          1180,
          1200,
          1220,
          1240,
          1260,
          1280,
          1281
         ],
         "y": [
          0.4178917735376916,
          0.8307155322862129,
          0.8429024304332512,
          0.8429024304332512,
          0.8542837078651685,
          0.8685852981969486,
          0.8821279554937413,
          0.8929695697796433,
          0.9006320224719101,
          0.9006320224719101,
          0.9098274040154984,
          0.9155477031802121,
          0.9192348565356004,
          0.9226676126285916,
          0.9250177683013504,
          0.9250177683013504,
          0.9267164710067591,
          0.928698752228164,
          0.9279857397504456,
          0.9296930763740185,
          0.9300499643112062,
          0.930406852248394,
          0.931712549159814,
          0.9321912919343326,
          0.9335476956055734,
          0.9341917024320457,
          0.9355531686358755,
          0.9365591397849462,
          0.9365591397849462,
          0.9365591397849462,
          0.9373209169054442,
          0.9372984593335721,
          0.937656753851666,
          0.9390025116612846,
          0.9389806173725772,
          0.9400143678160919,
          0.9396768402154398,
          0.9400143678160919,
          0.9403521379805965,
          0.9407327586206896,
          0.9407327586206896,
          0.9407327586206896,
          0.9411131059245961,
          0.9411342426417804,
          0.9421487603305785,
          0.9425080848005749,
          0.9421695402298851,
          0.9421695402298851,
          0.9431859043509528,
          0.9431654676258993,
          0.9431654676258993,
          0.9435048578625405,
          0.9438444924406048,
          0.9445244956772334,
          0.9448648648648649,
          0.9452054794520548,
          0.9458874458874459,
          0.9455266955266955,
          0.9462093862815885,
          0.946893063583815,
          0.9469122426868906,
          0.946893063583815,
          0.946893063583815,
          0.946893063583815,
          0.9469122426868906,
          0.9472543352601156,
          0.9472543352601156
         ]
        }
       ],
       "layout": {
        "template": {
         "data": {
          "bar": [
           {
            "error_x": {
             "color": "#2a3f5f"
            },
            "error_y": {
             "color": "#2a3f5f"
            },
            "marker": {
             "line": {
              "color": "#E5ECF6",
              "width": 0.5
             }
            },
            "type": "bar"
           }
          ],
          "barpolar": [
           {
            "marker": {
             "line": {
              "color": "#E5ECF6",
              "width": 0.5
             }
            },
            "type": "barpolar"
           }
          ],
          "carpet": [
           {
            "aaxis": {
             "endlinecolor": "#2a3f5f",
             "gridcolor": "white",
             "linecolor": "white",
             "minorgridcolor": "white",
             "startlinecolor": "#2a3f5f"
            },
            "baxis": {
             "endlinecolor": "#2a3f5f",
             "gridcolor": "white",
             "linecolor": "white",
             "minorgridcolor": "white",
             "startlinecolor": "#2a3f5f"
            },
            "type": "carpet"
           }
          ],
          "choropleth": [
           {
            "colorbar": {
             "outlinewidth": 0,
             "ticks": ""
            },
            "type": "choropleth"
           }
          ],
          "contour": [
           {
            "colorbar": {
             "outlinewidth": 0,
             "ticks": ""
            },
            "colorscale": [
             [
              0,
              "#0d0887"
             ],
             [
              0.1111111111111111,
              "#46039f"
             ],
             [
              0.2222222222222222,
              "#7201a8"
             ],
             [
              0.3333333333333333,
              "#9c179e"
             ],
             [
              0.4444444444444444,
              "#bd3786"
             ],
             [
              0.5555555555555556,
              "#d8576b"
             ],
             [
              0.6666666666666666,
              "#ed7953"
             ],
             [
              0.7777777777777778,
              "#fb9f3a"
             ],
             [
              0.8888888888888888,
              "#fdca26"
             ],
             [
              1,
              "#f0f921"
             ]
            ],
            "type": "contour"
           }
          ],
          "contourcarpet": [
           {
            "colorbar": {
             "outlinewidth": 0,
             "ticks": ""
            },
            "type": "contourcarpet"
           }
          ],
          "heatmap": [
           {
            "colorbar": {
             "outlinewidth": 0,
             "ticks": ""
            },
            "colorscale": [
             [
              0,
              "#0d0887"
             ],
             [
              0.1111111111111111,
              "#46039f"
             ],
             [
              0.2222222222222222,
              "#7201a8"
             ],
             [
              0.3333333333333333,
              "#9c179e"
             ],
             [
              0.4444444444444444,
              "#bd3786"
             ],
             [
              0.5555555555555556,
              "#d8576b"
             ],
             [
              0.6666666666666666,
              "#ed7953"
             ],
             [
              0.7777777777777778,
              "#fb9f3a"
             ],
             [
              0.8888888888888888,
              "#fdca26"
             ],
             [
              1,
              "#f0f921"
             ]
            ],
            "type": "heatmap"
           }
          ],
          "heatmapgl": [
           {
            "colorbar": {
             "outlinewidth": 0,
             "ticks": ""
            },
            "colorscale": [
             [
              0,
              "#0d0887"
             ],
             [
              0.1111111111111111,
              "#46039f"
             ],
             [
              0.2222222222222222,
              "#7201a8"
             ],
             [
              0.3333333333333333,
              "#9c179e"
             ],
             [
              0.4444444444444444,
              "#bd3786"
             ],
             [
              0.5555555555555556,
              "#d8576b"
             ],
             [
              0.6666666666666666,
              "#ed7953"
             ],
             [
              0.7777777777777778,
              "#fb9f3a"
             ],
             [
              0.8888888888888888,
              "#fdca26"
             ],
             [
              1,
              "#f0f921"
             ]
            ],
            "type": "heatmapgl"
           }
          ],
          "histogram": [
           {
            "marker": {
             "colorbar": {
              "outlinewidth": 0,
              "ticks": ""
             }
            },
            "type": "histogram"
           }
          ],
          "histogram2d": [
           {
            "colorbar": {
             "outlinewidth": 0,
             "ticks": ""
            },
            "colorscale": [
             [
              0,
              "#0d0887"
             ],
             [
              0.1111111111111111,
              "#46039f"
             ],
             [
              0.2222222222222222,
              "#7201a8"
             ],
             [
              0.3333333333333333,
              "#9c179e"
             ],
             [
              0.4444444444444444,
              "#bd3786"
             ],
             [
              0.5555555555555556,
              "#d8576b"
             ],
             [
              0.6666666666666666,
              "#ed7953"
             ],
             [
              0.7777777777777778,
              "#fb9f3a"
             ],
             [
              0.8888888888888888,
              "#fdca26"
             ],
             [
              1,
              "#f0f921"
             ]
            ],
            "type": "histogram2d"
           }
          ],
          "histogram2dcontour": [
           {
            "colorbar": {
             "outlinewidth": 0,
             "ticks": ""
            },
            "colorscale": [
             [
              0,
              "#0d0887"
             ],
             [
              0.1111111111111111,
              "#46039f"
             ],
             [
              0.2222222222222222,
              "#7201a8"
             ],
             [
              0.3333333333333333,
              "#9c179e"
             ],
             [
              0.4444444444444444,
              "#bd3786"
             ],
             [
              0.5555555555555556,
              "#d8576b"
             ],
             [
              0.6666666666666666,
              "#ed7953"
             ],
             [
              0.7777777777777778,
              "#fb9f3a"
             ],
             [
              0.8888888888888888,
              "#fdca26"
             ],
             [
              1,
              "#f0f921"
             ]
            ],
            "type": "histogram2dcontour"
           }
          ],
          "mesh3d": [
           {
            "colorbar": {
             "outlinewidth": 0,
             "ticks": ""
            },
            "type": "mesh3d"
           }
          ],
          "parcoords": [
           {
            "line": {
             "colorbar": {
              "outlinewidth": 0,
              "ticks": ""
             }
            },
            "type": "parcoords"
           }
          ],
          "scatter": [
           {
            "marker": {
             "colorbar": {
              "outlinewidth": 0,
              "ticks": ""
             }
            },
            "type": "scatter"
           }
          ],
          "scatter3d": [
           {
            "line": {
             "colorbar": {
              "outlinewidth": 0,
              "ticks": ""
             }
            },
            "marker": {
             "colorbar": {
              "outlinewidth": 0,
              "ticks": ""
             }
            },
            "type": "scatter3d"
           }
          ],
          "scattercarpet": [
           {
            "marker": {
             "colorbar": {
              "outlinewidth": 0,
              "ticks": ""
             }
            },
            "type": "scattercarpet"
           }
          ],
          "scattergeo": [
           {
            "marker": {
             "colorbar": {
              "outlinewidth": 0,
              "ticks": ""
             }
            },
            "type": "scattergeo"
           }
          ],
          "scattergl": [
           {
            "marker": {
             "colorbar": {
              "outlinewidth": 0,
              "ticks": ""
             }
            },
            "type": "scattergl"
           }
          ],
          "scattermapbox": [
           {
            "marker": {
             "colorbar": {
              "outlinewidth": 0,
              "ticks": ""
             }
            },
            "type": "scattermapbox"
           }
          ],
          "scatterpolar": [
           {
            "marker": {
             "colorbar": {
              "outlinewidth": 0,
              "ticks": ""
             }
            },
            "type": "scatterpolar"
           }
          ],
          "scatterpolargl": [
           {
            "marker": {
             "colorbar": {
              "outlinewidth": 0,
              "ticks": ""
             }
            },
            "type": "scatterpolargl"
           }
          ],
          "scatterternary": [
           {
            "marker": {
             "colorbar": {
              "outlinewidth": 0,
              "ticks": ""
             }
            },
            "type": "scatterternary"
           }
          ],
          "surface": [
           {
            "colorbar": {
             "outlinewidth": 0,
             "ticks": ""
            },
            "colorscale": [
             [
              0,
              "#0d0887"
             ],
             [
              0.1111111111111111,
              "#46039f"
             ],
             [
              0.2222222222222222,
              "#7201a8"
             ],
             [
              0.3333333333333333,
              "#9c179e"
             ],
             [
              0.4444444444444444,
              "#bd3786"
             ],
             [
              0.5555555555555556,
              "#d8576b"
             ],
             [
              0.6666666666666666,
              "#ed7953"
             ],
             [
              0.7777777777777778,
              "#fb9f3a"
             ],
             [
              0.8888888888888888,
              "#fdca26"
             ],
             [
              1,
              "#f0f921"
             ]
            ],
            "type": "surface"
           }
          ],
          "table": [
           {
            "cells": {
             "fill": {
              "color": "#EBF0F8"
             },
             "line": {
              "color": "white"
             }
            },
            "header": {
             "fill": {
              "color": "#C8D4E3"
             },
             "line": {
              "color": "white"
             }
            },
            "type": "table"
           }
          ]
         },
         "layout": {
          "annotationdefaults": {
           "arrowcolor": "#2a3f5f",
           "arrowhead": 0,
           "arrowwidth": 1
          },
          "colorscale": {
           "diverging": [
            [
             0,
             "#8e0152"
            ],
            [
             0.1,
             "#c51b7d"
            ],
            [
             0.2,
             "#de77ae"
            ],
            [
             0.3,
             "#f1b6da"
            ],
            [
             0.4,
             "#fde0ef"
            ],
            [
             0.5,
             "#f7f7f7"
            ],
            [
             0.6,
             "#e6f5d0"
            ],
            [
             0.7,
             "#b8e186"
            ],
            [
             0.8,
             "#7fbc41"
            ],
            [
             0.9,
             "#4d9221"
            ],
            [
             1,
             "#276419"
            ]
           ],
           "sequential": [
            [
             0,
             "#0d0887"
            ],
            [
             0.1111111111111111,
             "#46039f"
            ],
            [
             0.2222222222222222,
             "#7201a8"
            ],
            [
             0.3333333333333333,
             "#9c179e"
            ],
            [
             0.4444444444444444,
             "#bd3786"
            ],
            [
             0.5555555555555556,
             "#d8576b"
            ],
            [
             0.6666666666666666,
             "#ed7953"
            ],
            [
             0.7777777777777778,
             "#fb9f3a"
            ],
            [
             0.8888888888888888,
             "#fdca26"
            ],
            [
             1,
             "#f0f921"
            ]
           ],
           "sequentialminus": [
            [
             0,
             "#0d0887"
            ],
            [
             0.1111111111111111,
             "#46039f"
            ],
            [
             0.2222222222222222,
             "#7201a8"
            ],
            [
             0.3333333333333333,
             "#9c179e"
            ],
            [
             0.4444444444444444,
             "#bd3786"
            ],
            [
             0.5555555555555556,
             "#d8576b"
            ],
            [
             0.6666666666666666,
             "#ed7953"
            ],
            [
             0.7777777777777778,
             "#fb9f3a"
            ],
            [
             0.8888888888888888,
             "#fdca26"
            ],
            [
             1,
             "#f0f921"
            ]
           ]
          },
          "colorway": [
           "#636efa",
           "#EF553B",
           "#00cc96",
           "#ab63fa",
           "#FFA15A",
           "#19d3f3",
           "#FF6692",
           "#B6E880",
           "#FF97FF",
           "#FECB52"
          ],
          "font": {
           "color": "#2a3f5f"
          },
          "geo": {
           "bgcolor": "white",
           "lakecolor": "white",
           "landcolor": "#E5ECF6",
           "showlakes": true,
           "showland": true,
           "subunitcolor": "white"
          },
          "hoverlabel": {
           "align": "left"
          },
          "hovermode": "closest",
          "mapbox": {
           "style": "light"
          },
          "paper_bgcolor": "white",
          "plot_bgcolor": "#E5ECF6",
          "polar": {
           "angularaxis": {
            "gridcolor": "white",
            "linecolor": "white",
            "ticks": ""
           },
           "bgcolor": "#E5ECF6",
           "radialaxis": {
            "gridcolor": "white",
            "linecolor": "white",
            "ticks": ""
           }
          },
          "scene": {
           "xaxis": {
            "backgroundcolor": "#E5ECF6",
            "gridcolor": "white",
            "gridwidth": 2,
            "linecolor": "white",
            "showbackground": true,
            "ticks": "",
            "zerolinecolor": "white"
           },
           "yaxis": {
            "backgroundcolor": "#E5ECF6",
            "gridcolor": "white",
            "gridwidth": 2,
            "linecolor": "white",
            "showbackground": true,
            "ticks": "",
            "zerolinecolor": "white"
           },
           "zaxis": {
            "backgroundcolor": "#E5ECF6",
            "gridcolor": "white",
            "gridwidth": 2,
            "linecolor": "white",
            "showbackground": true,
            "ticks": "",
            "zerolinecolor": "white"
           }
          },
          "shapedefaults": {
           "line": {
            "color": "#2a3f5f"
           }
          },
          "ternary": {
           "aaxis": {
            "gridcolor": "white",
            "linecolor": "white",
            "ticks": ""
           },
           "baxis": {
            "gridcolor": "white",
            "linecolor": "white",
            "ticks": ""
           },
           "bgcolor": "#E5ECF6",
           "caxis": {
            "gridcolor": "white",
            "linecolor": "white",
            "ticks": ""
           }
          },
          "title": {
           "x": 0.05
          },
          "xaxis": {
           "automargin": true,
           "gridcolor": "white",
           "linecolor": "white",
           "ticks": "",
           "zerolinecolor": "white",
           "zerolinewidth": 2
          },
          "yaxis": {
           "automargin": true,
           "gridcolor": "white",
           "linecolor": "white",
           "ticks": "",
           "zerolinecolor": "white",
           "zerolinewidth": 2
          }
         }
        }
       }
      },
      "text/html": [
       "<div>\n",
       "        \n",
       "        \n",
       "            <div id=\"ec546079-9fea-491b-a28d-44cbc1c14749\" class=\"plotly-graph-div\" style=\"height:525px; width:100%;\"></div>\n",
       "            <script type=\"text/javascript\">\n",
       "                require([\"plotly\"], function(Plotly) {\n",
       "                    window.PLOTLYENV=window.PLOTLYENV || {};\n",
       "                    \n",
       "                if (document.getElementById(\"ec546079-9fea-491b-a28d-44cbc1c14749\")) {\n",
       "                    Plotly.newPlot(\n",
       "                        'ec546079-9fea-491b-a28d-44cbc1c14749',\n",
       "                        [{\"mode\": \"lines+markers\", \"name\": \"acc\", \"type\": \"scatter\", \"x\": [0, 50, 51, 100, 120, 140, 160, 180, 181, 200, 220, 240, 260, 280, 281, 300, 320, 340, 360, 380, 400, 420, 440, 460, 480, 500, 520, 540, 560, 580, 600, 620, 640, 660, 680, 700, 720, 740, 760, 780, 781, 800, 820, 840, 860, 880, 900, 920, 940, 960, 980, 1000, 1020, 1040, 1060, 1080, 1100, 1120, 1140, 1160, 1180, 1200, 1220, 1240, 1260, 1280, 1281], \"y\": [0.5358298084100522, 0.9022144812142324, 0.9086837521771585, 0.9086837521771585, 0.9175167952226922, 0.9309529733764618, 0.9399104254789749, 0.9460064692709629, 0.9503607862652401, 0.9503607862652401, 0.9559591938293108, 0.9590694202537945, 0.9609355561084847, 0.9629261010201543, 0.9640457825329684, 0.9640457825329684, 0.9649166459318238, 0.9656631002737, 0.9651654640457825, 0.966036327444638, 0.9662851455585967, 0.9665339636725554, 0.9669071908434934, 0.9677780542423489, 0.9684000995272456, 0.9685245085842249, 0.9691465538691216, 0.9695197810400598, 0.9695197810400598, 0.9695197810400598, 0.9702662353819358, 0.9701418263249565, 0.9703906444389152, 0.9708882806668325, 0.9707638716098532, 0.9712615078377705, 0.9711370987807912, 0.9712615078377705, 0.97138591689475, 0.971759144065688, 0.971759144065688, 0.971759144065688, 0.972132371236626, 0.9722567802936054, 0.9726300074645434, 0.9728788255785021, 0.9727544165215227, 0.9727544165215227, 0.9731276436924609, 0.9730032346354814, 0.9730032346354814, 0.9731276436924609, 0.9732520527494402, 0.9735008708633989, 0.9736252799203782, 0.9737496889773576, 0.9739985070913163, 0.9737496889773576, 0.9739985070913163, 0.9742473252052749, 0.9743717342622543, 0.9742473252052749, 0.9742473252052749, 0.9742473252052749, 0.9743717342622543, 0.9744961433192336, 0.9744961433192336]}, {\"mode\": \"lines+markers\", \"name\": \"recall\", \"type\": \"scatter\", \"x\": [0, 50, 51, 100, 120, 140, 160, 180, 181, 200, 220, 240, 260, 280, 281, 300, 320, 340, 360, 380, 400, 420, 440, 460, 480, 500, 520, 540, 560, 580, 600, 620, 640, 660, 680, 700, 720, 740, 760, 780, 781, 800, 820, 840, 860, 880, 900, 920, 940, 960, 980, 1000, 1020, 1040, 1060, 1080, 1100, 1120, 1140, 1160, 1180, 1200, 1220, 1240, 1260, 1280, 1281], \"y\": [0.9966430436404327, 0.8877284595300261, 0.8925773964938456, 0.8925773964938456, 0.907497202536367, 0.9343528534129056, 0.9462886982469227, 0.9522566206639314, 0.9567325624766878, 0.9567325624766878, 0.9634464751958225, 0.9664304364043268, 0.9679224170085788, 0.9701603879149571, 0.9709063782170831, 0.9709063782170831, 0.9716523685192092, 0.9716523685192092, 0.9709063782170831, 0.9716523685192092, 0.9720253636702723, 0.9723983588213353, 0.9720253636702723, 0.9742633345766505, 0.9746363297277135, 0.9742633345766505, 0.9746363297277135, 0.9746363297277135, 0.9746363297277135, 0.9746363297277135, 0.9761283103319657, 0.9757553151809026, 0.9761283103319657, 0.9761283103319657, 0.9757553151809026, 0.9761283103319657, 0.9761283103319657, 0.9761283103319657, 0.9761283103319657, 0.9768743006340918, 0.9768743006340918, 0.9768743006340918, 0.9776202909362178, 0.9779932860872809, 0.9779932860872809, 0.9783662812383439, 0.9783662812383439, 0.9783662812383439, 0.9783662812383439, 0.9779932860872809, 0.9779932860872809, 0.9779932860872809, 0.9779932860872809, 0.9779932860872809, 0.9779932860872809, 0.9779932860872809, 0.9779932860872809, 0.9776202909362178, 0.9776202909362178, 0.9776202909362178, 0.9779932860872809, 0.9776202909362178, 0.9776202909362178, 0.9776202909362178, 0.9779932860872809, 0.9779932860872809, 0.9779932860872809]}, {\"mode\": \"lines+markers\", \"name\": \"precision\", \"type\": \"scatter\", \"x\": [0, 50, 51, 100, 120, 140, 160, 180, 181, 200, 220, 240, 260, 280, 281, 300, 320, 340, 360, 380, 400, 420, 440, 460, 480, 500, 520, 540, 560, 580, 600, 620, 640, 660, 680, 700, 720, 740, 760, 780, 781, 800, 820, 840, 860, 880, 900, 920, 940, 960, 980, 1000, 1020, 1040, 1060, 1080, 1100, 1120, 1140, 1160, 1180, 1200, 1220, 1240, 1260, 1280, 1281], \"y\": [0.4178917735376916, 0.8307155322862129, 0.8429024304332512, 0.8429024304332512, 0.8542837078651685, 0.8685852981969486, 0.8821279554937413, 0.8929695697796433, 0.9006320224719101, 0.9006320224719101, 0.9098274040154984, 0.9155477031802121, 0.9192348565356004, 0.9226676126285916, 0.9250177683013504, 0.9250177683013504, 0.9267164710067591, 0.928698752228164, 0.9279857397504456, 0.9296930763740185, 0.9300499643112062, 0.930406852248394, 0.931712549159814, 0.9321912919343326, 0.9335476956055734, 0.9341917024320457, 0.9355531686358755, 0.9365591397849462, 0.9365591397849462, 0.9365591397849462, 0.9373209169054442, 0.9372984593335721, 0.937656753851666, 0.9390025116612846, 0.9389806173725772, 0.9400143678160919, 0.9396768402154398, 0.9400143678160919, 0.9403521379805965, 0.9407327586206896, 0.9407327586206896, 0.9407327586206896, 0.9411131059245961, 0.9411342426417804, 0.9421487603305785, 0.9425080848005749, 0.9421695402298851, 0.9421695402298851, 0.9431859043509528, 0.9431654676258993, 0.9431654676258993, 0.9435048578625405, 0.9438444924406048, 0.9445244956772334, 0.9448648648648649, 0.9452054794520548, 0.9458874458874459, 0.9455266955266955, 0.9462093862815885, 0.946893063583815, 0.9469122426868906, 0.946893063583815, 0.946893063583815, 0.946893063583815, 0.9469122426868906, 0.9472543352601156, 0.9472543352601156]}],\n",
       "                        {\"template\": {\"data\": {\"bar\": [{\"error_x\": {\"color\": \"#2a3f5f\"}, \"error_y\": {\"color\": \"#2a3f5f\"}, \"marker\": {\"line\": {\"color\": \"#E5ECF6\", \"width\": 0.5}}, \"type\": \"bar\"}], \"barpolar\": [{\"marker\": {\"line\": {\"color\": \"#E5ECF6\", \"width\": 0.5}}, \"type\": \"barpolar\"}], \"carpet\": [{\"aaxis\": {\"endlinecolor\": \"#2a3f5f\", \"gridcolor\": \"white\", \"linecolor\": \"white\", \"minorgridcolor\": \"white\", \"startlinecolor\": \"#2a3f5f\"}, \"baxis\": {\"endlinecolor\": \"#2a3f5f\", \"gridcolor\": \"white\", \"linecolor\": \"white\", \"minorgridcolor\": \"white\", \"startlinecolor\": \"#2a3f5f\"}, \"type\": \"carpet\"}], \"choropleth\": [{\"colorbar\": {\"outlinewidth\": 0, \"ticks\": \"\"}, \"type\": \"choropleth\"}], \"contour\": [{\"colorbar\": {\"outlinewidth\": 0, \"ticks\": \"\"}, \"colorscale\": [[0.0, \"#0d0887\"], [0.1111111111111111, \"#46039f\"], [0.2222222222222222, \"#7201a8\"], [0.3333333333333333, \"#9c179e\"], [0.4444444444444444, \"#bd3786\"], [0.5555555555555556, \"#d8576b\"], [0.6666666666666666, \"#ed7953\"], [0.7777777777777778, \"#fb9f3a\"], [0.8888888888888888, \"#fdca26\"], [1.0, \"#f0f921\"]], \"type\": \"contour\"}], \"contourcarpet\": [{\"colorbar\": {\"outlinewidth\": 0, \"ticks\": \"\"}, \"type\": \"contourcarpet\"}], \"heatmap\": [{\"colorbar\": {\"outlinewidth\": 0, \"ticks\": \"\"}, \"colorscale\": [[0.0, \"#0d0887\"], [0.1111111111111111, \"#46039f\"], [0.2222222222222222, \"#7201a8\"], [0.3333333333333333, \"#9c179e\"], [0.4444444444444444, \"#bd3786\"], [0.5555555555555556, \"#d8576b\"], [0.6666666666666666, \"#ed7953\"], [0.7777777777777778, \"#fb9f3a\"], [0.8888888888888888, \"#fdca26\"], [1.0, \"#f0f921\"]], \"type\": \"heatmap\"}], \"heatmapgl\": [{\"colorbar\": {\"outlinewidth\": 0, \"ticks\": \"\"}, \"colorscale\": [[0.0, \"#0d0887\"], [0.1111111111111111, \"#46039f\"], [0.2222222222222222, \"#7201a8\"], [0.3333333333333333, \"#9c179e\"], [0.4444444444444444, \"#bd3786\"], [0.5555555555555556, \"#d8576b\"], [0.6666666666666666, \"#ed7953\"], [0.7777777777777778, \"#fb9f3a\"], [0.8888888888888888, \"#fdca26\"], [1.0, \"#f0f921\"]], \"type\": \"heatmapgl\"}], \"histogram\": [{\"marker\": {\"colorbar\": {\"outlinewidth\": 0, \"ticks\": \"\"}}, \"type\": \"histogram\"}], \"histogram2d\": [{\"colorbar\": {\"outlinewidth\": 0, \"ticks\": \"\"}, \"colorscale\": [[0.0, \"#0d0887\"], [0.1111111111111111, \"#46039f\"], [0.2222222222222222, \"#7201a8\"], [0.3333333333333333, \"#9c179e\"], [0.4444444444444444, \"#bd3786\"], [0.5555555555555556, \"#d8576b\"], [0.6666666666666666, \"#ed7953\"], [0.7777777777777778, \"#fb9f3a\"], [0.8888888888888888, \"#fdca26\"], [1.0, \"#f0f921\"]], \"type\": \"histogram2d\"}], \"histogram2dcontour\": [{\"colorbar\": {\"outlinewidth\": 0, \"ticks\": \"\"}, \"colorscale\": [[0.0, \"#0d0887\"], [0.1111111111111111, \"#46039f\"], [0.2222222222222222, \"#7201a8\"], [0.3333333333333333, \"#9c179e\"], [0.4444444444444444, \"#bd3786\"], [0.5555555555555556, \"#d8576b\"], [0.6666666666666666, \"#ed7953\"], [0.7777777777777778, \"#fb9f3a\"], [0.8888888888888888, \"#fdca26\"], [1.0, \"#f0f921\"]], \"type\": \"histogram2dcontour\"}], \"mesh3d\": [{\"colorbar\": {\"outlinewidth\": 0, \"ticks\": \"\"}, \"type\": \"mesh3d\"}], \"parcoords\": [{\"line\": {\"colorbar\": {\"outlinewidth\": 0, \"ticks\": \"\"}}, \"type\": \"parcoords\"}], \"scatter\": [{\"marker\": {\"colorbar\": {\"outlinewidth\": 0, \"ticks\": \"\"}}, \"type\": \"scatter\"}], \"scatter3d\": [{\"line\": {\"colorbar\": {\"outlinewidth\": 0, \"ticks\": \"\"}}, \"marker\": {\"colorbar\": {\"outlinewidth\": 0, \"ticks\": \"\"}}, \"type\": \"scatter3d\"}], \"scattercarpet\": [{\"marker\": {\"colorbar\": {\"outlinewidth\": 0, \"ticks\": \"\"}}, \"type\": \"scattercarpet\"}], \"scattergeo\": [{\"marker\": {\"colorbar\": {\"outlinewidth\": 0, \"ticks\": \"\"}}, \"type\": \"scattergeo\"}], \"scattergl\": [{\"marker\": {\"colorbar\": {\"outlinewidth\": 0, \"ticks\": \"\"}}, \"type\": \"scattergl\"}], \"scattermapbox\": [{\"marker\": {\"colorbar\": {\"outlinewidth\": 0, \"ticks\": \"\"}}, \"type\": \"scattermapbox\"}], \"scatterpolar\": [{\"marker\": {\"colorbar\": {\"outlinewidth\": 0, \"ticks\": \"\"}}, \"type\": \"scatterpolar\"}], \"scatterpolargl\": [{\"marker\": {\"colorbar\": {\"outlinewidth\": 0, \"ticks\": \"\"}}, \"type\": \"scatterpolargl\"}], \"scatterternary\": [{\"marker\": {\"colorbar\": {\"outlinewidth\": 0, \"ticks\": \"\"}}, \"type\": \"scatterternary\"}], \"surface\": [{\"colorbar\": {\"outlinewidth\": 0, \"ticks\": \"\"}, \"colorscale\": [[0.0, \"#0d0887\"], [0.1111111111111111, \"#46039f\"], [0.2222222222222222, \"#7201a8\"], [0.3333333333333333, \"#9c179e\"], [0.4444444444444444, \"#bd3786\"], [0.5555555555555556, \"#d8576b\"], [0.6666666666666666, \"#ed7953\"], [0.7777777777777778, \"#fb9f3a\"], [0.8888888888888888, \"#fdca26\"], [1.0, \"#f0f921\"]], \"type\": \"surface\"}], \"table\": [{\"cells\": {\"fill\": {\"color\": \"#EBF0F8\"}, \"line\": {\"color\": \"white\"}}, \"header\": {\"fill\": {\"color\": \"#C8D4E3\"}, \"line\": {\"color\": \"white\"}}, \"type\": \"table\"}]}, \"layout\": {\"annotationdefaults\": {\"arrowcolor\": \"#2a3f5f\", \"arrowhead\": 0, \"arrowwidth\": 1}, \"colorscale\": {\"diverging\": [[0, \"#8e0152\"], [0.1, \"#c51b7d\"], [0.2, \"#de77ae\"], [0.3, \"#f1b6da\"], [0.4, \"#fde0ef\"], [0.5, \"#f7f7f7\"], [0.6, \"#e6f5d0\"], [0.7, \"#b8e186\"], [0.8, \"#7fbc41\"], [0.9, \"#4d9221\"], [1, \"#276419\"]], \"sequential\": [[0.0, \"#0d0887\"], [0.1111111111111111, \"#46039f\"], [0.2222222222222222, \"#7201a8\"], [0.3333333333333333, \"#9c179e\"], [0.4444444444444444, \"#bd3786\"], [0.5555555555555556, \"#d8576b\"], [0.6666666666666666, \"#ed7953\"], [0.7777777777777778, \"#fb9f3a\"], [0.8888888888888888, \"#fdca26\"], [1.0, \"#f0f921\"]], \"sequentialminus\": [[0.0, \"#0d0887\"], [0.1111111111111111, \"#46039f\"], [0.2222222222222222, \"#7201a8\"], [0.3333333333333333, \"#9c179e\"], [0.4444444444444444, \"#bd3786\"], [0.5555555555555556, \"#d8576b\"], [0.6666666666666666, \"#ed7953\"], [0.7777777777777778, \"#fb9f3a\"], [0.8888888888888888, \"#fdca26\"], [1.0, \"#f0f921\"]]}, \"colorway\": [\"#636efa\", \"#EF553B\", \"#00cc96\", \"#ab63fa\", \"#FFA15A\", \"#19d3f3\", \"#FF6692\", \"#B6E880\", \"#FF97FF\", \"#FECB52\"], \"font\": {\"color\": \"#2a3f5f\"}, \"geo\": {\"bgcolor\": \"white\", \"lakecolor\": \"white\", \"landcolor\": \"#E5ECF6\", \"showlakes\": true, \"showland\": true, \"subunitcolor\": \"white\"}, \"hoverlabel\": {\"align\": \"left\"}, \"hovermode\": \"closest\", \"mapbox\": {\"style\": \"light\"}, \"paper_bgcolor\": \"white\", \"plot_bgcolor\": \"#E5ECF6\", \"polar\": {\"angularaxis\": {\"gridcolor\": \"white\", \"linecolor\": \"white\", \"ticks\": \"\"}, \"bgcolor\": \"#E5ECF6\", \"radialaxis\": {\"gridcolor\": \"white\", \"linecolor\": \"white\", \"ticks\": \"\"}}, \"scene\": {\"xaxis\": {\"backgroundcolor\": \"#E5ECF6\", \"gridcolor\": \"white\", \"gridwidth\": 2, \"linecolor\": \"white\", \"showbackground\": true, \"ticks\": \"\", \"zerolinecolor\": \"white\"}, \"yaxis\": {\"backgroundcolor\": \"#E5ECF6\", \"gridcolor\": \"white\", \"gridwidth\": 2, \"linecolor\": \"white\", \"showbackground\": true, \"ticks\": \"\", \"zerolinecolor\": \"white\"}, \"zaxis\": {\"backgroundcolor\": \"#E5ECF6\", \"gridcolor\": \"white\", \"gridwidth\": 2, \"linecolor\": \"white\", \"showbackground\": true, \"ticks\": \"\", \"zerolinecolor\": \"white\"}}, \"shapedefaults\": {\"line\": {\"color\": \"#2a3f5f\"}}, \"ternary\": {\"aaxis\": {\"gridcolor\": \"white\", \"linecolor\": \"white\", \"ticks\": \"\"}, \"baxis\": {\"gridcolor\": \"white\", \"linecolor\": \"white\", \"ticks\": \"\"}, \"bgcolor\": \"#E5ECF6\", \"caxis\": {\"gridcolor\": \"white\", \"linecolor\": \"white\", \"ticks\": \"\"}}, \"title\": {\"x\": 0.05}, \"xaxis\": {\"automargin\": true, \"gridcolor\": \"white\", \"linecolor\": \"white\", \"ticks\": \"\", \"zerolinecolor\": \"white\", \"zerolinewidth\": 2}, \"yaxis\": {\"automargin\": true, \"gridcolor\": \"white\", \"linecolor\": \"white\", \"ticks\": \"\", \"zerolinecolor\": \"white\", \"zerolinewidth\": 2}}}},\n",
       "                        {\"responsive\": true}\n",
       "                    ).then(function(){\n",
       "                            \n",
       "var gd = document.getElementById('ec546079-9fea-491b-a28d-44cbc1c14749');\n",
       "var x = new MutationObserver(function (mutations, observer) {{\n",
       "        var display = window.getComputedStyle(gd).display;\n",
       "        if (!display || display === 'none') {{\n",
       "            console.log([gd, 'removed!']);\n",
       "            Plotly.purge(gd);\n",
       "            observer.disconnect();\n",
       "        }}\n",
       "}});\n",
       "\n",
       "// Listen for the removal of the full notebook cells\n",
       "var notebookContainer = gd.closest('#notebook-container');\n",
       "if (notebookContainer) {{\n",
       "    x.observe(notebookContainer, {childList: true});\n",
       "}}\n",
       "\n",
       "// Listen for the clearing of the current output cell\n",
       "var outputEl = gd.closest('.output');\n",
       "if (outputEl) {{\n",
       "    x.observe(outputEl, {childList: true});\n",
       "}}\n",
       "\n",
       "                        })\n",
       "                };\n",
       "                });\n",
       "            </script>\n",
       "        </div>"
      ]
     },
     "metadata": {},
     "output_type": "display_data"
    }
   ],
   "source": [
    "eta = 0.00001\n",
    "for i in range(500):\n",
    "    pred = sigmoid_arr(np.dot(X_train, weight))\n",
    "    intpred = [round(x) for x in pred]\n",
    "    ###\n",
    "    if run_index % 20 == 0:\n",
    "        ret = classifier_evaluate(y_train, intpred)\n",
    "        for k in ret:\n",
    "            ret_arr[k].append(ret[k])\n",
    "        run_times.append(run_index)\n",
    "        weight_arr.append(weight)\n",
    "    ###\n",
    "    error = pred - y_train\n",
    "    weight = weight - eta * np.dot(X_train.T, error) \n",
    "    ###\n",
    "    run_index += 1\n",
    "\n",
    "pred = sigmoid_arr(np.dot(X_train, weight))\n",
    "intpred = [round(x) for x in pred]\n",
    "###\n",
    "ret = classifier_evaluate(y_train, intpred)\n",
    "for k in ret:\n",
    "    ret_arr[k].append(ret[k])\n",
    "print(ret)\n",
    "run_times.append(run_times[-1]+1)\n",
    "weight_arr.append(weight)\n",
    "###\n",
    "w = np.array(weight_arr)\n",
    "###\n",
    "draw_lines(run_times, [ret_arr['accuracy'], ret_arr['recall'], ret_arr['precision']], ['acc', 'recall', 'precision'])"
   ]
  },
  {
   "cell_type": "code",
   "execution_count": 15,
   "metadata": {},
   "outputs": [
    {
     "data": {
      "text/plain": [
       "{'recall': 0.9678899082568807,\n",
       " 'precision': 0.9451287793952967,\n",
       " 'accuracy': 0.9712686567164179,\n",
       " 'tp': 844,\n",
       " 'fp': 49,\n",
       " 'tn': 1759,\n",
       " 'fn': 28}"
      ]
     },
     "execution_count": 15,
     "metadata": {},
     "output_type": "execute_result"
    }
   ],
   "source": [
    "## 测试集\n",
    "pred = sigmoid_arr(np.dot(X_test, weight))\n",
    "intpred = [round(x) for x in pred]\n",
    "###\n",
    "ret = classifier_evaluate(y_test, intpred)\n",
    "ret"
   ]
  },
  {
   "cell_type": "code",
   "execution_count": 16,
   "metadata": {},
   "outputs": [
    {
     "name": "stdout",
     "output_type": "stream",
     "text": [
      "auc0.9922563200251685\n"
     ]
    },
    {
     "data": {
      "application/vnd.plotly.v1+json": {
       "config": {
        "plotlyServerURL": "https://plot.ly"
       },
       "data": [
        {
         "mode": "lines+markers",
         "name": "tp",
         "type": "scatter",
         "x": [
          0,
          0,
          0,
          0,
          0,
          0,
          0,
          0,
          0,
          0,
          0,
          0,
          0,
          0,
          0,
          0,
          0,
          0,
          0,
          0,
          0,
          0,
          0,
          0,
          0,
          0,
          0,
          0,
          0,
          0,
          0,
          0,
          0,
          0,
          0,
          0,
          0,
          0,
          0,
          0,
          0,
          0,
          0,
          0,
          0,
          0,
          0,
          0,
          0,
          0,
          0,
          0,
          0,
          0,
          0,
          0,
          0,
          0,
          0.0005530973451327434,
          0.0005530973451327434,
          0.0005530973451327434,
          0.0005530973451327434,
          0.0005530973451327434,
          0.0005530973451327434,
          0.0005530973451327434,
          0.0005530973451327434,
          0.0005530973451327434,
          0.0005530973451327434,
          0.0005530973451327434,
          0.0005530973451327434,
          0.0005530973451327434,
          0.0005530973451327434,
          0.0011061946902654867,
          0.0011061946902654867,
          0.0011061946902654867,
          0.0011061946902654867,
          0.0011061946902654867,
          0.0011061946902654867,
          0.0011061946902654867,
          0.0011061946902654867,
          0.0011061946902654867,
          0.0011061946902654867,
          0.0011061946902654867,
          0.0011061946902654867,
          0.0011061946902654867,
          0.0011061946902654867,
          0.0011061946902654867,
          0.0011061946902654867,
          0.0011061946902654867,
          0.0011061946902654867,
          0.0011061946902654867,
          0.0011061946902654867,
          0.00165929203539823,
          0.00165929203539823,
          0.0022123893805309734,
          0.0022123893805309734,
          0.0027654867256637168,
          0.0027654867256637168,
          0.00331858407079646,
          0.00331858407079646,
          0.0038716814159292035,
          0.0038716814159292035,
          0.004424778761061947,
          0.004424778761061947,
          0.00497787610619469,
          0.00497787610619469,
          0.006084070796460177,
          0.006084070796460177,
          0.00663716814159292,
          0.00663716814159292,
          0.007190265486725664,
          0.007190265486725664,
          0.007743362831858407,
          0.007743362831858407,
          0.008296460176991151,
          0.008296460176991151,
          0.008849557522123894,
          0.008849557522123894,
          0.009402654867256638,
          0.009402654867256638,
          0.00995575221238938,
          0.00995575221238938,
          0.010508849557522125,
          0.010508849557522125,
          0.011061946902654867,
          0.011061946902654867,
          0.011615044247787611,
          0.011615044247787611,
          0.01327433628318584,
          0.01327433628318584,
          0.013827433628318585,
          0.013827433628318585,
          0.014933628318584071,
          0.014933628318584071,
          0.016039823008849558,
          0.016039823008849558,
          0.017146017699115043,
          0.017146017699115043,
          0.019358407079646017,
          0.019358407079646017,
          0.01991150442477876,
          0.01991150442477876,
          0.023783185840707963,
          0.023783185840707963,
          0.024889380530973452,
          0.024889380530973452,
          0.025442477876106196,
          0.025442477876106196,
          0.027101769911504425,
          0.027101769911504425,
          0.03152654867256637,
          0.03152654867256637,
          0.032079646017699116,
          0.032079646017699116,
          0.03705752212389381,
          0.03705752212389381,
          0.04092920353982301,
          0.04092920353982301,
          0.04424778761061947,
          0.04424778761061947,
          0.056969026548672565,
          0.056969026548672565,
          0.0625,
          0.0625,
          0.07190265486725664,
          0.07190265486725664,
          0.07245575221238938,
          0.07245575221238938,
          0.07411504424778761,
          0.07411504424778761,
          0.07798672566371681,
          0.07798672566371681,
          0.08462389380530974,
          0.08573008849557522,
          0.08573008849557522,
          0.09845132743362832,
          0.09845132743362832,
          0.10232300884955753,
          0.10232300884955753,
          0.11780973451327434,
          0.11780973451327434,
          0.16426991150442477,
          0.16426991150442477,
          0.17809734513274336,
          0.17809734513274336,
          0.25110619469026546,
          0.25110619469026546,
          0.3567477876106195,
          0.3567477876106195,
          0.3606194690265487,
          0.3606194690265487,
          0.4319690265486726,
          0.43307522123893805,
          0.6144911504424779,
          0.6144911504424779,
          0.7223451327433629,
          0.7223451327433629,
          0.9209070796460177,
          0.9209070796460177,
          1
         ],
         "y": [
          0,
          0.0011467889908256881,
          0.0194954128440367,
          0.021788990825688075,
          0.022935779816513763,
          0.026376146788990827,
          0.03555045871559633,
          0.04128440366972477,
          0.04357798165137615,
          0.04472477064220184,
          0.04931192660550459,
          0.05045871559633028,
          0.05389908256880734,
          0.05733944954128441,
          0.05963302752293578,
          0.06077981651376147,
          0.06307339449541284,
          0.06536697247706422,
          0.0676605504587156,
          0.09059633027522936,
          0.09174311926605505,
          0.09403669724770643,
          0.09977064220183486,
          0.10550458715596331,
          0.11697247706422019,
          0.11926605504587157,
          0.12270642201834862,
          0.125,
          0.13188073394495411,
          0.1353211009174312,
          0.13646788990825687,
          0.14105504587155962,
          0.14564220183486237,
          0.14793577981651376,
          0.1628440366972477,
          0.16857798165137614,
          0.1720183486238532,
          0.17775229357798164,
          0.1811926605504587,
          0.18922018348623854,
          0.1915137614678899,
          0.1938073394495413,
          0.19839449541284404,
          0.2190366972477064,
          0.22018348623853212,
          0.22247706422018348,
          0.22821100917431192,
          0.22935779816513763,
          0.23509174311926606,
          0.23738532110091742,
          0.2511467889908257,
          0.2545871559633027,
          0.2603211009174312,
          0.2626146788990826,
          0.26490825688073394,
          0.268348623853211,
          0.2694954128440367,
          0.2717889908256881,
          0.286697247706422,
          0.29243119266055045,
          0.2947247706422018,
          0.30045871559633025,
          0.30275229357798167,
          0.3084862385321101,
          0.3130733944954128,
          0.31536697247706424,
          0.31880733944954126,
          0.31995412844036697,
          0.32224770642201833,
          0.33142201834862384,
          0.33371559633027525,
          0.36123853211009177,
          0.36123853211009177,
          0.36353211009174313,
          0.3658256880733945,
          0.3669724770642202,
          0.39105504587155965,
          0.393348623853211,
          0.4243119266055046,
          0.42660550458715596,
          0.43004587155963303,
          0.43922018348623854,
          0.4426605504587156,
          0.44724770642201833,
          0.45871559633027525,
          0.4919724770642202,
          0.49426605504587157,
          0.5103211009174312,
          0.5126146788990825,
          0.5814220183486238,
          0.591743119266055,
          0.6628440366972477,
          0.6628440366972477,
          0.6674311926605505,
          0.6674311926605505,
          0.7041284403669725,
          0.7041284403669725,
          0.7121559633027523,
          0.7121559633027523,
          0.7637614678899083,
          0.7637614678899083,
          0.7844036697247706,
          0.7844036697247706,
          0.8211009174311926,
          0.8211009174311926,
          0.8337155963302753,
          0.8337155963302753,
          0.8440366972477065,
          0.8440366972477065,
          0.8738532110091743,
          0.8738532110091743,
          0.8967889908256881,
          0.8967889908256881,
          0.9094036697247706,
          0.9094036697247706,
          0.9197247706422018,
          0.9197247706422018,
          0.9208715596330275,
          0.9208715596330275,
          0.9231651376146789,
          0.9231651376146789,
          0.9461009174311926,
          0.9461009174311926,
          0.9472477064220184,
          0.9472477064220184,
          0.948394495412844,
          0.948394495412844,
          0.9495412844036697,
          0.9495412844036697,
          0.9506880733944955,
          0.9506880733944955,
          0.9529816513761468,
          0.9529816513761468,
          0.9541284403669725,
          0.9541284403669725,
          0.9564220183486238,
          0.9564220183486238,
          0.9610091743119266,
          0.9610091743119266,
          0.9621559633027523,
          0.9621559633027523,
          0.963302752293578,
          0.963302752293578,
          0.9644495412844036,
          0.9644495412844036,
          0.9655963302752294,
          0.9655963302752294,
          0.966743119266055,
          0.966743119266055,
          0.9690366972477065,
          0.9690366972477065,
          0.9713302752293578,
          0.9713302752293578,
          0.9724770642201835,
          0.9724770642201835,
          0.9736238532110092,
          0.9736238532110092,
          0.9759174311926605,
          0.9759174311926605,
          0.9770642201834863,
          0.9770642201834863,
          0.9782110091743119,
          0.9782110091743119,
          0.9805045871559633,
          0.9805045871559633,
          0.981651376146789,
          0.981651376146789,
          0.9827981651376146,
          0.9827981651376146,
          0.9839449541284404,
          0.9839449541284404,
          0.9850917431192661,
          0.9850917431192661,
          0.9862385321100917,
          0.9873853211009175,
          0.9873853211009175,
          0.9885321100917431,
          0.9885321100917431,
          0.9896788990825688,
          0.9896788990825688,
          0.9908256880733946,
          0.9908256880733946,
          0.9919724770642202,
          0.9919724770642202,
          0.9931192660550459,
          0.9931192660550459,
          0.9942660550458715,
          0.9942660550458715,
          0.9954128440366973,
          0.9954128440366973,
          0.9965596330275229,
          0.9965596330275229,
          0.9965596330275229,
          0.9965596330275229,
          0.9977064220183486,
          0.9977064220183486,
          0.9988532110091743,
          0.9988532110091743,
          1,
          1
         ]
        },
        {
         "mode": "lines+markers",
         "name": "fp",
         "type": "scatter",
         "x": [
          0,
          0,
          0,
          0,
          0,
          0,
          0,
          0,
          0,
          0,
          0,
          0,
          0,
          0,
          0,
          0,
          0,
          0,
          0,
          0,
          0,
          0,
          0,
          0,
          0,
          0,
          0,
          0,
          0,
          0,
          0,
          0,
          0,
          0,
          0,
          0,
          0,
          0,
          0,
          0,
          0,
          0,
          0,
          0,
          0,
          0,
          0,
          0,
          0,
          0,
          0,
          0,
          0,
          0,
          0,
          0,
          0,
          0,
          0.0005530973451327434,
          0.0005530973451327434,
          0.0005530973451327434,
          0.0005530973451327434,
          0.0005530973451327434,
          0.0005530973451327434,
          0.0005530973451327434,
          0.0005530973451327434,
          0.0005530973451327434,
          0.0005530973451327434,
          0.0005530973451327434,
          0.0005530973451327434,
          0.0005530973451327434,
          0.0005530973451327434,
          0.0011061946902654867,
          0.0011061946902654867,
          0.0011061946902654867,
          0.0011061946902654867,
          0.0011061946902654867,
          0.0011061946902654867,
          0.0011061946902654867,
          0.0011061946902654867,
          0.0011061946902654867,
          0.0011061946902654867,
          0.0011061946902654867,
          0.0011061946902654867,
          0.0011061946902654867,
          0.0011061946902654867,
          0.0011061946902654867,
          0.0011061946902654867,
          0.0011061946902654867,
          0.0011061946902654867,
          0.0011061946902654867,
          0.0011061946902654867,
          0.00165929203539823,
          0.00165929203539823,
          0.0022123893805309734,
          0.0022123893805309734,
          0.0027654867256637168,
          0.0027654867256637168,
          0.00331858407079646,
          0.00331858407079646,
          0.0038716814159292035,
          0.0038716814159292035,
          0.004424778761061947,
          0.004424778761061947,
          0.00497787610619469,
          0.00497787610619469,
          0.006084070796460177,
          0.006084070796460177,
          0.00663716814159292,
          0.00663716814159292,
          0.007190265486725664,
          0.007190265486725664,
          0.007743362831858407,
          0.007743362831858407,
          0.008296460176991151,
          0.008296460176991151,
          0.008849557522123894,
          0.008849557522123894,
          0.009402654867256638,
          0.009402654867256638,
          0.00995575221238938,
          0.00995575221238938,
          0.010508849557522125,
          0.010508849557522125,
          0.011061946902654867,
          0.011061946902654867,
          0.011615044247787611,
          0.011615044247787611,
          0.01327433628318584,
          0.01327433628318584,
          0.013827433628318585,
          0.013827433628318585,
          0.014933628318584071,
          0.014933628318584071,
          0.016039823008849558,
          0.016039823008849558,
          0.017146017699115043,
          0.017146017699115043,
          0.019358407079646017,
          0.019358407079646017,
          0.01991150442477876,
          0.01991150442477876,
          0.023783185840707963,
          0.023783185840707963,
          0.024889380530973452,
          0.024889380530973452,
          0.025442477876106196,
          0.025442477876106196,
          0.027101769911504425,
          0.027101769911504425,
          0.03152654867256637,
          0.03152654867256637,
          0.032079646017699116,
          0.032079646017699116,
          0.03705752212389381,
          0.03705752212389381,
          0.04092920353982301,
          0.04092920353982301,
          0.04424778761061947,
          0.04424778761061947,
          0.056969026548672565,
          0.056969026548672565,
          0.0625,
          0.0625,
          0.07190265486725664,
          0.07190265486725664,
          0.07245575221238938,
          0.07245575221238938,
          0.07411504424778761,
          0.07411504424778761,
          0.07798672566371681,
          0.07798672566371681,
          0.08462389380530974,
          0.08573008849557522,
          0.08573008849557522,
          0.09845132743362832,
          0.09845132743362832,
          0.10232300884955753,
          0.10232300884955753,
          0.11780973451327434,
          0.11780973451327434,
          0.16426991150442477,
          0.16426991150442477,
          0.17809734513274336,
          0.17809734513274336,
          0.25110619469026546,
          0.25110619469026546,
          0.3567477876106195,
          0.3567477876106195,
          0.3606194690265487,
          0.3606194690265487,
          0.4319690265486726,
          0.43307522123893805,
          0.6144911504424779,
          0.6144911504424779,
          0.7223451327433629,
          0.7223451327433629,
          0.9209070796460177,
          0.9209070796460177,
          1
         ],
         "y": [
          0,
          0,
          0,
          0,
          0,
          0,
          0,
          0,
          0,
          0,
          0,
          0,
          0,
          0,
          0,
          0,
          0,
          0,
          0,
          0,
          0,
          0,
          0,
          0,
          0,
          0,
          0,
          0,
          0,
          0,
          0,
          0,
          0,
          0,
          0,
          0,
          0,
          0,
          0,
          0,
          0,
          0,
          0,
          0,
          0,
          0,
          0,
          0,
          0,
          0,
          0,
          0,
          0,
          0,
          0,
          0,
          0,
          0,
          0.0005530973451327434,
          0.0005530973451327434,
          0.0005530973451327434,
          0.0005530973451327434,
          0.0005530973451327434,
          0.0005530973451327434,
          0.0005530973451327434,
          0.0005530973451327434,
          0.0005530973451327434,
          0.0005530973451327434,
          0.0005530973451327434,
          0.0005530973451327434,
          0.0005530973451327434,
          0.0005530973451327434,
          0.0011061946902654867,
          0.0011061946902654867,
          0.0011061946902654867,
          0.0011061946902654867,
          0.0011061946902654867,
          0.0011061946902654867,
          0.0011061946902654867,
          0.0011061946902654867,
          0.0011061946902654867,
          0.0011061946902654867,
          0.0011061946902654867,
          0.0011061946902654867,
          0.0011061946902654867,
          0.0011061946902654867,
          0.0011061946902654867,
          0.0011061946902654867,
          0.0011061946902654867,
          0.0011061946902654867,
          0.0011061946902654867,
          0.0011061946902654867,
          0.00165929203539823,
          0.00165929203539823,
          0.0022123893805309734,
          0.0022123893805309734,
          0.0027654867256637168,
          0.0027654867256637168,
          0.00331858407079646,
          0.00331858407079646,
          0.0038716814159292035,
          0.0038716814159292035,
          0.004424778761061947,
          0.004424778761061947,
          0.00497787610619469,
          0.00497787610619469,
          0.006084070796460177,
          0.006084070796460177,
          0.00663716814159292,
          0.00663716814159292,
          0.007190265486725664,
          0.007190265486725664,
          0.007743362831858407,
          0.007743362831858407,
          0.008296460176991151,
          0.008296460176991151,
          0.008849557522123894,
          0.008849557522123894,
          0.009402654867256638,
          0.009402654867256638,
          0.00995575221238938,
          0.00995575221238938,
          0.010508849557522125,
          0.010508849557522125,
          0.011061946902654867,
          0.011061946902654867,
          0.011615044247787611,
          0.011615044247787611,
          0.01327433628318584,
          0.01327433628318584,
          0.013827433628318585,
          0.013827433628318585,
          0.014933628318584071,
          0.014933628318584071,
          0.016039823008849558,
          0.016039823008849558,
          0.017146017699115043,
          0.017146017699115043,
          0.019358407079646017,
          0.019358407079646017,
          0.01991150442477876,
          0.01991150442477876,
          0.023783185840707963,
          0.023783185840707963,
          0.024889380530973452,
          0.024889380530973452,
          0.025442477876106196,
          0.025442477876106196,
          0.027101769911504425,
          0.027101769911504425,
          0.03152654867256637,
          0.03152654867256637,
          0.032079646017699116,
          0.032079646017699116,
          0.03705752212389381,
          0.03705752212389381,
          0.04092920353982301,
          0.04092920353982301,
          0.04424778761061947,
          0.04424778761061947,
          0.056969026548672565,
          0.056969026548672565,
          0.0625,
          0.0625,
          0.07190265486725664,
          0.07190265486725664,
          0.07245575221238938,
          0.07245575221238938,
          0.07411504424778761,
          0.07411504424778761,
          0.07798672566371681,
          0.07798672566371681,
          0.08462389380530974,
          0.08573008849557522,
          0.08573008849557522,
          0.09845132743362832,
          0.09845132743362832,
          0.10232300884955753,
          0.10232300884955753,
          0.11780973451327434,
          0.11780973451327434,
          0.16426991150442477,
          0.16426991150442477,
          0.17809734513274336,
          0.17809734513274336,
          0.25110619469026546,
          0.25110619469026546,
          0.3567477876106195,
          0.3567477876106195,
          0.3606194690265487,
          0.3606194690265487,
          0.4319690265486726,
          0.43307522123893805,
          0.6144911504424779,
          0.6144911504424779,
          0.7223451327433629,
          0.7223451327433629,
          0.9209070796460177,
          0.9209070796460177,
          1
         ]
        }
       ],
       "layout": {
        "template": {
         "data": {
          "bar": [
           {
            "error_x": {
             "color": "#2a3f5f"
            },
            "error_y": {
             "color": "#2a3f5f"
            },
            "marker": {
             "line": {
              "color": "#E5ECF6",
              "width": 0.5
             }
            },
            "type": "bar"
           }
          ],
          "barpolar": [
           {
            "marker": {
             "line": {
              "color": "#E5ECF6",
              "width": 0.5
             }
            },
            "type": "barpolar"
           }
          ],
          "carpet": [
           {
            "aaxis": {
             "endlinecolor": "#2a3f5f",
             "gridcolor": "white",
             "linecolor": "white",
             "minorgridcolor": "white",
             "startlinecolor": "#2a3f5f"
            },
            "baxis": {
             "endlinecolor": "#2a3f5f",
             "gridcolor": "white",
             "linecolor": "white",
             "minorgridcolor": "white",
             "startlinecolor": "#2a3f5f"
            },
            "type": "carpet"
           }
          ],
          "choropleth": [
           {
            "colorbar": {
             "outlinewidth": 0,
             "ticks": ""
            },
            "type": "choropleth"
           }
          ],
          "contour": [
           {
            "colorbar": {
             "outlinewidth": 0,
             "ticks": ""
            },
            "colorscale": [
             [
              0,
              "#0d0887"
             ],
             [
              0.1111111111111111,
              "#46039f"
             ],
             [
              0.2222222222222222,
              "#7201a8"
             ],
             [
              0.3333333333333333,
              "#9c179e"
             ],
             [
              0.4444444444444444,
              "#bd3786"
             ],
             [
              0.5555555555555556,
              "#d8576b"
             ],
             [
              0.6666666666666666,
              "#ed7953"
             ],
             [
              0.7777777777777778,
              "#fb9f3a"
             ],
             [
              0.8888888888888888,
              "#fdca26"
             ],
             [
              1,
              "#f0f921"
             ]
            ],
            "type": "contour"
           }
          ],
          "contourcarpet": [
           {
            "colorbar": {
             "outlinewidth": 0,
             "ticks": ""
            },
            "type": "contourcarpet"
           }
          ],
          "heatmap": [
           {
            "colorbar": {
             "outlinewidth": 0,
             "ticks": ""
            },
            "colorscale": [
             [
              0,
              "#0d0887"
             ],
             [
              0.1111111111111111,
              "#46039f"
             ],
             [
              0.2222222222222222,
              "#7201a8"
             ],
             [
              0.3333333333333333,
              "#9c179e"
             ],
             [
              0.4444444444444444,
              "#bd3786"
             ],
             [
              0.5555555555555556,
              "#d8576b"
             ],
             [
              0.6666666666666666,
              "#ed7953"
             ],
             [
              0.7777777777777778,
              "#fb9f3a"
             ],
             [
              0.8888888888888888,
              "#fdca26"
             ],
             [
              1,
              "#f0f921"
             ]
            ],
            "type": "heatmap"
           }
          ],
          "heatmapgl": [
           {
            "colorbar": {
             "outlinewidth": 0,
             "ticks": ""
            },
            "colorscale": [
             [
              0,
              "#0d0887"
             ],
             [
              0.1111111111111111,
              "#46039f"
             ],
             [
              0.2222222222222222,
              "#7201a8"
             ],
             [
              0.3333333333333333,
              "#9c179e"
             ],
             [
              0.4444444444444444,
              "#bd3786"
             ],
             [
              0.5555555555555556,
              "#d8576b"
             ],
             [
              0.6666666666666666,
              "#ed7953"
             ],
             [
              0.7777777777777778,
              "#fb9f3a"
             ],
             [
              0.8888888888888888,
              "#fdca26"
             ],
             [
              1,
              "#f0f921"
             ]
            ],
            "type": "heatmapgl"
           }
          ],
          "histogram": [
           {
            "marker": {
             "colorbar": {
              "outlinewidth": 0,
              "ticks": ""
             }
            },
            "type": "histogram"
           }
          ],
          "histogram2d": [
           {
            "colorbar": {
             "outlinewidth": 0,
             "ticks": ""
            },
            "colorscale": [
             [
              0,
              "#0d0887"
             ],
             [
              0.1111111111111111,
              "#46039f"
             ],
             [
              0.2222222222222222,
              "#7201a8"
             ],
             [
              0.3333333333333333,
              "#9c179e"
             ],
             [
              0.4444444444444444,
              "#bd3786"
             ],
             [
              0.5555555555555556,
              "#d8576b"
             ],
             [
              0.6666666666666666,
              "#ed7953"
             ],
             [
              0.7777777777777778,
              "#fb9f3a"
             ],
             [
              0.8888888888888888,
              "#fdca26"
             ],
             [
              1,
              "#f0f921"
             ]
            ],
            "type": "histogram2d"
           }
          ],
          "histogram2dcontour": [
           {
            "colorbar": {
             "outlinewidth": 0,
             "ticks": ""
            },
            "colorscale": [
             [
              0,
              "#0d0887"
             ],
             [
              0.1111111111111111,
              "#46039f"
             ],
             [
              0.2222222222222222,
              "#7201a8"
             ],
             [
              0.3333333333333333,
              "#9c179e"
             ],
             [
              0.4444444444444444,
              "#bd3786"
             ],
             [
              0.5555555555555556,
              "#d8576b"
             ],
             [
              0.6666666666666666,
              "#ed7953"
             ],
             [
              0.7777777777777778,
              "#fb9f3a"
             ],
             [
              0.8888888888888888,
              "#fdca26"
             ],
             [
              1,
              "#f0f921"
             ]
            ],
            "type": "histogram2dcontour"
           }
          ],
          "mesh3d": [
           {
            "colorbar": {
             "outlinewidth": 0,
             "ticks": ""
            },
            "type": "mesh3d"
           }
          ],
          "parcoords": [
           {
            "line": {
             "colorbar": {
              "outlinewidth": 0,
              "ticks": ""
             }
            },
            "type": "parcoords"
           }
          ],
          "scatter": [
           {
            "marker": {
             "colorbar": {
              "outlinewidth": 0,
              "ticks": ""
             }
            },
            "type": "scatter"
           }
          ],
          "scatter3d": [
           {
            "line": {
             "colorbar": {
              "outlinewidth": 0,
              "ticks": ""
             }
            },
            "marker": {
             "colorbar": {
              "outlinewidth": 0,
              "ticks": ""
             }
            },
            "type": "scatter3d"
           }
          ],
          "scattercarpet": [
           {
            "marker": {
             "colorbar": {
              "outlinewidth": 0,
              "ticks": ""
             }
            },
            "type": "scattercarpet"
           }
          ],
          "scattergeo": [
           {
            "marker": {
             "colorbar": {
              "outlinewidth": 0,
              "ticks": ""
             }
            },
            "type": "scattergeo"
           }
          ],
          "scattergl": [
           {
            "marker": {
             "colorbar": {
              "outlinewidth": 0,
              "ticks": ""
             }
            },
            "type": "scattergl"
           }
          ],
          "scattermapbox": [
           {
            "marker": {
             "colorbar": {
              "outlinewidth": 0,
              "ticks": ""
             }
            },
            "type": "scattermapbox"
           }
          ],
          "scatterpolar": [
           {
            "marker": {
             "colorbar": {
              "outlinewidth": 0,
              "ticks": ""
             }
            },
            "type": "scatterpolar"
           }
          ],
          "scatterpolargl": [
           {
            "marker": {
             "colorbar": {
              "outlinewidth": 0,
              "ticks": ""
             }
            },
            "type": "scatterpolargl"
           }
          ],
          "scatterternary": [
           {
            "marker": {
             "colorbar": {
              "outlinewidth": 0,
              "ticks": ""
             }
            },
            "type": "scatterternary"
           }
          ],
          "surface": [
           {
            "colorbar": {
             "outlinewidth": 0,
             "ticks": ""
            },
            "colorscale": [
             [
              0,
              "#0d0887"
             ],
             [
              0.1111111111111111,
              "#46039f"
             ],
             [
              0.2222222222222222,
              "#7201a8"
             ],
             [
              0.3333333333333333,
              "#9c179e"
             ],
             [
              0.4444444444444444,
              "#bd3786"
             ],
             [
              0.5555555555555556,
              "#d8576b"
             ],
             [
              0.6666666666666666,
              "#ed7953"
             ],
             [
              0.7777777777777778,
              "#fb9f3a"
             ],
             [
              0.8888888888888888,
              "#fdca26"
             ],
             [
              1,
              "#f0f921"
             ]
            ],
            "type": "surface"
           }
          ],
          "table": [
           {
            "cells": {
             "fill": {
              "color": "#EBF0F8"
             },
             "line": {
              "color": "white"
             }
            },
            "header": {
             "fill": {
              "color": "#C8D4E3"
             },
             "line": {
              "color": "white"
             }
            },
            "type": "table"
           }
          ]
         },
         "layout": {
          "annotationdefaults": {
           "arrowcolor": "#2a3f5f",
           "arrowhead": 0,
           "arrowwidth": 1
          },
          "colorscale": {
           "diverging": [
            [
             0,
             "#8e0152"
            ],
            [
             0.1,
             "#c51b7d"
            ],
            [
             0.2,
             "#de77ae"
            ],
            [
             0.3,
             "#f1b6da"
            ],
            [
             0.4,
             "#fde0ef"
            ],
            [
             0.5,
             "#f7f7f7"
            ],
            [
             0.6,
             "#e6f5d0"
            ],
            [
             0.7,
             "#b8e186"
            ],
            [
             0.8,
             "#7fbc41"
            ],
            [
             0.9,
             "#4d9221"
            ],
            [
             1,
             "#276419"
            ]
           ],
           "sequential": [
            [
             0,
             "#0d0887"
            ],
            [
             0.1111111111111111,
             "#46039f"
            ],
            [
             0.2222222222222222,
             "#7201a8"
            ],
            [
             0.3333333333333333,
             "#9c179e"
            ],
            [
             0.4444444444444444,
             "#bd3786"
            ],
            [
             0.5555555555555556,
             "#d8576b"
            ],
            [
             0.6666666666666666,
             "#ed7953"
            ],
            [
             0.7777777777777778,
             "#fb9f3a"
            ],
            [
             0.8888888888888888,
             "#fdca26"
            ],
            [
             1,
             "#f0f921"
            ]
           ],
           "sequentialminus": [
            [
             0,
             "#0d0887"
            ],
            [
             0.1111111111111111,
             "#46039f"
            ],
            [
             0.2222222222222222,
             "#7201a8"
            ],
            [
             0.3333333333333333,
             "#9c179e"
            ],
            [
             0.4444444444444444,
             "#bd3786"
            ],
            [
             0.5555555555555556,
             "#d8576b"
            ],
            [
             0.6666666666666666,
             "#ed7953"
            ],
            [
             0.7777777777777778,
             "#fb9f3a"
            ],
            [
             0.8888888888888888,
             "#fdca26"
            ],
            [
             1,
             "#f0f921"
            ]
           ]
          },
          "colorway": [
           "#636efa",
           "#EF553B",
           "#00cc96",
           "#ab63fa",
           "#FFA15A",
           "#19d3f3",
           "#FF6692",
           "#B6E880",
           "#FF97FF",
           "#FECB52"
          ],
          "font": {
           "color": "#2a3f5f"
          },
          "geo": {
           "bgcolor": "white",
           "lakecolor": "white",
           "landcolor": "#E5ECF6",
           "showlakes": true,
           "showland": true,
           "subunitcolor": "white"
          },
          "hoverlabel": {
           "align": "left"
          },
          "hovermode": "closest",
          "mapbox": {
           "style": "light"
          },
          "paper_bgcolor": "white",
          "plot_bgcolor": "#E5ECF6",
          "polar": {
           "angularaxis": {
            "gridcolor": "white",
            "linecolor": "white",
            "ticks": ""
           },
           "bgcolor": "#E5ECF6",
           "radialaxis": {
            "gridcolor": "white",
            "linecolor": "white",
            "ticks": ""
           }
          },
          "scene": {
           "xaxis": {
            "backgroundcolor": "#E5ECF6",
            "gridcolor": "white",
            "gridwidth": 2,
            "linecolor": "white",
            "showbackground": true,
            "ticks": "",
            "zerolinecolor": "white"
           },
           "yaxis": {
            "backgroundcolor": "#E5ECF6",
            "gridcolor": "white",
            "gridwidth": 2,
            "linecolor": "white",
            "showbackground": true,
            "ticks": "",
            "zerolinecolor": "white"
           },
           "zaxis": {
            "backgroundcolor": "#E5ECF6",
            "gridcolor": "white",
            "gridwidth": 2,
            "linecolor": "white",
            "showbackground": true,
            "ticks": "",
            "zerolinecolor": "white"
           }
          },
          "shapedefaults": {
           "line": {
            "color": "#2a3f5f"
           }
          },
          "ternary": {
           "aaxis": {
            "gridcolor": "white",
            "linecolor": "white",
            "ticks": ""
           },
           "baxis": {
            "gridcolor": "white",
            "linecolor": "white",
            "ticks": ""
           },
           "bgcolor": "#E5ECF6",
           "caxis": {
            "gridcolor": "white",
            "linecolor": "white",
            "ticks": ""
           }
          },
          "title": {
           "x": 0.05
          },
          "xaxis": {
           "automargin": true,
           "gridcolor": "white",
           "linecolor": "white",
           "ticks": "",
           "zerolinecolor": "white",
           "zerolinewidth": 2
          },
          "yaxis": {
           "automargin": true,
           "gridcolor": "white",
           "linecolor": "white",
           "ticks": "",
           "zerolinecolor": "white",
           "zerolinewidth": 2
          }
         }
        }
       }
      },
      "text/html": [
       "<div>\n",
       "        \n",
       "        \n",
       "            <div id=\"62de74c9-4e7a-4858-ba08-e55bc5cbd3a8\" class=\"plotly-graph-div\" style=\"height:525px; width:100%;\"></div>\n",
       "            <script type=\"text/javascript\">\n",
       "                require([\"plotly\"], function(Plotly) {\n",
       "                    window.PLOTLYENV=window.PLOTLYENV || {};\n",
       "                    \n",
       "                if (document.getElementById(\"62de74c9-4e7a-4858-ba08-e55bc5cbd3a8\")) {\n",
       "                    Plotly.newPlot(\n",
       "                        '62de74c9-4e7a-4858-ba08-e55bc5cbd3a8',\n",
       "                        [{\"mode\": \"lines+markers\", \"name\": \"tp\", \"type\": \"scatter\", \"x\": [0.0, 0.0, 0.0, 0.0, 0.0, 0.0, 0.0, 0.0, 0.0, 0.0, 0.0, 0.0, 0.0, 0.0, 0.0, 0.0, 0.0, 0.0, 0.0, 0.0, 0.0, 0.0, 0.0, 0.0, 0.0, 0.0, 0.0, 0.0, 0.0, 0.0, 0.0, 0.0, 0.0, 0.0, 0.0, 0.0, 0.0, 0.0, 0.0, 0.0, 0.0, 0.0, 0.0, 0.0, 0.0, 0.0, 0.0, 0.0, 0.0, 0.0, 0.0, 0.0, 0.0, 0.0, 0.0, 0.0, 0.0, 0.0, 0.0005530973451327434, 0.0005530973451327434, 0.0005530973451327434, 0.0005530973451327434, 0.0005530973451327434, 0.0005530973451327434, 0.0005530973451327434, 0.0005530973451327434, 0.0005530973451327434, 0.0005530973451327434, 0.0005530973451327434, 0.0005530973451327434, 0.0005530973451327434, 0.0005530973451327434, 0.0011061946902654867, 0.0011061946902654867, 0.0011061946902654867, 0.0011061946902654867, 0.0011061946902654867, 0.0011061946902654867, 0.0011061946902654867, 0.0011061946902654867, 0.0011061946902654867, 0.0011061946902654867, 0.0011061946902654867, 0.0011061946902654867, 0.0011061946902654867, 0.0011061946902654867, 0.0011061946902654867, 0.0011061946902654867, 0.0011061946902654867, 0.0011061946902654867, 0.0011061946902654867, 0.0011061946902654867, 0.00165929203539823, 0.00165929203539823, 0.0022123893805309734, 0.0022123893805309734, 0.0027654867256637168, 0.0027654867256637168, 0.00331858407079646, 0.00331858407079646, 0.0038716814159292035, 0.0038716814159292035, 0.004424778761061947, 0.004424778761061947, 0.00497787610619469, 0.00497787610619469, 0.006084070796460177, 0.006084070796460177, 0.00663716814159292, 0.00663716814159292, 0.007190265486725664, 0.007190265486725664, 0.007743362831858407, 0.007743362831858407, 0.008296460176991151, 0.008296460176991151, 0.008849557522123894, 0.008849557522123894, 0.009402654867256638, 0.009402654867256638, 0.00995575221238938, 0.00995575221238938, 0.010508849557522125, 0.010508849557522125, 0.011061946902654867, 0.011061946902654867, 0.011615044247787611, 0.011615044247787611, 0.01327433628318584, 0.01327433628318584, 0.013827433628318585, 0.013827433628318585, 0.014933628318584071, 0.014933628318584071, 0.016039823008849558, 0.016039823008849558, 0.017146017699115043, 0.017146017699115043, 0.019358407079646017, 0.019358407079646017, 0.01991150442477876, 0.01991150442477876, 0.023783185840707963, 0.023783185840707963, 0.024889380530973452, 0.024889380530973452, 0.025442477876106196, 0.025442477876106196, 0.027101769911504425, 0.027101769911504425, 0.03152654867256637, 0.03152654867256637, 0.032079646017699116, 0.032079646017699116, 0.03705752212389381, 0.03705752212389381, 0.04092920353982301, 0.04092920353982301, 0.04424778761061947, 0.04424778761061947, 0.056969026548672565, 0.056969026548672565, 0.0625, 0.0625, 0.07190265486725664, 0.07190265486725664, 0.07245575221238938, 0.07245575221238938, 0.07411504424778761, 0.07411504424778761, 0.07798672566371681, 0.07798672566371681, 0.08462389380530974, 0.08573008849557522, 0.08573008849557522, 0.09845132743362832, 0.09845132743362832, 0.10232300884955753, 0.10232300884955753, 0.11780973451327434, 0.11780973451327434, 0.16426991150442477, 0.16426991150442477, 0.17809734513274336, 0.17809734513274336, 0.25110619469026546, 0.25110619469026546, 0.3567477876106195, 0.3567477876106195, 0.3606194690265487, 0.3606194690265487, 0.4319690265486726, 0.43307522123893805, 0.6144911504424779, 0.6144911504424779, 0.7223451327433629, 0.7223451327433629, 0.9209070796460177, 0.9209070796460177, 1.0], \"y\": [0.0, 0.0011467889908256881, 0.0194954128440367, 0.021788990825688075, 0.022935779816513763, 0.026376146788990827, 0.03555045871559633, 0.04128440366972477, 0.04357798165137615, 0.04472477064220184, 0.04931192660550459, 0.05045871559633028, 0.05389908256880734, 0.05733944954128441, 0.05963302752293578, 0.06077981651376147, 0.06307339449541284, 0.06536697247706422, 0.0676605504587156, 0.09059633027522936, 0.09174311926605505, 0.09403669724770643, 0.09977064220183486, 0.10550458715596331, 0.11697247706422019, 0.11926605504587157, 0.12270642201834862, 0.125, 0.13188073394495411, 0.1353211009174312, 0.13646788990825687, 0.14105504587155962, 0.14564220183486237, 0.14793577981651376, 0.1628440366972477, 0.16857798165137614, 0.1720183486238532, 0.17775229357798164, 0.1811926605504587, 0.18922018348623854, 0.1915137614678899, 0.1938073394495413, 0.19839449541284404, 0.2190366972477064, 0.22018348623853212, 0.22247706422018348, 0.22821100917431192, 0.22935779816513763, 0.23509174311926606, 0.23738532110091742, 0.2511467889908257, 0.2545871559633027, 0.2603211009174312, 0.2626146788990826, 0.26490825688073394, 0.268348623853211, 0.2694954128440367, 0.2717889908256881, 0.286697247706422, 0.29243119266055045, 0.2947247706422018, 0.30045871559633025, 0.30275229357798167, 0.3084862385321101, 0.3130733944954128, 0.31536697247706424, 0.31880733944954126, 0.31995412844036697, 0.32224770642201833, 0.33142201834862384, 0.33371559633027525, 0.36123853211009177, 0.36123853211009177, 0.36353211009174313, 0.3658256880733945, 0.3669724770642202, 0.39105504587155965, 0.393348623853211, 0.4243119266055046, 0.42660550458715596, 0.43004587155963303, 0.43922018348623854, 0.4426605504587156, 0.44724770642201833, 0.45871559633027525, 0.4919724770642202, 0.49426605504587157, 0.5103211009174312, 0.5126146788990825, 0.5814220183486238, 0.591743119266055, 0.6628440366972477, 0.6628440366972477, 0.6674311926605505, 0.6674311926605505, 0.7041284403669725, 0.7041284403669725, 0.7121559633027523, 0.7121559633027523, 0.7637614678899083, 0.7637614678899083, 0.7844036697247706, 0.7844036697247706, 0.8211009174311926, 0.8211009174311926, 0.8337155963302753, 0.8337155963302753, 0.8440366972477065, 0.8440366972477065, 0.8738532110091743, 0.8738532110091743, 0.8967889908256881, 0.8967889908256881, 0.9094036697247706, 0.9094036697247706, 0.9197247706422018, 0.9197247706422018, 0.9208715596330275, 0.9208715596330275, 0.9231651376146789, 0.9231651376146789, 0.9461009174311926, 0.9461009174311926, 0.9472477064220184, 0.9472477064220184, 0.948394495412844, 0.948394495412844, 0.9495412844036697, 0.9495412844036697, 0.9506880733944955, 0.9506880733944955, 0.9529816513761468, 0.9529816513761468, 0.9541284403669725, 0.9541284403669725, 0.9564220183486238, 0.9564220183486238, 0.9610091743119266, 0.9610091743119266, 0.9621559633027523, 0.9621559633027523, 0.963302752293578, 0.963302752293578, 0.9644495412844036, 0.9644495412844036, 0.9655963302752294, 0.9655963302752294, 0.966743119266055, 0.966743119266055, 0.9690366972477065, 0.9690366972477065, 0.9713302752293578, 0.9713302752293578, 0.9724770642201835, 0.9724770642201835, 0.9736238532110092, 0.9736238532110092, 0.9759174311926605, 0.9759174311926605, 0.9770642201834863, 0.9770642201834863, 0.9782110091743119, 0.9782110091743119, 0.9805045871559633, 0.9805045871559633, 0.981651376146789, 0.981651376146789, 0.9827981651376146, 0.9827981651376146, 0.9839449541284404, 0.9839449541284404, 0.9850917431192661, 0.9850917431192661, 0.9862385321100917, 0.9873853211009175, 0.9873853211009175, 0.9885321100917431, 0.9885321100917431, 0.9896788990825688, 0.9896788990825688, 0.9908256880733946, 0.9908256880733946, 0.9919724770642202, 0.9919724770642202, 0.9931192660550459, 0.9931192660550459, 0.9942660550458715, 0.9942660550458715, 0.9954128440366973, 0.9954128440366973, 0.9965596330275229, 0.9965596330275229, 0.9965596330275229, 0.9965596330275229, 0.9977064220183486, 0.9977064220183486, 0.9988532110091743, 0.9988532110091743, 1.0, 1.0]}, {\"mode\": \"lines+markers\", \"name\": \"fp\", \"type\": \"scatter\", \"x\": [0.0, 0.0, 0.0, 0.0, 0.0, 0.0, 0.0, 0.0, 0.0, 0.0, 0.0, 0.0, 0.0, 0.0, 0.0, 0.0, 0.0, 0.0, 0.0, 0.0, 0.0, 0.0, 0.0, 0.0, 0.0, 0.0, 0.0, 0.0, 0.0, 0.0, 0.0, 0.0, 0.0, 0.0, 0.0, 0.0, 0.0, 0.0, 0.0, 0.0, 0.0, 0.0, 0.0, 0.0, 0.0, 0.0, 0.0, 0.0, 0.0, 0.0, 0.0, 0.0, 0.0, 0.0, 0.0, 0.0, 0.0, 0.0, 0.0005530973451327434, 0.0005530973451327434, 0.0005530973451327434, 0.0005530973451327434, 0.0005530973451327434, 0.0005530973451327434, 0.0005530973451327434, 0.0005530973451327434, 0.0005530973451327434, 0.0005530973451327434, 0.0005530973451327434, 0.0005530973451327434, 0.0005530973451327434, 0.0005530973451327434, 0.0011061946902654867, 0.0011061946902654867, 0.0011061946902654867, 0.0011061946902654867, 0.0011061946902654867, 0.0011061946902654867, 0.0011061946902654867, 0.0011061946902654867, 0.0011061946902654867, 0.0011061946902654867, 0.0011061946902654867, 0.0011061946902654867, 0.0011061946902654867, 0.0011061946902654867, 0.0011061946902654867, 0.0011061946902654867, 0.0011061946902654867, 0.0011061946902654867, 0.0011061946902654867, 0.0011061946902654867, 0.00165929203539823, 0.00165929203539823, 0.0022123893805309734, 0.0022123893805309734, 0.0027654867256637168, 0.0027654867256637168, 0.00331858407079646, 0.00331858407079646, 0.0038716814159292035, 0.0038716814159292035, 0.004424778761061947, 0.004424778761061947, 0.00497787610619469, 0.00497787610619469, 0.006084070796460177, 0.006084070796460177, 0.00663716814159292, 0.00663716814159292, 0.007190265486725664, 0.007190265486725664, 0.007743362831858407, 0.007743362831858407, 0.008296460176991151, 0.008296460176991151, 0.008849557522123894, 0.008849557522123894, 0.009402654867256638, 0.009402654867256638, 0.00995575221238938, 0.00995575221238938, 0.010508849557522125, 0.010508849557522125, 0.011061946902654867, 0.011061946902654867, 0.011615044247787611, 0.011615044247787611, 0.01327433628318584, 0.01327433628318584, 0.013827433628318585, 0.013827433628318585, 0.014933628318584071, 0.014933628318584071, 0.016039823008849558, 0.016039823008849558, 0.017146017699115043, 0.017146017699115043, 0.019358407079646017, 0.019358407079646017, 0.01991150442477876, 0.01991150442477876, 0.023783185840707963, 0.023783185840707963, 0.024889380530973452, 0.024889380530973452, 0.025442477876106196, 0.025442477876106196, 0.027101769911504425, 0.027101769911504425, 0.03152654867256637, 0.03152654867256637, 0.032079646017699116, 0.032079646017699116, 0.03705752212389381, 0.03705752212389381, 0.04092920353982301, 0.04092920353982301, 0.04424778761061947, 0.04424778761061947, 0.056969026548672565, 0.056969026548672565, 0.0625, 0.0625, 0.07190265486725664, 0.07190265486725664, 0.07245575221238938, 0.07245575221238938, 0.07411504424778761, 0.07411504424778761, 0.07798672566371681, 0.07798672566371681, 0.08462389380530974, 0.08573008849557522, 0.08573008849557522, 0.09845132743362832, 0.09845132743362832, 0.10232300884955753, 0.10232300884955753, 0.11780973451327434, 0.11780973451327434, 0.16426991150442477, 0.16426991150442477, 0.17809734513274336, 0.17809734513274336, 0.25110619469026546, 0.25110619469026546, 0.3567477876106195, 0.3567477876106195, 0.3606194690265487, 0.3606194690265487, 0.4319690265486726, 0.43307522123893805, 0.6144911504424779, 0.6144911504424779, 0.7223451327433629, 0.7223451327433629, 0.9209070796460177, 0.9209070796460177, 1.0], \"y\": [0.0, 0.0, 0.0, 0.0, 0.0, 0.0, 0.0, 0.0, 0.0, 0.0, 0.0, 0.0, 0.0, 0.0, 0.0, 0.0, 0.0, 0.0, 0.0, 0.0, 0.0, 0.0, 0.0, 0.0, 0.0, 0.0, 0.0, 0.0, 0.0, 0.0, 0.0, 0.0, 0.0, 0.0, 0.0, 0.0, 0.0, 0.0, 0.0, 0.0, 0.0, 0.0, 0.0, 0.0, 0.0, 0.0, 0.0, 0.0, 0.0, 0.0, 0.0, 0.0, 0.0, 0.0, 0.0, 0.0, 0.0, 0.0, 0.0005530973451327434, 0.0005530973451327434, 0.0005530973451327434, 0.0005530973451327434, 0.0005530973451327434, 0.0005530973451327434, 0.0005530973451327434, 0.0005530973451327434, 0.0005530973451327434, 0.0005530973451327434, 0.0005530973451327434, 0.0005530973451327434, 0.0005530973451327434, 0.0005530973451327434, 0.0011061946902654867, 0.0011061946902654867, 0.0011061946902654867, 0.0011061946902654867, 0.0011061946902654867, 0.0011061946902654867, 0.0011061946902654867, 0.0011061946902654867, 0.0011061946902654867, 0.0011061946902654867, 0.0011061946902654867, 0.0011061946902654867, 0.0011061946902654867, 0.0011061946902654867, 0.0011061946902654867, 0.0011061946902654867, 0.0011061946902654867, 0.0011061946902654867, 0.0011061946902654867, 0.0011061946902654867, 0.00165929203539823, 0.00165929203539823, 0.0022123893805309734, 0.0022123893805309734, 0.0027654867256637168, 0.0027654867256637168, 0.00331858407079646, 0.00331858407079646, 0.0038716814159292035, 0.0038716814159292035, 0.004424778761061947, 0.004424778761061947, 0.00497787610619469, 0.00497787610619469, 0.006084070796460177, 0.006084070796460177, 0.00663716814159292, 0.00663716814159292, 0.007190265486725664, 0.007190265486725664, 0.007743362831858407, 0.007743362831858407, 0.008296460176991151, 0.008296460176991151, 0.008849557522123894, 0.008849557522123894, 0.009402654867256638, 0.009402654867256638, 0.00995575221238938, 0.00995575221238938, 0.010508849557522125, 0.010508849557522125, 0.011061946902654867, 0.011061946902654867, 0.011615044247787611, 0.011615044247787611, 0.01327433628318584, 0.01327433628318584, 0.013827433628318585, 0.013827433628318585, 0.014933628318584071, 0.014933628318584071, 0.016039823008849558, 0.016039823008849558, 0.017146017699115043, 0.017146017699115043, 0.019358407079646017, 0.019358407079646017, 0.01991150442477876, 0.01991150442477876, 0.023783185840707963, 0.023783185840707963, 0.024889380530973452, 0.024889380530973452, 0.025442477876106196, 0.025442477876106196, 0.027101769911504425, 0.027101769911504425, 0.03152654867256637, 0.03152654867256637, 0.032079646017699116, 0.032079646017699116, 0.03705752212389381, 0.03705752212389381, 0.04092920353982301, 0.04092920353982301, 0.04424778761061947, 0.04424778761061947, 0.056969026548672565, 0.056969026548672565, 0.0625, 0.0625, 0.07190265486725664, 0.07190265486725664, 0.07245575221238938, 0.07245575221238938, 0.07411504424778761, 0.07411504424778761, 0.07798672566371681, 0.07798672566371681, 0.08462389380530974, 0.08573008849557522, 0.08573008849557522, 0.09845132743362832, 0.09845132743362832, 0.10232300884955753, 0.10232300884955753, 0.11780973451327434, 0.11780973451327434, 0.16426991150442477, 0.16426991150442477, 0.17809734513274336, 0.17809734513274336, 0.25110619469026546, 0.25110619469026546, 0.3567477876106195, 0.3567477876106195, 0.3606194690265487, 0.3606194690265487, 0.4319690265486726, 0.43307522123893805, 0.6144911504424779, 0.6144911504424779, 0.7223451327433629, 0.7223451327433629, 0.9209070796460177, 0.9209070796460177, 1.0]}],\n",
       "                        {\"template\": {\"data\": {\"bar\": [{\"error_x\": {\"color\": \"#2a3f5f\"}, \"error_y\": {\"color\": \"#2a3f5f\"}, \"marker\": {\"line\": {\"color\": \"#E5ECF6\", \"width\": 0.5}}, \"type\": \"bar\"}], \"barpolar\": [{\"marker\": {\"line\": {\"color\": \"#E5ECF6\", \"width\": 0.5}}, \"type\": \"barpolar\"}], \"carpet\": [{\"aaxis\": {\"endlinecolor\": \"#2a3f5f\", \"gridcolor\": \"white\", \"linecolor\": \"white\", \"minorgridcolor\": \"white\", \"startlinecolor\": \"#2a3f5f\"}, \"baxis\": {\"endlinecolor\": \"#2a3f5f\", \"gridcolor\": \"white\", \"linecolor\": \"white\", \"minorgridcolor\": \"white\", \"startlinecolor\": \"#2a3f5f\"}, \"type\": \"carpet\"}], \"choropleth\": [{\"colorbar\": {\"outlinewidth\": 0, \"ticks\": \"\"}, \"type\": \"choropleth\"}], \"contour\": [{\"colorbar\": {\"outlinewidth\": 0, \"ticks\": \"\"}, \"colorscale\": [[0.0, \"#0d0887\"], [0.1111111111111111, \"#46039f\"], [0.2222222222222222, \"#7201a8\"], [0.3333333333333333, \"#9c179e\"], [0.4444444444444444, \"#bd3786\"], [0.5555555555555556, \"#d8576b\"], [0.6666666666666666, \"#ed7953\"], [0.7777777777777778, \"#fb9f3a\"], [0.8888888888888888, \"#fdca26\"], [1.0, \"#f0f921\"]], \"type\": \"contour\"}], \"contourcarpet\": [{\"colorbar\": {\"outlinewidth\": 0, \"ticks\": \"\"}, \"type\": \"contourcarpet\"}], \"heatmap\": [{\"colorbar\": {\"outlinewidth\": 0, \"ticks\": \"\"}, \"colorscale\": [[0.0, \"#0d0887\"], [0.1111111111111111, \"#46039f\"], [0.2222222222222222, \"#7201a8\"], [0.3333333333333333, \"#9c179e\"], [0.4444444444444444, \"#bd3786\"], [0.5555555555555556, \"#d8576b\"], [0.6666666666666666, \"#ed7953\"], [0.7777777777777778, \"#fb9f3a\"], [0.8888888888888888, \"#fdca26\"], [1.0, \"#f0f921\"]], \"type\": \"heatmap\"}], \"heatmapgl\": [{\"colorbar\": {\"outlinewidth\": 0, \"ticks\": \"\"}, \"colorscale\": [[0.0, \"#0d0887\"], [0.1111111111111111, \"#46039f\"], [0.2222222222222222, \"#7201a8\"], [0.3333333333333333, \"#9c179e\"], [0.4444444444444444, \"#bd3786\"], [0.5555555555555556, \"#d8576b\"], [0.6666666666666666, \"#ed7953\"], [0.7777777777777778, \"#fb9f3a\"], [0.8888888888888888, \"#fdca26\"], [1.0, \"#f0f921\"]], \"type\": \"heatmapgl\"}], \"histogram\": [{\"marker\": {\"colorbar\": {\"outlinewidth\": 0, \"ticks\": \"\"}}, \"type\": \"histogram\"}], \"histogram2d\": [{\"colorbar\": {\"outlinewidth\": 0, \"ticks\": \"\"}, \"colorscale\": [[0.0, \"#0d0887\"], [0.1111111111111111, \"#46039f\"], [0.2222222222222222, \"#7201a8\"], [0.3333333333333333, \"#9c179e\"], [0.4444444444444444, \"#bd3786\"], [0.5555555555555556, \"#d8576b\"], [0.6666666666666666, \"#ed7953\"], [0.7777777777777778, \"#fb9f3a\"], [0.8888888888888888, \"#fdca26\"], [1.0, \"#f0f921\"]], \"type\": \"histogram2d\"}], \"histogram2dcontour\": [{\"colorbar\": {\"outlinewidth\": 0, \"ticks\": \"\"}, \"colorscale\": [[0.0, \"#0d0887\"], [0.1111111111111111, \"#46039f\"], [0.2222222222222222, \"#7201a8\"], [0.3333333333333333, \"#9c179e\"], [0.4444444444444444, \"#bd3786\"], [0.5555555555555556, \"#d8576b\"], [0.6666666666666666, \"#ed7953\"], [0.7777777777777778, \"#fb9f3a\"], [0.8888888888888888, \"#fdca26\"], [1.0, \"#f0f921\"]], \"type\": \"histogram2dcontour\"}], \"mesh3d\": [{\"colorbar\": {\"outlinewidth\": 0, \"ticks\": \"\"}, \"type\": \"mesh3d\"}], \"parcoords\": [{\"line\": {\"colorbar\": {\"outlinewidth\": 0, \"ticks\": \"\"}}, \"type\": \"parcoords\"}], \"scatter\": [{\"marker\": {\"colorbar\": {\"outlinewidth\": 0, \"ticks\": \"\"}}, \"type\": \"scatter\"}], \"scatter3d\": [{\"line\": {\"colorbar\": {\"outlinewidth\": 0, \"ticks\": \"\"}}, \"marker\": {\"colorbar\": {\"outlinewidth\": 0, \"ticks\": \"\"}}, \"type\": \"scatter3d\"}], \"scattercarpet\": [{\"marker\": {\"colorbar\": {\"outlinewidth\": 0, \"ticks\": \"\"}}, \"type\": \"scattercarpet\"}], \"scattergeo\": [{\"marker\": {\"colorbar\": {\"outlinewidth\": 0, \"ticks\": \"\"}}, \"type\": \"scattergeo\"}], \"scattergl\": [{\"marker\": {\"colorbar\": {\"outlinewidth\": 0, \"ticks\": \"\"}}, \"type\": \"scattergl\"}], \"scattermapbox\": [{\"marker\": {\"colorbar\": {\"outlinewidth\": 0, \"ticks\": \"\"}}, \"type\": \"scattermapbox\"}], \"scatterpolar\": [{\"marker\": {\"colorbar\": {\"outlinewidth\": 0, \"ticks\": \"\"}}, \"type\": \"scatterpolar\"}], \"scatterpolargl\": [{\"marker\": {\"colorbar\": {\"outlinewidth\": 0, \"ticks\": \"\"}}, \"type\": \"scatterpolargl\"}], \"scatterternary\": [{\"marker\": {\"colorbar\": {\"outlinewidth\": 0, \"ticks\": \"\"}}, \"type\": \"scatterternary\"}], \"surface\": [{\"colorbar\": {\"outlinewidth\": 0, \"ticks\": \"\"}, \"colorscale\": [[0.0, \"#0d0887\"], [0.1111111111111111, \"#46039f\"], [0.2222222222222222, \"#7201a8\"], [0.3333333333333333, \"#9c179e\"], [0.4444444444444444, \"#bd3786\"], [0.5555555555555556, \"#d8576b\"], [0.6666666666666666, \"#ed7953\"], [0.7777777777777778, \"#fb9f3a\"], [0.8888888888888888, \"#fdca26\"], [1.0, \"#f0f921\"]], \"type\": \"surface\"}], \"table\": [{\"cells\": {\"fill\": {\"color\": \"#EBF0F8\"}, \"line\": {\"color\": \"white\"}}, \"header\": {\"fill\": {\"color\": \"#C8D4E3\"}, \"line\": {\"color\": \"white\"}}, \"type\": \"table\"}]}, \"layout\": {\"annotationdefaults\": {\"arrowcolor\": \"#2a3f5f\", \"arrowhead\": 0, \"arrowwidth\": 1}, \"colorscale\": {\"diverging\": [[0, \"#8e0152\"], [0.1, \"#c51b7d\"], [0.2, \"#de77ae\"], [0.3, \"#f1b6da\"], [0.4, \"#fde0ef\"], [0.5, \"#f7f7f7\"], [0.6, \"#e6f5d0\"], [0.7, \"#b8e186\"], [0.8, \"#7fbc41\"], [0.9, \"#4d9221\"], [1, \"#276419\"]], \"sequential\": [[0.0, \"#0d0887\"], [0.1111111111111111, \"#46039f\"], [0.2222222222222222, \"#7201a8\"], [0.3333333333333333, \"#9c179e\"], [0.4444444444444444, \"#bd3786\"], [0.5555555555555556, \"#d8576b\"], [0.6666666666666666, \"#ed7953\"], [0.7777777777777778, \"#fb9f3a\"], [0.8888888888888888, \"#fdca26\"], [1.0, \"#f0f921\"]], \"sequentialminus\": [[0.0, \"#0d0887\"], [0.1111111111111111, \"#46039f\"], [0.2222222222222222, \"#7201a8\"], [0.3333333333333333, \"#9c179e\"], [0.4444444444444444, \"#bd3786\"], [0.5555555555555556, \"#d8576b\"], [0.6666666666666666, \"#ed7953\"], [0.7777777777777778, \"#fb9f3a\"], [0.8888888888888888, \"#fdca26\"], [1.0, \"#f0f921\"]]}, \"colorway\": [\"#636efa\", \"#EF553B\", \"#00cc96\", \"#ab63fa\", \"#FFA15A\", \"#19d3f3\", \"#FF6692\", \"#B6E880\", \"#FF97FF\", \"#FECB52\"], \"font\": {\"color\": \"#2a3f5f\"}, \"geo\": {\"bgcolor\": \"white\", \"lakecolor\": \"white\", \"landcolor\": \"#E5ECF6\", \"showlakes\": true, \"showland\": true, \"subunitcolor\": \"white\"}, \"hoverlabel\": {\"align\": \"left\"}, \"hovermode\": \"closest\", \"mapbox\": {\"style\": \"light\"}, \"paper_bgcolor\": \"white\", \"plot_bgcolor\": \"#E5ECF6\", \"polar\": {\"angularaxis\": {\"gridcolor\": \"white\", \"linecolor\": \"white\", \"ticks\": \"\"}, \"bgcolor\": \"#E5ECF6\", \"radialaxis\": {\"gridcolor\": \"white\", \"linecolor\": \"white\", \"ticks\": \"\"}}, \"scene\": {\"xaxis\": {\"backgroundcolor\": \"#E5ECF6\", \"gridcolor\": \"white\", \"gridwidth\": 2, \"linecolor\": \"white\", \"showbackground\": true, \"ticks\": \"\", \"zerolinecolor\": \"white\"}, \"yaxis\": {\"backgroundcolor\": \"#E5ECF6\", \"gridcolor\": \"white\", \"gridwidth\": 2, \"linecolor\": \"white\", \"showbackground\": true, \"ticks\": \"\", \"zerolinecolor\": \"white\"}, \"zaxis\": {\"backgroundcolor\": \"#E5ECF6\", \"gridcolor\": \"white\", \"gridwidth\": 2, \"linecolor\": \"white\", \"showbackground\": true, \"ticks\": \"\", \"zerolinecolor\": \"white\"}}, \"shapedefaults\": {\"line\": {\"color\": \"#2a3f5f\"}}, \"ternary\": {\"aaxis\": {\"gridcolor\": \"white\", \"linecolor\": \"white\", \"ticks\": \"\"}, \"baxis\": {\"gridcolor\": \"white\", \"linecolor\": \"white\", \"ticks\": \"\"}, \"bgcolor\": \"#E5ECF6\", \"caxis\": {\"gridcolor\": \"white\", \"linecolor\": \"white\", \"ticks\": \"\"}}, \"title\": {\"x\": 0.05}, \"xaxis\": {\"automargin\": true, \"gridcolor\": \"white\", \"linecolor\": \"white\", \"ticks\": \"\", \"zerolinecolor\": \"white\", \"zerolinewidth\": 2}, \"yaxis\": {\"automargin\": true, \"gridcolor\": \"white\", \"linecolor\": \"white\", \"ticks\": \"\", \"zerolinecolor\": \"white\", \"zerolinewidth\": 2}}}},\n",
       "                        {\"responsive\": true}\n",
       "                    ).then(function(){\n",
       "                            \n",
       "var gd = document.getElementById('62de74c9-4e7a-4858-ba08-e55bc5cbd3a8');\n",
       "var x = new MutationObserver(function (mutations, observer) {{\n",
       "        var display = window.getComputedStyle(gd).display;\n",
       "        if (!display || display === 'none') {{\n",
       "            console.log([gd, 'removed!']);\n",
       "            Plotly.purge(gd);\n",
       "            observer.disconnect();\n",
       "        }}\n",
       "}});\n",
       "\n",
       "// Listen for the removal of the full notebook cells\n",
       "var notebookContainer = gd.closest('#notebook-container');\n",
       "if (notebookContainer) {{\n",
       "    x.observe(notebookContainer, {childList: true});\n",
       "}}\n",
       "\n",
       "// Listen for the clearing of the current output cell\n",
       "var outputEl = gd.closest('.output');\n",
       "if (outputEl) {{\n",
       "    x.observe(outputEl, {childList: true});\n",
       "}}\n",
       "\n",
       "                        })\n",
       "                };\n",
       "                });\n",
       "            </script>\n",
       "        </div>"
      ]
     },
     "metadata": {},
     "output_type": "display_data"
    }
   ],
   "source": [
    "# 绘制roc, 计算auc\n",
    "fpr, tpr, thresholds = roc_curve(y_test, pred)\n",
    "roc_auc = auc(fpr, tpr)\n",
    "print(f'auc{roc_auc}')\n",
    "draw_lines(fpr, [tpr, fpr], ['tp', 'fp'])"
   ]
  },
  {
   "cell_type": "code",
   "execution_count": 17,
   "metadata": {},
   "outputs": [
    {
     "data": {
      "text/plain": [
       "array([-7.39681551e-02,  1.54805275e-02,  1.73703583e-01,  1.02684028e-01,\n",
       "       -2.99325889e-01,  4.23062609e-03,  9.05478110e-01, -1.65674532e-01,\n",
       "        8.22282272e-01, -5.18061402e-01, -1.56292964e-02,  1.07491859e+00,\n",
       "        8.54638477e-01,  1.42915681e+00,  1.41727977e+00, -5.31684906e-01,\n",
       "        2.06906380e-01, -2.42923723e-01, -3.51596962e-01,  1.99604187e-03,\n",
       "        2.32753185e+00, -1.29402034e+00, -8.10080444e-03,  3.74225942e-01,\n",
       "       -1.05382562e-01])"
      ]
     },
     "execution_count": 17,
     "metadata": {},
     "output_type": "execute_result"
    }
   ],
   "source": [
    "weight"
   ]
  },
  {
   "cell_type": "code",
   "execution_count": null,
   "metadata": {},
   "outputs": [],
   "source": [
    "### sklearn 逻辑回归结果\n",
    "array([[-0.07349292,  0.02651833,  0.06006925,  0.05488411,\n",
    "        -0.05494073,  0.02156823,  1.45419423, -1.4281623 , \n",
    "        -0.81332124,  0.43560987,  0.05411366,  0.46573722, \n",
    "        -1.42587228,  2.27748505, -0.71848951,  -0.58548616,  \n",
    "        0.81885668,  0.18227067,  1.01951188, -0.01014606,\n",
    "         3.08776385, -1.73645331, -0.02141894,  0.80922805]])\n",
    "array([-6.96266783])"
   ]
  },
  {
   "cell_type": "code",
   "execution_count": null,
   "metadata": {},
   "outputs": [],
   "source": []
  },
  {
   "cell_type": "code",
   "execution_count": null,
   "metadata": {},
   "outputs": [],
   "source": []
  },
  {
   "cell_type": "code",
   "execution_count": null,
   "metadata": {},
   "outputs": [],
   "source": []
  },
  {
   "cell_type": "code",
   "execution_count": null,
   "metadata": {},
   "outputs": [],
   "source": []
  },
  {
   "cell_type": "code",
   "execution_count": null,
   "metadata": {},
   "outputs": [],
   "source": []
  },
  {
   "cell_type": "code",
   "execution_count": null,
   "metadata": {},
   "outputs": [],
   "source": []
  }
 ],
 "metadata": {
  "kernelspec": {
   "display_name": "Python 3",
   "language": "python",
   "name": "python3"
  },
  "language_info": {
   "codemirror_mode": {
    "name": "ipython",
    "version": 3
   },
   "file_extension": ".py",
   "mimetype": "text/x-python",
   "name": "python",
   "nbconvert_exporter": "python",
   "pygments_lexer": "ipython3",
   "version": "3.7.3"
  }
 },
 "nbformat": 4,
 "nbformat_minor": 2
}
